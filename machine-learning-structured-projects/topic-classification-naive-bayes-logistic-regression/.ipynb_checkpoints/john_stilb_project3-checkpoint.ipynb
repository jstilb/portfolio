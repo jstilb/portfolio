{
 "cells": [
  {
   "cell_type": "markdown",
   "metadata": {
    "id": "rWAjdfIsTyhI"
   },
   "source": [
    "# Project 3: Topic Classification using Naive Bayes\n",
    "\n",
    "**Solution**"
   ]
  },
  {
   "cell_type": "markdown",
   "metadata": {
    "id": "p0KwRzrQTyhL"
   },
   "source": [
    "# Intro\n",
    "---\n",
    "In this project, you'll work with text data from newsgroup posts on a variety of topics. You'll train classifiers to distinguish posts by topics inferred from the text. Whereas with digit classification, where each input is relatively **dense** (represented as a 28x28 matrix of pixels, many of which are non-zero), here each document is relatively **sparse** (represented as a **bag-of-words**). Only a few words of the total vocabulary are active in any given document. The assumption is that a label depends only on the count of words, not their order.\n",
    "\n",
    "The `sklearn` documentation on feature extraction may be useful:\n",
    "http://scikit-learn.org/stable/modules/feature_extraction.html\n",
    "\n",
    "Each problem can be addressed succinctly with the included packages -- please don't add any more. Grading will be based on writing clean, commented code, along with a few short answers.\n",
    "\n",
    "As always, you're welcome to work on the project in groups and discuss ideas on Slack, but <b> please prepare your own write-up with your own code. </b>\n",
    "\n",
    "## Grading\n",
    "---\n",
    "- Make sure to answer every part in every question.\n",
    " - There are 7 questions and one extra credit question. \n",
    " - Read carefully what is asked including the notes.\n",
    " - Additional points may be deducted if:\n",
    "   - the code is not clean and well commented, \n",
    "   - and if the functions or answers are too long.\n",
    "\n",
    " ## Requirements:\n",
    "---\n",
    "1. Comment your code.\n",
    "1. All graphs should have titles, label for each axis, and if needed a legend. It should be understandable on its own.\n",
    "1. All code must run on colab.research.google.com\n",
    "1. You should not import any additional libraries.\n",
    "1. Try and minimize the use of the global namespace (meaning keep things in functions).\n",
    "\n"
   ]
  },
  {
   "cell_type": "code",
   "execution_count": 11,
   "metadata": {
    "id": "QNNjknnZTyhN"
   },
   "outputs": [],
   "source": [
    "# This tells matplotlib not to try opening a new window for each plot.\n",
    "%matplotlib inline\n",
    "\n",
    "# General libraries.\n",
    "import re\n",
    "import numpy as np\n",
    "import pandas as pd\n",
    "import matplotlib.pyplot as plt\n",
    "\n",
    "# SK-learn libraries for learning.\n",
    "from sklearn.pipeline import Pipeline\n",
    "from sklearn.neighbors import KNeighborsClassifier\n",
    "from sklearn.linear_model import LogisticRegression\n",
    "from sklearn.naive_bayes import BernoulliNB\n",
    "from sklearn.naive_bayes import MultinomialNB\n",
    "\n",
    "# SK-learn libraries for evaluation.\n",
    "from sklearn.metrics import confusion_matrix\n",
    "from sklearn import metrics\n",
    "from sklearn.metrics import classification_report\n",
    "\n",
    "# SK-learn library for importing the newsgroup data.\n",
    "from sklearn.datasets import fetch_20newsgroups\n",
    "\n",
    "# SK-learn libraries for feature extraction from text.\n",
    "from sklearn.feature_extraction.text import *\n",
    "\n",
    "import nltk"
   ]
  },
  {
   "cell_type": "markdown",
   "metadata": {
    "id": "orEWeRJaTyhO"
   },
   "source": [
    "Load the data, stripping out metadata so that only textual features will be used, and restricting documents to 4 specific topics. By default, newsgroups data is split into training and test sets, but here the test set gets further split into development and test sets.  (If you remove the categories argument from the fetch function calls, you'd get documents from all 20 topics.)"
   ]
  },
  {
   "cell_type": "code",
   "execution_count": 12,
   "metadata": {
    "id": "5b9J-D5DTyhP"
   },
   "outputs": [
    {
     "name": "stdout",
     "output_type": "stream",
     "text": [
      "training label shape: (2034,)\n",
      "dev label shape: (676,)\n",
      "test label shape: (677,)\n",
      "labels names: ['alt.atheism', 'comp.graphics', 'sci.space', 'talk.religion.misc']\n"
     ]
    }
   ],
   "source": [
    "categories = ['alt.atheism', 'talk.religion.misc', 'comp.graphics', 'sci.space']\n",
    "newsgroups_train = fetch_20newsgroups(subset='train',\n",
    "                                      remove=('headers', 'footers', 'quotes'),\n",
    "                                      categories=categories)\n",
    "newsgroups_test  = fetch_20newsgroups(subset='test',\n",
    "                                      remove=('headers', 'footers', 'quotes'),\n",
    "                                      categories=categories)\n",
    "\n",
    "num_test = int(len(newsgroups_test.target) / 2)\n",
    "test_data, test_labels   = newsgroups_test.data[num_test:], newsgroups_test.target[num_test:]\n",
    "dev_data, dev_labels     = newsgroups_test.data[:num_test], newsgroups_test.target[:num_test]\n",
    "train_data, train_labels = newsgroups_train.data, newsgroups_train.target\n",
    "\n",
    "print('training label shape:', train_labels.shape)\n",
    "print('dev label shape:',      dev_labels.shape)\n",
    "print('test label shape:',     test_labels.shape)\n",
    "print('labels names:',         newsgroups_train.target_names)"
   ]
  },
  {
   "cell_type": "markdown",
   "metadata": {
    "id": "zOS6IyT0TyhR"
   },
   "source": [
    "### Question 1: Examining your data\n",
    "---\n",
    "\n",
    " 1. For each of the first 5 training examples, print the text of the message along with the label (checkout newsgroups_train.target_names)."
   ]
  },
  {
   "cell_type": "code",
   "execution_count": 13,
   "metadata": {
    "id": "LFFUipfaTyhS"
   },
   "outputs": [
    {
     "name": "stdout",
     "output_type": "stream",
     "text": [
      "Data: Hi,\n",
      "\n",
      "I've noticed that if you only save a model (with all your mapping planes\n",
      "positioned carefully) to a .3DS file that when you reload it after restarting\n",
      "3DS, they are given a default position and orientation.  But if you save\n",
      "to a .PRJ file their positions/orientation are preserved.  Does anyone\n",
      "know why this information is not stored in the .3DS file?  Nothing is\n",
      "explicitly said in the manual about saving texture rules in the .PRJ file. \n",
      "I'd like to be able to read the texture rule information, does anyone have \n",
      "the format for the .PRJ file?\n",
      "\n",
      "Is the .CEL file format available from somewhere?\n",
      "\n",
      "Rych\n",
      "LabeL: comp.graphics\n",
      "Data: \n",
      "\n",
      "Seems to be, barring evidence to the contrary, that Koresh was simply\n",
      "another deranged fanatic who thought it neccessary to take a whole bunch of\n",
      "folks with him, children and all, to satisfy his delusional mania. Jim\n",
      "Jones, circa 1993.\n",
      "\n",
      "\n",
      "Nope - fruitcakes like Koresh have been demonstrating such evil corruption\n",
      "for centuries.\n",
      "LabeL: talk.religion.misc\n",
      "Data: \n",
      " >In article <1993Apr19.020359.26996@sq.sq.com>, msb@sq.sq.com (Mark Brader) \n",
      "\n",
      "MB>                                                             So the\n",
      "MB> 1970 figure seems unlikely to actually be anything but a perijove.\n",
      "\n",
      "JG>Sorry, _perijoves_...I'm not used to talking this language.\n",
      "\n",
      "Couldn't we just say periapsis or apoapsis?\n",
      "\n",
      " \n",
      "LabeL: sci.space\n",
      "Data: I have a request for those who would like to see Charley Wingate\n",
      "respond to the \"Charley Challenges\" (and judging from my e-mail, there\n",
      "appear to be quite a few of you.)  \n",
      "\n",
      "It is clear that Mr. Wingate intends to continue to post tangential or\n",
      "unrelated articles while ingoring the Challenges themselves.  Between\n",
      "the last two re-postings of the Challenges, I noted perhaps a dozen or\n",
      "more posts by Mr. Wingate, none of which answered a single Challenge.  \n",
      "\n",
      "It seems unmistakable to me that Mr. Wingate hopes that the questions\n",
      "will just go away, and he is doing his level best to change the\n",
      "subject.  Given that this seems a rather common net.theist tactic, I\n",
      "would like to suggest that we impress upon him our desire for answers,\n",
      "in the following manner:\n",
      "\n",
      "1. Ignore any future articles by Mr. Wingate that do not address the\n",
      "Challenges, until he answers them or explictly announces that he\n",
      "refuses to do so.\n",
      "\n",
      "--or--\n",
      "\n",
      "2. If you must respond to one of his articles, include within it\n",
      "something similar to the following:\n",
      "\n",
      "    \"Please answer the questions posed to you in the Charley Challenges.\"\n",
      "\n",
      "Really, I'm not looking to humiliate anyone here, I just want some\n",
      "honest answers.  You wouldn't think that honesty would be too much to\n",
      "ask from a devout Christian, would you?  \n",
      "\n",
      "Nevermind, that was a rhetorical question.\n",
      "LabeL: alt.atheism\n",
      "Data: AW&ST  had a brief blurb on a Manned Lunar Exploration confernce\n",
      "May 7th  at Crystal City Virginia, under the auspices of AIAA.\n",
      "\n",
      "Does anyone know more about this?  How much, to attend????\n",
      "\n",
      "Anyone want to go?\n",
      "LabeL: sci.space\n"
     ]
    }
   ],
   "source": [
    "def Q1(num_examples=5):\n",
    "    \n",
    "    # print x number of training example and their labels\n",
    "    for x in range(num_examples):\n",
    "        print(f\"Data: {train_data[x]}\")\n",
    "        print(f\"LabeL: {newsgroups_train.target_names[train_labels[x]]}\")\n",
    "\n",
    "Q1(5)"
   ]
  },
  {
   "cell_type": "markdown",
   "metadata": {
    "id": "r53zpu-mTyhU"
   },
   "source": [
    "### Question 2: Text representation\n",
    "---\n",
    "\n",
    "1. Transform the training data into a matrix of **word** unigram feature vectors.\n",
    "  1. What is the size of the vocabulary? \n",
    "  1. What is the average number of non-zero features per example?  \n",
    "  1. What is the fraction of the non-zero entries in the matrix?  \n",
    "  1. What are the 0th and last feature strings (in alphabetical order)?\n",
    "  - _Use `CountVectorization` and its `.fit_transform` method.  Use `.nnz` and `.shape` attributes, and `.get_feature_names` method._\n",
    "1. Now transform the training data into a matrix of **word** unigram feature vectors restricting to the vocabulary with these 4 words: [\"atheism\", \"graphics\", \"space\", \"religion\"].  Confirm the size of the vocabulary. \n",
    "  1. What is the average number of non-zero features per example?\n",
    "  - _Use `CountVectorization(vocabulary=...)` and its `.transform` method._\n",
    "1. Now transform the training data into a matrix of **character** bigram and trigram feature vectors.  \n",
    "  1. What is the size of the vocabulary?\n",
    "  - _Use `CountVectorization(analyzer=..., ngram_range=...)` and its `.fit_transform` method._\n",
    "1. Now transform the training data into a matrix of **word** unigram feature vectors and prune words that appear in fewer than 10 documents.  \n",
    "  1. What is the size of the vocabulary?<br/>\n",
    "  - _Use `CountVectorization(min_df=...)` and its `.fit_transform` method._\n",
    "1. Now again transform the training data into a matrix of **word** unigram feature vectors. \n",
    " 1. What is the fraction of words in the development vocabulary that is missing from the training vocabulary?\n",
    " - _Hint: Build vocabularies for both train and dev and look at the size of the difference._\n",
    "\n",
    "Notes:\n",
    "* `.fit_transform` makes 2 passes through the data: first it computes the vocabulary (\"fit\"), second it converts the raw text into feature vectors using the vocabulary (\"transform\").\n",
    "* `.fit_transform` and `.transform` return sparse matrix objects.  See about them at http://docs.scipy.org/doc/scipy-0.14.0/reference/generated/scipy.sparse.csr_matrix.html. "
   ]
  },
  {
   "cell_type": "code",
   "execution_count": 14,
   "metadata": {
    "id": "_xkWZwBVTyhV"
   },
   "outputs": [
    {
     "name": "stdout",
     "output_type": "stream",
     "text": [
      "1a) Vocabulary size: 26879 words\n",
      "1b) Avg Num of Non-Zero Features: 96.71\n",
      "1c) Avg Num of Non-Zero Entries in Matrix: 0.0035978272\n",
      "1d) \n",
      "First Feature: 00\n",
      "Last Feature: zyxel\n",
      "Vocabulary size: 4 words\n",
      "2a) Avg Num of Non-Zero Features: 0.27\n",
      "3a) Vocabulary size: 28954 grams\n",
      "4a) Vocabulary size: 3064 words\n",
      "5a) Fraction of words in dev data missing in training data: 4027/16246\n"
     ]
    }
   ],
   "source": [
    "def Q2():\n",
    "    \n",
    "    # converts training data into word unigram\n",
    "    vectorizer = CountVectorizer()\n",
    "    train_unigram = vectorizer.fit_transform(train_data)\n",
    "    \n",
    "    # 1a) What is the size of the vocabulary?\n",
    "    print(f\"1a) Vocabulary size: {train_unigram.shape[1]} words\")\n",
    "    \n",
    "    # 1b) What is the average number of non-zero features per example?\n",
    "    print(f\"1b) Avg Num of Non-Zero Features: {(train_unigram.nnz / train_unigram.shape[0]):.2f}\")\n",
    "    \n",
    "    # 1c) What is the fraction of the non-zero entries in the matrix?\n",
    "    print(f\"1c) Avg Num of Non-Zero Entries in Matrix: {train_unigram.nnz/(train_unigram.shape[0]*train_unigram.shape[1]):.10f}\")\n",
    "    \n",
    "    # 1d) What are the 0th and last feature strings (in alphabetical order)?\n",
    "    print(f\"1d) \\nFirst Feature: {vectorizer.get_feature_names()[0]}\")\n",
    "    print(f\"Last Feature: {vectorizer.get_feature_names()[-1]}\")\n",
    "    \n",
    "    # coverts training data into word unigram with specified vocab & prints size\n",
    "    vocab = [\"atheism\", \"graphics\", \"space\", \"religion\"]\n",
    "    \n",
    "    vectorizer = CountVectorizer(vocabulary=vocab)\n",
    "    train_unigram = vectorizer.transform(train_data)\n",
    "    \n",
    "    print(f\"Vocabulary size: {train_unigram.shape[1]} words\")\n",
    "    \n",
    "    # 2a) What is the average number of non-zero features per example?\n",
    "    print(f\"2a) Avg Num of Non-Zero Features: {(train_unigram.nnz / train_unigram.shape[0]):.2f}\")\n",
    "    \n",
    "    # converts training data into character bigram/trigram\n",
    "    vectorizer = CountVectorizer(analyzer=\"char_wb\", ngram_range=(2,3))\n",
    "    train_bi_and_trigram = vectorizer.fit_transform(train_data)\n",
    "    \n",
    "    # 3a) What is the size of the vocabulary?\n",
    "    print(f\"3a) Vocabulary size: {train_bi_and_trigram.shape[1]} grams\")\n",
    "    \n",
    "    # 4a) What is the size of the vocabulary?\n",
    "    vectorizer = CountVectorizer(min_df=10)\n",
    "    train_unigram = vectorizer.fit_transform(train_data)\n",
    "    \n",
    "    print(f\"4a) Vocabulary size: {train_unigram.shape[1]} words\")\n",
    "    \n",
    "    # 5a) What is the size of the vocabulary?\n",
    "    vectorizer = CountVectorizer()\n",
    "    train_unigram = vectorizer.fit_transform(train_data)\n",
    "    train_vocab = vectorizer.vocabulary_\n",
    "    \n",
    "    dev_unigram = vectorizer.fit_transform(dev_data)\n",
    "    dev_vocab = vectorizer.vocabulary_\n",
    "    \n",
    "    missing_words = []\n",
    "    \n",
    "    # gets list of words in dev data not in train data\n",
    "    for word in dev_vocab.keys():\n",
    "        if word not in train_vocab.keys():\n",
    "            missing_words.append(word)\n",
    "            \n",
    "    print(f\"5a) Fraction of words in dev data missing in training data: {len(missing_words)}/{len(dev_vocab)}\")\n",
    "\n",
    "    \n",
    "Q2()"
   ]
  },
  {
   "cell_type": "markdown",
   "metadata": {
    "id": "dIaSTL9OTyhX"
   },
   "source": [
    "### Question 3: Initial model evaluation\n",
    "---\n",
    "\n",
    "1. Transform the training and development data to matrices of word unigram feature vectors.\n",
    "1. Produce several k-Nearest Neigbors models by varying k, including one with k set to optimize f1 score.  For each model, show the k value and f1 score. \n",
    "1. Produce several Naive Bayes models by varying smoothing (alpha), including one with alpha set approximately to optimize f1 score.  For each model, show the alpha value and f1 score.\n",
    "1. Produce several Logistic Regression models by varying L2 regularization strength (C), including one with C set approximately to optimize f1 score.  For each model, show the C value, f1 score, and sum of squared weights for each topic.\n",
    "1. Why doesn't k-Nearest Neighbors work well for this problem?\n",
    "1. Why doesn't Logistic Regression work as well as Naive Bayes does?\n",
    "1. What is the relationship between logistic regression's sum of squared weights vs. C value?\n",
    "\n",
    "Notes:\n",
    "* Train on the transformed training data.\n",
    "* Evaluate on the transformed development data.\n",
    "* You can use `CountVectorizer` and its `.fit_transform` and `.transform` methods to transform data.\n",
    "* You can use `KNeighborsClassifier(...)` to produce a k-Nearest Neighbors model.\n",
    "* You can use `MultinomialNB(...)` to produce a Naive Bayes model.\n",
    "* You can use `LogisticRegression(C=..., solver=\"liblinear\", multi_class=\"auto\")` to produce a Logistic Regression model.\n",
    "* You can use `LogisticRegression`'s `.coef_` method to get weights for each topic.\n",
    "* You can use `metrics.f1_score(..., average=\"weighted\")` to compute f1 score."
   ]
  },
  {
   "cell_type": "code",
   "execution_count": 15,
   "metadata": {
    "id": "g9JvhGBRTyhX",
    "scrolled": false
   },
   "outputs": [
    {
     "name": "stdout",
     "output_type": "stream",
     "text": [
      "1-nn f1 score: 0.3689323577122323\n",
      "2-nn f1 score: 0.3632393463992087\n",
      "3-nn f1 score: 0.3942754348634139\n",
      "4-nn f1 score: 0.39131940574852586\n",
      "5-nn f1 score: 0.4146398917578007\n",
      "6-nn f1 score: 0.43346659872073223\n",
      "7-nn f1 score: 0.43709301301130393\n",
      "8-nn f1 score: 0.4342402721490597\n",
      "9-nn f1 score: 0.42330050510183215\n",
      "10-nn f1 score: 0.41341807187900614\n",
      "alpha: 1e-10; f1 score: 0.7248138338108319\n",
      "alpha: 0.0001; f1 score: 0.7416330354794675\n",
      "alpha: 0.001; f1 score: 0.7507743599751797\n",
      "alpha: 0.01; f1 score: 0.7552894198013128\n",
      "alpha: 0.1; f1 score: 0.7725125560163335\n",
      "alpha: 0.5; f1 score: 0.7679465447234101\n",
      "alpha: 1.0; f1 score: 0.7578687619026611\n",
      "alpha: 2.0; f1 score: 0.7470851916538874\n",
      "alpha: 10.0; f1 score: 0.6309710114271204\n",
      "C: 0.001; f1 score: 0.5969753998238786; sum of squared weights: [0.1650934516680815, 0.20095274690581957, 0.18067093754401758, 0.1872427843784896]\n",
      "C: 0.01; f1 score: 0.644890525926666; sum of squared weights: [2.5414867991602503, 2.939709368355932, 2.862468825201327, 2.250028781133443]\n",
      "C: 0.1; f1 score: 0.6794337099161509; sum of squared weights: [27.130852037611387, 24.659054045719305, 27.458767939249693, 23.019900905802686]\n",
      "C: 0.25; f1 score: 0.690858117115979; sum of squared weights: [59.83100271629963, 50.56815870182062, 58.943112150684065, 51.46284630435181]\n",
      "C: 0.5; f1 score: 0.6920151915112704; sum of squared weights: [102.5192775201958, 83.1201747116713, 99.01579559729299, 89.02668328045168]\n",
      "C: 1; f1 score: 0.681318340101208; sum of squared weights: [166.95395795611773, 130.88227128381465, 157.98916367315184, 145.79449950196184]\n",
      "C: 10; f1 score: 0.674150032431885; sum of squared weights: [586.0530255321422, 448.88055574849085, 539.7006053999864, 530.6642945035197]\n",
      "C: 50; f1 score: 0.6689866580018469; sum of squared weights: [1110.6946393376486, 856.0887164049695, 1024.4384440133747, 1033.4003000608889]\n",
      "C: 100; f1 score: 0.6626769103879842; sum of squared weights: [1340.2386144597006, 1098.1477466419026, 1285.4950420464925, 1317.6032737662258]\n",
      "C: 1000; f1 score: 0.6686163027320633; sum of squared weights: [2708.104719320692, 1927.0853475450533, 2455.467675966777, 2522.7810712583255]\n"
     ]
    }
   ],
   "source": [
    "def Q3():\n",
    "    vectorizer = CountVectorizer()\n",
    "    train_unigram = vectorizer.fit_transform(train_data)\n",
    "    dev_unigram = vectorizer.transform(dev_data)\n",
    "    \n",
    "    knns = [x for x in range(1, 11)]\n",
    "    \n",
    "    # creates & scores knn models by varying k\n",
    "    for x in knns:\n",
    "        knn = KNeighborsClassifier(n_neighbors=x)\n",
    "        knn.fit(train_unigram, train_labels)\n",
    "        f1 = metrics.f1_score(dev_labels, knn.predict(dev_unigram), average=\"macro\")\n",
    "        print(f\"{x}-nn f1 score: {f1}\")\n",
    "        \n",
    "    \n",
    "    alphas = [1.0e-10, 0.0001, 0.001, 0.01, 0.1, 0.5, 1.0, 2.0, 10.0]\n",
    "    \n",
    "    # creates & scores multinomial_nb models by varying alphas\n",
    "    for a in alphas:\n",
    "        mnnb = MultinomialNB(alpha=a)\n",
    "        mnnb.fit(train_unigram, train_labels)\n",
    "        f1 = metrics.f1_score(dev_labels, mnnb.predict(dev_unigram), average=\"macro\")\n",
    "        print(f\"alpha: {a}; f1 score: {f1}\")\n",
    "    \n",
    "    \n",
    "    reg_params = [0.001, 0.01, 0.1, 0.25, 0.5, 1, 10, 50, 100, 1000]\n",
    "    \n",
    "    # creates & scores logistic regression models by varying L2 param (C)\n",
    "    for c in reg_params:\n",
    "        log_reg = LogisticRegression(C=c, solver=\"liblinear\", multi_class=\"auto\")\n",
    "        log_reg.fit(train_unigram, train_labels)\n",
    "        f1 = metrics.f1_score(dev_labels, log_reg.predict(dev_unigram), average=\"macro\")\n",
    "        squared_weight_sums = list(map(sum, list((map(lambda x: x**2, log_reg.coef_)))))\n",
    "        print(f\"C: {c}; f1 score: {f1}; sum of squared weights: {squared_weight_sums}\")\n",
    "\n",
    "\n",
    "Q3()"
   ]
  },
  {
   "cell_type": "markdown",
   "metadata": {
    "id": "1K9kU5AETyhY"
   },
   "source": [
    "ANSWER: \\\n",
    "**5) Why doesn't k-Nearest Neighbors work well for this problem?** \\\n",
    "KNN doesn't work well for this model, because the number of features creates an incredibly high dimensional feature space which means points almost never tend to be \"close\" together making classifications difficult.\\\n",
    "\\\n",
    "**6) Why doesn't Logistic Regression work as well as Naive Bayes does?** \\ \n",
    "Even though the naive bayes model assumes independence (which is never the case with language) it is a generative model meaning it reaches its asymptote quicker than a discriminative model such as logitic regression. If our data set was much large, logistic regression would likely perform better.\\\n",
    "\\\n",
    "**7) What is the relationship between logistic regression's sum of squared weights vs. C value?** \\\n",
    "The sum of squared weights increases as C increases, because C is our regularization term meaning when it is smaller we are reducing the magnitude of our features (by lowering their coefficients) and vice versa.\n"
   ]
  },
  {
   "cell_type": "markdown",
   "metadata": {
    "id": "b46HltEPTyhY"
   },
   "source": [
    "### Question 4: Feature exploration\n",
    "---\n",
    "\n",
    "1. Transform the data to a matrix of word **bigram** feature vectors.  Produce a Logistic Regression model.\n",
    "1. For each topic, find the 5 features with the largest weights (not absolute value). If there are no overlaps, you can expect 20 features in total.\n",
    "1. Show a 20 row (features) x 4 column (topics) table of the weights. So, for each of the features (words) found, we show their weight for all topics.\n",
    "1. Do you see any surprising features in this table?\n",
    "\n",
    "Notes:\n",
    "* Train on the transformed training data.\n",
    "* You can use `CountVectorizer` and its `.fit_transform` method to transform data.\n",
    "* You can use `LogisticRegression(C=0.5, solver=\"liblinear\", multi_class=\"auto\")` to produce a Logistic Regression model.\n",
    "* You can use `LogisticRegression`'s `.coef_` method to get weights for each topic.\n",
    "* You can use `np.argsort` to get indices sorted by element value. \n"
   ]
  },
  {
   "cell_type": "code",
   "execution_count": 16,
   "metadata": {
    "id": "DerfvONsTyha"
   },
   "outputs": [
    {
     "name": "stdout",
     "output_type": "stream",
     "text": [
      "               alt.atheism  comp.graphics  sci.space  talk.religion.misc\n",
      "are you           0.446954      -0.248271  -0.097170           -0.305622\n",
      "you are           0.472741      -0.279893  -0.481428            0.028371\n",
      "was just          0.482050      -0.131430  -0.128860           -0.227467\n",
      "cheers kent       0.555719      -0.697906  -0.663778            0.534810\n",
      "claim that        0.605549      -0.199051  -0.274382           -0.140364\n",
      "is there         -0.340882       0.754985  -0.468252           -0.257080\n",
      "out there        -0.274802       0.758676  -0.479008           -0.277087\n",
      "comp graphics    -0.292166       0.801222  -0.370923           -0.285186\n",
      "in advance       -0.459351       0.832569  -0.438487           -0.418455\n",
      "looking for      -0.630341       1.108386  -0.499930           -0.571867\n",
      "it was           -0.203029      -0.309693   0.525347           -0.313552\n",
      "and such         -0.204269      -0.337516   0.590557           -0.218202\n",
      "sci space        -0.258008      -0.329165   0.621135           -0.221246\n",
      "the moon         -0.350563      -0.492718   0.831227           -0.213798\n",
      "the space        -0.268187      -0.530107   0.871165           -0.273844\n",
      "of jesus         -0.091910      -0.173762  -0.212410            0.423756\n",
      "but he           -0.190019      -0.216855  -0.137371            0.491875\n",
      "ignorance is     -0.158011      -0.171070  -0.139576            0.504306\n",
      "the fbi          -0.131974      -0.211354  -0.295320            0.551992\n"
     ]
    }
   ],
   "source": [
    "def Q4():\n",
    "    \n",
    "    # transform training data into bigram vector\n",
    "    vectorizer = CountVectorizer(ngram_range=(2,2))\n",
    "    train_bigram = vectorizer.fit_transform(train_data)\n",
    "    \n",
    "    # create and train model\n",
    "    log_reg = LogisticRegression(C=0.5, solver=\"liblinear\", multi_class=\"auto\")\n",
    "    log_reg.fit(train_bigram, train_labels)\n",
    "\n",
    "    \n",
    "    # create empty array to store top feature indices\n",
    "    top_feature_indices = np.zeros(20, dtype=int)\n",
    "    \n",
    "    # list of topics\n",
    "    topics = newsgroups_train.target_names\n",
    "    \n",
    "    # get indices of top 5 features for each topic\n",
    "    for x in range(len(topics)):\n",
    "        indices = np.argsort(log_reg.coef_[x])[-5:]\n",
    "        top_feature_indices[x*5: (x+1)*5] = indices\n",
    "    \n",
    "    # create empty dictionary to store coefficients for each topic\n",
    "    coefs = dict()\n",
    "    \n",
    "    # get the 20 coefficients for each topic\n",
    "    for topic in topics:\n",
    "        coefs[topic] = log_reg.coef_[topics.index(topic), top_feature_indices]\n",
    "    \n",
    "    # get words corresponding to top feature indices\n",
    "    vocab = np.array(vectorizer.get_feature_names())\n",
    "    \n",
    "    # create & print table of words and their coefficients for each topic\n",
    "    df = pd.DataFrame(coefs, index=vocab[top_feature_indices])\n",
    "    df = df.drop_duplicates()   # drops duplicate rows\n",
    "    print(df)\n",
    "    \n",
    "\n",
    "Q4()"
   ]
  },
  {
   "cell_type": "markdown",
   "metadata": {
    "id": "odPhAx_yTyhb"
   },
   "source": [
    "ANSWER: \\\n",
    "There are a couple of surprising features in the table: \n",
    "- \"the fbi\" has a strong coefficient for talk.religion.misc which doesn't seems strange in a religious topic.\n",
    "- \"cheers kent\" has strong coefficients in both alt.atheism and talk.religion.misc which are similar in the essence of belief, but differ strongly in what that belief is. "
   ]
  },
  {
   "cell_type": "markdown",
   "metadata": {
    "id": "UNC3BCjUTyhb"
   },
   "source": [
    "### Question 5: Pre-processing for text\n",
    "---\n",
    "\n",
    "To improve generalization, it is common to try preprocessing text in various ways before splitting into words. For example, you could try transforming strings to lower case, replacing sequences of numbers with single tokens, removing various non-letter characters, and shortening long words.\n",
    "\n",
    "1. Produce a Logistic Regression model (with no preprocessing of text). **Note that you may need to override the \"default\" preprocessing with an identity function**. Evaluate and show its f1 score and size of the dictionary.\n",
    "1. Produce an improved Logistic Regression model by preprocessing the text. Evaluate and show its f1 score and size of the vocabulary.  Aim for an improvement in f1 score of 0.02. **Note: this is actually very hard**.\n",
    "1. How much did the improved model reduce the vocabulary size?\n",
    "\n",
    "Notes:\n",
    "* Things you can try: ** ???: Anything else we can suggest** \n",
    " - Look at default pre-processing done.\n",
    " - Removing stop words.\n",
    " - Experiment with different ways of getting rid of apostrophe's such as replacing them with spaces or with empty strings.\n",
    "  - Lower casing.\n",
    "  - Including both lowercase and original case versions of a word.\n",
    "  - nltk functions such as stemming.\n",
    "* Train on the \"transformed\" training data, the data after you applied pre-processing.\n",
    "* Evaluate on the transformed development data. Note that you never want to \"learn\" anything from the dev data.\n",
    "* You can use `CountVectorizer(preprocessor=...)` to preprocess strings with your own custom-defined function.\n",
    "* `CountVectorizer` default is to preprocess strings to lower case.\n",
    "* You can use `LogisticRegression(C=0.5, solver=\"liblinear\", multi_class=\"auto\")` to produce a logistic regression model.\n",
    "* You can use `metrics.f1_score(..., average=\"weighted\")` to compute f1 score.\n",
    "* If you're not already familiar with regular expressions for manipulating strings, see https://docs.python.org/2/library/re.html, and re.sub() in particular.\n",
    "* The order you apply pre-processing may produce different results.\n"
   ]
  },
  {
   "cell_type": "code",
   "execution_count": 17,
   "metadata": {
    "id": "3lDatbSPTyhb"
   },
   "outputs": [
    {
     "name": "stdout",
     "output_type": "stream",
     "text": [
      "F1 Score w/o Pre_Processing: 0.691959013\n",
      "Unprocessed vocabulary size: 33291 words\n",
      "\n",
      "F1 Score with Pre_Processing: 0.706795512\n",
      "Preprocessed Vocabulary size: 26576 words\n",
      "\n",
      "Our new model reduced our vocabulary size by 6715\n"
     ]
    }
   ],
   "source": [
    "def Q5():\n",
    "    \n",
    "    # transform strings with no preprocessing\n",
    "    vectorizer = CountVectorizer(preprocessor=None, lowercase=False)\n",
    "    train_unigram_unprocessed = vectorizer.fit_transform(train_data)\n",
    "    dev_unigram_unprocessed = vectorizer.transform(dev_data)\n",
    "    \n",
    "    # train & evaluate log reg model on unprocessed data\n",
    "    log_reg = LogisticRegression(C=0.5, solver=\"liblinear\", multi_class=\"auto\")\n",
    "    log_reg.fit(train_unigram_unprocessed, train_labels)\n",
    "    f1 = metrics.f1_score(dev_labels, log_reg.predict(dev_unigram_unprocessed), average=\"macro\")\n",
    "    \n",
    "    vocab = train_unigram_unprocessed.shape[1]\n",
    "    print(f\"F1 Score w/o Pre_Processing: {f1:.9f}\")\n",
    "    print(f\"Unprocessed vocabulary size: {vocab} words\\n\")\n",
    "    \n",
    "    # transform strings with preprocessing\n",
    "    vectorizer = CountVectorizer(stop_words='english', strip_accents='unicode')\n",
    "    train_unigram = vectorizer.fit_transform(train_data)\n",
    "    dev_unigram = vectorizer.transform(dev_data)\n",
    "    \n",
    "    # train & evaluate log reg model on processed data\n",
    "    log_reg = LogisticRegression(C=0.5, solver=\"liblinear\", multi_class=\"auto\")\n",
    "    log_reg.fit(train_unigram, train_labels)\n",
    "    f1 = metrics.f1_score(dev_labels, log_reg.predict(dev_unigram), average=\"macro\")\n",
    "    \n",
    "    new_vocab = train_unigram.shape[1]\n",
    "    print(f\"F1 Score with Pre_Processing: {f1:.9f}\")\n",
    "    print(f\"Preprocessed Vocabulary size: {new_vocab} words\\n\")\n",
    "    print(f\"Our new model reduced our vocabulary size by {vocab - new_vocab}\")\n",
    "\n",
    "Q5()\n"
   ]
  },
  {
   "cell_type": "markdown",
   "metadata": {
    "id": "tLRc7vDBTyhb"
   },
   "source": [
    "### Question 6: L1 and L2 regularization\n",
    "---\n",
    "\n",
    "The idea of regularization is to avoid learning very large weights (which are likely to fit the training data, but not generalize well) by adding a penalty to the total size of the learned weights. Logistic regression seeks the set of weights that minimizes errors in the training data AND has a small total size. The default L2 regularization computes this size as the sum of the squared weights (as in Part 3 above). L1 regularization computes this size as the sum of the absolute values of the weights. Whereas L2 regularization makes all the weights relatively small, **L1 regularization drives many of the weights to 0, effectively removing unimportant features**. For this reason, we can use it as a way to do \"feature selection\".\n",
    "\n",
    "1. For several L1 regularization strengths ...\n",
    "  1. Produce a Logistic Regression model using the **L1** regularization strength.  Reduce the vocabulary to only those features that have at least one non-zero weight among the four categories.\n",
    "  1. Produce a new Logistic Regression model using the reduced vocabulary . For this new model, use an **L2** regularization strength of 0.5.  \n",
    "  1. Evaluate and show the L1 regularization strength, vocabulary size, and f1 score associated with the new model.\n",
    "1. Show a plot of f1 score vs. log vocabulary size.  Each point corresponds to a specific L1 regularization strength used to reduce the vocabulary.\n",
    "1. How does performance of the models based on reduced vocabularies compare to that of a model based on the full vocabulary?\n",
    "\n",
    "Notes:\n",
    "* No need to apply pre-processing from question 5.\n",
    "* Train on the transformed (i.e. CountVectorizer) training data.\n",
    "* Evaluate on the transformed development data (using the CountVectorizer instance you trained on the training data).\n",
    "* You can use `LogisticRegression(..., penalty=\"l1\")` to produce a logistic regression model using L1 regularization.\n",
    "* You can use `LogisticRegression(..., penalty=\"l2\")` to produce a logistic regression model using L2 regularization.\n",
    "* You can use `LogisticRegression(..., tol=0.015)` to produce a logistic regression model using relaxed gradient descent convergence criteria.  The gradient descent code that trains the logistic regression model sometimes has trouble converging with extreme settings of the C parameter. Relax the convergence criteria by setting tol=.015 (the default is .0001).\n",
    "* (solver=\"liblinear\" might be needed for it not to crash)"
   ]
  },
  {
   "cell_type": "code",
   "execution_count": 18,
   "metadata": {
    "id": "7dva_PsvTyhb"
   },
   "outputs": [
    {
     "data": {
      "image/png": "[encoded data removed]",
      "text/plain": [
       "<Figure size 432x288 with 1 Axes>"
      ]
     },
     "metadata": {
      "needs_background": "light"
     },
     "output_type": "display_data"
    }
   ],
   "source": [
    "def Q6():\n",
    "    # Keep this random seed here to make comparison easier.\n",
    "    np.random.seed(0)\n",
    "    \n",
    "    # transform data\n",
    "    vectorizer = CountVectorizer()\n",
    "    train_unigram = vectorizer.fit_transform(train_data)\n",
    "    \n",
    "    vocab = np.array(vectorizer.get_feature_names())\n",
    "    \n",
    "    # l1 regularization strengths\n",
    "    reg_params = [0.001, 0.01, 0.1, 0.25, 0.5, 1, 10]\n",
    "    \n",
    "    # new vocab sizes & f1 scores for plot\n",
    "    voc_sizes = []\n",
    "    scores = []\n",
    "\n",
    "    \n",
    "    for c in reg_params:\n",
    "        # creates l1 and l2 logistic regression models for each reg param\n",
    "        \n",
    "        # l1 model using full vocabulary\n",
    "        log_reg_l1 = LogisticRegression(C=c, solver=\"liblinear\", multi_class=\"auto\", penalty=\"l1\", tol=0.015)\n",
    "        log_reg_l1.fit(train_unigram, train_labels)\n",
    "        \n",
    "        # gets new vocabulary by identifying all nonzero features\n",
    "        coefs = log_reg_l1.coef_\n",
    "        squeezed_coefs = np.squeeze(sum(coefs))\n",
    "        new_vocab = vocab[np.argwhere(squeezed_coefs)]\n",
    "        \n",
    "        # creates unigram using new vocabulary\n",
    "        vectorizer2 = CountVectorizer(vocabulary=new_vocab[0])\n",
    "        train_unigram_sparse = vectorizer2.fit_transform(train_data)\n",
    "        dev_unigram_sparse = vectorizer2.fit_transform(dev_data)\n",
    "        \n",
    "        # l2 model using limited vocabulary\n",
    "        log_reg_l2 = LogisticRegression(C=0.5, solver=\"liblinear\", multi_class=\"auto\", penalty=\"l2\", tol=0.015)\n",
    "        log_reg_l2.fit(train_unigram_sparse, train_labels)\n",
    "        \n",
    "        # gets f1 score of l2 log reg model\n",
    "        f1 = metrics.f1_score(dev_labels, log_reg_l2.predict(dev_unigram_sparse), average=\"macro\")\n",
    "        \n",
    "        # appends voc sizes and scores for plot\n",
    "        voc_sizes.append(len(new_vocab))\n",
    "        scores.append(f1)\n",
    "\n",
    "    # plots vocab sizes vs score\n",
    "    plt.plot(voc_sizes, scores)\n",
    "    plt.xlabel(\"Vocabulary Size\")\n",
    "    plt.ylabel(\"F1-Score\")\n",
    "    plt.title(\"L2 Logistic Regression Performance\")\n",
    "    plt.show()\n",
    "    \n",
    "\n",
    "Q6()"
   ]
  },
  {
   "cell_type": "markdown",
   "metadata": {
    "id": "XbrmPrLaTyhc"
   },
   "source": [
    "ANSWER: \n",
    "Our logistic regression models with smaller vocabularies perform better than our original model with a much larger vocabulary. Generally, we see as vocabulary size decreases, performance increases. "
   ]
  },
  {
   "cell_type": "markdown",
   "metadata": {
    "id": "AQJQimS8Tyhd"
   },
   "source": [
    "### Question 7: TfIdf\n",
    "---\n",
    "As you may recall [tf-idf](https://en.wikipedia.org/wiki/Tf%E2%80%93idf) stands for *term frequency inverse document frequency* and is a way to assign a weight to each word or token signifying their importance for a document in a corpus (a collection of documents).\n",
    "\n",
    "Produce a Logistic Regression model based on data represented in tf-idf form, with L2 regularization strength of 100.  Evaluate and show the f1 score.  How is `TfidfVectorizer` different than `CountVectorizer`?\n",
    "\n",
    "1. How is `TfidfVectorizer` different than `CountVectorizer`?\n",
    "1. Show the 3 documents with highest R ratio, where ...\n",
    "  - $R\\,ratio = maximum\\,predicted\\,probability \\div predicted\\,probability\\,of\\,correct\\,label$\n",
    "1. Explain what the R ratio describes.\n",
    "1. What kinds of mistakes is the model making? Suggest a way to address one particular issue that you see.\n",
    "\n",
    "Note:\n",
    "* Train on the transformed training data.\n",
    "* Evaluate on the transformed development data.\n",
    "* You can use `TfidfVectorizer` and its `.fit_transform` method to transform data to tf-idf form.\n",
    "* You can use `LogisticRegression(C=100, solver=\"liblinear\", multi_class=\"auto\")` to produce a logistic regression model.\n",
    "* You can use `LogisticRegression`'s `.predict_proba` method to access predicted probabilities."
   ]
  },
  {
   "cell_type": "code",
   "execution_count": 19,
   "metadata": {
    "id": "Llsrh11LTyhd"
   },
   "outputs": [
    {
     "name": "stdout",
     "output_type": "stream",
     "text": [
      "[  1.           1.           1.           1.           1.\n",
      "   1.           1.03446448   1.           1.           1.\n",
      "   1.           1.           1.           1.           1.\n",
      "   1.           8.07957723   1.49478221   1.           1.\n",
      "   1.           1.           5.18481321   4.32486554   1.21887159\n",
      "   1.           1.           1.           1.           1.\n",
      "   1.49478221   1.           1.           1.           1.\n",
      "   1.           1.           1.           1.           1.\n",
      "   1.           1.           7.29257187   1.           1.\n",
      "   1.           4.54022248   4.91388552   1.           1.\n",
      "   1.           1.          49.54534853   1.           1.\n",
      "   6.22958629   1.           4.10223558   1.           1.\n",
      "   6.64233112   2.80243786   1.65386927   1.           1.\n",
      "   1.           1.           1.           1.           1.\n",
      "   1.           1.           1.           1.           1.00994523\n",
      "   1.           1.           1.           1.           1.\n",
      "   1.           1.          13.24351554   1.           1.\n",
      "   1.           1.5432146    1.           1.           8.89651208\n",
      "  34.56487423   1.           1.          25.16914944   1.\n",
      "   1.           1.           1.           1.12989176   1.\n",
      "   1.           2.81126234   1.           1.           1.\n",
      "   1.           1.19727145   1.           1.           1.\n",
      "  23.39183643   1.           1.           1.           1.\n",
      "   1.           1.           1.           1.           1.\n",
      "   1.           1.           1.           2.98698259   1.34178682\n",
      "   1.          35.87076125   1.           1.           1.\n",
      "   1.           3.14079246   1.           1.           1.\n",
      "   1.           1.           1.           1.           1.\n",
      "   1.          33.24249382   1.           1.           1.\n",
      "   1.           1.           1.          29.3090092   18.08570879\n",
      "   7.9878421    1.           1.           1.           3.84761776\n",
      "   1.           1.32911527   1.           1.           1.\n",
      "   6.76159517   1.86852096   1.           1.           1.\n",
      "   1.          40.15173924   1.439863     1.           5.04185238\n",
      "   1.           9.12086888   1.70529126  97.0975868    1.\n",
      "  60.58740781   1.          82.85284173   1.           1.95024155\n",
      "   1.          48.54399422   1.88303878   1.           9.26916452\n",
      "   1.           1.           1.           1.           1.\n",
      "   1.0956399    1.           1.           1.           1.\n",
      "   1.           1.          26.2494898    1.           1.\n",
      "   1.           2.25552001   1.           2.87374895   1.47337848\n",
      "   1.           1.           1.56396946   1.          57.28253324\n",
      "   1.           1.           1.           1.           1.\n",
      " 929.35786269   1.           1.           1.           1.\n",
      "   1.           2.6862817    1.           1.           1.\n",
      "   1.           5.52589018   1.31820043   1.           1.\n",
      "   1.           1.           1.           1.           1.\n",
      "   1.          85.10293388   1.           1.00994523   1.\n",
      "   1.           1.           1.           1.           1.\n",
      "   1.45100996   7.19730837   3.61230207   1.           1.\n",
      "   2.16414036   1.           1.           1.           1.00994523\n",
      "   1.           1.           2.06303703   1.           1.\n",
      "   1.           1.           1.           1.91537152   6.29970235\n",
      "   1.           1.           5.13160572   1.6927623    1.\n",
      "   1.           1.           1.           1.           1.\n",
      "   1.           1.           1.           1.           1.\n",
      "   1.           1.           1.           1.           1.\n",
      "   1.           1.         159.14450378   1.           1.\n",
      "   1.20946667   1.           1.           1.           1.\n",
      "   1.           1.           1.           1.           1.\n",
      "   1.           1.           1.           1.           1.\n",
      "   1.         125.13587028   3.19334835   1.           1.\n",
      "   1.           1.           4.86525106   1.           1.\n",
      "   1.           1.           1.           1.           1.\n",
      "   1.          10.12607615   1.           1.           1.\n",
      "   1.           1.           1.           1.529223     1.\n",
      "   4.31680037   7.44861123   1.           3.92983854   1.\n",
      "   1.           1.00994523   3.73673898   1.           1.\n",
      "   1.00994523   1.           1.           1.           1.\n",
      "   1.           1.4742527    1.           1.           1.\n",
      "   1.           1.           1.           1.           1.\n",
      "  21.8298276    1.           1.           1.           1.00994523\n",
      "   1.           1.           1.           1.           1.\n",
      "   1.           1.           1.15986237  28.00223461   1.\n",
      "   1.           1.           1.           3.17211087   3.96107199\n",
      "   1.           1.           1.           1.           1.\n",
      "   1.           1.           1.           1.00994523  15.8004596\n",
      "   1.           1.           1.           1.58253601   9.1198382\n",
      "   1.           1.           1.           1.           1.\n",
      "   1.           1.           1.           1.           2.37603586\n",
      "   1.           1.           1.           1.           1.\n",
      "   1.           1.          13.07929365   1.           1.\n",
      "   1.           1.           1.           1.           1.\n",
      "   1.           1.           1.           1.           3.49082303\n",
      "   1.           1.           1.           1.           1.\n",
      "   1.49478221   1.           1.           1.00994523   1.\n",
      "   1.           1.           1.9025681    1.           1.\n",
      "   2.01319957   1.           1.           1.           1.\n",
      "   1.           1.           1.           1.98104569   1.\n",
      "   1.           1.           1.           2.9873095    1.\n",
      "   2.8999202    1.           1.           1.15986237   1.\n",
      "   1.           1.           1.           1.04836253   1.\n",
      "   1.           1.05876957   1.          95.99079255   1.03482567\n",
      "  50.70089439   1.          18.686069     1.75878783   1.\n",
      "   1.         128.49715803   1.32714897   1.           1.\n",
      "   1.           1.           1.           1.           1.\n",
      "   1.30301569   1.           1.           1.          31.32258374\n",
      "   1.           1.           1.           1.           1.\n",
      "   1.           8.65237396   1.           1.           1.\n",
      "   1.           1.           1.           1.           4.21556535\n",
      "   1.           1.           1.           1.           1.\n",
      "   1.           2.17944624   1.           1.           1.74099942\n",
      "   1.           1.           5.39239409   1.           1.\n",
      "   1.           1.           1.           1.           1.\n",
      "   1.           1.           1.           5.545044     1.\n",
      "   1.           1.           1.           1.           1.\n",
      "  19.70977046   1.           1.           1.           1.\n",
      "   1.           1.           1.           1.           1.\n",
      "   1.           1.           1.           1.           1.\n",
      "  41.17551348   1.           1.           1.106658     1.\n",
      "   1.           3.67302195   1.06738902   1.           1.\n",
      "   1.           1.19477541   3.4062756    1.           2.93777166\n",
      "  17.86949051  15.88793949   1.           1.00994523   1.\n",
      "   1.           1.           1.           1.           1.\n",
      "   1.           1.           1.           1.           1.03966268\n",
      "   1.15986237   1.           1.           1.42288142   4.90676191\n",
      "   1.           1.           1.           1.           1.\n",
      "   1.           1.84261448   1.           1.04035191   1.\n",
      "   1.           1.           1.           1.          10.21621987\n",
      "   1.           1.           1.           1.           1.\n",
      "   1.           1.           1.           1.15986237   1.\n",
      "   1.           1.         287.17926447   7.21646234   1.\n",
      "   1.           1.           1.           1.           1.\n",
      "   1.           1.          16.4360432    1.           1.\n",
      "   1.           1.           1.           1.           1.\n",
      "   1.01714112   1.           1.49478221   1.           1.\n",
      "   1.           1.50033566   1.           1.           1.\n",
      "   1.           1.           1.           1.           1.\n",
      "   1.           1.           1.40459766  13.62582712   1.\n",
      "   1.           1.           1.           1.          14.14849599\n",
      "   1.           1.           1.01750276   1.49478221   1.\n",
      " 212.09272481   3.32072067   1.           1.           1.\n",
      "   1.           1.28688607   1.           1.           1.\n",
      " 325.00405386   1.           1.           1.           1.\n",
      "   1.63552483   1.           1.           1.           1.\n",
      "   1.        ]\n"
     ]
    }
   ],
   "source": [
    "def Q7():\n",
    "    \n",
    "    # transform data\n",
    "    vectorizer = TfidfVectorizer()\n",
    "    train_unigram = vectorizer.fit_transform(train_data)\n",
    "    dev_unigram = vectorizer.transform(dev_data)\n",
    "    \n",
    "    # creates log reg model\n",
    "    log_reg = LogisticRegression(C=100, solver=\"liblinear\", multi_class=\"auto\")\n",
    "    log_reg.fit(train_unigram, train_labels)\n",
    "    \n",
    "    # gets probability estimates\n",
    "    predictions = log_reg.predict(dev_unigram)\n",
    "    probs = log_reg.predict_proba(dev_unigram)\n",
    "    \n",
    "    # calculates max predicted probabilities\n",
    "    max_probs = probs.max(axis=1)\n",
    "    \n",
    "    correct_probs = []\n",
    "    \n",
    "    for i in range(len(dev_labels)):\n",
    "        # Finding probability associated with correct prediction and appending to empty list\n",
    "        correct_probs.append(probs[i, dev_labels[i]])\n",
    "    \n",
    "    # calculates R ratio\n",
    "    r_ratios = max_probs/correct_probs\n",
    "    print(r_ratios)\n",
    "      \n",
    "    \n",
    "\n",
    "Q7()"
   ]
  },
  {
   "cell_type": "markdown",
   "metadata": {
    "id": "w7SnJ7mTTyhe"
   },
   "source": [
    "ANSWER: \n",
    "\n",
    "3) The R Ratio describes how far off our \"confidence\" for our correct predictions was from our most \"confident\" predictions.\n",
    "\n",
    "4) Our model is confusing words that are common in different labels This is especially prevalent for similar categories such as alt.atheism and talk.religion.misc, as well as comp.graphics and sci.space. Since our model is a unigram model, it is only using 1 word. If we want to avoid this problem we can use a bigram/trigram model."
   ]
  },
  {
   "cell_type": "markdown",
   "metadata": {
    "id": "Smtoa6tHTyhf"
   },
   "source": [
    "### Question 8 EXTRA CREDIT:\n",
    "---\n",
    "Produce a Logistic Regression model to implement your suggestion from Part 7."
   ]
  },
  {
   "cell_type": "code",
   "execution_count": 20,
   "metadata": {
    "id": "uCLc-do1Tyhf"
   },
   "outputs": [
    {
     "name": "stdout",
     "output_type": "stream",
     "text": [
      "0.6571577684467325\n"
     ]
    }
   ],
   "source": [
    "def Q8():\n",
    "    \n",
    "    # transform data into bigram model\n",
    "    vectorizer = TfidfVectorizer(ngram_range=(2,3))\n",
    "    train_ngram = vectorizer.fit_transform(train_data)\n",
    "    dev_ngram = vectorizer.transform(dev_data)\n",
    "    \n",
    "    # creates log reg model\n",
    "    log_reg = LogisticRegression(C=100, solver=\"liblinear\", multi_class=\"auto\")\n",
    "    log_reg.fit(train_ngram, train_labels)\n",
    "    \n",
    "    # calculate & print f1 score\n",
    "    f1 = metrics.f1_score(dev_labels, log_reg.predict(dev_ngram), average=\"macro\")\n",
    "    print(f1)\n",
    "\n",
    "    \n",
    "\n",
    "Q8()"
   ]
  }
 ],
 "metadata": {
  "colab": {
   "collapsed_sections": [],
   "name": "firstname_lastname_project3.ipynb",
   "provenance": []
  },
  "kernelspec": {
   "display_name": "Python 3",
   "language": "python",
   "name": "python3"
  },
  "language_info": {
   "codemirror_mode": {
    "name": "ipython",
    "version": 3
   },
   "file_extension": ".py",
   "mimetype": "text/x-python",
   "name": "python",
   "nbconvert_exporter": "python",
   "pygments_lexer": "ipython3",
   "version": "3.8.5"
  },
  "toc": {
   "base_numbering": 1,
   "nav_menu": {},
   "number_sections": false,
   "sideBar": true,
   "skip_h1_title": true,
   "title_cell": "Table of Contents",
   "title_sidebar": "Contents",
   "toc_cell": false,
   "toc_position": {},
   "toc_section_display": true,
   "toc_window_display": false
  }
 },
 "nbformat": 4,
 "nbformat_minor": 1
}
