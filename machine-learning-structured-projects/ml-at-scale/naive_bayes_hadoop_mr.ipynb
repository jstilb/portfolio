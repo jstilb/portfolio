{
 "cells": [
  {
   "cell_type": "markdown",
   "metadata": {},
   "source": [
    "# HW 2 - Naive Bayes in Hadoop MR\n",
    "__`MIDS w261: Machine Learning at Scale | UC Berkeley School of Information | Fall 2018`__\n",
    "\n",
    "In the live sessions for week 2 and week 3 you got some practice designing and debugging Hadoop Streaming jobs. In this homework we'll use Hadoop MapReduce to implement your first parallelized machine learning algorithm: Naive Bayes. As you develop your implementation you'll test it on a small dataset that matches the 'Chinese Example' in the _Manning, Raghavan and Shutze_ reading for Week 2. For the main task in this assignment you'll be working with a small subset of the Enron Spam/Ham Corpus. By the end of this assignment you should be able to:\n",
    "* __... describe__ the Naive Bayes algorithm including both training and inference.\n",
    "* __... perform__ EDA on a corpus using Hadoop MR.\n",
    "* __... implement__ parallelized Naive Bayes.\n",
    "* __... constrast__ partial, unordered and total order sort and their implementations in Hadoop Streaming.\n",
    "* __... explain__ how smoothing affects the bias and variance of a Multinomial Naive Bayes model.\n",
    "\n",
    "As always, your work will be graded both on the correctness of your output and on the clarity and design of your code. __Please refer to the `README` for homework submission instructions.__ "
   ]
  },
  {
   "cell_type": "markdown",
   "metadata": {},
   "source": [
    "## Notebook Setup\n",
    "Before starting, run the following cells to confirm your setup."
   ]
  },
  {
   "cell_type": "code",
   "execution_count": 1,
   "metadata": {},
   "outputs": [
    {
     "name": "stdout",
     "output_type": "stream",
     "text": [
      "/media/notebooks/student-workspace/Assignments/HW2\n"
     ]
    }
   ],
   "source": [
    "%cd /media/notebooks/student-workspace/Assignments/HW2"
   ]
  },
  {
   "cell_type": "code",
   "execution_count": 2,
   "metadata": {},
   "outputs": [],
   "source": [
    "# imports\n",
    "import numpy as np\n",
    "import matplotlib.pyplot as plt\n",
    "%matplotlib inline\n",
    "%reload_ext autoreload\n",
    "%autoreload 2"
   ]
  },
  {
   "cell_type": "code",
   "execution_count": 3,
   "metadata": {},
   "outputs": [],
   "source": [
    "# global vars (paths) - ADJUST AS NEEDED\n",
    "JAR_FILE = \"/usr/lib/hadoop/hadoop-streaming.jar\"\n",
    "HDFS_DIR = \"/user/root/HW2/\"\n",
    "HOME_DIR = \"/media/notebooks/student-workspace/Assignments/HW2\" # FILL IN HERE eg. /media/notebooks/Assignments/HW2"
   ]
  },
  {
   "cell_type": "code",
   "execution_count": 4,
   "metadata": {},
   "outputs": [],
   "source": [
    "# save path for use in Hadoop jobs (-cmdenv PATH={PATH})\n",
    "from os import environ\n",
    "PATH  = environ['PATH']"
   ]
  },
  {
   "cell_type": "code",
   "execution_count": 5,
   "metadata": {},
   "outputs": [],
   "source": [
    "# data path\n",
    "ENRON = \"data/enronemail_1h.txt\""
   ]
  },
  {
   "cell_type": "code",
   "execution_count": 6,
   "metadata": {},
   "outputs": [
    {
     "name": "stdout",
     "output_type": "stream",
     "text": [
      "ls: `.': No such file or directory\n"
     ]
    }
   ],
   "source": [
    "# make the HDFS directory if it doesn't already exist\n",
    "!hdfs dfs -ls \n",
    "!hdfs dfs -mkdir -p {HDFS_DIR}"
   ]
  },
  {
   "cell_type": "markdown",
   "metadata": {},
   "source": [
    "# Question 1: Hadoop MapReduce Key Takeaways.  \n",
    "\n",
    "This assignment will be the only one in which you use Hadoop Streaming to implement a distributed algorithm. The key reason we continue to teach Hadoop streaming is because of the way it forces the programmer to think carefully about what is happening under the hood when you parallelize a calculation. This question will briefly highlight some of the most important concepts that you need to understand about Hadoop Streaming and MapReduce before we move on to Spark next week.   \n",
    "\n",
    "### Q1 Tasks:\n",
    "\n",
    "* __a) short response:__ What \"programming paradigm\" is Hadoop MapReduce based on? What are the main ideas of this programming paradigm and how does MapReduce exemplify these ideas?\n",
    "\n",
    "* __b) short response:__ What is the Hadoop Shuffle? When does it happen? Why is it potentially costly? Describe one specific thing we can we do to mitigate the cost associated with this stage of our Hadoop Streaming jobs.\n",
    "\n",
    "* __c) short response:__ In Hadoop Streaming why do the input and output record format of a combiner script have to be the same? [__`HINT`__ _what level of combining does the framework guarantee? what is the relationship between the record format your mapper emits and the format your reducer expects to receive?_]\n",
    "\n",
    "* __d) short response:__ To what extent can you control the level of parallelization of your Hadoop Streaming jobs? Please be specific.\n",
    "\n",
    "* __e) short response:__ What change in the kind of computing resources available prompted the creation of parallel computation frameworks like Hadoop? "
   ]
  },
  {
   "cell_type": "markdown",
   "metadata": {},
   "source": [
    "### Q1 Student Answers:\n",
    "\n",
    "> __a)__ \n",
    "\n",
    "> __b)__ \n",
    "\n",
    "> __c)__ \n",
    "\n",
    "> __d)__ \n",
    "\n",
    "> __e)__   "
   ]
  },
  {
   "cell_type": "markdown",
   "metadata": {},
   "source": [
    "# Question 2: MapReduce Design Patterns.  \n",
    "\n",
    "In the last two live sessions and in your readings from Lin & Dyer you encountered a number of techniques for manipulating the logistics of a MapReduce implementation to ensure that the right information is available at the right time and location. In this question we'll review a few of the key techniques you learned.   \n",
    "\n",
    "### Q2 Tasks:\n",
    "\n",
    "* __a) short response:__ What are counters (in the context of Hadoop Streaming)? How are they useful? What kinds of counters does Hadoop provide for you? How do you create your own custom counter?\n",
    "\n",
    "* __b) short response:__ What are composite keys? How are they useful? How are they related to the idea of custom partitioning?\n",
    "\n",
    "* __c) short response:__ What is the order inversion pattern? What problem does it help solve? How do we implement it? "
   ]
  },
  {
   "cell_type": "markdown",
   "metadata": {},
   "source": [
    "### Q2 Student Answers:\n",
    "\n",
    "> __a)__ \n",
    "\n",
    "> __b)__ \n",
    "\n",
    "> __c)__ "
   ]
  },
  {
   "cell_type": "markdown",
   "metadata": {},
   "source": [
    "# Question 3: Understanding Total Order Sort\n",
    "\n",
    "The key challenge in distributed computing is to break a problem into a set of sub-problems that can be performed without communicating with each other. Ideally, we should be able to define an arbirtary number of splits and still get the right result, but that is not always possible. Parallelization becomes particularly challenging when we need to make comparisons between records, for example when sorting. Total Order Sort allows us to order large datasets in a way that enables efficient retrieval of results. Before beginning this assignment, make sure you have read and understand the [Total Order Sort Notebook](https://github.com/UCB-w261/main/tree/master/HelpfulResources/TotalSortGuide/_total-sort-guide-spark2.01-JAN27-2017.ipynb). You can skip the first two MRJob sections, but the rest of section III and all of section IV are **very** important (and apply to Hadoop Streaming) so make sure to read them closely. Feel free to read the Spark sections as well but you won't be responsible for that material until later in the course. To verify your understanding, answer the following questions.\n",
    "\n",
    "### Q3 Tasks:\n",
    "\n",
    "* __a) short response:__ What is the difference between a partial sort, an unordered total sort, and a total order sort? From the programmer's perspective, what does total order sort allow us to do that we can't with unordered total? Why is this important with large datasets?\n",
    "\n",
    "* __b) short response:__ Which phase of a MapReduce job is leveraged to implement Total Order Sort? Which default behaviors must be changed. Why must they be changed?\n",
    "\n",
    "* __c) short response:__ Describe in words how to configure a Hadoop Streaming job for the custom sorting and partitioning that is required for Total Order Sort.  \n",
    "\n",
    "* __d) short response:__ Explain why we need to use an inverse hash code function.\n",
    "\n",
    "* __e) short response:__ Where does this function need to be located so that a Total Order Sort can be performed?"
   ]
  },
  {
   "cell_type": "markdown",
   "metadata": {},
   "source": [
    "### Q3 Student Answers:\n",
    "\n",
    "> __a)__ \n",
    "\n",
    "> __b)__ \n",
    "\n",
    "> __c)__  \n",
    "\n",
    "> __d)__   \n",
    "\n",
    "> __e)__ "
   ]
  },
  {
   "cell_type": "markdown",
   "metadata": {},
   "source": [
    "# About the Data\n",
    "For the main task in this portion of the homework you will train a classifier to determine whether an email represents spam or not. You will train your Naive Bayes model on a 100 record subset of the Enron Spam/Ham corpus available in the HW2 data directory (__`HW2/data/enronemail_1h.txt`__).\n",
    "\n",
    "__Source:__   \n",
    "The original data included about 93,000 emails which were made public after the company's collapse. There have been a number raw and preprocessed versions of this corpus (including those available [here](http://www.aueb.gr/users/ion/data/enron-spam/index.html) and [here](http://www.aueb.gr/users/ion/publications.html)). The subset we will use is limited to emails from 6 Enron employees and a number of spam sources. It is part of [this data set](http://www.aueb.gr/users/ion/data/enron-spam/) which was created by researchers working on personlized Bayesian spam filters. Their original publication is [available here](http://www.aueb.gr/users/ion/docs/ceas2006_paper.pdf). __`IMPORTANT!`__ _For this homework please limit your analysis to the 100 email subset which we provide. No need to download or run your analysis on any of the original datasets, those links are merely provided as context._\n",
    "\n",
    "__Preprocessing:__  \n",
    "For their work, Metsis et al. (the authors) appeared to have pre-processed the data, not only collapsing all text to lower-case, but additionally separating \"words\" by spaces, where \"words\" unfortunately include punctuation. As a concrete example, the sentence:  \n",
    ">  `Hey Jon, I hope you don't get lost out there this weekend!`  \n",
    "\n",
    "... would have been reduced by Metsis et al. to the form:  \n",
    "> `hey jon , i hope you don ' t get lost out there this weekend !` \n",
    "\n",
    "... so we have reverted the data back toward its original state, removing spaces so that our sample sentence would now look like:\n",
    "> `hey jon, i hope you don't get lost out there this weekend!`  \n",
    "\n",
    "Thus we have at least preserved contractions and other higher-order lexical forms. However, one must be aware that this reversion is not complete, and that some object (specifically web sites) will be ill-formatted, and that all text is still lower-cased.\n",
    "\n",
    "\n",
    "__Format:__   \n",
    "All messages are collated to a tab-delimited format:  \n",
    "\n",
    ">    `ID \\t SPAM \\t SUBJECT \\t CONTENT \\n`  \n",
    "\n",
    "where:  \n",
    ">    `ID = string; unique message identifier`  \n",
    "    `SPAM = binary; with 1 indicating a spam message`  \n",
    "    `SUBJECT = string; title of the message`  \n",
    "    `CONTENT = string; content of the message`   \n",
    "    \n",
    "Note that either of `SUBJECT` or `CONTENT` may be \"NA\", and that all tab (\\t) and newline (\\n) characters have been removed from both of the `SUBJECT` and `CONTENT` columns.  "
   ]
  },
  {
   "cell_type": "code",
   "execution_count": 7,
   "metadata": {},
   "outputs": [
    {
     "name": "stdout",
     "output_type": "stream",
     "text": [
      "/media/notebooks/student-workspace/Assignments/HW2\n"
     ]
    }
   ],
   "source": [
    "!pwd"
   ]
  },
  {
   "cell_type": "code",
   "execution_count": 8,
   "metadata": {},
   "outputs": [
    {
     "name": "stdout",
     "output_type": "stream",
     "text": [
      "0001.1999-12-10.farmer\t0\t christmas tree farm pictures\tNA\n",
      "0001.1999-12-10.kaminski\t0\t re: rankings\t thank you.\n",
      "0001.2000-01-17.beck\t0\t leadership development pilot\t\" sally:  what timing, ask and you shall receiv\n",
      "0001.2000-06-06.lokay\t0\t\" key dates and impact of upcoming sap implementation over the next few week\n",
      "0001.2001-02-07.kitchen\t0\t key hr issues going forward\t a) year end reviews-report needs generating \n"
     ]
    }
   ],
   "source": [
    "# take a look at the first 100 characters of the first 5 records (RUN THIS CELL AS IS)\n",
    "!head -n 5 /media/notebooks/student-workspace/Assignments/HW2/{ENRON} | cut -c-100"
   ]
  },
  {
   "cell_type": "code",
   "execution_count": 9,
   "metadata": {},
   "outputs": [
    {
     "name": "stdout",
     "output_type": "stream",
     "text": [
      "100 /media/notebooks/student-workspace/Assignments/HW2/data/enronemail_1h.txt\n"
     ]
    }
   ],
   "source": [
    "# see how many messages/lines are in the file \n",
    "#(this number may be off by 1 if the last line doesn't end with a newline)\n",
    "!wc -l /media/notebooks/student-workspace/Assignments/HW2/{ENRON}"
   ]
  },
  {
   "cell_type": "code",
   "execution_count": 10,
   "metadata": {},
   "outputs": [],
   "source": [
    "# make the HDFS directory if it doesn't already exist\n",
    "!hdfs dfs -mkdir -p {HDFS_DIR}"
   ]
  },
  {
   "cell_type": "code",
   "execution_count": 11,
   "metadata": {},
   "outputs": [],
   "source": [
    "# load the data into HDFS (RUN THIS CELL AS IS)\n",
    "!hdfs dfs -copyFromLocal /media/notebooks/student-workspace/Assignments/HW2/{ENRON} {HDFS_DIR}/enron.txt"
   ]
  },
  {
   "cell_type": "code",
   "execution_count": 12,
   "metadata": {},
   "outputs": [
    {
     "name": "stdout",
     "output_type": "stream",
     "text": [
      "Found 1 items\n",
      "-rw-r--r--   1 root hadoop     204559 2022-05-30 15:47 /user/root/HW2/enron.txt\n"
     ]
    }
   ],
   "source": [
    "!hdfs dfs -ls {HDFS_DIR}"
   ]
  },
  {
   "cell_type": "markdown",
   "metadata": {},
   "source": [
    "# Question 4:  Enron Ham/Spam EDA.\n",
    "Before building our classifier, lets get aquainted with our data. In particular, we're interested in which words occur more in spam emails than in legitimate (\"ham\") emails. In this question you'll implement two Hadoop MapReduce jobs to count and sort word occurrences by document class. You'll also learn about two new Hadoop streaming parameters that will allow you to control how the records output from your mappers are partitioned for reducing on separate nodes. \n",
    "\n",
    "__`IMPORTANT NOTE:`__ For this question and all subsequent items, you should include both the subject and the body of the email in your analysis (i.e. concatetate them to get the 'text' of the document).\n",
    "\n",
    "### Q4 Tasks:\n",
    "* __a) code:__ Complete the missing components of the code in __`EnronEDA/mapper.py`__ and __`EnronEDA/reducer.py`__ to create a Hadoop  MapReduce job that counts how many times each word in the corpus occurs in an email for each class. Pay close attention to the data format specified in the docstrings of these scripts _-- there are a number of ways to accomplish this task, we've chosen this format to help illustrate a technique in `part e`_. Run the provided unit tests to confirm that your code works as expected, then run the provided Hadoop Streaming command to apply your analysis to the Enron data.\n",
    "\n",
    "\n",
    "* __b) code + short response:__ How many times does the word \"__assistance__\" occur in each class? (`HINT:` Use a `grep` command to read from the results file you generated in '`a`' and then report the answer in the space provided.)\n",
    "\n",
    "\n",
    "* __c) short response:__ Would it have been possible to add some sorting parameters to the Hadoop streaming command that would cause our `part a` results to be sorted by count? Explain why or why not. (`HINT:` This question demands an understanding of the sequence of the phases of MapReduce.)\n",
    "\n",
    "\n",
    "* __d) code + short response:__ Write a second Hadoop MapReduce job to sort the output of `part a` first by class and then by count. Run your job and save the results to a local file. Then describe in words how you would go about printing the top 10 words in each class given this sorted output. (`HINT 1:` _remember that you can simply pass the `part a` output directory to the input field of this job; `HINT 2:` since this task is just reodering the records from `part a` we don't need to write a mapper or reducer, just use `/bin/cat` for both_)\n",
    "\n",
    "\n",
    "* __e) code:__ A more efficient alternative to '`grep`-ing' for the top 10 words in each class would be to use the Hadoop framework to separate records from each class into its own partition so that we can just read the top lines in each. Rewrite your job from ` part d` to specify 2 reduce tasks and to tell Hadoop to partition based on the second field (which indicates spam/ham in our data). Your code should maintain the secondary sort -- that is each partition should list words from most to least frequent."
   ]
  },
  {
   "cell_type": "markdown",
   "metadata": {},
   "source": [
    "### Q4 Student Answers:\n",
    "> __b)__ \n",
    "\n",
    "> __c)__  \n",
    "\n",
    "> __d)__ "
   ]
  },
  {
   "cell_type": "code",
   "execution_count": 13,
   "metadata": {},
   "outputs": [],
   "source": [
    "# part a - do your work in the provided scripts then RUN THIS CELL AS IS\n",
    "!chmod a+x EnronEDA/mapper.py\n",
    "!chmod a+x EnronEDA/reducer.py"
   ]
  },
  {
   "cell_type": "code",
   "execution_count": 14,
   "metadata": {},
   "outputs": [
    {
     "name": "stdout",
     "output_type": "stream",
     "text": [
      "title\t1\t1\n",
      "body\t1\t1\n",
      "title\t0\t1\n",
      "body\t0\t1\n"
     ]
    }
   ],
   "source": [
    "# part a - unit test EnronEDA/mapper.py (RUN THIS CELL AS IS)\n",
    "!echo -e \"d1\t1\ttitle\tbody\\nd2\t0\ttitle\tbody\" | EnronEDA/mapper.py"
   ]
  },
  {
   "cell_type": "code",
   "execution_count": 15,
   "metadata": {},
   "outputs": [
    {
     "name": "stdout",
     "output_type": "stream",
     "text": [
      "-e one\t1\t1\n",
      "-e one\t0\t0\n",
      "one\t1\t0\n",
      "one\t0\t2\n",
      "two\t1\t0\n",
      "two\t0\t1\n"
     ]
    }
   ],
   "source": [
    "# part a - unit test EnronEDA/reducer.py (RUN THIS CELL AS IS)\n",
    "!echo -e \"one\t1\t1\\none\t0\t1\\none\t0\t1\\ntwo\t0\t1\" | EnronEDA/reducer.py"
   ]
  },
  {
   "cell_type": "code",
   "execution_count": 16,
   "metadata": {},
   "outputs": [
    {
     "name": "stdout",
     "output_type": "stream",
     "text": [
      "rm: `/user/root/HW2//eda-output': No such file or directory\n"
     ]
    }
   ],
   "source": [
    "# part a - clear output directory in HDFS (RUN THIS CELL AS IS)\n",
    "!hdfs dfs -rm -r {HDFS_DIR}/eda-output"
   ]
  },
  {
   "cell_type": "code",
   "execution_count": 17,
   "metadata": {},
   "outputs": [
    {
     "name": "stdout",
     "output_type": "stream",
     "text": [
      "packageJobJar: [] [/usr/lib/hadoop/hadoop-streaming-3.2.2.jar] /tmp/streamjob2229437915002791609.jar tmpDir=null\n",
      "2022-05-30 15:48:09,522 INFO client.RMProxy: Connecting to ResourceManager at w261-m/10.128.0.12:8032\n",
      "2022-05-30 15:48:09,748 INFO client.AHSProxy: Connecting to Application History server at w261-m/10.128.0.12:10200\n",
      "2022-05-30 15:48:10,284 INFO client.RMProxy: Connecting to ResourceManager at w261-m/10.128.0.12:8032\n",
      "2022-05-30 15:48:10,285 INFO client.AHSProxy: Connecting to Application History server at w261-m/10.128.0.12:10200\n",
      "2022-05-30 15:48:10,540 INFO mapreduce.JobResourceUploader: Disabling Erasure Coding for path: /tmp/hadoop-yarn/staging/root/.staging/job_1653923631635_0001\n",
      "2022-05-30 15:48:11,476 INFO mapred.FileInputFormat: Total input files to process : 1\n",
      "2022-05-30 15:48:11,977 INFO mapreduce.JobSubmitter: number of splits:9\n",
      "2022-05-30 15:48:12,187 INFO mapreduce.JobSubmitter: Submitting tokens for job: job_1653923631635_0001\n",
      "2022-05-30 15:48:12,189 INFO mapreduce.JobSubmitter: Executing with tokens: []\n",
      "2022-05-30 15:48:12,436 INFO conf.Configuration: resource-types.xml not found\n",
      "2022-05-30 15:48:12,437 INFO resource.ResourceUtils: Unable to find 'resource-types.xml'.\n",
      "2022-05-30 15:48:12,864 INFO impl.YarnClientImpl: Submitted application application_1653923631635_0001\n",
      "2022-05-30 15:48:12,925 INFO mapreduce.Job: The url to track the job: http://w261-m:8088/proxy/application_1653923631635_0001/\n",
      "2022-05-30 15:48:12,928 INFO mapreduce.Job: Running job: job_1653923631635_0001\n",
      "2022-05-30 15:48:26,216 INFO mapreduce.Job: Job job_1653923631635_0001 running in uber mode : false\n",
      "2022-05-30 15:48:26,217 INFO mapreduce.Job:  map 0% reduce 0%\n",
      "2022-05-30 15:48:35,346 INFO mapreduce.Job:  map 33% reduce 0%\n",
      "2022-05-30 15:48:42,427 INFO mapreduce.Job:  map 44% reduce 0%\n",
      "2022-05-30 15:48:43,436 INFO mapreduce.Job:  map 56% reduce 0%\n",
      "2022-05-30 15:48:44,443 INFO mapreduce.Job:  map 67% reduce 0%\n",
      "2022-05-30 15:48:51,511 INFO mapreduce.Job:  map 89% reduce 0%\n",
      "2022-05-30 15:48:52,517 INFO mapreduce.Job:  map 100% reduce 0%\n",
      "2022-05-30 15:49:00,569 INFO mapreduce.Job:  map 100% reduce 50%\n",
      "2022-05-30 15:49:01,575 INFO mapreduce.Job:  map 100% reduce 100%\n",
      "2022-05-30 15:49:02,590 INFO mapreduce.Job: Job job_1653923631635_0001 completed successfully\n",
      "2022-05-30 15:49:02,697 INFO mapreduce.Job: Counters: 55\n",
      "\tFile System Counters\n",
      "\t\tFILE: Number of bytes read=369010\n",
      "\t\tFILE: Number of bytes written=3469511\n",
      "\t\tFILE: Number of read operations=0\n",
      "\t\tFILE: Number of large read operations=0\n",
      "\t\tFILE: Number of write operations=0\n",
      "\t\tHDFS: Number of bytes read=258608\n",
      "\t\tHDFS: Number of bytes written=119173\n",
      "\t\tHDFS: Number of read operations=37\n",
      "\t\tHDFS: Number of large read operations=0\n",
      "\t\tHDFS: Number of write operations=6\n",
      "\t\tHDFS: Number of bytes read erasure-coded=0\n",
      "\tJob Counters \n",
      "\t\tKilled map tasks=1\n",
      "\t\tLaunched map tasks=9\n",
      "\t\tLaunched reduce tasks=2\n",
      "\t\tData-local map tasks=9\n",
      "\t\tTotal time spent by all maps in occupied slots (ms)=202047120\n",
      "\t\tTotal time spent by all reduces in occupied slots (ms)=32623572\n",
      "\t\tTotal time spent by all map tasks (ms)=64020\n",
      "\t\tTotal time spent by all reduce tasks (ms)=10337\n",
      "\t\tTotal vcore-milliseconds taken by all map tasks=64020\n",
      "\t\tTotal vcore-milliseconds taken by all reduce tasks=10337\n",
      "\t\tTotal megabyte-milliseconds taken by all map tasks=202047120\n",
      "\t\tTotal megabyte-milliseconds taken by all reduce tasks=32623572\n",
      "\tMap-Reduce Framework\n",
      "\t\tMap input records=100\n",
      "\t\tMap output records=31490\n",
      "\t\tMap output bytes=306018\n",
      "\t\tMap output materialized bytes=369106\n",
      "\t\tInput split bytes=801\n",
      "\t\tCombine input records=0\n",
      "\t\tCombine output records=0\n",
      "\t\tReduce input groups=5065\n",
      "\t\tReduce shuffle bytes=369106\n",
      "\t\tReduce input records=31490\n",
      "\t\tReduce output records=10130\n",
      "\t\tSpilled Records=62980\n",
      "\t\tShuffled Maps =18\n",
      "\t\tFailed Shuffles=0\n",
      "\t\tMerged Map outputs=18\n",
      "\t\tGC time elapsed (ms)=1641\n",
      "\t\tCPU time spent (ms)=18360\n",
      "\t\tPhysical memory (bytes) snapshot=5691768832\n",
      "\t\tVirtual memory (bytes) snapshot=48836141056\n",
      "\t\tTotal committed heap usage (bytes)=5201461248\n",
      "\t\tPeak Map Physical memory (bytes)=609558528\n",
      "\t\tPeak Map Virtual memory (bytes)=4458733568\n",
      "\t\tPeak Reduce Physical memory (bytes)=328306688\n",
      "\t\tPeak Reduce Virtual memory (bytes)=4442664960\n",
      "\tShuffle Errors\n",
      "\t\tBAD_ID=0\n",
      "\t\tCONNECTION=0\n",
      "\t\tIO_ERROR=0\n",
      "\t\tWRONG_LENGTH=0\n",
      "\t\tWRONG_MAP=0\n",
      "\t\tWRONG_REDUCE=0\n",
      "\tFile Input Format Counters \n",
      "\t\tBytes Read=257807\n",
      "\tFile Output Format Counters \n",
      "\t\tBytes Written=119173\n",
      "2022-05-30 15:49:02,697 INFO streaming.StreamJob: Output directory: /user/root/HW2//eda-output\n"
     ]
    }
   ],
   "source": [
    "# part a - Hadoop streaming job (RUN THIS CELL AS IS)\n",
    "!hadoop jar {JAR_FILE} \\\n",
    "  -files EnronEDA/reducer.py,EnronEDA/mapper.py \\\n",
    "  -mapper mapper.py \\\n",
    "  -reducer reducer.py \\\n",
    "  -input {HDFS_DIR}/enron.txt \\\n",
    "  -output {HDFS_DIR}/eda-output \\\n",
    "  -numReduceTasks 2 \\\n",
    "  -cmdenv PATH={PATH}"
   ]
  },
  {
   "cell_type": "code",
   "execution_count": 18,
   "metadata": {},
   "outputs": [],
   "source": [
    "# part a - retrieve results from HDFS & copy them into a local file (RUN THIS CELL AS IS)\n",
    "!hdfs dfs -cat {HDFS_DIR}/eda-output/part-0000* > EnronEDA/results.txt\n"
   ]
  },
  {
   "cell_type": "code",
   "execution_count": 19,
   "metadata": {},
   "outputs": [
    {
     "name": "stdout",
     "output_type": "stream",
     "text": [
      "assistance\t1\t8\n",
      "assistance\t0\t2\n"
     ]
    }
   ],
   "source": [
    "# part b - write your grep command here\n",
    "!grep assistance EnronEDA/results.txt"
   ]
  },
  {
   "cell_type": "code",
   "execution_count": 20,
   "metadata": {},
   "outputs": [
    {
     "name": "stdout",
     "output_type": "stream",
     "text": [
      "rm: `/user/root/HW2//eda-sort-output': No such file or directory\n"
     ]
    }
   ],
   "source": [
    "# part d - clear the output directory in HDFS (RUN THIS CELL AS IS)\n",
    "!hdfs dfs -rm -r {HDFS_DIR}/eda-sort-output"
   ]
  },
  {
   "cell_type": "code",
   "execution_count": 21,
   "metadata": {},
   "outputs": [
    {
     "name": "stdout",
     "output_type": "stream",
     "text": [
      "packageJobJar: [] [/usr/lib/hadoop/hadoop-streaming-3.2.2.jar] /tmp/streamjob3005894600177409357.jar tmpDir=null\n",
      "2022-05-30 16:07:58,971 INFO client.RMProxy: Connecting to ResourceManager at w261-m/10.128.0.12:8032\n",
      "2022-05-30 16:07:59,217 INFO client.AHSProxy: Connecting to Application History server at w261-m/10.128.0.12:10200\n",
      "2022-05-30 16:07:59,775 INFO client.RMProxy: Connecting to ResourceManager at w261-m/10.128.0.12:8032\n",
      "2022-05-30 16:07:59,775 INFO client.AHSProxy: Connecting to Application History server at w261-m/10.128.0.12:10200\n",
      "2022-05-30 16:08:00,039 INFO mapreduce.JobResourceUploader: Disabling Erasure Coding for path: /tmp/hadoop-yarn/staging/root/.staging/job_1653923631635_0002\n",
      "2022-05-30 16:08:00,552 INFO mapred.FileInputFormat: Total input files to process : 2\n",
      "2022-05-30 16:08:00,634 INFO mapreduce.JobSubmitter: number of splits:10\n",
      "2022-05-30 16:08:00,921 INFO mapreduce.JobSubmitter: Submitting tokens for job: job_1653923631635_0002\n",
      "2022-05-30 16:08:00,923 INFO mapreduce.JobSubmitter: Executing with tokens: []\n",
      "2022-05-30 16:08:01,159 INFO conf.Configuration: resource-types.xml not found\n",
      "2022-05-30 16:08:01,159 INFO resource.ResourceUtils: Unable to find 'resource-types.xml'.\n",
      "2022-05-30 16:08:01,247 INFO impl.YarnClientImpl: Submitted application application_1653923631635_0002\n",
      "2022-05-30 16:08:01,299 INFO mapreduce.Job: The url to track the job: http://w261-m:8088/proxy/application_1653923631635_0002/\n",
      "2022-05-30 16:08:01,301 INFO mapreduce.Job: Running job: job_1653923631635_0002\n",
      "2022-05-30 16:08:10,467 INFO mapreduce.Job: Job job_1653923631635_0002 running in uber mode : false\n",
      "2022-05-30 16:08:10,468 INFO mapreduce.Job:  map 0% reduce 0%\n",
      "2022-05-30 16:08:20,649 INFO mapreduce.Job:  map 30% reduce 0%\n",
      "2022-05-30 16:08:28,745 INFO mapreduce.Job:  map 50% reduce 0%\n",
      "2022-05-30 16:08:29,758 INFO mapreduce.Job:  map 60% reduce 0%\n",
      "2022-05-30 16:08:36,829 INFO mapreduce.Job:  map 80% reduce 0%\n",
      "2022-05-30 16:08:37,835 INFO mapreduce.Job:  map 90% reduce 0%\n",
      "2022-05-30 16:08:41,862 INFO mapreduce.Job:  map 100% reduce 0%\n",
      "2022-05-30 16:08:47,902 INFO mapreduce.Job:  map 100% reduce 100%\n",
      "2022-05-30 16:08:48,921 INFO mapreduce.Job: Job job_1653923631635_0002 completed successfully\n",
      "2022-05-30 16:08:49,029 INFO mapreduce.Job: Counters: 54\n",
      "\tFile System Counters\n",
      "\t\tFILE: Number of bytes read=149569\n",
      "\t\tFILE: Number of bytes written=3036806\n",
      "\t\tFILE: Number of read operations=0\n",
      "\t\tFILE: Number of large read operations=0\n",
      "\t\tFILE: Number of write operations=0\n",
      "\t\tHDFS: Number of bytes read=152951\n",
      "\t\tHDFS: Number of bytes written=129303\n",
      "\t\tHDFS: Number of read operations=35\n",
      "\t\tHDFS: Number of large read operations=0\n",
      "\t\tHDFS: Number of write operations=3\n",
      "\t\tHDFS: Number of bytes read erasure-coded=0\n",
      "\tJob Counters \n",
      "\t\tLaunched map tasks=10\n",
      "\t\tLaunched reduce tasks=1\n",
      "\t\tData-local map tasks=10\n",
      "\t\tTotal time spent by all maps in occupied slots (ms)=214873104\n",
      "\t\tTotal time spent by all reduces in occupied slots (ms)=11251140\n",
      "\t\tTotal time spent by all map tasks (ms)=68084\n",
      "\t\tTotal time spent by all reduce tasks (ms)=3565\n",
      "\t\tTotal vcore-milliseconds taken by all map tasks=68084\n",
      "\t\tTotal vcore-milliseconds taken by all reduce tasks=3565\n",
      "\t\tTotal megabyte-milliseconds taken by all map tasks=214873104\n",
      "\t\tTotal megabyte-milliseconds taken by all reduce tasks=11251140\n",
      "\tMap-Reduce Framework\n",
      "\t\tMap input records=10130\n",
      "\t\tMap output records=10130\n",
      "\t\tMap output bytes=129303\n",
      "\t\tMap output materialized bytes=149623\n",
      "\t\tInput split bytes=1010\n",
      "\t\tCombine input records=0\n",
      "\t\tCombine output records=0\n",
      "\t\tReduce input groups=10130\n",
      "\t\tReduce shuffle bytes=149623\n",
      "\t\tReduce input records=10130\n",
      "\t\tReduce output records=10130\n",
      "\t\tSpilled Records=20260\n",
      "\t\tShuffled Maps =10\n",
      "\t\tFailed Shuffles=0\n",
      "\t\tMerged Map outputs=10\n",
      "\t\tGC time elapsed (ms)=1540\n",
      "\t\tCPU time spent (ms)=15780\n",
      "\t\tPhysical memory (bytes) snapshot=5880426496\n",
      "\t\tVirtual memory (bytes) snapshot=48791023616\n",
      "\t\tTotal committed heap usage (bytes)=5477236736\n",
      "\t\tPeak Map Physical memory (bytes)=616882176\n",
      "\t\tPeak Map Virtual memory (bytes)=4444299264\n",
      "\t\tPeak Reduce Physical memory (bytes)=250454016\n",
      "\t\tPeak Reduce Virtual memory (bytes)=4440305664\n",
      "\tShuffle Errors\n",
      "\t\tBAD_ID=0\n",
      "\t\tCONNECTION=0\n",
      "\t\tIO_ERROR=0\n",
      "\t\tWRONG_LENGTH=0\n",
      "\t\tWRONG_MAP=0\n",
      "\t\tWRONG_REDUCE=0\n",
      "\tFile Input Format Counters \n",
      "\t\tBytes Read=151941\n",
      "\tFile Output Format Counters \n",
      "\t\tBytes Written=129303\n",
      "2022-05-30 16:08:49,029 INFO streaming.StreamJob: Output directory: /user/root/HW2//eda-sort-output\n"
     ]
    }
   ],
   "source": [
    "# part d - write your Hadoop streaming job here\n",
    "!hadoop jar {JAR_FILE} \\\n",
    "  -D mapreduce.job.output.key.comparator.class=org.apache.hadoop.mapred.lib.KeyFieldBasedComparator \\\n",
    "  -D stream.num.map.output.key.fields=3 \\\n",
    "  -D mapreduce.partition.keycomparator.options=\"-k2,2 -k3,3nr\" \\\n",
    "  -files EnronEDA/reducer.py,EnronEDA/mapper.py \\\n",
    "  -mapper /bin/cat \\\n",
    "  -reducer /bin/cat \\\n",
    "  -input {HDFS_DIR}/eda-output \\\n",
    "  -output {HDFS_DIR}/eda-sort-output \\\n",
    "  -numReduceTasks 1 \\\n",
    "  -cmdenv PATH={PATH}"
   ]
  },
  {
   "cell_type": "code",
   "execution_count": 22,
   "metadata": {},
   "outputs": [
    {
     "name": "stdout",
     "output_type": "stream",
     "text": [
      "Deleted /user/root/HW2/eda-sort-output\n"
     ]
    }
   ],
   "source": [
    "# part e - clear the output directory in HDFS (RUN THIS CELL AS IS)\n",
    "!hdfs dfs -rm -r {HDFS_DIR}/eda-sort-output"
   ]
  },
  {
   "cell_type": "code",
   "execution_count": 23,
   "metadata": {},
   "outputs": [
    {
     "name": "stdout",
     "output_type": "stream",
     "text": [
      "packageJobJar: [] [/usr/lib/hadoop/hadoop-streaming-3.2.2.jar] /tmp/streamjob1336931343780008824.jar tmpDir=null\n",
      "2022-05-30 16:21:03,727 INFO client.RMProxy: Connecting to ResourceManager at w261-m/10.128.0.12:8032\n",
      "2022-05-30 16:21:03,959 INFO client.AHSProxy: Connecting to Application History server at w261-m/10.128.0.12:10200\n",
      "2022-05-30 16:21:04,477 INFO client.RMProxy: Connecting to ResourceManager at w261-m/10.128.0.12:8032\n",
      "2022-05-30 16:21:04,477 INFO client.AHSProxy: Connecting to Application History server at w261-m/10.128.0.12:10200\n",
      "2022-05-30 16:21:04,691 INFO mapreduce.JobResourceUploader: Disabling Erasure Coding for path: /tmp/hadoop-yarn/staging/root/.staging/job_1653923631635_0003\n",
      "2022-05-30 16:21:05,125 WARN concurrent.ExecutorHelper: Thread (Thread[GetFileInfo #1,5,main]) interrupted: \n",
      "java.lang.InterruptedException\n",
      "\tat com.google.common.util.concurrent.AbstractFuture.get(AbstractFuture.java:510)\n",
      "\tat com.google.common.util.concurrent.FluentFuture$TrustedFuture.get(FluentFuture.java:88)\n",
      "\tat org.apache.hadoop.util.concurrent.ExecutorHelper.logThrowableFromAfterExecute(ExecutorHelper.java:48)\n",
      "\tat org.apache.hadoop.util.concurrent.HadoopThreadPoolExecutor.afterExecute(HadoopThreadPoolExecutor.java:90)\n",
      "\tat java.util.concurrent.ThreadPoolExecutor.runWorker(ThreadPoolExecutor.java:1157)\n",
      "\tat java.util.concurrent.ThreadPoolExecutor$Worker.run(ThreadPoolExecutor.java:624)\n",
      "\tat java.lang.Thread.run(Thread.java:750)\n",
      "2022-05-30 16:21:05,133 INFO mapred.FileInputFormat: Total input files to process : 2\n",
      "2022-05-30 16:21:05,221 INFO mapreduce.JobSubmitter: number of splits:10\n",
      "2022-05-30 16:21:05,508 INFO mapreduce.JobSubmitter: Submitting tokens for job: job_1653923631635_0003\n",
      "2022-05-30 16:21:05,510 INFO mapreduce.JobSubmitter: Executing with tokens: []\n",
      "2022-05-30 16:21:05,740 INFO conf.Configuration: resource-types.xml not found\n",
      "2022-05-30 16:21:05,740 INFO resource.ResourceUtils: Unable to find 'resource-types.xml'.\n",
      "2022-05-30 16:21:05,822 INFO impl.YarnClientImpl: Submitted application application_1653923631635_0003\n",
      "2022-05-30 16:21:05,869 INFO mapreduce.Job: The url to track the job: http://w261-m:8088/proxy/application_1653923631635_0003/\n",
      "2022-05-30 16:21:05,871 INFO mapreduce.Job: Running job: job_1653923631635_0003\n",
      "2022-05-30 16:21:14,025 INFO mapreduce.Job: Job job_1653923631635_0003 running in uber mode : false\n",
      "2022-05-30 16:21:14,026 INFO mapreduce.Job:  map 0% reduce 0%\n",
      "2022-05-30 16:21:23,225 INFO mapreduce.Job:  map 10% reduce 0%\n",
      "2022-05-30 16:21:24,232 INFO mapreduce.Job:  map 30% reduce 0%\n",
      "2022-05-30 16:21:30,323 INFO mapreduce.Job:  map 40% reduce 0%\n",
      "2022-05-30 16:21:31,332 INFO mapreduce.Job:  map 50% reduce 0%\n",
      "2022-05-30 16:21:32,339 INFO mapreduce.Job:  map 60% reduce 0%\n",
      "2022-05-30 16:21:37,392 INFO mapreduce.Job:  map 70% reduce 0%\n",
      "2022-05-30 16:21:38,398 INFO mapreduce.Job:  map 80% reduce 0%\n",
      "2022-05-30 16:21:39,406 INFO mapreduce.Job:  map 90% reduce 0%\n",
      "2022-05-30 16:21:42,434 INFO mapreduce.Job:  map 100% reduce 0%\n",
      "2022-05-30 16:21:49,482 INFO mapreduce.Job:  map 100% reduce 50%\n",
      "2022-05-30 16:21:50,499 INFO mapreduce.Job:  map 100% reduce 100%\n",
      "2022-05-30 16:21:51,513 INFO mapreduce.Job: Job job_1653923631635_0003 completed successfully\n",
      "2022-05-30 16:21:51,612 INFO mapreduce.Job: Counters: 55\n",
      "\tFile System Counters\n",
      "\t\tFILE: Number of bytes read=149575\n",
      "\t\tFILE: Number of bytes written=3290508\n",
      "\t\tFILE: Number of read operations=0\n",
      "\t\tFILE: Number of large read operations=0\n",
      "\t\tFILE: Number of write operations=0\n",
      "\t\tHDFS: Number of bytes read=152951\n",
      "\t\tHDFS: Number of bytes written=129303\n",
      "\t\tHDFS: Number of read operations=40\n",
      "\t\tHDFS: Number of large read operations=0\n",
      "\t\tHDFS: Number of write operations=6\n",
      "\t\tHDFS: Number of bytes read erasure-coded=0\n",
      "\tJob Counters \n",
      "\t\tKilled reduce tasks=1\n",
      "\t\tLaunched map tasks=10\n",
      "\t\tLaunched reduce tasks=2\n",
      "\t\tData-local map tasks=10\n",
      "\t\tTotal time spent by all maps in occupied slots (ms)=200093556\n",
      "\t\tTotal time spent by all reduces in occupied slots (ms)=29347644\n",
      "\t\tTotal time spent by all map tasks (ms)=63401\n",
      "\t\tTotal time spent by all reduce tasks (ms)=9299\n",
      "\t\tTotal vcore-milliseconds taken by all map tasks=63401\n",
      "\t\tTotal vcore-milliseconds taken by all reduce tasks=9299\n",
      "\t\tTotal megabyte-milliseconds taken by all map tasks=200093556\n",
      "\t\tTotal megabyte-milliseconds taken by all reduce tasks=29347644\n",
      "\tMap-Reduce Framework\n",
      "\t\tMap input records=10130\n",
      "\t\tMap output records=10130\n",
      "\t\tMap output bytes=129303\n",
      "\t\tMap output materialized bytes=149683\n",
      "\t\tInput split bytes=1010\n",
      "\t\tCombine input records=0\n",
      "\t\tCombine output records=0\n",
      "\t\tReduce input groups=10130\n",
      "\t\tReduce shuffle bytes=149683\n",
      "\t\tReduce input records=10130\n",
      "\t\tReduce output records=10130\n",
      "\t\tSpilled Records=20260\n",
      "\t\tShuffled Maps =20\n",
      "\t\tFailed Shuffles=0\n",
      "\t\tMerged Map outputs=20\n",
      "\t\tGC time elapsed (ms)=1697\n",
      "\t\tCPU time spent (ms)=16580\n",
      "\t\tPhysical memory (bytes) snapshot=6172766208\n",
      "\t\tVirtual memory (bytes) snapshot=53262209024\n",
      "\t\tTotal committed heap usage (bytes)=5840568320\n",
      "\t\tPeak Map Physical memory (bytes)=602554368\n",
      "\t\tPeak Map Virtual memory (bytes)=4449669120\n",
      "\t\tPeak Reduce Physical memory (bytes)=296235008\n",
      "\t\tPeak Reduce Virtual memory (bytes)=4439437312\n",
      "\tShuffle Errors\n",
      "\t\tBAD_ID=0\n",
      "\t\tCONNECTION=0\n",
      "\t\tIO_ERROR=0\n",
      "\t\tWRONG_LENGTH=0\n",
      "\t\tWRONG_MAP=0\n",
      "\t\tWRONG_REDUCE=0\n",
      "\tFile Input Format Counters \n",
      "\t\tBytes Read=151941\n",
      "\tFile Output Format Counters \n",
      "\t\tBytes Written=129303\n",
      "2022-05-30 16:21:51,612 INFO streaming.StreamJob: Output directory: /user/root/HW2//eda-sort-output\n"
     ]
    }
   ],
   "source": [
    "# part e - write your Hadoop streaming job here\n",
    "!hadoop jar {JAR_FILE} \\\n",
    "  -D mapreduce.job.output.key.comparator.class=org.apache.hadoop.mapred.lib.KeyFieldBasedComparator \\\n",
    "  -D stream.num.map.output.key.fields=3 \\\n",
    "  -D mapreduce.partition.keypartitioner.options=\"-k2,2\" \\\n",
    "  -D mapreduce.partition.keycomparator.options=\"-k2,2nr -k3,3nr\" \\\n",
    "  -files EnronEDA/reducer.py,EnronEDA/mapper.py \\\n",
    "  -mapper /bin/cat \\\n",
    "  -reducer /bin/cat \\\n",
    "  -partitioner org.apache.hadoop.mapred.lib.KeyFieldBasedPartitioner \\\n",
    "  -input {HDFS_DIR}/eda-output \\\n",
    "  -output {HDFS_DIR}/eda-sort-output \\\n",
    "  -numReduceTasks 2 \\\n",
    "  -cmdenv PATH={PATH}"
   ]
  },
  {
   "cell_type": "code",
   "execution_count": 24,
   "metadata": {},
   "outputs": [
    {
     "name": "stdout",
     "output_type": "stream",
     "text": [
      "\n",
      "===== part-00000=====\n",
      "\n",
      "the\t0\t549\t\n",
      "to\t0\t398\t\n",
      "ect\t0\t382\t\n",
      "and\t0\t278\t\n",
      "of\t0\t230\t\n",
      "hou\t0\t206\t\n",
      "a\t0\t196\t\n",
      "in\t0\t182\t\n",
      "for\t0\t170\t\n",
      "on\t0\t135\t\n",
      "cat: Unable to write to output stream.\n",
      "\n",
      "===== part-00001=====\n",
      "\n",
      "the\t1\t698\t\n",
      "to\t1\t566\t\n",
      "and\t1\t392\t\n",
      "your\t1\t357\t\n",
      "a\t1\t347\t\n",
      "you\t1\t345\t\n",
      "of\t1\t336\t\n",
      "in\t1\t236\t\n",
      "for\t1\t204\t\n",
      "com\t1\t153\t\n",
      "cat: Unable to write to output stream.\n"
     ]
    }
   ],
   "source": [
    "# part e - view the top 10 records from each partition (RUN THIS CELL AS IS)\n",
    "for idx in range(2):\n",
    "    print(f\"\\n===== part-0000{idx}=====\\n\")\n",
    "    !hdfs dfs -cat {HDFS_DIR}/eda-sort-output/part-0000{idx} | head"
   ]
  },
  {
   "cell_type": "markdown",
   "metadata": {},
   "source": [
    "__Expected output:__\n",
    "<table>\n",
    "<th>part-00000:</th>\n",
    "<th>part-00001:</th>\n",
    "<tr><td><pre>\n",
    "the\t0\t549\t\n",
    "to\t0\t398\t\n",
    "ect\t0\t382\t\n",
    "and\t0\t278\t\n",
    "of\t0\t230\t\n",
    "hou\t0\t206\t\n",
    "a\t0\t196\t\n",
    "in\t0\t182\t\n",
    "for\t0\t170\t\n",
    "on\t0\t135\n",
    "</pre></td>\n",
    "<td><pre>\n",
    "the\t1\t698\t\n",
    "to\t1\t566\t\n",
    "and\t1\t392\t\n",
    "your\t1\t357\t\n",
    "a\t1\t347\t\n",
    "you\t1\t345\t\n",
    "of\t1\t336\t\n",
    "in\t1\t236\t\n",
    "for\t1\t204\t\n",
    "com\t1\t153\n",
    "</pre></td></tr>\n",
    "</table>"
   ]
  },
  {
   "cell_type": "markdown",
   "metadata": {},
   "source": [
    "# Question 5: Counters and Combiners.\n",
    "Tuning the number of mappers & reducers is helpful to optimize very large distributed computations. Doing so successfully requires a thorough understanding of the data size at each stage of the job. As you learned in the week3 live session, counters are an invaluable resource for understanding this kind of detail. In this question, we will take the EDA performed in Question 4 as an opportunity to illustrate some related concepts.\n",
    "\n",
    "### Q5 Tasks:\n",
    "* __a) short response:__ Read the Hadoop output from your job in Question 4a to report how many records are emitted by the mappers and how many records are received be the reducers. In the context of word counting what does this number represent practically?\n",
    "\n",
    "* __b) code:__ Note that we wrote the reducer in question 4a such that the input and output record format is identical. This makes it easy to use the same reducer script as a combiner. In the space provided below, write the Hadoop Streaming command to re-run your job from question 4a with this combining added.\n",
    "\n",
    "* __c) short response__: Report the number of records emitted by your mappers in part b and the number of records received by your reducers. Compare your results here to what you saw in part a. Explain.\n",
    "\n",
    "* __d) short response__: Describe a scenario where using a combiner would _NOT_ improve the efficiency of the shuffle stage. Explain. [__`BONUS:`__ how does increasing the number of mappers affect the usefulness of a combiner?]"
   ]
  },
  {
   "cell_type": "markdown",
   "metadata": {},
   "source": [
    "### Q5 Student Answers:\n",
    "> __a)__  \n",
    "\n",
    "> __c)__ \n",
    "\n",
    "> __d)__ "
   ]
  },
  {
   "cell_type": "code",
   "execution_count": 25,
   "metadata": {},
   "outputs": [
    {
     "name": "stdout",
     "output_type": "stream",
     "text": [
      "Deleted /user/root/HW2/eda-output\n"
     ]
    }
   ],
   "source": [
    "# part b - clear output directory in HDFS (RUN THIS CELL AS IS)\n",
    "!hdfs dfs -rm -r {HDFS_DIR}/eda-output"
   ]
  },
  {
   "cell_type": "code",
   "execution_count": 26,
   "metadata": {},
   "outputs": [
    {
     "name": "stdout",
     "output_type": "stream",
     "text": [
      "packageJobJar: [] [/usr/lib/hadoop/hadoop-streaming-3.2.2.jar] /tmp/streamjob4081254263168657346.jar tmpDir=null\n",
      "2022-05-30 16:25:41,052 INFO client.RMProxy: Connecting to ResourceManager at w261-m/10.128.0.12:8032\n",
      "2022-05-30 16:25:41,287 INFO client.AHSProxy: Connecting to Application History server at w261-m/10.128.0.12:10200\n",
      "2022-05-30 16:25:41,824 INFO client.RMProxy: Connecting to ResourceManager at w261-m/10.128.0.12:8032\n",
      "2022-05-30 16:25:41,825 INFO client.AHSProxy: Connecting to Application History server at w261-m/10.128.0.12:10200\n",
      "2022-05-30 16:25:42,047 INFO mapreduce.JobResourceUploader: Disabling Erasure Coding for path: /tmp/hadoop-yarn/staging/root/.staging/job_1653923631635_0004\n",
      "2022-05-30 16:25:42,504 INFO mapred.FileInputFormat: Total input files to process : 1\n",
      "2022-05-30 16:25:42,606 INFO mapreduce.JobSubmitter: number of splits:9\n",
      "2022-05-30 16:25:42,846 INFO mapreduce.JobSubmitter: Submitting tokens for job: job_1653923631635_0004\n",
      "2022-05-30 16:25:42,849 INFO mapreduce.JobSubmitter: Executing with tokens: []\n",
      "2022-05-30 16:25:43,085 INFO conf.Configuration: resource-types.xml not found\n",
      "2022-05-30 16:25:43,085 INFO resource.ResourceUtils: Unable to find 'resource-types.xml'.\n",
      "2022-05-30 16:25:43,190 INFO impl.YarnClientImpl: Submitted application application_1653923631635_0004\n",
      "2022-05-30 16:25:43,244 INFO mapreduce.Job: The url to track the job: http://w261-m:8088/proxy/application_1653923631635_0004/\n",
      "2022-05-30 16:25:43,246 INFO mapreduce.Job: Running job: job_1653923631635_0004\n",
      "2022-05-30 16:25:52,383 INFO mapreduce.Job: Job job_1653923631635_0004 running in uber mode : false\n",
      "2022-05-30 16:25:52,384 INFO mapreduce.Job:  map 0% reduce 0%\n",
      "2022-05-30 16:26:02,526 INFO mapreduce.Job:  map 22% reduce 0%\n",
      "2022-05-30 16:26:03,534 INFO mapreduce.Job:  map 33% reduce 0%\n",
      "2022-05-30 16:26:10,631 INFO mapreduce.Job:  map 56% reduce 0%\n",
      "2022-05-30 16:26:12,649 INFO mapreduce.Job:  map 67% reduce 0%\n",
      "2022-05-30 16:26:18,706 INFO mapreduce.Job:  map 89% reduce 0%\n",
      "2022-05-30 16:26:19,714 INFO mapreduce.Job:  map 100% reduce 0%\n",
      "2022-05-30 16:26:27,760 INFO mapreduce.Job:  map 100% reduce 50%\n",
      "2022-05-30 16:26:28,767 INFO mapreduce.Job:  map 100% reduce 100%\n",
      "2022-05-30 16:26:29,779 INFO mapreduce.Job: Job job_1653923631635_0004 completed successfully\n",
      "2022-05-30 16:26:29,871 INFO mapreduce.Job: Counters: 55\n",
      "\tFile System Counters\n",
      "\t\tFILE: Number of bytes read=271860\n",
      "\t\tFILE: Number of bytes written=3279116\n",
      "\t\tFILE: Number of read operations=0\n",
      "\t\tFILE: Number of large read operations=0\n",
      "\t\tFILE: Number of write operations=0\n",
      "\t\tHDFS: Number of bytes read=258608\n",
      "\t\tHDFS: Number of bytes written=119173\n",
      "\t\tHDFS: Number of read operations=37\n",
      "\t\tHDFS: Number of large read operations=0\n",
      "\t\tHDFS: Number of write operations=6\n",
      "\t\tHDFS: Number of bytes read erasure-coded=0\n",
      "\tJob Counters \n",
      "\t\tKilled map tasks=1\n",
      "\t\tLaunched map tasks=9\n",
      "\t\tLaunched reduce tasks=2\n",
      "\t\tData-local map tasks=9\n",
      "\t\tTotal time spent by all maps in occupied slots (ms)=212992128\n",
      "\t\tTotal time spent by all reduces in occupied slots (ms)=29568564\n",
      "\t\tTotal time spent by all map tasks (ms)=67488\n",
      "\t\tTotal time spent by all reduce tasks (ms)=9369\n",
      "\t\tTotal vcore-milliseconds taken by all map tasks=67488\n",
      "\t\tTotal vcore-milliseconds taken by all reduce tasks=9369\n",
      "\t\tTotal megabyte-milliseconds taken by all map tasks=212992128\n",
      "\t\tTotal megabyte-milliseconds taken by all reduce tasks=29568564\n",
      "\tMap-Reduce Framework\n",
      "\t\tMap input records=100\n",
      "\t\tMap output records=31490\n",
      "\t\tMap output bytes=306018\n",
      "\t\tMap output materialized bytes=271956\n",
      "\t\tInput split bytes=801\n",
      "\t\tCombine input records=31490\n",
      "\t\tCombine output records=20576\n",
      "\t\tReduce input groups=5065\n",
      "\t\tReduce shuffle bytes=271956\n",
      "\t\tReduce input records=20576\n",
      "\t\tReduce output records=10130\n",
      "\t\tSpilled Records=41152\n",
      "\t\tShuffled Maps =18\n",
      "\t\tFailed Shuffles=0\n",
      "\t\tMerged Map outputs=18\n",
      "\t\tGC time elapsed (ms)=1542\n",
      "\t\tCPU time spent (ms)=21620\n",
      "\t\tPhysical memory (bytes) snapshot=5824520192\n",
      "\t\tVirtual memory (bytes) snapshot=48891314176\n",
      "\t\tTotal committed heap usage (bytes)=5062524928\n",
      "\t\tPeak Map Physical memory (bytes)=621125632\n",
      "\t\tPeak Map Virtual memory (bytes)=4467720192\n",
      "\t\tPeak Reduce Physical memory (bytes)=309407744\n",
      "\t\tPeak Reduce Virtual memory (bytes)=4440379392\n",
      "\tShuffle Errors\n",
      "\t\tBAD_ID=0\n",
      "\t\tCONNECTION=0\n",
      "\t\tIO_ERROR=0\n",
      "\t\tWRONG_LENGTH=0\n",
      "\t\tWRONG_MAP=0\n",
      "\t\tWRONG_REDUCE=0\n",
      "\tFile Input Format Counters \n",
      "\t\tBytes Read=257807\n",
      "\tFile Output Format Counters \n",
      "\t\tBytes Written=119173\n",
      "2022-05-30 16:26:29,872 INFO streaming.StreamJob: Output directory: /user/root/HW2//eda-output\n"
     ]
    }
   ],
   "source": [
    "# part b - write your Hadoop streaming job here\n",
    "!hadoop jar {JAR_FILE} \\\n",
    "  -files EnronEDA/reducer.py,EnronEDA/mapper.py \\\n",
    "  -mapper mapper.py \\\n",
    "  -combiner reducer.py \\\n",
    "  -reducer reducer.py \\\n",
    "  -input {HDFS_DIR}/enron.txt \\\n",
    "  -output {HDFS_DIR}/eda-output \\\n",
    "  -numReduceTasks 2 \\\n",
    "  -cmdenv PATH={PATH}"
   ]
  },
  {
   "cell_type": "markdown",
   "metadata": {},
   "source": [
    "# Question 6: Document Classification Task Overview.\n",
    "The week 2 assigned reading from Chapter 13 of _Introduction to Information Retrieval_ by Manning, Raghavan and Schutze provides a thorough introduction to the document classification task and the math behind Naive Bayes. In this question we'll use the example from Table 13.1 (reproduced below) to 'train' an unsmoothed Multinomial Naive Bayes model and classify a test document by hand.\n",
    "\n",
    "<table>\n",
    "<th>DocID</th>\n",
    "<th>Class</th>\n",
    "<th>Subject</th>\n",
    "<th>Body</th>\n",
    "<tr><td>Doc1</td><td>1</td><td></td><td>Chinese Beijing Chinese</td></tr>\n",
    "<tr><td>Doc2</td><td>1</td><td></td><td>Chinese Chinese Shanghai</td></tr>\n",
    "<tr><td>Doc3</td><td>1</td><td></td><td>Chinese Macao</td></tr>\n",
    "<tr><td>Doc4</td><td>0</td><td></td><td>Tokyo Japan Chinese</td></tr>\n",
    "</table>\n",
    "\n",
    "### Q6 Tasks:\n",
    "* __a) short response:__ Equation 13.3 in Manning, Raghavan and Shutze shows how a Multinomial Naive Bayes model classifies a document. It predicts the class, $c$, for which the estimated conditional probability of the class given the document's contents,  $\\hat{P}(c|d)$, is greatest. In this equation what two pieces of information are required to calculate  $\\hat{P}(c|d)$? Your answer should include both mathematical notatation and verbal explanation.\n",
    "\n",
    "\n",
    "* __b) short response:__ The Enron data includes two classes of documents: `spam` and `ham` (they're actually labeled `1` and `0`). In plain English, explain what  $\\hat{P}(c)$ and   $\\hat{P}(t_{k} | c)$ mean in the context of this data. How will we would estimate these values from a training corpus? How many passes over the data would we need to make to retrieve this information for all classes and all words?\n",
    "\n",
    "\n",
    "* __c) hand calculations:__ Above we've reproduced the document classification example from the textbook (we added an empty subject field to mimic the Enron data format). Remember that the classes in this \"Chinese Example\" are `1` (about China) and `0` (not about China). Calculate the class priors and the conditional probabilities for an __unsmoothed__ Multinomial Naive Bayes model trained on this data. Show the calculations that lead to your result using markdown and $\\LaTeX$ in the space provided or by embedding an image of your hand written work. [`NOTE:` _Your results should NOT match those in the text -- they are training a model with +1 smoothing you are training a model without smoothing_]\n",
    "\n",
    "\n",
    "* __d) hand calculations:__ Use the model you trained to classify the following test document: `Chinese Chinese Chinese Tokyo Japan`. Show the calculations that lead to your result using markdown and   $\\LaTeX$ in the space provided or by embedding an image of your hand written work.\n",
    "\n",
    "\n",
    "* __e) short response:__ Compare the classification you get from this unsmoothed model in `d`/`e` to the results in the textbook's \"Example 1\" which reflects a model with Laplace plus 1 smoothing. How does smoothing affect our inference?"
   ]
  },
  {
   "cell_type": "markdown",
   "metadata": {},
   "source": [
    "### Q6 Student Answers:\n",
    "> __a)__ \n",
    "\n",
    "> __b)__ \n",
    "\n",
    "> __c)__ \n",
    "\n",
    "> __d)__ \n",
    "\n",
    "> __e)__ \n"
   ]
  },
  {
   "cell_type": "code",
   "execution_count": 27,
   "metadata": {},
   "outputs": [
    {
     "ename": "FileNotFoundError",
     "evalue": "[Errno 2] No such file or directory: 'path-to-hand-calulations-image.png'",
     "output_type": "error",
     "traceback": [
      "\u001b[0;31m---------------------------------------------------------------------------\u001b[0m",
      "\u001b[0;31mFileNotFoundError\u001b[0m                         Traceback (most recent call last)",
      "Input \u001b[0;32mIn [27]\u001b[0m, in \u001b[0;36m<cell line: 3>\u001b[0;34m()\u001b[0m\n\u001b[1;32m      1\u001b[0m \u001b[38;5;66;03m# part d/e - if you didn't write out your calcuations above, embed a picture of them here:\u001b[39;00m\n\u001b[1;32m      2\u001b[0m \u001b[38;5;28;01mfrom\u001b[39;00m \u001b[38;5;21;01mIPython\u001b[39;00m\u001b[38;5;21;01m.\u001b[39;00m\u001b[38;5;21;01mdisplay\u001b[39;00m \u001b[38;5;28;01mimport\u001b[39;00m Image\n\u001b[0;32m----> 3\u001b[0m \u001b[43mImage\u001b[49m\u001b[43m(\u001b[49m\u001b[43mfilename\u001b[49m\u001b[38;5;241;43m=\u001b[39;49m\u001b[38;5;124;43m\"\u001b[39;49m\u001b[38;5;124;43mpath-to-hand-calulations-image.png\u001b[39;49m\u001b[38;5;124;43m\"\u001b[39;49m\u001b[43m)\u001b[49m\n",
      "File \u001b[0;32m/opt/conda/miniconda3/lib/python3.8/site-packages/IPython/core/display.py:957\u001b[0m, in \u001b[0;36mImage.__init__\u001b[0;34m(self, data, url, filename, format, embed, width, height, retina, unconfined, metadata, alt)\u001b[0m\n\u001b[1;32m    955\u001b[0m \u001b[38;5;28mself\u001b[39m\u001b[38;5;241m.\u001b[39munconfined \u001b[38;5;241m=\u001b[39m unconfined\n\u001b[1;32m    956\u001b[0m \u001b[38;5;28mself\u001b[39m\u001b[38;5;241m.\u001b[39malt \u001b[38;5;241m=\u001b[39m alt\n\u001b[0;32m--> 957\u001b[0m \u001b[38;5;28;43msuper\u001b[39;49m\u001b[43m(\u001b[49m\u001b[43mImage\u001b[49m\u001b[43m,\u001b[49m\u001b[43m \u001b[49m\u001b[38;5;28;43mself\u001b[39;49m\u001b[43m)\u001b[49m\u001b[38;5;241;43m.\u001b[39;49m\u001b[38;5;21;43m__init__\u001b[39;49m\u001b[43m(\u001b[49m\u001b[43mdata\u001b[49m\u001b[38;5;241;43m=\u001b[39;49m\u001b[43mdata\u001b[49m\u001b[43m,\u001b[49m\u001b[43m \u001b[49m\u001b[43murl\u001b[49m\u001b[38;5;241;43m=\u001b[39;49m\u001b[43murl\u001b[49m\u001b[43m,\u001b[49m\u001b[43m \u001b[49m\u001b[43mfilename\u001b[49m\u001b[38;5;241;43m=\u001b[39;49m\u001b[43mfilename\u001b[49m\u001b[43m,\u001b[49m\n\u001b[1;32m    958\u001b[0m \u001b[43m        \u001b[49m\u001b[43mmetadata\u001b[49m\u001b[38;5;241;43m=\u001b[39;49m\u001b[43mmetadata\u001b[49m\u001b[43m)\u001b[49m\n\u001b[1;32m    960\u001b[0m \u001b[38;5;28;01mif\u001b[39;00m \u001b[38;5;28mself\u001b[39m\u001b[38;5;241m.\u001b[39mwidth \u001b[38;5;129;01mis\u001b[39;00m \u001b[38;5;28;01mNone\u001b[39;00m \u001b[38;5;129;01mand\u001b[39;00m \u001b[38;5;28mself\u001b[39m\u001b[38;5;241m.\u001b[39mmetadata\u001b[38;5;241m.\u001b[39mget(\u001b[38;5;124m'\u001b[39m\u001b[38;5;124mwidth\u001b[39m\u001b[38;5;124m'\u001b[39m, {}):\n\u001b[1;32m    961\u001b[0m     \u001b[38;5;28mself\u001b[39m\u001b[38;5;241m.\u001b[39mwidth \u001b[38;5;241m=\u001b[39m metadata[\u001b[38;5;124m'\u001b[39m\u001b[38;5;124mwidth\u001b[39m\u001b[38;5;124m'\u001b[39m]\n",
      "File \u001b[0;32m/opt/conda/miniconda3/lib/python3.8/site-packages/IPython/core/display.py:327\u001b[0m, in \u001b[0;36mDisplayObject.__init__\u001b[0;34m(self, data, url, filename, metadata)\u001b[0m\n\u001b[1;32m    324\u001b[0m \u001b[38;5;28;01melif\u001b[39;00m \u001b[38;5;28mself\u001b[39m\u001b[38;5;241m.\u001b[39mmetadata \u001b[38;5;129;01mis\u001b[39;00m \u001b[38;5;28;01mNone\u001b[39;00m:\n\u001b[1;32m    325\u001b[0m     \u001b[38;5;28mself\u001b[39m\u001b[38;5;241m.\u001b[39mmetadata \u001b[38;5;241m=\u001b[39m {}\n\u001b[0;32m--> 327\u001b[0m \u001b[38;5;28;43mself\u001b[39;49m\u001b[38;5;241;43m.\u001b[39;49m\u001b[43mreload\u001b[49m\u001b[43m(\u001b[49m\u001b[43m)\u001b[49m\n\u001b[1;32m    328\u001b[0m \u001b[38;5;28mself\u001b[39m\u001b[38;5;241m.\u001b[39m_check_data()\n",
      "File \u001b[0;32m/opt/conda/miniconda3/lib/python3.8/site-packages/IPython/core/display.py:992\u001b[0m, in \u001b[0;36mImage.reload\u001b[0;34m(self)\u001b[0m\n\u001b[1;32m    990\u001b[0m \u001b[38;5;124;03m\"\"\"Reload the raw data from file or URL.\"\"\"\u001b[39;00m\n\u001b[1;32m    991\u001b[0m \u001b[38;5;28;01mif\u001b[39;00m \u001b[38;5;28mself\u001b[39m\u001b[38;5;241m.\u001b[39membed:\n\u001b[0;32m--> 992\u001b[0m     \u001b[38;5;28;43msuper\u001b[39;49m\u001b[43m(\u001b[49m\u001b[43mImage\u001b[49m\u001b[43m,\u001b[49m\u001b[38;5;28;43mself\u001b[39;49m\u001b[43m)\u001b[49m\u001b[38;5;241;43m.\u001b[39;49m\u001b[43mreload\u001b[49m\u001b[43m(\u001b[49m\u001b[43m)\u001b[49m\n\u001b[1;32m    993\u001b[0m     \u001b[38;5;28;01mif\u001b[39;00m \u001b[38;5;28mself\u001b[39m\u001b[38;5;241m.\u001b[39mretina:\n\u001b[1;32m    994\u001b[0m         \u001b[38;5;28mself\u001b[39m\u001b[38;5;241m.\u001b[39m_retina_shape()\n",
      "File \u001b[0;32m/opt/conda/miniconda3/lib/python3.8/site-packages/IPython/core/display.py:353\u001b[0m, in \u001b[0;36mDisplayObject.reload\u001b[0;34m(self)\u001b[0m\n\u001b[1;32m    351\u001b[0m \u001b[38;5;28;01mif\u001b[39;00m \u001b[38;5;28mself\u001b[39m\u001b[38;5;241m.\u001b[39mfilename \u001b[38;5;129;01mis\u001b[39;00m \u001b[38;5;129;01mnot\u001b[39;00m \u001b[38;5;28;01mNone\u001b[39;00m:\n\u001b[1;32m    352\u001b[0m     encoding \u001b[38;5;241m=\u001b[39m \u001b[38;5;28;01mNone\u001b[39;00m \u001b[38;5;28;01mif\u001b[39;00m \u001b[38;5;124m\"\u001b[39m\u001b[38;5;124mb\u001b[39m\u001b[38;5;124m\"\u001b[39m \u001b[38;5;129;01min\u001b[39;00m \u001b[38;5;28mself\u001b[39m\u001b[38;5;241m.\u001b[39m_read_flags \u001b[38;5;28;01melse\u001b[39;00m \u001b[38;5;124m\"\u001b[39m\u001b[38;5;124mutf-8\u001b[39m\u001b[38;5;124m\"\u001b[39m\n\u001b[0;32m--> 353\u001b[0m     \u001b[38;5;28;01mwith\u001b[39;00m \u001b[38;5;28;43mopen\u001b[39;49m\u001b[43m(\u001b[49m\u001b[38;5;28;43mself\u001b[39;49m\u001b[38;5;241;43m.\u001b[39;49m\u001b[43mfilename\u001b[49m\u001b[43m,\u001b[49m\u001b[43m \u001b[49m\u001b[38;5;28;43mself\u001b[39;49m\u001b[38;5;241;43m.\u001b[39;49m\u001b[43m_read_flags\u001b[49m\u001b[43m,\u001b[49m\u001b[43m \u001b[49m\u001b[43mencoding\u001b[49m\u001b[38;5;241;43m=\u001b[39;49m\u001b[43mencoding\u001b[49m\u001b[43m)\u001b[49m \u001b[38;5;28;01mas\u001b[39;00m f:\n\u001b[1;32m    354\u001b[0m         \u001b[38;5;28mself\u001b[39m\u001b[38;5;241m.\u001b[39mdata \u001b[38;5;241m=\u001b[39m f\u001b[38;5;241m.\u001b[39mread()\n\u001b[1;32m    355\u001b[0m \u001b[38;5;28;01melif\u001b[39;00m \u001b[38;5;28mself\u001b[39m\u001b[38;5;241m.\u001b[39murl \u001b[38;5;129;01mis\u001b[39;00m \u001b[38;5;129;01mnot\u001b[39;00m \u001b[38;5;28;01mNone\u001b[39;00m:\n\u001b[1;32m    356\u001b[0m     \u001b[38;5;66;03m# Deferred import\u001b[39;00m\n",
      "\u001b[0;31mFileNotFoundError\u001b[0m: [Errno 2] No such file or directory: 'path-to-hand-calulations-image.png'"
     ]
    }
   ],
   "source": [
    "# part d/e - if you didn't write out your calcuations above, embed a picture of them here:\n",
    "from IPython.display import Image\n",
    "Image(filename=\"path-to-hand-calulations-image.png\")"
   ]
  },
  {
   "cell_type": "markdown",
   "metadata": {},
   "source": [
    "# Question 7: Naive Bayes Inference.\n",
    "In the next two questions you'll write code to parallelize the Naive Bayes calculations that you performed above. We'll do this in two phases: one MapReduce job to perform training and a second MapReduce to perform inference. While in practice we'd need to train a model before we can use it to classify documents, for learning purposes we're going to develop our code in the opposite order. By first focusing on the pieces of information/format we need to perform the classification (inference) task you should find it easier to develop a solid implementation for training phase when you get to question 8 below. In both of these questions we'll continue to use the Chinese example corpus from the textbook to help us test our MapReduce code as we develop it. Below we've reproduced the corpus, test set and model in text format that matches the Enron data.\n",
    "\n",
    "### Q7 Tasks:\n",
    "* __a) short response:__ run the provided cells to create the example files and load them in to HDFS. Then take a closer look at __`NBmodel.txt`__. This text file represents a Naive Bayes model trained (with Laplace +1 smoothing) on the example corpus. What are the 'keys' and 'values' in this file? Which record means something slightly different than the rest? The value field of each record includes two numbers which will be helpful for debugging but which we don't actually need to perform inference -- what are they? [`HINT`: _This file represents the model from Example 13.1 in the textbook, if you're having trouble getting oriented try comparing our file to the numbers in that example._]\n",
    "\n",
    "\n",
    "* __b) short response:__ When performing Naive Bayes in practice instead of multiplying the probabilities (as in equation 13.3) we add their logs (as in equation 13.4). Why do we choose to work with log probabilities? If we had an unsmoothed model, what potential error could arise from this transformation?\n",
    "\n",
    "\n",
    "* __c) short response:__ Documents 6 and 8 in the test set include a word that did not appear in the training corpus (and as a result does not appear in the model). What should we do at inference time when we need a class conditional probability for this word?\n",
    "\n",
    "\n",
    "* __d) short response:__ The goal of our MapReduce job is to stream over the test set and classify each document by peforming the calculation from equation 13.4. To do this we'll load the model file (which contains the probabilities for equation 13.4) into memory on the nodes where we do our mapping. This is called an in-memory join. Does loading a model 'state' like this depart from the functional programming principles? Explain why or why not. From a scability perspective when would this kind of memory use be justified? when would it be unwise?\n",
    "\n",
    "\n",
    "* __e) code:__ Complete the code in __`NaiveBayes/classify_mapper.py`__. Read the docstring carefully to understand how this script should work and the format it should return. Run the provided unit tests to confirm that your script works as expected then write a Hadoop streaming job to classify the Chinese example test set. [`HINT 1:` _you shouldn't need a reducer for this one._ `HINT 2:` _Don't forget to add the model file to the_ `-files` _parameter in your Hadoop streaming job so that it gets shipped to the mapper nodes where it will be accessed by your script._]\n",
    "\n",
    "\n",
    "* __f) short response:__ In our test example and in the Enron data set we have fairly short documents. Since these fit fine in memory on a mapper node we didn't need a reducer and could just do all of our calculations in the mapper. However with much longer documents (eg. books) we might want a higher level of parallelization -- for example we might want to process parts of a document on different nodes. In this hypothetical scenario how would our algorithm design change? What could the mappers still do? What key-value structure would they emit? What would the reducers have to do as a last step?"
   ]
  },
  {
   "cell_type": "markdown",
   "metadata": {},
   "source": [
    "### Q7 Student Answers:\n",
    "> __a)__ Type your answer here!\n",
    "\n",
    "> __b)__ Type your answer here!\n",
    "\n",
    "> __c)__ Type your answer here!\n",
    "\n",
    "> __d)__ Type your answer here!\n",
    "\n",
    "> __e)__ Complete the coding portion of this question before answering 'f'.\n",
    "\n",
    "> __f)__ Type your answer here!\n"
   ]
  },
  {
   "cell_type": "markdown",
   "metadata": {},
   "source": [
    "Run these cells to create the example corpus and model."
   ]
  },
  {
   "cell_type": "code",
   "execution_count": 28,
   "metadata": {},
   "outputs": [
    {
     "name": "stdout",
     "output_type": "stream",
     "text": [
      "Writing NaiveBayes/chineseTrain.txt\n"
     ]
    }
   ],
   "source": [
    "%%writefile NaiveBayes/chineseTrain.txt\n",
    "D1\t1\t\tChinese Beijing Chinese\n",
    "D2\t1\t\tChinese Chinese Shanghai\n",
    "D3\t1\t\tChinese Macao\n",
    "D4\t0\t\tTokyo Japan Chinese"
   ]
  },
  {
   "cell_type": "code",
   "execution_count": 29,
   "metadata": {},
   "outputs": [
    {
     "name": "stdout",
     "output_type": "stream",
     "text": [
      "Writing NaiveBayes/chineseTest.txt\n"
     ]
    }
   ],
   "source": [
    "%%writefile NaiveBayes/chineseTest.txt\n",
    "D5\t1\t\tChinese Chinese Chinese Tokyo Japan\n",
    "D6\t1\t\tBeijing Shanghai Trade\n",
    "D7\t0\t\tJapan Macao Tokyo\n",
    "D8\t0\t\tTokyo Japan Trade"
   ]
  },
  {
   "cell_type": "code",
   "execution_count": 30,
   "metadata": {},
   "outputs": [
    {
     "name": "stdout",
     "output_type": "stream",
     "text": [
      "Writing NBmodel.txt\n"
     ]
    }
   ],
   "source": [
    "%%writefile NBmodel.txt\n",
    "beijing\t0.0,1.0,0.111111111111,0.142857142857\n",
    "chinese\t1.0,5.0,0.222222222222,0.428571428571\n",
    "tokyo\t1.0,0.0,0.222222222222,0.0714285714286\n",
    "shanghai\t0.0,1.0,0.111111111111,0.142857142857\n",
    "ClassPriors\t1.0,3.0,0.25,0.75\n",
    "japan\t1.0,0.0,0.222222222222,0.0714285714286\n",
    "macao\t0.0,1.0,0.111111111111,0.142857142857"
   ]
  },
  {
   "cell_type": "code",
   "execution_count": 31,
   "metadata": {},
   "outputs": [],
   "source": [
    "# load the data files into HDFS\n",
    "!hdfs dfs -copyFromLocal NaiveBayes/chineseTrain.txt {HDFS_DIR}\n",
    "!hdfs dfs -copyFromLocal NaiveBayes/chineseTest.txt {HDFS_DIR}"
   ]
  },
  {
   "cell_type": "markdown",
   "metadata": {},
   "source": [
    "Your work for `part e` starts here:"
   ]
  },
  {
   "cell_type": "code",
   "execution_count": 32,
   "metadata": {},
   "outputs": [],
   "source": [
    "# part e - do your work in NaiveBayes/classify_mapper.py first, then run this cell.\n",
    "!chmod a+x NaiveBayes/classify_mapper.py"
   ]
  },
  {
   "cell_type": "code",
   "execution_count": 33,
   "metadata": {},
   "outputs": [
    {
     "name": "stdout",
     "output_type": "stream",
     "text": [
      "#!/usr/bin/env python\n",
      "\"\"\"\n",
      "Mapper for Naive Bayes Inference.\n",
      "INPUT:\n",
      "    ID \\t true_class \\t subject \\t body \\n\n",
      "OUTPUT:\n",
      "    ID \\t true_class \\t logP(ham|doc) \\t logP(spam|doc) \\t predicted_class\n",
      "SUPPLEMENTAL FILE: \n",
      "    This script requires a trained Naive Bayes model stored \n",
      "    as NBmodel.txt in the current directory. The model should \n",
      "    be a tab separated file whose records look like:\n",
      "        WORD \\t ham_count,spam_count,P(word|ham),P(word|spam)\n",
      "        \n",
      "Instructions:\n",
      "    We have loaded the supplemental file and taken the log of \n",
      "    each conditional probability in the model. We also provide\n",
      "    the code to tokenize the input lines for you. Keep in mind \n",
      "    that each 'line' of this file represents a unique document \n",
      "    that we wish to classify. Fill in the missing code to get\n",
      "    the probability of each class given the words in the document.\n",
      "    Remember that you will need to handle the case where you\n",
      "    encounter a word that is not represented in the model.\n",
      "\"\"\"\n",
      "import os\n",
      "import re\n",
      "import sys\n",
      "import numpy as np\n",
      "\n",
      "# confirm that we have access to the model file\n",
      "assert 'NBmodel.txt' in os.listdir('.'), \"ERROR: can't find NBmodel.txt\"\n",
      "\n",
      "# load the model into a dictionary for easy access\n",
      "MODEL = {}\n",
      "for record in open('NBmodel.txt', 'r').readlines():\n",
      "    word, payload = record.split('\\t')\n",
      "    # extract conditional probabilities\n",
      "    ham_cProb, spam_cProb = payload.split(',')[2:]\n",
      "    # save their logs as a tuple in our model dictionary\n",
      "    take_log = lambda x: np.log(x) if x != 0 else float(\"-inf\")\n",
      "    MODEL[word] = (take_log(float(ham_cProb)),\n",
      "                   take_log(float(spam_cProb)))\n",
      "\n",
      "# read from standard input\n",
      "for line in sys.stdin:\n",
      "    # parse input and tokenize\n",
      "    docID, _class, subject, body = line.lower().split('\\t')\n",
      "    words = re.findall(r'[a-z]+', subject + ' ' + body)\n",
      "    \n",
      "    # initialize variables that student code should overwrite\n",
      "    logpHam, logpSpam, pred_class = None, None, None\n",
      "    \n",
      "    ################# YOUR CODE HERE ################\n",
      "    # TIP: try using MODEL.get(word, (0,0)) to access the tuple \n",
      "    # of log probabilities without throwing a KeyError!\n",
      "    logpHam, logpSpam = 0, 0\n",
      "    \n",
      "    # get class priors\n",
      "    class_priors = MODEL.get(\"ClassPriors\", (0,0))\n",
      "    \n",
      "    # add class priors to log probs\n",
      "    logpHam += class_priors[0]\n",
      "    logpSpam += class_priors[1]\n",
      "    \n",
      "    # add log probs for each word\n",
      "    for word in words:\n",
      "        probs = MODEL.get(word, (0,0))\n",
      "        logpHam += probs[0]\n",
      "        logpSpam += probs[1]\n",
      "        \n",
      "    # classify\n",
      "    if logpHam > logpSpam:\n",
      "        pred_class = 0\n",
      "    else:\n",
      "        pred_class = 1\n",
      "\n",
      "\n",
      "\n",
      "\n",
      "    ################# (END) YOUR CODE ##############\n",
      "    \n",
      "    print(f\"{docID}\\t{_class}\\t{logpHam}\\t{logpSpam}\\t{pred_class}\")"
     ]
    }
   ],
   "source": [
    "!cat NaiveBayes/classify_mapper.py"
   ]
  },
  {
   "cell_type": "code",
   "execution_count": 34,
   "metadata": {},
   "outputs": [
    {
     "name": "stdout",
     "output_type": "stream",
     "text": [
      "d5  1  -8.90668134500626   -8.10769031284611   1\n",
      "d6  1  -5.780743515794329  -4.179502370564408  1\n",
      "d7  0  -6.591673732011658  -7.511706880737812  0\n",
      "d8  0  -4.394449154674438  -5.565796731681498  0\n"
     ]
    }
   ],
   "source": [
    "# part e - unit test NaiveBayes/classify_mapper.py (RUN THIS CELL AS IS)\n",
    "!cat NaiveBayes/chineseTest.txt | NaiveBayes/classify_mapper.py | column -t"
   ]
  },
  {
   "cell_type": "code",
   "execution_count": 35,
   "metadata": {},
   "outputs": [
    {
     "name": "stdout",
     "output_type": "stream",
     "text": [
      "rm: `/user/root/HW2//chinese-output': No such file or directory\n"
     ]
    }
   ],
   "source": [
    "# part e - clear the output directory in HDFS (RUN THIS CELL AS IS)\n",
    "!hdfs dfs -rm -r {HDFS_DIR}/chinese-output"
   ]
  },
  {
   "cell_type": "code",
   "execution_count": null,
   "metadata": {},
   "outputs": [],
   "source": [
    "# part e - write your Hadooop streaming job here\n"
   ]
  },
  {
   "cell_type": "code",
   "execution_count": null,
   "metadata": {},
   "outputs": [],
   "source": [
    "# part e - retrieve test set results from HDFS (RUN THIS CELL AS IS)\n",
    "!hdfs dfs -cat {HDFS_DIR}/chinese-output/part-000* > NaiveBayes/chineseResults.txt"
   ]
  },
  {
   "cell_type": "code",
   "execution_count": null,
   "metadata": {},
   "outputs": [],
   "source": [
    "# part e - take a look (RUN THIS CELL AS IS)\n",
    "!cat NaiveBayes/chineseResults.txt | column -t"
   ]
  },
  {
   "cell_type": "markdown",
   "metadata": {},
   "source": [
    "<table>\n",
    "<th> Expected output for the test set:</th>\n",
    "<tr align=Left><td><pre>\n",
    "d5\t1\t-8.90668134\t-8.10769031\t1\n",
    "d6\t1\t-5.78074351\t-4.17950237\t1\n",
    "d7\t0\t-6.59167373\t-7.51170688\t0\n",
    "d8\t0\t-4.39444915\t-5.56579673\t0\n",
    "</pre></td><tr>\n",
    "</table>"
   ]
  },
  {
   "cell_type": "markdown",
   "metadata": {},
   "source": [
    "# Question 8: Naive Bayes Training.\n",
    "In Question 7 we used a model that we had trained by hand. Next we'll develop the code to do that same training in parallel, making it suitable for use with larger corpora (like the Enron emails). The end result of the MapReduce job you write in this question should be a model text file that looks just like the example (`NBmodel.txt`) that we created by hand above.\n",
    "\n",
    "To refresh your memory about the training process take a look at  `6a` and `6b` where you described the pieces of information you'll need to collect in order to encode a Multinomial Naive Bayes model. We now want to retrieve those pieces of information while streaming over a corpus. The bulk of the task will be very similar to the word counting excercises you've already done but you may want to consider a slightly different key-value record structure to efficiently tally counts for each class. \n",
    "\n",
    "The most challenging (interesting?) design question will be how to retrieve the totals (# of documents and # of words in documents for each class). Of course, counting these numbers is easy. The hard part is the timing: you'll need to make sure you have the counts totalled up _before_ you start estimating the class conditional probabilities for each word. It would be best (i.e. most scalable) if we could find a way to do this tallying without storing the whole vocabulary in memory... Use an appropriate MapReduce design pattern to implement this efficiently! \n",
    "\n",
    "\n",
    "### Q8 Tasks:\n",
    "* __a) make a plan:__  Fill in the docstrings for __`NaiveBayes/train_mapper.py`__ and __`NaiveBayes/train_reducer.py`__ to appropriately reflect the format that each script will input/output. [`HINT:` _the input files_ (`enronemail_1h.txt` & `chineseTrain.txt`) _have a prespecified format and your output file should match_ `NBmodel.txt` _so you really only have to decide on an internal format for Hadoop_].\n",
    "\n",
    "\n",
    "* __b) implement it:__ Complete the code in __`NaiveBayes/train_mapper.py`__ and __`NaiveBayes/train_reducer.py`__ so that together they train a Multinomial Naive Bayes model __with no smoothing__. Make sure your end result is formatted correctly (see note above). Test your scripts independently and together (using `chineseTrain.txt` or test input of your own devising). When you are satisfied with your Python code design and run a Hadoop streaming command to run your job in parallel on the __chineseTrain.txt__. Confirm that your trained model matches your hand calculations from Question 6.\n",
    "\n",
    "\n",
    "* __c) short response:__ We saw in Question 6 that adding Laplace smoothing (where the smoothing parameter $k=1$) makes our classifications less sensitve to rare words. However implementing this technique requires access to one additional piece of information that we had not previously used in our Naive Bayes training. What is that extra piece of information? [`HINT:` see equation 13.7 in Manning, Raghavan and Schutze].\n",
    "\n",
    "\n",
    "* __d) short response:__ There are a couple of approaches that we could take to handle the extra piece of information you identified in `c`: 1) if we knew this extra information beforehand, we could provide it to our reducer as a configurable parameter for the vocab size dynamically (_where would we get it in the first place?_). Or 2) we could compute it in the reducer without storing any bulky information in memory but then we'd need some postprocessing or a second MapReduce job to complete the calculation (_why?_). Breifly explain what is non-ideal about each of these options. \n",
    "\n",
    "\n",
    "* __e) code + short response:__ Choose one of the 2 options above. State your choice & reasoning in the space below then use that strategy to complete the code in __`NaiveBayes/train_reducer_smooth.py`__. Test this alternate reducer then write and run a Hadoop streaming job to train an MNB model with smoothing on the Chinese example. Your results should match the model that we provided for you above (and the calculations in the textbook example). __IMPORTANT NOTE:__ For full credit on this question, your code must work with multiple reducers. \n",
    "\n",
    "    - [`HINT:` You will need to implement custom partitioning - [Total Order Sort Notebook](https://github.com/UCB-w261/main/tree/master/HelpfulResources/TotalSortGuide/_total-sort-guide-spark2.01-JAN27-2017.ipynb)] \n",
    "\n",
    "    - [`HINT:` Don't start from scratch with this one -- you can just copy over your reducer code from part `b` and make the needed modifications]. \n"
   ]
  },
  {
   "cell_type": "markdown",
   "metadata": {},
   "source": [
    "\n",
    "__IMPORTANT NOTE:__ For full credit on this question, your code must work with multiple reducers. [`HINT:`_You will need to implement custom partitioning - [Total Order Sort Notebook](https://github.com/UCB-w261/main/tree/master/HelpfulResources/TotalSortGuide/_total-sort-guide-spark2.01-JAN27-2017.ipynb)]\n"
   ]
  },
  {
   "cell_type": "markdown",
   "metadata": {},
   "source": [
    "### Q8 Student Answers:\n",
    "> __ c)__ Type your answer here!\n",
    "\n",
    "> __ d)__ Type your answer here!\n",
    "\n",
    "> __ e)__ Type your answer here!\n"
   ]
  },
  {
   "cell_type": "code",
   "execution_count": 36,
   "metadata": {},
   "outputs": [
    {
     "name": "stdout",
     "output_type": "stream",
     "text": [
      "=========== MAPPER DOCSTRING ============\n",
      "Mapper reads in text documents and emits word counts by class.\n",
      "INPUT:                                                    \n",
      "    DocID \\t true_class \\t subject \\t body                \n",
      "OUTPUT:                                                   \n",
      "    partitionKey \\t word \\t class0_partialCount,class1_partialCount       \n",
      "    \n",
      "=========== REDUCER DOCSTRING ============\n",
      "Reducer aggregates word counts by class and emits frequencies.\n",
      "\n",
      "INPUT:\n",
      "    partitionKey \\t word \\t class0_partialCount,class1_partialCount\n",
      "OUTPUT:\n",
      "    word \\t not_class_wordCount,class_wordCount,p_not_class,p_class\n"
     ]
    }
   ],
   "source": [
    "# part a - do your work in train_mapper.py and train_reducer.py then RUN THIS CELL AS IS\n",
    "!chmod a+x NaiveBayes/train_mapper.py\n",
    "!chmod a+x NaiveBayes/train_reducer.py\n",
    "!echo \"=========== MAPPER DOCSTRING ============\"\n",
    "!head -n 8 NaiveBayes/train_mapper.py | tail -n 6\n",
    "!echo \"=========== REDUCER DOCSTRING ============\"\n",
    "!head -n 8 NaiveBayes/train_reducer.py | tail -n 6"
   ]
  },
  {
   "cell_type": "code",
   "execution_count": 42,
   "metadata": {},
   "outputs": [
    {
     "name": "stdout",
     "output_type": "stream",
     "text": [
      "#!/usr/bin/env python\n",
      "\"\"\"\n",
      "Mapper reads in text documents and emits word counts by class.\n",
      "INPUT:                                                    \n",
      "    DocID \\t true_class \\t subject \\t body                \n",
      "OUTPUT:                                                   \n",
      "    partitionKey \\t word \\t class0_partialCount,class1_partialCount       \n",
      "    \n",
      "\n",
      "Instructions:\n",
      "    You know what this script should do, go for it!\n",
      "    (As a favor to the graders, please comment your code clearly!)\n",
      "    \n",
      "    A few reminders:\n",
      "    1) To make sure your results match ours please be sure\n",
      "       to use the same tokenizing that we have provided in\n",
      "       all the other jobs:\n",
      "         words = re.findall(r'[a-z]+', text-to-tokenize.lower())\n",
      "         \n",
      "    2) Don't forget to handle the various \"totals\" that you need\n",
      "       for your conditional probabilities and class priors.\n",
      "       \n",
      "Partitioning:\n",
      "    In order to send the totals to each reducer, we need to implement\n",
      "    a custom partitioning strategy.\n",
      "    \n",
      "    We will generate a list of keys based on the number of reduce tasks \n",
      "    that we read in from the environment configuration of our job.\n",
      "    \n",
      "    We'll prepend the partition key by hashing the word and selecting the\n",
      "    appropriate key from our list. This will end up partitioning our data\n",
      "    as if we'd used the word as the partition key - that's how it worked\n",
      "    for the single reducer implementation. This is not necessarily \"good\",\n",
      "    as our data could be very skewed. However, in practice, for this\n",
      "    exercise it works well. The next step would be to generate a file of\n",
      "    partition split points based on the distribution as we've seen in \n",
      "    previous exercises.\n",
      "    \n",
      "    Now that we have a list of partition keys, we can send the totals to \n",
      "    each reducer by prepending each of the keys to each total.\n",
      "       \n",
      "\"\"\"\n",
      "\n",
      "import re                                                   \n",
      "import sys                                                  \n",
      "import numpy as np      \n",
      "\n",
      "from operator import itemgetter\n",
      "import os\n",
      "\n",
      "#################### YOUR CODE HERE ###################\n",
      "# get num reduce jobs\n",
      "N = int(os.getenv(\"mapreduce_job_reduces\", default=2))\n",
      "\n",
      "# create hash\n",
      "def makeKeyHash(key, num_reducers):\n",
      "    byteof = lambda char: int(format(ord(char), \"b\"), 2)\n",
      "    current_hash = 0\n",
      "    for c in key:\n",
      "        current_hash = (current_hash * 31 + byteof(c))\n",
      "    return current_hash % num_reducers\n",
      "\n",
      "# generate partition keys\n",
      "def makePartitionKeys(num_reducers):\n",
      "    KEYS = list(map(chr, range(ord(\"A\"), ord(\"Z\")+1)))[:num_reducers]\n",
      "    partition_keys = sorted(KEYS, key=lambda k: makeKeyHash(k,num_reducers))\n",
      "    return partition_keys\n",
      "\n",
      "\n",
      "# call your helper function to get partition keys\n",
      "pKeys = makePartitionKeys(N)\n",
      "\n",
      "# initalize tracking variables\n",
      "class0_partialCount = 0\n",
      "class1_partialCount = 0\n",
      "\n",
      "# process the input line by line\n",
      "for line in sys.stdin: \n",
      "    docID, _class, subject, body  = line.strip().split(\"\\t\") \n",
      "    \n",
      "    words = re.findall(r\"[a-z]+\", subject.lower() + \" \" + body.lower())\n",
      "    \n",
      "    for word in words:\n",
      "        \n",
      "        # initalize tracking variables\n",
      "        class0_partialCount = 0\n",
      "        class1_partialCount = 0\n",
      "        \n",
      "        # get partition key for current word\n",
      "        pKey = pKeys[makeKeyHash(word, N)]\n",
      "        \n",
      "        # updates partial count\n",
      "        if int(_class)==1:\n",
      "            class1_partialCount = 1\n",
      "        else:\n",
      "             class0_partialCount = 1\n",
      "        \n",
      "        print(f\"{pKey}\\t{word}\\t{class0_partialCount},{class1_partialCount}\")\n",
      "            \n",
      "        \n",
      "\n",
      "\n",
      "\n",
      "\n",
      "\n",
      "\n",
      "\n",
      "\n",
      "\n",
      "\n",
      "\n",
      "\n",
      "\n",
      "\n",
      "\n",
      "\n",
      "\n",
      "\n",
      "\n",
      "\n",
      "\n",
      "\n",
      "\n",
      "\n",
      "\n",
      "\n",
      "\n",
      "\n",
      "\n",
      "\n",
      "\n",
      "#################### (END) YOUR CODE ###################"
     ]
    }
   ],
   "source": [
    "!cat NaiveBayes/train_mapper.py"
   ]
  },
  {
   "cell_type": "code",
   "execution_count": 43,
   "metadata": {
    "scrolled": true
   },
   "outputs": [
    {
     "name": "stdout",
     "output_type": "stream",
     "text": [
      "#!/usr/bin/env python\n",
      "\"\"\"\n",
      "Reducer aggregates word counts by class and emits frequencies.\n",
      "\n",
      "INPUT:\n",
      "    partitionKey \\t word \\t class0_partialCount,class1_partialCount\n",
      "OUTPUT:\n",
      "    word \\t not_classCount,classCount,p_not_class,p_class\n",
      "    \n",
      "Instructions:\n",
      "    Again, you are free to design a solution however you see \n",
      "    fit as long as your final model meets our required format\n",
      "    for the inference job we designed in Question 8. Please\n",
      "    comment your code clearly and concisely.\n",
      "    \n",
      "    A few reminders: \n",
      "    1) Don't forget to emit Class Priors (with the right key).\n",
      "    2) In python2: 3/4 = 0 and 3/float(4) = 0.75\n",
      "\"\"\"\n",
      "##################### YOUR CODE HERE ####################\n",
      "import sys\n",
      "\n",
      "# initialize tracking variables\n",
      "current_word = None\n",
      "not_classCount = 0\n",
      "classCount = 0\n",
      "not_classCount_total\n",
      "classCount_total = 0\n",
      "p0, p1 = 0, 0\n",
      "\n",
      "for line in sys.stdin:\n",
      "    pKey, word, counts = line.strip().split()\n",
      "    class0_count, class1_count = counts.strip().split(\",\")\n",
      "    class0_count, class1_count = float(class0_count), float(class1_count)\n",
      "    \n",
      "    if word == current_word:\n",
      "        if class0_count > 0:\n",
      "            not_classCount += class0_count\n",
      "            not_classCount_total += class0_count\n",
      "        else:\n",
      "            classCount += class1_count\n",
      "            classCount_total += class1_count\n",
      "        \n",
      "    elif current_word:\n",
      "        \n",
      "        if word == \"ClassPriors\":\n",
      "            p0, p1 = class0_count, class1_count\n",
      "        \n",
      "        else:\n",
      "            print(f\"{current_word}\\t{not_classCount},{class_Count},{not_classCount/not_classCount_total},{classCount/classCount_total}\")\n",
      "            \n",
      "# print last line\n",
      "print(f\"{current_word}\\t{not_classCount},{class_Count},{not_classCount/not_classCount_total},{classCount/classCount_total}\")      \n",
      "        \n",
      "        \n",
      "\n",
      "\n",
      "\n",
      "\n",
      "\n",
      "\n",
      "\n",
      "\n",
      "\n",
      "\n",
      "\n",
      "\n",
      "\n",
      "\n",
      "\n",
      "\n",
      "\n",
      "\n",
      "\n",
      "\n",
      "\n",
      "\n",
      "\n",
      "\n",
      "\n",
      "\n",
      "\n",
      "\n",
      "\n",
      "\n",
      "\n",
      "\n",
      "\n",
      "\n",
      "\n",
      "\n",
      "##################### (END) CODE HERE ####################"
     ]
    }
   ],
   "source": [
    "!cat NaiveBayes/train_reducer.py"
   ]
  },
  {
   "cell_type": "code",
   "execution_count": 44,
   "metadata": {},
   "outputs": [
    {
     "name": "stdout",
     "output_type": "stream",
     "text": [
      "#!/usr/bin/env python\n",
      "\n",
      "import os\n",
      "import sys                                                  \n",
      "import numpy as np  \n",
      "\n",
      "#################### YOUR CODE HERE ###################\n",
      "\n",
      "\n",
      "\n",
      "\n",
      "\n",
      "\n",
      "\n",
      "\n",
      "\n",
      "\n",
      "\n",
      "\n",
      "\n",
      "\n",
      "\n",
      "\n",
      "\n",
      "\n",
      "\n",
      "\n",
      "\n",
      "\n",
      "\n",
      "\n",
      "\n",
      "\n",
      "\n",
      "\n",
      "\n",
      "\n",
      "\n",
      "\n",
      "\n",
      "#################### (END) YOUR CODE ###################"
     ]
    }
   ],
   "source": [
    "!cat NaiveBayes/train_reducer_smooth.py"
   ]
  },
  {
   "cell_type": "markdown",
   "metadata": {},
   "source": [
    "__`part b starts here`:__ MNB _without_ Smoothing (training on Chinese Example Corpus)."
   ]
  },
  {
   "cell_type": "code",
   "execution_count": 41,
   "metadata": {},
   "outputs": [
    {
     "name": "stdout",
     "output_type": "stream",
     "text": [
      "A  chinese   1,0\n",
      "A  chinese   0,1\n",
      "A  chinese   0,1\n",
      "A  chinese   0,1\n",
      "A  chinese   0,1\n",
      "A  chinese   0,1\n",
      "A  macao     0,1\n",
      "A  shanghai  0,1\n",
      "B  beijing   0,1\n",
      "B  japan     1,0\n",
      "B  tokyo     1,0\n"
     ]
    }
   ],
   "source": [
    "# part b - write a unit test for your mapper here\n",
    "!cat NaiveBayes/chineseTrain.txt | NaiveBayes/train_mapper.py | sort -k1,1 -k2,2 -k3,3nr | column -t"
   ]
  },
  {
   "cell_type": "code",
   "execution_count": null,
   "metadata": {},
   "outputs": [],
   "source": [
    "# part b - write a unit test for your reducer here\n",
    "!echo \"!0\t!doctotal\t1,3\\n0!wordtotal\t3,8\\n0\tchinese\t0,1\\n0\tchinese1\t1,1\\n0\tmacao\t0,1\" | NaiveBayes/train_reducer.py"
   ]
  },
  {
   "cell_type": "code",
   "execution_count": null,
   "metadata": {},
   "outputs": [],
   "source": [
    "# part b - write a systems test for your mapper + reducer together here\n",
    "!cat NaiveBayes/chineseTrain.txt | NaiveBayes/train_mapper.py | sort -k1,1 -k2,2 -k3,3nr | NaiveBayes/train_reducer.py | column -t"
   ]
  },
  {
   "cell_type": "code",
   "execution_count": null,
   "metadata": {},
   "outputs": [],
   "source": [
    "# part b - clear (and name) an output directory in HDFS for your unsmoothed chinese NB model\n",
    "!hdfs dfs -rm -r {HDFS_DIR}/chinese-output-unsmoothed"
   ]
  },
  {
   "cell_type": "code",
   "execution_count": null,
   "metadata": {},
   "outputs": [],
   "source": [
    "# part b - write your hadoop streaming job\n",
    "!hadoop jar {JAR_FILE} \\\n",
    "  -D mapreduce.job.output.key.comparator.class=org.apache.hadoop.mapred.lib.KeyFieldBasedComparator \\\n",
    "  -D stream.num.map.output.key.fields=2 \\\n",
    "  -D mapreduce.partition.keypartitioner.options=\"-k1,1\" \\\n",
    "  -D mapreduce.partition.keycomparator.options=\"-k2,2nr -k3,3nr\" \\\n",
    "  -files NaiveBayes/train_mapper.py,NaiveBayes/train_reducer.py \\\n",
    "  -mapper train_mapper.py \\\n",
    "  -reducer train_reducer.py \\\n",
    "  -partitioner org.apache.hadoop.mapred.lib.KeyFieldBasedPartitioner \\\n",
    "  -input {HDFS_DIR}/chineseTrain.txt \\\n",
    "  -output {HDFS_DIR}/chinese-output-unsmoothed \\\n",
    "  -numReduceTasks 1 \\\n",
    "  -cmdenv PATH={PATH}"
   ]
  },
  {
   "cell_type": "code",
   "execution_count": null,
   "metadata": {},
   "outputs": [],
   "source": [
    "# part b - extract your results (i.e. model) to a local file"
   ]
  },
  {
   "cell_type": "code",
   "execution_count": null,
   "metadata": {},
   "outputs": [],
   "source": [
    "# part b - print your model so that we can confirm that it matches expected results"
   ]
  },
  {
   "cell_type": "code",
   "execution_count": null,
   "metadata": {},
   "outputs": [],
   "source": [
    "!cat NaiveBayes/chineseTrain.txt"
   ]
  },
  {
   "cell_type": "markdown",
   "metadata": {},
   "source": [
    "__`part e starts here`:__ MNB _with_ Smoothing (training on Chinese Example Corpus)."
   ]
  },
  {
   "cell_type": "code",
   "execution_count": null,
   "metadata": {},
   "outputs": [],
   "source": [
    "# part e - write a unit test for your NEW reducer here"
   ]
  },
  {
   "cell_type": "code",
   "execution_count": null,
   "metadata": {},
   "outputs": [],
   "source": [
    "# part e - write a systems test for your mapper + reducer together here"
   ]
  },
  {
   "cell_type": "code",
   "execution_count": null,
   "metadata": {},
   "outputs": [],
   "source": [
    "# part e - clear (and name) an output directory in HDFS for your SMOOTHED chinese NB model"
   ]
  },
  {
   "cell_type": "code",
   "execution_count": null,
   "metadata": {},
   "outputs": [],
   "source": [
    "# part e - write your hadoop streaming job"
   ]
  },
  {
   "cell_type": "code",
   "execution_count": null,
   "metadata": {},
   "outputs": [],
   "source": [
    "# part e - extract your results (i.e. model) to a local file"
   ]
  },
  {
   "cell_type": "code",
   "execution_count": null,
   "metadata": {},
   "outputs": [],
   "source": [
    "# part e - print your model (above local file) so that we can confirm that it matches expected results"
   ]
  },
  {
   "cell_type": "markdown",
   "metadata": {},
   "source": [
    "# Question 9: Enron Ham/Spam NB Classifier & Results.\n",
    "\n",
    "Fantastic work. We're finally ready to perform Spam Classification on the Enron Corpus. In this question you'll run the analysis you've developed, report its performance.\n",
    "\n",
    "### Q9 Tasks:\n",
    "* __a) train/test split:__ Run the provided code to split our Enron file into a training set and testing set then load them into HDFS. [`NOTE:` _Make sure you re calculate the vocab size for just the training set!_]\n",
    "\n",
    "* __b) train 2 models:__ Write Hadoop Streaming jobs to train MNB Models on the training set with and without smoothing. Save your models to local files at __`NaiveBayes/Unsmoothed/NBmodel.txt`__ and __`NaiveBayes/Smoothed/NBmodel.txt`__. [`NOTE:` _This naming is important because we wrote our classification task so that it expects a file of that name... if this inelegance frustrates you there is an alternative that would involve a few adjustments to your code [read more about it here](http://www.tnoda.com/blog/2013-11-23)._] Finally run the checks that we provide to confirm that your results are correct.\n",
    "\n",
    "\n",
    "* __c) code:__ Recall that we designed our classification job with just a mapper. An efficient way to report the performance of our models would be to simply add a reducer phase to this job and compute precision and recall right there. Complete the code in __`NaiveBayes/evaluation_reducer.py`__ and then write Hadoop jobs to evaluate your two models on the test set. Report their performance side by side. [`NOTE:` if you need a refresher on precision, recall and F1-score [Wikipedia](https://en.wikipedia.org/wiki/F1_score) is a good resource.]\n",
    "\n",
    "\n",
    "* __d) short response:__ Compare the performance of your two models. What do you notice about the unsmoothed model's predictions? Can you guess why this is happening? Which evaluation measure do you think is most relevant in our use case? [`NOTE:` _Feel free to answer using your common sense but if you want more information on evaluating the classification task checkout_ [this blogpost](https://tryolabs.com/blog/2013/03/25/why-accuracy-alone-bad-measure-classification-tasks-and-what-we-can-do-about-it/\n",
    ") or [this paper](http://www.flinders.edu.au/science_engineering/fms/School-CSEM/publications/tech_reps-research_artfcts/TRRA_2007.pdf\n",
    ")]\n",
    "\n"
   ]
  },
  {
   "cell_type": "markdown",
   "metadata": {},
   "source": [
    "### Q9 Student Answers:\n",
    "> __d)__ \n",
    "\n"
   ]
  },
  {
   "cell_type": "markdown",
   "metadata": {},
   "source": [
    "__Test/Train split__"
   ]
  },
  {
   "cell_type": "code",
   "execution_count": null,
   "metadata": {},
   "outputs": [],
   "source": [
    "# part a - test/train split (RUN THIS CELL AS IS)\n",
    "!head -n 80 data/enronemail_1h.txt > data/enron_train.txt\n",
    "!tail -n 20 data/enronemail_1h.txt > data/enron_test.txt\n",
    "!hdfs dfs -copyFromLocal data/enron_train.txt {HDFS_DIR}\n",
    "!hdfs dfs -copyFromLocal data/enron_test.txt {HDFS_DIR}"
   ]
  },
  {
   "cell_type": "markdown",
   "metadata": {},
   "source": [
    "__Training__ (Enron MNB Model _without smoothing_ )"
   ]
  },
  {
   "cell_type": "code",
   "execution_count": null,
   "metadata": {},
   "outputs": [],
   "source": [
    "# part b -  Unsmoothed model (FILL IN THE MISSING CODE BELOW)\n",
    "\n",
    "# clear the output directory\n",
    "!hdfs dfs -rm -r {HDFS_DIR}/enron-model\n",
    "\n",
    "# hadoop command\n",
    "!hadoop jar {JAR_FILE} \\\n",
    "\n",
    "\n",
    "\n",
    "\n",
    "\n",
    "\n",
    "\n",
    "\n",
    "# save the model locally\n",
    "!mkdir NaiveBayes/Unsmoothed\n",
    "!hdfs dfs -cat {HDFS_DIR}/enron-model/part-000* > NaiveBayes/Unsmoothed/NBmodel.txt"
   ]
  },
  {
   "cell_type": "code",
   "execution_count": null,
   "metadata": {},
   "outputs": [],
   "source": [
    "# part b - check your UNSMOOTHED model results (RUN THIS CELL AS IS)\n",
    "!grep assistance NaiveBayes/Unsmoothed/NBmodel.txt\n",
    "# EXPECTED OUTPUT: assistance\t2,4,0.000172547666293,0.000296823983378"
   ]
  },
  {
   "cell_type": "code",
   "execution_count": null,
   "metadata": {},
   "outputs": [],
   "source": [
    "# part b - check your UNSMOOTHED model results (RUN THIS CELL AS IS)\n",
    "!grep money NaiveBayes/Unsmoothed/NBmodel.txt\n",
    "# EXPECTED OUTPUT: money\t1,22,8.62738331464e-05,0.00163253190858"
   ]
  },
  {
   "cell_type": "markdown",
   "metadata": {},
   "source": [
    "__Training__ (Enron MNB Model _with Laplace +1 smoothing_ )"
   ]
  },
  {
   "cell_type": "code",
   "execution_count": null,
   "metadata": {},
   "outputs": [],
   "source": [
    "# part b -  Smoothed model (FILL IN THE MISSING CODE BELOW)\n",
    "\n",
    "# clear the output directory\n",
    "!hdfs dfs -rm -r {HDFS_DIR}/smooth-model\n",
    "\n",
    "# hadoop command\n",
    "!hadoop jar {JAR_FILE} \\\n",
    "\n",
    "\n",
    "\n",
    "\n",
    "\n",
    "\n",
    "\n",
    "# save the model locally\n",
    "!mkdir NaiveBayes/Unsmoothed\n",
    "!hdfs dfs -cat {HDFS_DIR}/smooth-model/part-000* > NaiveBayes/Smoothed/NBmodel.txt"
   ]
  },
  {
   "cell_type": "code",
   "execution_count": null,
   "metadata": {},
   "outputs": [],
   "source": [
    "# part b - check your SMOOTHED model results (RUN THIS CELL AS IS)\n",
    "!grep assistance NaiveBayes/Smoothed/NBmodel.txt\n",
    "# EXPECTED OUTPUT: assistance\t2,4,0.000185804533631,0.000277300205202"
   ]
  },
  {
   "cell_type": "code",
   "execution_count": null,
   "metadata": {},
   "outputs": [],
   "source": [
    "# part b - check your SMOOTHED model results (RUN THIS CELL AS IS)\n",
    "!grep money NaiveBayes/Smoothed/NBmodel.txt\n",
    "# EXPECTED OUTPUT: money\t1,22,0.000123869689087,0.00127558094393"
   ]
  },
  {
   "cell_type": "markdown",
   "metadata": {},
   "source": [
    "__Evaluation__"
   ]
  },
  {
   "cell_type": "code",
   "execution_count": null,
   "metadata": {},
   "outputs": [],
   "source": [
    "# part c - write your code in NaiveBayes/evaluation_reducer.py then RUN THIS\n",
    "!chmod a+x NaiveBayes/evaluation_reducer.py"
   ]
  },
  {
   "cell_type": "code",
   "execution_count": null,
   "metadata": {},
   "outputs": [],
   "source": [
    "!cat NaiveBayes/evaluation_reducer.py"
   ]
  },
  {
   "cell_type": "code",
   "execution_count": null,
   "metadata": {},
   "outputs": [],
   "source": [
    "# part c - unit test your evaluation job on the chinese model (RUN THIS CELL AS IS)\n",
    "!cat NaiveBayes/chineseTest.txt | NaiveBayes/classify_mapper.py \n",
    "!cat NaiveBayes/chineseTest.txt | NaiveBayes/classify_mapper.py | NaiveBayes/evaluation_reducer.py"
   ]
  },
  {
   "cell_type": "code",
   "execution_count": null,
   "metadata": {},
   "outputs": [],
   "source": [
    "# part c - Evaluate the UNSMOOTHED Model Here (FILL IN THE MISSING CODE)\n",
    "\n",
    "# clear output directory\n",
    "\n",
    "# hadoop job\n",
    "\n",
    "\n",
    "\n",
    "\n",
    "\n",
    "# retrieve results locally"
   ]
  },
  {
   "cell_type": "code",
   "execution_count": null,
   "metadata": {},
   "outputs": [],
   "source": [
    "# part c - Evaluate the SMOOTHED Model Here (FILL IN THE MISSING CODE)\n",
    "\n",
    "# clear output directory\n",
    "\n",
    "# hadoop job\n",
    "\n",
    "\n",
    "\n",
    "\n",
    "\n",
    "# retrieve results locally"
   ]
  },
  {
   "cell_type": "code",
   "execution_count": null,
   "metadata": {},
   "outputs": [],
   "source": [
    "# part c - display results \n",
    "# NOTE: feel free to modify the tail commands to match the format of your results file\n",
    "print('=========== UNSMOOTHED MODEL ============')\n",
    "!tail -n 9 NaiveBayes/Unsmoothed/results.txt\n",
    "print('=========== SMOOTHED MODEL ============')\n",
    "!tail -n 9 NaiveBayes/Smoothed/results.txt"
   ]
  },
  {
   "cell_type": "markdown",
   "metadata": {},
   "source": [
    "__`EXPECTED RESULTS:`__ \n",
    "<table>\n",
    "<th>Unsmoothed Model</th>\n",
    "<th>Smoothed Model</th>\n",
    "<tr>\n",
    "<td><pre>\n",
    "# Documents:\t20\n",
    "True Positives:\t1\n",
    "True Negatives:\t9\n",
    "False Positives:\t0\n",
    "False Negatives:\t10\n",
    "Accuracy\t0.5\n",
    "Precision\t1.0\n",
    "Recall\t0.0909\n",
    "F-Score\t0.1666\n",
    "</pre></td>\n",
    "<td><pre>\n",
    "# Documents:\t20\n",
    "True Positives:\t11\n",
    "True Negatives:\t6\n",
    "False Positives:\t3\n",
    "False Negatives:\t0\n",
    "Accuracy\t0.85\n",
    "Precision\t0.7857\n",
    "Recall\t1.0\n",
    "F-Score\t0.88\n",
    "</pre></td>\n",
    "</tr>\n",
    "</table>\n",
    "\n",
    "__`NOTE:`__ _Don't be too disappointed if these seem low to you. We've trained and tested on a very very small corpus... bigger datasets coming soon!_"
   ]
  },
  {
   "cell_type": "markdown",
   "metadata": {},
   "source": [
    "# Question 10: Custom Partitioning and Secondary Sort\n",
    "\n",
    "Now that we have our model, we can analyse the results and think about future improvements.\n",
    "\n",
    "### Q10 Tasks:\n",
    "\n",
    "* __a) code + short response:__ Let's look at the top ten words with the highest conditional probability in `Spam` and in `Ham`. We'll do this by writing a Hadoop job that sorts the model file (`NaiveBayes/Smoothed/NBmodel.py`). Normally we'd have to run two jobs -- one that sorts on $P(word|ham)$ and another that sorts on $P(word|spam)$. However if we slighly modify the data format in the model file then we can get the top words in each class with just one job. We've written a mapper that will do just this for you. Read through __`NaiveBayes/model_sort_mapper.py`__ and then briefly explain how this mapper will allow us to partition and sort our model file. Write a Hadoop job that uses our mapper and `/bin/cat` for a reducer to partition and sort. Print out the top 10 words in each class (where 'top' == highest conditional probability).[`HINT:` _this should remind you a lot of what we did in Question 6._]\n",
    "\n",
    "\n",
    "* __b) short response:__ What do you notice about the 'top words' we printed in `a`? How would increasing the smoothing parameter 'k' affect the probabilities for the top words that you identified for 'a'. How would they affect the probabilities of words that occur much more in one class than another? In summary, how does the smoothing parameter 'k' affect the bias and the variance of our model. [`NOTE:` _you do not need to code anything for this task, but if you are struggling with it you could try changing 'k' and see what happens to the test set. We don't recommend doing this exploration with the Enron data because it will be harder to see the impact with such a big vocabulary_]"
   ]
  },
  {
   "cell_type": "markdown",
   "metadata": {},
   "source": [
    "### Q10 Student Answers:\n",
    "> __a)__ \n",
    "\n",
    "> __b)__ "
   ]
  },
  {
   "cell_type": "code",
   "execution_count": null,
   "metadata": {},
   "outputs": [],
   "source": [
    "# part a - write your Hadoop job here (sort smoothed model on P(word|class))\n",
    "\n",
    "# clear output directory\n",
    "\n",
    "# hadoop job"
   ]
  },
  {
   "cell_type": "code",
   "execution_count": null,
   "metadata": {},
   "outputs": [],
   "source": [
    "# part b - print top words in each class\n"
   ]
  },
  {
   "cell_type": "raw",
   "metadata": {},
   "source": [
    "Expected results:\n",
    "============== PART-00000===============\n",
    "abn\t0,1,6.19348445435402e-05,0.00011092008208086075\tham\t6.19348445435402e-05\t\n",
    "absenteeism\t0,1,6.19348445435402e-05,0.00011092008208086075\tham\t6.19348445435402e-05\t\n",
    "absolute\t0,1,6.19348445435402e-05,0.00011092008208086075\tham\t6.19348445435402e-05\t\n",
    "absolutely\t0,1,6.19348445435402e-05,0.00011092008208086075\tham\t6.19348445435402e-05\t\n",
    "absorb\t0,1,6.19348445435402e-05,0.00011092008208086075\tham\t6.19348445435402e-05\t\n",
    "abuse\t0,1,6.19348445435402e-05,0.00011092008208086075\tham\t6.19348445435402e-05\t\n",
    "abused\t0,1,6.19348445435402e-05,0.00011092008208086075\tham\t6.19348445435402e-05\t\n",
    "acce\t0,1,6.19348445435402e-05,0.00011092008208086075\tham\t6.19348445435402e-05\t\n",
    "accelerate\t0,1,6.19348445435402e-05,0.00011092008208086075\tham\t6.19348445435402e-05\t\n",
    "accelerated\t0,1,6.19348445435402e-05,0.00011092008208086075\tham\t6.19348445435402e-05\t\n",
    "cat: Unable to write to output stream.\n",
    "============== PART-00001===============\n",
    "ab\t4,0,0.00030967422271770096,5.546004104043037e-05\tspam\t5.546004104043037e-05\t\n",
    "absent\t1,0,0.0001238696890870804,5.546004104043037e-05\tspam\t5.546004104043037e-05\t\n",
    "accepts\t1,0,0.0001238696890870804,5.546004104043037e-05\tspam\t5.546004104043037e-05\t\n",
    "accomodate\t4,0,0.00030967422271770096,5.546004104043037e-05\tspam\t5.546004104043037e-05\t\n",
    "accomodates\t1,0,0.0001238696890870804,5.546004104043037e-05\tspam\t5.546004104043037e-05\t\n",
    "accompanied\t1,0,0.0001238696890870804,5.546004104043037e-05\tspam\t5.546004104043037e-05\t\n",
    "accounting\t4,0,0.00030967422271770096,5.546004104043037e-05\tspam\t5.546004104043037e-05\t\n",
    "accurate\t1,0,0.0001238696890870804,5.546004104043037e-05\tspam\t5.546004104043037e-05\t\n",
    "achieve\t1,0,0.0001238696890870804,5.546004104043037e-05\tspam\t5.546004104043037e-05\t\n",
    "achieved\t1,0,0.0001238696890870804,5.546004104043037e-05\tspam\t5.546004104043037e-05\t\n",
    "cat: Unable to write to output stream."
   ]
  },
  {
   "cell_type": "markdown",
   "metadata": {},
   "source": [
    "### Congratulations, you have completed HW2! Please refer to the readme for submission instructions.\n",
    "\n",
    "If you would like to provide feedback regarding this homework, please use the survey at: https://docs.google.com/forms/d/e/1FAIpQLSce9feiQeSkdP43A0ZYui1tMGIBfLfzb0rmgToQeZD9bXXX8Q/viewform"
   ]
  },
  {
   "cell_type": "code",
   "execution_count": null,
   "metadata": {},
   "outputs": [],
   "source": []
  }
 ],
 "metadata": {
  "kernelspec": {
   "display_name": "Python 3 (ipykernel)",
   "language": "python",
   "name": "python3"
  },
  "language_info": {
   "codemirror_mode": {
    "name": "ipython",
    "version": 3
   },
   "file_extension": ".py",
   "mimetype": "text/x-python",
   "name": "python",
   "nbconvert_exporter": "python",
   "pygments_lexer": "ipython3",
   "version": "3.10.2"
  }
 },
 "nbformat": 4,
 "nbformat_minor": 4
}
