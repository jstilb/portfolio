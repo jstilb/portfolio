{
 "cells": [
  {
   "cell_type": "markdown",
   "metadata": {
    "application/vnd.databricks.v1+cell": {
     "inputWidgets": {},
     "nuid": "9b25213b-47db-495f-9d82-0271f06ad1a7",
     "showTitle": false,
     "title": ""
    }
   },
   "source": [
    "## HW 5 - Page Rank\n",
    "__`MIDS w261: Machine Learning at Scale | UC Berkeley School of Information | Summer 2022`__\n",
    "\n",
    "In Weeks 9 and 10 you discussed key concepts related to graph based algorithms and implemented SSSP.   \n",
    "In this final homework assignment you'll implement distributed PageRank using some data from Wikipedia.\n",
    "By the end of this homework you should be able to:  \n",
    "* ... __compare/contrast__ adjacency matrices and lists as representations of graphs for parallel computation.\n",
    "* ... __explain__ the goal of the PageRank algorithm using the concept of an infinite Random Walk.\n",
    "* ... __define__ a Markov chain including the conditions underwhich it will converge.\n",
    "* ... __identify__ what modifications must be made to the web graph inorder to leverage Markov Chains.\n",
    "* ... __implement__ distributed PageRank in Spark.\n",
    "\n",
    "__Please refer to the `README` for homework submission instructions and additional resources.__"
   ]
  },
  {
   "cell_type": "markdown",
   "metadata": {
    "application/vnd.databricks.v1+cell": {
     "inputWidgets": {},
     "nuid": "7e89eb06-bbe7-486f-a060-170c6c0fd81e",
     "showTitle": false,
     "title": ""
    }
   },
   "source": [
    "### Notebook Set-Up\n",
    "Before starting your homework run the following cells to confirm your setup."
   ]
  },
  {
   "cell_type": "code",
   "execution_count": 1,
   "metadata": {
    "application/vnd.databricks.v1+cell": {
     "inputWidgets": {},
     "nuid": "e4ebf232-974c-41e9-82d7-a1e5cb2a73f2",
     "showTitle": false,
     "title": ""
    }
   },
   "outputs": [],
   "source": [
    "# imports\n",
    "import re\n",
    "import ast\n",
    "import time\n",
    "import numpy as np\n",
    "import pandas as pd\n",
    "import seaborn as sns\n",
    "import networkx as nx\n",
    "import matplotlib.pyplot as plt"
   ]
  },
  {
   "cell_type": "code",
   "execution_count": 2,
   "metadata": {},
   "outputs": [],
   "source": [
    "# store path to notebook\n",
    "PWD = !pwd\n",
    "PWD = PWD[0]"
   ]
  },
  {
   "cell_type": "markdown",
   "metadata": {},
   "source": [
    "### Start Spark and the Spark UI"
   ]
  },
  {
   "cell_type": "code",
   "execution_count": 3,
   "metadata": {},
   "outputs": [
    {
     "name": "stdout",
     "output_type": "stream",
     "text": [
      "starting Spark\n",
      ":: loading settings :: url = jar:file:/usr/lib/spark/jars/ivy-2.4.0.jar!/org/apache/ivy/core/settings/ivysettings.xml\n"
     ]
    },
    {
     "name": "stderr",
     "output_type": "stream",
     "text": [
      "Ivy Default Cache set to: /root/.ivy2/cache\n",
      "The jars for the packages stored in: /root/.ivy2/jars\n",
      "graphframes#graphframes added as a dependency\n",
      "org.apache.spark#spark-avro_2.12 added as a dependency\n",
      ":: resolving dependencies :: org.apache.spark#spark-submit-parent-0bffe396-a8bf-4f08-9398-e0ed59b68a30;1.0\n",
      "\tconfs: [default]\n",
      "\tfound graphframes#graphframes;0.8.2-spark3.1-s_2.12 in spark-packages\n",
      "\tfound org.slf4j#slf4j-api;1.7.16 in central\n",
      "\tfound org.apache.spark#spark-avro_2.12;3.1.3 in central\n",
      "\tfound org.spark-project.spark#unused;1.0.0 in central\n",
      "downloading https://repos.spark-packages.org/graphframes/graphframes/0.8.2-spark3.1-s_2.12/graphframes-0.8.2-spark3.1-s_2.12.jar ...\n",
      "\t[SUCCESSFUL ] graphframes#graphframes;0.8.2-spark3.1-s_2.12!graphframes.jar (53ms)\n",
      "downloading https://repo1.maven.org/maven2/org/apache/spark/spark-avro_2.12/3.1.3/spark-avro_2.12-3.1.3.jar ...\n",
      "\t[SUCCESSFUL ] org.apache.spark#spark-avro_2.12;3.1.3!spark-avro_2.12.jar (23ms)\n",
      "downloading https://repo1.maven.org/maven2/org/slf4j/slf4j-api/1.7.16/slf4j-api-1.7.16.jar ...\n",
      "\t[SUCCESSFUL ] org.slf4j#slf4j-api;1.7.16!slf4j-api.jar (13ms)\n",
      "downloading https://repo1.maven.org/maven2/org/spark-project/spark/unused/1.0.0/unused-1.0.0.jar ...\n",
      "\t[SUCCESSFUL ] org.spark-project.spark#unused;1.0.0!unused.jar (12ms)\n",
      ":: resolution report :: resolve 2878ms :: artifacts dl 104ms\n",
      "\t:: modules in use:\n",
      "\tgraphframes#graphframes;0.8.2-spark3.1-s_2.12 from spark-packages in [default]\n",
      "\torg.apache.spark#spark-avro_2.12;3.1.3 from central in [default]\n",
      "\torg.slf4j#slf4j-api;1.7.16 from central in [default]\n",
      "\torg.spark-project.spark#unused;1.0.0 from central in [default]\n",
      "\t---------------------------------------------------------------------\n",
      "\t|                  |            modules            ||   artifacts   |\n",
      "\t|       conf       | number| search|dwnlded|evicted|| number|dwnlded|\n",
      "\t---------------------------------------------------------------------\n",
      "\t|      default     |   4   |   4   |   4   |   0   ||   4   |   4   |\n",
      "\t---------------------------------------------------------------------\n",
      ":: retrieving :: org.apache.spark#spark-submit-parent-0bffe396-a8bf-4f08-9398-e0ed59b68a30\n",
      "\tconfs: [default]\n",
      "\t4 artifacts copied, 0 already retrieved (455kB/8ms)\n",
      "Setting default log level to \"WARN\".\n",
      "To adjust logging level use sc.setLogLevel(newLevel). For SparkR, use setLogLevel(newLevel).\n",
      "22/07/23 19:29:52 INFO org.apache.spark.SparkEnv: Registering MapOutputTracker\n",
      "22/07/23 19:29:52 INFO org.apache.spark.SparkEnv: Registering BlockManagerMaster\n",
      "22/07/23 19:29:52 INFO org.apache.spark.SparkEnv: Registering BlockManagerMasterHeartbeat\n",
      "22/07/23 19:29:52 INFO org.apache.spark.SparkEnv: Registering OutputCommitCoordinator\n"
     ]
    },
    {
     "name": "stdout",
     "output_type": "stream",
     "text": [
      "\n",
      "To start the SPARK UI\n",
      "\n",
      "Copy the following command  to cloud shell and run as shown in the screenshot below. \n",
      "And click on the PREVIEW ON PORT 8080 menu option .\n",
      "Run the following command to establish the SSH Tunnel:\n",
      "\n",
      "gcloud compute ssh w261-m --zone us-central1-a --ssh-flag \"-L 8080:localhost:4040\" \n"
     ]
    }
   ],
   "source": [
    "import numpy as np\n",
    "import pandas as pd\n",
    "from pyspark.sql import SparkSession\n",
    "import os\n",
    "\n",
    "try:\n",
    "    spark\n",
    "except NameError:\n",
    "    print('starting Spark')\n",
    "    app_name = 'Lab6_notebook'\n",
    "    master = \"local[*]\"\n",
    "    spark = SparkSession\\\n",
    "            .builder\\\n",
    "            .appName(app_name)\\\n",
    "            .master(master)\\\n",
    "            .getOrCreate()\n",
    "sc = spark.sparkContext\n",
    "\n",
    "ZONE = os.getenv(\"ZONE\") #new as of June 17, 2022 4:45PM PST; restart cluster to see thus env variable\n",
    "spark_UI_info = f'''\n",
    "To start the SPARK UI\n",
    "\n",
    "Copy the following command  to cloud shell and run as shown in the screenshot below. \n",
    "And click on the PREVIEW ON PORT 8080 menu option .\n",
    "Run the following command to establish the SSH Tunnel:\n",
    "\n",
    "gcloud compute ssh w261-m --zone {ZONE} --ssh-flag \"-L 8080:localhost:4040\" '''\n",
    "\n",
    "print(spark_UI_info)"
   ]
  },
  {
   "cell_type": "markdown",
   "metadata": {},
   "source": [
    "<img src='https://www.dropbox.com/s/tlb4uiakj2bx7qg/Three_steps_launch_SparkUI.png?raw=true' style='width:100%'>"
   ]
  },
  {
   "cell_type": "markdown",
   "metadata": {},
   "source": [
    "## Set up global variables for cloud buckets (both Data, Staging) and for Zone "
   ]
  },
  {
   "cell_type": "code",
   "execution_count": 4,
   "metadata": {},
   "outputs": [
    {
     "name": "stdout",
     "output_type": "stream",
     "text": [
      "Personal Data bucket:  gs://jstilb-hw\n",
      "     167 B  2022-07-23T18:42:24Z  gs://jstilb-hw/main/Assignments/HW5/docker/student/data/test_graph.txt\n",
      "                                 gs://jstilb-hw/main/Assignments/HW5/docker/student/data/all-pages-indexed-in/\n",
      "                                 gs://jstilb-hw/main/Assignments/HW5/docker/student/data/all-pages-indexed-out/\n",
      "                                 gs://jstilb-hw/main/Assignments/HW5/docker/student/data/indices/\n",
      "TOTAL: 1 objects, 167 bytes (167 B)\n",
      "STAGING_BUCKET location: gs://dataproc-staging-us-central1-984930941890-az8uneen/\n",
      "       0 B  2022-05-07T15:49:39Z  gs://dataproc-staging-us-central1-984930941890-az8uneen/notebooks/jupyter/\n",
      "                                 gs://dataproc-staging-us-central1-984930941890-az8uneen/notebooks/jupyter/snapshots/\n",
      "                                 gs://dataproc-staging-us-central1-984930941890-az8uneen/notebooks/jupyter/student-workspace/\n",
      "                                 gs://dataproc-staging-us-central1-984930941890-az8uneen/notebooks/jupyter/ucb-w261-master/\n",
      "TOTAL: 1 objects, 0 bytes (0 B)\n"
     ]
    }
   ],
   "source": [
    "# Access your personal data bucket and see whats there\n",
    "# (RUN THIS CELL AS IS)\n",
    "import os\n",
    "DATA_BUCKET = os.getenv('DATA_BUCKET','')[:-1] # our private storage bucket location\n",
    "HW5_FOLDER = f\"{DATA_BUCKET}/main/Assignments/HW5/docker/student/data/\"\n",
    "print(f\"Personal Data bucket:  {DATA_BUCKET}\")\n",
    "!gsutil ls -lh  {HW5_FOLDER}  #lets have a look the HW folder on our private storage bucket\n",
    "print(f\"STAGING_BUCKET location: {os.getenv('STAGING_BUCKET')}\")\n",
    "!gsutil ls -lh {os.getenv(\"STAGING_BUCKET\")}notebooks/jupyter"
   ]
  },
  {
   "cell_type": "code",
   "execution_count": 5,
   "metadata": {
    "application/vnd.databricks.v1+cell": {
     "inputWidgets": {},
     "nuid": "86b59361-3412-4481-b6b5-4f247f0fec43",
     "showTitle": false,
     "title": ""
    }
   },
   "outputs": [
    {
     "data": {
      "text/html": [
       "\n",
       "            <div>\n",
       "                <p><b>SparkSession - hive</b></p>\n",
       "                \n",
       "        <div>\n",
       "            <p><b>SparkContext</b></p>\n",
       "\n",
       "            <p><a href=\"http://w261-m.us-central1-a.c.w261-student-349323.internal:4040\">Spark UI</a></p>\n",
       "\n",
       "            <dl>\n",
       "              <dt>Version</dt>\n",
       "                <dd><code>v3.1.3</code></dd>\n",
       "              <dt>Master</dt>\n",
       "                <dd><code>local[*]</code></dd>\n",
       "              <dt>AppName</dt>\n",
       "                <dd><code>Lab6_notebook</code></dd>\n",
       "            </dl>\n",
       "        </div>\n",
       "        \n",
       "            </div>\n",
       "        "
      ],
      "text/plain": [
       "<pyspark.sql.session.SparkSession at 0x7fb00cb27d90>"
      ]
     },
     "execution_count": 5,
     "metadata": {},
     "output_type": "execute_result"
    }
   ],
   "source": [
    "sc = spark.sparkContext\n",
    "spark"
   ]
  },
  {
   "cell_type": "markdown",
   "metadata": {
    "application/vnd.databricks.v1+cell": {
     "inputWidgets": {},
     "nuid": "572c9067-af5d-49f1-b9da-b9b713680a4f",
     "showTitle": false,
     "title": ""
    }
   },
   "source": [
    "# Question 1: Distributed Graph Processing\n",
    "Chapter 5 from Lin & Dyer gave you a high level introduction to graph algorithms and concernts that come up when trying to perform distributed computations over them. The questions below are designed to make sure you captured the key points from this reading and your async lectures. \n",
    "\n",
    "### Q1 Tasks:\n",
    "\n",
    "* __a) short response:__ Give an example of a dataset that would be appropriate to represent as a graph. What are the nodes/edges in this dataset? Is the graph you describe 'directed' or 'undirected'? What would the average \"in-degree\" of a node mean in the context of your example? \n",
    "\n",
    "* __b) Canvas MC:__ Other than their size/scale, what makes graphs uniquely challenging to work with in the map-reduce paradigm? *(__HINT__: Do not respond in terms of any specific algorithm. Think in terms of the nature of the graph datastructure itself).*\n",
    "\n",
    "* __c) Canvas Fill In Blank:__ What specific design component in Dijkstra's algorithm makes this approach hard to parallelize?\n",
    "\n",
    "* __d) short response:__ How does parallel breadth-first-search get around the problem that you identified in part `c`? At what expense?"
   ]
  },
  {
   "cell_type": "markdown",
   "metadata": {
    "application/vnd.databricks.v1+cell": {
     "inputWidgets": {},
     "nuid": "4354a257-a47f-4f28-a294-b978e90b557f",
     "showTitle": false,
     "title": ""
    }
   },
   "source": [
    "### Q1 Student Answers:\n",
    "> __a)__ Type your answer here!\n",
    "\n",
    "> __b)__ Type your answer here!\n",
    "\n",
    "> __c)__ Type your answer here!  \n",
    "\n",
    "> __d)__ Type your answer here!"
   ]
  },
  {
   "cell_type": "markdown",
   "metadata": {
    "application/vnd.databricks.v1+cell": {
     "inputWidgets": {},
     "nuid": "16dac439-e38a-4b9e-bc9c-ab101204767b",
     "showTitle": false,
     "title": ""
    }
   },
   "source": [
    "### <--- SOLUTION --->\n"
   ]
  },
  {
   "cell_type": "markdown",
   "metadata": {
    "application/vnd.databricks.v1+cell": {
     "inputWidgets": {},
     "nuid": "aa76ac18-9606-4814-a27e-e018d9114e67",
     "showTitle": false,
     "title": ""
    }
   },
   "source": [
    "# Question 2: Representing Graphs \n",
    "\n",
    "In class you saw examples of adjacency matrix and adjacency list representations of graphs. These data structures were probably familiar from HW3, though we hadn't before talked about them in the context of graphs. In this question we'll discuss some of the tradeoffs associated with these representations. __`NOTE:`__ We'll use the graph from Figure 5.1 in Lin & Dyer as a toy example. For convenience in the code below we'll label the nodes `A`, `B`, `C`, `D`, and `E` instead of $n_1$, $n_2$, etc but otherwise you should be able to follow along & check our answers against those in the text.\n",
    "\n",
    "\n",
    "<img src=\"https://github.com/kyleiwaniec/w261_assets/blob/master/images/HW5/Lin-Dyer-graph-Q1.png?raw=true\" width=50%>\n",
    "\n",
    "### Q2 Tasks:\n",
    "\n",
    "* __a) short response:__ Relatively speaking, is the graph you described in Figure 5.1 in Lin & Dyer \"sparse\" or \"dense\"?  Explain how sparsity/density impacts the adjacency matrix and adjacency list representations of a graph.\n",
    "\n",
    "* __b) short response:__ Run the provided code to create and plot our toy graph. Is this graph directed or undirected? Explain how the adjacency matrices for directed graphs will differ from those of undirected graphs.\n",
    "\n",
    "* __c) code:__ Fill in the missing code to complete the function `get_adj_matr()`.\n",
    "\n",
    "* __d) code:__ Fill in the missing code to complete the function `get_adj_list()`."
   ]
  },
  {
   "cell_type": "markdown",
   "metadata": {
    "application/vnd.databricks.v1+cell": {
     "inputWidgets": {},
     "nuid": "e9d890f3-c672-4ec4-9bff-d1b8ea7071cd",
     "showTitle": false,
     "title": ""
    }
   },
   "source": [
    "### Q2 Student Answers:\n",
    "> __a)__ Type your answer here!\n",
    "\n",
    "> __b)__ Type your answer here!"
   ]
  },
  {
   "cell_type": "markdown",
   "metadata": {
    "application/vnd.databricks.v1+cell": {
     "inputWidgets": {},
     "nuid": "7f924b0b-4e44-4bbc-ad8b-9b4e7bcaf1b8",
     "showTitle": false,
     "title": ""
    }
   },
   "source": [
    "### <--- SOLUTION --->\n"
   ]
  },
  {
   "cell_type": "code",
   "execution_count": 6,
   "metadata": {
    "application/vnd.databricks.v1+cell": {
     "inputWidgets": {},
     "nuid": "46856c77-76f7-48c5-b8ba-4e9b77c701ba",
     "showTitle": false,
     "title": ""
    }
   },
   "outputs": [],
   "source": [
    "# part a - a graph is just a list of nodes and edges (RUN THIS CELL AS IS)\n",
    "TOY_GRAPH = {'nodes':['A', 'B', 'C', 'D', 'E'],\n",
    "             'edges':[('A', 'B'), ('A', 'D'), ('B', 'C'), ('B', 'E'), ('C', 'D'), \n",
    "                      ('D', 'E'), ('E', 'A'),('E', 'B'), ('E', 'C')]}"
   ]
  },
  {
   "cell_type": "code",
   "execution_count": 7,
   "metadata": {
    "application/vnd.databricks.v1+cell": {
     "inputWidgets": {},
     "nuid": "b417fa64-a875-472e-9ec1-421cc3a42311",
     "showTitle": false,
     "title": ""
    }
   },
   "outputs": [
    {
     "data": {
      "text/plain": [
       "None"
      ]
     },
     "metadata": {},
     "output_type": "display_data"
    },
    {
     "data": {
      "image/png": "[encoded data removed]",
      "text/plain": [
       "<Figure size 432x288 with 1 Axes>"
      ]
     },
     "metadata": {},
     "output_type": "display_data"
    }
   ],
   "source": [
    "# part a - simple visualization of our toy graph using nx (RUN THIS CELL AS IS)\n",
    "G = nx.DiGraph()\n",
    "G.add_nodes_from(TOY_GRAPH['nodes'])\n",
    "G.add_edges_from(TOY_GRAPH['edges'])\n",
    "display(nx.draw(G, pos=nx.circular_layout(G), with_labels=True, alpha = 0.5))"
   ]
  },
  {
   "cell_type": "code",
   "execution_count": 8,
   "metadata": {
    "application/vnd.databricks.v1+cell": {
     "inputWidgets": {},
     "nuid": "5f7318d4-2935-488b-bdeb-10a70e8971fa",
     "showTitle": false,
     "title": ""
    }
   },
   "outputs": [],
   "source": [
    "# part c - adjacency matrix function\n",
    "def get_adj_matr(graph):\n",
    "    \"\"\"\n",
    "    Function to create an adjacency matrix representation of a graph.\n",
    "    arg:\n",
    "        graph - (dict) of 'nodes' : [], 'edges' : []\n",
    "    returns:\n",
    "        pd.DataFrame with entry i,j representing an edge from node i to node j\n",
    "    \"\"\"\n",
    "    n = len(graph['nodes'])\n",
    "    adj_matr = pd.DataFrame(0, columns = graph['nodes'], index = graph['nodes'])\n",
    "    ############### YOUR CODE HERE ##################\n",
    "    for edge in graph['edges']:\n",
    "        adj_matr.loc[edge[0],edge[1]] = 1\n",
    "    ############### (END) YOUR CODE #################\n",
    "    return adj_matr"
   ]
  },
  {
   "cell_type": "code",
   "execution_count": 9,
   "metadata": {
    "application/vnd.databricks.v1+cell": {
     "inputWidgets": {},
     "nuid": "6a52b176-0d72-4f67-b4e5-3a390cd7573f",
     "showTitle": false,
     "title": ""
    }
   },
   "outputs": [
    {
     "name": "stdout",
     "output_type": "stream",
     "text": [
      "   A  B  C  D  E\n",
      "A  0  1  0  1  0\n",
      "B  0  0  1  0  1\n",
      "C  0  0  0  1  0\n",
      "D  0  0  0  0  1\n",
      "E  1  1  1  0  0\n"
     ]
    }
   ],
   "source": [
    "# part c - take a look (RUN THIS CELL AS IS)\n",
    "TOY_ADJ_MATR = get_adj_matr(TOY_GRAPH)\n",
    "print(TOY_ADJ_MATR)"
   ]
  },
  {
   "cell_type": "code",
   "execution_count": 10,
   "metadata": {
    "application/vnd.databricks.v1+cell": {
     "inputWidgets": {},
     "nuid": "05099c54-3a4c-4c1e-92eb-382fdd713851",
     "showTitle": false,
     "title": ""
    }
   },
   "outputs": [],
   "source": [
    "# part d - adjacency list function\n",
    "def get_adj_list(graph):\n",
    "    \"\"\"\n",
    "    Function to create an adjacency list representation of a graph.\n",
    "    arg:\n",
    "        graph - (dict) of 'nodes' : [], 'edges' : []\n",
    "    returns:\n",
    "        dictionary of the form {node : [list of edges]}\n",
    "    \"\"\"\n",
    "    adj_list = {node: [] for node in graph['nodes']}\n",
    "    ############### YOUR CODE HERE ##################\n",
    "    for edge in graph['edges']:\n",
    "        adj_list[edge[0]].append(edge[1])\n",
    "    \n",
    "    ############### (END) YOUR CODE #################\n",
    "    return adj_list"
   ]
  },
  {
   "cell_type": "code",
   "execution_count": 11,
   "metadata": {
    "application/vnd.databricks.v1+cell": {
     "inputWidgets": {},
     "nuid": "2cac0efa-176d-4bc4-811b-24d6a2f242fb",
     "showTitle": false,
     "title": ""
    }
   },
   "outputs": [
    {
     "name": "stdout",
     "output_type": "stream",
     "text": [
      "{'A': ['B', 'D'], 'B': ['C', 'E'], 'C': ['D'], 'D': ['E'], 'E': ['A', 'B', 'C']}\n"
     ]
    }
   ],
   "source": [
    "# part d - take a look (RUN THIS CELL AS IS)\n",
    "TOY_ADJ_LIST = get_adj_list(TOY_GRAPH)\n",
    "print(TOY_ADJ_LIST)"
   ]
  },
  {
   "cell_type": "markdown",
   "metadata": {
    "application/vnd.databricks.v1+cell": {
     "inputWidgets": {},
     "nuid": "4ab1715e-4323-4946-b950-a05b879d1c83",
     "showTitle": false,
     "title": ""
    }
   },
   "source": [
    "# Question 3: Markov Chains and Random Walks\n",
    "\n",
    "As you know from your readings and in class discussions, the PageRank algorithm takes advantage of the machinery of Markov Chains to compute the relative importance of a webpage using the hyperlink structure of the web (we'll refer to this as the 'web-graph'). A Markov Chain is a discrete-time stochastic process. The stochastic matrix has a principal left eigen vector corresponding to its largest eigen value which is one. A Markov chain's probability distribution over its states may be viewed as a probability vector. This steady state probability for a state is the PageRank of the corresponding webpage. In this question we'll briefly discuss a few concepts that are key to understanding the math behind PageRank. \n",
    "\n",
    "### Q3 Tasks:\n",
    "\n",
    "* __a) short response:__ It is common to explain PageRank using the analogy of a web surfer who clicks on links at random ad infinitum. In the context of this hypothetical infinite random walk, what does the PageRank metric measure/represent?\n",
    "\n",
    "* __b) Canvas Multiple Drowpdowns:__ What is the \"Markov Property\" and what does it mean in the context of PageRank?\n",
    "\n",
    "* __c) Canvas Multiple Fill In Blank:__ A Markov chain consists of $n$ states plus an $n\\times n$ transition probability matrix. In the context of PageRank & a random walk over the WebGraph what are the $n$ states? what implications does this have about the size of the transition matrix?\n",
    "\n",
    "* __d) Canvas MC:__ What is a \"right stochastic matrix\"?\n",
    "\n",
    "* __e) code:__ Fill in the code below to compute the transition matrix for the toy graph from question 2. [__`HINT:`__ _It should be right stochastic. Using numpy this calculation can be done in one line of code._]\n",
    "\n",
    "* __f) code:__ To compute the stable state distribution (i.e. PageRank) of a \"nice\" graph we can apply the power iteration method - repeatedly multiplying the transition matrix by itself, until the values no longer change. Apply this strategy to your transition matrix from `part d` to find the PageRank for each of the pages in your toy graph. Your code should print the results of each iteration. \n",
    "    * __`NOTE 1:`__ _this is a naive approach, we'll unpack what it means to be \"nice\" in the next question_.\n",
    "    * __`NOTE 2:`__ _no need to implement a stopping criteria, visual inspection should suffice_.\n",
    "\n",
    "* __g) Numerical Answer:__ How many iterations does it take to converge? \n",
    "\n",
    "* __h) Canvas Multiple Choice:__ Which node is most 'central' (i.e. highest ranked)?\n"
   ]
  },
  {
   "cell_type": "markdown",
   "metadata": {
    "application/vnd.databricks.v1+cell": {
     "inputWidgets": {},
     "nuid": "4dfecb1f-c455-4bbf-b49a-231864a2e6cf",
     "showTitle": false,
     "title": ""
    }
   },
   "source": [
    "### Q3 Student Answers:"
   ]
  },
  {
   "cell_type": "markdown",
   "metadata": {
    "application/vnd.databricks.v1+cell": {
     "inputWidgets": {},
     "nuid": "7d88a586-48ee-40f4-8b76-f376461a7bd3",
     "showTitle": false,
     "title": ""
    }
   },
   "source": [
    "### <--- SOLUTION --->\n"
   ]
  },
  {
   "cell_type": "code",
   "execution_count": null,
   "metadata": {
    "application/vnd.databricks.v1+cell": {
     "inputWidgets": {},
     "nuid": "395d0663-da14-44f6-a335-e2a13611249c",
     "showTitle": false,
     "title": ""
    }
   },
   "outputs": [],
   "source": [
    "# part e - recall what the adjacency matrix looked like (RUN THIS CELL AS IS)\n",
    "TOY_ADJ_MATR"
   ]
  },
  {
   "cell_type": "code",
   "execution_count": 12,
   "metadata": {
    "application/vnd.databricks.v1+cell": {
     "inputWidgets": {},
     "nuid": "c271a169-6581-479c-8733-80d644bfd9d1",
     "showTitle": false,
     "title": ""
    }
   },
   "outputs": [
    {
     "name": "stdout",
     "output_type": "stream",
     "text": [
      "          A         B         C    D    E\n",
      "A  0.000000  0.500000  0.000000  0.5  0.0\n",
      "B  0.000000  0.000000  0.500000  0.0  0.5\n",
      "C  0.000000  0.000000  0.000000  1.0  0.0\n",
      "D  0.000000  0.000000  0.000000  0.0  1.0\n",
      "E  0.333333  0.333333  0.333333  0.0  0.0\n"
     ]
    }
   ],
   "source": [
    "# part e - use TOY_ADJ_MATR to create a right stochastic transition matrix for this graph\n",
    "################ YOUR CODE HERE #################\n",
    "transition_matrix = (TOY_ADJ_MATR.T / TOY_ADJ_MATR.sum(axis=1)).T\n",
    "\n",
    "################ (END) YOUR CODE #################\n",
    "print(transition_matrix)"
   ]
  },
  {
   "cell_type": "code",
   "execution_count": 13,
   "metadata": {
    "application/vnd.databricks.v1+cell": {
     "inputWidgets": {},
     "nuid": "eff2c165-6a3b-413b-9497-3d0dd6c1c98f",
     "showTitle": false,
     "title": ""
    }
   },
   "outputs": [],
   "source": [
    "# part f - compute the steady state using the transition matrix \n",
    "def power_iteration(xInit, tMatrix, nIter, verbose = True):\n",
    "    \"\"\"\n",
    "    Function to perform the specified number of power iteration steps to \n",
    "    compute the steady state probability distribution for the given\n",
    "    transition matrix.\n",
    "    \n",
    "    Args:\n",
    "        xInit     - (n x 1 array) representing inial state\n",
    "        tMatrix  - (n x n array) transition probabilities\n",
    "        nIter     - (int) number of iterations\n",
    "    Returns:\n",
    "        state_vector - (n x 1 array) representing probability \n",
    "                        distribution over states after nSteps.\n",
    "    \n",
    "    NOTE: if the 'verbose' flag is on, your function should print the step\n",
    "    number and the current matrix at each iteration.\n",
    "    \"\"\"\n",
    "    state_vector = None\n",
    "    ################ YOUR CODE HERE #################\n",
    "    state_vector = xInit\n",
    "    exp = 1\n",
    "    \n",
    "    for i in range(nIter):\n",
    "        for x in range(exp):\n",
    "            state_vector = state_vector@tMatrix\n",
    "        exp = exp*2\n",
    "        \n",
    "        if verbose:\n",
    "            print(f'Step {i}: {state_vector}')\n",
    "            \n",
    "    return state_vector\n",
    "    \n",
    "    \n",
    "    \n",
    "    ################ (END) YOUR CODE #################\n",
    "    return state_vector"
   ]
  },
  {
   "cell_type": "code",
   "execution_count": 14,
   "metadata": {
    "application/vnd.databricks.v1+cell": {
     "inputWidgets": {},
     "nuid": "2000ad16-0adb-4607-b1fa-7529993f1f51",
     "showTitle": false,
     "title": ""
    }
   },
   "outputs": [
    {
     "name": "stdout",
     "output_type": "stream",
     "text": [
      "Step 0: A    0.0\n",
      "B    0.5\n",
      "C    0.0\n",
      "D    0.5\n",
      "E    0.0\n",
      "dtype: float64\n",
      "Step 1: A    0.25\n",
      "B    0.25\n",
      "C    0.25\n",
      "D    0.25\n",
      "E    0.00\n",
      "dtype: float64\n",
      "Step 2: A    0.062500\n",
      "B    0.135417\n",
      "C    0.166667\n",
      "D    0.281250\n",
      "E    0.354167\n",
      "dtype: float64\n",
      "Step 3: A    0.105754\n",
      "B    0.159485\n",
      "C    0.184659\n",
      "D    0.238510\n",
      "E    0.311592\n",
      "dtype: float64\n",
      "Step 4: A    0.105261\n",
      "B    0.157891\n",
      "C    0.184209\n",
      "D    0.236839\n",
      "E    0.315800\n",
      "dtype: float64\n",
      "Step 5: A    0.105263\n",
      "B    0.157895\n",
      "C    0.184211\n",
      "D    0.236842\n",
      "E    0.315789\n",
      "dtype: float64\n",
      "Step 6: A    0.105263\n",
      "B    0.157895\n",
      "C    0.184211\n",
      "D    0.236842\n",
      "E    0.315789\n",
      "dtype: float64\n",
      "Step 7: A    0.105263\n",
      "B    0.157895\n",
      "C    0.184211\n",
      "D    0.236842\n",
      "E    0.315789\n",
      "dtype: float64\n",
      "Step 8: A    0.105263\n",
      "B    0.157895\n",
      "C    0.184211\n",
      "D    0.236842\n",
      "E    0.315789\n",
      "dtype: float64\n",
      "Step 9: A    0.105263\n",
      "B    0.157895\n",
      "C    0.184211\n",
      "D    0.236842\n",
      "E    0.315789\n",
      "dtype: float64\n"
     ]
    }
   ],
   "source": [
    "# part f - run 10 steps of the power_iteration (RUN THIS CELL AS IS)\n",
    "xInit = np.array([1.0, 0, 0, 0, 0]) # note that this initial state will not affect the convergence states\n",
    "states = power_iteration(xInit, transition_matrix, 10, verbose = True)"
   ]
  },
  {
   "cell_type": "markdown",
   "metadata": {
    "application/vnd.databricks.v1+cell": {
     "inputWidgets": {},
     "nuid": "a4391eaa-5068-4a23-ac08-121ca1add4e7",
     "showTitle": false,
     "title": ""
    }
   },
   "source": [
    "__`Expected Output for part e:`__  \n",
    ">Steady State Probabilities:\n",
    "```\n",
    "Node A: 0.10526316  \n",
    "Node B: 0.15789474  \n",
    "Node C: 0.18421053  \n",
    "Node D: 0.23684211  \n",
    "Node E: 0.31578947  \n",
    "```"
   ]
  },
  {
   "cell_type": "markdown",
   "metadata": {
    "application/vnd.databricks.v1+cell": {
     "inputWidgets": {},
     "nuid": "d257366f-f8c2-4f48-beae-0fde2595ddea",
     "showTitle": false,
     "title": ""
    }
   },
   "source": [
    "# Question 4: Page Rank Theory\n",
    "\n",
    "Seems easy right? Unfortunately applying this power iteration method directly to the web-graph actually runs into a few problems. In this question we'll tease apart what we meant by a 'nice graph' in Question 3 and highlight key modifications we'll have to make to the web-graph when performing PageRank. To start, we'll look at what goes wrong when we try to repeat our strategy from question 3 on a 'not nice' graph.\n",
    "\n",
    "__`Additional References:`__ http://pi.math.cornell.edu/~mec/Winter2009/RalucaRemus/Lecture3/lecture3.html\n",
    "\n",
    "### Q4 Tasks:\n",
    "\n",
    "* __a) code:__ Run the provided code to create and plot our 'not nice' graph. Fill in the missing code to compute its transition matrix & run the power iteration method from question 3.\n",
    "\n",
    "* __b) Canvas MCQ:__ What is wrong with what you see in part a? [__`HINT:`__ _there is a visible underlying reason that it isn't converging... try adding up the probabilities in the state vector after each iteration._]\n",
    "\n",
    "* __c) Canvas MCQ:__  Identify the dangling node in this 'not nice' graph and explain how this node causes the problem in 'a'. How could we modify the transition matrix after each iteration to prevent this problem?\n",
    "\n",
    "* __d) Canvas MCQ:__ What does it mean for a graph to be irreducible? Is the webgraph naturally irreducible? Choose your reasoning.\n",
    "\n",
    "* __e) Canvas MCQ:__ What does it mean for a graph to be aperiodic? Is the webgraph naturally aperiodic? Choose your reasoning.\n",
    "\n",
    "* __f) short response:__ What modification to the webgraph does PageRank make in order to guarantee aperiodicity and irreducibility? Interpret this modification in terms of our random surfer analogy."
   ]
  },
  {
   "cell_type": "markdown",
   "metadata": {
    "application/vnd.databricks.v1+cell": {
     "inputWidgets": {},
     "nuid": "02186cdf-0134-403c-9783-73137d829b29",
     "showTitle": false,
     "title": ""
    }
   },
   "source": [
    "### Q4 Student Answers:\n",
    "\n",
    "> __b)__ Type your answer here!\n",
    "\n",
    "> __c)__ Type your answer here!\n",
    "\n",
    "> __d)__ Type your answer here!  \n",
    "\n",
    "> __e)__ Type your answer here!\n",
    "\n",
    "> __f)__ Type your answer here!"
   ]
  },
  {
   "cell_type": "markdown",
   "metadata": {
    "application/vnd.databricks.v1+cell": {
     "inputWidgets": {},
     "nuid": "7b632fca-251f-4af4-aa0a-126b0814fbeb",
     "showTitle": false,
     "title": ""
    }
   },
   "source": [
    "### <--- SOLUTION --->\n"
   ]
  },
  {
   "cell_type": "code",
   "execution_count": 15,
   "metadata": {
    "application/vnd.databricks.v1+cell": {
     "inputWidgets": {},
     "nuid": "5b955938-299e-4145-be86-695d55b45e47",
     "showTitle": false,
     "title": ""
    }
   },
   "outputs": [],
   "source": [
    "# part a - run this code to create a second toy graph (RUN THIS CELL AS IS)\n",
    "TOY2_GRAPH = {'nodes':['A', 'B', 'C', 'D', 'E'],\n",
    "              'edges':[('A', 'B'), ('A', 'C'), ('A', 'D'), ('B', 'D'), \n",
    "                       ('B', 'E'), ('C', 'A'), ('C', 'E'), ('D', 'B')]}"
   ]
  },
  {
   "cell_type": "code",
   "execution_count": 16,
   "metadata": {
    "application/vnd.databricks.v1+cell": {
     "inputWidgets": {},
     "nuid": "c954c14c-faa3-4791-bf58-316faf086586",
     "showTitle": false,
     "title": ""
    }
   },
   "outputs": [
    {
     "data": {
      "text/plain": [
       "None"
      ]
     },
     "metadata": {},
     "output_type": "display_data"
    },
    {
     "data": {
      "image/png": "[encoded data removed]",
      "text/plain": [
       "<Figure size 432x288 with 1 Axes>"
      ]
     },
     "metadata": {},
     "output_type": "display_data"
    }
   ],
   "source": [
    "# part a - simple visualization of our test graph using nx (RUN THIS CELL AS IS)\n",
    "G = nx.DiGraph()\n",
    "G.add_nodes_from(TOY2_GRAPH['nodes'])\n",
    "G.add_edges_from(TOY2_GRAPH['edges'])\n",
    "display(nx.draw(G, pos=nx.circular_layout(G), with_labels=True, alpha = 0.5))"
   ]
  },
  {
   "cell_type": "code",
   "execution_count": 17,
   "metadata": {
    "application/vnd.databricks.v1+cell": {
     "inputWidgets": {},
     "nuid": "214fe212-37a7-42ad-9123-8d18ac7916cf",
     "showTitle": false,
     "title": ""
    }
   },
   "outputs": [
    {
     "name": "stdout",
     "output_type": "stream",
     "text": [
      "Step 0: A    0.000000\n",
      "B    0.333333\n",
      "C    0.333333\n",
      "D    0.333333\n",
      "E    0.000000\n",
      "dtype: float64\n",
      "Step 1: A    0.000000\n",
      "B    0.222222\n",
      "C    0.055556\n",
      "D    0.222222\n",
      "E    0.166667\n",
      "dtype: float64\n",
      "Step 2: A    0.000000\n",
      "B    0.061728\n",
      "C    0.001543\n",
      "D    0.061728\n",
      "E    0.060185\n",
      "dtype: float64\n",
      "Step 3: A    0.000000\n",
      "B    0.003906\n",
      "C    0.000001\n",
      "D    0.003906\n",
      "E    0.003904\n",
      "dtype: float64\n",
      "Step 4: A    0.000000e+00\n",
      "B    1.525879e-05\n",
      "C    7.089408e-13\n",
      "D    1.525879e-05\n",
      "E    1.525879e-05\n",
      "dtype: float64\n",
      "Step 5: A    0.000000e+00\n",
      "B    2.328306e-10\n",
      "C    2.512986e-25\n",
      "D    2.328306e-10\n",
      "E    2.328306e-10\n",
      "dtype: float64\n",
      "Step 6: A    0.000000e+00\n",
      "B    5.421011e-20\n",
      "C    3.157548e-50\n",
      "D    5.421011e-20\n",
      "E    5.421011e-20\n",
      "dtype: float64\n",
      "Step 7: A     0.000000e+00\n",
      "B     2.938736e-39\n",
      "C    4.985055e-100\n",
      "D     2.938736e-39\n",
      "E     2.938736e-39\n",
      "dtype: float64\n",
      "Step 8: A     0.000000e+00\n",
      "B     8.636169e-78\n",
      "C    1.242539e-199\n",
      "D     8.636169e-78\n",
      "E     8.636169e-78\n",
      "dtype: float64\n",
      "Step 9: A     0.000000e+00\n",
      "B    7.458341e-155\n",
      "C     0.000000e+00\n",
      "D    7.458341e-155\n",
      "E    7.458341e-155\n",
      "dtype: float64\n"
     ]
    },
    {
     "data": {
      "text/plain": [
       "A     0.000000e+00\n",
       "B    7.458341e-155\n",
       "C     0.000000e+00\n",
       "D    7.458341e-155\n",
       "E    7.458341e-155\n",
       "dtype: float64"
      ]
     },
     "execution_count": 17,
     "metadata": {},
     "output_type": "execute_result"
    }
   ],
   "source": [
    "# part a - run 10 steps of the power iteration method here\n",
    "# HINT: feel free to use the functions get_adj_matr() and power_iteration() you wrote above\n",
    "################ YOUR CODE HERE #################\n",
    "TOY2_ADJ_MATR = get_adj_matr(TOY2_GRAPH)\n",
    "transition_matrix = ((TOY2_ADJ_MATR.T / TOY2_ADJ_MATR.sum(axis=1)).T).fillna(0)\n",
    "power_iteration(xInit, transition_matrix, 10, verbose = True)\n",
    "\n",
    "\n",
    "\n",
    "################ (END) YOUR CODE #################"
   ]
  },
  {
   "cell_type": "markdown",
   "metadata": {
    "application/vnd.databricks.v1+cell": {
     "inputWidgets": {},
     "nuid": "e5a50474-f7a3-4ab0-b2cd-d34c19b56d67",
     "showTitle": false,
     "title": ""
    }
   },
   "source": [
    "# About the Data\n",
    "The main dataset for this data consists of a subset of a 500GB dataset released by AWS in 2009. The data includes the source and metadata for all of the Wikimedia wikis. You can read more here: \n",
    "> https://aws.amazon.com/blogs/aws/new-public-data-set-wikipedia-xml-data. \n",
    "\n",
    "Use the cells below to download the wikipedia data and a test file for use in developing your PageRank implementation(note that we'll use the 'indexed out' version of the graph) and to take a look at the files."
   ]
  },
  {
   "cell_type": "code",
   "execution_count": 18,
   "metadata": {},
   "outputs": [
    {
     "data": {
      "text/plain": [
       "'gs://jstilb-hw/main/Assignments/HW5/docker/student/data/'"
      ]
     },
     "execution_count": 18,
     "metadata": {},
     "output_type": "execute_result"
    }
   ],
   "source": [
    "HW5_FOLDER"
   ]
  },
  {
   "cell_type": "code",
   "execution_count": 19,
   "metadata": {},
   "outputs": [
    {
     "name": "stdout",
     "output_type": "stream",
     "text": [
      "       167  2022-07-23T18:42:24Z  gs://jstilb-hw/main/Assignments/HW5/docker/student/data/test_graph.txt\n",
      "                                 gs://jstilb-hw/main/Assignments/HW5/docker/student/data/all-pages-indexed-in/\n",
      "                                 gs://jstilb-hw/main/Assignments/HW5/docker/student/data/all-pages-indexed-out/\n",
      "                                 gs://jstilb-hw/main/Assignments/HW5/docker/student/data/indices/\n",
      "TOTAL: 1 objects, 167 bytes (167 B)\n"
     ]
    }
   ],
   "source": [
    "!gsutil ls -l {HW5_FOLDER}"
   ]
  },
  {
   "cell_type": "code",
   "execution_count": 20,
   "metadata": {
    "application/vnd.databricks.v1+cell": {
     "inputWidgets": {},
     "nuid": "221607ca-4cc1-4559-af28-6fd16297ec28",
     "showTitle": false,
     "title": ""
    }
   },
   "outputs": [],
   "source": [
    "# load the data into Spark RDDs for convenience of use later (RUN THIS CELL AS IS)\n",
    "testRDD = sc.textFile(HW5_FOLDER +'test_graph.txt')\n",
    "indexRDD = sc.textFile(HW5_FOLDER + '/indices/')\n",
    "wikiRDD = sc.textFile(HW5_FOLDER + '/all-pages-indexed-out/')"
   ]
  },
  {
   "cell_type": "code",
   "execution_count": 21,
   "metadata": {
    "application/vnd.databricks.v1+cell": {
     "inputWidgets": {},
     "nuid": "ab53dc55-a862-4c17-8ffb-7b56b9b2a3ad",
     "showTitle": false,
     "title": ""
    }
   },
   "outputs": [
    {
     "name": "stderr",
     "output_type": "stream",
     "text": [
      "                                                                                \r"
     ]
    },
    {
     "data": {
      "text/plain": [
       "[\"2\\t{'3': 1}\",\n",
       " \"3\\t{'2': 2}\",\n",
       " \"4\\t{'1': 1, '2': 1}\",\n",
       " \"5\\t{'4': 3, '2': 1, '6': 1}\",\n",
       " \"6\\t{'2': 1, '5': 2}\",\n",
       " \"7\\t{'2': 1, '5': 1}\",\n",
       " \"8\\t{'2': 1, '5': 1}\",\n",
       " \"9\\t{'2': 1, '5': 1}\",\n",
       " \"10\\t{'5': 1}\",\n",
       " \"11\\t{'5': 2}\"]"
      ]
     },
     "execution_count": 21,
     "metadata": {},
     "output_type": "execute_result"
    }
   ],
   "source": [
    "# display testRDD (RUN THIS CELL AS IS)\n",
    "testRDD.take(10)"
   ]
  },
  {
   "cell_type": "code",
   "execution_count": 22,
   "metadata": {
    "application/vnd.databricks.v1+cell": {
     "inputWidgets": {},
     "nuid": "bdeec119-bac4-430b-b862-bbf8b8068f54",
     "showTitle": false,
     "title": ""
    }
   },
   "outputs": [
    {
     "data": {
      "text/plain": [
       "['! $var = &quot;&quot;\\t1\\t1\\t0',\n",
       " '! (CONFIG.SYS directive)\\t2\\t1\\t1',\n",
       " '! (album)\\t3\\t12\\t17',\n",
       " '! (disambiguation)\\t4\\t1\\t20',\n",
       " '! -attention-\\t5\\t1\\t0',\n",
       " '! Time Zone\\t6\\t1\\t0',\n",
       " '!! (chess)\\t7\\t0\\t1',\n",
       " '!! (disambiguation)\\t8\\t3\\t0',\n",
       " '!!! (Chk Chk Chk)\\t9\\t1\\t0',\n",
       " '!!! (album)\\t10\\t5\\t15']"
      ]
     },
     "execution_count": 22,
     "metadata": {},
     "output_type": "execute_result"
    }
   ],
   "source": [
    "# display indexRDD (RUN THIS CELL AS IS)\n",
    "indexRDD.take(10)"
   ]
  },
  {
   "cell_type": "code",
   "execution_count": 23,
   "metadata": {
    "application/vnd.databricks.v1+cell": {
     "inputWidgets": {},
     "nuid": "f0833912-6f83-4191-9550-39c2d9b8fbf2",
     "showTitle": false,
     "title": ""
    }
   },
   "outputs": [
    {
     "data": {
      "text/plain": [
       "[\"73\\t{'14417532': 1}\",\n",
       " \"299\\t{'4214575': 1}\",\n",
       " \"2552\\t{'15043376': 1, '13430968': 1, '13451035': 1, '7263397': 1, '13001625': 1, '13443575': 1, '13451269': 1, '13432316': 1, '11623371': 1, '15028971': 1, '13425865': 1, '15042703': 1, '5051368': 1, '9854998': 2, '13442976': 1, '13315025': 1, '2992307': 1, '1054486': 1, '1322325': 1, '13450983': 1}\",\n",
       " \"2570\\t{'983991': 1}\",\n",
       " \"2616\\t{'9045350': 1}\",\n",
       " \"2711\\t{'752887': 1}\",\n",
       " \"2818\\t{'3534183': 1}\",\n",
       " \"2847\\t{'3797918': 1}\",\n",
       " \"2892\\t{'2893': 1}\",\n",
       " \"2921\\t{'5158607': 1, '6007184': 1, '14773825': 1, '11777840': 2, '9285165': 1, '6420484': 1, '14670682': 1, '7316613': 1, '7125893': 1, '14965920': 1, '14229952': 1, '9447742': 2, '1425342': 1, '11390944': 2, '5141': 1, '14928135': 2, '13636570': 3, '14687433': 1, '15105458': 1, '11656072': 1, '6420027': 1, '10898196': 1, '6416278': 1, '11497740': 2}\"]"
      ]
     },
     "execution_count": 23,
     "metadata": {},
     "output_type": "execute_result"
    }
   ],
   "source": [
    "# display wikiRDD (RUN THIS CELL AS IS)\n",
    "wikiRDD.take(10)"
   ]
  },
  {
   "cell_type": "markdown",
   "metadata": {
    "application/vnd.databricks.v1+cell": {
     "inputWidgets": {},
     "nuid": "abeb909c-43b7-4c77-abd9-95a1cdf5365b",
     "showTitle": false,
     "title": ""
    }
   },
   "source": [
    "# Question 5: EDA part 1 (number of nodes)\n",
    "\n",
    "As usual, before we dive in to the main analysis, we'll peform some exploratory data anlysis to understand our dataset. Please use the test graph that you downloaded to test all your code before running the full dataset.\n",
    "\n",
    "### Q5 Tasks:\n",
    "* __a) Canvas Matching:__ In what format is the raw data? What does the first value represent? What does the second part of each line represent? [__`HINT:`__ _no need to go digging here, just visually inspect the outputs of the head commands that we ran after loading the data above._]\n",
    "\n",
    "* __b) Canvas MC:__ Run the provided bash command to count the number of records in the raw dataset. Explain why this is _not_ the same as the number of total nodes in the graph.\n",
    "\n",
    "* __c) code:__ In the space provided below write a Spark job to count the _total number_ of nodes in this graph. \n",
    "\n",
    "* __d) Numerical Answer:__ How many dangling nodes are there in this wikipedia graph? [__`HINT:`__ _you should not need any code to answer this question._]"
   ]
  },
  {
   "cell_type": "markdown",
   "metadata": {
    "application/vnd.databricks.v1+cell": {
     "inputWidgets": {},
     "nuid": "b8a372b3-1d7e-4538-b546-b24c53d97772",
     "showTitle": false,
     "title": ""
    }
   },
   "source": [
    "### Q5 Student Answers:"
   ]
  },
  {
   "cell_type": "markdown",
   "metadata": {
    "application/vnd.databricks.v1+cell": {
     "inputWidgets": {},
     "nuid": "0f9c85dc-62fe-4cc8-9966-c6f8bba672c5",
     "showTitle": false,
     "title": ""
    }
   },
   "source": [
    "### <--- SOLUTION --->\n",
    "__SOLUTION__\n"
   ]
  },
  {
   "cell_type": "code",
   "execution_count": 24,
   "metadata": {
    "application/vnd.databricks.v1+cell": {
     "inputWidgets": {},
     "nuid": "f03cc8a6-c2f9-4ef5-bf04-6f391f8fc130",
     "showTitle": false,
     "title": ""
    }
   },
   "outputs": [
    {
     "name": "stderr",
     "output_type": "stream",
     "text": [
      "[Stage 4:>                                                        (0 + 16) / 16]\r"
     ]
    },
    {
     "name": "stdout",
     "output_type": "stream",
     "text": [
      "5781290\n"
     ]
    },
    {
     "name": "stderr",
     "output_type": "stream",
     "text": [
      "                                                                                \r"
     ]
    }
   ],
   "source": [
    "# part b - count the number of records in the raw data (RUN THIS CELL AS IS)\n",
    "# 5781290\n",
    "print(wikiRDD.count())"
   ]
  },
  {
   "cell_type": "code",
   "execution_count": 25,
   "metadata": {
    "application/vnd.databricks.v1+cell": {
     "inputWidgets": {},
     "nuid": "02a52d86-b9bd-440b-a5c5-1fe7cca822d5",
     "showTitle": false,
     "title": ""
    }
   },
   "outputs": [],
   "source": [
    "# part c - write your Spark job here (compute total number of nodes)\n",
    "def count_nodes(dataRDD):\n",
    "    \"\"\"\n",
    "    Spark job to count the total number of nodes.\n",
    "    Returns: integer count \n",
    "    \"\"\"    \n",
    "    ############## YOUR CODE HERE ###############\n",
    "    def splitText(line):\n",
    "        key, value = line.split(\"\\t\")\n",
    "        new_dict = ast.literal_eval(value)\n",
    "        new_dict[key] = 1\n",
    "        for k, v in new_dict.items():\n",
    "            yield (k, v)\n",
    "    \n",
    "    totalCount = dataRDD.map(splitText).flatMap(lambda x: x).reduceByKey(lambda x,y: x+y).count()\n",
    "    \n",
    "    \n",
    "    \n",
    "    ############## (END) YOUR CODE ###############   \n",
    "    return totalCount"
   ]
  },
  {
   "cell_type": "code",
   "execution_count": 26,
   "metadata": {
    "application/vnd.databricks.v1+cell": {
     "inputWidgets": {},
     "nuid": "3778d2a6-13c3-4c84-8eaf-c9a8a3f6a112",
     "showTitle": false,
     "title": ""
    }
   },
   "outputs": [
    {
     "name": "stdout",
     "output_type": "stream",
     "text": [
      "... completed job in 0.7117912769317627 seconds.\n",
      "Total Nodes: 11\n"
     ]
    }
   ],
   "source": [
    "# part c - run your counting job on the test file (RUN THIS CELL AS IS)\n",
    "start = time.time()\n",
    "tot = count_nodes(testRDD)\n",
    "print(f'... completed job in {time.time() - start} seconds.')\n",
    "print(f'Total Nodes: {tot}')"
   ]
  },
  {
   "cell_type": "code",
   "execution_count": 27,
   "metadata": {
    "application/vnd.databricks.v1+cell": {
     "inputWidgets": {},
     "nuid": "1cad9491-9628-4629-ac57-9f035b8971c9",
     "showTitle": false,
     "title": ""
    }
   },
   "outputs": [
    {
     "name": "stderr",
     "output_type": "stream",
     "text": [
      "[Stage 8:=================================================>       (14 + 2) / 16]\r"
     ]
    },
    {
     "name": "stdout",
     "output_type": "stream",
     "text": [
      "... completed job in 86.59745788574219 seconds.\n",
      "Total Nodes: 15192277\n"
     ]
    },
    {
     "name": "stderr",
     "output_type": "stream",
     "text": [
      "                                                                                \r"
     ]
    }
   ],
   "source": [
    "# part c - run your counting job on the full file (RUN THIS CELL AS IS)\n",
    "start = time.time()\n",
    "tot = count_nodes(wikiRDD)\n",
    "print(f'... completed job in {time.time() - start} seconds.')\n",
    "print(f'Total Nodes: {tot}')"
   ]
  },
  {
   "cell_type": "code",
   "execution_count": null,
   "metadata": {
    "application/vnd.databricks.v1+cell": {
     "inputWidgets": {},
     "nuid": "6262439c-b9e1-4123-a9cf-a35602fbbf34",
     "showTitle": false,
     "title": ""
    }
   },
   "outputs": [],
   "source": [
    "# <--- SOLUTION --->\n",
    "# part d - number of dangling nodes\n"
   ]
  },
  {
   "cell_type": "code",
   "execution_count": null,
   "metadata": {
    "application/vnd.databricks.v1+cell": {
     "inputWidgets": {},
     "nuid": "c3c818c1-f164-47d9-bfcd-373a9d761a6e",
     "showTitle": false,
     "title": ""
    }
   },
   "outputs": [],
   "source": [
    "# <--- SOLUTION --->\n",
    "# part d - number of dangling nodes\n"
   ]
  },
  {
   "cell_type": "markdown",
   "metadata": {
    "application/vnd.databricks.v1+cell": {
     "inputWidgets": {},
     "nuid": "8e5cd038-e3e4-45cc-9f80-14e0a1184820",
     "showTitle": false,
     "title": ""
    }
   },
   "source": [
    "# Question 6 - EDA part 2 (out-degree distribution)\n",
    "\n",
    "As you've seen in previous homeworks the computational complexity of an implementation depends not only on the number of records in the original dataset but also on the number of records we create and shuffle in our intermediate representation of the data. The number of intermediate records required to update PageRank is related to the number of edges in the graph. In this question you'll compute the average number of hyperlinks on each page in this data and visualize a distribution for these counts (the out-degree of the nodes). \n",
    "\n",
    "### Q6 Tasks:\n",
    "* __a) code:__ In the space provided below write a Spark job to stream over the data and compute all of the following information:\n",
    "  * count the out-degree of each non-dangling node and return the names of the top 10 pages with the most hyperlinks\n",
    "  * find the average out-degree for all non-dangling nodes in the graph\n",
    "  * take a 1000 point sample of these out-degree counts and plot a histogram of the result. \n",
    " \n",
    " \n",
    "* __b) short response:__ In the context of the PageRank algorithm, how is information about a node's out degree used?\n",
    "\n",
    "* __c) short response:__ What does it mean if a node's out-degree is 0? In PageRank how will we handle these nodes differently than others?\n",
    " \n",
    "__`NOTE:`__ Please observe scalability best practices in the design of your code & comment your work clearly. You will be graded on both the clarity and the design."
   ]
  },
  {
   "cell_type": "markdown",
   "metadata": {
    "application/vnd.databricks.v1+cell": {
     "inputWidgets": {},
     "nuid": "df6b426c-4bee-4e65-9596-21be8f3cf8cc",
     "showTitle": false,
     "title": ""
    }
   },
   "source": [
    "### Q6 Student Answers:\n",
    "\n",
    "> __b)__ Type your answer here! \n",
    "\n",
    "> __c)__ Type your answer here!"
   ]
  },
  {
   "cell_type": "markdown",
   "metadata": {
    "application/vnd.databricks.v1+cell": {
     "inputWidgets": {},
     "nuid": "f90fb875-4f65-42b4-bf2e-0ba2d3387271",
     "showTitle": false,
     "title": ""
    }
   },
   "source": [
    "### <--- SOLUTION --->\n",
    "__SOLUTION__\n"
   ]
  },
  {
   "cell_type": "code",
   "execution_count": 28,
   "metadata": {
    "application/vnd.databricks.v1+cell": {
     "inputWidgets": {},
     "nuid": "3733e4c5-5f90-4c11-b3a1-7f3bb0e5872a",
     "showTitle": false,
     "title": ""
    }
   },
   "outputs": [],
   "source": [
    "# part a - write your Spark job here (compute average in-degree, etc)\n",
    "def count_degree(dataRDD, n):\n",
    "    \"\"\"\n",
    "    Function to analyze out-degree of nodes in a a graph.\n",
    "    Returns: \n",
    "        top  - (list of 10 tuples) nodes with most edges\n",
    "        avgDegree - (float) average out-degree for non-dangling nodes\n",
    "        sampledCounts - (list of integers) out-degree for n randomly sampled non-dangling nodes\n",
    "    \"\"\"\n",
    "    # helper func\n",
    "    def parse(line):\n",
    "        node, edges = line.split('\\t')\n",
    "        return (node, ast.literal_eval(edges))\n",
    "    \n",
    "    ############## YOUR CODE HERE ###############\n",
    "    edge_counts = dataRDD.map(parse).map(lambda x: [(x[0], sum(x[1].values()))]).flatMap(lambda x: x).reduceByKey(lambda x,y: x+y)\n",
    "    \n",
    "    # sort counts\n",
    "    sorted_counts = edge_counts.sortBy(lambda x: x[1]).collect()\n",
    "    \n",
    "    # get n nodes with most out-edges\n",
    "    top = list(reversed(sorted_counts[-n:]))\n",
    "   \n",
    "    # get average out-degree for non-dangling nodes\n",
    "    avgDegree = edge_counts.flatMap(lambda x: [x[1]]).mean()\n",
    "\n",
    "    # get out-degree for n randomly sampled non-dangling nodes\n",
    "    sampledCounts = edge_counts.flatMap(lambda x: [x[1]]).sample(False, 1, 81).take(n)\n",
    "    \n",
    "    \n",
    "    \n",
    "    \n",
    "    ############## (END) YOUR CODE ###############\n",
    "    \n",
    "    return top, avgDegree, sampledCounts"
   ]
  },
  {
   "cell_type": "code",
   "execution_count": 29,
   "metadata": {
    "application/vnd.databricks.v1+cell": {
     "inputWidgets": {},
     "nuid": "e280f486-8536-44c1-9d73-e0ab09f62046",
     "showTitle": false,
     "title": ""
    }
   },
   "outputs": [
    {
     "name": "stdout",
     "output_type": "stream",
     "text": [
      "... completed job in 0.3889622688293457 seconds\n",
      "Average out-degree:  2.2\n",
      "Top 10 nodes (by out-degree:)\n",
      " [('5', 5), ('6', 3), ('11', 2), ('7', 2), ('3', 2), ('9', 2), ('8', 2), ('4', 2), ('2', 1), ('10', 1)]\n"
     ]
    }
   ],
   "source": [
    "# part a - run your job on the test file (RUN THIS CELL AS IS)\n",
    "start = time.time()\n",
    "test_results = count_degree(testRDD,10)\n",
    "print(f\"... completed job in {time.time() - start} seconds\")\n",
    "print(\"Average out-degree: \", test_results[1])\n",
    "print(\"Top 10 nodes (by out-degree:)\\n\", test_results[0])"
   ]
  },
  {
   "cell_type": "code",
   "execution_count": 30,
   "metadata": {
    "application/vnd.databricks.v1+cell": {
     "inputWidgets": {},
     "nuid": "073bb923-bf6c-4c7b-9a04-c9ccf33fd58b",
     "showTitle": false,
     "title": ""
    }
   },
   "outputs": [
    {
     "data": {
      "image/png": "[encoded data removed]",
      "text/plain": [
       "<Figure size 432x288 with 1 Axes>"
      ]
     },
     "metadata": {
      "needs_background": "light"
     },
     "output_type": "display_data"
    },
    {
     "data": {
      "text/plain": [
       "None"
      ]
     },
     "metadata": {},
     "output_type": "display_data"
    }
   ],
   "source": [
    "# part a - plot results from test file (RUN THIS CELL AS IS)\n",
    "plt.hist(test_results[2], bins=10)\n",
    "plt.title(\"Distribution of Out-Degree\")\n",
    "display(plt.show())"
   ]
  },
  {
   "cell_type": "code",
   "execution_count": 31,
   "metadata": {
    "application/vnd.databricks.v1+cell": {
     "inputWidgets": {},
     "nuid": "911b66e0-01ce-483e-b471-292f3b86001a",
     "showTitle": false,
     "title": ""
    }
   },
   "outputs": [
    {
     "name": "stderr",
     "output_type": "stream",
     "text": [
      "                                                                                \r"
     ]
    },
    {
     "name": "stdout",
     "output_type": "stream",
     "text": [
      "... completed job in 69.90621829032898 seconds\n",
      "Average out-degree:  32.04181575392334\n",
      "Top 10 nodes (by out-degree:)\n",
      " [('7804599', 9347), ('7858931', 8910), ('11185362', 8837), ('7705822', 8142), ('5760310', 7649), ('7865920', 7608), ('7819767', 7278), ('7883280', 7231), ('13035895', 7126), ('7880980', 6904), ('7909437', 6599), ('7810869', 6486), ('7846493', 6386), ('7841582', 6379), ('7768780', 6211), ('7820711', 6180), ('7861935', 6102), ('6075450', 6021), ('7884831', 6005), ('7777185', 5984), ('7803276', 5881), ('6074992', 5870), ('434078', 5856), ('7828359', 5853), ('7773411', 5806), ('7834538', 5788), ('10526976', 5772), ('7828391', 5606), ('1008643', 5599), ('7873008', 5595), ('7812439', 5554), ('7881486', 5552), ('7773479', 5523), ('7820535', 5520), ('7871067', 5517), ('7882833', 5504), ('7902703', 5471), ('7847103', 5449), ('5988470', 5421), ('7872661', 5419), ('7914303', 5369), ('5988469', 5363), ('7848337', 5344), ('11670785', 5341), ('7884903', 5234), ('6075178', 5217), ('6075732', 5183), ('7831837', 5162), ('7839409', 5112), ('6835653', 5103), ('7803274', 5081), ('7785602', 5054), ('9643124', 5026), ('7911689', 4983), ('9643132', 4969), ('7887218', 4890), ('7911235', 4881), ('7884931', 4860), ('7727417', 4859), ('7810198', 4838), ('7854241', 4830), ('10852744', 4783), ('7848322', 4768), ('7850777', 4708), ('7884930', 4683), ('8353825', 4640), ('7885241', 4594), ('11670104', 4592), ('7870424', 4591), ('7909901', 4572), ('7865253', 4559), ('7832957', 4557), ('7780859', 4548), ('7818538', 4516), ('7808359', 4506), ('1499631', 4497), ('7821232', 4480), ('7818786', 4475), ('7705731', 4469), ('7730890', 4388), ('7771799', 4381), ('7723295', 4375), ('7910325', 4344), ('7924296', 4342), ('7842595', 4316), ('7718040', 4262), ('7848357', 4233), ('417917', 4216), ('7848397', 4209), ('7828342', 4198), ('5988430', 4198), ('8353819', 4192), ('7828361', 4172), ('7911901', 4165), ('7847637', 4154), ('7913908', 4136), ('7871687', 4126), ('7700951', 4110), ('7888805', 4096), ('7884835', 4092), ('9160075', 4085), ('7805430', 4069), ('1085485', 4068), ('3544227', 4064), ('7895366', 4061), ('7862604', 3992), ('7846598', 3984), ('6412827', 3975), ('7913337', 3967), ('231671', 3959), ('2872120', 3955), ('7798689', 3944), ('7848743', 3904), ('7808617', 3896), ('7886237', 3883), ('210273', 3866), ('7848777', 3862), ('9579460', 3856), ('7753557', 3852), ('7809554', 3844), ('12600698', 3840), ('3208264', 3827), ('11670102', 3819), ('7700893', 3809), ('7885223', 3805), ('7729133', 3795), ('6835647', 3780), ('7865486', 3780), ('7850847', 3769), ('7804983', 3767), ('7872026', 3767), ('7848363', 3762), ('7766806', 3751), ('7810354', 3746), ('10840883', 3714), ('7907670', 3712), ('13034432', 3700), ('6075694', 3687), ('7883781', 3686), ('7725278', 3683), ('7884250', 3661), ('8565898', 3657), ('1436267', 3652), ('253171', 3647), ('5761250', 3641), ('7753531', 3626), ('7835185', 3616), ('7766871', 3601), ('7753564', 3597), ('7828384', 3592), ('215215', 3588), ('4414287', 3585), ('7908653', 3582), ('7829195', 3581), ('7888984', 3578), ('7753562', 3576), ('7739442', 3564), ('7716746', 3555), ('7803543', 3549), ('12917366', 3541), ('6412821', 3529), ('267405', 3526), ('291984', 3524), ('6075471', 3522), ('436883', 3512), ('4412439', 3511), ('6075569', 3507), ('2439781', 3496), ('7705812', 3488), ('7807492', 3488), ('398537', 3486), ('7895370', 3486), ('205348', 3483), ('7805565', 3483), ('5195853', 3483), ('7753538', 3479), ('385853', 3469), ('7885270', 3458), ('8565906', 3458), ('7705642', 3452), ('7737307', 3449), ('3544237', 3449), ('7812280', 3441), ('7827295', 3436), ('7725421', 3435), ('7704282', 3431), ('7831825', 3430), ('6075039', 3427), ('7780520', 3425), ('7842303', 3412), ('7753575', 3409), ('7834471', 3396), ('7754702', 3378), ('349979', 3377), ('7753532', 3375), ('403781', 3370), ('7885752', 3369), ('9164285', 3368), ('332025', 3368), ('7871574', 3357), ('7872896', 3356), ('7894899', 3353), ('7890380', 3350), ('8642302', 3348), ('200869', 3342), ('6075734', 3340), ('13036114', 3339), ('7720650', 3338), ('7851351', 3337), ('7817095', 3335), ('7883735', 3327), ('7819124', 3323), ('7704300', 3321), ('7804759', 3320), ('2148346', 3320), ('5988449', 3315), ('8565879', 3314), ('3544213', 3303), ('7740815', 3291), ('11852557', 3287), ('7756960', 3285), ('7909331', 3284), ('7767847', 3277), ('7895373', 3277), ('2797612', 3274), ('7871618', 3261), ('7848413', 3256), ('11670095', 3254), ('7848720', 3248), ('345297', 3248), ('7861244', 3246), ('5988461', 3243), ('7847630', 3239), ('7701000', 3236), ('7892655', 3235), ('7704250', 3232), ('7878737', 3232), ('417878', 3225), ('13034259', 3224), ('7873075', 3217), ('7913103', 3215), ('423008', 3213), ('7746916', 3213), ('7886086', 3212), ('7766805', 3207), ('7700849', 3207), ('7718039', 3205), ('7721300', 3203), ('7914270', 3201), ('9579454', 3200), ('7812370', 3198), ('13450108', 3196), ('7883461', 3194), ('7912072', 3190), ('7820037', 3189), ('7736589', 3189), ('246861', 3185), ('417606', 3183), ('7753554', 3179), ('6075421', 3170), ('4500017', 3166), ('7891842', 3158), ('7900831', 3157), ('327634', 3155), ('7884106', 3153), ('7786281', 3152), ('7788135', 3149), ('2396426', 3149), ('13035773', 3144), ('7861276', 3140), ('7848339', 3127), ('2396424', 3124), ('7885838', 3118), ('7766951', 3118), ('7872776', 3117), ('196838', 3117), ('7828368', 3116), ('7719170', 3112), ('7881201', 3108), ('7916362', 3107), ('7763653', 3107), ('1291831', 3101), ('1291840', 3095), ('398248', 3092), ('7832192', 3091), ('7710356', 3081), ('7815201', 3076), ('9643113', 3074), ('7882794', 3073), ('7884978', 3071), ('7839380', 3069), ('7908680', 3059), ('7901173', 3052), ('7881576', 3052), ('7767959', 3051), ('260452', 3048), ('6839690', 3043), ('7755615', 3035), ('9579467', 3029), ('6075730', 3027), ('8353802', 3023), ('7772379', 3015), ('434102', 3014), ('7820039', 3014), ('7705641', 3013), ('13626192', 3000), ('12512164', 2997), ('7753517', 2996), ('380661', 2994), ('7893261', 2994), ('7800531', 2974), ('6075728', 2973), ('7881106', 2956), ('7851228', 2956), ('12389576', 2947), ('380909', 2943), ('7805503', 2942), ('7864085', 2941), ('7772377', 2937), ('7701079', 2937), ('434049', 2937), ('784055', 2936), ('7828400', 2935), ('7747700', 2928), ('8996040', 2927), ('398277', 2923), ('7848916', 2922), ('7888310', 2919), ('7844365', 2917), ('13035524', 2916), ('7744733', 2909), ('7745109', 2909), ('7916870', 2907), ('193083', 2897), ('7906454', 2894), ('7708568', 2893), ('6075054', 2891), ('13318450', 2887), ('7909055', 2886), ('7812295', 2882), ('7864528', 2873), ('7759524', 2871), ('3723035', 2868), ('267422', 2865), ('7850344', 2865), ('1573335', 2862), ('7828365', 2861), ('7911561', 2856), ('7790923', 2852), ('9086712', 2852), ('7820951', 2849), ('7902506', 2847), ('7846495', 2844), ('7736563', 2844), ('11246153', 2840), ('7911804', 2839), ('7815250', 2832), ('7801196', 2831), ('7908675', 2826), ('7908879', 2825), ('7854334', 2824), ('351600', 2824), ('10915092', 2820), ('13037026', 2819), ('7753565', 2819), ('7727193', 2818), ('7911548', 2815), ('7054167', 2815), ('274751', 2810), ('370553', 2806), ('7871699', 2805), ('387389', 2804), ('7840418', 2804), ('7812306', 2802), ('7842391', 2799), ('7821836', 2799), ('7832392', 2798), ('405426', 2796), ('7815408', 2796), ('7808225', 2794), ('7883736', 2794), ('220371', 2789), ('7828340', 2788), ('7833730', 2787), ('154981', 2787), ('7744262', 2781), ('7908880', 2777), ('7911564', 2776), ('7846497', 2771), ('7834355', 2768), ('7909330', 2767), ('5988451', 2765), ('7789417', 2765), ('7911556', 2763), ('7766898', 2761), ('7893264', 2756), ('7747950', 2752), ('363932', 2744), ('189223', 2743), ('7856824', 2742), ('7828350', 2739), ('7784745', 2739), ('13725476', 2733), ('6075139', 2729), ('7885756', 2727), ('7846196', 2726), ('4346951', 2717), ('7829199', 2717), ('4536916', 2716), ('7792624', 2715), ('7763855', 2714), ('7790826', 2712), ('7840557', 2712), ('7702707', 2710), ('363984', 2709), ('7846989', 2709), ('7908876', 2708), ('7755093', 2708), ('7819149', 2707), ('6075716', 2702), ('7803552', 2701), ('8258142', 2701), ('253189', 2700), ('7791412', 2694), ('7871188', 2689), ('6233061', 2687), ('7924265', 2681), ('7807688', 2679), ('7761048', 2677), ('345063', 2674), ('7745207', 2669), ('7771112', 2667), ('7810214', 2666), ('7922456', 2666), ('318108', 2664), ('7840881', 2663), ('7731420', 2663), ('7848473', 2662), ('7842851', 2661), ('7788181', 2660), ('7768963', 2657), ('6075661', 2656), ('7847263', 2654), ('7708110', 2652), ('7900425', 2651), ('6075018', 2646), ('7909014', 2646), ('7871684', 2645), ('6075596', 2643), ('14106442', 2639), ('7820014', 2639), ('305806', 2637), ('7710582', 2630), ('7827684', 2625), ('13442428', 2625), ('7828360', 2618), ('7888465', 2615), ('7705681', 2614), ('2797581', 2610), ('7873909', 2607), ('7913058', 2607), ('7878981', 2598), ('7846603', 2597), ('7777301', 2592), ('7883460', 2582), ('7875030', 2582), ('7891375', 2577), ('390043', 2576), ('8793304', 2575), ('7753582', 2575), ('5522990', 2567), ('7846926', 2565), ('3544194', 2564), ('7895363', 2562), ('7857111', 2562), ('7789517', 2559), ('7840864', 2557), ('7873059', 2554), ('7916789', 2553), ('7848338', 2550), ('7758556', 2549), ('417629', 2548), ('7702677', 2548), ('7883932', 2546), ('7828676', 2545), ('260469', 2542), ('3820749', 2537), ('10271070', 2536), ('7739256', 2536), ('7871676', 2536), ('7773441', 2534), ('7753524', 2532), ('7867787', 2532), ('7737034', 2532), ('417849', 2528), ('282427', 2528), ('7812421', 2523), ('13036018', 2523), ('7911475', 2523), ('7913796', 2522), ('7783580', 2520), ('7700794', 2519), ('4852601', 2519), ('6839678', 2519), ('8697738', 2518), ('7895359', 2517), ('10926049', 2514), ('7893657', 2514), ('7841232', 2514), ('7912075', 2512), ('7731303', 2510), ('7848364', 2509), ('7769057', 2509), ('8685310', 2509), ('7873915', 2505), ('7891430', 2504), ('7731301', 2504), ('363760', 2503), ('7753521', 2502), ('3284894', 2502), ('7911550', 2499), ('7846748', 2495), ('7780769', 2494), ('7861927', 2490), ('7879517', 2489), ('90640', 2485), ('7827504', 2482), ('9562907', 2480), ('7798288', 2478), ('7855962', 2477), ('13441626', 2477), ('2437576', 2471), ('6412837', 2469), ('7745547', 2469), ('7702526', 2467), ('13450034', 2465), ('7774414', 2464), ('7813817', 2461), ('7783213', 2460), ('7755284', 2458), ('7859086', 2457), ('7902646', 2454), ('13491149', 2454), ('7753542', 2453), ('4897539', 2451), ('7846080', 2448), ('7719345', 2447), ('7806814', 2446), ('2155391', 2445), ('7803278', 2441), ('7753514', 2441), ('7848343', 2437), ('7871425', 2437), ('313771', 2436), ('3140248', 2434), ('7705640', 2433), ('7758023', 2429), ('1291817', 2428), ('7910861', 2428), ('7912136', 2428), ('7791475', 2428), ('9164307', 2426), ('398575', 2426), ('10641199', 2426), ('8732125', 2424), ('2204243', 2419), ('7832202', 2415), ('5195852', 2408), ('9579411', 2406), ('7871728', 2406), ('4500012', 2405), ('430356', 2405), ('7703580', 2404), ('7848958', 2403), ('7911511', 2401), ('13694693', 2400), ('7705487', 2398), ('7753563', 2398), ('10612000', 2398), ('6412811', 2397), ('7879519', 2396), ('4661348', 2396), ('185182', 2394), ('392635', 2393), ('7883961', 2391), ('2871978', 2390), ('7882896', 2389), ('8427082', 2389), ('7908687', 2384), ('5123749', 2384), ('7819239', 2382), ('7895356', 2380), ('372247', 2378), ('193152', 2377), ('7809567', 2376), ('7848407', 2375), ('7753579', 2374), ('12834253', 2374), ('5988412', 2371), ('7796715', 2370), ('355324', 2370), ('189276', 2368), ('9882625', 2368), ('408161', 2366), ('7895365', 2366), ('231689', 2360), ('7709018', 2359), ('7808606', 2357), ('7719388', 2355), ('7809709', 2355), ('7846624', 2354), ('7849785', 2354), ('1499617', 2353), ('380640', 2353), ('7901161', 2352), ('7731302', 2349), ('5195847', 2345), ('7776808', 2340), ('14108182', 2339), ('7786336', 2336), ('415258', 2335), ('6075595', 2335), ('7812348', 2333), ('394514', 2333), ('7752626', 2332), ('7842989', 2325), ('7809815', 2323), ('7888480', 2323), ('7763709', 2322), ('7873349', 2320), ('7907727', 2320), ('7764473', 2319), ('7702751', 2318), ('7848353', 2315), ('7757180', 2315), ('7852726', 2314), ('7856979', 2313), ('7886320', 2309), ('13035665', 2308), ('7915867', 2308), ('11574472', 2307), ('14060999', 2306), ('7854337', 2305), ('429203', 2304), ('7895345', 2303), ('3615547', 2302), ('7702719', 2296), ('6084946', 2296), ('5195517', 2291), ('7901500', 2289), ('7798385', 2288), ('7820808', 2288), ('6076575', 2288), ('979465', 2288), ('6839669', 2287), ('7879580', 2285), ('7793647', 2285), ('7910419', 2283), ('5769293', 2274), ('411451', 2273), ('7767207', 2273), ('7861392', 2271), ('7720653', 2270), ('7780886', 2269), ('7737480', 2266), ('344412', 2266), ('7916824', 2265), ('6075556', 2264), ('7738027', 2264), ('7883458', 2264), ('7790831', 2263), ('7902838', 2262), ('5231738', 2261), ('7911551', 2260), ('246879', 2257), ('7895339', 2255), ('7752816', 2255), ('7828705', 2252), ('7827879', 2252), ('357250', 2251), ('7772318', 2250), ('662008', 2247), ('7702435', 2244), ('7766792', 2242), ('7753544', 2242), ('7885177', 2242), ('7735466', 2241), ('7809766', 2240), ('7902453', 2239), ('5763390', 2239), ('7848403', 2239), ('7764524', 2238), ('7702725', 2238), ('7911509', 2238), ('7702793', 2237), ('434090', 2237), ('7848404', 2237), ('7731288', 2237), ('7769516', 2235), ('220387', 2235), ('7871422', 2235), ('9579441', 2233), ('100909', 2233), ('7754350', 2230), ('7902352', 2228), ('10641198', 2227), ('7786459', 2226), ('7888327', 2226), ('7922336', 2225), ('7895344', 2222), ('7745102', 2222), ('433811', 2222), ('7809547', 2222), ('7719346', 2222), ('7753553', 2222), ('7820087', 2221), ('13891774', 2220), ('7705506', 2220), ('401410', 2219), ('7820327', 2215), ('7811987', 2212), ('7700641', 2212), ('7814616', 2211), ('7790512', 2208), ('7828442', 2207), ('7809173', 2206), ('7893235', 2205), ('7884183', 2205), ('7885760', 2203), ('7777139', 2202), ('7734010', 2201), ('7720652', 2201), ('7908881', 2198), ('7805207', 2198), ('7848358', 2197), ('7780474', 2196), ('7835224', 2195), ('7798717', 2193), ('7885190', 2193), ('7705735', 2192), ('7755617', 2191), ('354406', 2191), ('13442416', 2188), ('225923', 2187), ('7856227', 2186), ('7813411', 2185), ('13036676', 2185), ('7704240', 2184), ('1913881', 2183), ('7859377', 2183), ('7841528', 2181), ('7752348', 2180), ('7888925', 2178), ('977904', 2177), ('7902934', 2177), ('3450366', 2176), ('1575749', 2175), ('7873110', 2174), ('7700438', 2173), ('7909918', 2169), ('14261007', 2168), ('136509', 2166), ('7720658', 2166), ('248871', 2164), ('394551', 2163), ('7819997', 2163), ('3178760', 2163), ('7730703', 2162), ('357252', 2162), ('7715062', 2162), ('7891162', 2160), ('7857386', 2158), ('7871824', 2157), ('7815393', 2157), ('7908684', 2157), ('13035310', 2157), ('7705639', 2156), ('7805094', 2156), ('7848355', 2155), ('7747009', 2153), ('7873913', 2153), ('196892', 2152), ('7864036', 2152), ('7849639', 2151), ('13623285', 2150), ('7739253', 2149), ('7879908', 2148), ('13035633', 2148), ('7861253', 2146), ('149947', 2145), ('7845971', 2144), ('7847200', 2144), ('12034708', 2144), ('662134', 2143), ('234354', 2142), ('7888099', 2141), ('7700976', 2141), ('7895347', 2141), ('7804871', 2140), ('302255', 2140), ('398273', 2139), ('7871326', 2139), ('7902271', 2137), ('7891103', 2137), ('7755726', 2132), ('7873112', 2132), ('1938986', 2131), ('7871561', 2131), ('7841404', 2131), ('7865597', 2129), ('13119730', 2128), ('7700539', 2127), ('7754353', 2127), ('417948', 2126), ('7827876', 2126), ('7702426', 2125), ('1343009', 2124), ('12048667', 2120), ('7726999', 2120), ('7878918', 2120), ('7914562', 2120), ('411453', 2119), ('7719344', 2117), ('7902552', 2114), ('4347345', 2110), ('7817684', 2109), ('138704', 2107), ('2942203', 2107), ('7700843', 2107), ('5043145', 2107), ('7702518', 2107), ('6581544', 2106), ('7821474', 2105), ('7088670', 2104), ('3039403', 2103), ('7886624', 2103), ('7725100', 2102), ('7872047', 2101), ('7791741', 2100), ('13449774', 2099), ('7769804', 2099), ('398512', 2096), ('7827674', 2095), ('4195761', 2091), ('89850', 2090), ('7855964', 2089), ('7885759', 2088), ('1471645', 2087), ('417746', 2084), ('6364736', 2084), ('339481', 2082), ('225938', 2081), ('7763753', 2080), ('7911558', 2079), ('7720657', 2077), ('7748803', 2077), ('140851', 2076), ('417888', 2074), ('7773093', 2073), ('6075558', 2072), ('13851452', 2071), ('5142790', 2071), ('13450046', 2071), ('7873035', 2071), ('7811433', 2070), ('7883962', 2070), ('12512163', 2070), ('7772235', 2069), ('7700482', 2068), ('2284722', 2065), ('3668728', 2065), ('3556151', 2064), ('7872848', 2064), ('7702714', 2064), ('7875514', 2062), ('2742338', 2060), ('160225', 2060), ('7767678', 2059), ('2437547', 2059), ('7854531', 2058), ('421834', 2058), ('7822617', 2057), ('7733676', 2057), ('7823119', 2057), ('7855432', 2053), ('7734866', 2052), ('7777034', 2052), ('6074999', 2051), ('13070168', 2050), ('7822604', 2050), ('7748739', 2050), ('7822443', 2049), ('7895324', 2048), ('134350', 2048), ('215231', 2047), ('7820058', 2046), ('128865', 2046), ('7913818', 2045), ('7717209', 2044), ('4653059', 2044), ('7871519', 2044), ('9355194', 2043), ('3669866', 2043), ('7753537', 2040), ('434024', 2039), ('7872469', 2037), ('7902936', 2036), ('147624', 2035), ('11942568', 2033), ('662099', 2032), ('7911159', 2031), ('7847835', 2031), ('7754707', 2030), ('367986', 2030), ('8353906', 2030), ('13441881', 2030), ('7883245', 2028), ('7883426', 2028), ('4198556', 2027), ('7908956', 2027), ('7846734', 2027), ('7751670', 2026), ('4195863', 2026), ('7763217', 2026), ('2990172', 2026), ('7745751', 2025), ('7879957', 2024), ('7895351', 2024), ('11775403', 2023), ('12160853', 2023), ('7705635', 2022), ('7842740', 2022), ('7882795', 2021), ('2776335', 2020), ('7763629', 2020), ('7871641', 2020), ('7704255', 2019), ('7846611', 2018), ('13030241', 2017), ('11448601', 2017), ('7731198', 2016), ('7715240', 2014), ('11818886', 2013), ('427074', 2013), ('127181', 2011), ('181785', 2008), ('5584045', 2008), ('7888332', 2007), ('7739257', 2006), ('7714802', 2005), ('7744732', 2005), ('368221', 2003), ('6477101', 2003), ('7815008', 2003), ('13035221', 2003), ('6138051', 2002), ('7827108', 2002), ('7908686', 2001), ('814121', 2001), ('7893058', 2000), ('136547', 2000), ('200924', 2000), ('392633', 1998), ('7888263', 1998), ('7844824', 1998), ('13449723', 1998), ('7846430', 1997), ('8641612', 1997), ('7841657', 1996), ('7786828', 1995), ('7705638', 1994), ('5988414', 1994), ('6835632', 1993), ('7700914', 1993), ('7802857', 1991), ('9924814', 1990), ('7850713', 1990), ('7827956', 1990), ('13442397', 1989), ('9643078', 1989), ('6075059', 1988), ('13449634', 1988), ('7833787', 1987), ('397719', 1986), ('7065190', 1986), ('7720659', 1985), ('210290', 1984), ('7900500', 1984), ('7810201', 1983), ('7757177', 1982), ('375286', 1981), ('11034025', 1981), ('662110', 1979), ('7822392', 1979), ('7790832', 1978), ('4923544', 1976), ('7808664', 1976), ('7820107', 1975), ('7700838', 1975), ('380997', 1973)]\n"
     ]
    }
   ],
   "source": [
    "# part a - run your job on the full file (RUN THIS CELL AS IS)\n",
    "start = time.time()\n",
    "full_results = count_degree(wikiRDD,1000)\n",
    "\n",
    "print(f\"... completed job in {time.time() - start} seconds\")\n",
    "print(\"Average out-degree: \", full_results[1])\n",
    "print(\"Top 10 nodes (by out-degree:)\\n\", full_results[0])"
   ]
  },
  {
   "cell_type": "code",
   "execution_count": 32,
   "metadata": {
    "application/vnd.databricks.v1+cell": {
     "inputWidgets": {},
     "nuid": "ace6cf84-9e29-4cc7-9ce7-f6d8d8ee5f26",
     "showTitle": false,
     "title": ""
    }
   },
   "outputs": [
    {
     "data": {
      "image/png": "[encoded data removed]",
      "text/plain": [
       "<Figure size 432x288 with 1 Axes>"
      ]
     },
     "metadata": {
      "needs_background": "light"
     },
     "output_type": "display_data"
    },
    {
     "data": {
      "text/plain": [
       "None"
      ]
     },
     "metadata": {},
     "output_type": "display_data"
    }
   ],
   "source": [
    "# part a - plot results from full file (RUN THIS CELL AS IS)\n",
    "plt.hist(full_results[2], bins=50)\n",
    "plt.title(\"Distribution of Out-Degree\")\n",
    "display(plt.show())"
   ]
  },
  {
   "cell_type": "markdown",
   "metadata": {
    "application/vnd.databricks.v1+cell": {
     "inputWidgets": {},
     "nuid": "2335011b-57ae-417b-a682-b3f7f8ce0a01",
     "showTitle": false,
     "title": ""
    }
   },
   "source": [
    "# Question 7 - PageRank part 1 (Initialize the Graph)\n",
    "\n",
    "One of the challenges of performing distributed graph computation is that you must pass the entire graph structure through each iteration of your algorithm. As usual, we seek to design our computation so that as much work as possible can be done using the contents of a single record. In the case of PageRank, we'll need each record to include a node, its list of neighbors and its (current) rank. In this question you'll initialize the graph by creating a record for each dangling node and by setting the initial rank to 1/N for all nodes. \n",
    "\n",
    "__`NOTE:`__ Your solution should _not_ hard code $N$.\n",
    "\n",
    "### Q7 Tasks:\n",
    "* __a) Canvas MC:__ What is $N$? \n",
    "\n",
    "* __b) Canvas Multiple Selection MC:__ Using the analogy of the infinite random web-surfer, how do we use $\\frac{1}{N}$?\n",
    "\n",
    "* __c) Canvas Multiple Dropdown:__ Will it be more efficient to compute \\\\(N\\\\) before initializing records for each dangling node or after? (T/F).\n",
    "\n",
    "* __d) code:__ Fill in the missing code below to create a Spark job that:\n",
    "  * parses each input record\n",
    "  * creates a new record for any dangling nodes and sets it list of neighbors to be an empty set\n",
    "  * initializes a rank of 1/N for each node\n",
    "  * returns a pair RDD with records in the format specified by the docstring\n",
    "\n",
    "\n",
    "* __e) code + short answer:__ Run the provided code to confirm that your job in `part d` has a record for each node and that your should records match the format specified in the docstring and the count should match what you computed in question 5. Copy and paste this output into Canvas. [__`TIP:`__ _you might want to take a moment to write out what the expected output should be fore the test graph, this will help you know your code works as expected_]\n",
    " \n",
    "__`NOTE:`__ Please observe scalability best practices in the design of your code & comment your work clearly. You will be graded on both the clarity and the design."
   ]
  },
  {
   "cell_type": "markdown",
   "metadata": {
    "application/vnd.databricks.v1+cell": {
     "inputWidgets": {},
     "nuid": "ab638b99-08ce-4570-92ad-a4fb6cb4d2ac",
     "showTitle": false,
     "title": ""
    }
   },
   "source": [
    "### Q7 Student Answers:"
   ]
  },
  {
   "cell_type": "markdown",
   "metadata": {
    "application/vnd.databricks.v1+cell": {
     "inputWidgets": {},
     "nuid": "5f339d21-7827-4ce1-8c28-cf54493fcee1",
     "showTitle": false,
     "title": ""
    }
   },
   "source": [
    "### <--- SOLUTION --->\n"
   ]
  },
  {
   "cell_type": "code",
   "execution_count": 102,
   "metadata": {
    "application/vnd.databricks.v1+cell": {
     "inputWidgets": {},
     "nuid": "785e5640-4910-4e18-b7fc-09dc7d8dc69e",
     "showTitle": false,
     "title": ""
    }
   },
   "outputs": [],
   "source": [
    "# part d - job to initialize the graph (RUN THIS CELL AS IS)\n",
    "def initGraph(dataRDD):\n",
    "    \"\"\"\n",
    "    Spark job to read in the raw data and initialize an \n",
    "    adjacency list representation with a record for each\n",
    "    node (including dangling nodes).\n",
    "    \n",
    "    Returns: \n",
    "        graphRDD -  a pair RDD of (node_id , (score, edges))\n",
    "        \n",
    "    NOTE: The score should be a float, but you may want to be \n",
    "    strategic about how format the edges... there are a few \n",
    "    options that can work. Make sure that whatever you choose\n",
    "    is sufficient for Question 8 where you'll run PageRank.\n",
    "    \"\"\"\n",
    "    ############## YOUR CODE HERE ###############\n",
    "\n",
    "    # write any helper functions here\n",
    "    def parseNeighbors(line):\n",
    "        node, edges = line.split('\\t')\n",
    "        edges = ast.literal_eval(edges)\n",
    "        edges = list(edges.keys())\n",
    "        return (node, edges)\n",
    "\n",
    "    \n",
    "    # Loads all URLs from input RDD and initialize their neighbors.\n",
    "    links = dataRDD.map(lambda urls: parseNeighbors(urls)).groupByKey().mapValues(list).cache()\n",
    "    \n",
    "    # Loads all nodes and initialize ranks of them to one.\n",
    "    graphRDD = links.map(lambda neighbors: (neighbors[0], (1.0, neighbors[1][0])))\n",
    "    \n",
    "    \n",
    "    ############## (END) YOUR CODE ##############\n",
    "    \n",
    "    return graphRDD"
   ]
  },
  {
   "cell_type": "code",
   "execution_count": 103,
   "metadata": {
    "application/vnd.databricks.v1+cell": {
     "inputWidgets": {},
     "nuid": "defa9d85-90e7-4888-9d8d-b55fea07b625",
     "showTitle": false,
     "title": ""
    }
   },
   "outputs": [
    {
     "name": "stdout",
     "output_type": "stream",
     "text": [
      "... test graph initialized in 0.24186301231384277 seconds.\n"
     ]
    },
    {
     "data": {
      "text/plain": [
       "[('4', (1.0, ['1', '2'])),\n",
       " ('8', (1.0, ['2', '5'])),\n",
       " ('9', (1.0, ['2', '5'])),\n",
       " ('10', (1.0, ['5'])),\n",
       " ('2', (1.0, ['3'])),\n",
       " ('3', (1.0, ['2'])),\n",
       " ('5', (1.0, ['4', '2', '6'])),\n",
       " ('6', (1.0, ['2', '5'])),\n",
       " ('7', (1.0, ['2', '5'])),\n",
       " ('11', (1.0, ['5']))]"
      ]
     },
     "execution_count": 103,
     "metadata": {},
     "output_type": "execute_result"
    }
   ],
   "source": [
    "# part e - run your Spark job on the test graph (RUN THIS CELL AS IS)\n",
    "start = time.time()\n",
    "testGraph = initGraph(testRDD).collect()\n",
    "print(f'... test graph initialized in {time.time() - start} seconds.')\n",
    "testGraph"
   ]
  },
  {
   "cell_type": "code",
   "execution_count": 135,
   "metadata": {
    "application/vnd.databricks.v1+cell": {
     "inputWidgets": {},
     "nuid": "87b373f0-605a-4aa9-a938-ae43b9b22ca2",
     "showTitle": false,
     "title": ""
    }
   },
   "outputs": [
    {
     "name": "stdout",
     "output_type": "stream",
     "text": [
      "... full graph initialized in 0.027193069458007812 seconds\n"
     ]
    }
   ],
   "source": [
    "# part e - run your code on the main graph (RUN THIS CELL AS IS)\n",
    "start = time.time()\n",
    "wikiGraphRDD = initGraph(wikiRDD)\n",
    "print(f'... full graph initialized in {time.time() - start} seconds')"
   ]
  },
  {
   "cell_type": "code",
   "execution_count": null,
   "metadata": {
    "application/vnd.databricks.v1+cell": {
     "inputWidgets": {},
     "nuid": "13e1392b-448f-478f-9dd3-aa37e905b334",
     "showTitle": false,
     "title": ""
    }
   },
   "outputs": [
    {
     "name": "stderr",
     "output_type": "stream",
     "text": [
      "[Stage 2061:=================================>                    (10 + 6) / 16]\r"
     ]
    },
    {
     "name": "stdout",
     "output_type": "stream",
     "text": [
      "Total number of records: 5781290\n",
      "First record: [('2051810', (1.0, ['12109271']))]\n",
      "... initialization continued: 123.61452341079712 seconds\n"
     ]
    },
    {
     "name": "stderr",
     "output_type": "stream",
     "text": [
      "                                                                                \r"
     ]
    }
   ],
   "source": [
    "# part e - confirm record format and count (RUN THIS CELL AS IS)\n",
    "start = time.time()\n",
    "print(f'Total number of records: {wikiGraphRDD.count()}')\n",
    "print(f'First record: {wikiGraphRDD.take(1)}')\n",
    "print(f'... initialization continued: {time.time() - start} seconds')"
   ]
  },
  {
   "cell_type": "markdown",
   "metadata": {
    "application/vnd.databricks.v1+cell": {
     "inputWidgets": {},
     "nuid": "8767c84f-b5de-4e99-8089-79c303d54d64",
     "showTitle": false,
     "title": ""
    }
   },
   "source": [
    "# Question 8 - PageRank part 2 (Iterate until convergence)\n",
    "\n",
    "Finally we're ready to compute the page rank. In this last question you'll write a Spark job that iterates over the initialized graph updating each nodes score until it reaches a convergence threshold. The diagram below gives a visual overview of the process using a 5 node toy graph. Pay particular attention to what happens to the dangling mass at each iteration.\n",
    "\n",
    "<img src='https://github.com/kyleiwaniec/w261_assets/blob/master/images/HW5/PR-illustrated.png?raw=true' width=50%>\n",
    "\n",
    "\n",
    "\n",
    "__`A Note about Notation:`__ The formula above describes how to compute the updated page rank for a node in the graph. The $P$ on the left hand side of the equation is the new score, and the $P$ on the right hand side of the equation represents the accumulated mass that was re-distributed from all of that node's in-links. Finally, $|G|$ is the number of nodes in the graph (which we've elsewhere refered to as $N$).\n",
    "\n",
    "### Q8 Tasks:\n",
    "* __a) Canvas MCQ:__ In terms of the infinite random walk analogy, interpret the meaning of the first term in the PageRank calculation: $\\alpha * \\frac{1}{|G|}$\n",
    "\n",
    "* __b) Canvas MCQ:__ In the equation for the PageRank calculation above what does $m$ represent and why do we divide it by $|G|$?\n",
    "\n",
    "* __c) Numeric answer:__ Keeping track of the total probability mass after each update is a good way to confirm that your algorithm is on track. How much should the total mass be after each iteration?\n",
    "\n",
    "* __d) code:__ Fill in the missing code below to create a Spark job that take the initialized graph as its input then iterates over the graph and for each pass:\n",
    "  * reads in each record and redistributes the node's current score to each of its neighbors\n",
    "  * uses an accumulator to add up the dangling node mass and redistribute it among all the nodes. (_Don't forget to reset this accumulator after each iteration!_)\n",
    "  * uses an accumulator to keep track of the total mass being redistributed.( _This is just for your own check, its not part of the PageRank calculation. Don't forget to reset this accumulator after each iteration._)\n",
    "  * aggregates these partial scores for each node\n",
    "  * applies telportation and damping factors as described in the formula above.\n",
    "  * combine all of the above to compute the PageRank as described by the formula above.\n",
    "  \n",
    "   __WARNING:__ Some pages contain multiple hyperlinks to the same destination, please take this into account when redistributing the mass.\n",
    "\n",
    " \n",
    "__`NOTE:`__ Please observe scalability best practices in the design of your code & comment your work clearly. You will be graded on both the clarity and the design."
   ]
  },
  {
   "cell_type": "markdown",
   "metadata": {
    "application/vnd.databricks.v1+cell": {
     "inputWidgets": {},
     "nuid": "42c759e9-1234-4ba2-81e0-b01e45b2c4c0",
     "showTitle": false,
     "title": ""
    }
   },
   "source": [
    "### Q8 Student Answers:\n",
    "\n",
    "> __a)__ Type your answer here!\n",
    "\n",
    "> __b)__ Type your answer here! \n",
    "\n",
    "> __c)__ Type your answer here!"
   ]
  },
  {
   "cell_type": "markdown",
   "metadata": {
    "application/vnd.databricks.v1+cell": {
     "inputWidgets": {},
     "nuid": "caa7cc08-44e2-4ba4-b7f8-ae9b5d3322d0",
     "showTitle": false,
     "title": ""
    }
   },
   "source": [
    "### <--- SOLUTION --->\n",
    "__SOLUTION__\n",
    "\n"
   ]
  },
  {
   "cell_type": "code",
   "execution_count": 37,
   "metadata": {
    "application/vnd.databricks.v1+cell": {
     "inputWidgets": {},
     "nuid": "2b1b408d-a497-49ce-bc7f-0f3b6731330f",
     "showTitle": false,
     "title": ""
    }
   },
   "outputs": [],
   "source": [
    "# part d - provided FloatAccumulator class (RUN THIS CELL AS IS)\n",
    "\n",
    "from pyspark.accumulators import AccumulatorParam\n",
    "\n",
    "class FloatAccumulatorParam(AccumulatorParam):\n",
    "    \"\"\"\n",
    "    Custom accumulator for use in page rank to keep track of various masses.\n",
    "    \n",
    "    IMPORTANT: accumulators should only be called inside actions to avoid duplication.\n",
    "    We stringly recommend you use the 'foreach' action in your implementation below.\n",
    "    \"\"\"\n",
    "    def zero(self, value):\n",
    "        return value\n",
    "    def addInPlace(self, val1, val2):\n",
    "        return val1 + val2"
   ]
  },
  {
   "cell_type": "code",
   "execution_count": 137,
   "metadata": {
    "application/vnd.databricks.v1+cell": {
     "inputWidgets": {},
     "nuid": "0106d82e-5638-4a9c-b35a-96a730589792",
     "showTitle": false,
     "title": ""
    }
   },
   "outputs": [],
   "source": [
    "# part d - job to run PageRank (RUN THIS CELL AS IS)\n",
    "def runPageRank(graphInitRDD, alpha = 0.15, maxIter = 10, verbose = True):\n",
    "    \"\"\"\n",
    "    Spark job to implement page rank\n",
    "    Args: \n",
    "        graphInitRDD  - pair RDD of (node_id , (score, edges))\n",
    "        alpha         - (float) teleportation factor\n",
    "        maxIter       - (int) stopping criteria (number of iterations)\n",
    "        verbose       - (bool) option to print logging info after each iteration\n",
    "    Returns:\n",
    "        steadyStateRDD - pair RDD of (node_id, pageRank)\n",
    "    \"\"\"\n",
    "    # teleportation:\n",
    "    a = sc.broadcast(alpha)\n",
    "    \n",
    "    # damping factor:\n",
    "    d = sc.broadcast(1-a.value)\n",
    "    \n",
    "    # initialize accumulators for dangling mass & total mass\n",
    "    mmAccum = sc.accumulator(0.0, FloatAccumulatorParam())\n",
    "    totAccum = sc.accumulator(0.0, FloatAccumulatorParam())\n",
    "    \n",
    "    ############## YOUR CODE HERE ###############\n",
    "    \n",
    "    num_nodes = graphInitRDD.count()\n",
    "          \n",
    "    def init_score(x):\n",
    "        node = x[0]\n",
    "        scores = x[1][0]\n",
    "        edges =  x[1][1]\n",
    "        num_edges = len(edges)\n",
    "        temp_node = (node,(0,edges))\n",
    "        if num_edges != 0:\n",
    "            new_scores = scores/num_edges\n",
    "            new_rdd = [(y,(new_scores,[])) for y in edges]\n",
    "            new_rdd.append(temp_node)\n",
    "            return new_rdd\n",
    "        else:\n",
    "            mmAccum.add(scores)\n",
    "            return [(node,(0,[]))]\n",
    "          \n",
    "    def func_reduce(x,y):\n",
    "        return (x[0]+y[0],x[1]+y[1])\n",
    "      \n",
    "    def final_score(x,mm):\n",
    "        node = x[0]\n",
    "        scores = x[1][0]\n",
    "        edges =  x[1][1]\n",
    "        final_scores = (a.value*(1/num_nodes)) + ((d.value) * (mm/num_nodes + scores))\n",
    "        totAccum.add(final_scores)\n",
    "        return (node,(final_scores,edges))\n",
    "    \n",
    "    \n",
    "    for i in range(maxIter) :\n",
    "        graphInitRDD = graphInitRDD.flatMap(lambda x : init_score(x)).reduceByKey(lambda x,y:func_reduce(x,y)).cache()\n",
    "        accum = float(mmAccum.value)\n",
    "        graphInitRDD = graphInitRDD.map(lambda x : final_score(x,accum)).cache()\n",
    "        mmAccum.value = 0\n",
    "        totAccum.value = 0\n",
    "\n",
    "    steadyStateRDD = graphInitRDD.map(lambda x: (x[0], x[1][0]))\n",
    "    \n",
    "    ############## (END) YOUR CODE ###############\n",
    "    \n",
    "    return steadyStateRDD"
   ]
  },
  {
   "cell_type": "code",
   "execution_count": 138,
   "metadata": {
    "application/vnd.databricks.v1+cell": {
     "inputWidgets": {},
     "nuid": "713ce01a-9fd6-4c03-9e90-33809f13853e",
     "showTitle": false,
     "title": ""
    }
   },
   "outputs": [
    {
     "name": "stdout",
     "output_type": "stream",
     "text": [
      "...trained 20 iterations in 0.8508255481719971 seconds.\n",
      "Top 20 ranked nodes:\n"
     ]
    },
    {
     "data": {
      "text/plain": [
       "[('3', 0.5144206251640965),\n",
       " ('2', 0.4567972647099972),\n",
       " ('5', 0.07503552877860711),\n",
       " ('4', 0.036260071356824825),\n",
       " ('6', 0.036260071356824825),\n",
       " ('1', 0.0304105287786071),\n",
       " ('8', 0.015),\n",
       " ('9', 0.015),\n",
       " ('10', 0.015),\n",
       " ('7', 0.015),\n",
       " ('11', 0.015)]"
      ]
     },
     "execution_count": 138,
     "metadata": {},
     "output_type": "execute_result"
    }
   ],
   "source": [
    "# part d - run PageRank on the test graph (RUN THIS CELL AS IS)\n",
    "# NOTE: while developing your code you may want turn on the verbose option\n",
    "nIter = 20\n",
    "testGraphRDD = initGraph(testRDD)\n",
    "start = time.time()\n",
    "test_results = runPageRank(testGraphRDD, alpha = 0.15, maxIter = nIter, verbose = False)\n",
    "print(f'...trained {nIter} iterations in {time.time() - start} seconds.')\n",
    "print(f'Top 20 ranked nodes:')\n",
    "test_results.takeOrdered(20, key=lambda x: - x[1])"
   ]
  },
  {
   "cell_type": "markdown",
   "metadata": {
    "application/vnd.databricks.v1+cell": {
     "inputWidgets": {},
     "nuid": "d67f45f2-6aa2-4d11-82c6-ac75aedce484",
     "showTitle": false,
     "title": ""
    }
   },
   "source": [
    "__`expected results for the test graph:`__\n",
    "```\n",
    "[(2, 0.3620640495978871),\n",
    " (3, 0.333992700474142),\n",
    " (5, 0.08506399429624555),\n",
    " (4, 0.06030963508473455),\n",
    " (1, 0.04255740809817991),\n",
    " (6, 0.03138662354831139),\n",
    " (8, 0.01692511778009981),\n",
    " (10, 0.01692511778009981),\n",
    " (7, 0.01692511778009981),\n",
    " (9, 0.01692511778009981),\n",
    " (11, 0.01692511778009981)]\n",
    "```"
   ]
  },
  {
   "cell_type": "code",
   "execution_count": 139,
   "metadata": {
    "application/vnd.databricks.v1+cell": {
     "inputWidgets": {},
     "nuid": "b18601a6-727e-4229-af9d-40019e092fd7",
     "showTitle": false,
     "title": ""
    },
    "collapsed": true,
    "jupyter": {
     "outputs_hidden": true
    },
    "tags": []
   },
   "outputs": [
    {
     "name": "stderr",
     "output_type": "stream",
     "text": [
      "                                                                                \r"
     ]
    },
    {
     "name": "stdout",
     "output_type": "stream",
     "text": [
      "...trained 10 iterations in 3.1912152767181396 seconds.\n",
      "Top 20 ranked nodes:\n"
     ]
    },
    {
     "name": "stderr",
     "output_type": "stream",
     "text": [
      "[Stage 2091:>                                                     (0 + 16) / 16]\r"
     ]
    },
    {
     "ename": "KeyboardInterrupt",
     "evalue": "",
     "output_type": "error",
     "traceback": [
      "\u001b[0;31m---------------------------------------------------------------------------\u001b[0m",
      "\u001b[0;31mKeyboardInterrupt\u001b[0m                         Traceback (most recent call last)",
      "Input \u001b[0;32mIn [139]\u001b[0m, in \u001b[0;36m<cell line: 8>\u001b[0;34m()\u001b[0m\n\u001b[1;32m      6\u001b[0m \u001b[38;5;28mprint\u001b[39m(\u001b[38;5;124mf\u001b[39m\u001b[38;5;124m'\u001b[39m\u001b[38;5;124m...trained \u001b[39m\u001b[38;5;132;01m{\u001b[39;00mnIter\u001b[38;5;132;01m}\u001b[39;00m\u001b[38;5;124m iterations in \u001b[39m\u001b[38;5;132;01m{\u001b[39;00mtime\u001b[38;5;241m.\u001b[39mtime() \u001b[38;5;241m-\u001b[39m start\u001b[38;5;132;01m}\u001b[39;00m\u001b[38;5;124m seconds.\u001b[39m\u001b[38;5;124m'\u001b[39m)\n\u001b[1;32m      7\u001b[0m \u001b[38;5;28mprint\u001b[39m(\u001b[38;5;124mf\u001b[39m\u001b[38;5;124m'\u001b[39m\u001b[38;5;124mTop 20 ranked nodes:\u001b[39m\u001b[38;5;124m'\u001b[39m)\n\u001b[0;32m----> 8\u001b[0m \u001b[43mfull_results\u001b[49m\u001b[38;5;241;43m.\u001b[39;49m\u001b[43mtakeOrdered\u001b[49m\u001b[43m(\u001b[49m\u001b[38;5;241;43m20\u001b[39;49m\u001b[43m,\u001b[49m\u001b[43m \u001b[49m\u001b[43mkey\u001b[49m\u001b[38;5;241;43m=\u001b[39;49m\u001b[38;5;28;43;01mlambda\u001b[39;49;00m\u001b[43m \u001b[49m\u001b[43mx\u001b[49m\u001b[43m:\u001b[49m\u001b[43m \u001b[49m\u001b[38;5;241;43m-\u001b[39;49m\u001b[43m \u001b[49m\u001b[43mx\u001b[49m\u001b[43m[\u001b[49m\u001b[38;5;241;43m1\u001b[39;49m\u001b[43m]\u001b[49m\u001b[43m)\u001b[49m\n",
      "File \u001b[0;32m/usr/lib/spark/python/pyspark/rdd.py:1506\u001b[0m, in \u001b[0;36mRDD.takeOrdered\u001b[0;34m(self, num, key)\u001b[0m\n\u001b[1;32m   1503\u001b[0m \u001b[38;5;28;01mdef\u001b[39;00m \u001b[38;5;21mmerge\u001b[39m(a, b):\n\u001b[1;32m   1504\u001b[0m     \u001b[38;5;28;01mreturn\u001b[39;00m heapq\u001b[38;5;241m.\u001b[39mnsmallest(num, a \u001b[38;5;241m+\u001b[39m b, key)\n\u001b[0;32m-> 1506\u001b[0m \u001b[38;5;28;01mreturn\u001b[39;00m \u001b[38;5;28;43mself\u001b[39;49m\u001b[38;5;241;43m.\u001b[39;49m\u001b[43mmapPartitions\u001b[49m\u001b[43m(\u001b[49m\u001b[38;5;28;43;01mlambda\u001b[39;49;00m\u001b[43m \u001b[49m\u001b[43mit\u001b[49m\u001b[43m:\u001b[49m\u001b[43m \u001b[49m\u001b[43m[\u001b[49m\u001b[43mheapq\u001b[49m\u001b[38;5;241;43m.\u001b[39;49m\u001b[43mnsmallest\u001b[49m\u001b[43m(\u001b[49m\u001b[43mnum\u001b[49m\u001b[43m,\u001b[49m\u001b[43m \u001b[49m\u001b[43mit\u001b[49m\u001b[43m,\u001b[49m\u001b[43m \u001b[49m\u001b[43mkey\u001b[49m\u001b[43m)\u001b[49m\u001b[43m]\u001b[49m\u001b[43m)\u001b[49m\u001b[38;5;241;43m.\u001b[39;49m\u001b[43mreduce\u001b[49m\u001b[43m(\u001b[49m\u001b[43mmerge\u001b[49m\u001b[43m)\u001b[49m\n",
      "File \u001b[0;32m/usr/lib/spark/python/pyspark/rdd.py:997\u001b[0m, in \u001b[0;36mRDD.reduce\u001b[0;34m(self, f)\u001b[0m\n\u001b[1;32m    994\u001b[0m         \u001b[38;5;28;01mreturn\u001b[39;00m\n\u001b[1;32m    995\u001b[0m     \u001b[38;5;28;01myield\u001b[39;00m reduce(f, iterator, initial)\n\u001b[0;32m--> 997\u001b[0m vals \u001b[38;5;241m=\u001b[39m \u001b[38;5;28;43mself\u001b[39;49m\u001b[38;5;241;43m.\u001b[39;49m\u001b[43mmapPartitions\u001b[49m\u001b[43m(\u001b[49m\u001b[43mfunc\u001b[49m\u001b[43m)\u001b[49m\u001b[38;5;241;43m.\u001b[39;49m\u001b[43mcollect\u001b[49m\u001b[43m(\u001b[49m\u001b[43m)\u001b[49m\n\u001b[1;32m    998\u001b[0m \u001b[38;5;28;01mif\u001b[39;00m vals:\n\u001b[1;32m    999\u001b[0m     \u001b[38;5;28;01mreturn\u001b[39;00m reduce(f, vals)\n",
      "File \u001b[0;32m/usr/lib/spark/python/pyspark/rdd.py:949\u001b[0m, in \u001b[0;36mRDD.collect\u001b[0;34m(self)\u001b[0m\n\u001b[1;32m    940\u001b[0m \u001b[38;5;124;03m\"\"\"\u001b[39;00m\n\u001b[1;32m    941\u001b[0m \u001b[38;5;124;03mReturn a list that contains all of the elements in this RDD.\u001b[39;00m\n\u001b[1;32m    942\u001b[0m \n\u001b[0;32m   (...)\u001b[0m\n\u001b[1;32m    946\u001b[0m \u001b[38;5;124;03mto be small, as all the data is loaded into the driver's memory.\u001b[39;00m\n\u001b[1;32m    947\u001b[0m \u001b[38;5;124;03m\"\"\"\u001b[39;00m\n\u001b[1;32m    948\u001b[0m \u001b[38;5;28;01mwith\u001b[39;00m SCCallSiteSync(\u001b[38;5;28mself\u001b[39m\u001b[38;5;241m.\u001b[39mcontext) \u001b[38;5;28;01mas\u001b[39;00m css:\n\u001b[0;32m--> 949\u001b[0m     sock_info \u001b[38;5;241m=\u001b[39m \u001b[38;5;28;43mself\u001b[39;49m\u001b[38;5;241;43m.\u001b[39;49m\u001b[43mctx\u001b[49m\u001b[38;5;241;43m.\u001b[39;49m\u001b[43m_jvm\u001b[49m\u001b[38;5;241;43m.\u001b[39;49m\u001b[43mPythonRDD\u001b[49m\u001b[38;5;241;43m.\u001b[39;49m\u001b[43mcollectAndServe\u001b[49m\u001b[43m(\u001b[49m\u001b[38;5;28;43mself\u001b[39;49m\u001b[38;5;241;43m.\u001b[39;49m\u001b[43m_jrdd\u001b[49m\u001b[38;5;241;43m.\u001b[39;49m\u001b[43mrdd\u001b[49m\u001b[43m(\u001b[49m\u001b[43m)\u001b[49m\u001b[43m)\u001b[49m\n\u001b[1;32m    950\u001b[0m \u001b[38;5;28;01mreturn\u001b[39;00m \u001b[38;5;28mlist\u001b[39m(_load_from_socket(sock_info, \u001b[38;5;28mself\u001b[39m\u001b[38;5;241m.\u001b[39m_jrdd_deserializer))\n",
      "File \u001b[0;32m/opt/conda/miniconda3/lib/python3.8/site-packages/py4j/java_gateway.py:1303\u001b[0m, in \u001b[0;36mJavaMember.__call__\u001b[0;34m(self, *args)\u001b[0m\n\u001b[1;32m   1296\u001b[0m args_command, temp_args \u001b[38;5;241m=\u001b[39m \u001b[38;5;28mself\u001b[39m\u001b[38;5;241m.\u001b[39m_build_args(\u001b[38;5;241m*\u001b[39margs)\n\u001b[1;32m   1298\u001b[0m command \u001b[38;5;241m=\u001b[39m proto\u001b[38;5;241m.\u001b[39mCALL_COMMAND_NAME \u001b[38;5;241m+\u001b[39m\\\n\u001b[1;32m   1299\u001b[0m     \u001b[38;5;28mself\u001b[39m\u001b[38;5;241m.\u001b[39mcommand_header \u001b[38;5;241m+\u001b[39m\\\n\u001b[1;32m   1300\u001b[0m     args_command \u001b[38;5;241m+\u001b[39m\\\n\u001b[1;32m   1301\u001b[0m     proto\u001b[38;5;241m.\u001b[39mEND_COMMAND_PART\n\u001b[0;32m-> 1303\u001b[0m answer \u001b[38;5;241m=\u001b[39m \u001b[38;5;28;43mself\u001b[39;49m\u001b[38;5;241;43m.\u001b[39;49m\u001b[43mgateway_client\u001b[49m\u001b[38;5;241;43m.\u001b[39;49m\u001b[43msend_command\u001b[49m\u001b[43m(\u001b[49m\u001b[43mcommand\u001b[49m\u001b[43m)\u001b[49m\n\u001b[1;32m   1304\u001b[0m return_value \u001b[38;5;241m=\u001b[39m get_return_value(\n\u001b[1;32m   1305\u001b[0m     answer, \u001b[38;5;28mself\u001b[39m\u001b[38;5;241m.\u001b[39mgateway_client, \u001b[38;5;28mself\u001b[39m\u001b[38;5;241m.\u001b[39mtarget_id, \u001b[38;5;28mself\u001b[39m\u001b[38;5;241m.\u001b[39mname)\n\u001b[1;32m   1307\u001b[0m \u001b[38;5;28;01mfor\u001b[39;00m temp_arg \u001b[38;5;129;01min\u001b[39;00m temp_args:\n",
      "File \u001b[0;32m/opt/conda/miniconda3/lib/python3.8/site-packages/py4j/java_gateway.py:1033\u001b[0m, in \u001b[0;36mGatewayClient.send_command\u001b[0;34m(self, command, retry, binary)\u001b[0m\n\u001b[1;32m   1031\u001b[0m connection \u001b[38;5;241m=\u001b[39m \u001b[38;5;28mself\u001b[39m\u001b[38;5;241m.\u001b[39m_get_connection()\n\u001b[1;32m   1032\u001b[0m \u001b[38;5;28;01mtry\u001b[39;00m:\n\u001b[0;32m-> 1033\u001b[0m     response \u001b[38;5;241m=\u001b[39m \u001b[43mconnection\u001b[49m\u001b[38;5;241;43m.\u001b[39;49m\u001b[43msend_command\u001b[49m\u001b[43m(\u001b[49m\u001b[43mcommand\u001b[49m\u001b[43m)\u001b[49m\n\u001b[1;32m   1034\u001b[0m     \u001b[38;5;28;01mif\u001b[39;00m binary:\n\u001b[1;32m   1035\u001b[0m         \u001b[38;5;28;01mreturn\u001b[39;00m response, \u001b[38;5;28mself\u001b[39m\u001b[38;5;241m.\u001b[39m_create_connection_guard(connection)\n",
      "File \u001b[0;32m/opt/conda/miniconda3/lib/python3.8/site-packages/py4j/java_gateway.py:1200\u001b[0m, in \u001b[0;36mGatewayConnection.send_command\u001b[0;34m(self, command)\u001b[0m\n\u001b[1;32m   1196\u001b[0m     \u001b[38;5;28;01mraise\u001b[39;00m Py4JNetworkError(\n\u001b[1;32m   1197\u001b[0m         \u001b[38;5;124m\"\u001b[39m\u001b[38;5;124mError while sending\u001b[39m\u001b[38;5;124m\"\u001b[39m, e, proto\u001b[38;5;241m.\u001b[39mERROR_ON_SEND)\n\u001b[1;32m   1199\u001b[0m \u001b[38;5;28;01mtry\u001b[39;00m:\n\u001b[0;32m-> 1200\u001b[0m     answer \u001b[38;5;241m=\u001b[39m smart_decode(\u001b[38;5;28;43mself\u001b[39;49m\u001b[38;5;241;43m.\u001b[39;49m\u001b[43mstream\u001b[49m\u001b[38;5;241;43m.\u001b[39;49m\u001b[43mreadline\u001b[49m\u001b[43m(\u001b[49m\u001b[43m)\u001b[49m[:\u001b[38;5;241m-\u001b[39m\u001b[38;5;241m1\u001b[39m])\n\u001b[1;32m   1201\u001b[0m     logger\u001b[38;5;241m.\u001b[39mdebug(\u001b[38;5;124m\"\u001b[39m\u001b[38;5;124mAnswer received: \u001b[39m\u001b[38;5;132;01m{0}\u001b[39;00m\u001b[38;5;124m\"\u001b[39m\u001b[38;5;241m.\u001b[39mformat(answer))\n\u001b[1;32m   1202\u001b[0m     \u001b[38;5;28;01mif\u001b[39;00m answer\u001b[38;5;241m.\u001b[39mstartswith(proto\u001b[38;5;241m.\u001b[39mRETURN_MESSAGE):\n",
      "File \u001b[0;32m/opt/conda/miniconda3/lib/python3.8/socket.py:669\u001b[0m, in \u001b[0;36mSocketIO.readinto\u001b[0;34m(self, b)\u001b[0m\n\u001b[1;32m    667\u001b[0m \u001b[38;5;28;01mwhile\u001b[39;00m \u001b[38;5;28;01mTrue\u001b[39;00m:\n\u001b[1;32m    668\u001b[0m     \u001b[38;5;28;01mtry\u001b[39;00m:\n\u001b[0;32m--> 669\u001b[0m         \u001b[38;5;28;01mreturn\u001b[39;00m \u001b[38;5;28;43mself\u001b[39;49m\u001b[38;5;241;43m.\u001b[39;49m\u001b[43m_sock\u001b[49m\u001b[38;5;241;43m.\u001b[39;49m\u001b[43mrecv_into\u001b[49m\u001b[43m(\u001b[49m\u001b[43mb\u001b[49m\u001b[43m)\u001b[49m\n\u001b[1;32m    670\u001b[0m     \u001b[38;5;28;01mexcept\u001b[39;00m timeout:\n\u001b[1;32m    671\u001b[0m         \u001b[38;5;28mself\u001b[39m\u001b[38;5;241m.\u001b[39m_timeout_occurred \u001b[38;5;241m=\u001b[39m \u001b[38;5;28;01mTrue\u001b[39;00m\n",
      "\u001b[0;31mKeyboardInterrupt\u001b[0m: "
     ]
    }
   ],
   "source": [
    "# part d - run PageRank on the full graph (RUN THIS CELL AS IS)\n",
    "# NOTE: wikiGraphRDD should have been computed & cached above!\n",
    "nIter = 10\n",
    "start = time.time()\n",
    "full_results = runPageRank(wikiGraphRDD, alpha = 0.15, maxIter = nIter, verbose = True)\n",
    "print(f'...trained {nIter} iterations in {time.time() - start} seconds.')\n",
    "print(f'Top 20 ranked nodes:')\n",
    "full_results.takeOrdered(20, key=lambda x: - x[1])"
   ]
  },
  {
   "cell_type": "code",
   "execution_count": null,
   "metadata": {
    "application/vnd.databricks.v1+cell": {
     "inputWidgets": {},
     "nuid": "3fa84e8e-61fb-4799-9611-f4d7da67c9c3",
     "showTitle": false,
     "title": ""
    }
   },
   "outputs": [],
   "source": [
    "top_20 = full_results.takeOrdered(20, key=lambda x: - x[1])"
   ]
  },
  {
   "cell_type": "code",
   "execution_count": 144,
   "metadata": {
    "application/vnd.databricks.v1+cell": {
     "inputWidgets": {},
     "nuid": "354f3a73-d425-4ee6-9e60-31e78af24e1e",
     "showTitle": false,
     "title": ""
    }
   },
   "outputs": [
    {
     "name": "stderr",
     "output_type": "stream",
     "text": [
      "                                                                                \r"
     ]
    },
    {
     "data": {
      "text/plain": [
       "['! $var = &quot;&quot;\\t1\\t1\\t0']"
      ]
     },
     "execution_count": 144,
     "metadata": {},
     "output_type": "execute_result"
    }
   ],
   "source": [
    "# view record from indexRDD (RUN THIS CELL AS IS)\n",
    "# title\\t indx\\t inDeg\\t outDeg\n",
    "indexRDD.take(1)"
   ]
  },
  {
   "cell_type": "code",
   "execution_count": 145,
   "metadata": {
    "application/vnd.databricks.v1+cell": {
     "inputWidgets": {},
     "nuid": "b263bfa5-7489-4efe-bc48-c6d094261fdc",
     "showTitle": false,
     "title": ""
    }
   },
   "outputs": [],
   "source": [
    "# map indexRDD to new format (index, name) (RUN THIS CELL AS IS)\n",
    "namesKV_RDD = indexRDD.map(lambda x: (int(x.split('\\t')[1]), x.split('\\t')[0]))"
   ]
  },
  {
   "cell_type": "code",
   "execution_count": 146,
   "metadata": {
    "application/vnd.databricks.v1+cell": {
     "inputWidgets": {},
     "nuid": "2599f841-1631-4052-afe6-adb736d17a66",
     "showTitle": false,
     "title": ""
    }
   },
   "outputs": [
    {
     "data": {
      "text/plain": [
       "[(1, '! $var = &quot;&quot;'), (2, '! (CONFIG.SYS directive)')]"
      ]
     },
     "execution_count": 146,
     "metadata": {},
     "output_type": "execute_result"
    }
   ],
   "source": [
    "# see new format (RUN THIS CELL AS IS)\n",
    "namesKV_RDD.take(2)"
   ]
  },
  {
   "cell_type": "code",
   "execution_count": 141,
   "metadata": {
    "application/vnd.databricks.v1+cell": {
     "inputWidgets": {},
     "nuid": "6e2f1bba-46eb-4d29-bdaf-55ca4ec1fa4d",
     "showTitle": false,
     "title": ""
    }
   },
   "outputs": [],
   "source": [
    "# We should have saved these above, but it takes too long to run in the cloud ($$$), so for expedience:\n",
    "top_20 = [(13455888, 0.0015447247129832947),\n",
    " (4695850, 0.0006710240718906518),\n",
    " (5051368, 0.0005983856809747697),\n",
    " (1184351, 0.0005982073536467391),\n",
    " (2437837, 0.0004624928928940748),\n",
    " (6076759, 0.00045509400641448284),\n",
    " (4196067, 0.0004423778888372447),\n",
    " (13425865, 0.00044155351714348035),\n",
    " (6172466, 0.0004224002001845032),\n",
    " (1384888, 0.0004012895604073632),\n",
    " (6113490, 0.00039578924771805474),\n",
    " (14112583, 0.0003943847283754762),\n",
    " (7902219, 0.000370098784735699),\n",
    " (10390714, 0.0003650264964328283),\n",
    " (12836211, 0.0003619948863114985),\n",
    " (6237129, 0.0003519555847625285),\n",
    " (6416278, 0.00034866235645266493),\n",
    " (13432150, 0.00033936510637418247),\n",
    " (1516699, 0.00033297500286244265),\n",
    " (7990491, 0.00030760906265869104)]"
   ]
  },
  {
   "cell_type": "code",
   "execution_count": 147,
   "metadata": {
    "application/vnd.databricks.v1+cell": {
     "inputWidgets": {},
     "nuid": "88c7ba4d-0ecc-43f3-9d37-61efeac666ad",
     "showTitle": false,
     "title": ""
    }
   },
   "outputs": [],
   "source": [
    "# (RUN THIS CELL AS IS)\n",
    "top_20_RDD = sc.parallelize(top_20)"
   ]
  },
  {
   "cell_type": "code",
   "execution_count": 148,
   "metadata": {
    "application/vnd.databricks.v1+cell": {
     "inputWidgets": {},
     "nuid": "16e9d1e2-1371-4c58-b8a4-5e96e700d550",
     "showTitle": false,
     "title": ""
    }
   },
   "outputs": [
    {
     "data": {
      "text/plain": [
       "[(13455888, 0.0015447247129832947)]"
      ]
     },
     "execution_count": 148,
     "metadata": {},
     "output_type": "execute_result"
    },
    {
     "name": "stderr",
     "output_type": "stream",
     "text": [
      "Exception in thread \"serve RDD 2800 with partitions 0\" java.net.SocketTimeoutException: Accept timed out\n",
      "\tat java.net.PlainSocketImpl.socketAccept(Native Method)\n",
      "\tat java.net.AbstractPlainSocketImpl.accept(AbstractPlainSocketImpl.java:409)\n",
      "\tat java.net.ServerSocket.implAccept(ServerSocket.java:560)\n",
      "\tat java.net.ServerSocket.accept(ServerSocket.java:528)\n",
      "\tat org.apache.spark.security.SocketAuthServer$$anon$1.run(SocketAuthServer.scala:64)\n"
     ]
    }
   ],
   "source": [
    "# (RUN THIS CELL AS IS)\n",
    "top_20_RDD.take(1)"
   ]
  },
  {
   "cell_type": "markdown",
   "metadata": {
    "application/vnd.databricks.v1+cell": {
     "inputWidgets": {},
     "nuid": "60a28998-2113-493e-bfe5-4e03f7ffc00d",
     "showTitle": false,
     "title": ""
    }
   },
   "source": [
    "# Question 9 - Pretty Print\n",
    "\n",
    "### Q9 Tasks\n",
    "The indexRDD we created earlier from the indices.txt file contains the titles of the pages and their IDs.\n",
    "\n",
    "* __a) code:__ Join this dataset with your top 20 results.\n",
    "* __b) code:__ Print the results"
   ]
  },
  {
   "cell_type": "markdown",
   "metadata": {
    "application/vnd.databricks.v1+cell": {
     "inputWidgets": {},
     "nuid": "214ae778-74f0-4a69-80f8-2f1c9f2ea457",
     "showTitle": false,
     "title": ""
    }
   },
   "source": [
    "Join with indexRDD and print pretty"
   ]
  },
  {
   "cell_type": "code",
   "execution_count": 151,
   "metadata": {
    "application/vnd.databricks.v1+cell": {
     "inputWidgets": {},
     "nuid": "dbd79f40-9e35-4681-b8b8-9f36131dfa24",
     "showTitle": false,
     "title": ""
    }
   },
   "outputs": [
    {
     "name": "stderr",
     "output_type": "stream",
     "text": [
      "                                                                                \r"
     ]
    }
   ],
   "source": [
    "# part a\n",
    "joinedWithNames = None\n",
    "############## YOUR CODE HERE ###############\n",
    "joinedWithNames = namesKV_RDD.join(top_20_RDD).collect()\n",
    "############## END YOUR CODE ###############"
   ]
  },
  {
   "cell_type": "code",
   "execution_count": 152,
   "metadata": {
    "application/vnd.databricks.v1+cell": {
     "inputWidgets": {},
     "nuid": "2c12903a-ae73-439d-9436-b4a732570d48",
     "showTitle": false,
     "title": ""
    }
   },
   "outputs": [
    {
     "name": "stdout",
     "output_type": "stream",
     "text": [
      "PageRank  \t| Page id   \t| Title\n",
      "====================================================================================================\n",
      "0.000442\t|    4196067\t| England\n",
      "0.000394\t|   14112583\t| World War II\n",
      "0.000598\t|    5051368\t| Germany\n",
      "0.000352\t|    6237129\t| Italy\n",
      "0.000442\t|   13425865\t| United Kingdom\n",
      "0.000671\t|    4695850\t| France\n",
      "0.000370\t|    7902219\t| List of sovereign states\n",
      "0.000462\t|    2437837\t| Canada\n",
      "0.001545\t|   13455888\t| United States\n",
      "0.000396\t|    6113490\t| Insect\n",
      "0.000422\t|    6172466\t| Iran\n",
      "0.000362\t|   12836211\t| The New York Times\n",
      "0.000349\t|    6416278\t| Japan\n",
      "0.000339\t|   13432150\t| United States Census Bureau\n",
      "0.000455\t|    6076759\t| India\n",
      "0.000401\t|    1384888\t| Arthropod\n",
      "0.000365\t|   10390714\t| Poland\n",
      "0.000333\t|    1516699\t| Australia\n",
      "0.000308\t|    7990491\t| London\n",
      "0.000598\t|    1184351\t| Animal\n"
     ]
    },
    {
     "name": "stderr",
     "output_type": "stream",
     "text": [
      "[Stage 2094:>                                                     (0 + 16) / 16]\r"
     ]
    }
   ],
   "source": [
    "# part b\n",
    "# Feel free to modify this cell to suit your implementation, but please keep the formatting and sort order.\n",
    "print(\"{:10s}\\t| {:10s}\\t| {}\".format(\"PageRank\",\"Page id\",\"Title\"))\n",
    "print(\"=\"*100)\n",
    "for r in joinedWithNames:\n",
    "    print (\"{:6f}\\t| {:10d}\\t| {}\".format(r[1][1],r[0],r[1][0]))"
   ]
  },
  {
   "cell_type": "markdown",
   "metadata": {
    "application/vnd.databricks.v1+cell": {
     "inputWidgets": {},
     "nuid": "c12a3c17-a607-4df0-bb19-5e567fea710d",
     "showTitle": false,
     "title": ""
    }
   },
   "source": [
    "# Question 10 - GraphFrames\n",
    "GraphFrames is a graph library which is built on top of the Spark DataFrames API.\n",
    "\n",
    "### Q10 Tasks\n",
    "* __a) code:__ Using the same dataset, run the graphframes implementation of pagerank.\n",
    "* __b) code:__ Join the top 20 results with indices.txt and display in the same format as above.\n",
    "* __c) short answer:__ Compare your results with the results from graphframes.\n",
    "\n",
    "__NOTE:__ Feel free to create as many code cells as you need. Code should be clear and concise - do not include your scratch work. Comment your code if it's not self annotating."
   ]
  },
  {
   "cell_type": "code",
   "execution_count": 153,
   "metadata": {},
   "outputs": [
    {
     "name": "stdout",
     "output_type": "stream",
     "text": [
      "Collecting graphframes\n",
      "  Downloading graphframes-0.6-py2.py3-none-any.whl (18 kB)\n",
      "Collecting nose\n",
      "  Downloading nose-1.3.7-py3-none-any.whl (154 kB)\n",
      "\u001b[2K     \u001b[90m━━━━━━━━━━━━━━━━━━━━━━━━━━━━━━━━━━━━━━━\u001b[0m \u001b[32m154.7/154.7 kB\u001b[0m \u001b[31m1.2 MB/s\u001b[0m eta \u001b[36m0:00:00\u001b[0m00:01\u001b[0m\n",
      "\u001b[?25hRequirement already satisfied: numpy in /opt/conda/miniconda3/lib/python3.8/site-packages (from graphframes) (1.19.5)\n",
      "Installing collected packages: nose, graphframes\n",
      "Successfully installed graphframes-0.6 nose-1.3.7\n",
      "\u001b[33mWARNING: Running pip as the 'root' user can result in broken permissions and conflicting behaviour with the system package manager. It is recommended to use a virtual environment instead: https://pip.pypa.io/warnings/venv\u001b[0m\u001b[33m\n",
      "\u001b[0m"
     ]
    }
   ],
   "source": [
    "!pip install graphframes"
   ]
  },
  {
   "cell_type": "code",
   "execution_count": 164,
   "metadata": {
    "application/vnd.databricks.v1+cell": {
     "inputWidgets": {},
     "nuid": "dd1246ac-dbfe-419a-8a70-be63784964b2",
     "showTitle": false,
     "title": ""
    }
   },
   "outputs": [],
   "source": [
    "# imports\n",
    "import re\n",
    "import ast\n",
    "import time\n",
    "import numpy as np\n",
    "import pandas as pd\n",
    "import seaborn as sns\n",
    "import networkx as nx\n",
    "import matplotlib.pyplot as plt\n",
    "from graphframes import *\n",
    "from pyspark.sql import functions as F"
   ]
  },
  {
   "cell_type": "code",
   "execution_count": 165,
   "metadata": {
    "application/vnd.databricks.v1+cell": {
     "inputWidgets": {},
     "nuid": "20fd8527-d7c3-4b0c-bc57-54fbb5ce9515",
     "showTitle": false,
     "title": ""
    }
   },
   "outputs": [],
   "source": [
    "# load the data into Spark RDDs for convenience of use later (RUN THIS CELL AS IS)\n",
    "testRDD = sc.textFile(HW5_FOLDER +'test_graph.txt')\n",
    "indexRDD = sc.textFile(HW5_FOLDER + '/indices/')\n",
    "wikiRDD = sc.textFile(HW5_FOLDER + '/all-pages-indexed-out/')"
   ]
  },
  {
   "cell_type": "code",
   "execution_count": 166,
   "metadata": {
    "application/vnd.databricks.v1+cell": {
     "inputWidgets": {},
     "nuid": "cdcf35dd-6685-4c46-b952-0741a1445483",
     "showTitle": false,
     "title": ""
    }
   },
   "outputs": [
    {
     "name": "stderr",
     "output_type": "stream",
     "text": [
      "                                                                                \r"
     ]
    }
   ],
   "source": [
    "DF = wikiRDD.map(lambda x: (x.split('\\t')[0], ast.literal_eval(x.split('\\t')[1]))).toDF()"
   ]
  },
  {
   "cell_type": "code",
   "execution_count": 157,
   "metadata": {
    "application/vnd.databricks.v1+cell": {
     "inputWidgets": {},
     "nuid": "36901341-b8d5-4aef-a317-3f141623e258",
     "showTitle": false,
     "title": ""
    }
   },
   "outputs": [
    {
     "name": "stdout",
     "output_type": "stream",
     "text": [
      "CPU times: user 9.39 ms, sys: 0 ns, total: 9.39 ms\n",
      "Wall time: 1.96 s\n"
     ]
    },
    {
     "name": "stderr",
     "output_type": "stream",
     "text": [
      "                                                                                \r"
     ]
    },
    {
     "data": {
      "text/plain": [
       "[Row(_1='73', _2={'14417532': 1})]"
      ]
     },
     "execution_count": 157,
     "metadata": {},
     "output_type": "execute_result"
    }
   ],
   "source": [
    "%%time\n",
    "DF.take(1)"
   ]
  },
  {
   "cell_type": "code",
   "execution_count": 167,
   "metadata": {
    "application/vnd.databricks.v1+cell": {
     "inputWidgets": {},
     "nuid": "2a7cc69f-9255-4e66-b38e-4f220c19978b",
     "showTitle": false,
     "title": ""
    }
   },
   "outputs": [],
   "source": [
    "v = DF.select('_1').withColumnRenamed('_1','id').distinct().cache()"
   ]
  },
  {
   "cell_type": "code",
   "execution_count": null,
   "metadata": {
    "application/vnd.databricks.v1+cell": {
     "inputWidgets": {},
     "nuid": "3e0acb8d-549e-498e-8ee8-dde9f1bf9567",
     "showTitle": false,
     "title": ""
    }
   },
   "outputs": [],
   "source": [
    "%%time\n",
    "v.show(1)"
   ]
  },
  {
   "cell_type": "code",
   "execution_count": 168,
   "metadata": {
    "application/vnd.databricks.v1+cell": {
     "inputWidgets": {},
     "nuid": "e6bb3e13-87f0-40eb-8f7d-3115a1260281",
     "showTitle": false,
     "title": ""
    }
   },
   "outputs": [],
   "source": [
    "import ast\n",
    "def getEdges(row):\n",
    "    node_id, nodes = row\n",
    "    for node in nodes: \n",
    "        yield int(node_id), int(node)"
   ]
  },
  {
   "cell_type": "code",
   "execution_count": 169,
   "metadata": {
    "application/vnd.databricks.v1+cell": {
     "inputWidgets": {},
     "nuid": "30374f21-77b3-4eb7-bde9-bde759ba439a",
     "showTitle": false,
     "title": ""
    }
   },
   "outputs": [
    {
     "name": "stderr",
     "output_type": "stream",
     "text": [
      "                                                                                \r"
     ]
    }
   ],
   "source": [
    "e = spark.createDataFrame(DF.rdd.flatMap(getEdges), [\"src\", \"dst\"]).cache()"
   ]
  },
  {
   "cell_type": "code",
   "execution_count": 161,
   "metadata": {
    "application/vnd.databricks.v1+cell": {
     "inputWidgets": {},
     "nuid": "075775ec-3195-4693-8a43-ed34de1e4dd2",
     "showTitle": false,
     "title": ""
    }
   },
   "outputs": [
    {
     "name": "stderr",
     "output_type": "stream",
     "text": [
      "[Stage 2095:>             (0 + 15) / 16][Stage 2111:>               (0 + 1) / 1]\r"
     ]
    },
    {
     "name": "stdout",
     "output_type": "stream",
     "text": [
      "+---+--------+\n",
      "|src|     dst|\n",
      "+---+--------+\n",
      "| 73|14417532|\n",
      "+---+--------+\n",
      "only showing top 1 row\n",
      "\n",
      "CPU times: user 38.7 ms, sys: 4.52 ms, total: 43.3 ms\n",
      "Wall time: 1min 12s\n"
     ]
    },
    {
     "name": "stderr",
     "output_type": "stream",
     "text": [
      "                                                                                \r"
     ]
    }
   ],
   "source": [
    "%%time\n",
    "e.show(1)"
   ]
  },
  {
   "cell_type": "code",
   "execution_count": 170,
   "metadata": {
    "application/vnd.databricks.v1+cell": {
     "inputWidgets": {},
     "nuid": "6c394bd5-f474-4246-8ca2-bcc963c48909",
     "showTitle": false,
     "title": ""
    }
   },
   "outputs": [],
   "source": [
    "# Create a GraphFrame\n",
    "# from graphframes import *\n",
    "g = GraphFrame(v, e)\n",
    "\n",
    "# Query: Get in-degree of each vertex.\n",
    "# g.inDegrees.show()"
   ]
  },
  {
   "cell_type": "code",
   "execution_count": 172,
   "metadata": {
    "application/vnd.databricks.v1+cell": {
     "inputWidgets": {},
     "nuid": "f208aeea-dff7-476a-9f18-5b63b44f5351",
     "showTitle": false,
     "title": ""
    }
   },
   "outputs": [
    {
     "name": "stderr",
     "output_type": "stream",
     "text": [
      "22/07/23 22:07:29 WARN org.apache.spark.rpc.netty.NettyRpcEnv: Ignored failure: java.util.concurrent.TimeoutException: Cannot receive any reply from w261-m.us-central1-a.c.w261-student-349323.internal:33645 in 10000 milliseconds\n",
      "22/07/23 22:07:48 WARN org.apache.spark.executor.Executor: Issue communicating with driver in heartbeater\n",
      "org.apache.spark.rpc.RpcTimeoutException: Futures timed out after [10000 milliseconds]. This timeout is controlled by spark.executor.heartbeatInterval\n",
      "\tat org.apache.spark.rpc.RpcTimeout.org$apache$spark$rpc$RpcTimeout$$createRpcTimeoutException(RpcTimeout.scala:47)\n",
      "\tat org.apache.spark.rpc.RpcTimeout$$anonfun$addMessageIfTimeout$1.applyOrElse(RpcTimeout.scala:62)\n",
      "\tat org.apache.spark.rpc.RpcTimeout$$anonfun$addMessageIfTimeout$1.applyOrElse(RpcTimeout.scala:58)\n",
      "\tat scala.runtime.AbstractPartialFunction.apply(AbstractPartialFunction.scala:38)\n",
      "\tat org.apache.spark.rpc.RpcTimeout.awaitResult(RpcTimeout.scala:76)\n",
      "\tat org.apache.spark.rpc.RpcEndpointRef.askSync(RpcEndpointRef.scala:103)\n",
      "\tat org.apache.spark.executor.Executor.reportHeartBeat(Executor.scala:997)\n",
      "\tat org.apache.spark.executor.Executor.$anonfun$heartbeater$1(Executor.scala:212)\n",
      "\tat scala.runtime.java8.JFunction0$mcV$sp.apply(JFunction0$mcV$sp.java:23)\n",
      "\tat org.apache.spark.util.Utils$.logUncaughtExceptions(Utils.scala:1996)\n",
      "\tat org.apache.spark.Heartbeater$$anon$1.run(Heartbeater.scala:46)\n",
      "\tat java.util.concurrent.Executors$RunnableAdapter.call(Executors.java:511)\n",
      "\tat java.util.concurrent.FutureTask.runAndReset(FutureTask.java:308)\n",
      "\tat java.util.concurrent.ScheduledThreadPoolExecutor$ScheduledFutureTask.access$301(ScheduledThreadPoolExecutor.java:180)\n",
      "\tat java.util.concurrent.ScheduledThreadPoolExecutor$ScheduledFutureTask.run(ScheduledThreadPoolExecutor.java:294)\n",
      "\tat java.util.concurrent.ThreadPoolExecutor.runWorker(ThreadPoolExecutor.java:1149)\n",
      "\tat java.util.concurrent.ThreadPoolExecutor$Worker.run(ThreadPoolExecutor.java:624)\n",
      "\tat java.lang.Thread.run(Thread.java:750)\n",
      "Caused by: java.util.concurrent.TimeoutException: Futures timed out after [10000 milliseconds]\n",
      "\tat scala.concurrent.impl.Promise$DefaultPromise.ready(Promise.scala:259)\n",
      "\tat scala.concurrent.impl.Promise$DefaultPromise.result(Promise.scala:263)\n",
      "\tat org.apache.spark.util.ThreadUtils$.awaitResult(ThreadUtils.scala:293)\n",
      "\tat org.apache.spark.rpc.RpcTimeout.awaitResult(RpcTimeout.scala:75)\n",
      "\t... 13 more\n",
      "22/07/23 22:08:28 WARN org.apache.spark.storage.BlockManager: Block rdd_3001_10 could not be removed as it was not found on disk or in memory\n",
      "22/07/23 22:08:33 WARN org.apache.spark.storage.BlockManager: Block rdd_3005_10 could not be removed as it was not found on disk or in memory\n",
      "22/07/23 22:08:33 ERROR org.apache.spark.executor.Executor: Exception in task 10.0 in stage 2135.0 (TID 2384)\n",
      "java.lang.OutOfMemoryError: GC overhead limit exceeded\n",
      "\tat java.util.LinkedList.linkLast(LinkedList.java:142)\n",
      "\tat java.util.LinkedList.add(LinkedList.java:338)\n",
      "\tat org.apache.spark.sql.execution.BufferedRowIterator.append(BufferedRowIterator.java:73)\n",
      "\tat org.apache.spark.sql.catalyst.expressions.GeneratedClass$GeneratedIteratorForCodegenStage6.processNext(Unknown Source)\n",
      "\tat org.apache.spark.sql.execution.BufferedRowIterator.hasNext(BufferedRowIterator.java:43)\n",
      "\tat org.apache.spark.sql.execution.WholeStageCodegenExec$$anon$1.hasNext(WholeStageCodegenExec.scala:755)\n",
      "\tat scala.collection.Iterator$$anon$10.hasNext(Iterator.scala:460)\n",
      "\tat scala.collection.Iterator$$anon$10.hasNext(Iterator.scala:460)\n",
      "\tat scala.collection.Iterator$$anon$10.hasNext(Iterator.scala:460)\n",
      "\tat scala.collection.Iterator.foreach(Iterator.scala:943)\n",
      "\tat scala.collection.Iterator.foreach$(Iterator.scala:943)\n",
      "\tat scala.collection.AbstractIterator.foreach(Iterator.scala:1431)\n",
      "\tat org.apache.spark.graphx.EdgeRDD$.$anonfun$fromEdges$1(EdgeRDD.scala:107)\n",
      "\tat org.apache.spark.graphx.EdgeRDD$.$anonfun$fromEdges$1$adapted(EdgeRDD.scala:105)\n",
      "\tat org.apache.spark.graphx.EdgeRDD$$$Lambda$4222/1444697126.apply(Unknown Source)\n",
      "\tat org.apache.spark.rdd.RDD.$anonfun$mapPartitionsWithIndex$2(RDD.scala:915)\n",
      "\tat org.apache.spark.rdd.RDD.$anonfun$mapPartitionsWithIndex$2$adapted(RDD.scala:915)\n",
      "\tat org.apache.spark.rdd.RDD$$Lambda$3045/864922766.apply(Unknown Source)\n",
      "\tat org.apache.spark.rdd.MapPartitionsRDD.compute(MapPartitionsRDD.scala:52)\n",
      "\tat org.apache.spark.rdd.RDD.computeOrReadCheckpoint(RDD.scala:373)\n",
      "\tat org.apache.spark.rdd.RDD.iterator(RDD.scala:337)\n",
      "\tat org.apache.spark.rdd.MapPartitionsRDD.compute(MapPartitionsRDD.scala:52)\n",
      "\tat org.apache.spark.rdd.RDD.computeOrReadCheckpoint(RDD.scala:373)\n",
      "\tat org.apache.spark.rdd.RDD.$anonfun$getOrCompute$1(RDD.scala:386)\n",
      "\tat org.apache.spark.rdd.RDD$$Lambda$2279/873057403.apply(Unknown Source)\n",
      "\tat org.apache.spark.storage.BlockManager.$anonfun$doPutIterator$1(BlockManager.scala:1423)\n",
      "\tat org.apache.spark.storage.BlockManager$$Lambda$1324/1642399569.apply(Unknown Source)\n",
      "\tat org.apache.spark.storage.BlockManager.org$apache$spark$storage$BlockManager$$doPut(BlockManager.scala:1350)\n",
      "\tat org.apache.spark.storage.BlockManager.doPutIterator(BlockManager.scala:1414)\n",
      "\tat org.apache.spark.storage.BlockManager.getOrElseUpdate(BlockManager.scala:1237)\n",
      "\tat org.apache.spark.rdd.RDD.getOrCompute(RDD.scala:384)\n",
      "\tat org.apache.spark.rdd.RDD.iterator(RDD.scala:335)\n",
      "22/07/23 22:08:33 ERROR org.apache.spark.util.SparkUncaughtExceptionHandler: Uncaught exception in thread Thread[Executor task launch worker for task 10.0 in stage 2135.0 (TID 2384),5,main]\n",
      "java.lang.OutOfMemoryError: GC overhead limit exceeded\n",
      "\tat java.util.LinkedList.linkLast(LinkedList.java:142)\n",
      "\tat java.util.LinkedList.add(LinkedList.java:338)\n",
      "\tat org.apache.spark.sql.execution.BufferedRowIterator.append(BufferedRowIterator.java:73)\n",
      "\tat org.apache.spark.sql.catalyst.expressions.GeneratedClass$GeneratedIteratorForCodegenStage6.processNext(Unknown Source)\n",
      "\tat org.apache.spark.sql.execution.BufferedRowIterator.hasNext(BufferedRowIterator.java:43)\n",
      "\tat org.apache.spark.sql.execution.WholeStageCodegenExec$$anon$1.hasNext(WholeStageCodegenExec.scala:755)\n",
      "\tat scala.collection.Iterator$$anon$10.hasNext(Iterator.scala:460)\n",
      "\tat scala.collection.Iterator$$anon$10.hasNext(Iterator.scala:460)\n",
      "\tat scala.collection.Iterator$$anon$10.hasNext(Iterator.scala:460)\n",
      "\tat scala.collection.Iterator.foreach(Iterator.scala:943)\n",
      "\tat scala.collection.Iterator.foreach$(Iterator.scala:943)\n",
      "\tat scala.collection.AbstractIterator.foreach(Iterator.scala:1431)\n",
      "\tat org.apache.spark.graphx.EdgeRDD$.$anonfun$fromEdges$1(EdgeRDD.scala:107)\n",
      "\tat org.apache.spark.graphx.EdgeRDD$.$anonfun$fromEdges$1$adapted(EdgeRDD.scala:105)\n",
      "\tat org.apache.spark.graphx.EdgeRDD$$$Lambda$4222/1444697126.apply(Unknown Source)\n",
      "\tat org.apache.spark.rdd.RDD.$anonfun$mapPartitionsWithIndex$2(RDD.scala:915)\n",
      "\tat org.apache.spark.rdd.RDD.$anonfun$mapPartitionsWithIndex$2$adapted(RDD.scala:915)\n",
      "\tat org.apache.spark.rdd.RDD$$Lambda$3045/864922766.apply(Unknown Source)\n",
      "\tat org.apache.spark.rdd.MapPartitionsRDD.compute(MapPartitionsRDD.scala:52)\n",
      "\tat org.apache.spark.rdd.RDD.computeOrReadCheckpoint(RDD.scala:373)\n",
      "\tat org.apache.spark.rdd.RDD.iterator(RDD.scala:337)\n",
      "\tat org.apache.spark.rdd.MapPartitionsRDD.compute(MapPartitionsRDD.scala:52)\n",
      "\tat org.apache.spark.rdd.RDD.computeOrReadCheckpoint(RDD.scala:373)\n",
      "\tat org.apache.spark.rdd.RDD.$anonfun$getOrCompute$1(RDD.scala:386)\n",
      "\tat org.apache.spark.rdd.RDD$$Lambda$2279/873057403.apply(Unknown Source)\n",
      "\tat org.apache.spark.storage.BlockManager.$anonfun$doPutIterator$1(BlockManager.scala:1423)\n",
      "\tat org.apache.spark.storage.BlockManager$$Lambda$1324/1642399569.apply(Unknown Source)\n",
      "\tat org.apache.spark.storage.BlockManager.org$apache$spark$storage$BlockManager$$doPut(BlockManager.scala:1350)\n",
      "\tat org.apache.spark.storage.BlockManager.doPutIterator(BlockManager.scala:1414)\n",
      "\tat org.apache.spark.storage.BlockManager.getOrElseUpdate(BlockManager.scala:1237)\n",
      "\tat org.apache.spark.rdd.RDD.getOrCompute(RDD.scala:384)\n",
      "\tat org.apache.spark.rdd.RDD.iterator(RDD.scala:335)\n",
      "22/07/23 22:08:33 WARN org.apache.spark.scheduler.TaskSetManager: Lost task 10.0 in stage 2135.0 (TID 2384) (w261-m.us-central1-a.c.w261-student-349323.internal executor driver): java.lang.OutOfMemoryError: GC overhead limit exceeded\n",
      "\tat java.util.LinkedList.linkLast(LinkedList.java:142)\n",
      "\tat java.util.LinkedList.add(LinkedList.java:338)\n",
      "\tat org.apache.spark.sql.execution.BufferedRowIterator.append(BufferedRowIterator.java:73)\n",
      "\tat org.apache.spark.sql.catalyst.expressions.GeneratedClass$GeneratedIteratorForCodegenStage6.processNext(Unknown Source)\n",
      "\tat org.apache.spark.sql.execution.BufferedRowIterator.hasNext(BufferedRowIterator.java:43)\n",
      "\tat org.apache.spark.sql.execution.WholeStageCodegenExec$$anon$1.hasNext(WholeStageCodegenExec.scala:755)\n",
      "\tat scala.collection.Iterator$$anon$10.hasNext(Iterator.scala:460)\n",
      "\tat scala.collection.Iterator$$anon$10.hasNext(Iterator.scala:460)\n",
      "\tat scala.collection.Iterator$$anon$10.hasNext(Iterator.scala:460)\n",
      "\tat scala.collection.Iterator.foreach(Iterator.scala:943)\n",
      "\tat scala.collection.Iterator.foreach$(Iterator.scala:943)\n",
      "\tat scala.collection.AbstractIterator.foreach(Iterator.scala:1431)\n",
      "\tat org.apache.spark.graphx.EdgeRDD$.$anonfun$fromEdges$1(EdgeRDD.scala:107)\n",
      "\tat org.apache.spark.graphx.EdgeRDD$.$anonfun$fromEdges$1$adapted(EdgeRDD.scala:105)\n",
      "\tat org.apache.spark.graphx.EdgeRDD$$$Lambda$4222/1444697126.apply(Unknown Source)\n",
      "\tat org.apache.spark.rdd.RDD.$anonfun$mapPartitionsWithIndex$2(RDD.scala:915)\n",
      "\tat org.apache.spark.rdd.RDD.$anonfun$mapPartitionsWithIndex$2$adapted(RDD.scala:915)\n",
      "\tat org.apache.spark.rdd.RDD$$Lambda$3045/864922766.apply(Unknown Source)\n",
      "\tat org.apache.spark.rdd.MapPartitionsRDD.compute(MapPartitionsRDD.scala:52)\n",
      "\tat org.apache.spark.rdd.RDD.computeOrReadCheckpoint(RDD.scala:373)\n",
      "\tat org.apache.spark.rdd.RDD.iterator(RDD.scala:337)\n",
      "\tat org.apache.spark.rdd.MapPartitionsRDD.compute(MapPartitionsRDD.scala:52)\n",
      "\tat org.apache.spark.rdd.RDD.computeOrReadCheckpoint(RDD.scala:373)\n",
      "\tat org.apache.spark.rdd.RDD.$anonfun$getOrCompute$1(RDD.scala:386)\n",
      "\tat org.apache.spark.rdd.RDD$$Lambda$2279/873057403.apply(Unknown Source)\n",
      "\tat org.apache.spark.storage.BlockManager.$anonfun$doPutIterator$1(BlockManager.scala:1423)\n",
      "\tat org.apache.spark.storage.BlockManager$$Lambda$1324/1642399569.apply(Unknown Source)\n",
      "\tat org.apache.spark.storage.BlockManager.org$apache$spark$storage$BlockManager$$doPut(BlockManager.scala:1350)\n",
      "\tat org.apache.spark.storage.BlockManager.doPutIterator(BlockManager.scala:1414)\n",
      "\tat org.apache.spark.storage.BlockManager.getOrElseUpdate(BlockManager.scala:1237)\n",
      "\tat org.apache.spark.rdd.RDD.getOrCompute(RDD.scala:384)\n",
      "\tat org.apache.spark.rdd.RDD.iterator(RDD.scala:335)\n",
      "\n",
      "22/07/23 22:08:33 ERROR org.apache.spark.scheduler.TaskSetManager: Task 10 in stage 2135.0 failed 1 times; aborting job\n",
      "22/07/23 22:08:33 WARN org.apache.spark.storage.BlockManager: Putting block rdd_3001_15 failed due to exception org.apache.spark.TaskKilledException.\n",
      "22/07/23 22:08:33 WARN org.apache.spark.storage.BlockManager: Putting block rdd_3001_1 failed due to exception org.apache.spark.TaskKilledException.\n",
      "22/07/23 22:08:33 WARN org.apache.spark.storage.BlockManager: Putting block rdd_3001_2 failed due to exception org.apache.spark.TaskKilledException.\n",
      "22/07/23 22:08:33 WARN org.apache.spark.storage.BlockManager: Putting block rdd_3001_0 failed due to exception org.apache.spark.TaskKilledException.\n",
      "22/07/23 22:08:33 WARN org.apache.spark.storage.BlockManager: Putting block rdd_3001_7 failed due to exception org.apache.spark.TaskKilledException.\n",
      "22/07/23 22:08:33 WARN org.apache.spark.storage.BlockManager: Putting block rdd_3001_12 failed due to exception org.apache.spark.TaskKilledException.\n",
      "22/07/23 22:08:33 WARN org.apache.spark.storage.BlockManager: Block rdd_3001_7 could not be removed as it was not found on disk or in memory\n",
      "22/07/23 22:08:33 WARN org.apache.spark.storage.BlockManager: Putting block rdd_3001_8 failed due to exception org.apache.spark.TaskKilledException.\n",
      "22/07/23 22:08:33 WARN org.apache.spark.storage.BlockManager: Block rdd_3001_12 could not be removed as it was not found on disk or in memory\n",
      "22/07/23 22:08:33 WARN org.apache.spark.storage.BlockManager: Putting block rdd_3001_3 failed due to exception org.apache.spark.TaskKilledException.\n",
      "22/07/23 22:08:33 WARN org.apache.spark.storage.BlockManager: Putting block rdd_3001_9 failed due to exception org.apache.spark.TaskKilledException.\n",
      "22/07/23 22:08:33 WARN org.apache.spark.storage.BlockManager: Block rdd_3001_3 could not be removed as it was not found on disk or in memory\n",
      "22/07/23 22:08:33 WARN org.apache.spark.storage.BlockManager: Putting block rdd_3005_12 failed due to exception org.apache.spark.TaskKilledException.\n",
      "22/07/23 22:08:33 WARN org.apache.spark.storage.BlockManager: Block rdd_3001_9 could not be removed as it was not found on disk or in memory\n",
      "22/07/23 22:08:33 WARN org.apache.spark.storage.BlockManager: Block rdd_3005_12 could not be removed as it was not found on disk or in memory\n",
      "22/07/23 22:08:33 WARN org.apache.spark.storage.BlockManager: Putting block rdd_3001_13 failed due to exception org.apache.spark.TaskKilledException.\n",
      "22/07/23 22:08:33 WARN org.apache.spark.storage.BlockManager: Putting block rdd_3005_9 failed due to exception org.apache.spark.TaskKilledException.\n",
      "22/07/23 22:08:33 WARN org.apache.spark.storage.BlockManager: Putting block rdd_3005_3 failed due to exception org.apache.spark.TaskKilledException.\n",
      "22/07/23 22:08:33 WARN org.apache.spark.storage.BlockManager: Putting block rdd_3005_7 failed due to exception org.apache.spark.TaskKilledException.\n",
      "22/07/23 22:08:33 WARN org.apache.spark.storage.BlockManager: Block rdd_3001_8 could not be removed as it was not found on disk or in memory\n",
      "22/07/23 22:08:33 WARN org.apache.spark.storage.BlockManager: Block rdd_3005_7 could not be removed as it was not found on disk or in memory\n",
      "22/07/23 22:08:33 WARN org.apache.spark.storage.BlockManager: Putting block rdd_3001_14 failed due to exception org.apache.spark.TaskKilledException.\n",
      "22/07/23 22:08:33 WARN org.apache.spark.storage.BlockManager: Putting block rdd_3005_8 failed due to exception org.apache.spark.TaskKilledException.\n",
      "22/07/23 22:08:33 WARN org.apache.spark.storage.BlockManager: Block rdd_3001_14 could not be removed as it was not found on disk or in memory\n",
      "22/07/23 22:08:33 WARN org.apache.spark.storage.BlockManager: Block rdd_3001_0 could not be removed as it was not found on disk or in memory\n",
      "22/07/23 22:08:33 WARN org.apache.spark.storage.BlockManager: Putting block rdd_3001_6 failed due to exception org.apache.spark.TaskKilledException.\n",
      "22/07/23 22:08:33 WARN org.apache.spark.storage.BlockManager: Putting block rdd_3005_0 failed due to exception org.apache.spark.TaskKilledException.\n",
      "22/07/23 22:08:33 WARN org.apache.spark.storage.BlockManager: Block rdd_3001_6 could not be removed as it was not found on disk or in memory\n",
      "22/07/23 22:08:33 WARN org.apache.spark.storage.BlockManager: Block rdd_3005_0 could not be removed as it was not found on disk or in memory\n",
      "22/07/23 22:08:33 WARN org.apache.spark.storage.BlockManager: Block rdd_3001_2 could not be removed as it was not found on disk or in memory\n",
      "22/07/23 22:08:33 WARN org.apache.spark.storage.BlockManager: Block rdd_3001_1 could not be removed as it was not found on disk or in memory\n",
      "22/07/23 22:08:33 WARN org.apache.spark.storage.BlockManager: Putting block rdd_3001_5 failed due to exception org.apache.spark.TaskKilledException.\n",
      "22/07/23 22:08:34 WARN org.apache.spark.storage.BlockManager: Putting block rdd_3005_1 failed due to exception org.apache.spark.TaskKilledException.\n",
      "22/07/23 22:08:34 WARN org.apache.spark.storage.BlockManager: Block rdd_3005_1 could not be removed as it was not found on disk or in memory\n",
      "22/07/23 22:08:33 WARN org.apache.spark.storage.BlockManager: Putting block rdd_3001_11 failed due to exception org.apache.spark.TaskKilledException.\n",
      "22/07/23 22:08:33 WARN org.apache.spark.storage.BlockManager: Putting block rdd_3001_4 failed due to exception org.apache.spark.TaskKilledException.\n",
      "22/07/23 22:08:33 WARN org.apache.spark.storage.BlockManager: Block rdd_3001_15 could not be removed as it was not found on disk or in memory\n",
      "22/07/23 22:08:34 WARN org.apache.spark.storage.BlockManager: Block rdd_3001_4 could not be removed as it was not found on disk or in memory\n",
      "22/07/23 22:08:34 WARN org.apache.spark.storage.BlockManager: Block rdd_3001_11 could not be removed as it was not found on disk or in memory\n",
      "22/07/23 22:08:34 WARN org.apache.spark.storage.BlockManager: Block rdd_3001_5 could not be removed as it was not found on disk or in memory\n",
      "22/07/23 22:08:34 WARN org.apache.spark.storage.BlockManager: Putting block rdd_3005_2 failed due to exception org.apache.spark.TaskKilledException.\n",
      "22/07/23 22:08:33 WARN org.apache.spark.storage.BlockManager: Putting block rdd_3005_6 failed due to exception org.apache.spark.TaskKilledException.\n",
      "22/07/23 22:08:34 WARN org.apache.spark.storage.BlockManager: Block rdd_3005_2 could not be removed as it was not found on disk or in memory\n",
      "22/07/23 22:08:33 WARN org.apache.spark.storage.BlockManager: Putting block rdd_3005_14 failed due to exception org.apache.spark.TaskKilledException.\n",
      "22/07/23 22:08:34 WARN org.apache.spark.storage.BlockManager: Putting block rdd_3005_15 failed due to exception org.apache.spark.TaskKilledException.\n",
      "22/07/23 22:08:34 WARN org.apache.spark.storage.BlockManager: Putting block rdd_3005_11 failed due to exception org.apache.spark.TaskKilledException.\n",
      "22/07/23 22:08:34 WARN org.apache.spark.storage.BlockManager: Block rdd_3005_15 could not be removed as it was not found on disk or in memory\n",
      "22/07/23 22:08:34 WARN org.apache.spark.storage.BlockManager: Block rdd_3005_11 could not be removed as it was not found on disk or in memory\n",
      "22/07/23 22:08:33 WARN org.apache.spark.storage.BlockManager: Block rdd_3005_8 could not be removed as it was not found on disk or in memory\n",
      "22/07/23 22:08:34 WARN org.apache.spark.storage.BlockManager: Putting block rdd_3005_5 failed due to exception org.apache.spark.TaskKilledException.\n",
      "22/07/23 22:08:33 WARN org.apache.spark.storage.BlockManager: Block rdd_3005_3 could not be removed as it was not found on disk or in memory\n",
      "22/07/23 22:08:34 WARN org.apache.spark.storage.BlockManager: Block rdd_3005_5 could not be removed as it was not found on disk or in memory\n",
      "22/07/23 22:08:33 WARN org.apache.spark.storage.BlockManager: Block rdd_3005_9 could not be removed as it was not found on disk or in memory\n",
      "22/07/23 22:08:33 WARN org.apache.spark.storage.BlockManager: Block rdd_3001_13 could not be removed as it was not found on disk or in memory\n",
      "22/07/23 22:08:34 WARN org.apache.spark.storage.BlockManager: Block rdd_3005_14 could not be removed as it was not found on disk or in memory\n",
      "22/07/23 22:08:34 WARN org.apache.spark.storage.BlockManager: Putting block rdd_3005_4 failed due to exception org.apache.spark.TaskKilledException.\n",
      "22/07/23 22:08:34 WARN org.apache.spark.storage.BlockManager: Block rdd_3005_6 could not be removed as it was not found on disk or in memory\n",
      "22/07/23 22:08:34 WARN org.apache.spark.storage.BlockManager: Putting block rdd_3005_13 failed due to exception org.apache.spark.TaskKilledException.\n",
      "22/07/23 22:08:34 WARN org.apache.spark.storage.BlockManager: Block rdd_3005_4 could not be removed as it was not found on disk or in memory\n",
      "22/07/23 22:08:34 WARN org.apache.spark.storage.BlockManager: Block rdd_3005_13 could not be removed as it was not found on disk or in memory\n",
      "22/07/23 22:08:34 WARN org.apache.spark.scheduler.TaskSetManager: Lost task 5.0 in stage 2135.0 (TID 2379) (w261-m.us-central1-a.c.w261-student-349323.internal executor driver): TaskKilled (Stage cancelled)\n",
      "22/07/23 22:08:34 WARN org.apache.spark.scheduler.TaskSetManager: Lost task 4.0 in stage 2135.0 (TID 2378) (w261-m.us-central1-a.c.w261-student-349323.internal executor driver): TaskKilled (Stage cancelled)\n",
      "22/07/23 22:08:34 WARN org.apache.spark.scheduler.TaskSetManager: Lost task 9.0 in stage 2135.0 (TID 2383) (w261-m.us-central1-a.c.w261-student-349323.internal executor driver): TaskKilled (Stage cancelled)\n",
      "22/07/23 22:08:34 WARN org.apache.spark.scheduler.TaskSetManager: Lost task 1.0 in stage 2135.0 (TID 2375) (w261-m.us-central1-a.c.w261-student-349323.internal executor driver): TaskKilled (Stage cancelled)\n",
      "22/07/23 22:08:34 WARN org.apache.spark.scheduler.TaskSetManager: Lost task 3.0 in stage 2135.0 (TID 2377) (w261-m.us-central1-a.c.w261-student-349323.internal executor driver): TaskKilled (Stage cancelled)\n",
      "22/07/23 22:08:34 WARN org.apache.spark.scheduler.TaskSetManager: Lost task 13.0 in stage 2135.0 (TID 2387) (w261-m.us-central1-a.c.w261-student-349323.internal executor driver): TaskKilled (Stage cancelled)\n",
      "22/07/23 22:08:34 WARN org.apache.spark.scheduler.TaskSetManager: Lost task 6.0 in stage 2135.0 (TID 2380) (w261-m.us-central1-a.c.w261-student-349323.internal executor driver): TaskKilled (Stage cancelled)\n",
      "22/07/23 22:08:34 WARN org.apache.spark.scheduler.TaskSetManager: Lost task 2.0 in stage 2135.0 (TID 2376) (w261-m.us-central1-a.c.w261-student-349323.internal executor driver): TaskKilled (Stage cancelled)\n",
      "22/07/23 22:08:34 WARN org.apache.spark.scheduler.TaskSetManager: Lost task 14.0 in stage 2135.0 (TID 2388) (w261-m.us-central1-a.c.w261-student-349323.internal executor driver): TaskKilled (Stage cancelled)\n",
      "22/07/23 22:08:34 WARN org.apache.spark.scheduler.TaskSetManager: Lost task 11.0 in stage 2135.0 (TID 2385) (w261-m.us-central1-a.c.w261-student-349323.internal executor driver): TaskKilled (Stage cancelled)\n",
      "22/07/23 22:08:34 WARN org.apache.spark.scheduler.TaskSetManager: Lost task 12.0 in stage 2135.0 (TID 2386) (w261-m.us-central1-a.c.w261-student-349323.internal executor driver): TaskKilled (Stage cancelled)\n",
      "22/07/23 22:08:34 WARN org.apache.spark.scheduler.TaskSetManager: Lost task 0.0 in stage 2135.0 (TID 2374) (w261-m.us-central1-a.c.w261-student-349323.internal executor driver): TaskKilled (Stage cancelled)\n",
      "22/07/23 22:08:34 WARN org.apache.spark.scheduler.TaskSetManager: Lost task 15.0 in stage 2135.0 (TID 2389) (w261-m.us-central1-a.c.w261-student-349323.internal executor driver): TaskKilled (Stage cancelled)\n",
      "22/07/23 22:08:34 WARN org.apache.spark.scheduler.TaskSetManager: Lost task 7.0 in stage 2135.0 (TID 2381) (w261-m.us-central1-a.c.w261-student-349323.internal executor driver): TaskKilled (Stage cancelled)\n",
      "22/07/23 22:08:34 WARN org.apache.spark.scheduler.TaskSetManager: Lost task 8.0 in stage 2135.0 (TID 2382) (w261-m.us-central1-a.c.w261-student-349323.internal executor driver): TaskKilled (Stage cancelled)\n",
      "22/07/23 22:08:34 WARN org.apache.spark.scheduler.TaskSetManager: Lost task 0.0 in stage 2137.0 (TID 2390) (w261-m.us-central1-a.c.w261-student-349323.internal executor driver): TaskKilled (Stage cancelled)\n"
     ]
    },
    {
     "ename": "Py4JJavaError",
     "evalue": "An error occurred while calling o17137.run.\n: org.apache.spark.SparkException: Job aborted due to stage failure: Task 10 in stage 2135.0 failed 1 times, most recent failure: Lost task 10.0 in stage 2135.0 (TID 2384) (w261-m.us-central1-a.c.w261-student-349323.internal executor driver): java.lang.OutOfMemoryError: GC overhead limit exceeded\n\tat java.util.LinkedList.linkLast(LinkedList.java:142)\n\tat java.util.LinkedList.add(LinkedList.java:338)\n\tat org.apache.spark.sql.execution.BufferedRowIterator.append(BufferedRowIterator.java:73)\n\tat org.apache.spark.sql.catalyst.expressions.GeneratedClass$GeneratedIteratorForCodegenStage6.processNext(Unknown Source)\n\tat org.apache.spark.sql.execution.BufferedRowIterator.hasNext(BufferedRowIterator.java:43)\n\tat org.apache.spark.sql.execution.WholeStageCodegenExec$$anon$1.hasNext(WholeStageCodegenExec.scala:755)\n\tat scala.collection.Iterator$$anon$10.hasNext(Iterator.scala:460)\n\tat scala.collection.Iterator$$anon$10.hasNext(Iterator.scala:460)\n\tat scala.collection.Iterator$$anon$10.hasNext(Iterator.scala:460)\n\tat scala.collection.Iterator.foreach(Iterator.scala:943)\n\tat scala.collection.Iterator.foreach$(Iterator.scala:943)\n\tat scala.collection.AbstractIterator.foreach(Iterator.scala:1431)\n\tat org.apache.spark.graphx.EdgeRDD$.$anonfun$fromEdges$1(EdgeRDD.scala:107)\n\tat org.apache.spark.graphx.EdgeRDD$.$anonfun$fromEdges$1$adapted(EdgeRDD.scala:105)\n\tat org.apache.spark.graphx.EdgeRDD$$$Lambda$4222/1444697126.apply(Unknown Source)\n\tat org.apache.spark.rdd.RDD.$anonfun$mapPartitionsWithIndex$2(RDD.scala:915)\n\tat org.apache.spark.rdd.RDD.$anonfun$mapPartitionsWithIndex$2$adapted(RDD.scala:915)\n\tat org.apache.spark.rdd.RDD$$Lambda$3045/864922766.apply(Unknown Source)\n\tat org.apache.spark.rdd.MapPartitionsRDD.compute(MapPartitionsRDD.scala:52)\n\tat org.apache.spark.rdd.RDD.computeOrReadCheckpoint(RDD.scala:373)\n\tat org.apache.spark.rdd.RDD.iterator(RDD.scala:337)\n\tat org.apache.spark.rdd.MapPartitionsRDD.compute(MapPartitionsRDD.scala:52)\n\tat org.apache.spark.rdd.RDD.computeOrReadCheckpoint(RDD.scala:373)\n\tat org.apache.spark.rdd.RDD.$anonfun$getOrCompute$1(RDD.scala:386)\n\tat org.apache.spark.rdd.RDD$$Lambda$2279/873057403.apply(Unknown Source)\n\tat org.apache.spark.storage.BlockManager.$anonfun$doPutIterator$1(BlockManager.scala:1423)\n\tat org.apache.spark.storage.BlockManager$$Lambda$1324/1642399569.apply(Unknown Source)\n\tat org.apache.spark.storage.BlockManager.org$apache$spark$storage$BlockManager$$doPut(BlockManager.scala:1350)\n\tat org.apache.spark.storage.BlockManager.doPutIterator(BlockManager.scala:1414)\n\tat org.apache.spark.storage.BlockManager.getOrElseUpdate(BlockManager.scala:1237)\n\tat org.apache.spark.rdd.RDD.getOrCompute(RDD.scala:384)\n\tat org.apache.spark.rdd.RDD.iterator(RDD.scala:335)\n\nDriver stacktrace:\n\tat org.apache.spark.scheduler.DAGScheduler.failJobAndIndependentStages(DAGScheduler.scala:2304)\n\tat org.apache.spark.scheduler.DAGScheduler.$anonfun$abortStage$2(DAGScheduler.scala:2253)\n\tat org.apache.spark.scheduler.DAGScheduler.$anonfun$abortStage$2$adapted(DAGScheduler.scala:2252)\n\tat scala.collection.mutable.ResizableArray.foreach(ResizableArray.scala:62)\n\tat scala.collection.mutable.ResizableArray.foreach$(ResizableArray.scala:55)\n\tat scala.collection.mutable.ArrayBuffer.foreach(ArrayBuffer.scala:49)\n\tat org.apache.spark.scheduler.DAGScheduler.abortStage(DAGScheduler.scala:2252)\n\tat org.apache.spark.scheduler.DAGScheduler.$anonfun$handleTaskSetFailed$1(DAGScheduler.scala:1124)\n\tat org.apache.spark.scheduler.DAGScheduler.$anonfun$handleTaskSetFailed$1$adapted(DAGScheduler.scala:1124)\n\tat scala.Option.foreach(Option.scala:407)\n\tat org.apache.spark.scheduler.DAGScheduler.handleTaskSetFailed(DAGScheduler.scala:1124)\n\tat org.apache.spark.scheduler.DAGSchedulerEventProcessLoop.doOnReceive(DAGScheduler.scala:2491)\n\tat org.apache.spark.scheduler.DAGSchedulerEventProcessLoop.onReceive(DAGScheduler.scala:2433)\n\tat org.apache.spark.scheduler.DAGSchedulerEventProcessLoop.onReceive(DAGScheduler.scala:2422)\n\tat org.apache.spark.util.EventLoop$$anon$1.run(EventLoop.scala:49)\n\tat org.apache.spark.scheduler.DAGScheduler.runJob(DAGScheduler.scala:902)\n\tat org.apache.spark.SparkContext.runJob(SparkContext.scala:2204)\n\tat org.apache.spark.SparkContext.runJob(SparkContext.scala:2225)\n\tat org.apache.spark.SparkContext.runJob(SparkContext.scala:2244)\n\tat org.apache.spark.SparkContext.runJob(SparkContext.scala:2269)\n\tat org.apache.spark.rdd.RDD.$anonfun$foreachPartition$1(RDD.scala:1020)\n\tat org.apache.spark.rdd.RDDOperationScope$.withScope(RDDOperationScope.scala:151)\n\tat org.apache.spark.rdd.RDDOperationScope$.withScope(RDDOperationScope.scala:112)\n\tat org.apache.spark.rdd.RDD.withScope(RDD.scala:414)\n\tat org.apache.spark.rdd.RDD.foreachPartition(RDD.scala:1018)\n\tat org.apache.spark.graphx.lib.PageRank$.runWithOptions(PageRank.scala:175)\n\tat org.graphframes.lib.PageRank$.run(PageRank.scala:130)\n\tat org.graphframes.lib.PageRank.run(PageRank.scala:104)\n\tat sun.reflect.NativeMethodAccessorImpl.invoke0(Native Method)\n\tat sun.reflect.NativeMethodAccessorImpl.invoke(NativeMethodAccessorImpl.java:62)\n\tat sun.reflect.DelegatingMethodAccessorImpl.invoke(DelegatingMethodAccessorImpl.java:43)\n\tat java.lang.reflect.Method.invoke(Method.java:498)\n\tat py4j.reflection.MethodInvoker.invoke(MethodInvoker.java:244)\n\tat py4j.reflection.ReflectionEngine.invoke(ReflectionEngine.java:357)\n\tat py4j.Gateway.invoke(Gateway.java:282)\n\tat py4j.commands.AbstractCommand.invokeMethod(AbstractCommand.java:132)\n\tat py4j.commands.CallCommand.execute(CallCommand.java:79)\n\tat py4j.GatewayConnection.run(GatewayConnection.java:238)\n\tat java.lang.Thread.run(Thread.java:750)\nCaused by: java.lang.OutOfMemoryError: GC overhead limit exceeded\n\tat java.util.LinkedList.linkLast(LinkedList.java:142)\n\tat java.util.LinkedList.add(LinkedList.java:338)\n\tat org.apache.spark.sql.execution.BufferedRowIterator.append(BufferedRowIterator.java:73)\n\tat org.apache.spark.sql.catalyst.expressions.GeneratedClass$GeneratedIteratorForCodegenStage6.processNext(Unknown Source)\n\tat org.apache.spark.sql.execution.BufferedRowIterator.hasNext(BufferedRowIterator.java:43)\n\tat org.apache.spark.sql.execution.WholeStageCodegenExec$$anon$1.hasNext(WholeStageCodegenExec.scala:755)\n\tat scala.collection.Iterator$$anon$10.hasNext(Iterator.scala:460)\n\tat scala.collection.Iterator$$anon$10.hasNext(Iterator.scala:460)\n\tat scala.collection.Iterator$$anon$10.hasNext(Iterator.scala:460)\n\tat scala.collection.Iterator.foreach(Iterator.scala:943)\n\tat scala.collection.Iterator.foreach$(Iterator.scala:943)\n\tat scala.collection.AbstractIterator.foreach(Iterator.scala:1431)\n\tat org.apache.spark.graphx.EdgeRDD$.$anonfun$fromEdges$1(EdgeRDD.scala:107)\n\tat org.apache.spark.graphx.EdgeRDD$.$anonfun$fromEdges$1$adapted(EdgeRDD.scala:105)\n\tat org.apache.spark.graphx.EdgeRDD$$$Lambda$4222/1444697126.apply(Unknown Source)\n\tat org.apache.spark.rdd.RDD.$anonfun$mapPartitionsWithIndex$2(RDD.scala:915)\n\tat org.apache.spark.rdd.RDD.$anonfun$mapPartitionsWithIndex$2$adapted(RDD.scala:915)\n\tat org.apache.spark.rdd.RDD$$Lambda$3045/864922766.apply(Unknown Source)\n\tat org.apache.spark.rdd.MapPartitionsRDD.compute(MapPartitionsRDD.scala:52)\n\tat org.apache.spark.rdd.RDD.computeOrReadCheckpoint(RDD.scala:373)\n\tat org.apache.spark.rdd.RDD.iterator(RDD.scala:337)\n\tat org.apache.spark.rdd.MapPartitionsRDD.compute(MapPartitionsRDD.scala:52)\n\tat org.apache.spark.rdd.RDD.computeOrReadCheckpoint(RDD.scala:373)\n\tat org.apache.spark.rdd.RDD.$anonfun$getOrCompute$1(RDD.scala:386)\n\tat org.apache.spark.rdd.RDD$$Lambda$2279/873057403.apply(Unknown Source)\n\tat org.apache.spark.storage.BlockManager.$anonfun$doPutIterator$1(BlockManager.scala:1423)\n\tat org.apache.spark.storage.BlockManager$$Lambda$1324/1642399569.apply(Unknown Source)\n\tat org.apache.spark.storage.BlockManager.org$apache$spark$storage$BlockManager$$doPut(BlockManager.scala:1350)\n\tat org.apache.spark.storage.BlockManager.doPutIterator(BlockManager.scala:1414)\n\tat org.apache.spark.storage.BlockManager.getOrElseUpdate(BlockManager.scala:1237)\n\tat org.apache.spark.rdd.RDD.getOrCompute(RDD.scala:384)\n\tat org.apache.spark.rdd.RDD.iterator(RDD.scala:335)\n",
     "output_type": "error",
     "traceback": [
      "\u001b[0;31m---------------------------------------------------------------------------\u001b[0m",
      "\u001b[0;31mPy4JJavaError\u001b[0m                             Traceback (most recent call last)",
      "Input \u001b[0;32mIn [172]\u001b[0m, in \u001b[0;36m<cell line: 2>\u001b[0;34m()\u001b[0m\n\u001b[1;32m      1\u001b[0m \u001b[38;5;66;03m# Run PageRank algorithm, and show results.\u001b[39;00m\n\u001b[0;32m----> 2\u001b[0m results \u001b[38;5;241m=\u001b[39m \u001b[43mg\u001b[49m\u001b[38;5;241;43m.\u001b[39;49m\u001b[43mpageRank\u001b[49m\u001b[43m(\u001b[49m\u001b[43mresetProbability\u001b[49m\u001b[38;5;241;43m=\u001b[39;49m\u001b[38;5;241;43m0.15\u001b[39;49m\u001b[43m,\u001b[49m\u001b[43m \u001b[49m\u001b[43mmaxIter\u001b[49m\u001b[38;5;241;43m=\u001b[39;49m\u001b[38;5;241;43m10\u001b[39;49m\u001b[43m)\u001b[49m\n",
      "File \u001b[0;32m/hadoop/spark/tmp/spark-e23553a2-2ad2-43a1-a00f-7d4713fab451/userFiles-a09b5488-5ce2-414b-ab10-17edfce35561/graphframes_graphframes-0.8.2-spark3.1-s_2.12.jar/graphframes/graphframe.py:371\u001b[0m, in \u001b[0;36mGraphFrame.pageRank\u001b[0;34m(self, resetProbability, sourceId, maxIter, tol)\u001b[0m\n\u001b[1;32m    369\u001b[0m     \u001b[38;5;28;01massert\u001b[39;00m tol \u001b[38;5;129;01mis\u001b[39;00m \u001b[38;5;129;01mnot\u001b[39;00m \u001b[38;5;28;01mNone\u001b[39;00m, \u001b[38;5;124m\"\u001b[39m\u001b[38;5;124mExactly one of maxIter or tol should be set.\u001b[39m\u001b[38;5;124m\"\u001b[39m\n\u001b[1;32m    370\u001b[0m     builder \u001b[38;5;241m=\u001b[39m builder\u001b[38;5;241m.\u001b[39mtol(tol)\n\u001b[0;32m--> 371\u001b[0m jgf \u001b[38;5;241m=\u001b[39m \u001b[43mbuilder\u001b[49m\u001b[38;5;241;43m.\u001b[39;49m\u001b[43mrun\u001b[49m\u001b[43m(\u001b[49m\u001b[43m)\u001b[49m\n\u001b[1;32m    372\u001b[0m \u001b[38;5;28;01mreturn\u001b[39;00m _from_java_gf(jgf, \u001b[38;5;28mself\u001b[39m\u001b[38;5;241m.\u001b[39m_sqlContext)\n",
      "File \u001b[0;32m/opt/conda/miniconda3/lib/python3.8/site-packages/py4j/java_gateway.py:1304\u001b[0m, in \u001b[0;36mJavaMember.__call__\u001b[0;34m(self, *args)\u001b[0m\n\u001b[1;32m   1298\u001b[0m command \u001b[38;5;241m=\u001b[39m proto\u001b[38;5;241m.\u001b[39mCALL_COMMAND_NAME \u001b[38;5;241m+\u001b[39m\\\n\u001b[1;32m   1299\u001b[0m     \u001b[38;5;28mself\u001b[39m\u001b[38;5;241m.\u001b[39mcommand_header \u001b[38;5;241m+\u001b[39m\\\n\u001b[1;32m   1300\u001b[0m     args_command \u001b[38;5;241m+\u001b[39m\\\n\u001b[1;32m   1301\u001b[0m     proto\u001b[38;5;241m.\u001b[39mEND_COMMAND_PART\n\u001b[1;32m   1303\u001b[0m answer \u001b[38;5;241m=\u001b[39m \u001b[38;5;28mself\u001b[39m\u001b[38;5;241m.\u001b[39mgateway_client\u001b[38;5;241m.\u001b[39msend_command(command)\n\u001b[0;32m-> 1304\u001b[0m return_value \u001b[38;5;241m=\u001b[39m \u001b[43mget_return_value\u001b[49m\u001b[43m(\u001b[49m\n\u001b[1;32m   1305\u001b[0m \u001b[43m    \u001b[49m\u001b[43manswer\u001b[49m\u001b[43m,\u001b[49m\u001b[43m \u001b[49m\u001b[38;5;28;43mself\u001b[39;49m\u001b[38;5;241;43m.\u001b[39;49m\u001b[43mgateway_client\u001b[49m\u001b[43m,\u001b[49m\u001b[43m \u001b[49m\u001b[38;5;28;43mself\u001b[39;49m\u001b[38;5;241;43m.\u001b[39;49m\u001b[43mtarget_id\u001b[49m\u001b[43m,\u001b[49m\u001b[43m \u001b[49m\u001b[38;5;28;43mself\u001b[39;49m\u001b[38;5;241;43m.\u001b[39;49m\u001b[43mname\u001b[49m\u001b[43m)\u001b[49m\n\u001b[1;32m   1307\u001b[0m \u001b[38;5;28;01mfor\u001b[39;00m temp_arg \u001b[38;5;129;01min\u001b[39;00m temp_args:\n\u001b[1;32m   1308\u001b[0m     temp_arg\u001b[38;5;241m.\u001b[39m_detach()\n",
      "File \u001b[0;32m/usr/lib/spark/python/pyspark/sql/utils.py:111\u001b[0m, in \u001b[0;36mcapture_sql_exception.<locals>.deco\u001b[0;34m(*a, **kw)\u001b[0m\n\u001b[1;32m    109\u001b[0m \u001b[38;5;28;01mdef\u001b[39;00m \u001b[38;5;21mdeco\u001b[39m(\u001b[38;5;241m*\u001b[39ma, \u001b[38;5;241m*\u001b[39m\u001b[38;5;241m*\u001b[39mkw):\n\u001b[1;32m    110\u001b[0m     \u001b[38;5;28;01mtry\u001b[39;00m:\n\u001b[0;32m--> 111\u001b[0m         \u001b[38;5;28;01mreturn\u001b[39;00m \u001b[43mf\u001b[49m\u001b[43m(\u001b[49m\u001b[38;5;241;43m*\u001b[39;49m\u001b[43ma\u001b[49m\u001b[43m,\u001b[49m\u001b[43m \u001b[49m\u001b[38;5;241;43m*\u001b[39;49m\u001b[38;5;241;43m*\u001b[39;49m\u001b[43mkw\u001b[49m\u001b[43m)\u001b[49m\n\u001b[1;32m    112\u001b[0m     \u001b[38;5;28;01mexcept\u001b[39;00m py4j\u001b[38;5;241m.\u001b[39mprotocol\u001b[38;5;241m.\u001b[39mPy4JJavaError \u001b[38;5;28;01mas\u001b[39;00m e:\n\u001b[1;32m    113\u001b[0m         converted \u001b[38;5;241m=\u001b[39m convert_exception(e\u001b[38;5;241m.\u001b[39mjava_exception)\n",
      "File \u001b[0;32m/opt/conda/miniconda3/lib/python3.8/site-packages/py4j/protocol.py:326\u001b[0m, in \u001b[0;36mget_return_value\u001b[0;34m(answer, gateway_client, target_id, name)\u001b[0m\n\u001b[1;32m    324\u001b[0m value \u001b[38;5;241m=\u001b[39m OUTPUT_CONVERTER[\u001b[38;5;28mtype\u001b[39m](answer[\u001b[38;5;241m2\u001b[39m:], gateway_client)\n\u001b[1;32m    325\u001b[0m \u001b[38;5;28;01mif\u001b[39;00m answer[\u001b[38;5;241m1\u001b[39m] \u001b[38;5;241m==\u001b[39m REFERENCE_TYPE:\n\u001b[0;32m--> 326\u001b[0m     \u001b[38;5;28;01mraise\u001b[39;00m Py4JJavaError(\n\u001b[1;32m    327\u001b[0m         \u001b[38;5;124m\"\u001b[39m\u001b[38;5;124mAn error occurred while calling \u001b[39m\u001b[38;5;132;01m{0}\u001b[39;00m\u001b[38;5;132;01m{1}\u001b[39;00m\u001b[38;5;132;01m{2}\u001b[39;00m\u001b[38;5;124m.\u001b[39m\u001b[38;5;130;01m\\n\u001b[39;00m\u001b[38;5;124m\"\u001b[39m\u001b[38;5;241m.\u001b[39m\n\u001b[1;32m    328\u001b[0m         \u001b[38;5;28mformat\u001b[39m(target_id, \u001b[38;5;124m\"\u001b[39m\u001b[38;5;124m.\u001b[39m\u001b[38;5;124m\"\u001b[39m, name), value)\n\u001b[1;32m    329\u001b[0m \u001b[38;5;28;01melse\u001b[39;00m:\n\u001b[1;32m    330\u001b[0m     \u001b[38;5;28;01mraise\u001b[39;00m Py4JError(\n\u001b[1;32m    331\u001b[0m         \u001b[38;5;124m\"\u001b[39m\u001b[38;5;124mAn error occurred while calling \u001b[39m\u001b[38;5;132;01m{0}\u001b[39;00m\u001b[38;5;132;01m{1}\u001b[39;00m\u001b[38;5;132;01m{2}\u001b[39;00m\u001b[38;5;124m. Trace:\u001b[39m\u001b[38;5;130;01m\\n\u001b[39;00m\u001b[38;5;132;01m{3}\u001b[39;00m\u001b[38;5;130;01m\\n\u001b[39;00m\u001b[38;5;124m\"\u001b[39m\u001b[38;5;241m.\u001b[39m\n\u001b[1;32m    332\u001b[0m         \u001b[38;5;28mformat\u001b[39m(target_id, \u001b[38;5;124m\"\u001b[39m\u001b[38;5;124m.\u001b[39m\u001b[38;5;124m\"\u001b[39m, name, value))\n",
      "\u001b[0;31mPy4JJavaError\u001b[0m: An error occurred while calling o17137.run.\n: org.apache.spark.SparkException: Job aborted due to stage failure: Task 10 in stage 2135.0 failed 1 times, most recent failure: Lost task 10.0 in stage 2135.0 (TID 2384) (w261-m.us-central1-a.c.w261-student-349323.internal executor driver): java.lang.OutOfMemoryError: GC overhead limit exceeded\n\tat java.util.LinkedList.linkLast(LinkedList.java:142)\n\tat java.util.LinkedList.add(LinkedList.java:338)\n\tat org.apache.spark.sql.execution.BufferedRowIterator.append(BufferedRowIterator.java:73)\n\tat org.apache.spark.sql.catalyst.expressions.GeneratedClass$GeneratedIteratorForCodegenStage6.processNext(Unknown Source)\n\tat org.apache.spark.sql.execution.BufferedRowIterator.hasNext(BufferedRowIterator.java:43)\n\tat org.apache.spark.sql.execution.WholeStageCodegenExec$$anon$1.hasNext(WholeStageCodegenExec.scala:755)\n\tat scala.collection.Iterator$$anon$10.hasNext(Iterator.scala:460)\n\tat scala.collection.Iterator$$anon$10.hasNext(Iterator.scala:460)\n\tat scala.collection.Iterator$$anon$10.hasNext(Iterator.scala:460)\n\tat scala.collection.Iterator.foreach(Iterator.scala:943)\n\tat scala.collection.Iterator.foreach$(Iterator.scala:943)\n\tat scala.collection.AbstractIterator.foreach(Iterator.scala:1431)\n\tat org.apache.spark.graphx.EdgeRDD$.$anonfun$fromEdges$1(EdgeRDD.scala:107)\n\tat org.apache.spark.graphx.EdgeRDD$.$anonfun$fromEdges$1$adapted(EdgeRDD.scala:105)\n\tat org.apache.spark.graphx.EdgeRDD$$$Lambda$4222/1444697126.apply(Unknown Source)\n\tat org.apache.spark.rdd.RDD.$anonfun$mapPartitionsWithIndex$2(RDD.scala:915)\n\tat org.apache.spark.rdd.RDD.$anonfun$mapPartitionsWithIndex$2$adapted(RDD.scala:915)\n\tat org.apache.spark.rdd.RDD$$Lambda$3045/864922766.apply(Unknown Source)\n\tat org.apache.spark.rdd.MapPartitionsRDD.compute(MapPartitionsRDD.scala:52)\n\tat org.apache.spark.rdd.RDD.computeOrReadCheckpoint(RDD.scala:373)\n\tat org.apache.spark.rdd.RDD.iterator(RDD.scala:337)\n\tat org.apache.spark.rdd.MapPartitionsRDD.compute(MapPartitionsRDD.scala:52)\n\tat org.apache.spark.rdd.RDD.computeOrReadCheckpoint(RDD.scala:373)\n\tat org.apache.spark.rdd.RDD.$anonfun$getOrCompute$1(RDD.scala:386)\n\tat org.apache.spark.rdd.RDD$$Lambda$2279/873057403.apply(Unknown Source)\n\tat org.apache.spark.storage.BlockManager.$anonfun$doPutIterator$1(BlockManager.scala:1423)\n\tat org.apache.spark.storage.BlockManager$$Lambda$1324/1642399569.apply(Unknown Source)\n\tat org.apache.spark.storage.BlockManager.org$apache$spark$storage$BlockManager$$doPut(BlockManager.scala:1350)\n\tat org.apache.spark.storage.BlockManager.doPutIterator(BlockManager.scala:1414)\n\tat org.apache.spark.storage.BlockManager.getOrElseUpdate(BlockManager.scala:1237)\n\tat org.apache.spark.rdd.RDD.getOrCompute(RDD.scala:384)\n\tat org.apache.spark.rdd.RDD.iterator(RDD.scala:335)\n\nDriver stacktrace:\n\tat org.apache.spark.scheduler.DAGScheduler.failJobAndIndependentStages(DAGScheduler.scala:2304)\n\tat org.apache.spark.scheduler.DAGScheduler.$anonfun$abortStage$2(DAGScheduler.scala:2253)\n\tat org.apache.spark.scheduler.DAGScheduler.$anonfun$abortStage$2$adapted(DAGScheduler.scala:2252)\n\tat scala.collection.mutable.ResizableArray.foreach(ResizableArray.scala:62)\n\tat scala.collection.mutable.ResizableArray.foreach$(ResizableArray.scala:55)\n\tat scala.collection.mutable.ArrayBuffer.foreach(ArrayBuffer.scala:49)\n\tat org.apache.spark.scheduler.DAGScheduler.abortStage(DAGScheduler.scala:2252)\n\tat org.apache.spark.scheduler.DAGScheduler.$anonfun$handleTaskSetFailed$1(DAGScheduler.scala:1124)\n\tat org.apache.spark.scheduler.DAGScheduler.$anonfun$handleTaskSetFailed$1$adapted(DAGScheduler.scala:1124)\n\tat scala.Option.foreach(Option.scala:407)\n\tat org.apache.spark.scheduler.DAGScheduler.handleTaskSetFailed(DAGScheduler.scala:1124)\n\tat org.apache.spark.scheduler.DAGSchedulerEventProcessLoop.doOnReceive(DAGScheduler.scala:2491)\n\tat org.apache.spark.scheduler.DAGSchedulerEventProcessLoop.onReceive(DAGScheduler.scala:2433)\n\tat org.apache.spark.scheduler.DAGSchedulerEventProcessLoop.onReceive(DAGScheduler.scala:2422)\n\tat org.apache.spark.util.EventLoop$$anon$1.run(EventLoop.scala:49)\n\tat org.apache.spark.scheduler.DAGScheduler.runJob(DAGScheduler.scala:902)\n\tat org.apache.spark.SparkContext.runJob(SparkContext.scala:2204)\n\tat org.apache.spark.SparkContext.runJob(SparkContext.scala:2225)\n\tat org.apache.spark.SparkContext.runJob(SparkContext.scala:2244)\n\tat org.apache.spark.SparkContext.runJob(SparkContext.scala:2269)\n\tat org.apache.spark.rdd.RDD.$anonfun$foreachPartition$1(RDD.scala:1020)\n\tat org.apache.spark.rdd.RDDOperationScope$.withScope(RDDOperationScope.scala:151)\n\tat org.apache.spark.rdd.RDDOperationScope$.withScope(RDDOperationScope.scala:112)\n\tat org.apache.spark.rdd.RDD.withScope(RDD.scala:414)\n\tat org.apache.spark.rdd.RDD.foreachPartition(RDD.scala:1018)\n\tat org.apache.spark.graphx.lib.PageRank$.runWithOptions(PageRank.scala:175)\n\tat org.graphframes.lib.PageRank$.run(PageRank.scala:130)\n\tat org.graphframes.lib.PageRank.run(PageRank.scala:104)\n\tat sun.reflect.NativeMethodAccessorImpl.invoke0(Native Method)\n\tat sun.reflect.NativeMethodAccessorImpl.invoke(NativeMethodAccessorImpl.java:62)\n\tat sun.reflect.DelegatingMethodAccessorImpl.invoke(DelegatingMethodAccessorImpl.java:43)\n\tat java.lang.reflect.Method.invoke(Method.java:498)\n\tat py4j.reflection.MethodInvoker.invoke(MethodInvoker.java:244)\n\tat py4j.reflection.ReflectionEngine.invoke(ReflectionEngine.java:357)\n\tat py4j.Gateway.invoke(Gateway.java:282)\n\tat py4j.commands.AbstractCommand.invokeMethod(AbstractCommand.java:132)\n\tat py4j.commands.CallCommand.execute(CallCommand.java:79)\n\tat py4j.GatewayConnection.run(GatewayConnection.java:238)\n\tat java.lang.Thread.run(Thread.java:750)\nCaused by: java.lang.OutOfMemoryError: GC overhead limit exceeded\n\tat java.util.LinkedList.linkLast(LinkedList.java:142)\n\tat java.util.LinkedList.add(LinkedList.java:338)\n\tat org.apache.spark.sql.execution.BufferedRowIterator.append(BufferedRowIterator.java:73)\n\tat org.apache.spark.sql.catalyst.expressions.GeneratedClass$GeneratedIteratorForCodegenStage6.processNext(Unknown Source)\n\tat org.apache.spark.sql.execution.BufferedRowIterator.hasNext(BufferedRowIterator.java:43)\n\tat org.apache.spark.sql.execution.WholeStageCodegenExec$$anon$1.hasNext(WholeStageCodegenExec.scala:755)\n\tat scala.collection.Iterator$$anon$10.hasNext(Iterator.scala:460)\n\tat scala.collection.Iterator$$anon$10.hasNext(Iterator.scala:460)\n\tat scala.collection.Iterator$$anon$10.hasNext(Iterator.scala:460)\n\tat scala.collection.Iterator.foreach(Iterator.scala:943)\n\tat scala.collection.Iterator.foreach$(Iterator.scala:943)\n\tat scala.collection.AbstractIterator.foreach(Iterator.scala:1431)\n\tat org.apache.spark.graphx.EdgeRDD$.$anonfun$fromEdges$1(EdgeRDD.scala:107)\n\tat org.apache.spark.graphx.EdgeRDD$.$anonfun$fromEdges$1$adapted(EdgeRDD.scala:105)\n\tat org.apache.spark.graphx.EdgeRDD$$$Lambda$4222/1444697126.apply(Unknown Source)\n\tat org.apache.spark.rdd.RDD.$anonfun$mapPartitionsWithIndex$2(RDD.scala:915)\n\tat org.apache.spark.rdd.RDD.$anonfun$mapPartitionsWithIndex$2$adapted(RDD.scala:915)\n\tat org.apache.spark.rdd.RDD$$Lambda$3045/864922766.apply(Unknown Source)\n\tat org.apache.spark.rdd.MapPartitionsRDD.compute(MapPartitionsRDD.scala:52)\n\tat org.apache.spark.rdd.RDD.computeOrReadCheckpoint(RDD.scala:373)\n\tat org.apache.spark.rdd.RDD.iterator(RDD.scala:337)\n\tat org.apache.spark.rdd.MapPartitionsRDD.compute(MapPartitionsRDD.scala:52)\n\tat org.apache.spark.rdd.RDD.computeOrReadCheckpoint(RDD.scala:373)\n\tat org.apache.spark.rdd.RDD.$anonfun$getOrCompute$1(RDD.scala:386)\n\tat org.apache.spark.rdd.RDD$$Lambda$2279/873057403.apply(Unknown Source)\n\tat org.apache.spark.storage.BlockManager.$anonfun$doPutIterator$1(BlockManager.scala:1423)\n\tat org.apache.spark.storage.BlockManager$$Lambda$1324/1642399569.apply(Unknown Source)\n\tat org.apache.spark.storage.BlockManager.org$apache$spark$storage$BlockManager$$doPut(BlockManager.scala:1350)\n\tat org.apache.spark.storage.BlockManager.doPutIterator(BlockManager.scala:1414)\n\tat org.apache.spark.storage.BlockManager.getOrElseUpdate(BlockManager.scala:1237)\n\tat org.apache.spark.rdd.RDD.getOrCompute(RDD.scala:384)\n\tat org.apache.spark.rdd.RDD.iterator(RDD.scala:335)\n"
     ]
    },
    {
     "name": "stderr",
     "output_type": "stream",
     "text": [
      "----------------------------------------\n",
      "Exception happened during processing of request from ('127.0.0.1', 55476)\n",
      "Traceback (most recent call last):\n",
      "  File \"/opt/conda/miniconda3/lib/python3.8/socketserver.py\", line 316, in _handle_request_noblock\n",
      "    self.process_request(request, client_address)\n",
      "  File \"/opt/conda/miniconda3/lib/python3.8/socketserver.py\", line 347, in process_request\n",
      "    self.finish_request(request, client_address)\n",
      "  File \"/opt/conda/miniconda3/lib/python3.8/socketserver.py\", line 360, in finish_request\n",
      "    self.RequestHandlerClass(request, client_address, self)\n",
      "  File \"/opt/conda/miniconda3/lib/python3.8/socketserver.py\", line 747, in __init__\n",
      "    self.handle()\n",
      "  File \"/usr/lib/spark/python/pyspark/accumulators.py\", line 262, in handle\n",
      "    poll(accum_updates)\n",
      "  File \"/usr/lib/spark/python/pyspark/accumulators.py\", line 235, in poll\n",
      "    if func():\n",
      "  File \"/usr/lib/spark/python/pyspark/accumulators.py\", line 239, in accum_updates\n",
      "    num_updates = read_int(self.rfile)\n",
      "  File \"/usr/lib/spark/python/pyspark/serializers.py\", line 564, in read_int\n",
      "    raise EOFError\n",
      "EOFError\n",
      "----------------------------------------\n"
     ]
    }
   ],
   "source": [
    "# Run PageRank algorithm, and show results.\n",
    "results = g.pageRank(resetProbability=0.15, maxIter=10)"
   ]
  },
  {
   "cell_type": "code",
   "execution_count": null,
   "metadata": {
    "application/vnd.databricks.v1+cell": {
     "inputWidgets": {},
     "nuid": "9cc1d995-e196-498d-b7fc-ba0890ddf733",
     "showTitle": false,
     "title": ""
    }
   },
   "outputs": [],
   "source": [
    "start = time.time()\n",
    "top_20 = results.vertices.orderBy(F.desc(\"pagerank\")).limit(20)\n",
    "print(f'... completed job in {time.time() - start} seconds.')"
   ]
  },
  {
   "cell_type": "code",
   "execution_count": null,
   "metadata": {
    "application/vnd.databricks.v1+cell": {
     "inputWidgets": {},
     "nuid": "b8d965cb-2ec0-4b5f-99d7-6314855b1ba9",
     "showTitle": false,
     "title": ""
    }
   },
   "outputs": [],
   "source": [
    "%%time\n",
    "top_20.show()"
   ]
  },
  {
   "cell_type": "code",
   "execution_count": null,
   "metadata": {
    "application/vnd.databricks.v1+cell": {
     "inputWidgets": {},
     "nuid": "a717f3e7-d981-4473-86a9-2a88ddb820e3",
     "showTitle": false,
     "title": ""
    }
   },
   "outputs": [],
   "source": [
    "namesKV_RDD = indexRDD.map(lambda x: (int(x.split('\\t')[1]), x.split('\\t')[0]))"
   ]
  },
  {
   "cell_type": "code",
   "execution_count": null,
   "metadata": {
    "application/vnd.databricks.v1+cell": {
     "inputWidgets": {},
     "nuid": "a1698115-d79c-4bfe-be56-5fd353cc90aa",
     "showTitle": false,
     "title": ""
    }
   },
   "outputs": [],
   "source": [
    "namesKV_DF = namesKV_RDD.toDF()"
   ]
  },
  {
   "cell_type": "code",
   "execution_count": null,
   "metadata": {
    "application/vnd.databricks.v1+cell": {
     "inputWidgets": {},
     "nuid": "54c22db5-9d66-4b73-a2bf-7d430f43dd07",
     "showTitle": false,
     "title": ""
    }
   },
   "outputs": [],
   "source": [
    "namesKV_DF = namesKV_DF.withColumnRenamed('_1','id')\n",
    "namesKV_DF = namesKV_DF.withColumnRenamed('_2','title')\n",
    "namesKV_DF.take(1)"
   ]
  },
  {
   "cell_type": "code",
   "execution_count": null,
   "metadata": {
    "application/vnd.databricks.v1+cell": {
     "inputWidgets": {},
     "nuid": "f1398367-eb38-47cb-aa64-d8d5cfddccfd",
     "showTitle": false,
     "title": ""
    }
   },
   "outputs": [],
   "source": [
    "resultsWithNames = namesKV_DF.join(top_20, namesKV_DF.id==top_20.id).orderBy(F.desc(\"pagerank\")).collect()"
   ]
  },
  {
   "cell_type": "code",
   "execution_count": null,
   "metadata": {
    "application/vnd.databricks.v1+cell": {
     "inputWidgets": {},
     "nuid": "54d805ab-bb38-4448-bd5a-12375f20f4ee",
     "showTitle": false,
     "title": ""
    }
   },
   "outputs": [
    {
     "name": "stderr",
     "output_type": "stream",
     "text": [
      "Exception in thread \"serve RDD 2798\" java.net.SocketTimeoutException: Accept timed out\n",
      "\tat java.net.PlainSocketImpl.socketAccept(Native Method)\n",
      "\tat java.net.AbstractPlainSocketImpl.accept(AbstractPlainSocketImpl.java:409)\n",
      "\tat java.net.ServerSocket.implAccept(ServerSocket.java:560)\n",
      "\tat java.net.ServerSocket.accept(ServerSocket.java:528)\n",
      "\tat org.apache.spark.security.SocketAuthServer$$anon$1.run(SocketAuthServer.scala:64)\n"
     ]
    }
   ],
   "source": [
    "# TODO: use f' for string formatting\n",
    "print(\"{:10s}\\t| {:10s}\\t| {}\".format(\"PageRank\",\"Page id\",\"Title\"))\n",
    "print(\"=\"*100)\n",
    "for r in resultsWithNames:\n",
    "    print (\"{:6f}\\t| {:10s}\\t| {}\".format(r[3],r[2],r[1]))"
   ]
  },
  {
   "cell_type": "markdown",
   "metadata": {
    "application/vnd.databricks.v1+cell": {
     "inputWidgets": {},
     "nuid": "98b2af00-56fb-40ff-b18d-05186ea2e18a",
     "showTitle": false,
     "title": ""
    }
   },
   "source": [
    "Our RDD implementaion takes about 35 minutes, whereas the GraphFrame one takes around 8 minutes. GraphFrames doesn't normalize the ranks."
   ]
  },
  {
   "cell_type": "markdown",
   "metadata": {
    "application/vnd.databricks.v1+cell": {
     "inputWidgets": {},
     "nuid": "283e566b-62ce-4cbf-a596-61af41a10cf4",
     "showTitle": false,
     "title": ""
    }
   },
   "source": [
    "### Congratulations, you have completed HW5! Please refer to the readme for submission instructions.\n",
    "\n",
    "If you would like to provide feedback regarding this homework, please use the survey at: https://docs.google.com/forms/d/e/1FAIpQLSce9feiQeSkdP43A0ZYui1tMGIBfLfzb0rmgToQeZD9bXXX8Q/viewform"
   ]
  },
  {
   "cell_type": "code",
   "execution_count": null,
   "metadata": {
    "application/vnd.databricks.v1+cell": {
     "inputWidgets": {},
     "nuid": "c8c9a12e-fe1e-4456-bcb2-001e3f673bbe",
     "showTitle": false,
     "title": ""
    }
   },
   "outputs": [],
   "source": []
  }
 ],
 "metadata": {
  "application/vnd.databricks.v1+notebook": {
   "dashboards": [],
   "language": "python",
   "notebookMetadata": {
    "pythonIndentUnit": 4
   },
   "notebookName": "hw5_workbook",
   "notebookOrigID": 2232281932179490,
   "widgets": {}
  },
  "kernelspec": {
   "display_name": "Python 3 (ipykernel)",
   "language": "python",
   "name": "python3"
  },
  "language_info": {
   "codemirror_mode": {
    "name": "ipython",
    "version": 3
   },
   "file_extension": ".py",
   "mimetype": "text/x-python",
   "name": "python",
   "nbconvert_exporter": "python",
   "pygments_lexer": "ipython3",
   "version": "3.10.2"
  },
  "toc-autonumbering": true
 },
 "nbformat": 4,
 "nbformat_minor": 4
}
