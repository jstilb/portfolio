{
 "cells": [
  {
   "cell_type": "markdown",
   "metadata": {},
   "source": [
    "# HW1 - Intro to the Map Reduce Paradigm  \n",
    "__ `MIDS w261: Machine Learning at Scale | UC Berkeley School of Information | Spring 2018`__\n",
    "\n",
    "Welcome to Machine Learning at Scale! This first homework assignment introduces one of the core strategies in distributed processing: divide and conquer. We'll use the simplest of tasks, word counting, to illustrate the difference between a scalable and non-scalable algorithm. You will be working with the text of _Alice in Wonderland_ to put these ideas into practice using Python and Bash scripting. By the end of this week you should be able to:\n",
    "* ... __describe__ the Bias-Variance tradeoff as it applies to Machine Learning.\n",
    "* ... __explain__ why we consider word counting to be an \"Embarrassingly Parallel\" task.\n",
    "* ... __estimate__ the runtime of embarrassingly parallel tasks using \"back of the envelope\" calculations.\n",
    "* ... __implement__ a Map Reduce algorithm using the Command Line.\n",
    "* ... __set-up__ a Docker container and know why we use them for this course.\n",
    "\n",
    "You will also  become familiar (if you aren't already) with `defaultdict`, `re` and `time` in Python, linux piping and sorting, and Jupyter magic commands `%%writefile` and `%%timeit`. __Please refer to the `README` for detailed submission instructions__.\n",
    "\n",
    "__IMPORTANT:__ If you're not familiar with linux, you should read the following tutorial reagrding **piping** and **redirecting**: https://ryanstutorials.net/linuxtutorial/piping.php You will need to understand the differences to answer some of the later questions.\n"
   ]
  },
  {
   "cell_type": "markdown",
   "metadata": {},
   "source": [
    "# Notebook Set-Up\n",
    "Before starting your homework run the following cells to confirm your setup."
   ]
  },
  {
   "cell_type": "code",
   "execution_count": 1,
   "metadata": {},
   "outputs": [
    {
     "name": "stdout",
     "output_type": "stream",
     "text": [
      "/media/notebooks/student-workspace/Assignments/HW1\n"
     ]
    }
   ],
   "source": [
    "# Fix the working directory with the location of your Notebook\n",
    "%cd /media/notebooks/student-workspace/Assignments/HW1"
   ]
  },
  {
   "cell_type": "code",
   "execution_count": 2,
   "metadata": {},
   "outputs": [
    {
     "data": {
      "text/plain": [
       "sys.version_info(major=3, minor=8, micro=13, releaselevel='final', serial=0)"
      ]
     },
     "execution_count": 2,
     "metadata": {},
     "output_type": "execute_result"
    }
   ],
   "source": [
    "# confirm you are running Python 3\n",
    "import sys\n",
    "sys.version_info"
   ]
  },
  {
   "cell_type": "code",
   "execution_count": 4,
   "metadata": {},
   "outputs": [],
   "source": [
    "# imports\n",
    "import re\n",
    "import sys"
   ]
  },
  {
   "cell_type": "markdown",
   "metadata": {},
   "source": [
    "Create a folder for any data you download locally."
   ]
  },
  {
   "cell_type": "code",
   "execution_count": 6,
   "metadata": {},
   "outputs": [],
   "source": [
    "# No longer needed\n",
    "# !mkdir -p data\n",
    "# NOTE: the contents of this directory will be ignored by git."
   ]
  },
  {
   "cell_type": "markdown",
   "metadata": {},
   "source": [
    "# Question 1: Introductions\n",
    "\n",
    "`The Caterpillar and Alice looked at each other for some time in silence: at last the Caterpillar took the hookah out of its mouth, and addressed her in a languid, sleepy voice. \"Who are you?\" said the Caterpillar.`   \n",
    "<div style=\"text-align: right\"> -- Lewis Carroll, _Alice's Adventures in Wonderland_, Chapter 4 </div>\n",
    "\n",
    "\n",
    "__Tell us about yourself! Briefly describe where you live, how far along you are in MIDS, what other classes you are taking and what you want to get out of w261.__"
   ]
  },
  {
   "cell_type": "markdown",
   "metadata": {},
   "source": [
    "> My name is John-Michael Stilb, though I go by Jm. I'm in my last year of MIDS (3 courses left including this one and my capstone). I'm currently only taking 261, but just completed 255. Ii'm taking 261, because I would like to better understand the infrastructure behind real-world machine learning, specifically how companies tackle big data problems. I would eventually like to build my own ML applications and believe this course will help round out my education."
   ]
  },
  {
   "cell_type": "markdown",
   "metadata": {},
   "source": [
    "# Question 2: Bias - Variance\n",
    "__In 1-2 paragraphs (~200 and _absolutely no more_ than 300 words!), explain the bias-variance trade off. Describe what it means to \"decompose\" sources of error. How is this used in machine learning?__ Please use mathematical equation(s) to support your explanation. (Use `$` signs to take advantage of $\\LaTeX$ formatting, eg. `$f(x)$` will look like: $f(x)$). Please also cite any sources that informed your answer."
   ]
  },
  {
   "cell_type": "markdown",
   "metadata": {},
   "source": [
    "> The bias-variance tradeoff is a tradeoff between underfitting and overfitting. An overfit model has low bias, but high variance. This typically occurs when we add in excess complexity, causing our model to to rigidly adhere to the noise of the training data reducing its generalizability. An underfit model has high bias, and low variance. This typically occurs when we use an overly simple model, inhibiting its ability to learn the nuances of the training data. \n",
    "\n",
    "> There are several sources of error: irreducible error and reducible error. Irreducible error is the inherent uncertainty which we typically associate with the natural variability in a system ($E[(y' - f(x'))^2$). Reducible error ($E=bias^2 + var$) can further be decomposed into error due to bias (often squared to avoid negative numbers and give additional weight to larger errors) and error due to variance. The error due to bias is the amount by which our expected model prediction differs from the true value over the training data ($E[h(x')] - f(x')$). The error due to variance is the amount by which our predictions differ from one training set to another ($E[(h(x')] - E[h(x')])^2$). In machine learning, we use bootstrap sampling (simulating multiple training sets) to estimate our variance and calculate the bias of our model selection to balance complexity and minimize the overall error of our model. "
   ]
  },
  {
   "cell_type": "markdown",
   "metadata": {},
   "source": [
    "# Question 3: Tokenizing\n",
    "A number of our assignments this term will involve extracting information from text. A common preprocessing step when working with raw files is to 'tokenize' (i.e. extract words from) the text. Within the field of Natural Language Processing a lot of thought goes into what specific tokenizing makes most sense for a given task. For example, you might choose to remove punctuation or to consider punctuation symbols  'tokens' in their own right. __In this question you'll use the Python `re` module to create a tokenizer to use when you perform WordCount on the _Alice In Wonderland_ text.__\n",
    "\n",
    "### Q3 Tasks:\n",
    "\n",
    "* __a) short response:__ In the Naive Bayes algorithm (which we'll implement next week), we'll estimate the _likelihood_ of a word by counting the number of times it appears and dividing by the size of the vocabulary (total number of unique words). Using the text: *\"Alice had an adventure that took alice to wonderland\"*, give a concrete example of how two different tokenizers could cause us to get two different results on this calculation. [`HINT`: _you should not need to read up on Naive Bayes to answer this question_]  \n",
    "  \n",
    "\n",
    "* __b) short response:__ When tokenizing in this assignment we'll remove punctuation and discard numerical digits by making everything lowercase and then capturing only consecutive letters a to z. Suppose __`tokenize(x)`__ is a Python function that performs the desired tokenization. What would __`tokenize(\"By-the-bye, what became of Alice's 12 hats?!\")`__ output? Type the answer in the space provided below.\n",
    "\n",
    "\n",
    "* __c) code:__  Fill in the regular expression pattern in the cell labeled `part c` so that the subsequent call to `re.findall(RE_PATTERN, ...)` returns the tokenization described above. [`HINT`: _we've taken care of the lowercase part for you. If regex is new to you, check out the [`re`  documentation](https://docs.python.org/3/library/re.html) or [this PyMOTW tutorial](https://pymotw.com/2/re/)._]"
   ]
  },
  {
   "cell_type": "markdown",
   "metadata": {},
   "source": [
    "### Q3 Student Answers:\n",
    "> __a)__ If we were to use a tokenizer that takes into account capitalization, we would get two distinct probabilities for the words \"Alice\" and \"alice\". However, if we used a tokenizer that removed capitalization we would only get one probability for the words \"Alice\" and \"alice\" under the token of \"alice\". \n",
    "\n",
    "> __b)__ \n",
    "['by', 'the', 'bye', 'what', 'became', 'of', 'alice', 's', 'hats']"
   ]
  },
  {
   "cell_type": "code",
   "execution_count": 19,
   "metadata": {
    "tags": []
   },
   "outputs": [],
   "source": [
    "# Part C - Fill in the regular expression\n",
    "RE_PATTERN = re.compile(r'[a-z]+')          "
   ]
  },
  {
   "cell_type": "code",
   "execution_count": 20,
   "metadata": {
    "tags": []
   },
   "outputs": [
    {
     "name": "stdout",
     "output_type": "stream",
     "text": [
      "['by', 'the', 'bye', 'what', 'became', 'of', 'alice', 's', 'hats']\n"
     ]
    }
   ],
   "source": [
    "# Tokenize - DO NOT MODIFY THIS CELL, just run it as is to check your pattern\n",
    "words = re.findall(RE_PATTERN, \"By-the-bye, what became of Alice's 12 hats?!\".lower())\n",
    "print(words)"
   ]
  },
  {
   "cell_type": "markdown",
   "metadata": {},
   "source": [
    "# Load the Data\n",
    "` \"Please would you tell me\", said Alice, a little timidly, for she was not quite sure whether it was good manners for her to speak first, \"why your cat grins like that?\"`  \n",
    "<div style=\"text-align: right\">  -- Lewis Carroll, _Alice's Adventures in Wonderland_, Chapter 4  </div>\n",
    "\n",
    "For the main part of this assignment we'll be working with the free plain text version of _Alice's Adventures in Wonderland_ available from Project Gutenberg. __Use the first two cells below to download this text and preview the first few lines.__ "
   ]
  },
  {
   "cell_type": "code",
   "execution_count": 9,
   "metadata": {
    "tags": []
   },
   "outputs": [],
   "source": [
    "# No longer need to download data\n",
    "# Download Full text \n",
    "# NOTE: feel free to replace 'curl' with 'wget' or equivalent command of your choice.\n",
    "# !curl \"http://www.gutenberg.org/files/11/11-0.txt\" -o data/alice.txt"
   ]
  },
  {
   "cell_type": "code",
   "execution_count": 16,
   "metadata": {},
   "outputs": [
    {
     "name": "stdout",
     "output_type": "stream",
     "text": [
      "﻿The Project Gutenberg eBook of Alice’s Adventures in Wonderland, by Lewis Carroll\n",
      "\n",
      "This eBook is for the use of anyone anywhere in the United States and\n",
      "most other parts of the world at no cost and with almost no restrictions\n",
      "whatsoever. You may copy it, give it away or re-use it under the terms\n",
      "of the Project Gutenberg License included with this eBook or online at\n"
     ]
    }
   ],
   "source": [
    "# Take a peak at the first few lines\n",
    "!head -n 6 data/alice.txt\n",
    "# NOTE: If you are working in JupyterLab on Docker you may not see the output \n",
    "# below due to an encoding issue... in that case, use a terminal on Docker to \n",
    "# execute this head command and confirm that the file has downloaded properly, \n",
    "# this encoding issue should not affect your work on subsequent HW items."
   ]
  },
  {
   "cell_type": "markdown",
   "metadata": {},
   "source": [
    "We'd also like you to develop a habit of creating small files with simulated data for use in developing, debugging and testing your code. The jupyter magic command `%%writefile` is a convenient way to do this. __Run the following cells to create a test data file for use in our word counting task.__"
   ]
  },
  {
   "cell_type": "code",
   "execution_count": 17,
   "metadata": {},
   "outputs": [
    {
     "name": "stdout",
     "output_type": "stream",
     "text": [
      "Writing data/alice_test.txt\n"
     ]
    }
   ],
   "source": [
    "%%writefile data/alice_test.txt\n",
    "This is a small test file. This file is for a test.\n",
    "This small test file has two small lines."
   ]
  },
  {
   "cell_type": "code",
   "execution_count": 18,
   "metadata": {},
   "outputs": [
    {
     "name": "stdout",
     "output_type": "stream",
     "text": [
      "alice_test.txt\n"
     ]
    }
   ],
   "source": [
    "# confirm the file was created in the data directory using a grep command:\n",
    "!ls data | grep test"
   ]
  },
  {
   "cell_type": "markdown",
   "metadata": {},
   "source": [
    "# Question 4: Word Count in Python\n",
    "\n",
    "Over the course of this term you will also become very familiar writing Python programs that read from standard input and using Linux piping commands to run these programs and save their output to file. __In this question you will write a short python script to perform the Word Count task and then run your script on the _Alice in Wonderland_ text__. You can think of this like a 'baseline implementation' that we'll later compare to the parallelized version of the same task.\n",
    "\n",
    "### Q4 Tasks:\n",
    "\n",
    "* __a) code:__ Complete the Python script in the file __`wordCount.py`__. Read the docstrings carefully to be sure you understand the expected behavior of this function. Please do not code outside of the marked location.\n",
    "\n",
    "\n",
    "* __b) testing:__ Run the cell marked `part b` to call your script on the test file we created above. Confirm that your script returns the correct counts for each word by visually comparing the output to the test file. \n",
    "\n",
    "\n",
    "* __c) results:__ When you are confident in your implementation, run the cell marked `part c` to count the number of occurrences of each word in _Alice's Adventures in Wonderland_. In the same cell we'll pipe the output to file. Then use the provided `grep` commands to check your answers.\n",
    "\n",
    "\n",
    "* __d) short response:__ Suppose you decide that you'd really like  a word and its plural (e.g. 'hatter' and 'hatters' or 'person' and 'people') to be counted as the same word. After we have run the wordcount would it be more efficient to post-process your output file or discard your output file and start the analysis over with a new tokenizer? Explain your reasoning briefly. "
   ]
  },
  {
   "cell_type": "markdown",
   "metadata": {},
   "source": [
    "### Q4 Student Answers:\n",
    "> __a-c)__ _Complete the coding portions of this question before answering 'd'._\n",
    "\n",
    "> __d)__ It would be more efficient to start over with a new tokenizer that removes plural endings. If we were to try and post-process our results, we would need to consider every single word and its plural ending instead of including this in our regex pattern and letting our function do all of the work. There will still likely need to be some post-processing as some words that ending in \"s\" or \"es\" may not actually be plural, but we'd likely still be able to quickly identify what these words actually are. "
   ]
  },
  {
   "cell_type": "code",
   "execution_count": null,
   "metadata": {
    "collapsed": true,
    "jupyter": {
     "outputs_hidden": true
    }
   },
   "outputs": [],
   "source": [
    "# part a - DO YOUR WORK IN wordCount.py"
   ]
  },
  {
   "cell_type": "code",
   "execution_count": 64,
   "metadata": {},
   "outputs": [
    {
     "name": "stdout",
     "output_type": "stream",
     "text": [
      "#!/usr/bin/env python\n",
      "\"\"\"\n",
      "This script reads lines from STDIN and returns a list of\n",
      "all words an the count of how many times they occurred.\n",
      "\n",
      "INPUT:\n",
      "    a text file\n",
      "OUTPUT FORMAT:\n",
      "    word \\t count\n",
      "USAGE:\n",
      "    python wordCount.py < yourTextFile.txt\n",
      "\n",
      "Instructions:\n",
      "    Fill in the missing code below so that the script\n",
      "    prints tab separated word counts to Standard Output.\n",
      "    NOTE: we have performed the tokenizing for you, please\n",
      "    don't modify the provided code or you may fail unittests.\n",
      "\"\"\"\n",
      "\n",
      "# imports\n",
      "import sys\n",
      "import re\n",
      "from collections import defaultdict\n",
      "\n",
      "counts = defaultdict(int)\n",
      "\n",
      "# stream over lines from Standard Input\n",
      "for line in sys.stdin:\n",
      "\n",
      "    # tokenize\n",
      "    line = line.strip()\n",
      "    words = re.findall(r'[a-z]+', line.lower())\n",
      "\n",
      "############ YOUR CODE HERE #########\n",
      "\n",
      "    # updates count of each word in counts dict\n",
      "    for word in words:\n",
      "        counts[word] += 1\n",
      "    \n",
      "# prints word \\t count\n",
      "for key in counts:\n",
      "    print(f\"{key} \\t {counts[key]}\")\n",
      "\n",
      "\n",
      "############ (END) YOUR CODE #########\n"
     ]
    }
   ],
   "source": [
    "# part a - DO NOT MODIFY THIS CELL - run this cell after you \n",
    "# complete wordCount.py so the graders can view your work\n",
    "!cat wordCount.py"
   ]
  },
  {
   "cell_type": "code",
   "execution_count": 58,
   "metadata": {},
   "outputs": [
    {
     "name": "stdout",
     "output_type": "stream",
     "text": [
      "this \t 3\n",
      "is \t 2\n",
      "a \t 2\n",
      "small \t 3\n",
      "test \t 3\n",
      "file \t 3\n",
      "for \t 1\n",
      "has \t 1\n",
      "two \t 1\n",
      "lines \t 1\n"
     ]
    }
   ],
   "source": [
    "# part b - DO NOT MODIFY THIS CELL, just run it as is to test your script\n",
    "!python wordCount.py < data/alice_test.txt"
   ]
  },
  {
   "cell_type": "code",
   "execution_count": 59,
   "metadata": {},
   "outputs": [],
   "source": [
    "# part c - DO NOT MODIFY THIS CELL, just run it as is to perform the word count.\n",
    "!python wordCount.py < data/alice.txt > data/alice_counts.txt"
   ]
  },
  {
   "cell_type": "markdown",
   "metadata": {},
   "source": [
    "Take a look at the first 10 words & their counts."
   ]
  },
  {
   "cell_type": "code",
   "execution_count": 60,
   "metadata": {},
   "outputs": [
    {
     "name": "stdout",
     "output_type": "stream",
     "text": [
      "the \t 1839\n",
      "project \t 88\n",
      "gutenberg \t 98\n",
      "ebook \t 13\n",
      "of \t 638\n",
      "alice \t 403\n",
      "s \t 222\n",
      "adventures \t 11\n",
      "in \t 435\n",
      "wonderland \t 7\n"
     ]
    }
   ],
   "source": [
    "!head data/alice_counts.txt"
   ]
  },
  {
   "cell_type": "markdown",
   "metadata": {},
   "source": [
    "__Check your results:__ How many times does the word \"alice\" appear in the book? "
   ]
  },
  {
   "cell_type": "code",
   "execution_count": 61,
   "metadata": {},
   "outputs": [
    {
     "name": "stdout",
     "output_type": "stream",
     "text": [
      "alice \t 403\n"
     ]
    }
   ],
   "source": [
    "# EXPECTED OUTPUT: 404\n",
    "!grep alice data/alice_counts.txt"
   ]
  },
  {
   "cell_type": "markdown",
   "metadata": {},
   "source": [
    "__Check your results:__ How many times does the word \"hatter\" appear in the book? "
   ]
  },
  {
   "cell_type": "code",
   "execution_count": 62,
   "metadata": {},
   "outputs": [
    {
     "name": "stdout",
     "output_type": "stream",
     "text": [
      "hatter \t 56\n",
      "hatters \t 1\n"
     ]
    }
   ],
   "source": [
    "# EXPECTED OUTPUT: 56\n",
    "!grep hatter data/alice_counts.txt"
   ]
  },
  {
   "cell_type": "markdown",
   "metadata": {},
   "source": [
    "__Check your results:__ How many times does the word \"queen\" appear in the book? "
   ]
  },
  {
   "cell_type": "code",
   "execution_count": 63,
   "metadata": {},
   "outputs": [
    {
     "name": "stdout",
     "output_type": "stream",
     "text": [
      "queen \t 76\n",
      "queens \t 1\n"
     ]
    }
   ],
   "source": [
    "# EXPECTED OUTPUT: 76\n",
    "!grep queen data/alice_counts.txt"
   ]
  },
  {
   "cell_type": "markdown",
   "metadata": {},
   "source": [
    "# Question 5: Unix Sorting Practice\n",
    "Another common task in this course's assignments will be to make strategic use of sorting.     \n",
    "\n",
    "### Q5 Tasks:\n",
    "* __a) short response:__ What is the Big O complexity of the fastest comparison based sorting algorithms? [*HINT: If you need a Big O notation refresher, here's_ a [blog post](https://rob-bell.net/2009/06/a-beginners-guide-to-big-o-notation/), a [cheatsheet](http://bigocheatsheet.com), and a [thorough explanation](http://pages.cs.wisc.edu/~vernon/cs367/notes/3.COMPLEXITY.html).*]\n",
    "\n",
    "* __b) short response:__ What is the default sorting algorithm in MapReduce? What is the Big O complexity of this algorithm? Why do you think this algorithm was chosen? [*HINT: Julius Ceasar! (week 1 slides)*]\n",
    "\n",
    "* __c) code:__ write a unix command to check how many records are in your word count file.\n",
    "\n",
    "* __d) code:__ Write a unix command to sort your word count file alphabetically. Save (i.e. [redirect](https://superuser.com/questions/277324/pipes-vs-redirects)) the results to `data/alice_counts_A-Z.txt`. [*HINT: if Unix sort commands are new to you, start with [this biowize blogpost](https://biowize.wordpress.com/2015/03/13/unix-sort-sorting-with-both-numeric-and-non-numeric-keys/) or [this unixschool tutorial](http://www.theunixschool.com/2012/08/linux-sort-command-examples.html)*]\n",
    "\n",
    "* __e) code:__ Write a unix command to sort your word count file from highest to lowest count. Save (i.e. [redirect](https://superuser.com/questions/277324/pipes-vs-redirects)) your results to `data/alice_counts_sorted.txt`; then run the provided cell to print the top ten words. Compare your output to the expected output we provide."
   ]
  },
  {
   "cell_type": "markdown",
   "metadata": {},
   "source": [
    "### Q5 Student Answers:\n",
    "> __a)__ Merge sort and quick sort are two of the fastest comparison-based sorting algorithms. Both have an a best case performance of $O(nlogn)$, but merge sort also has a worst case of $O(nlogn)$ while quick sort has a worst case of $O(n^2)$. The spatial complexity for both average around $O(n)$. \n",
    "\n",
    "> __b)__ Merge sort is the default sorting algorithm for MapReduce. It has a best, avg, and worst case time complexity of $O(nlogn)$ and an avg spatial complexity of $O(n)$. Merge sort uses a divide and conquer strategy that is embarrassingly parallel meaning it is an ideal choice for MapReduce. \n",
    "\n"
   ]
  },
  {
   "cell_type": "code",
   "execution_count": 5,
   "metadata": {},
   "outputs": [
    {
     "name": "stdout",
     "output_type": "stream",
     "text": [
      "3006 data/alice_counts.txt\n"
     ]
    }
   ],
   "source": [
    "# part c - write a unix command to check how many records are in your word count file\n",
    "!wc -l data/alice_counts.txt"
   ]
  },
  {
   "cell_type": "code",
   "execution_count": 12,
   "metadata": {
    "tags": []
   },
   "outputs": [],
   "source": [
    "# part d - unix command to sort your word counts alphabetically \n",
    "!sort data/alice_counts.txt > data/alice_counts_A-Z.txt"
   ]
  },
  {
   "cell_type": "code",
   "execution_count": 13,
   "metadata": {},
   "outputs": [
    {
     "name": "stdout",
     "output_type": "stream",
     "text": [
      "a \t 695\n",
      "abide \t 2\n",
      "able \t 1\n",
      "about \t 102\n",
      "above \t 3\n",
      "absence \t 1\n",
      "absurd \t 2\n",
      "accept \t 1\n",
      "acceptance \t 1\n",
      "accepted \t 2\n"
     ]
    }
   ],
   "source": [
    "# part d - DO NOT MODIFY THIS CELL, run it as is to confirm your sort worked\n",
    "!head data/alice_counts_A-Z.txt   "
   ]
  },
  {
   "cell_type": "code",
   "execution_count": 20,
   "metadata": {},
   "outputs": [],
   "source": [
    "# part e - unix command to sort your word counts from highest to lowest count\n",
    "!sort -nrk2 data/alice_counts.txt > data/alice_counts_sorted.txt"
   ]
  },
  {
   "cell_type": "code",
   "execution_count": 21,
   "metadata": {},
   "outputs": [
    {
     "name": "stdout",
     "output_type": "stream",
     "text": [
      "the \t 1839\n",
      "and \t 942\n",
      "to \t 811\n",
      "a \t 695\n",
      "of \t 638\n",
      "it \t 610\n",
      "she \t 553\n",
      "i \t 546\n",
      "you \t 486\n",
      "said \t 462\n"
     ]
    }
   ],
   "source": [
    "# part e - DO NOT MODIFY THIS CELL, run it as is to confirm your sort worked\n",
    "!head data/alice_counts_sorted.txt  "
   ]
  },
  {
   "cell_type": "markdown",
   "metadata": {},
   "source": [
    "<table>\n",
    "<th>expected output for (d):</th>\n",
    "<th>expected output for (e):</th>\n",
    "<tr><td><pre>\n",
    "a\t695\n",
    "abide\t2\n",
    "able\t1\n",
    "about\t102\n",
    "above\t3\n",
    "absence\t1\n",
    "absurd\t2\n",
    "accept\t1\n",
    "acceptance\t1\n",
    "accepted\t2\n",
    "</pre></td>\n",
    "<td><pre>\n",
    "the\t1837\n",
    "and\t946\n",
    "to\t811\n",
    "a\t695\n",
    "of\t637\n",
    "it\t610\n",
    "she\t553\n",
    "i\t546\n",
    "you\t487\n",
    "said\t462\n",
    "</pre></td></tr>\n",
    "</table>"
   ]
  },
  {
   "cell_type": "markdown",
   "metadata": {},
   "source": [
    "# Question 6: Parallel Word Count (part 1)\n",
    "What would happen if we tried to run our script on a much larger dataset? For one thing, it would take longer to run. However there is a second concern. The Python object that aggregates our counts (`defaultdict`) exists in memory on the machine running this notebook. If the vocabulary is too large for the memory space available we would crash the notebook. The solution? Divide and Conquer! Instead of running the script on the whole dataset at once, we could split our text up in to smaller 'chunks' and process them independently of each other. __In this question you'll use a bash script to \"parallelize\" your Word Count.__\n",
    "\n",
    "\n",
    "### Q6 Tasks:\n",
    "* __a) read provided code:__ The bash script `pWordCount_v1.sh` takes an input file, splits it into a specified number of 'chunks', and then applies an executable of your choice to each chunk. Read through this code and make sure you understand each line before you proceed. [`HINT:` _For now, ignore the 'student code' section -- you'll use that in part c._]\n",
    "\n",
    "\n",
    "* __b) short response:__ Below we've provided the command to use this script to apply your analysis (`wordCount.py`) to the _Alice_ text in 4 parallel processes. We'll redirect the results into a file called `alice_pCounts.txt.` Run this analysis and compare the count for the word 'alice' to your answer from Question 4. Explain what went wrong and describe what we have to add to `pWordCount_v1.sh` to fix the problem.\n",
    "\n",
    "\n",
    "* __c) code:__ We've provided a python script, `aggregateCounts_v1.py`, which reads word counts from standard input and combines any duplicates it encounters. Read through this script to be sure you understand how it is written. Then follow the instructions in `pWordCount_v1.sh` to make a one-line modification so that it accepts `aggregateCounts_v1.py` as a 4th argument and uses this script to combine the chunk-ed word counts. Run the cell below to confirm that you now get the correct results for your 'alice' count."
   ]
  },
  {
   "cell_type": "markdown",
   "metadata": {},
   "source": [
    "### Q6 Student Answers:\n",
    "> __b)__ There is currently no reducer meaning we aren't aggregating the counts of the same word from our different chunks. To ensure we get the correct count for each word we need to add a reducing function that combines the counts for the same word from our different chunks."
   ]
  },
  {
   "cell_type": "code",
   "execution_count": 5,
   "metadata": {},
   "outputs": [],
   "source": [
    "# part b - make sure your scripts are executable (RUN THIS CELL AS IS)\n",
    "!chmod a+x pWordCount_v1.sh\n",
    "!chmod a+x wordCount.py"
   ]
  },
  {
   "cell_type": "code",
   "execution_count": 6,
   "metadata": {},
   "outputs": [],
   "source": [
    "# part b - parallel word count on Alice text (RUN THIS CELL AS IS)\n",
    "!./pWordCount_v1.sh 4 'data/alice.txt' 'wordCount.py' > 'data/alice_pCounts.txt'"
   ]
  },
  {
   "cell_type": "code",
   "execution_count": 7,
   "metadata": {},
   "outputs": [
    {
     "name": "stdout",
     "output_type": "stream",
     "text": [
      "alice \t 113\n",
      "alice \t 126\n",
      "alice \t 122\n",
      "alice \t 42\n"
     ]
    }
   ],
   "source": [
    "# part b - check alice count (RUN THIS CELL AS IS)\n",
    "!grep alice data/alice_pCounts.txt"
   ]
  },
  {
   "cell_type": "code",
   "execution_count": 8,
   "metadata": {},
   "outputs": [],
   "source": [
    "# part c - make sure the aggregateCounts script is executable (RUN THIS CELL AS IS)\n",
    "!chmod a+x aggregateCounts_v1.py"
   ]
  },
  {
   "cell_type": "code",
   "execution_count": 9,
   "metadata": {},
   "outputs": [
    {
     "name": "stdout",
     "output_type": "stream",
     "text": [
      "#!/bin/bash\n",
      "# pWordCount.sh\n",
      "# Author: James G. Shanahan\n",
      "# Usage: pWordCount.sh m testFile.txt mapper.py [reducer.py]\n",
      "# Input:\n",
      "#   m = number of processes (maps), e.g., 4\n",
      "#   inputFile = a text input file\n",
      "#   mapper = an executable that reads from STDIN and prints to STDOUT\n",
      "#   reducer = (optional) an executable that reads from STDIN and prints \n",
      "#             to STDOUT, if no reducer is provided, the framework will\n",
      "#             simply stream the mapper output.\n",
      "#\n",
      "# Instructions:\n",
      "#    For Q6a - Read this script and its comments closely. Ignore the\n",
      "#              part marked \"Otherwise\" in STEP 3, you'll use that later.\n",
      "#    For Q6c - Add a single line of code under '#Q6c' in STEP 3 so that\n",
      "#              the script pipes the output of each chunk's word countfiles\n",
      "#              into the second executable script provided as an argument,\n",
      "#              Note that we saved the script name (which was the 4th arg)\n",
      "#              to the variable $reducer. It can be executed by piping the\n",
      "#              counts to './$reducer' -- don't forget to redirect the output\n",
      "#              of this second script into $data.output\n",
      "\n",
      "# --------------------------------------------------------------------\n",
      "\n",
      "usage()\n",
      "{\n",
      "    echo ERROR: No arguments supplied\n",
      "    echo\n",
      "    echo To run use\n",
      "    echo \"pWordCount.sh m inputFile mapper.py [reducer.py]\"\n",
      "    echo Input:\n",
      "    echo \"number of processes/maps, EG, 4\"\n",
      "    echo \"mapper.py = an executable script to apply to each chunk in parallel\"\n",
      "    echo \"reducer.py = an executable script after the parallel processes are complete.\"\n",
      "    echo NOTE: if no reducer is supplied, we will simply combine the output files.\n",
      "}\n",
      "\n",
      "\n",
      "# print the usage message if this script is called without required args\n",
      "if [ $# -lt 3 ]\n",
      "  then\n",
      "    usage\n",
      "    exit 1\n",
      "fi\n",
      "\n",
      "# collect the arguments\n",
      "m=$1\n",
      "data=$2\n",
      "mapper=$3\n",
      "\n",
      "\n",
      "################# STEP 1: Split up the data #################\n",
      "# 'wc' determines the number of lines in the data\n",
      "# 'perl -pe' regex strips the piped wc output to a number\n",
      "linesindata=`wc -l $data | perl -pe 's/^.*?(\\d+).*?$/$1/'`\n",
      "\n",
      "# determine the lines per chunk for the desired number of processes\n",
      "linesinchunk=`echo \"$linesindata/$m+1\" | bc`\n",
      "\n",
      "# split the original file into chunks by line\n",
      "split -l $linesinchunk $data $data.chunk.\n",
      "\n",
      "\n",
      "############## STEP 2: Process in \"Parallel\" #################\n",
      "for datachunk in $data.chunk.*; do\n",
      "    # redirect the lines of text into the user supplied executable (mapper)\n",
      "    # and redirect STDOUT to a temporary file on disk\n",
      "    ./$mapper < $datachunk> $datachunk.counts &\n",
      "done\n",
      "# wait for the mappers to finish their work\n",
      "wait\n",
      "\n",
      "\n",
      "\n",
      "\n",
      "\n",
      "############## STEP 3: Collect the results #################\n",
      "# 'ls' makes a list of the temporary count files\n",
      "# 'perl -pe' regex replaces line breaks with spaces\n",
      "countfiles=`\\ls $data.chunk.*.counts | perl -pe 's/\\n/ /'`\n",
      "\n",
      "# If no 'reducer' executable was provided ...\n",
      "if [ $# -eq 3 ]\n",
      "  then\n",
      "    # combine all the count files into one\n",
      "    cat $countfiles > $data.output\n",
      "fi\n",
      "\n",
      "# Otherwise...\n",
      "if [ $# -eq 4 ]\n",
      "  then\n",
      "    reducer=$4\n",
      "    ################ YOUR CODE HERE #############\n",
      "    cat $countfiles | ./$reducer > $data.output\n",
      "\n",
      "\n",
      "    ################# (END YOUR CODE)###########\n",
      "fi\n",
      "\n",
      "\n",
      "############## STEP 4: Final Output #################\n",
      "# clean up the data chunks and temporary count files\n",
      "\\rm $data.chunk.*\n",
      "# display the content of the output file:\n",
      "cat $data.output\n",
      "\n",
      "exit"
     ]
    }
   ],
   "source": [
    "# part c - DO NOT MODIFY THIS CELL - run this cell after you \n",
    "# complete pWordCount_v1.sh so the graders can view your work\n",
    "!cat pWordCount_v1.sh"
   ]
  },
  {
   "cell_type": "code",
   "execution_count": 10,
   "metadata": {},
   "outputs": [],
   "source": [
    "# part c - parallel word count on Alice text (RUN THIS CELL AS IS)\n",
    "!./pWordCount_v1.sh 4 'data/alice.txt' \\\n",
    "                   'wordCount.py' \\\n",
    "                   'aggregateCounts_v1.py' \\\n",
    "                   > 'data/alice_pCounts.txt'"
   ]
  },
  {
   "cell_type": "code",
   "execution_count": 11,
   "metadata": {},
   "outputs": [
    {
     "name": "stdout",
     "output_type": "stream",
     "text": [
      "alice\t403\n"
     ]
    }
   ],
   "source": [
    "# part c - check alice count (RUN THIS CELL AS IS)\n",
    "!grep alice data/alice_pCounts.txt"
   ]
  },
  {
   "cell_type": "code",
   "execution_count": 68,
   "metadata": {
    "tags": []
   },
   "outputs": [
    {
     "name": "stdout",
     "output_type": "stream",
     "text": [
      "SORT(1)                          User Commands                         SORT(1)\n",
      "\n",
      "NAME\n",
      "       sort - sort lines of text files\n",
      "\n",
      "SYNOPSIS\n",
      "       sort [OPTION]... [FILE]...\n",
      "       sort [OPTION]... --files0-from=F\n",
      "\n",
      "DESCRIPTION\n",
      "       Write sorted concatenation of all FILE(s) to standard output.\n",
      "\n",
      "       With no FILE, or when FILE is -, read standard input.\n",
      "\n",
      "       Mandatory  arguments  to  long  options are mandatory for short options\n",
      "       too.  Ordering options:\n",
      "\n",
      "       -b, --ignore-leading-blanks\n",
      "              ignore leading blanks\n",
      "\n",
      "       -d, --dictionary-order\n",
      "              consider only blanks and alphanumeric characters\n",
      "\n",
      "       -f, --ignore-case\n",
      "              fold lower case to upper case characters\n",
      "\n",
      "       -g, --general-numeric-sort\n",
      "              compare according to general numerical value\n",
      "\n",
      "       -i, --ignore-nonprinting\n",
      "              consider only printable characters\n",
      "\n",
      "       -M, --month-sort\n",
      "              compare (unknown) < 'JAN' < ... < 'DEC'\n",
      "\n",
      "       -h, --human-numeric-sort\n",
      "              compare human readable numbers (e.g., 2K 1G)\n",
      "\n",
      "       -n, --numeric-sort\n",
      "              compare according to string numerical value\n",
      "\n",
      "       -R, --random-sort\n",
      "              shuffle, but group identical keys.  See shuf(1)\n",
      "\n",
      "       --random-source=FILE\n",
      "              get random bytes from FILE\n",
      "\n",
      "       -r, --reverse\n",
      "              reverse the result of comparisons\n",
      "\n",
      "       --sort=WORD\n",
      "              sort according to WORD: general-numeric  -g,  human-numeric  -h,\n",
      "              month -M, numeric -n, random -R, version -V\n",
      "\n",
      "       -V, --version-sort\n",
      "              natural sort of (version) numbers within text\n",
      "\n",
      "       Other options:\n",
      "\n",
      "       --batch-size=NMERGE\n",
      "              merge at most NMERGE inputs at once; for more use temp files\n",
      "\n",
      "       -c, --check, --check=diagnose-first\n",
      "              check for sorted input; do not sort\n",
      "\n",
      "       -C, --check=quiet, --check=silent\n",
      "              like -c, but do not report first bad line\n",
      "\n",
      "       --compress-program=PROG\n",
      "              compress temporaries with PROG; decompress them with PROG -d\n",
      "\n",
      "       --debug\n",
      "              annotate the part of the line used to sort, and warn about ques‐\n",
      "              tionable usage to stderr\n",
      "\n",
      "       --files0-from=F\n",
      "              read input from the files specified by NUL-terminated  names  in\n",
      "              file F; If F is - then read names from standard input\n",
      "\n",
      "       -k, --key=KEYDEF\n",
      "              sort via a key; KEYDEF gives location and type\n",
      "\n",
      "       -m, --merge\n",
      "              merge already sorted files; do not sort\n",
      "\n",
      "       -o, --output=FILE\n",
      "              write result to FILE instead of standard output\n",
      "\n",
      "       -s, --stable\n",
      "              stabilize sort by disabling last-resort comparison\n",
      "\n",
      "       -S, --buffer-size=SIZE\n",
      "              use SIZE for main memory buffer\n",
      "\n",
      "       -t, --field-separator=SEP\n",
      "              use SEP instead of non-blank to blank transition\n",
      "\n",
      "       -T, --temporary-directory=DIR\n",
      "              use  DIR  for temporaries, not $TMPDIR or /tmp; multiple options\n",
      "              specify multiple directories\n",
      "\n",
      "       --parallel=N\n",
      "              change the number of sorts run concurrently to N\n",
      "\n",
      "       -u, --unique\n",
      "              with -c, check for strict ordering; without -c, output only  the\n",
      "              first of an equal run\n",
      "\n",
      "       -z, --zero-terminated\n",
      "              line delimiter is NUL, not newline\n",
      "\n",
      "       --help display this help and exit\n",
      "\n",
      "       --version\n",
      "              output version information and exit\n",
      "\n",
      "       KEYDEF  is F[.C][OPTS][,F[.C][OPTS]] for start and stop position, where\n",
      "       F is a field number and C a character position in the field;  both  are\n",
      "       origin 1, and the stop position defaults to the line's end.  If neither\n",
      "       -t nor -b is in effect, characters in a field are counted from the  be‐\n",
      "       ginning of the preceding whitespace.  OPTS is one or more single-letter\n",
      "       ordering options [bdfgiMhnRrV], which override global ordering  options\n",
      "       for that key.  If no key is given, use the entire line as the key.  Use\n",
      "       --debug to diagnose incorrect key usage.\n",
      "\n",
      "       SIZE may be followed by the following multiplicative suffixes: % 1%  of\n",
      "       memory, b 1, K 1024 (default), and so on for M, G, T, P, E, Z, Y.\n",
      "\n",
      "       ***  WARNING  ***  The locale specified by the environment affects sort\n",
      "       order.  Set LC_ALL=C to get the traditional sort order that uses native\n",
      "       byte values.\n",
      "\n",
      "AUTHOR\n",
      "       Written by Mike Haertel and Paul Eggert.\n",
      "\n",
      "REPORTING BUGS\n",
      "       GNU coreutils online help: <https://www.gnu.org/software/coreutils/>\n",
      "       Report sort translation bugs to <https://translationproject.org/team/>\n",
      "\n",
      "COPYRIGHT\n",
      "       Copyright  ©  2018  Free Software Foundation, Inc.  License GPLv3+: GNU\n",
      "       GPL version 3 or later <https://gnu.org/licenses/gpl.html>.\n",
      "       This is free software: you are free  to  change  and  redistribute  it.\n",
      "       There is NO WARRANTY, to the extent permitted by law.\n",
      "\n",
      "SEE ALSO\n",
      "       shuf(1), uniq(1)\n",
      "\n",
      "       Full documentation at: <https://www.gnu.org/software/coreutils/sort>\n",
      "       or available locally via: info '(coreutils) sort invocation'\n",
      "\n",
      "GNU coreutils 8.30               February 2019                         SORT(1)\n"
     ]
    }
   ],
   "source": [
    "!man sort"
   ]
  },
  {
   "cell_type": "markdown",
   "metadata": {},
   "source": [
    "# Question 7: Parallel Word Count (part 2)\n",
    "Congratulations, you've just implemented a Map-Reduce algorithm! From here on out, we'll refer to the two python scripts you passed to `pWordCount_v1.sh` as '_mapper_' and '_reducer_'. The bash script itself served as our '_framework_' -- it split up the original input, then ___mapped___ our word counting script on to each chunk, then ___aggregated (a.k.a. reduced)___ the resulting files by piping them into our collation script.  Unfortunately, as you may have realized already, there is a major scalability concern with this particular implementation. __In this question you'll fix our implementation of parallel word count so that it will be scalable.__\n",
    "\n",
    "__HINT:__ MapReduce uses the Merge-Sort algorithm under the hood. Linux `sort` command has a merge option which you can use to simiulate the MapReduce framework. Use the `man sort` command to find more information on this option. \n",
    "\n",
    "### Q7 Tasks:\n",
    "\n",
    "* __a) short response:__ What is the potential scalability problem with the provided implementation of `aggregateCounts_v1.py`? Explain why this supposedly 'parallelized' Word Count wouldn't work on a really large input corpus.  [`HINT:` _see the intro to Q6_]\n",
    "\n",
    "\n",
    "* __b) code:__ Fortunately, a 'strategic sort' can solve this problem. Read the instructions at the top of `pWordCount_v2.sh` carefully then make your changes that alphabetically sort the output from the mappers (`countfiles`) before piping them into the reducer script.\n",
    "\n",
    "\n",
    "* __c) code:__ Write the main part of `aggregateCounts_v2.py` so that it takes advantage of the sorted input to add duplicate counts without storing the whole vocabulary in memory. Refer to the file docstring for more detailed instructions. Confirm that your implementation works by running it on both the test and true data files.\n",
    "\n",
    "\n",
    "* __d) short response:__ If you are paying close attention, this rewritten reducer sets us up for a truly scalable solution, but doesn't get us all the way there. In particular, while we chunked our data so it can be processed by multiple mappers, we're still streaming the entire dataset through one reduce script. If the vocabulary is too large to fit on a single computer, we might split the word counts in half after sorting them, then perform the reducing on two separate machines. Explain what could go wrong with this approach. (For now, ignore the question of how we'd sort a dataset that is too large to fit on a single machine and just focus on what might be wrong about the result of this split-in-half reducing).\n",
    "\n",
    "\n",
    "* __e) short response:__ Can you come up with a different way of splitting up the data that would allow us to perform the reducing on separate machines without needing any postprocessing? This is a theoretical question -- don't worry if you don't know how to implement your idea in a bash script, just describe how you'd want to split the sorted counts into different files to be reduced separately."
   ]
  },
  {
   "cell_type": "markdown",
   "metadata": {},
   "source": [
    "### Q7 Student Answers:\n",
    "\n",
    "> __a)__ The implementation in aggregateCounts_v1.py has to store every element of our dictionary in memory. For a large dataset, even split up,  there will likely be too large of a vocabulary. Additionally some of the words will be stored twice as they will be stored for each chunk until they are reduced. \n",
    "\n",
    "> __b-c)__ _complete the coding portions of this question before answering d and e._\n",
    "\n",
    "> __d)__ Certain vocabulary may end up on both machines, giving you two different word counts for the same word. There would still need to be some way to reduce the results on both of these machines.\n",
    "\n",
    "> __e)__ We could designate a letter cutoff point. E.g., All words before the letter \"K\" will end up on one machine and all words from \"K-Z\" will end up on another. This would ensure that words don't end up on both machines."
   ]
  },
  {
   "cell_type": "code",
   "execution_count": 12,
   "metadata": {},
   "outputs": [],
   "source": [
    "# Add permissions to your new files (RUN THIS CELL AS IS)\n",
    "!chmod a+x pWordCount_v2.sh\n",
    "!chmod a+x aggregateCounts_v2.py"
   ]
  },
  {
   "cell_type": "code",
   "execution_count": 30,
   "metadata": {},
   "outputs": [
    {
     "name": "stdout",
     "output_type": "stream",
     "text": [
      "#!/bin/bash\n",
      "# pWordCount.sh\n",
      "# Author: James G. Shanahan\n",
      "# Usage: pWordCount.sh m testFile.txt mapper.py [reducer.py]\n",
      "# Input:\n",
      "#   m = number of processes (maps), e.g., 4\n",
      "#   inputFile = a text input file\n",
      "#   mapper = an executable that reads from STDIN and prints to STDOUT\n",
      "#   reducer = (optional) an executable that reads from STDIN and prints \n",
      "#             to STDOUT, if no reducer is provided, the framework will\n",
      "#             simply stream the mapper output.\n",
      "#\n",
      "# Instructions:\n",
      "#    For Q7b - Ammend this script in STEP 2 and STEP 3 to \n",
      "#              alphabtetically sort the contents of each chunk before\n",
      "#              piping them into the reducer script and redirecting on to \n",
      "# .            $data.output.\n",
      "# --------------------------------------------------------------------\n",
      "\n",
      "usage()\n",
      "{\n",
      "    echo ERROR: No arguments supplied\n",
      "    echo\n",
      "    echo To run use\n",
      "    echo \"pWordCount.sh m inputFile mapper.py [reducer.py]\"\n",
      "    echo Input:\n",
      "    echo \"number of processes/maps, EG, 4\"\n",
      "    echo \"mapper.py = an executable script to apply to each chunk in parallel\"\n",
      "    echo \"reducer.py = an executable script after the parallel processes are complete.\"\n",
      "    echo NOTE: if no reducer is supplied, we will simply combine the output files.\n",
      "}\n",
      "\n",
      "\n",
      "# print the usage message if this script is called without required args\n",
      "if [ $# -lt 3 ]\n",
      "  then\n",
      "    usage\n",
      "    exit 1\n",
      "fi\n",
      "\n",
      "# collect the arguments\n",
      "m=$1\n",
      "data=$2\n",
      "mapper=$3\n",
      "\n",
      "\n",
      "################# STEP 1: Split up the data #################\n",
      "# 'wc' determines the number of lines in the data\n",
      "# 'perl -pe' regex strips the piped wc output to a number\n",
      "linesindata=`wc -l $data | perl -pe 's/^.*?(\\d+).*?$/$1/'`\n",
      "\n",
      "# determine the lines per chunk for the desired number of processes\n",
      "linesinchunk=`echo \"$linesindata/$m+1\" | bc`\n",
      "\n",
      "# split the original file into chunks by line\n",
      "split -l $linesinchunk $data $data.chunk.\n",
      "\n",
      "\n",
      "############## STEP 2: Process in \"Parallel\" #################\n",
      "for datachunk in $data.chunk.*; do\n",
      "    # redirect the lines of text into the user supplied executable (mapper)\n",
      "    # and redirect STDOUT to a temporary file on disk\n",
      "    \n",
      "    \n",
      "    ################ YOUR CODE HERE #############\n",
      "    # Modify the line from pWordCount_v1.sh, so that  \n",
      "    # each chunk is individually sorted. \n",
      "    ./$mapper < $datachunk | sort > $datachunk.counts &\n",
      "    \n",
      "    ################# (END YOUR CODE)###########\n",
      "    \n",
      "done\n",
      "# wait for the mappers to finish their work\n",
      "wait\n",
      "\n",
      "\n",
      "\n",
      "\n",
      "\n",
      "############## STEP 3: Collect the results #################\n",
      "# 'ls' makes a list of the temporary count files\n",
      "# 'perl -pe' regex replaces line breaks with spaces\n",
      "countfiles=`\\ls $data.chunk.*.counts | perl -pe 's/\\n/ /'`\n",
      "\n",
      "# If no 'reducer' executable was provided ...\n",
      "if [ $# -eq 3 ]\n",
      "  then\n",
      "    # combine all the count files into one\n",
      "    cat $countfiles > $data.output\n",
      "fi\n",
      "\n",
      "# Otherwise...\n",
      "if [ $# -eq 4 ]\n",
      "  then\n",
      "    reducer=$4\n",
      "    ################ YOUR CODE HERE #############\n",
      "    # write one line to merge the individual chunks,\n",
      "    # pipe to the reducer script, and redirect to \n",
      "    # output file\n",
      "    sort --merge $countfiles | ./$reducer > $data.output\n",
      "    \n",
      "\n",
      "\n",
      "    ################# (END YOUR CODE)###########\n",
      "fi\n",
      "\n",
      "\n",
      "############## STEP 4: Final Output #################\n",
      "# clean up the data chunks and temporary count files\n",
      "\\rm $data.chunk.*\n",
      "# display the content of the output file:\n",
      "cat $data.output\n",
      "\n",
      "exit\n"
     ]
    }
   ],
   "source": [
    "# part b - DO NOT MODIFY THIS CELL - run this cell after you \n",
    "# complete pWordCount_v2.sh so the graders can view your work\n",
    "!cat pWordCount_v2.sh"
   ]
  },
  {
   "cell_type": "code",
   "execution_count": 31,
   "metadata": {},
   "outputs": [
    {
     "name": "stdout",
     "output_type": "stream",
     "text": [
      "#!/usr/bin/env python\n",
      "\"\"\"\n",
      "This script reads word counts from STDIN and aggregates\n",
      "the counts for any duplicated words.\n",
      "\n",
      "INPUT & OUTPUT FORMAT:\n",
      "    word \\t count\n",
      "USAGE (standalone):\n",
      "    python aggregateCounts_v2.py < yourCountsFile.txt\n",
      "\n",
      "Instructions:\n",
      "    For Q7 - Your solution should not use a dictionary or store anything   \n",
      "             other than a single total count - just print them as soon as  \n",
      "             you've added them. HINT: you've modified the framework script \n",
      "             to ensure that the input is alphabetized; how can you \n",
      "             use that to your advantage?\n",
      "\"\"\"\n",
      "\n",
      "# imports\n",
      "import sys\n",
      "\n",
      "\n",
      "################# YOUR CODE HERE #################\n",
      "current_word = None\n",
      "current_count = 0\n",
      "    \n",
      "for line in sys.stdin:\n",
      "    \n",
      "    # extract words & counts\n",
      "    word, count = line.split()\n",
      "    \n",
      "    if word==current_word:\n",
      "        current_count += int(count)\n",
      "    \n",
      "    else:\n",
      "        print(\"{}\\t{}\".format(current_word,current_count))\n",
      "        current_word, current_count = word, int(count)\n",
      "\n",
      "# print last line\n",
      "print(\"{}\\t{}\".format(current_word,current_count))\n",
      "\n",
      "\n",
      "################ (END) YOUR CODE #################\n"
     ]
    }
   ],
   "source": [
    "# part c - DO NOT MODIFY THIS CELL - run this cell after you \n",
    "# complete aggregateCounts_v2.py so the graders can view your work\n",
    "!cat aggregateCounts_v2.py"
   ]
  },
  {
   "cell_type": "code",
   "execution_count": 15,
   "metadata": {},
   "outputs": [
    {
     "name": "stdout",
     "output_type": "stream",
     "text": [
      "None\t0\n",
      "a\t2\n",
      "file\t3\n",
      "for\t1\n",
      "has\t1\n",
      "is\t2\n",
      "lines\t1\n",
      "small\t3\n",
      "test\t3\n",
      "this\t3\n",
      "two\t1\n"
     ]
    }
   ],
   "source": [
    "# part c - test your code on the test file (RUN THIS CELL AS IS)\n",
    "!./pWordCount_v2.sh 4 'data/alice_test.txt' \\\n",
    "                   'wordCount.py' \\\n",
    "                   'aggregateCounts_v2.py'"
   ]
  },
  {
   "cell_type": "code",
   "execution_count": 16,
   "metadata": {},
   "outputs": [],
   "source": [
    "# part c - run your code on the Alice file (RUN THIS CELL AS IS)\n",
    "!./pWordCount_v2.sh 4 'data/alice.txt' \\\n",
    "                   'wordCount.py' \\\n",
    "                   'aggregateCounts_v2.py' \\\n",
    "                   > 'data/alice_pCounts.txt'"
   ]
  },
  {
   "cell_type": "code",
   "execution_count": 17,
   "metadata": {},
   "outputs": [
    {
     "name": "stdout",
     "output_type": "stream",
     "text": [
      "alice\t403\n"
     ]
    }
   ],
   "source": [
    "# part c - confirm that your 'alice' count is correct (RUN THIS CELL AS IS)\n",
    "!grep alice data/alice_pCounts.txt"
   ]
  },
  {
   "cell_type": "markdown",
   "metadata": {},
   "source": [
    "# Question 8: Scalability Considerations\n",
    "In your reading for Week 2's live session, [Chapter1, section 2](https://lintool.github.io/MapReduceAlgorithms/MapReduce-book-final.pdf) of _Data Intensive Text Processing with MapReduce_, Lin and Dyer discuss a number of \"Big Ideas\" that underlie large scale processing: __scale \"out,\" not \"up\"; assume failures are common; move processing to the data; process data sequentially and avoid random access; hide system-level details from the application developer; and seamless scalability.__ Part of our work this semester will be to interact with these ideas in a practical way, not just a conceptual one.\n",
    "\n",
    "### Q8 Tasks:\n",
    "* __a) short response:__ What do Lin and Dyer consider the two features of an \"ideal algorithm\" from a scalability perspective?\n",
    "\n",
    "\n",
    "* __b) short response:__ The mapper script below (created on the fly using a little Jupyter magic) will help us illustrate the concept of scalability. Run the provided code which passes this mapper script to our parallel computation 'framework' and runs the 'analysis' on the _Alice_ text file. Note that we've omitted a reducer for simplicity. What do you observe about the time it takes to run this \"algorithm\" when we use 1, 2 and 4 partitions? Does it meet Lin and Dyer's criteria?\n",
    "\n",
    "\n",
    "* __c) short response:__ Let's try something similar with your Word Count analysis. Run the provided code to time your implementation with 1, 2, 4 and 8 partitions. What do you observe about the runtimes? Does this match your expectation? Speculate about why we might be seeing these times. What conclusions should we draw about the scalability of our implementation? [`HINT:` _consider the limitations of both your machine and our implementation... there are some competing forces at work, what are they?_]\n",
    "\n",
    "\n",
    "* __d) OPTIONAL:__ Which components of your Map-Reduce algorithm are affected by a change in the number of partitions? Does increasing the number of partitions increase or decrease the total time spent on each of these portions of the task? What tradeoff does this cause?"
   ]
  },
  {
   "cell_type": "markdown",
   "metadata": {},
   "source": [
    "### Q8 Student Answers:\n",
    "\n",
    "> __a)__ Lin & Dyer state that there are two key features for an \"ideal algorithm\" from a scalability perspective. First, that given twice the amount of data, the algorithms should only take twice the time to run, all else being equal. Second, given a cluster twice the size (thus twice the resources) the algorithm should take no more than half the time to run.\n",
    "\n",
    "> __b)__ When we use 1, 2, and 4 partitions we meet Lin and Dyer's criteria, because the algorithm take no more than half the time to run (taking into account the variance of each loop). \n",
    "\n",
    "> __c)__ The runtimes are actually increasing, which would go against my initial expectation. I believe this is because we are using a single machine to handle the partitions instead of tackling each partition with its own set of resources. Additionally, our implementation doesn't take into account partitions meaning it is tackling each one after the other instead of in parallel.\n",
    "\n",
    "> __d)__ Type your (OPTIONAL) answer here!"
   ]
  },
  {
   "cell_type": "markdown",
   "metadata": {},
   "source": [
    "__Run the following cells to create the mapper referenced in `part b`__"
   ]
  },
  {
   "cell_type": "code",
   "execution_count": 18,
   "metadata": {},
   "outputs": [
    {
     "name": "stdout",
     "output_type": "stream",
     "text": [
      "mkdir: cannot create directory ‘demo’: File exists\n"
     ]
    }
   ],
   "source": [
    "!mkdir demo"
   ]
  },
  {
   "cell_type": "code",
   "execution_count": 19,
   "metadata": {},
   "outputs": [
    {
     "name": "stdout",
     "output_type": "stream",
     "text": [
      "Overwriting demo/mapper.py\n"
     ]
    }
   ],
   "source": [
    "%%writefile demo/mapper.py\n",
    "#!/usr/bin/env python\n",
    "\"\"\"\n",
    "This mapper reads from STDIN and waits 0.001 seconds per line.\n",
    "Its only purpose is to demonstrate one of the scalability ideas.\n",
    "\"\"\"\n",
    "import sys\n",
    "import time\n",
    "for line in sys.stdin:\n",
    "    time.sleep(0.001)"
   ]
  },
  {
   "cell_type": "code",
   "execution_count": 20,
   "metadata": {},
   "outputs": [],
   "source": [
    "# Make sure the mapper is executable\n",
    "!chmod a+x demo/mapper.py"
   ]
  },
  {
   "cell_type": "markdown",
   "metadata": {},
   "source": [
    "__Run the next three cells to apply our demo mapper with 1, 2 and 4 partitions.__"
   ]
  },
  {
   "cell_type": "code",
   "execution_count": 21,
   "metadata": {},
   "outputs": [
    {
     "name": "stdout",
     "output_type": "stream",
     "text": [
      "4.3 s ± 13.7 ms per loop (mean ± std. dev. of 7 runs, 1 loop each)\n"
     ]
    }
   ],
   "source": [
    "%%timeit\n",
    "!./pWordCount_v2.sh 1 'data/alice.txt' 'demo/mapper.py'"
   ]
  },
  {
   "cell_type": "code",
   "execution_count": 22,
   "metadata": {},
   "outputs": [
    {
     "name": "stdout",
     "output_type": "stream",
     "text": [
      "2.26 s ± 8.27 ms per loop (mean ± std. dev. of 7 runs, 1 loop each)\n"
     ]
    }
   ],
   "source": [
    "%%timeit\n",
    "!./pWordCount_v2.sh 2 'data/alice.txt' 'demo/mapper.py'"
   ]
  },
  {
   "cell_type": "code",
   "execution_count": 23,
   "metadata": {},
   "outputs": [
    {
     "name": "stdout",
     "output_type": "stream",
     "text": [
      "1.25 s ± 6.02 ms per loop (mean ± std. dev. of 7 runs, 1 loop each)\n"
     ]
    }
   ],
   "source": [
    "%%timeit\n",
    "!./pWordCount_v2.sh 4 'data/alice.txt' 'demo/mapper.py'"
   ]
  },
  {
   "cell_type": "markdown",
   "metadata": {},
   "source": [
    "__Run the following cells to repeat this process with your word count algorithm.__"
   ]
  },
  {
   "cell_type": "code",
   "execution_count": 24,
   "metadata": {},
   "outputs": [
    {
     "name": "stdout",
     "output_type": "stream",
     "text": [
      "280 ms ± 1.91 ms per loop (mean ± std. dev. of 7 runs, 1 loop each)\n"
     ]
    }
   ],
   "source": [
    "%%timeit\n",
    "!./pWordCount_v2.sh 1 'data/alice.txt' 'wordCount.py' 'aggregateCounts_v2.py' > 'data/tmp'"
   ]
  },
  {
   "cell_type": "code",
   "execution_count": 25,
   "metadata": {},
   "outputs": [
    {
     "name": "stdout",
     "output_type": "stream",
     "text": [
      "299 ms ± 3.11 ms per loop (mean ± std. dev. of 7 runs, 1 loop each)\n"
     ]
    }
   ],
   "source": [
    "%%timeit\n",
    "!./pWordCount_v2.sh 2 'data/alice.txt' 'wordCount.py' 'aggregateCounts_v2.py' > 'data/tmp'"
   ]
  },
  {
   "cell_type": "code",
   "execution_count": 26,
   "metadata": {},
   "outputs": [
    {
     "name": "stdout",
     "output_type": "stream",
     "text": [
      "308 ms ± 20.6 ms per loop (mean ± std. dev. of 7 runs, 1 loop each)\n"
     ]
    }
   ],
   "source": [
    "%%timeit\n",
    "!./pWordCount_v2.sh 4 'data/alice.txt' 'wordCount.py' 'aggregateCounts_v2.py' > 'data/tmp'"
   ]
  },
  {
   "cell_type": "code",
   "execution_count": 27,
   "metadata": {},
   "outputs": [
    {
     "name": "stdout",
     "output_type": "stream",
     "text": [
      "382 ms ± 6.52 ms per loop (mean ± std. dev. of 7 runs, 1 loop each)\n"
     ]
    }
   ],
   "source": [
    "%%timeit\n",
    "!./pWordCount_v2.sh 8 'data/alice.txt' 'wordCount.py' 'aggregateCounts_v2.py' > 'data/tmp'"
   ]
  },
  {
   "cell_type": "code",
   "execution_count": 28,
   "metadata": {},
   "outputs": [
    {
     "name": "stdout",
     "output_type": "stream",
     "text": [
      "540 ms ± 3.36 ms per loop (mean ± std. dev. of 7 runs, 1 loop each)\n"
     ]
    }
   ],
   "source": [
    "%%timeit\n",
    "!./pWordCount_v2.sh 16 'data/alice.txt' 'wordCount.py' 'aggregateCounts_v2.py' > 'data/tmp'"
   ]
  },
  {
   "cell_type": "code",
   "execution_count": 29,
   "metadata": {},
   "outputs": [
    {
     "name": "stdout",
     "output_type": "stream",
     "text": [
      "870 ms ± 9.86 ms per loop (mean ± std. dev. of 7 runs, 1 loop each)\n"
     ]
    }
   ],
   "source": [
    "%%timeit\n",
    "!./pWordCount_v2.sh 32 'data/alice.txt' 'wordCount.py' 'aggregateCounts_v2.py' > 'data/tmp'"
   ]
  },
  {
   "cell_type": "markdown",
   "metadata": {},
   "source": [
    "# Question 9: Embarrassingly Parallel\n",
    "`\"If any one of them can explain it,\" said Alice, (she had grown so large in the last few minutes that she wasn’t a bit afraid of interrupting him,) \"I’ll give him sixpence. I don’t believe there’s an atom of meaning in it.\"`\n",
    "<div style=\"text-align: right\">  -- Lewis Carroll, _Alice's Adventures in Wonderland_, Chapter 12  </div>\n",
    "\n",
    "### Q9 Tasks:\n",
    "\n",
    "* __a) short response:__ Describe what we mean by 'Embarrassingly Parallel' in terms of word counting. Does this term describe a 'task'? an 'implementation of a task'? \n",
    "\n",
    "* __b) OPTIONAL__: Define this concept in terms of 'associative' and 'commutative' operations. [`HINT:` _Refer to Chapter 2 in DITP_ ]"
   ]
  },
  {
   "cell_type": "markdown",
   "metadata": {},
   "source": [
    "### Q9 Student Answers:\n",
    "\n",
    "> __a)__ An embarrassingly parallel problem/task is one in which there is little to no effort needed in breaking out the problem into tasks that can be completed in parallel.  The term therefore describes the task itself, while the implementation of solving the task would be the framework for breaking this problem into subtasks that are completed in parallel and recombined such as MapReduce. For word counting, we can break out our text corpus into chunks where we can run a word counting function on each of these chunks in parallel (mapping). Then we can aggregate (reduce) the results of each of these chunks into a single output of results. \n",
    "\n",
    "> __b)__ Type your (OPTIONAL) answer here!"
   ]
  },
  {
   "cell_type": "markdown",
   "metadata": {},
   "source": [
    "### Congratulations, you have completed HW1! Please refer to the readme for submission instructions.\n",
    "\n",
    "If you would like to provide feedback regarding this homework, please use the survey at: https://docs.google.com/forms/d/e/1FAIpQLSce9feiQeSkdP43A0ZYui1tMGIBfLfzb0rmgToQeZD9bXXX8Q/viewform"
   ]
  },
  {
   "cell_type": "code",
   "execution_count": null,
   "metadata": {},
   "outputs": [],
   "source": []
  }
 ],
 "metadata": {
  "anaconda-cloud": {},
  "kernelspec": {
   "display_name": "Python 3 (ipykernel)",
   "language": "python",
   "name": "python3"
  },
  "language_info": {
   "codemirror_mode": {
    "name": "ipython",
    "version": 3
   },
   "file_extension": ".py",
   "mimetype": "text/x-python",
   "name": "python",
   "nbconvert_exporter": "python",
   "pygments_lexer": "ipython3",
   "version": "3.10.2"
  },
  "toc": {
   "colors": {
    "hover_highlight": "#DAA520",
    "navigate_num": "#000000",
    "navigate_text": "#333333",
    "running_highlight": "#FF0000",
    "selected_highlight": "#FFD700",
    "sidebar_border": "#EEEEEE",
    "wrapper_background": "#FFFFFF"
   },
   "moveMenuLeft": true,
   "nav_menu": {
    "height": "297px",
    "width": "252px"
   },
   "navigate_menu": true,
   "number_sections": false,
   "sideBar": true,
   "threshold": 4,
   "toc_cell": false,
   "toc_position": {
    "height": "951px",
    "left": "0px",
    "right": "1561px",
    "top": "106px",
    "width": "600px"
   },
   "toc_section_display": "block",
   "toc_window_display": true,
   "widenNotebook": false
  }
 },
 "nbformat": 4,
 "nbformat_minor": 4
}
