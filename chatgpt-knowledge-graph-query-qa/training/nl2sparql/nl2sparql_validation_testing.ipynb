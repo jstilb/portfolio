{
 "cells": [
  {
   "cell_type": "markdown",
   "id": "c9213a4a",
   "metadata": {},
   "source": [
    "# Validation testing for Natural Language Question to SPARQL Query"
   ]
  },
  {
   "cell_type": "markdown",
   "id": "61cd5f2d-4a37-4066-9785-08bf82ec3c6d",
   "metadata": {},
   "source": [
    "Create a df for the lcquad queries"
   ]
  },
  {
   "cell_type": "code",
   "execution_count": 8,
   "id": "ba4c75d4-1fea-4b3d-a928-f572397ba45d",
   "metadata": {},
   "outputs": [],
   "source": [
    "import pandas as pd"
   ]
  },
  {
   "cell_type": "code",
   "execution_count": 6,
   "id": "886ad3ea-6071-40c7-b269-f1881280d970",
   "metadata": {},
   "outputs": [],
   "source": [
    "lcquad_path = \"../../lcquad2.0.train.json\""
   ]
  },
  {
   "cell_type": "code",
   "execution_count": 7,
   "id": "6a7f536a-1a41-4727-9132-240b8a5edcb9",
   "metadata": {},
   "outputs": [
    {
     "name": "stdout",
     "output_type": "stream",
     "text": [
      "-rw-r--r--@ 1 i857913  staff  26561843 Feb  6 16:58 ../../lcquad2.0.train.json\n"
     ]
    }
   ],
   "source": [
    "!ls -l {lcquad_path}"
   ]
  },
  {
   "cell_type": "code",
   "execution_count": 53,
   "id": "4dc099c2-ea57-47ac-9167-41b1a2ab4ff0",
   "metadata": {},
   "outputs": [],
   "source": [
    "lcquad_df = pd.read_json(lcquad_path)"
   ]
  },
  {
   "cell_type": "code",
   "execution_count": 80,
   "id": "8eb2eb73-5c48-4590-98bb-a4b9b995adca",
   "metadata": {},
   "outputs": [
    {
     "data": {
      "text/plain": [
       "24180"
      ]
     },
     "execution_count": 80,
     "metadata": {},
     "output_type": "execute_result"
    }
   ],
   "source": [
    "len(lcquad_df)"
   ]
  },
  {
   "cell_type": "markdown",
   "id": "48a50bdc-e4d4-48fc-8807-53e812be2e28",
   "metadata": {},
   "source": [
    "Make a sparql runner"
   ]
  },
  {
   "cell_type": "code",
   "execution_count": 15,
   "id": "61624c3d-940d-4eae-afbb-1c5d01a856ca",
   "metadata": {},
   "outputs": [],
   "source": [
    "from wikibaseintegrator import wbi_helpers\n",
    "from wikibaseintegrator.wbi_config import config as wbi_config\n",
    "import logging"
   ]
  },
  {
   "cell_type": "code",
   "execution_count": 18,
   "id": "b960e274-9550-42d7-b0e4-d83b1b806fd8",
   "metadata": {},
   "outputs": [],
   "source": [
    "wbi_config['USER_AGENT'] = 'AskwikiBot/1.0 (https://www.wikidata.org/wiki/User:What_Tottles_Meant)'\n",
    "wbi_config['BACKOFF_MAX_TRIES'] = 1\n"
   ]
  },
  {
   "cell_type": "code",
   "execution_count": 89,
   "id": "3cd32311-0301-4c8a-b063-b08b9df109e3",
   "metadata": {},
   "outputs": [],
   "source": [
    "from requests.exceptions import HTTPError\n",
    "def run_sparql(query):\n",
    "    try:\n",
    "        results = wbi_helpers.execute_sparql_query(query)\n",
    "    except HTTPError as he:\n",
    "        logging.error(f'HTTPError {he}')\n",
    "        print(f\"failed query {query}\")\n",
    "        return None\n",
    "    # print(results)\n",
    "    if 'boolean' in results:\n",
    "        return pd.DataFrame([{'Boolean': results['boolean'] }])\n",
    "    jsonResult = [dict([(k, b[k]['value']) for k in b]) for b in results['results']['bindings']]\n",
    "    df = pd.DataFrame.from_dict(jsonResult)\n",
    "    return df\n"
   ]
  },
  {
   "cell_type": "code",
   "execution_count": 90,
   "id": "63f84d50-a2ef-4178-9d88-cd945e763ab6",
   "metadata": {},
   "outputs": [],
   "source": [
    "def validate_queries(qs):\n",
    "    validation_results = []\n",
    "    count = 0\n",
    "    for q in qs:\n",
    "        # print(q)\n",
    "        df = run_sparql(q)\n",
    "        result_count = 0\n",
    "        if df is None:\n",
    "            run_result = 'Fail'\n",
    "            print(f\"Failed query number {count}\")\n",
    "        else:\n",
    "            run_result = 'Pass'\n",
    "            result_count = len(df)\n",
    "        validation_results.append((run_result, result_count))\n",
    "        count += 1\n",
    "    return validation_results "
   ]
  },
  {
   "cell_type": "code",
   "execution_count": 98,
   "id": "f67a35a0-915e-4db8-93fe-90d32618bbb3",
   "metadata": {},
   "outputs": [
    {
     "name": "stderr",
     "output_type": "stream",
     "text": [
      "ERROR:backoff:Giving up execute_sparql_query(...) after 1 tries (requests.exceptions.HTTPError: 400 Client Error: Bad Request for url: https://query.wikidata.org/sparql?query=%23Tool%3A+WikibaseIntegrator+wbi_functions.execute_sparql_query%0AASK+WHERE+%7B+wd%3AQ30+wdt%3AP2997+%3Fobj+filter%28%3Fobj+%3D+t1410874016%29+%7D+&format=json)\n",
      "ERROR:root:HTTPError 400 Client Error: Bad Request for url: https://query.wikidata.org/sparql?query=%23Tool%3A+WikibaseIntegrator+wbi_functions.execute_sparql_query%0AASK+WHERE+%7B+wd%3AQ30+wdt%3AP2997+%3Fobj+filter%28%3Fobj+%3D+t1410874016%29+%7D+&format=json\n"
     ]
    },
    {
     "name": "stdout",
     "output_type": "stream",
     "text": [
      "failed query ASK WHERE { wd:Q30 wdt:P2997 ?obj filter(?obj = t1410874016) } \n",
      "Failed query number 588\n"
     ]
    }
   ],
   "source": [
    "v = validate_queries(lcquad_df['sparql_wikidata'].loc[0:999])"
   ]
  },
  {
   "cell_type": "code",
   "execution_count": 100,
   "id": "2c4e62f0-9a38-4db1-bcc2-41ede86d669b",
   "metadata": {},
   "outputs": [],
   "source": [
    "v_df = pd.DataFrame(v)"
   ]
  },
  {
   "cell_type": "code",
   "execution_count": 101,
   "id": "41aab68f-a909-4435-bdc3-a54c9310a257",
   "metadata": {},
   "outputs": [
    {
     "data": {
      "text/plain": [
       "999"
      ]
     },
     "execution_count": 101,
     "metadata": {},
     "output_type": "execute_result"
    }
   ],
   "source": [
    "len(v_df[v_df[0] == 'Pass'])"
   ]
  },
  {
   "cell_type": "markdown",
   "id": "ca0c64b3-0bd5-4179-abdf-aa35756daf57",
   "metadata": {},
   "source": [
    "Now get a bunch of generated sparql"
   ]
  },
  {
   "cell_type": "code",
   "execution_count": 1,
   "id": "c7a58082-bbe1-4e17-a5c6-07a9f068f505",
   "metadata": {},
   "outputs": [],
   "source": [
    "modelName = \"jstilb/t5\""
   ]
  },
  {
   "cell_type": "code",
   "execution_count": 2,
   "id": "e2a5188e-782c-4b23-9d5b-d60784542cae",
   "metadata": {},
   "outputs": [
    {
     "name": "stderr",
     "output_type": "stream",
     "text": [
      "/opt/homebrew/anaconda3/envs/conda210/lib/python3.9/site-packages/tqdm/auto.py:22: TqdmWarning: IProgress not found. Please update jupyter and ipywidgets. See https://ipywidgets.readthedocs.io/en/stable/user_install.html\n",
      "  from .autonotebook import tqdm as notebook_tqdm\n"
     ]
    }
   ],
   "source": [
    "from transformers import AutoTokenizer, AutoModelForSeq2SeqLM, pipeline"
   ]
  },
  {
   "cell_type": "code",
   "execution_count": 3,
   "id": "c92f1fc7-be1e-4ff4-8db8-fc058725392c",
   "metadata": {},
   "outputs": [
    {
     "name": "stderr",
     "output_type": "stream",
     "text": [
      "/opt/homebrew/anaconda3/envs/conda210/lib/python3.9/site-packages/transformers/pipelines/__init__.py:885: UserWarning: \"translation\" task was used, instead of \"translation_XX_to_YY\", defaulting to \"translation_en_to_de\"\n",
      "  warnings.warn(\n"
     ]
    }
   ],
   "source": [
    "tokenizer = AutoTokenizer.from_pretrained(modelName)\n",
    "model = AutoModelForSeq2SeqLM.from_pretrained(modelName)\n",
    "translator = pipeline(\"translation\", tokenizer=tokenizer, model=model)\n"
   ]
  },
  {
   "cell_type": "code",
   "execution_count": 99,
   "id": "52fd2e83-34d9-43bf-9c88-2adfe3bde247",
   "metadata": {},
   "outputs": [],
   "source": [
    "def generate_sparql(question):\n",
    "    translation = translator(f\"translate English to SPARQL: {question}\")\n",
    "    if translation is None or len(translation) == 0 or 'translation_text' not in translation[0]:\n",
    "        return None\n",
    "    sparql = translation[0]['translation_text']\n",
    "    logging.info(f'sparql {sparql}')\n",
    "    return sparql\n"
   ]
  },
  {
   "cell_type": "code",
   "execution_count": 102,
   "id": "d06ccf51-e8b3-43f7-9a36-2087b8e5c15c",
   "metadata": {},
   "outputs": [
    {
     "name": "stderr",
     "output_type": "stream",
     "text": [
      "/opt/homebrew/anaconda3/envs/conda210/lib/python3.9/site-packages/transformers/generation/utils.py:1186: UserWarning: You have modified the pretrained model configuration to control generation. This is a deprecated strategy to control generation and will be removed soon, in a future version. Please use a generation configuration file (see https://huggingface.co/docs/transformers/main_classes/text_generation)\n",
      "  warnings.warn(\n"
     ]
    },
    {
     "data": {
      "text/plain": [
       "\"SELECT DISTINCT ?sbj ?sbj_label WHERE  ?sbj wdt:P31 wd:Q31 . ?sbj rdfs:label ?sbj_label . FILTER(STRSTARTS(lcase(?sbj_label), 'en')) \""
      ]
     },
     "execution_count": 102,
     "metadata": {},
     "output_type": "execute_result"
    }
   ],
   "source": [
    "generate_sparql('What are the most common types of liver infection')"
   ]
  },
  {
   "cell_type": "code",
   "execution_count": 129,
   "id": "92be221e-e0c3-4da6-bc38-2cebd91ab21d",
   "metadata": {},
   "outputs": [],
   "source": [
    "def generate_lots_of_sparql(l):\n",
    "    result = []\n",
    "    count = 1\n",
    "    for s in l:\n",
    "        if count % 10 == 0:\n",
    "            print(count)\n",
    "        result.append(generate_sparql(s))\n",
    "        count += 1\n",
    "    print(count)\n",
    "    return result\n"
   ]
  },
  {
   "cell_type": "code",
   "execution_count": 130,
   "id": "636dc58f-6bc9-421b-8dc6-4e08b9e69962",
   "metadata": {},
   "outputs": [
    {
     "name": "stdout",
     "output_type": "stream",
     "text": [
      "cucu\n",
      "10\n",
      "20\n",
      "30\n",
      "40\n",
      "50\n",
      "60\n",
      "70\n",
      "80\n",
      "90\n",
      "100\n",
      "110\n",
      "120\n",
      "130\n",
      "140\n",
      "150\n",
      "160\n",
      "170\n",
      "180\n",
      "190\n",
      "200\n",
      "210\n",
      "220\n",
      "230\n",
      "240\n",
      "250\n",
      "260\n",
      "270\n",
      "280\n",
      "290\n",
      "300\n",
      "310\n",
      "320\n",
      "330\n",
      "340\n",
      "350\n",
      "360\n",
      "370\n",
      "380\n",
      "390\n",
      "400\n",
      "410\n",
      "420\n",
      "430\n",
      "440\n",
      "450\n",
      "460\n",
      "470\n",
      "480\n",
      "490\n",
      "500\n",
      "501\n"
     ]
    }
   ],
   "source": [
    "queries = generate_lots_of_sparql(lcquad_df['question'].loc[0:499])"
   ]
  },
  {
   "cell_type": "code",
   "execution_count": 131,
   "id": "1188317c-7308-4d16-8d3e-a444cac71ee7",
   "metadata": {},
   "outputs": [
    {
     "data": {
      "text/plain": [
       "500"
      ]
     },
     "execution_count": 131,
     "metadata": {},
     "output_type": "execute_result"
    }
   ],
   "source": [
    "len(queries)"
   ]
  },
  {
   "cell_type": "code",
   "execution_count": 132,
   "id": "4f18cd97-d42c-43a1-b5ac-609d6f68d906",
   "metadata": {},
   "outputs": [
    {
     "name": "stderr",
     "output_type": "stream",
     "text": [
      "ERROR:backoff:Giving up execute_sparql_query(...) after 1 tries (requests.exceptions.HTTPError: 400 Client Error: Bad Request for url: https://query.wikidata.org/sparql?query=%23Tool%3A+WikibaseIntegrator+wbi_functions.execute_sparql_query%0Aselect+distinct+%3Fsbj+where++%3Fsbj+wdt%3AP31+wd%3AQ220+.+%3Fsbj+wdt%3AP31+wd%3AQ220+&format=json)\n",
      "ERROR:root:HTTPError 400 Client Error: Bad Request for url: https://query.wikidata.org/sparql?query=%23Tool%3A+WikibaseIntegrator+wbi_functions.execute_sparql_query%0Aselect+distinct+%3Fsbj+where++%3Fsbj+wdt%3AP31+wd%3AQ220+.+%3Fsbj+wdt%3AP31+wd%3AQ220+&format=json\n"
     ]
    },
    {
     "name": "stdout",
     "output_type": "stream",
     "text": [
      "failed query select distinct ?sbj where  ?sbj wdt:P31 wd:Q220 . ?sbj wdt:P31 wd:Q220 \n",
      "Failed query number 0\n"
     ]
    },
    {
     "name": "stderr",
     "output_type": "stream",
     "text": [
      "ERROR:backoff:Giving up execute_sparql_query(...) after 1 tries (requests.exceptions.HTTPError: 400 Client Error: Bad Request for url: https://query.wikidata.org/sparql?query=%23Tool%3A+WikibaseIntegrator+wbi_functions.execute_sparql_query%0Aselect+distinct+%3Fsbj+where++%3Fsbj+wdt%3AP31+wd%3AQ220+.+%3Fsbj+wdt%3AP31+wd%3AQ220+&format=json)\n",
      "ERROR:root:HTTPError 400 Client Error: Bad Request for url: https://query.wikidata.org/sparql?query=%23Tool%3A+WikibaseIntegrator+wbi_functions.execute_sparql_query%0Aselect+distinct+%3Fsbj+where++%3Fsbj+wdt%3AP31+wd%3AQ220+.+%3Fsbj+wdt%3AP31+wd%3AQ220+&format=json\n"
     ]
    },
    {
     "name": "stdout",
     "output_type": "stream",
     "text": [
      "failed query select distinct ?sbj where  ?sbj wdt:P31 wd:Q220 . ?sbj wdt:P31 wd:Q220 \n",
      "Failed query number 1\n"
     ]
    },
    {
     "name": "stderr",
     "output_type": "stream",
     "text": [
      "ERROR:backoff:Giving up execute_sparql_query(...) after 1 tries (requests.exceptions.HTTPError: 400 Client Error: Bad Request for url: https://query.wikidata.org/sparql?query=%23Tool%3A+WikibaseIntegrator+wbi_functions.execute_sparql_query%0ASELECT+%3Fanswer+WHERE++wd%3AQ220+wdt%3AP31+%3Fanswer+.+%3Fanswer+wdt%3AP31+wd%3AQ220+&format=json)\n",
      "ERROR:root:HTTPError 400 Client Error: Bad Request for url: https://query.wikidata.org/sparql?query=%23Tool%3A+WikibaseIntegrator+wbi_functions.execute_sparql_query%0ASELECT+%3Fanswer+WHERE++wd%3AQ220+wdt%3AP31+%3Fanswer+.+%3Fanswer+wdt%3AP31+wd%3AQ220+&format=json\n"
     ]
    },
    {
     "name": "stdout",
     "output_type": "stream",
     "text": [
      "failed query SELECT ?answer WHERE  wd:Q220 wdt:P31 ?answer . ?answer wdt:P31 wd:Q220 \n",
      "Failed query number 2\n"
     ]
    },
    {
     "name": "stderr",
     "output_type": "stream",
     "text": [
      "ERROR:backoff:Giving up execute_sparql_query(...) after 1 tries (requests.exceptions.HTTPError: 400 Client Error: Bad Request for url: https://query.wikidata.org/sparql?query=%23Tool%3A+WikibaseIntegrator+wbi_functions.execute_sparql_query%0ASELECT+DISTINCT+%3Fsbj+%3Fsbj_label+WHERE++%3Fsbj+wdt%3AP31+wd%3AQ335+.+%3Fsbj+rdfs%3Alabel+%3Fsbj_label+.+FILTER%28CONTAINS%28lcase%28%3Fsbj_label%29%2C+%27phase+matter%27%29%29+.+FILTER+%28lang%28%3Fsbj_label%29+%3D+%27en%27%29++LIMIT+25&format=json)\n",
      "ERROR:root:HTTPError 400 Client Error: Bad Request for url: https://query.wikidata.org/sparql?query=%23Tool%3A+WikibaseIntegrator+wbi_functions.execute_sparql_query%0ASELECT+DISTINCT+%3Fsbj+%3Fsbj_label+WHERE++%3Fsbj+wdt%3AP31+wd%3AQ335+.+%3Fsbj+rdfs%3Alabel+%3Fsbj_label+.+FILTER%28CONTAINS%28lcase%28%3Fsbj_label%29%2C+%27phase+matter%27%29%29+.+FILTER+%28lang%28%3Fsbj_label%29+%3D+%27en%27%29++LIMIT+25&format=json\n"
     ]
    },
    {
     "name": "stdout",
     "output_type": "stream",
     "text": [
      "failed query SELECT DISTINCT ?sbj ?sbj_label WHERE  ?sbj wdt:P31 wd:Q335 . ?sbj rdfs:label ?sbj_label . FILTER(CONTAINS(lcase(?sbj_label), 'phase matter')) . FILTER (lang(?sbj_label) = 'en')  LIMIT 25\n",
      "Failed query number 3\n"
     ]
    },
    {
     "name": "stderr",
     "output_type": "stream",
     "text": [
      "ERROR:backoff:Giving up execute_sparql_query(...) after 1 tries (requests.exceptions.HTTPError: 400 Client Error: Bad Request for url: https://query.wikidata.org/sparql?query=%23Tool%3A+WikibaseIntegrator+wbi_functions.execute_sparql_query%0Aselect+distinct+%3Fsbj+where++%3Fsbj+wdt%3AP31+wd%3AQ220+.+%3Fsbj+wdt%3AP31+wd%3AQ220+&format=json)\n",
      "ERROR:root:HTTPError 400 Client Error: Bad Request for url: https://query.wikidata.org/sparql?query=%23Tool%3A+WikibaseIntegrator+wbi_functions.execute_sparql_query%0Aselect+distinct+%3Fsbj+where++%3Fsbj+wdt%3AP31+wd%3AQ220+.+%3Fsbj+wdt%3AP31+wd%3AQ220+&format=json\n"
     ]
    },
    {
     "name": "stdout",
     "output_type": "stream",
     "text": [
      "failed query select distinct ?sbj where  ?sbj wdt:P31 wd:Q220 . ?sbj wdt:P31 wd:Q220 \n",
      "Failed query number 4\n"
     ]
    },
    {
     "name": "stderr",
     "output_type": "stream",
     "text": [
      "ERROR:backoff:Giving up execute_sparql_query(...) after 1 tries (requests.exceptions.HTTPError: 400 Client Error: Bad Request for url: https://query.wikidata.org/sparql?query=%23Tool%3A+WikibaseIntegrator+wbi_functions.execute_sparql_query%0ASELECT+DISTINCT+%3Fsbj+%3Fsbj_label+WHERE++%3Fsbj+wdt%3AP31+wd%3AQ31+.+%3Fsbj+rdfs%3Alabel+%3Fsbj_label+.+FILTER%28STRSTARTS%28lcase%28%3Fsbj_label%29%2C+%27p%27%29%29+.+FILTER+%28lang%28%3Fsbj_label%29+%3D+%27p%27%29++LIMIT+25&format=json)\n",
      "ERROR:root:HTTPError 400 Client Error: Bad Request for url: https://query.wikidata.org/sparql?query=%23Tool%3A+WikibaseIntegrator+wbi_functions.execute_sparql_query%0ASELECT+DISTINCT+%3Fsbj+%3Fsbj_label+WHERE++%3Fsbj+wdt%3AP31+wd%3AQ31+.+%3Fsbj+rdfs%3Alabel+%3Fsbj_label+.+FILTER%28STRSTARTS%28lcase%28%3Fsbj_label%29%2C+%27p%27%29%29+.+FILTER+%28lang%28%3Fsbj_label%29+%3D+%27p%27%29++LIMIT+25&format=json\n"
     ]
    },
    {
     "name": "stdout",
     "output_type": "stream",
     "text": [
      "failed query SELECT DISTINCT ?sbj ?sbj_label WHERE  ?sbj wdt:P31 wd:Q31 . ?sbj rdfs:label ?sbj_label . FILTER(STRSTARTS(lcase(?sbj_label), 'p')) . FILTER (lang(?sbj_label) = 'p')  LIMIT 25\n",
      "Failed query number 5\n"
     ]
    },
    {
     "name": "stderr",
     "output_type": "stream",
     "text": [
      "ERROR:backoff:Giving up execute_sparql_query(...) after 1 tries (requests.exceptions.HTTPError: 400 Client Error: Bad Request for url: https://query.wikidata.org/sparql?query=%23Tool%3A+WikibaseIntegrator+wbi_functions.execute_sparql_query%0ASELECT+DISTINCT+%3Fsbj+%3Fsbj_label+WHERE++%3Fsbj+wdt%3AP31+wd%3AQ335+.+%3Fsbj+rdfs%3Alabel+%3Fsbj_label+.+FILTER%28CONTAINS%28lcase%28%3Fsbj_label%29%2C+%2715%27%29%29+&format=json)\n",
      "ERROR:root:HTTPError 400 Client Error: Bad Request for url: https://query.wikidata.org/sparql?query=%23Tool%3A+WikibaseIntegrator+wbi_functions.execute_sparql_query%0ASELECT+DISTINCT+%3Fsbj+%3Fsbj_label+WHERE++%3Fsbj+wdt%3AP31+wd%3AQ335+.+%3Fsbj+rdfs%3Alabel+%3Fsbj_label+.+FILTER%28CONTAINS%28lcase%28%3Fsbj_label%29%2C+%2715%27%29%29+&format=json\n"
     ]
    },
    {
     "name": "stdout",
     "output_type": "stream",
     "text": [
      "failed query SELECT DISTINCT ?sbj ?sbj_label WHERE  ?sbj wdt:P31 wd:Q335 . ?sbj rdfs:label ?sbj_label . FILTER(CONTAINS(lcase(?sbj_label), '15')) \n",
      "Failed query number 6\n"
     ]
    },
    {
     "name": "stderr",
     "output_type": "stream",
     "text": [
      "ERROR:backoff:Giving up execute_sparql_query(...) after 1 tries (requests.exceptions.HTTPError: 400 Client Error: Bad Request for url: https://query.wikidata.org/sparql?query=%23Tool%3A+WikibaseIntegrator+wbi_functions.execute_sparql_query%0ASELECT+DISTINCT+%3Fsbj+%3Fsbj_label+WHERE++%3Fsbj+wdt%3AP31+wd%3AQ335+.+%3Fsbj+rdfs%3Alabel+%3Fsbj_label+.+FILTER%28CONTAINS%28lcase%28%3Fsbj_label%29%2C+%27j%27%29%29+.+FILTER+%28lang%28%3Fsbj_label%29+%3D+%27en%27%29++LIMIT+25&format=json)\n",
      "ERROR:root:HTTPError 400 Client Error: Bad Request for url: https://query.wikidata.org/sparql?query=%23Tool%3A+WikibaseIntegrator+wbi_functions.execute_sparql_query%0ASELECT+DISTINCT+%3Fsbj+%3Fsbj_label+WHERE++%3Fsbj+wdt%3AP31+wd%3AQ335+.+%3Fsbj+rdfs%3Alabel+%3Fsbj_label+.+FILTER%28CONTAINS%28lcase%28%3Fsbj_label%29%2C+%27j%27%29%29+.+FILTER+%28lang%28%3Fsbj_label%29+%3D+%27en%27%29++LIMIT+25&format=json\n"
     ]
    },
    {
     "name": "stdout",
     "output_type": "stream",
     "text": [
      "failed query SELECT DISTINCT ?sbj ?sbj_label WHERE  ?sbj wdt:P31 wd:Q335 . ?sbj rdfs:label ?sbj_label . FILTER(CONTAINS(lcase(?sbj_label), 'j')) . FILTER (lang(?sbj_label) = 'en')  LIMIT 25\n",
      "Failed query number 7\n"
     ]
    },
    {
     "name": "stderr",
     "output_type": "stream",
     "text": [
      "ERROR:backoff:Giving up execute_sparql_query(...) after 1 tries (requests.exceptions.HTTPError: 400 Client Error: Bad Request for url: https://query.wikidata.org/sparql?query=%23Tool%3A+WikibaseIntegrator+wbi_functions.execute_sparql_query%0ASELECT+DISTINCT+%3Fsbj+%3Fsbj_label+WHERE++%3Fsbj+wdt%3AP31+wd%3AQ220+.+%3Fsbj+rdfs%3Alabel+%3Fsbj_label+.+FILTER%28STRSTARTS%28lcase%28%3Fsbj_label%29%2C+%27marathon%27%29%29+.+FILTER+%28lang%28%3Fsbj_label%29+%3D+%27en%27%29++LIMIT+25&format=json)\n",
      "ERROR:root:HTTPError 400 Client Error: Bad Request for url: https://query.wikidata.org/sparql?query=%23Tool%3A+WikibaseIntegrator+wbi_functions.execute_sparql_query%0ASELECT+DISTINCT+%3Fsbj+%3Fsbj_label+WHERE++%3Fsbj+wdt%3AP31+wd%3AQ220+.+%3Fsbj+rdfs%3Alabel+%3Fsbj_label+.+FILTER%28STRSTARTS%28lcase%28%3Fsbj_label%29%2C+%27marathon%27%29%29+.+FILTER+%28lang%28%3Fsbj_label%29+%3D+%27en%27%29++LIMIT+25&format=json\n"
     ]
    },
    {
     "name": "stdout",
     "output_type": "stream",
     "text": [
      "failed query SELECT DISTINCT ?sbj ?sbj_label WHERE  ?sbj wdt:P31 wd:Q220 . ?sbj rdfs:label ?sbj_label . FILTER(STRSTARTS(lcase(?sbj_label), 'marathon')) . FILTER (lang(?sbj_label) = 'en')  LIMIT 25\n",
      "Failed query number 8\n"
     ]
    },
    {
     "name": "stderr",
     "output_type": "stream",
     "text": [
      "ERROR:backoff:Giving up execute_sparql_query(...) after 1 tries (requests.exceptions.HTTPError: 400 Client Error: Bad Request for url: https://query.wikidata.org/sparql?query=%23Tool%3A+WikibaseIntegrator+wbi_functions.execute_sparql_query%0Aselect+distinct+%3Fsbj+where++%3Fsbj+wdt%3AP31+wd%3AQ220+.+%3Fsbj+wdt%3AP31+wd%3AQ220+&format=json)\n",
      "ERROR:root:HTTPError 400 Client Error: Bad Request for url: https://query.wikidata.org/sparql?query=%23Tool%3A+WikibaseIntegrator+wbi_functions.execute_sparql_query%0Aselect+distinct+%3Fsbj+where++%3Fsbj+wdt%3AP31+wd%3AQ220+.+%3Fsbj+wdt%3AP31+wd%3AQ220+&format=json\n"
     ]
    },
    {
     "name": "stdout",
     "output_type": "stream",
     "text": [
      "failed query select distinct ?sbj where  ?sbj wdt:P31 wd:Q220 . ?sbj wdt:P31 wd:Q220 \n",
      "Failed query number 9\n"
     ]
    },
    {
     "name": "stderr",
     "output_type": "stream",
     "text": [
      "ERROR:backoff:Giving up execute_sparql_query(...) after 1 tries (requests.exceptions.HTTPError: 400 Client Error: Bad Request for url: https://query.wikidata.org/sparql?query=%23Tool%3A+WikibaseIntegrator+wbi_functions.execute_sparql_query%0ASELECT+%3Fanswer+WHERE++wd%3AQ220+wdt%3AP31+%3Fanswer+.+%3Fanswer+wdt%3AP31+wd%3AQ220+&format=json)\n",
      "ERROR:root:HTTPError 400 Client Error: Bad Request for url: https://query.wikidata.org/sparql?query=%23Tool%3A+WikibaseIntegrator+wbi_functions.execute_sparql_query%0ASELECT+%3Fanswer+WHERE++wd%3AQ220+wdt%3AP31+%3Fanswer+.+%3Fanswer+wdt%3AP31+wd%3AQ220+&format=json\n",
      "ERROR:backoff:Giving up execute_sparql_query(...) after 1 tries (requests.exceptions.HTTPError: 400 Client Error: Bad Request for url: https://query.wikidata.org/sparql?query=%23Tool%3A+WikibaseIntegrator+wbi_functions.execute_sparql_query%0ASELECT+DISTINCT+%3Fsbj+%3Fsbj_label+WHERE++%3Fsbj+wdt%3AP31+wd%3AQ335+.+%3Fsbj+rdfs%3Alabel+%3Fsbj_label+.+FILTER%28CONTAINS%28lcase%28%3Fsbj_label%29%2C+%27model%27%29%29+.+FILTER+%28lang%28%3Fsbj_label%29+%3D+%27en%27%29++LIMIT+25&format=json)\n",
      "ERROR:root:HTTPError 400 Client Error: Bad Request for url: https://query.wikidata.org/sparql?query=%23Tool%3A+WikibaseIntegrator+wbi_functions.execute_sparql_query%0ASELECT+DISTINCT+%3Fsbj+%3Fsbj_label+WHERE++%3Fsbj+wdt%3AP31+wd%3AQ335+.+%3Fsbj+rdfs%3Alabel+%3Fsbj_label+.+FILTER%28CONTAINS%28lcase%28%3Fsbj_label%29%2C+%27model%27%29%29+.+FILTER+%28lang%28%3Fsbj_label%29+%3D+%27en%27%29++LIMIT+25&format=json\n"
     ]
    },
    {
     "name": "stdout",
     "output_type": "stream",
     "text": [
      "failed query SELECT ?answer WHERE  wd:Q220 wdt:P31 ?answer . ?answer wdt:P31 wd:Q220 \n",
      "Failed query number 10\n",
      "failed query SELECT DISTINCT ?sbj ?sbj_label WHERE  ?sbj wdt:P31 wd:Q335 . ?sbj rdfs:label ?sbj_label . FILTER(CONTAINS(lcase(?sbj_label), 'model')) . FILTER (lang(?sbj_label) = 'en')  LIMIT 25\n",
      "Failed query number 11\n"
     ]
    },
    {
     "name": "stderr",
     "output_type": "stream",
     "text": [
      "ERROR:backoff:Giving up execute_sparql_query(...) after 1 tries (requests.exceptions.HTTPError: 400 Client Error: Bad Request for url: https://query.wikidata.org/sparql?query=%23Tool%3A+WikibaseIntegrator+wbi_functions.execute_sparql_query%0ASELECT+%3Fobj+WHERE++wd%3AQ347+p%3AP31+%3Fx+filter%28contains%28YEAR%28%3Fx%29%2C%271999%27%29%29+.+%3Fx+filter%28contains%28%3Fx%2C%271999%27%29%29+&format=json)\n",
      "ERROR:root:HTTPError 400 Client Error: Bad Request for url: https://query.wikidata.org/sparql?query=%23Tool%3A+WikibaseIntegrator+wbi_functions.execute_sparql_query%0ASELECT+%3Fobj+WHERE++wd%3AQ347+p%3AP31+%3Fx+filter%28contains%28YEAR%28%3Fx%29%2C%271999%27%29%29+.+%3Fx+filter%28contains%28%3Fx%2C%271999%27%29%29+&format=json\n"
     ]
    },
    {
     "name": "stdout",
     "output_type": "stream",
     "text": [
      "failed query SELECT ?obj WHERE  wd:Q347 p:P31 ?x filter(contains(YEAR(?x),'1999')) . ?x filter(contains(?x,'1999')) \n",
      "Failed query number 12\n"
     ]
    },
    {
     "name": "stderr",
     "output_type": "stream",
     "text": [
      "ERROR:backoff:Giving up execute_sparql_query(...) after 1 tries (requests.exceptions.HTTPError: 400 Client Error: Bad Request for url: https://query.wikidata.org/sparql?query=%23Tool%3A+WikibaseIntegrator+wbi_functions.execute_sparql_query%0Aselect+distinct+%3Fsbj+where++%3Fsbj+wdt%3AP31+wd%3AQ220+.+%3Fsbj+wdt%3AP31+wd%3AQ220+&format=json)\n",
      "ERROR:root:HTTPError 400 Client Error: Bad Request for url: https://query.wikidata.org/sparql?query=%23Tool%3A+WikibaseIntegrator+wbi_functions.execute_sparql_query%0Aselect+distinct+%3Fsbj+where++%3Fsbj+wdt%3AP31+wd%3AQ220+.+%3Fsbj+wdt%3AP31+wd%3AQ220+&format=json\n"
     ]
    },
    {
     "name": "stdout",
     "output_type": "stream",
     "text": [
      "failed query select distinct ?sbj where  ?sbj wdt:P31 wd:Q220 . ?sbj wdt:P31 wd:Q220 \n",
      "Failed query number 13\n"
     ]
    },
    {
     "name": "stderr",
     "output_type": "stream",
     "text": [
      "ERROR:backoff:Giving up execute_sparql_query(...) after 1 tries (requests.exceptions.HTTPError: 400 Client Error: Bad Request for url: https://query.wikidata.org/sparql?query=%23Tool%3A+WikibaseIntegrator+wbi_functions.execute_sparql_query%0ASELECT+DISTINCT+%3Fsbj+%3Fsbj_label+WHERE++%3Fsbj+wdt%3AP31+wd%3AQ31+.+%3Fsbj+rdfs%3Alabel+%3Fsbj_label+.+FILTER%28CONTAINS%28lcase%28%3Fsbj_label%29%2C+%27population%27%29%29+.+FILTER+%28lang%28%3Fsbj_label%29+%3D+%27en%27%29++LIMIT+25&format=json)\n",
      "ERROR:root:HTTPError 400 Client Error: Bad Request for url: https://query.wikidata.org/sparql?query=%23Tool%3A+WikibaseIntegrator+wbi_functions.execute_sparql_query%0ASELECT+DISTINCT+%3Fsbj+%3Fsbj_label+WHERE++%3Fsbj+wdt%3AP31+wd%3AQ31+.+%3Fsbj+rdfs%3Alabel+%3Fsbj_label+.+FILTER%28CONTAINS%28lcase%28%3Fsbj_label%29%2C+%27population%27%29%29+.+FILTER+%28lang%28%3Fsbj_label%29+%3D+%27en%27%29++LIMIT+25&format=json\n"
     ]
    },
    {
     "name": "stdout",
     "output_type": "stream",
     "text": [
      "failed query SELECT DISTINCT ?sbj ?sbj_label WHERE  ?sbj wdt:P31 wd:Q31 . ?sbj rdfs:label ?sbj_label . FILTER(CONTAINS(lcase(?sbj_label), 'population')) . FILTER (lang(?sbj_label) = 'en')  LIMIT 25\n",
      "Failed query number 14\n"
     ]
    },
    {
     "name": "stderr",
     "output_type": "stream",
     "text": [
      "ERROR:backoff:Giving up execute_sparql_query(...) after 1 tries (requests.exceptions.HTTPError: 400 Client Error: Bad Request for url: https://query.wikidata.org/sparql?query=%23Tool%3A+WikibaseIntegrator+wbi_functions.execute_sparql_query%0ASELECT+DISTINCT+%3Fsbj+%3Fsbj_label+WHERE++%3Fsbj+wdt%3AP31+wd%3AQ31+.+%3Fsbj+rdfs%3Alabel+%3Fsbj_label+.+FILTER%28CONTAINS%28lcase%28%3Fsbj_label%29%2C+%27lepra%27%29%29+.+FILTER+%28lang%28%3Fsbj_label%29+%3D+%27en%27%29++LIMIT+25&format=json)\n",
      "ERROR:root:HTTPError 400 Client Error: Bad Request for url: https://query.wikidata.org/sparql?query=%23Tool%3A+WikibaseIntegrator+wbi_functions.execute_sparql_query%0ASELECT+DISTINCT+%3Fsbj+%3Fsbj_label+WHERE++%3Fsbj+wdt%3AP31+wd%3AQ31+.+%3Fsbj+rdfs%3Alabel+%3Fsbj_label+.+FILTER%28CONTAINS%28lcase%28%3Fsbj_label%29%2C+%27lepra%27%29%29+.+FILTER+%28lang%28%3Fsbj_label%29+%3D+%27en%27%29++LIMIT+25&format=json\n"
     ]
    },
    {
     "name": "stdout",
     "output_type": "stream",
     "text": [
      "failed query SELECT DISTINCT ?sbj ?sbj_label WHERE  ?sbj wdt:P31 wd:Q31 . ?sbj rdfs:label ?sbj_label . FILTER(CONTAINS(lcase(?sbj_label), 'lepra')) . FILTER (lang(?sbj_label) = 'en')  LIMIT 25\n",
      "Failed query number 15\n"
     ]
    },
    {
     "name": "stderr",
     "output_type": "stream",
     "text": [
      "ERROR:backoff:Giving up execute_sparql_query(...) after 1 tries (requests.exceptions.HTTPError: 400 Client Error: Bad Request for url: https://query.wikidata.org/sparql?query=%23Tool%3A+WikibaseIntegrator+wbi_functions.execute_sparql_query%0Aselect+distinct+%3Fsbj+where++%3Fsbj+wdt%3AP31+wd%3AQ220+.+%3Fsbj+wdt%3AP31+wd%3AQ220+&format=json)\n",
      "ERROR:root:HTTPError 400 Client Error: Bad Request for url: https://query.wikidata.org/sparql?query=%23Tool%3A+WikibaseIntegrator+wbi_functions.execute_sparql_query%0Aselect+distinct+%3Fsbj+where++%3Fsbj+wdt%3AP31+wd%3AQ220+.+%3Fsbj+wdt%3AP31+wd%3AQ220+&format=json\n"
     ]
    },
    {
     "name": "stdout",
     "output_type": "stream",
     "text": [
      "failed query select distinct ?sbj where  ?sbj wdt:P31 wd:Q220 . ?sbj wdt:P31 wd:Q220 \n",
      "Failed query number 16\n"
     ]
    },
    {
     "name": "stderr",
     "output_type": "stream",
     "text": [
      "ERROR:backoff:Giving up execute_sparql_query(...) after 1 tries (requests.exceptions.HTTPError: 400 Client Error: Bad Request for url: https://query.wikidata.org/sparql?query=%23Tool%3A+WikibaseIntegrator+wbi_functions.execute_sparql_query%0ASELECT+%3Fanswer+WHERE++wd%3AQ219+wdt%3AP31+wd%3AQ218+.+%3Fanswer+wdt%3AP31+wd%3AQ219+&format=json)\n",
      "ERROR:root:HTTPError 400 Client Error: Bad Request for url: https://query.wikidata.org/sparql?query=%23Tool%3A+WikibaseIntegrator+wbi_functions.execute_sparql_query%0ASELECT+%3Fanswer+WHERE++wd%3AQ219+wdt%3AP31+wd%3AQ218+.+%3Fanswer+wdt%3AP31+wd%3AQ219+&format=json\n"
     ]
    },
    {
     "name": "stdout",
     "output_type": "stream",
     "text": [
      "failed query SELECT ?answer WHERE  wd:Q219 wdt:P31 wd:Q218 . ?answer wdt:P31 wd:Q219 \n",
      "Failed query number 17\n"
     ]
    },
    {
     "name": "stderr",
     "output_type": "stream",
     "text": [
      "ERROR:backoff:Giving up execute_sparql_query(...) after 1 tries (requests.exceptions.HTTPError: 400 Client Error: Bad Request for url: https://query.wikidata.org/sparql?query=%23Tool%3A+WikibaseIntegrator+wbi_functions.execute_sparql_query%0Aselect+distinct+%3Fsbj+where++%3Fsbj+wdt%3AP31+wd%3AQ220+.+%3Fsbj+wdt%3AP31+wd%3AQ220+&format=json)\n",
      "ERROR:root:HTTPError 400 Client Error: Bad Request for url: https://query.wikidata.org/sparql?query=%23Tool%3A+WikibaseIntegrator+wbi_functions.execute_sparql_query%0Aselect+distinct+%3Fsbj+where++%3Fsbj+wdt%3AP31+wd%3AQ220+.+%3Fsbj+wdt%3AP31+wd%3AQ220+&format=json\n",
      "ERROR:backoff:Giving up execute_sparql_query(...) after 1 tries (requests.exceptions.HTTPError: 400 Client Error: Bad Request for url: https://query.wikidata.org/sparql?query=%23Tool%3A+WikibaseIntegrator+wbi_functions.execute_sparql_query%0ASELECT+DISTINCT+%3Fsbj+%3Fsbj_label+WHERE++%3Fsbj+wdt%3AP31+wd%3AQ31+.+%3Fsbj+rdfs%3Alabel+%3Fsbj_label+.+FILTER%28CONTAINS%28lcase%28%3Fsbj_label%29%2C+%27marathon%27%29%29+.+FILTER+%28lang%28%3Fsbj_label%29+%3D+%27en%27%29++LIMIT+25&format=json)\n",
      "ERROR:root:HTTPError 400 Client Error: Bad Request for url: https://query.wikidata.org/sparql?query=%23Tool%3A+WikibaseIntegrator+wbi_functions.execute_sparql_query%0ASELECT+DISTINCT+%3Fsbj+%3Fsbj_label+WHERE++%3Fsbj+wdt%3AP31+wd%3AQ31+.+%3Fsbj+rdfs%3Alabel+%3Fsbj_label+.+FILTER%28CONTAINS%28lcase%28%3Fsbj_label%29%2C+%27marathon%27%29%29+.+FILTER+%28lang%28%3Fsbj_label%29+%3D+%27en%27%29++LIMIT+25&format=json\n"
     ]
    },
    {
     "name": "stdout",
     "output_type": "stream",
     "text": [
      "failed query select distinct ?sbj where  ?sbj wdt:P31 wd:Q220 . ?sbj wdt:P31 wd:Q220 \n",
      "Failed query number 18\n",
      "failed query SELECT DISTINCT ?sbj ?sbj_label WHERE  ?sbj wdt:P31 wd:Q31 . ?sbj rdfs:label ?sbj_label . FILTER(CONTAINS(lcase(?sbj_label), 'marathon')) . FILTER (lang(?sbj_label) = 'en')  LIMIT 25\n",
      "Failed query number 19\n"
     ]
    },
    {
     "name": "stderr",
     "output_type": "stream",
     "text": [
      "ERROR:backoff:Giving up execute_sparql_query(...) after 1 tries (requests.exceptions.HTTPError: 400 Client Error: Bad Request for url: https://query.wikidata.org/sparql?query=%23Tool%3A+WikibaseIntegrator+wbi_functions.execute_sparql_query%0Aselect+distinct+%3Fsbj+where++%3Fsbj+wdt%3AP31+wd%3AQ220+.+%3Fsbj+wdt%3AP31+wd%3AQ220+&format=json)\n",
      "ERROR:root:HTTPError 400 Client Error: Bad Request for url: https://query.wikidata.org/sparql?query=%23Tool%3A+WikibaseIntegrator+wbi_functions.execute_sparql_query%0Aselect+distinct+%3Fsbj+where++%3Fsbj+wdt%3AP31+wd%3AQ220+.+%3Fsbj+wdt%3AP31+wd%3AQ220+&format=json\n",
      "ERROR:backoff:Giving up execute_sparql_query(...) after 1 tries (requests.exceptions.HTTPError: 400 Client Error: Bad Request for url: https://query.wikidata.org/sparql?query=%23Tool%3A+WikibaseIntegrator+wbi_functions.execute_sparql_query%0Aselect+distinct+%3Fsbj+where++%3Fsbj+wdt%3AP31+wd%3AQ220+.+%3Fsbj+wdt%3AP31+wd%3AQ220+&format=json)\n",
      "ERROR:root:HTTPError 400 Client Error: Bad Request for url: https://query.wikidata.org/sparql?query=%23Tool%3A+WikibaseIntegrator+wbi_functions.execute_sparql_query%0Aselect+distinct+%3Fsbj+where++%3Fsbj+wdt%3AP31+wd%3AQ220+.+%3Fsbj+wdt%3AP31+wd%3AQ220+&format=json\n"
     ]
    },
    {
     "name": "stdout",
     "output_type": "stream",
     "text": [
      "failed query select distinct ?sbj where  ?sbj wdt:P31 wd:Q220 . ?sbj wdt:P31 wd:Q220 \n",
      "Failed query number 20\n",
      "failed query select distinct ?sbj where  ?sbj wdt:P31 wd:Q220 . ?sbj wdt:P31 wd:Q220 \n",
      "Failed query number 21\n"
     ]
    },
    {
     "name": "stderr",
     "output_type": "stream",
     "text": [
      "ERROR:backoff:Giving up execute_sparql_query(...) after 1 tries (requests.exceptions.HTTPError: 400 Client Error: Bad Request for url: https://query.wikidata.org/sparql?query=%23Tool%3A+WikibaseIntegrator+wbi_functions.execute_sparql_query%0Aselect+distinct+%3Fsbj+where++%3Fsbj+wdt%3AP31+wd%3AQ220+.+%3Fsbj+wdt%3AP31+wd%3AQ220+&format=json)\n",
      "ERROR:root:HTTPError 400 Client Error: Bad Request for url: https://query.wikidata.org/sparql?query=%23Tool%3A+WikibaseIntegrator+wbi_functions.execute_sparql_query%0Aselect+distinct+%3Fsbj+where++%3Fsbj+wdt%3AP31+wd%3AQ220+.+%3Fsbj+wdt%3AP31+wd%3AQ220+&format=json\n",
      "ERROR:backoff:Giving up execute_sparql_query(...) after 1 tries (requests.exceptions.HTTPError: 400 Client Error: Bad Request for url: https://query.wikidata.org/sparql?query=%23Tool%3A+WikibaseIntegrator+wbi_functions.execute_sparql_query%0Aselect+distinct+%3Fsbj+where++%3Fsbj+wdt%3AP31+wd%3AQ220+.+%3Fsbj+wdt%3AP31+wd%3AQ220+&format=json)\n",
      "ERROR:root:HTTPError 400 Client Error: Bad Request for url: https://query.wikidata.org/sparql?query=%23Tool%3A+WikibaseIntegrator+wbi_functions.execute_sparql_query%0Aselect+distinct+%3Fsbj+where++%3Fsbj+wdt%3AP31+wd%3AQ220+.+%3Fsbj+wdt%3AP31+wd%3AQ220+&format=json\n"
     ]
    },
    {
     "name": "stdout",
     "output_type": "stream",
     "text": [
      "failed query select distinct ?sbj where  ?sbj wdt:P31 wd:Q220 . ?sbj wdt:P31 wd:Q220 \n",
      "Failed query number 22\n",
      "failed query select distinct ?sbj where  ?sbj wdt:P31 wd:Q220 . ?sbj wdt:P31 wd:Q220 \n",
      "Failed query number 23\n"
     ]
    },
    {
     "name": "stderr",
     "output_type": "stream",
     "text": [
      "ERROR:backoff:Giving up execute_sparql_query(...) after 1 tries (requests.exceptions.HTTPError: 400 Client Error: Bad Request for url: https://query.wikidata.org/sparql?query=%23Tool%3A+WikibaseIntegrator+wbi_functions.execute_sparql_query%0ASELECT+DISTINCT+%3Fsbj+%3Fsbj_label+WHERE++%3Fsbj+wdt%3AP31+wd%3AQ335+.+%3Fsbj+rdfs%3Alabel+%3Fsbj_label+.+FILTER%28CONTAINS%28lcase%28%3Fsbj_label%29%2C+%27mojito%27%29%29+.+FILTER+%28lang%28%3Fsbj_label%29+%3D+%27en%27%29++LIMIT+25&format=json)\n",
      "ERROR:root:HTTPError 400 Client Error: Bad Request for url: https://query.wikidata.org/sparql?query=%23Tool%3A+WikibaseIntegrator+wbi_functions.execute_sparql_query%0ASELECT+DISTINCT+%3Fsbj+%3Fsbj_label+WHERE++%3Fsbj+wdt%3AP31+wd%3AQ335+.+%3Fsbj+rdfs%3Alabel+%3Fsbj_label+.+FILTER%28CONTAINS%28lcase%28%3Fsbj_label%29%2C+%27mojito%27%29%29+.+FILTER+%28lang%28%3Fsbj_label%29+%3D+%27en%27%29++LIMIT+25&format=json\n"
     ]
    },
    {
     "name": "stdout",
     "output_type": "stream",
     "text": [
      "failed query SELECT DISTINCT ?sbj ?sbj_label WHERE  ?sbj wdt:P31 wd:Q335 . ?sbj rdfs:label ?sbj_label . FILTER(CONTAINS(lcase(?sbj_label), 'mojito')) . FILTER (lang(?sbj_label) = 'en')  LIMIT 25\n",
      "Failed query number 24\n"
     ]
    },
    {
     "name": "stderr",
     "output_type": "stream",
     "text": [
      "ERROR:backoff:Giving up execute_sparql_query(...) after 1 tries (requests.exceptions.HTTPError: 400 Client Error: Bad Request for url: https://query.wikidata.org/sparql?query=%23Tool%3A+WikibaseIntegrator+wbi_functions.execute_sparql_query%0ASELECT+DISTINCT+%3Fsbj+%3Fsbj_label+WHERE++%3Fsbj+wdt%3AP31+wd%3AQ220+.+%3Fsbj+rdfs%3Alabel+%3Fsbj_label+.+FILTER%28STRSTARTS%28lcase%28%3Fsbj_label%29%2C+%27korean%27%29%29+.+FILTER+%28lang%28%3Fsbj_label%29+%3D+%27en%27%29++LIMIT+25&format=json)\n",
      "ERROR:root:HTTPError 400 Client Error: Bad Request for url: https://query.wikidata.org/sparql?query=%23Tool%3A+WikibaseIntegrator+wbi_functions.execute_sparql_query%0ASELECT+DISTINCT+%3Fsbj+%3Fsbj_label+WHERE++%3Fsbj+wdt%3AP31+wd%3AQ220+.+%3Fsbj+rdfs%3Alabel+%3Fsbj_label+.+FILTER%28STRSTARTS%28lcase%28%3Fsbj_label%29%2C+%27korean%27%29%29+.+FILTER+%28lang%28%3Fsbj_label%29+%3D+%27en%27%29++LIMIT+25&format=json\n",
      "ERROR:backoff:Giving up execute_sparql_query(...) after 1 tries (requests.exceptions.HTTPError: 400 Client Error: Bad Request for url: https://query.wikidata.org/sparql?query=%23Tool%3A+WikibaseIntegrator+wbi_functions.execute_sparql_query%0Aselect+distinct+%3Fsbj+where++%3Fsbj+wdt%3AP31+wd%3AQ220+.+%3Fsbj+wdt%3AP31+wd%3AQ220+&format=json)\n",
      "ERROR:root:HTTPError 400 Client Error: Bad Request for url: https://query.wikidata.org/sparql?query=%23Tool%3A+WikibaseIntegrator+wbi_functions.execute_sparql_query%0Aselect+distinct+%3Fsbj+where++%3Fsbj+wdt%3AP31+wd%3AQ220+.+%3Fsbj+wdt%3AP31+wd%3AQ220+&format=json\n"
     ]
    },
    {
     "name": "stdout",
     "output_type": "stream",
     "text": [
      "failed query SELECT DISTINCT ?sbj ?sbj_label WHERE  ?sbj wdt:P31 wd:Q220 . ?sbj rdfs:label ?sbj_label . FILTER(STRSTARTS(lcase(?sbj_label), 'korean')) . FILTER (lang(?sbj_label) = 'en')  LIMIT 25\n",
      "Failed query number 25\n",
      "failed query select distinct ?sbj where  ?sbj wdt:P31 wd:Q220 . ?sbj wdt:P31 wd:Q220 \n",
      "Failed query number 26\n"
     ]
    },
    {
     "name": "stderr",
     "output_type": "stream",
     "text": [
      "ERROR:backoff:Giving up execute_sparql_query(...) after 1 tries (requests.exceptions.HTTPError: 400 Client Error: Bad Request for url: https://query.wikidata.org/sparql?query=%23Tool%3A+WikibaseIntegrator+wbi_functions.execute_sparql_query%0ASELECT+%3Fanswer+WHERE++wd%3AQ220+wdt%3AP31+wd%3AQ220+.+%3Fanswer+wdt%3AP31+wd%3AQ220+&format=json)\n",
      "ERROR:root:HTTPError 400 Client Error: Bad Request for url: https://query.wikidata.org/sparql?query=%23Tool%3A+WikibaseIntegrator+wbi_functions.execute_sparql_query%0ASELECT+%3Fanswer+WHERE++wd%3AQ220+wdt%3AP31+wd%3AQ220+.+%3Fanswer+wdt%3AP31+wd%3AQ220+&format=json\n"
     ]
    },
    {
     "name": "stdout",
     "output_type": "stream",
     "text": [
      "failed query SELECT ?answer WHERE  wd:Q220 wdt:P31 wd:Q220 . ?answer wdt:P31 wd:Q220 \n",
      "Failed query number 27\n"
     ]
    },
    {
     "name": "stderr",
     "output_type": "stream",
     "text": [
      "ERROR:backoff:Giving up execute_sparql_query(...) after 1 tries (requests.exceptions.HTTPError: 400 Client Error: Bad Request for url: https://query.wikidata.org/sparql?query=%23Tool%3A+WikibaseIntegrator+wbi_functions.execute_sparql_query%0Aselect+distinct+%3Fsbj+where++%3Fsbj+wdt%3AP31+wd%3AQ220+.+%3Fsbj+wdt%3AP31+wd%3AQ220+&format=json)\n",
      "ERROR:root:HTTPError 400 Client Error: Bad Request for url: https://query.wikidata.org/sparql?query=%23Tool%3A+WikibaseIntegrator+wbi_functions.execute_sparql_query%0Aselect+distinct+%3Fsbj+where++%3Fsbj+wdt%3AP31+wd%3AQ220+.+%3Fsbj+wdt%3AP31+wd%3AQ220+&format=json\n"
     ]
    },
    {
     "name": "stdout",
     "output_type": "stream",
     "text": [
      "failed query select distinct ?sbj where  ?sbj wdt:P31 wd:Q220 . ?sbj wdt:P31 wd:Q220 \n",
      "Failed query number 28\n"
     ]
    },
    {
     "name": "stderr",
     "output_type": "stream",
     "text": [
      "ERROR:backoff:Giving up execute_sparql_query(...) after 1 tries (requests.exceptions.HTTPError: 400 Client Error: Bad Request for url: https://query.wikidata.org/sparql?query=%23Tool%3A+WikibaseIntegrator+wbi_functions.execute_sparql_query%0ASELECT+DISTINCT+%3Fsbj+%3Fsbj_label+WHERE++%3Fsbj+wdt%3AP31+wd%3AQ31+.+%3Fsbj+rdfs%3Alabel+%3Fsbj_label+.+FILTER%28STRSTARTS%28lcase%28%3Fsbj_label%29%2C+%27s%27%29%29+.+FILTER+%28lang%28%3Fsbj_label%29+%3D+%27s%27%29%29++LIMIT+25&format=json)\n",
      "ERROR:root:HTTPError 400 Client Error: Bad Request for url: https://query.wikidata.org/sparql?query=%23Tool%3A+WikibaseIntegrator+wbi_functions.execute_sparql_query%0ASELECT+DISTINCT+%3Fsbj+%3Fsbj_label+WHERE++%3Fsbj+wdt%3AP31+wd%3AQ31+.+%3Fsbj+rdfs%3Alabel+%3Fsbj_label+.+FILTER%28STRSTARTS%28lcase%28%3Fsbj_label%29%2C+%27s%27%29%29+.+FILTER+%28lang%28%3Fsbj_label%29+%3D+%27s%27%29%29++LIMIT+25&format=json\n"
     ]
    },
    {
     "name": "stdout",
     "output_type": "stream",
     "text": [
      "failed query SELECT DISTINCT ?sbj ?sbj_label WHERE  ?sbj wdt:P31 wd:Q31 . ?sbj rdfs:label ?sbj_label . FILTER(STRSTARTS(lcase(?sbj_label), 's')) . FILTER (lang(?sbj_label) = 's'))  LIMIT 25\n",
      "Failed query number 29\n"
     ]
    },
    {
     "name": "stderr",
     "output_type": "stream",
     "text": [
      "ERROR:backoff:Giving up execute_sparql_query(...) after 1 tries (requests.exceptions.HTTPError: 400 Client Error: Bad Request for url: https://query.wikidata.org/sparql?query=%23Tool%3A+WikibaseIntegrator+wbi_functions.execute_sparql_query%0ASELECT+%28COUNT%28%3Fobj%29+AS+%3Fvalue+%29+&format=json)\n",
      "ERROR:root:HTTPError 400 Client Error: Bad Request for url: https://query.wikidata.org/sparql?query=%23Tool%3A+WikibaseIntegrator+wbi_functions.execute_sparql_query%0ASELECT+%28COUNT%28%3Fobj%29+AS+%3Fvalue+%29+&format=json\n",
      "ERROR:backoff:Giving up execute_sparql_query(...) after 1 tries (requests.exceptions.HTTPError: 400 Client Error: Bad Request for url: https://query.wikidata.org/sparql?query=%23Tool%3A+WikibaseIntegrator+wbi_functions.execute_sparql_query%0Aselect+distinct+%3Fsbj+where++%3Fsbj+wdt%3AP31+wd%3AQ220+.+%3Fsbj+wdt%3AP31+wd%3AQ220+&format=json)\n",
      "ERROR:root:HTTPError 400 Client Error: Bad Request for url: https://query.wikidata.org/sparql?query=%23Tool%3A+WikibaseIntegrator+wbi_functions.execute_sparql_query%0Aselect+distinct+%3Fsbj+where++%3Fsbj+wdt%3AP31+wd%3AQ220+.+%3Fsbj+wdt%3AP31+wd%3AQ220+&format=json\n"
     ]
    },
    {
     "name": "stdout",
     "output_type": "stream",
     "text": [
      "failed query SELECT (COUNT(?obj) AS ?value ) \n",
      "Failed query number 30\n",
      "failed query select distinct ?sbj where  ?sbj wdt:P31 wd:Q220 . ?sbj wdt:P31 wd:Q220 \n",
      "Failed query number 31\n"
     ]
    },
    {
     "name": "stderr",
     "output_type": "stream",
     "text": [
      "ERROR:backoff:Giving up execute_sparql_query(...) after 1 tries (requests.exceptions.HTTPError: 400 Client Error: Bad Request for url: https://query.wikidata.org/sparql?query=%23Tool%3A+WikibaseIntegrator+wbi_functions.execute_sparql_query%0Aselect+distinct+%3Fsbj+where++%3Fsbj+wdt%3AP31+wd%3AQ220+.+%3Fsbj+wdt%3AP31+wd%3AQ220+&format=json)\n",
      "ERROR:root:HTTPError 400 Client Error: Bad Request for url: https://query.wikidata.org/sparql?query=%23Tool%3A+WikibaseIntegrator+wbi_functions.execute_sparql_query%0Aselect+distinct+%3Fsbj+where++%3Fsbj+wdt%3AP31+wd%3AQ220+.+%3Fsbj+wdt%3AP31+wd%3AQ220+&format=json\n",
      "ERROR:backoff:Giving up execute_sparql_query(...) after 1 tries (requests.exceptions.HTTPError: 400 Client Error: Bad Request for url: https://query.wikidata.org/sparql?query=%23Tool%3A+WikibaseIntegrator+wbi_functions.execute_sparql_query%0Aselect+distinct+%3Fsbj+where++%3Fsbj+wdt%3AP31+wd%3AQ220+.+%3Fsbj+wdt%3AP31+wd%3AQ220+&format=json)\n",
      "ERROR:root:HTTPError 400 Client Error: Bad Request for url: https://query.wikidata.org/sparql?query=%23Tool%3A+WikibaseIntegrator+wbi_functions.execute_sparql_query%0Aselect+distinct+%3Fsbj+where++%3Fsbj+wdt%3AP31+wd%3AQ220+.+%3Fsbj+wdt%3AP31+wd%3AQ220+&format=json\n"
     ]
    },
    {
     "name": "stdout",
     "output_type": "stream",
     "text": [
      "failed query select distinct ?sbj where  ?sbj wdt:P31 wd:Q220 . ?sbj wdt:P31 wd:Q220 \n",
      "Failed query number 32\n",
      "failed query select distinct ?sbj where  ?sbj wdt:P31 wd:Q220 . ?sbj wdt:P31 wd:Q220 \n",
      "Failed query number 33\n"
     ]
    },
    {
     "name": "stderr",
     "output_type": "stream",
     "text": [
      "ERROR:backoff:Giving up execute_sparql_query(...) after 1 tries (requests.exceptions.HTTPError: 400 Client Error: Bad Request for url: https://query.wikidata.org/sparql?query=%23Tool%3A+WikibaseIntegrator+wbi_functions.execute_sparql_query%0ASELECT+DISTINCT+%3Fsbj+%3Fsbj_label+WHERE++%3Fsbj+wdt%3AP31+wd%3AQ220+.+%3Fsbj+rdfs%3Alabel+%3Fsbj_label+.+FILTER%28CONTAINS%28lcase%28%3Fsbj_label%29%2C+%27170000%27%29%29+.+FILTER+%28lang%28%3Fsbj_label%29+%3D+%27en%27%29++LIMIT+25&format=json)\n",
      "ERROR:root:HTTPError 400 Client Error: Bad Request for url: https://query.wikidata.org/sparql?query=%23Tool%3A+WikibaseIntegrator+wbi_functions.execute_sparql_query%0ASELECT+DISTINCT+%3Fsbj+%3Fsbj_label+WHERE++%3Fsbj+wdt%3AP31+wd%3AQ220+.+%3Fsbj+rdfs%3Alabel+%3Fsbj_label+.+FILTER%28CONTAINS%28lcase%28%3Fsbj_label%29%2C+%27170000%27%29%29+.+FILTER+%28lang%28%3Fsbj_label%29+%3D+%27en%27%29++LIMIT+25&format=json\n"
     ]
    },
    {
     "name": "stdout",
     "output_type": "stream",
     "text": [
      "failed query SELECT DISTINCT ?sbj ?sbj_label WHERE  ?sbj wdt:P31 wd:Q220 . ?sbj rdfs:label ?sbj_label . FILTER(CONTAINS(lcase(?sbj_label), '170000')) . FILTER (lang(?sbj_label) = 'en')  LIMIT 25\n",
      "Failed query number 34\n"
     ]
    },
    {
     "name": "stderr",
     "output_type": "stream",
     "text": [
      "ERROR:backoff:Giving up execute_sparql_query(...) after 1 tries (requests.exceptions.HTTPError: 400 Client Error: Bad Request for url: https://query.wikidata.org/sparql?query=%23Tool%3A+WikibaseIntegrator+wbi_functions.execute_sparql_query%0Aselect+distinct+%3Fsbj+where++%3Fsbj+wdt%3AP31+wd%3AQ220+.+%3Fsbj+wdt%3AP31+wd%3AQ220+&format=json)\n",
      "ERROR:root:HTTPError 400 Client Error: Bad Request for url: https://query.wikidata.org/sparql?query=%23Tool%3A+WikibaseIntegrator+wbi_functions.execute_sparql_query%0Aselect+distinct+%3Fsbj+where++%3Fsbj+wdt%3AP31+wd%3AQ220+.+%3Fsbj+wdt%3AP31+wd%3AQ220+&format=json\n"
     ]
    },
    {
     "name": "stdout",
     "output_type": "stream",
     "text": [
      "failed query select distinct ?sbj where  ?sbj wdt:P31 wd:Q220 . ?sbj wdt:P31 wd:Q220 \n",
      "Failed query number 35\n"
     ]
    },
    {
     "name": "stderr",
     "output_type": "stream",
     "text": [
      "ERROR:backoff:Giving up execute_sparql_query(...) after 1 tries (requests.exceptions.HTTPError: 400 Client Error: Bad Request for url: https://query.wikidata.org/sparql?query=%23Tool%3A+WikibaseIntegrator+wbi_functions.execute_sparql_query%0ASELECT+DISTINCT+%3Fsbj+%3Fsbj_label+WHERE++%3Fsbj+wdt%3AP31+wd%3AQ220+.+%3Fsbj+rdfs%3Alabel+%3Fsbj_label+.+FILTER%28STRSTARTS%28lcase%28%3Fsbj_label%29%2C+%273.2%27%29%29+.+FILTER+%28lang%28%3Fsbj_label%29+%3D+3.2%29+%27en%27%29++LIMIT+25&format=json)\n",
      "ERROR:root:HTTPError 400 Client Error: Bad Request for url: https://query.wikidata.org/sparql?query=%23Tool%3A+WikibaseIntegrator+wbi_functions.execute_sparql_query%0ASELECT+DISTINCT+%3Fsbj+%3Fsbj_label+WHERE++%3Fsbj+wdt%3AP31+wd%3AQ220+.+%3Fsbj+rdfs%3Alabel+%3Fsbj_label+.+FILTER%28STRSTARTS%28lcase%28%3Fsbj_label%29%2C+%273.2%27%29%29+.+FILTER+%28lang%28%3Fsbj_label%29+%3D+3.2%29+%27en%27%29++LIMIT+25&format=json\n"
     ]
    },
    {
     "name": "stdout",
     "output_type": "stream",
     "text": [
      "failed query SELECT DISTINCT ?sbj ?sbj_label WHERE  ?sbj wdt:P31 wd:Q220 . ?sbj rdfs:label ?sbj_label . FILTER(STRSTARTS(lcase(?sbj_label), '3.2')) . FILTER (lang(?sbj_label) = 3.2) 'en')  LIMIT 25\n",
      "Failed query number 36\n"
     ]
    },
    {
     "name": "stderr",
     "output_type": "stream",
     "text": [
      "ERROR:backoff:Giving up execute_sparql_query(...) after 1 tries (requests.exceptions.HTTPError: 400 Client Error: Bad Request for url: https://query.wikidata.org/sparql?query=%23Tool%3A+WikibaseIntegrator+wbi_functions.execute_sparql_query%0Aselect+distinct+%3Fsbj+where++%3Fsbj+wdt%3AP31+wd%3AQ220+.+%3Fsbj+wdt%3AP31+wd%3AQ220+&format=json)\n",
      "ERROR:root:HTTPError 400 Client Error: Bad Request for url: https://query.wikidata.org/sparql?query=%23Tool%3A+WikibaseIntegrator+wbi_functions.execute_sparql_query%0Aselect+distinct+%3Fsbj+where++%3Fsbj+wdt%3AP31+wd%3AQ220+.+%3Fsbj+wdt%3AP31+wd%3AQ220+&format=json\n",
      "ERROR:backoff:Giving up execute_sparql_query(...) after 1 tries (requests.exceptions.HTTPError: 400 Client Error: Bad Request for url: https://query.wikidata.org/sparql?query=%23Tool%3A+WikibaseIntegrator+wbi_functions.execute_sparql_query%0Aselect+distinct+%3Fsbj+where++%3Fsbj+wdt%3AP31+wd%3AQ220+.+%3Fsbj+wdt%3AP31+wd%3AQ220+&format=json)\n",
      "ERROR:root:HTTPError 400 Client Error: Bad Request for url: https://query.wikidata.org/sparql?query=%23Tool%3A+WikibaseIntegrator+wbi_functions.execute_sparql_query%0Aselect+distinct+%3Fsbj+where++%3Fsbj+wdt%3AP31+wd%3AQ220+.+%3Fsbj+wdt%3AP31+wd%3AQ220+&format=json\n"
     ]
    },
    {
     "name": "stdout",
     "output_type": "stream",
     "text": [
      "failed query select distinct ?sbj where  ?sbj wdt:P31 wd:Q220 . ?sbj wdt:P31 wd:Q220 \n",
      "Failed query number 37\n",
      "failed query select distinct ?sbj where  ?sbj wdt:P31 wd:Q220 . ?sbj wdt:P31 wd:Q220 \n",
      "Failed query number 38\n"
     ]
    },
    {
     "name": "stderr",
     "output_type": "stream",
     "text": [
      "ERROR:backoff:Giving up execute_sparql_query(...) after 1 tries (requests.exceptions.HTTPError: 400 Client Error: Bad Request for url: https://query.wikidata.org/sparql?query=%23Tool%3A+WikibaseIntegrator+wbi_functions.execute_sparql_query%0ASELECT+DISTINCT+%3Fsbj+%3Fsbj_label+WHERE++%3Fsbj+wdt%3AP31+wd%3AQ31+.+%3Fsbj+rdfs%3Alabel+%3Fsbj_label+.+FILTER%28STRSTARTS%28lcase%28%3Fsbj_label%29%2C+%27n%2Fa%27%29%29+.+FILTER+%28lang%28%3Fsbj_label%29+%3D+%27en%27%29++LIMIT+25&format=json)\n",
      "ERROR:root:HTTPError 400 Client Error: Bad Request for url: https://query.wikidata.org/sparql?query=%23Tool%3A+WikibaseIntegrator+wbi_functions.execute_sparql_query%0ASELECT+DISTINCT+%3Fsbj+%3Fsbj_label+WHERE++%3Fsbj+wdt%3AP31+wd%3AQ31+.+%3Fsbj+rdfs%3Alabel+%3Fsbj_label+.+FILTER%28STRSTARTS%28lcase%28%3Fsbj_label%29%2C+%27n%2Fa%27%29%29+.+FILTER+%28lang%28%3Fsbj_label%29+%3D+%27en%27%29++LIMIT+25&format=json\n",
      "ERROR:backoff:Giving up execute_sparql_query(...) after 1 tries (requests.exceptions.HTTPError: 400 Client Error: Bad Request for url: https://query.wikidata.org/sparql?query=%23Tool%3A+WikibaseIntegrator+wbi_functions.execute_sparql_query%0Aselect+distinct+%3Fsbj+where++%3Fsbj+wdt%3AP31+wd%3AQ220+.+%3Fsbj+wdt%3AP31+wd%3AQ220+&format=json)\n",
      "ERROR:root:HTTPError 400 Client Error: Bad Request for url: https://query.wikidata.org/sparql?query=%23Tool%3A+WikibaseIntegrator+wbi_functions.execute_sparql_query%0Aselect+distinct+%3Fsbj+where++%3Fsbj+wdt%3AP31+wd%3AQ220+.+%3Fsbj+wdt%3AP31+wd%3AQ220+&format=json\n"
     ]
    },
    {
     "name": "stdout",
     "output_type": "stream",
     "text": [
      "failed query SELECT DISTINCT ?sbj ?sbj_label WHERE  ?sbj wdt:P31 wd:Q31 . ?sbj rdfs:label ?sbj_label . FILTER(STRSTARTS(lcase(?sbj_label), 'n/a')) . FILTER (lang(?sbj_label) = 'en')  LIMIT 25\n",
      "Failed query number 39\n",
      "failed query select distinct ?sbj where  ?sbj wdt:P31 wd:Q220 . ?sbj wdt:P31 wd:Q220 \n",
      "Failed query number 40\n"
     ]
    },
    {
     "name": "stderr",
     "output_type": "stream",
     "text": [
      "ERROR:backoff:Giving up execute_sparql_query(...) after 1 tries (requests.exceptions.HTTPError: 400 Client Error: Bad Request for url: https://query.wikidata.org/sparql?query=%23Tool%3A+WikibaseIntegrator+wbi_functions.execute_sparql_query%0ASELECT+DISTINCT+%3Fsbj+%3Fsbj_label+WHERE++%3Fsbj+wdt%3AP31+wd%3AQ31+.+%3Fsbj+rdfs%3Alabel+%3Fsbj_label+.+FILTER%28STRSTARTS%28lcase%28%3Fsbj_label%29%2C+%27s%27%29%29+.+FILTER+%28lang%28%3Fsbj_label%29+%3D+%27s%27%29++LIMIT+25&format=json)\n",
      "ERROR:root:HTTPError 400 Client Error: Bad Request for url: https://query.wikidata.org/sparql?query=%23Tool%3A+WikibaseIntegrator+wbi_functions.execute_sparql_query%0ASELECT+DISTINCT+%3Fsbj+%3Fsbj_label+WHERE++%3Fsbj+wdt%3AP31+wd%3AQ31+.+%3Fsbj+rdfs%3Alabel+%3Fsbj_label+.+FILTER%28STRSTARTS%28lcase%28%3Fsbj_label%29%2C+%27s%27%29%29+.+FILTER+%28lang%28%3Fsbj_label%29+%3D+%27s%27%29++LIMIT+25&format=json\n",
      "ERROR:backoff:Giving up execute_sparql_query(...) after 1 tries (requests.exceptions.HTTPError: 400 Client Error: Bad Request for url: https://query.wikidata.org/sparql?query=%23Tool%3A+WikibaseIntegrator+wbi_functions.execute_sparql_query%0Aselect+distinct+%3Fsbj+where++%3Fsbj+wdt%3AP31+wd%3AQ220+.+%3Fsbj+wdt%3AP31+wd%3AQ220+&format=json)\n",
      "ERROR:root:HTTPError 400 Client Error: Bad Request for url: https://query.wikidata.org/sparql?query=%23Tool%3A+WikibaseIntegrator+wbi_functions.execute_sparql_query%0Aselect+distinct+%3Fsbj+where++%3Fsbj+wdt%3AP31+wd%3AQ220+.+%3Fsbj+wdt%3AP31+wd%3AQ220+&format=json\n"
     ]
    },
    {
     "name": "stdout",
     "output_type": "stream",
     "text": [
      "failed query SELECT DISTINCT ?sbj ?sbj_label WHERE  ?sbj wdt:P31 wd:Q31 . ?sbj rdfs:label ?sbj_label . FILTER(STRSTARTS(lcase(?sbj_label), 's')) . FILTER (lang(?sbj_label) = 's')  LIMIT 25\n",
      "Failed query number 41\n",
      "failed query select distinct ?sbj where  ?sbj wdt:P31 wd:Q220 . ?sbj wdt:P31 wd:Q220 \n",
      "Failed query number 42\n"
     ]
    },
    {
     "name": "stderr",
     "output_type": "stream",
     "text": [
      "ERROR:backoff:Giving up execute_sparql_query(...) after 1 tries (requests.exceptions.HTTPError: 400 Client Error: Bad Request for url: https://query.wikidata.org/sparql?query=%23Tool%3A+WikibaseIntegrator+wbi_functions.execute_sparql_query%0ASELECT+DISTINCT+%3Fsbj+%3Fsbj_label+WHERE++%3Fsbj+wdt%3AP31+wd%3AQ335+.+%3Fsbj+rdfs%3Alabel+%3Fsbj_label+.+FILTER%28CONTAINS%28lcase%28%3Fsbj_label%29%2C+%27mamagdalena+van+Beethoven%27%29%29+.+FILTER+%28lang%28%3Fsbj&format=json)\n",
      "ERROR:root:HTTPError 400 Client Error: Bad Request for url: https://query.wikidata.org/sparql?query=%23Tool%3A+WikibaseIntegrator+wbi_functions.execute_sparql_query%0ASELECT+DISTINCT+%3Fsbj+%3Fsbj_label+WHERE++%3Fsbj+wdt%3AP31+wd%3AQ335+.+%3Fsbj+rdfs%3Alabel+%3Fsbj_label+.+FILTER%28CONTAINS%28lcase%28%3Fsbj_label%29%2C+%27mamagdalena+van+Beethoven%27%29%29+.+FILTER+%28lang%28%3Fsbj&format=json\n"
     ]
    },
    {
     "name": "stdout",
     "output_type": "stream",
     "text": [
      "failed query SELECT DISTINCT ?sbj ?sbj_label WHERE  ?sbj wdt:P31 wd:Q335 . ?sbj rdfs:label ?sbj_label . FILTER(CONTAINS(lcase(?sbj_label), 'mamagdalena van Beethoven')) . FILTER (lang(?sbj\n",
      "Failed query number 43\n"
     ]
    },
    {
     "name": "stderr",
     "output_type": "stream",
     "text": [
      "ERROR:backoff:Giving up execute_sparql_query(...) after 1 tries (requests.exceptions.HTTPError: 400 Client Error: Bad Request for url: https://query.wikidata.org/sparql?query=%23Tool%3A+WikibaseIntegrator+wbi_functions.execute_sparql_query%0Aselect+distinct+%3Fsbj+where++%3Fsbj+wdt%3AP31+wd%3AQ220+.+%3Fsbj+wdt%3AP31+wd%3AQ220+&format=json)\n",
      "ERROR:root:HTTPError 400 Client Error: Bad Request for url: https://query.wikidata.org/sparql?query=%23Tool%3A+WikibaseIntegrator+wbi_functions.execute_sparql_query%0Aselect+distinct+%3Fsbj+where++%3Fsbj+wdt%3AP31+wd%3AQ220+.+%3Fsbj+wdt%3AP31+wd%3AQ220+&format=json\n"
     ]
    },
    {
     "name": "stdout",
     "output_type": "stream",
     "text": [
      "failed query select distinct ?sbj where  ?sbj wdt:P31 wd:Q220 . ?sbj wdt:P31 wd:Q220 \n",
      "Failed query number 44\n"
     ]
    },
    {
     "name": "stderr",
     "output_type": "stream",
     "text": [
      "ERROR:backoff:Giving up execute_sparql_query(...) after 1 tries (requests.exceptions.HTTPError: 400 Client Error: Bad Request for url: https://query.wikidata.org/sparql?query=%23Tool%3A+WikibaseIntegrator+wbi_functions.execute_sparql_query%0ASELECT+DISTINCT+%3Fsbj+%3Fsbj_label+WHERE++%3Fsbj+wdt%3AP31+wd%3AQ31+.+%3Fsbj+rdfs%3Alabel+%3Fsbj_label+.+FILTER%28STRSTARTS%28lcase%28%3Fsbj_label%29%2C+%27zollkriminalamt%27%29%29+.+FILTER+%28lang%28%3Fsbj_label%29+%3D+%27en%27%29++LIMIT+25&format=json)\n",
      "ERROR:root:HTTPError 400 Client Error: Bad Request for url: https://query.wikidata.org/sparql?query=%23Tool%3A+WikibaseIntegrator+wbi_functions.execute_sparql_query%0ASELECT+DISTINCT+%3Fsbj+%3Fsbj_label+WHERE++%3Fsbj+wdt%3AP31+wd%3AQ31+.+%3Fsbj+rdfs%3Alabel+%3Fsbj_label+.+FILTER%28STRSTARTS%28lcase%28%3Fsbj_label%29%2C+%27zollkriminalamt%27%29%29+.+FILTER+%28lang%28%3Fsbj_label%29+%3D+%27en%27%29++LIMIT+25&format=json\n",
      "ERROR:backoff:Giving up execute_sparql_query(...) after 1 tries (requests.exceptions.HTTPError: 400 Client Error: Bad Request for url: https://query.wikidata.org/sparql?query=%23Tool%3A+WikibaseIntegrator+wbi_functions.execute_sparql_query%0Aselect+distinct+%3Fsbj+where++%3Fsbj+wdt%3AP31+wd%3AQ220+.+%3Fsbj+wdt%3AP31+wd%3AQ220+&format=json)\n",
      "ERROR:root:HTTPError 400 Client Error: Bad Request for url: https://query.wikidata.org/sparql?query=%23Tool%3A+WikibaseIntegrator+wbi_functions.execute_sparql_query%0Aselect+distinct+%3Fsbj+where++%3Fsbj+wdt%3AP31+wd%3AQ220+.+%3Fsbj+wdt%3AP31+wd%3AQ220+&format=json\n"
     ]
    },
    {
     "name": "stdout",
     "output_type": "stream",
     "text": [
      "failed query SELECT DISTINCT ?sbj ?sbj_label WHERE  ?sbj wdt:P31 wd:Q31 . ?sbj rdfs:label ?sbj_label . FILTER(STRSTARTS(lcase(?sbj_label), 'zollkriminalamt')) . FILTER (lang(?sbj_label) = 'en')  LIMIT 25\n",
      "Failed query number 45\n",
      "failed query select distinct ?sbj where  ?sbj wdt:P31 wd:Q220 . ?sbj wdt:P31 wd:Q220 \n",
      "Failed query number 46\n"
     ]
    },
    {
     "name": "stderr",
     "output_type": "stream",
     "text": [
      "ERROR:backoff:Giving up execute_sparql_query(...) after 1 tries (requests.exceptions.HTTPError: 400 Client Error: Bad Request for url: https://query.wikidata.org/sparql?query=%23Tool%3A+WikibaseIntegrator+wbi_functions.execute_sparql_query%0ASELECT+%3Fanswer+WHERE++wd%3AQ219+wdt%3AP31+wd%3AQ218+.+%3Fanswer+wdt%3AP31+wd%3AQ219+&format=json)\n",
      "ERROR:root:HTTPError 400 Client Error: Bad Request for url: https://query.wikidata.org/sparql?query=%23Tool%3A+WikibaseIntegrator+wbi_functions.execute_sparql_query%0ASELECT+%3Fanswer+WHERE++wd%3AQ219+wdt%3AP31+wd%3AQ218+.+%3Fanswer+wdt%3AP31+wd%3AQ219+&format=json\n"
     ]
    },
    {
     "name": "stdout",
     "output_type": "stream",
     "text": [
      "failed query SELECT ?answer WHERE  wd:Q219 wdt:P31 wd:Q218 . ?answer wdt:P31 wd:Q219 \n",
      "Failed query number 47\n"
     ]
    },
    {
     "name": "stderr",
     "output_type": "stream",
     "text": [
      "ERROR:backoff:Giving up execute_sparql_query(...) after 1 tries (requests.exceptions.HTTPError: 400 Client Error: Bad Request for url: https://query.wikidata.org/sparql?query=%23Tool%3A+WikibaseIntegrator+wbi_functions.execute_sparql_query%0Aselect+distinct+%3Fsbj+where++%3Fsbj+wdt%3AP31+wd%3AQ220+.+%3Fsbj+wdt%3AP31+wd%3AQ220+&format=json)\n",
      "ERROR:root:HTTPError 400 Client Error: Bad Request for url: https://query.wikidata.org/sparql?query=%23Tool%3A+WikibaseIntegrator+wbi_functions.execute_sparql_query%0Aselect+distinct+%3Fsbj+where++%3Fsbj+wdt%3AP31+wd%3AQ220+.+%3Fsbj+wdt%3AP31+wd%3AQ220+&format=json\n",
      "ERROR:backoff:Giving up execute_sparql_query(...) after 1 tries (requests.exceptions.HTTPError: 400 Client Error: Bad Request for url: https://query.wikidata.org/sparql?query=%23Tool%3A+WikibaseIntegrator+wbi_functions.execute_sparql_query%0ASELECT+%3Fanswer+WHERE++wd%3AQ220+wdt%3AP31+%3Fanswer+.+%3Fanswer+wdt%3AP31+wd%3AQ220+&format=json)\n",
      "ERROR:root:HTTPError 400 Client Error: Bad Request for url: https://query.wikidata.org/sparql?query=%23Tool%3A+WikibaseIntegrator+wbi_functions.execute_sparql_query%0ASELECT+%3Fanswer+WHERE++wd%3AQ220+wdt%3AP31+%3Fanswer+.+%3Fanswer+wdt%3AP31+wd%3AQ220+&format=json\n"
     ]
    },
    {
     "name": "stdout",
     "output_type": "stream",
     "text": [
      "failed query select distinct ?sbj where  ?sbj wdt:P31 wd:Q220 . ?sbj wdt:P31 wd:Q220 \n",
      "Failed query number 48\n",
      "failed query SELECT ?answer WHERE  wd:Q220 wdt:P31 ?answer . ?answer wdt:P31 wd:Q220 \n",
      "Failed query number 49\n"
     ]
    },
    {
     "name": "stderr",
     "output_type": "stream",
     "text": [
      "ERROR:backoff:Giving up execute_sparql_query(...) after 1 tries (requests.exceptions.HTTPError: 400 Client Error: Bad Request for url: https://query.wikidata.org/sparql?query=%23Tool%3A+WikibaseIntegrator+wbi_functions.execute_sparql_query%0Aselect+distinct+%3Fsbj+where++%3Fsbj+wdt%3AP31+wd%3AQ220+.+%3Fsbj+wdt%3AP31+wd%3AQ220+&format=json)\n",
      "ERROR:root:HTTPError 400 Client Error: Bad Request for url: https://query.wikidata.org/sparql?query=%23Tool%3A+WikibaseIntegrator+wbi_functions.execute_sparql_query%0Aselect+distinct+%3Fsbj+where++%3Fsbj+wdt%3AP31+wd%3AQ220+.+%3Fsbj+wdt%3AP31+wd%3AQ220+&format=json\n"
     ]
    },
    {
     "name": "stdout",
     "output_type": "stream",
     "text": [
      "failed query select distinct ?sbj where  ?sbj wdt:P31 wd:Q220 . ?sbj wdt:P31 wd:Q220 \n",
      "Failed query number 50\n"
     ]
    },
    {
     "name": "stderr",
     "output_type": "stream",
     "text": [
      "ERROR:backoff:Giving up execute_sparql_query(...) after 1 tries (requests.exceptions.HTTPError: 400 Client Error: Bad Request for url: https://query.wikidata.org/sparql?query=%23Tool%3A+WikibaseIntegrator+wbi_functions.execute_sparql_query%0Aselect+distinct+%3Fsbj+where++%3Fsbj+wdt%3AP31+wd%3AQ220+.+%3Fsbj+wdt%3AP31+wd%3AQ220+&format=json)\n",
      "ERROR:root:HTTPError 400 Client Error: Bad Request for url: https://query.wikidata.org/sparql?query=%23Tool%3A+WikibaseIntegrator+wbi_functions.execute_sparql_query%0Aselect+distinct+%3Fsbj+where++%3Fsbj+wdt%3AP31+wd%3AQ220+.+%3Fsbj+wdt%3AP31+wd%3AQ220+&format=json\n",
      "ERROR:backoff:Giving up execute_sparql_query(...) after 1 tries (requests.exceptions.HTTPError: 400 Client Error: Bad Request for url: https://query.wikidata.org/sparql?query=%23Tool%3A+WikibaseIntegrator+wbi_functions.execute_sparql_query%0Aselect+distinct+%3Fsbj+where++%3Fsbj+wdt%3AP31+wd%3AQ220+.+%3Fsbj+wdt%3AP31+wd%3AQ220+&format=json)\n",
      "ERROR:root:HTTPError 400 Client Error: Bad Request for url: https://query.wikidata.org/sparql?query=%23Tool%3A+WikibaseIntegrator+wbi_functions.execute_sparql_query%0Aselect+distinct+%3Fsbj+where++%3Fsbj+wdt%3AP31+wd%3AQ220+.+%3Fsbj+wdt%3AP31+wd%3AQ220+&format=json\n"
     ]
    },
    {
     "name": "stdout",
     "output_type": "stream",
     "text": [
      "failed query select distinct ?sbj where  ?sbj wdt:P31 wd:Q220 . ?sbj wdt:P31 wd:Q220 \n",
      "Failed query number 51\n",
      "failed query select distinct ?sbj where  ?sbj wdt:P31 wd:Q220 . ?sbj wdt:P31 wd:Q220 \n",
      "Failed query number 52\n"
     ]
    },
    {
     "name": "stderr",
     "output_type": "stream",
     "text": [
      "ERROR:backoff:Giving up execute_sparql_query(...) after 1 tries (requests.exceptions.HTTPError: 400 Client Error: Bad Request for url: https://query.wikidata.org/sparql?query=%23Tool%3A+WikibaseIntegrator+wbi_functions.execute_sparql_query%0ASELECT+DISTINCT+%3Fsbj+%3Fsbj_label+WHERE++%3Fsbj+wdt%3AP31+wd%3AQ335+.+%3Fsbj+rdfs%3Alabel+%3Fsbj_label+.+FILTER%28CONTAINS%28lcase%28%3Fsbj_label%29%2C+%27paraffin+wax%27%29%29+.+FILTER+%28lang%28%3Fsbj_label%29+%3D+%27en%27%29++LIMIT+25&format=json)\n",
      "ERROR:root:HTTPError 400 Client Error: Bad Request for url: https://query.wikidata.org/sparql?query=%23Tool%3A+WikibaseIntegrator+wbi_functions.execute_sparql_query%0ASELECT+DISTINCT+%3Fsbj+%3Fsbj_label+WHERE++%3Fsbj+wdt%3AP31+wd%3AQ335+.+%3Fsbj+rdfs%3Alabel+%3Fsbj_label+.+FILTER%28CONTAINS%28lcase%28%3Fsbj_label%29%2C+%27paraffin+wax%27%29%29+.+FILTER+%28lang%28%3Fsbj_label%29+%3D+%27en%27%29++LIMIT+25&format=json\n",
      "ERROR:backoff:Giving up execute_sparql_query(...) after 1 tries (requests.exceptions.HTTPError: 400 Client Error: Bad Request for url: https://query.wikidata.org/sparql?query=%23Tool%3A+WikibaseIntegrator+wbi_functions.execute_sparql_query%0ASELECT+DISTINCT+%3Fsbj+%3Fsbj_label+WHERE++%3Fsbj+wdt%3AP31+wd%3AQ335+.+%3Fsbj+rdfs%3Alabel+%3Fsbj_label+.+FILTER%28STRSTARTS%28lcase%28%3Fsbj_label%29%2C+%27gravity%27%29%29+.+FILTER+%28lang%28%3Fsbj_label%29+%3D+%27en%27%29++LIMIT+25&format=json)\n",
      "ERROR:root:HTTPError 400 Client Error: Bad Request for url: https://query.wikidata.org/sparql?query=%23Tool%3A+WikibaseIntegrator+wbi_functions.execute_sparql_query%0ASELECT+DISTINCT+%3Fsbj+%3Fsbj_label+WHERE++%3Fsbj+wdt%3AP31+wd%3AQ335+.+%3Fsbj+rdfs%3Alabel+%3Fsbj_label+.+FILTER%28STRSTARTS%28lcase%28%3Fsbj_label%29%2C+%27gravity%27%29%29+.+FILTER+%28lang%28%3Fsbj_label%29+%3D+%27en%27%29++LIMIT+25&format=json\n"
     ]
    },
    {
     "name": "stdout",
     "output_type": "stream",
     "text": [
      "failed query SELECT DISTINCT ?sbj ?sbj_label WHERE  ?sbj wdt:P31 wd:Q335 . ?sbj rdfs:label ?sbj_label . FILTER(CONTAINS(lcase(?sbj_label), 'paraffin wax')) . FILTER (lang(?sbj_label) = 'en')  LIMIT 25\n",
      "Failed query number 53\n",
      "failed query SELECT DISTINCT ?sbj ?sbj_label WHERE  ?sbj wdt:P31 wd:Q335 . ?sbj rdfs:label ?sbj_label . FILTER(STRSTARTS(lcase(?sbj_label), 'gravity')) . FILTER (lang(?sbj_label) = 'en')  LIMIT 25\n",
      "Failed query number 54\n"
     ]
    },
    {
     "name": "stderr",
     "output_type": "stream",
     "text": [
      "ERROR:backoff:Giving up execute_sparql_query(...) after 1 tries (requests.exceptions.HTTPError: 400 Client Error: Bad Request for url: https://query.wikidata.org/sparql?query=%23Tool%3A+WikibaseIntegrator+wbi_functions.execute_sparql_query%0ASELECT+DISTINCT+%3Fsbj+%3Fsbj_label+WHERE++%3Fsbj+wdt%3AP31+wd%3AQ220+.+%3Fsbj+rdfs%3Alabel+%3Fsbj_label+.+FILTER%28CONTAINS%28lcase%28%3Fsbj_label%29%2C+%2755.3528%27%29%29+.+FILTER+%28lang%28%3Fsbj_label%29+%3D+%27en%27%29++LIMIT+25&format=json)\n",
      "ERROR:root:HTTPError 400 Client Error: Bad Request for url: https://query.wikidata.org/sparql?query=%23Tool%3A+WikibaseIntegrator+wbi_functions.execute_sparql_query%0ASELECT+DISTINCT+%3Fsbj+%3Fsbj_label+WHERE++%3Fsbj+wdt%3AP31+wd%3AQ220+.+%3Fsbj+rdfs%3Alabel+%3Fsbj_label+.+FILTER%28CONTAINS%28lcase%28%3Fsbj_label%29%2C+%2755.3528%27%29%29+.+FILTER+%28lang%28%3Fsbj_label%29+%3D+%27en%27%29++LIMIT+25&format=json\n",
      "ERROR:backoff:Giving up execute_sparql_query(...) after 1 tries (requests.exceptions.HTTPError: 400 Client Error: Bad Request for url: https://query.wikidata.org/sparql?query=%23Tool%3A+WikibaseIntegrator+wbi_functions.execute_sparql_query%0Aselect+distinct+%3Fsbj+where++%3Fsbj+wdt%3AP31+wd%3AQ220+.+%3Fsbj+wdt%3AP31+wd%3AQ220+&format=json)\n",
      "ERROR:root:HTTPError 400 Client Error: Bad Request for url: https://query.wikidata.org/sparql?query=%23Tool%3A+WikibaseIntegrator+wbi_functions.execute_sparql_query%0Aselect+distinct+%3Fsbj+where++%3Fsbj+wdt%3AP31+wd%3AQ220+.+%3Fsbj+wdt%3AP31+wd%3AQ220+&format=json\n"
     ]
    },
    {
     "name": "stdout",
     "output_type": "stream",
     "text": [
      "failed query SELECT DISTINCT ?sbj ?sbj_label WHERE  ?sbj wdt:P31 wd:Q220 . ?sbj rdfs:label ?sbj_label . FILTER(CONTAINS(lcase(?sbj_label), '55.3528')) . FILTER (lang(?sbj_label) = 'en')  LIMIT 25\n",
      "Failed query number 55\n",
      "failed query select distinct ?sbj where  ?sbj wdt:P31 wd:Q220 . ?sbj wdt:P31 wd:Q220 \n",
      "Failed query number 56\n"
     ]
    },
    {
     "name": "stderr",
     "output_type": "stream",
     "text": [
      "ERROR:backoff:Giving up execute_sparql_query(...) after 1 tries (requests.exceptions.HTTPError: 400 Client Error: Bad Request for url: https://query.wikidata.org/sparql?query=%23Tool%3A+WikibaseIntegrator+wbi_functions.execute_sparql_query%0Aselect+distinct+%3Fsbj+where++%3Fsbj+wdt%3AP31+wd%3AQ220+.+%3Fsbj+wdt%3AP31+wd%3AQ220+&format=json)\n",
      "ERROR:root:HTTPError 400 Client Error: Bad Request for url: https://query.wikidata.org/sparql?query=%23Tool%3A+WikibaseIntegrator+wbi_functions.execute_sparql_query%0Aselect+distinct+%3Fsbj+where++%3Fsbj+wdt%3AP31+wd%3AQ220+.+%3Fsbj+wdt%3AP31+wd%3AQ220+&format=json\n",
      "ERROR:backoff:Giving up execute_sparql_query(...) after 1 tries (requests.exceptions.HTTPError: 400 Client Error: Bad Request for url: https://query.wikidata.org/sparql?query=%23Tool%3A+WikibaseIntegrator+wbi_functions.execute_sparql_query%0ASELECT+DISTINCT+%3Fsbj+%3Fsbj_label+WHERE++%3Fsbj+wdt%3AP31+wd%3AQ31+.+%3Fsbj+rdfs%3Alabel+%3Fsbj_label+.+FILTER%28CONTAINS%28lcase%28%3Fsbj_label%29%2C+%27ecia139-4120%27%29%29+.+FILTER+%28lang%28%3Fsbj_label%29+%3D+%27en%27%29++LIMIT+25&format=json)\n",
      "ERROR:root:HTTPError 400 Client Error: Bad Request for url: https://query.wikidata.org/sparql?query=%23Tool%3A+WikibaseIntegrator+wbi_functions.execute_sparql_query%0ASELECT+DISTINCT+%3Fsbj+%3Fsbj_label+WHERE++%3Fsbj+wdt%3AP31+wd%3AQ31+.+%3Fsbj+rdfs%3Alabel+%3Fsbj_label+.+FILTER%28CONTAINS%28lcase%28%3Fsbj_label%29%2C+%27ecia139-4120%27%29%29+.+FILTER+%28lang%28%3Fsbj_label%29+%3D+%27en%27%29++LIMIT+25&format=json\n"
     ]
    },
    {
     "name": "stdout",
     "output_type": "stream",
     "text": [
      "failed query select distinct ?sbj where  ?sbj wdt:P31 wd:Q220 . ?sbj wdt:P31 wd:Q220 \n",
      "Failed query number 57\n",
      "failed query SELECT DISTINCT ?sbj ?sbj_label WHERE  ?sbj wdt:P31 wd:Q31 . ?sbj rdfs:label ?sbj_label . FILTER(CONTAINS(lcase(?sbj_label), 'ecia139-4120')) . FILTER (lang(?sbj_label) = 'en')  LIMIT 25\n",
      "Failed query number 58\n"
     ]
    },
    {
     "name": "stderr",
     "output_type": "stream",
     "text": [
      "ERROR:backoff:Giving up execute_sparql_query(...) after 1 tries (requests.exceptions.HTTPError: 400 Client Error: Bad Request for url: https://query.wikidata.org/sparql?query=%23Tool%3A+WikibaseIntegrator+wbi_functions.execute_sparql_query%0Aselect+distinct+%3Fsbj+where++%3Fsbj+wdt%3AP31+wd%3AQ220+.+%3Fsbj+wdt%3AP31+wd%3AQ220+&format=json)\n",
      "ERROR:root:HTTPError 400 Client Error: Bad Request for url: https://query.wikidata.org/sparql?query=%23Tool%3A+WikibaseIntegrator+wbi_functions.execute_sparql_query%0Aselect+distinct+%3Fsbj+where++%3Fsbj+wdt%3AP31+wd%3AQ220+.+%3Fsbj+wdt%3AP31+wd%3AQ220+&format=json\n",
      "ERROR:backoff:Giving up execute_sparql_query(...) after 1 tries (requests.exceptions.HTTPError: 400 Client Error: Bad Request for url: https://query.wikidata.org/sparql?query=%23Tool%3A+WikibaseIntegrator+wbi_functions.execute_sparql_query%0ASELECT+DISTINCT+%3Fsbj+%3Fsbj_label+WHERE++%3Fsbj+wdt%3AP31+wd%3AQ220+.+%3Fsbj+rdfs%3Alabel+%3Fsbj_label+.+FILTER%28STRSTARTS%28lcase%28%3Fsbj_label%29%2C+%279.6%27%29%29+.+FILTER+%28lang%28%3Fsbj_label%29+%3D+%27en%27%29++LIMIT+25&format=json)\n",
      "ERROR:root:HTTPError 400 Client Error: Bad Request for url: https://query.wikidata.org/sparql?query=%23Tool%3A+WikibaseIntegrator+wbi_functions.execute_sparql_query%0ASELECT+DISTINCT+%3Fsbj+%3Fsbj_label+WHERE++%3Fsbj+wdt%3AP31+wd%3AQ220+.+%3Fsbj+rdfs%3Alabel+%3Fsbj_label+.+FILTER%28STRSTARTS%28lcase%28%3Fsbj_label%29%2C+%279.6%27%29%29+.+FILTER+%28lang%28%3Fsbj_label%29+%3D+%27en%27%29++LIMIT+25&format=json\n"
     ]
    },
    {
     "name": "stdout",
     "output_type": "stream",
     "text": [
      "failed query select distinct ?sbj where  ?sbj wdt:P31 wd:Q220 . ?sbj wdt:P31 wd:Q220 \n",
      "Failed query number 59\n",
      "failed query SELECT DISTINCT ?sbj ?sbj_label WHERE  ?sbj wdt:P31 wd:Q220 . ?sbj rdfs:label ?sbj_label . FILTER(STRSTARTS(lcase(?sbj_label), '9.6')) . FILTER (lang(?sbj_label) = 'en')  LIMIT 25\n",
      "Failed query number 60\n"
     ]
    },
    {
     "name": "stderr",
     "output_type": "stream",
     "text": [
      "ERROR:backoff:Giving up execute_sparql_query(...) after 1 tries (requests.exceptions.HTTPError: 400 Client Error: Bad Request for url: https://query.wikidata.org/sparql?query=%23Tool%3A+WikibaseIntegrator+wbi_functions.execute_sparql_query%0Aselect+distinct+%3Fsbj+where++%3Fsbj+wdt%3AP31+wd%3AQ220+.+%3Fsbj+wdt%3AP31+wd%3AQ220+&format=json)\n",
      "ERROR:root:HTTPError 400 Client Error: Bad Request for url: https://query.wikidata.org/sparql?query=%23Tool%3A+WikibaseIntegrator+wbi_functions.execute_sparql_query%0Aselect+distinct+%3Fsbj+where++%3Fsbj+wdt%3AP31+wd%3AQ220+.+%3Fsbj+wdt%3AP31+wd%3AQ220+&format=json\n",
      "ERROR:backoff:Giving up execute_sparql_query(...) after 1 tries (requests.exceptions.HTTPError: 400 Client Error: Bad Request for url: https://query.wikidata.org/sparql?query=%23Tool%3A+WikibaseIntegrator+wbi_functions.execute_sparql_query%0ASELECT+DISTINCT+%3Fsbj+%3Fsbj_label+WHERE++%3Fsbj+wdt%3AP31+wd%3AQ31+.+%3Fsbj+rdfs%3Alabel+%3Fsbj_label+.+FILTER%28CONTAINS%28lcase%28%3Fsbj_label%29%2C+%27foodosiya%27%29%29+.+FILTER+%28lang%28%3Fsbj&format=json)\n",
      "ERROR:root:HTTPError 400 Client Error: Bad Request for url: https://query.wikidata.org/sparql?query=%23Tool%3A+WikibaseIntegrator+wbi_functions.execute_sparql_query%0ASELECT+DISTINCT+%3Fsbj+%3Fsbj_label+WHERE++%3Fsbj+wdt%3AP31+wd%3AQ31+.+%3Fsbj+rdfs%3Alabel+%3Fsbj_label+.+FILTER%28CONTAINS%28lcase%28%3Fsbj_label%29%2C+%27foodosiya%27%29%29+.+FILTER+%28lang%28%3Fsbj&format=json\n"
     ]
    },
    {
     "name": "stdout",
     "output_type": "stream",
     "text": [
      "failed query select distinct ?sbj where  ?sbj wdt:P31 wd:Q220 . ?sbj wdt:P31 wd:Q220 \n",
      "Failed query number 61\n",
      "failed query SELECT DISTINCT ?sbj ?sbj_label WHERE  ?sbj wdt:P31 wd:Q31 . ?sbj rdfs:label ?sbj_label . FILTER(CONTAINS(lcase(?sbj_label), 'foodosiya')) . FILTER (lang(?sbj\n",
      "Failed query number 62\n"
     ]
    },
    {
     "name": "stderr",
     "output_type": "stream",
     "text": [
      "ERROR:backoff:Giving up execute_sparql_query(...) after 1 tries (requests.exceptions.HTTPError: 400 Client Error: Bad Request for url: https://query.wikidata.org/sparql?query=%23Tool%3A+WikibaseIntegrator+wbi_functions.execute_sparql_query%0Aselect+distinct+%3Fsbj+where++%3Fsbj+wdt%3AP31+wd%3AQ220+.+%3Fsbj+wdt%3AP31+wd%3AQ220+&format=json)\n",
      "ERROR:root:HTTPError 400 Client Error: Bad Request for url: https://query.wikidata.org/sparql?query=%23Tool%3A+WikibaseIntegrator+wbi_functions.execute_sparql_query%0Aselect+distinct+%3Fsbj+where++%3Fsbj+wdt%3AP31+wd%3AQ220+.+%3Fsbj+wdt%3AP31+wd%3AQ220+&format=json\n",
      "ERROR:backoff:Giving up execute_sparql_query(...) after 1 tries (requests.exceptions.HTTPError: 400 Client Error: Bad Request for url: https://query.wikidata.org/sparql?query=%23Tool%3A+WikibaseIntegrator+wbi_functions.execute_sparql_query%0Aselect+distinct+%3Fsbj+where++%3Fsbj+wdt%3AP31+wd%3AQ220+.+%3Fsbj+wdt%3AP31+wd%3AQ220+&format=json)\n",
      "ERROR:root:HTTPError 400 Client Error: Bad Request for url: https://query.wikidata.org/sparql?query=%23Tool%3A+WikibaseIntegrator+wbi_functions.execute_sparql_query%0Aselect+distinct+%3Fsbj+where++%3Fsbj+wdt%3AP31+wd%3AQ220+.+%3Fsbj+wdt%3AP31+wd%3AQ220+&format=json\n"
     ]
    },
    {
     "name": "stdout",
     "output_type": "stream",
     "text": [
      "failed query select distinct ?sbj where  ?sbj wdt:P31 wd:Q220 . ?sbj wdt:P31 wd:Q220 \n",
      "Failed query number 63\n",
      "failed query select distinct ?sbj where  ?sbj wdt:P31 wd:Q220 . ?sbj wdt:P31 wd:Q220 \n",
      "Failed query number 64\n"
     ]
    },
    {
     "name": "stderr",
     "output_type": "stream",
     "text": [
      "ERROR:backoff:Giving up execute_sparql_query(...) after 1 tries (requests.exceptions.HTTPError: 400 Client Error: Bad Request for url: https://query.wikidata.org/sparql?query=%23Tool%3A+WikibaseIntegrator+wbi_functions.execute_sparql_query%0Aselect+distinct+%3Fsbj+where++%3Fsbj+wdt%3AP31+wd%3AQ220+.+%3Fsbj+wdt%3AP31+wd%3AQ220+&format=json)\n",
      "ERROR:root:HTTPError 400 Client Error: Bad Request for url: https://query.wikidata.org/sparql?query=%23Tool%3A+WikibaseIntegrator+wbi_functions.execute_sparql_query%0Aselect+distinct+%3Fsbj+where++%3Fsbj+wdt%3AP31+wd%3AQ220+.+%3Fsbj+wdt%3AP31+wd%3AQ220+&format=json\n"
     ]
    },
    {
     "name": "stdout",
     "output_type": "stream",
     "text": [
      "failed query select distinct ?sbj where  ?sbj wdt:P31 wd:Q220 . ?sbj wdt:P31 wd:Q220 \n",
      "Failed query number 65\n"
     ]
    },
    {
     "name": "stderr",
     "output_type": "stream",
     "text": [
      "ERROR:backoff:Giving up execute_sparql_query(...) after 1 tries (requests.exceptions.HTTPError: 400 Client Error: Bad Request for url: https://query.wikidata.org/sparql?query=%23Tool%3A+WikibaseIntegrator+wbi_functions.execute_sparql_query%0Aselect+distinct+%3Fsbj+where++%3Fsbj+wdt%3AP31+wd%3AQ218+.+%3Fsbj+wdt%3AP31+wd%3AQ218+&format=json)\n",
      "ERROR:root:HTTPError 400 Client Error: Bad Request for url: https://query.wikidata.org/sparql?query=%23Tool%3A+WikibaseIntegrator+wbi_functions.execute_sparql_query%0Aselect+distinct+%3Fsbj+where++%3Fsbj+wdt%3AP31+wd%3AQ218+.+%3Fsbj+wdt%3AP31+wd%3AQ218+&format=json\n"
     ]
    },
    {
     "name": "stdout",
     "output_type": "stream",
     "text": [
      "failed query select distinct ?sbj where  ?sbj wdt:P31 wd:Q218 . ?sbj wdt:P31 wd:Q218 \n",
      "Failed query number 66\n"
     ]
    },
    {
     "name": "stderr",
     "output_type": "stream",
     "text": [
      "ERROR:backoff:Giving up execute_sparql_query(...) after 1 tries (requests.exceptions.HTTPError: 400 Client Error: Bad Request for url: https://query.wikidata.org/sparql?query=%23Tool%3A+WikibaseIntegrator+wbi_functions.execute_sparql_query%0ASELECT+DISTINCT+%3Fsbj+%3Fsbj_label+WHERE++%3Fsbj+wdt%3AP31+wd%3AQ31+.+%3Fsbj+rdfs%3Alabel+%3Fsbj_label+.+FILTER%28STRSTARTS%28lcase%28%3Fsbj_label%29%2C+%27n%2Fa%27%29%29+.+FILTER+%28lang%28%3Fsbj_label%29+%3D+%27en%27%29++LIMIT+25&format=json)\n",
      "ERROR:root:HTTPError 400 Client Error: Bad Request for url: https://query.wikidata.org/sparql?query=%23Tool%3A+WikibaseIntegrator+wbi_functions.execute_sparql_query%0ASELECT+DISTINCT+%3Fsbj+%3Fsbj_label+WHERE++%3Fsbj+wdt%3AP31+wd%3AQ31+.+%3Fsbj+rdfs%3Alabel+%3Fsbj_label+.+FILTER%28STRSTARTS%28lcase%28%3Fsbj_label%29%2C+%27n%2Fa%27%29%29+.+FILTER+%28lang%28%3Fsbj_label%29+%3D+%27en%27%29++LIMIT+25&format=json\n",
      "ERROR:backoff:Giving up execute_sparql_query(...) after 1 tries (requests.exceptions.HTTPError: 400 Client Error: Bad Request for url: https://query.wikidata.org/sparql?query=%23Tool%3A+WikibaseIntegrator+wbi_functions.execute_sparql_query%0ASELECT+DISTINCT+%3Fsbj+%3Fsbj_label+WHERE++%3Fsbj+wdt%3AP31+wd%3AQ31+.+%3Fsbj+rdfs%3Alabel+%3Fsbj_label+.+FILTER%28CONTAINS%28lcase%28%3Fsbj_label%29%2C+%27art%27%29%29+.+FILTER+%28lang%28%3Fsbj_label%29+%3D+%27art&format=json)\n",
      "ERROR:root:HTTPError 400 Client Error: Bad Request for url: https://query.wikidata.org/sparql?query=%23Tool%3A+WikibaseIntegrator+wbi_functions.execute_sparql_query%0ASELECT+DISTINCT+%3Fsbj+%3Fsbj_label+WHERE++%3Fsbj+wdt%3AP31+wd%3AQ31+.+%3Fsbj+rdfs%3Alabel+%3Fsbj_label+.+FILTER%28CONTAINS%28lcase%28%3Fsbj_label%29%2C+%27art%27%29%29+.+FILTER+%28lang%28%3Fsbj_label%29+%3D+%27art&format=json\n"
     ]
    },
    {
     "name": "stdout",
     "output_type": "stream",
     "text": [
      "failed query SELECT DISTINCT ?sbj ?sbj_label WHERE  ?sbj wdt:P31 wd:Q31 . ?sbj rdfs:label ?sbj_label . FILTER(STRSTARTS(lcase(?sbj_label), 'n/a')) . FILTER (lang(?sbj_label) = 'en')  LIMIT 25\n",
      "Failed query number 67\n",
      "failed query SELECT DISTINCT ?sbj ?sbj_label WHERE  ?sbj wdt:P31 wd:Q31 . ?sbj rdfs:label ?sbj_label . FILTER(CONTAINS(lcase(?sbj_label), 'art')) . FILTER (lang(?sbj_label) = 'art\n",
      "Failed query number 68\n"
     ]
    },
    {
     "name": "stderr",
     "output_type": "stream",
     "text": [
      "ERROR:backoff:Giving up execute_sparql_query(...) after 1 tries (requests.exceptions.HTTPError: 400 Client Error: Bad Request for url: https://query.wikidata.org/sparql?query=%23Tool%3A+WikibaseIntegrator+wbi_functions.execute_sparql_query%0ASELECT+%3Fobj+WHERE++wd%3AQ347+p%3AP31+%3Fs+.+%3Fs+ps%3AP31+wd%3AQ347+.+%3Fs+pq%3AP31+wd%3AQ347+&format=json)\n",
      "ERROR:root:HTTPError 400 Client Error: Bad Request for url: https://query.wikidata.org/sparql?query=%23Tool%3A+WikibaseIntegrator+wbi_functions.execute_sparql_query%0ASELECT+%3Fobj+WHERE++wd%3AQ347+p%3AP31+%3Fs+.+%3Fs+ps%3AP31+wd%3AQ347+.+%3Fs+pq%3AP31+wd%3AQ347+&format=json\n",
      "ERROR:backoff:Giving up execute_sparql_query(...) after 1 tries (requests.exceptions.HTTPError: 400 Client Error: Bad Request for url: https://query.wikidata.org/sparql?query=%23Tool%3A+WikibaseIntegrator+wbi_functions.execute_sparql_query%0Aselect+distinct+%3Fsbj+where++%3Fsbj+wdt%3AP31+wd%3AQ220+.+%3Fsbj+wdt%3AP31+wd%3AQ220+&format=json)\n",
      "ERROR:root:HTTPError 400 Client Error: Bad Request for url: https://query.wikidata.org/sparql?query=%23Tool%3A+WikibaseIntegrator+wbi_functions.execute_sparql_query%0Aselect+distinct+%3Fsbj+where++%3Fsbj+wdt%3AP31+wd%3AQ220+.+%3Fsbj+wdt%3AP31+wd%3AQ220+&format=json\n"
     ]
    },
    {
     "name": "stdout",
     "output_type": "stream",
     "text": [
      "failed query SELECT ?obj WHERE  wd:Q347 p:P31 ?s . ?s ps:P31 wd:Q347 . ?s pq:P31 wd:Q347 \n",
      "Failed query number 69\n",
      "failed query select distinct ?sbj where  ?sbj wdt:P31 wd:Q220 . ?sbj wdt:P31 wd:Q220 \n",
      "Failed query number 70\n"
     ]
    },
    {
     "name": "stderr",
     "output_type": "stream",
     "text": [
      "ERROR:backoff:Giving up execute_sparql_query(...) after 1 tries (requests.exceptions.HTTPError: 400 Client Error: Bad Request for url: https://query.wikidata.org/sparql?query=%23Tool%3A+WikibaseIntegrator+wbi_functions.execute_sparql_query%0Aselect+distinct+%3Fsbj+where++%3Fsbj+wdt%3AP31+wd%3AQ220+.+%3Fsbj+wdt%3AP31+wd%3AQ220+&format=json)\n",
      "ERROR:root:HTTPError 400 Client Error: Bad Request for url: https://query.wikidata.org/sparql?query=%23Tool%3A+WikibaseIntegrator+wbi_functions.execute_sparql_query%0Aselect+distinct+%3Fsbj+where++%3Fsbj+wdt%3AP31+wd%3AQ220+.+%3Fsbj+wdt%3AP31+wd%3AQ220+&format=json\n"
     ]
    },
    {
     "name": "stdout",
     "output_type": "stream",
     "text": [
      "failed query select distinct ?sbj where  ?sbj wdt:P31 wd:Q220 . ?sbj wdt:P31 wd:Q220 \n",
      "Failed query number 71\n"
     ]
    },
    {
     "name": "stderr",
     "output_type": "stream",
     "text": [
      "ERROR:backoff:Giving up execute_sparql_query(...) after 1 tries (requests.exceptions.HTTPError: 400 Client Error: Bad Request for url: https://query.wikidata.org/sparql?query=%23Tool%3A+WikibaseIntegrator+wbi_functions.execute_sparql_query%0Aselect+distinct+%3Fsbj+where++%3Fsbj+wdt%3AP31+wd%3AQ220+.+%3Fsbj+wdt%3AP31+wd%3AQ220+&format=json)\n",
      "ERROR:root:HTTPError 400 Client Error: Bad Request for url: https://query.wikidata.org/sparql?query=%23Tool%3A+WikibaseIntegrator+wbi_functions.execute_sparql_query%0Aselect+distinct+%3Fsbj+where++%3Fsbj+wdt%3AP31+wd%3AQ220+.+%3Fsbj+wdt%3AP31+wd%3AQ220+&format=json\n",
      "ERROR:backoff:Giving up execute_sparql_query(...) after 1 tries (requests.exceptions.HTTPError: 400 Client Error: Bad Request for url: https://query.wikidata.org/sparql?query=%23Tool%3A+WikibaseIntegrator+wbi_functions.execute_sparql_query%0Aselect+distinct+%3Fsbj+where++%3Fsbj+wdt%3AP31+wd%3AQ220+.+%3Fsbj+wdt%3AP31+wd%3AQ220+&format=json)\n",
      "ERROR:root:HTTPError 400 Client Error: Bad Request for url: https://query.wikidata.org/sparql?query=%23Tool%3A+WikibaseIntegrator+wbi_functions.execute_sparql_query%0Aselect+distinct+%3Fsbj+where++%3Fsbj+wdt%3AP31+wd%3AQ220+.+%3Fsbj+wdt%3AP31+wd%3AQ220+&format=json\n"
     ]
    },
    {
     "name": "stdout",
     "output_type": "stream",
     "text": [
      "failed query select distinct ?sbj where  ?sbj wdt:P31 wd:Q220 . ?sbj wdt:P31 wd:Q220 \n",
      "Failed query number 72\n",
      "failed query select distinct ?sbj where  ?sbj wdt:P31 wd:Q220 . ?sbj wdt:P31 wd:Q220 \n",
      "Failed query number 73\n"
     ]
    },
    {
     "name": "stderr",
     "output_type": "stream",
     "text": [
      "ERROR:backoff:Giving up execute_sparql_query(...) after 1 tries (requests.exceptions.HTTPError: 400 Client Error: Bad Request for url: https://query.wikidata.org/sparql?query=%23Tool%3A+WikibaseIntegrator+wbi_functions.execute_sparql_query%0Aselect+distinct+%3Fsbj+where++%3Fsbj+wdt%3AP31+wd%3AQ220+.+%3Fsbj+wdt%3AP31+wd%3AQ220+&format=json)\n",
      "ERROR:root:HTTPError 400 Client Error: Bad Request for url: https://query.wikidata.org/sparql?query=%23Tool%3A+WikibaseIntegrator+wbi_functions.execute_sparql_query%0Aselect+distinct+%3Fsbj+where++%3Fsbj+wdt%3AP31+wd%3AQ220+.+%3Fsbj+wdt%3AP31+wd%3AQ220+&format=json\n",
      "ERROR:backoff:Giving up execute_sparql_query(...) after 1 tries (requests.exceptions.HTTPError: 400 Client Error: Bad Request for url: https://query.wikidata.org/sparql?query=%23Tool%3A+WikibaseIntegrator+wbi_functions.execute_sparql_query%0ASELECT+DISTINCT+%3Fsbj+%3Fsbj_label+WHERE++%3Fsbj+wdt%3AP31+wd%3AQ31+.+%3Fsbj+rdfs%3Alabel+%3Fsbj_label+.+FILTER%28STRSTARTS%28lcase%28%3Fsbj_label%29%2C+%27p%27%29%29+.+FILTER+%28lang%28%3Fsbj_label%29+%3D+%27p%27%29%29++LIMIT+25&format=json)\n",
      "ERROR:root:HTTPError 400 Client Error: Bad Request for url: https://query.wikidata.org/sparql?query=%23Tool%3A+WikibaseIntegrator+wbi_functions.execute_sparql_query%0ASELECT+DISTINCT+%3Fsbj+%3Fsbj_label+WHERE++%3Fsbj+wdt%3AP31+wd%3AQ31+.+%3Fsbj+rdfs%3Alabel+%3Fsbj_label+.+FILTER%28STRSTARTS%28lcase%28%3Fsbj_label%29%2C+%27p%27%29%29+.+FILTER+%28lang%28%3Fsbj_label%29+%3D+%27p%27%29%29++LIMIT+25&format=json\n"
     ]
    },
    {
     "name": "stdout",
     "output_type": "stream",
     "text": [
      "failed query select distinct ?sbj where  ?sbj wdt:P31 wd:Q220 . ?sbj wdt:P31 wd:Q220 \n",
      "Failed query number 74\n",
      "failed query SELECT DISTINCT ?sbj ?sbj_label WHERE  ?sbj wdt:P31 wd:Q31 . ?sbj rdfs:label ?sbj_label . FILTER(STRSTARTS(lcase(?sbj_label), 'p')) . FILTER (lang(?sbj_label) = 'p'))  LIMIT 25\n",
      "Failed query number 75\n"
     ]
    },
    {
     "name": "stderr",
     "output_type": "stream",
     "text": [
      "ERROR:backoff:Giving up execute_sparql_query(...) after 1 tries (requests.exceptions.HTTPError: 400 Client Error: Bad Request for url: https://query.wikidata.org/sparql?query=%23Tool%3A+WikibaseIntegrator+wbi_functions.execute_sparql_query%0ASELECT+%28COUNT%28%3Fsub%29+AS+%3Fvalue+%29++%3Fsub+wdt%3AP31+wd%3AQ335+&format=json)\n",
      "ERROR:root:HTTPError 400 Client Error: Bad Request for url: https://query.wikidata.org/sparql?query=%23Tool%3A+WikibaseIntegrator+wbi_functions.execute_sparql_query%0ASELECT+%28COUNT%28%3Fsub%29+AS+%3Fvalue+%29++%3Fsub+wdt%3AP31+wd%3AQ335+&format=json\n",
      "ERROR:backoff:Giving up execute_sparql_query(...) after 1 tries (requests.exceptions.HTTPError: 400 Client Error: Bad Request for url: https://query.wikidata.org/sparql?query=%23Tool%3A+WikibaseIntegrator+wbi_functions.execute_sparql_query%0Aselect+distinct+%3Fsbj+where++%3Fsbj+wdt%3AP31+wd%3AQ220+.+%3Fsbj+wdt%3AP31+wd%3AQ220+&format=json)\n",
      "ERROR:root:HTTPError 400 Client Error: Bad Request for url: https://query.wikidata.org/sparql?query=%23Tool%3A+WikibaseIntegrator+wbi_functions.execute_sparql_query%0Aselect+distinct+%3Fsbj+where++%3Fsbj+wdt%3AP31+wd%3AQ220+.+%3Fsbj+wdt%3AP31+wd%3AQ220+&format=json\n"
     ]
    },
    {
     "name": "stdout",
     "output_type": "stream",
     "text": [
      "failed query SELECT (COUNT(?sub) AS ?value )  ?sub wdt:P31 wd:Q335 \n",
      "Failed query number 76\n",
      "failed query select distinct ?sbj where  ?sbj wdt:P31 wd:Q220 . ?sbj wdt:P31 wd:Q220 \n",
      "Failed query number 77\n"
     ]
    },
    {
     "name": "stderr",
     "output_type": "stream",
     "text": [
      "ERROR:backoff:Giving up execute_sparql_query(...) after 1 tries (requests.exceptions.HTTPError: 400 Client Error: Bad Request for url: https://query.wikidata.org/sparql?query=%23Tool%3A+WikibaseIntegrator+wbi_functions.execute_sparql_query%0ASELECT+DISTINCT+%3Fsbj+%3Fsbj_label+WHERE++%3Fsbj+wdt%3AP31+wd%3AQ31+.+%3Fsbj+rdfs%3Alabel+%3Fsbj_label+.+FILTER%28STRSTARTS%28lcase%28%3Fsbj_label%29%2C+%27smallest%27%29%29+.+FILTER+%28lang%28%3Fsbj_label%29+%3D+%27smallest%27%29%29++LIMIT+25&format=json)\n",
      "ERROR:root:HTTPError 400 Client Error: Bad Request for url: https://query.wikidata.org/sparql?query=%23Tool%3A+WikibaseIntegrator+wbi_functions.execute_sparql_query%0ASELECT+DISTINCT+%3Fsbj+%3Fsbj_label+WHERE++%3Fsbj+wdt%3AP31+wd%3AQ31+.+%3Fsbj+rdfs%3Alabel+%3Fsbj_label+.+FILTER%28STRSTARTS%28lcase%28%3Fsbj_label%29%2C+%27smallest%27%29%29+.+FILTER+%28lang%28%3Fsbj_label%29+%3D+%27smallest%27%29%29++LIMIT+25&format=json\n"
     ]
    },
    {
     "name": "stdout",
     "output_type": "stream",
     "text": [
      "failed query SELECT DISTINCT ?sbj ?sbj_label WHERE  ?sbj wdt:P31 wd:Q31 . ?sbj rdfs:label ?sbj_label . FILTER(STRSTARTS(lcase(?sbj_label), 'smallest')) . FILTER (lang(?sbj_label) = 'smallest'))  LIMIT 25\n",
      "Failed query number 78\n"
     ]
    },
    {
     "name": "stderr",
     "output_type": "stream",
     "text": [
      "ERROR:backoff:Giving up execute_sparql_query(...) after 1 tries (requests.exceptions.HTTPError: 400 Client Error: Bad Request for url: https://query.wikidata.org/sparql?query=%23Tool%3A+WikibaseIntegrator+wbi_functions.execute_sparql_query%0ASELECT+DISTINCT+%3Fsbj+%3Fsbj_label+WHERE++%3Fsbj+wdt%3AP31+wd%3AQ335+.+%3Fsbj+rdfs%3Alabel+%3Fsbj_label+.+FILTER%28STRSTARTS%28lcase%28%3Fsbj_label%29%2C+%27d%27%29%29+.+FILTER+%28lang%28%3Fsbj_label%29+%3D+%27en%27%29++LIMIT+25&format=json)\n",
      "ERROR:root:HTTPError 400 Client Error: Bad Request for url: https://query.wikidata.org/sparql?query=%23Tool%3A+WikibaseIntegrator+wbi_functions.execute_sparql_query%0ASELECT+DISTINCT+%3Fsbj+%3Fsbj_label+WHERE++%3Fsbj+wdt%3AP31+wd%3AQ335+.+%3Fsbj+rdfs%3Alabel+%3Fsbj_label+.+FILTER%28STRSTARTS%28lcase%28%3Fsbj_label%29%2C+%27d%27%29%29+.+FILTER+%28lang%28%3Fsbj_label%29+%3D+%27en%27%29++LIMIT+25&format=json\n",
      "ERROR:backoff:Giving up execute_sparql_query(...) after 1 tries (requests.exceptions.HTTPError: 400 Client Error: Bad Request for url: https://query.wikidata.org/sparql?query=%23Tool%3A+WikibaseIntegrator+wbi_functions.execute_sparql_query%0ASELECT+DISTINCT+%3Fsbj+%3Fsbj_label+WHERE++%3Fsbj+wdt%3AP31+wd%3AQ220+.+%3Fsbj+rdfs%3Alabel+%3Fsbj_label+.+FILTER%28STRSTARTS%28lcase%28%3Fsbj_label%29%2C+%272697.672%27%29%29+.+FILTER+%28lang%28%3Fsbj_label%29+%3D+%27en%27%29++LIMIT+25&format=json)\n",
      "ERROR:root:HTTPError 400 Client Error: Bad Request for url: https://query.wikidata.org/sparql?query=%23Tool%3A+WikibaseIntegrator+wbi_functions.execute_sparql_query%0ASELECT+DISTINCT+%3Fsbj+%3Fsbj_label+WHERE++%3Fsbj+wdt%3AP31+wd%3AQ220+.+%3Fsbj+rdfs%3Alabel+%3Fsbj_label+.+FILTER%28STRSTARTS%28lcase%28%3Fsbj_label%29%2C+%272697.672%27%29%29+.+FILTER+%28lang%28%3Fsbj_label%29+%3D+%27en%27%29++LIMIT+25&format=json\n"
     ]
    },
    {
     "name": "stdout",
     "output_type": "stream",
     "text": [
      "failed query SELECT DISTINCT ?sbj ?sbj_label WHERE  ?sbj wdt:P31 wd:Q335 . ?sbj rdfs:label ?sbj_label . FILTER(STRSTARTS(lcase(?sbj_label), 'd')) . FILTER (lang(?sbj_label) = 'en')  LIMIT 25\n",
      "Failed query number 79\n",
      "failed query SELECT DISTINCT ?sbj ?sbj_label WHERE  ?sbj wdt:P31 wd:Q220 . ?sbj rdfs:label ?sbj_label . FILTER(STRSTARTS(lcase(?sbj_label), '2697.672')) . FILTER (lang(?sbj_label) = 'en')  LIMIT 25\n",
      "Failed query number 80\n"
     ]
    },
    {
     "name": "stderr",
     "output_type": "stream",
     "text": [
      "ERROR:backoff:Giving up execute_sparql_query(...) after 1 tries (requests.exceptions.HTTPError: 400 Client Error: Bad Request for url: https://query.wikidata.org/sparql?query=%23Tool%3A+WikibaseIntegrator+wbi_functions.execute_sparql_query%0Aselect+distinct+%3Fsbj+where++%3Fsbj+wdt%3AP31+wd%3AQ220+.+%3Fsbj+wdt%3AP31+wd%3AQ220+&format=json)\n",
      "ERROR:root:HTTPError 400 Client Error: Bad Request for url: https://query.wikidata.org/sparql?query=%23Tool%3A+WikibaseIntegrator+wbi_functions.execute_sparql_query%0Aselect+distinct+%3Fsbj+where++%3Fsbj+wdt%3AP31+wd%3AQ220+.+%3Fsbj+wdt%3AP31+wd%3AQ220+&format=json\n",
      "ERROR:backoff:Giving up execute_sparql_query(...) after 1 tries (requests.exceptions.HTTPError: 400 Client Error: Bad Request for url: https://query.wikidata.org/sparql?query=%23Tool%3A+WikibaseIntegrator+wbi_functions.execute_sparql_query%0Aselect+distinct+%3Fsbj+where++%3Fsbj+wdt%3AP31+wd%3AQ220+.+%3Fsbj+wdt%3AP31+wd%3AQ220+&format=json)\n",
      "ERROR:root:HTTPError 400 Client Error: Bad Request for url: https://query.wikidata.org/sparql?query=%23Tool%3A+WikibaseIntegrator+wbi_functions.execute_sparql_query%0Aselect+distinct+%3Fsbj+where++%3Fsbj+wdt%3AP31+wd%3AQ220+.+%3Fsbj+wdt%3AP31+wd%3AQ220+&format=json\n"
     ]
    },
    {
     "name": "stdout",
     "output_type": "stream",
     "text": [
      "failed query select distinct ?sbj where  ?sbj wdt:P31 wd:Q220 . ?sbj wdt:P31 wd:Q220 \n",
      "Failed query number 81\n",
      "failed query select distinct ?sbj where  ?sbj wdt:P31 wd:Q220 . ?sbj wdt:P31 wd:Q220 \n",
      "Failed query number 82\n"
     ]
    },
    {
     "name": "stderr",
     "output_type": "stream",
     "text": [
      "ERROR:backoff:Giving up execute_sparql_query(...) after 1 tries (requests.exceptions.HTTPError: 400 Client Error: Bad Request for url: https://query.wikidata.org/sparql?query=%23Tool%3A+WikibaseIntegrator+wbi_functions.execute_sparql_query%0Aselect+distinct+%3Fsbj+where++%3Fsbj+wdt%3AP31+wd%3AQ220+.+%3Fsbj+wdt%3AP31+wd%3AQ220+&format=json)\n",
      "ERROR:root:HTTPError 400 Client Error: Bad Request for url: https://query.wikidata.org/sparql?query=%23Tool%3A+WikibaseIntegrator+wbi_functions.execute_sparql_query%0Aselect+distinct+%3Fsbj+where++%3Fsbj+wdt%3AP31+wd%3AQ220+.+%3Fsbj+wdt%3AP31+wd%3AQ220+&format=json\n"
     ]
    },
    {
     "name": "stdout",
     "output_type": "stream",
     "text": [
      "failed query select distinct ?sbj where  ?sbj wdt:P31 wd:Q220 . ?sbj wdt:P31 wd:Q220 \n",
      "Failed query number 83\n"
     ]
    },
    {
     "name": "stderr",
     "output_type": "stream",
     "text": [
      "ERROR:backoff:Giving up execute_sparql_query(...) after 1 tries (requests.exceptions.HTTPError: 400 Client Error: Bad Request for url: https://query.wikidata.org/sparql?query=%23Tool%3A+WikibaseIntegrator+wbi_functions.execute_sparql_query%0Aselect+distinct+%3Fsbj+where++%3Fsbj+wdt%3AP31+wd%3AQ220+.+%3Fsbj+wdt%3AP31+wd%3AQ220+&format=json)\n",
      "ERROR:root:HTTPError 400 Client Error: Bad Request for url: https://query.wikidata.org/sparql?query=%23Tool%3A+WikibaseIntegrator+wbi_functions.execute_sparql_query%0Aselect+distinct+%3Fsbj+where++%3Fsbj+wdt%3AP31+wd%3AQ220+.+%3Fsbj+wdt%3AP31+wd%3AQ220+&format=json\n"
     ]
    },
    {
     "name": "stdout",
     "output_type": "stream",
     "text": [
      "failed query select distinct ?sbj where  ?sbj wdt:P31 wd:Q220 . ?sbj wdt:P31 wd:Q220 \n",
      "Failed query number 84\n"
     ]
    },
    {
     "name": "stderr",
     "output_type": "stream",
     "text": [
      "ERROR:backoff:Giving up execute_sparql_query(...) after 1 tries (requests.exceptions.HTTPError: 400 Client Error: Bad Request for url: https://query.wikidata.org/sparql?query=%23Tool%3A+WikibaseIntegrator+wbi_functions.execute_sparql_query%0ASELECT+%3Fanswer+WHERE++wd%3AQ319+wdt%3AP31+%3Fanswer+.+%3Fanswer+wdt%3AP128+wd%3AQ319+&format=json)\n",
      "ERROR:root:HTTPError 400 Client Error: Bad Request for url: https://query.wikidata.org/sparql?query=%23Tool%3A+WikibaseIntegrator+wbi_functions.execute_sparql_query%0ASELECT+%3Fanswer+WHERE++wd%3AQ319+wdt%3AP31+%3Fanswer+.+%3Fanswer+wdt%3AP128+wd%3AQ319+&format=json\n",
      "ERROR:backoff:Giving up execute_sparql_query(...) after 1 tries (requests.exceptions.HTTPError: 400 Client Error: Bad Request for url: https://query.wikidata.org/sparql?query=%23Tool%3A+WikibaseIntegrator+wbi_functions.execute_sparql_query%0Aselect+distinct+%3Fsbj+where++%3Fsbj+wdt%3AP31+wd%3AQ220+.+%3Fsbj+wdt%3AP31+wd%3AQ220+&format=json)\n",
      "ERROR:root:HTTPError 400 Client Error: Bad Request for url: https://query.wikidata.org/sparql?query=%23Tool%3A+WikibaseIntegrator+wbi_functions.execute_sparql_query%0Aselect+distinct+%3Fsbj+where++%3Fsbj+wdt%3AP31+wd%3AQ220+.+%3Fsbj+wdt%3AP31+wd%3AQ220+&format=json\n"
     ]
    },
    {
     "name": "stdout",
     "output_type": "stream",
     "text": [
      "failed query SELECT ?answer WHERE  wd:Q319 wdt:P31 ?answer . ?answer wdt:P128 wd:Q319 \n",
      "Failed query number 85\n",
      "failed query select distinct ?sbj where  ?sbj wdt:P31 wd:Q220 . ?sbj wdt:P31 wd:Q220 \n",
      "Failed query number 86\n"
     ]
    },
    {
     "name": "stderr",
     "output_type": "stream",
     "text": [
      "ERROR:backoff:Giving up execute_sparql_query(...) after 1 tries (requests.exceptions.HTTPError: 400 Client Error: Bad Request for url: https://query.wikidata.org/sparql?query=%23Tool%3A+WikibaseIntegrator+wbi_functions.execute_sparql_query%0Aselect+distinct+%3Fsbj+where++%3Fsbj+wdt%3AP31+wd%3AQ220+.+%3Fsbj+wdt%3AP31+wd%3AQ220+&format=json)\n",
      "ERROR:root:HTTPError 400 Client Error: Bad Request for url: https://query.wikidata.org/sparql?query=%23Tool%3A+WikibaseIntegrator+wbi_functions.execute_sparql_query%0Aselect+distinct+%3Fsbj+where++%3Fsbj+wdt%3AP31+wd%3AQ220+.+%3Fsbj+wdt%3AP31+wd%3AQ220+&format=json\n",
      "ERROR:backoff:Giving up execute_sparql_query(...) after 1 tries (requests.exceptions.HTTPError: 400 Client Error: Bad Request for url: https://query.wikidata.org/sparql?query=%23Tool%3A+WikibaseIntegrator+wbi_functions.execute_sparql_query%0Aselect+distinct+%3Fsbj+where++%3Fsbj+wdt%3AP31+wd%3AQ220+.+%3Fsbj+wdt%3AP31+wd%3AQ220+&format=json)\n",
      "ERROR:root:HTTPError 400 Client Error: Bad Request for url: https://query.wikidata.org/sparql?query=%23Tool%3A+WikibaseIntegrator+wbi_functions.execute_sparql_query%0Aselect+distinct+%3Fsbj+where++%3Fsbj+wdt%3AP31+wd%3AQ220+.+%3Fsbj+wdt%3AP31+wd%3AQ220+&format=json\n"
     ]
    },
    {
     "name": "stdout",
     "output_type": "stream",
     "text": [
      "failed query select distinct ?sbj where  ?sbj wdt:P31 wd:Q220 . ?sbj wdt:P31 wd:Q220 \n",
      "Failed query number 87\n",
      "failed query select distinct ?sbj where  ?sbj wdt:P31 wd:Q220 . ?sbj wdt:P31 wd:Q220 \n",
      "Failed query number 88\n"
     ]
    },
    {
     "name": "stderr",
     "output_type": "stream",
     "text": [
      "ERROR:backoff:Giving up execute_sparql_query(...) after 1 tries (requests.exceptions.HTTPError: 400 Client Error: Bad Request for url: https://query.wikidata.org/sparql?query=%23Tool%3A+WikibaseIntegrator+wbi_functions.execute_sparql_query%0ASELECT+DISTINCT+%3Fsbj+%3Fsbj_label+WHERE++%3Fsbj+wdt%3AP31+wd%3AQ31+.+%3Fsbj+rdfs%3Alabel+%3Fsbj_label+.+FILTER%28STRSTARTS%28lcase%28%3Fsbj_label%29%2C+%27w%27%29%29+.+FILTER+%28lang%28%3Fsbj_label%29+%3D+%27w%27%29%29++LIMIT+25&format=json)\n",
      "ERROR:root:HTTPError 400 Client Error: Bad Request for url: https://query.wikidata.org/sparql?query=%23Tool%3A+WikibaseIntegrator+wbi_functions.execute_sparql_query%0ASELECT+DISTINCT+%3Fsbj+%3Fsbj_label+WHERE++%3Fsbj+wdt%3AP31+wd%3AQ31+.+%3Fsbj+rdfs%3Alabel+%3Fsbj_label+.+FILTER%28STRSTARTS%28lcase%28%3Fsbj_label%29%2C+%27w%27%29%29+.+FILTER+%28lang%28%3Fsbj_label%29+%3D+%27w%27%29%29++LIMIT+25&format=json\n"
     ]
    },
    {
     "name": "stdout",
     "output_type": "stream",
     "text": [
      "failed query SELECT DISTINCT ?sbj ?sbj_label WHERE  ?sbj wdt:P31 wd:Q31 . ?sbj rdfs:label ?sbj_label . FILTER(STRSTARTS(lcase(?sbj_label), 'w')) . FILTER (lang(?sbj_label) = 'w'))  LIMIT 25\n",
      "Failed query number 89\n"
     ]
    },
    {
     "name": "stderr",
     "output_type": "stream",
     "text": [
      "ERROR:backoff:Giving up execute_sparql_query(...) after 1 tries (requests.exceptions.HTTPError: 400 Client Error: Bad Request for url: https://query.wikidata.org/sparql?query=%23Tool%3A+WikibaseIntegrator+wbi_functions.execute_sparql_query%0ASELECT+DISTINCT+%3Fsbj+%3Fsbj_label+WHERE++%3Fsbj+wdt%3AP31+wd%3AQ31+.+%3Fsbj+rdfs%3Alabel+%3Fsbj_label+.+FILTER%28STRSTARTS%28lcase%28%3Fsbj_label%29%2C+%27thematrix%27%29%29+.+FILTER+%28lang%28%3Fsbj_label%29+%3D+%27en%27%29++LIMIT+25&format=json)\n",
      "ERROR:root:HTTPError 400 Client Error: Bad Request for url: https://query.wikidata.org/sparql?query=%23Tool%3A+WikibaseIntegrator+wbi_functions.execute_sparql_query%0ASELECT+DISTINCT+%3Fsbj+%3Fsbj_label+WHERE++%3Fsbj+wdt%3AP31+wd%3AQ31+.+%3Fsbj+rdfs%3Alabel+%3Fsbj_label+.+FILTER%28STRSTARTS%28lcase%28%3Fsbj_label%29%2C+%27thematrix%27%29%29+.+FILTER+%28lang%28%3Fsbj_label%29+%3D+%27en%27%29++LIMIT+25&format=json\n",
      "ERROR:backoff:Giving up execute_sparql_query(...) after 1 tries (requests.exceptions.HTTPError: 400 Client Error: Bad Request for url: https://query.wikidata.org/sparql?query=%23Tool%3A+WikibaseIntegrator+wbi_functions.execute_sparql_query%0Aselect+distinct+%3Fsbj+where++%3Fsbj+wdt%3AP31+wd%3AQ220+.+%3Fsbj+wdt%3AP31+wd%3AQ220+&format=json)\n",
      "ERROR:root:HTTPError 400 Client Error: Bad Request for url: https://query.wikidata.org/sparql?query=%23Tool%3A+WikibaseIntegrator+wbi_functions.execute_sparql_query%0Aselect+distinct+%3Fsbj+where++%3Fsbj+wdt%3AP31+wd%3AQ220+.+%3Fsbj+wdt%3AP31+wd%3AQ220+&format=json\n"
     ]
    },
    {
     "name": "stdout",
     "output_type": "stream",
     "text": [
      "failed query SELECT DISTINCT ?sbj ?sbj_label WHERE  ?sbj wdt:P31 wd:Q31 . ?sbj rdfs:label ?sbj_label . FILTER(STRSTARTS(lcase(?sbj_label), 'thematrix')) . FILTER (lang(?sbj_label) = 'en')  LIMIT 25\n",
      "Failed query number 90\n",
      "failed query select distinct ?sbj where  ?sbj wdt:P31 wd:Q220 . ?sbj wdt:P31 wd:Q220 \n",
      "Failed query number 91\n"
     ]
    },
    {
     "name": "stderr",
     "output_type": "stream",
     "text": [
      "ERROR:backoff:Giving up execute_sparql_query(...) after 1 tries (requests.exceptions.HTTPError: 400 Client Error: Bad Request for url: https://query.wikidata.org/sparql?query=%23Tool%3A+WikibaseIntegrator+wbi_functions.execute_sparql_query%0Aselect+distinct+%3Fsbj+where++%3Fsbj+wdt%3AP31+wd%3AQ335+.+%3Fsbj+wdt%3AP31+wd%3AQ335+&format=json)\n",
      "ERROR:root:HTTPError 400 Client Error: Bad Request for url: https://query.wikidata.org/sparql?query=%23Tool%3A+WikibaseIntegrator+wbi_functions.execute_sparql_query%0Aselect+distinct+%3Fsbj+where++%3Fsbj+wdt%3AP31+wd%3AQ335+.+%3Fsbj+wdt%3AP31+wd%3AQ335+&format=json\n"
     ]
    },
    {
     "name": "stdout",
     "output_type": "stream",
     "text": [
      "failed query select distinct ?sbj where  ?sbj wdt:P31 wd:Q335 . ?sbj wdt:P31 wd:Q335 \n",
      "Failed query number 92\n"
     ]
    },
    {
     "name": "stderr",
     "output_type": "stream",
     "text": [
      "ERROR:backoff:Giving up execute_sparql_query(...) after 1 tries (requests.exceptions.HTTPError: 400 Client Error: Bad Request for url: https://query.wikidata.org/sparql?query=%23Tool%3A+WikibaseIntegrator+wbi_functions.execute_sparql_query%0Aselect+distinct+%3Fsbj+where++%3Fsbj+wdt%3AP31+wd%3AQ220+.+%3Fsbj+wdt%3AP31+wd%3AQ220+&format=json)\n",
      "ERROR:root:HTTPError 400 Client Error: Bad Request for url: https://query.wikidata.org/sparql?query=%23Tool%3A+WikibaseIntegrator+wbi_functions.execute_sparql_query%0Aselect+distinct+%3Fsbj+where++%3Fsbj+wdt%3AP31+wd%3AQ220+.+%3Fsbj+wdt%3AP31+wd%3AQ220+&format=json\n",
      "ERROR:backoff:Giving up execute_sparql_query(...) after 1 tries (requests.exceptions.HTTPError: 400 Client Error: Bad Request for url: https://query.wikidata.org/sparql?query=%23Tool%3A+WikibaseIntegrator+wbi_functions.execute_sparql_query%0ASELECT+DISTINCT+%3Fsbj+%3Fsbj_label+WHERE++%3Fsbj+wdt%3AP31+wd%3AQ318+.+%3Fsbj+rdfs%3Alabel+%3Fsbj_label+.+FILTER%28STRSTARTS%28lcase%28%3Fsbj_label%29%2C+%27149%27%29%29+.+FILTER+%28lang%28%3Fsbj_label%29+%3D+149++LIMIT+25&format=json)\n",
      "ERROR:root:HTTPError 400 Client Error: Bad Request for url: https://query.wikidata.org/sparql?query=%23Tool%3A+WikibaseIntegrator+wbi_functions.execute_sparql_query%0ASELECT+DISTINCT+%3Fsbj+%3Fsbj_label+WHERE++%3Fsbj+wdt%3AP31+wd%3AQ318+.+%3Fsbj+rdfs%3Alabel+%3Fsbj_label+.+FILTER%28STRSTARTS%28lcase%28%3Fsbj_label%29%2C+%27149%27%29%29+.+FILTER+%28lang%28%3Fsbj_label%29+%3D+149++LIMIT+25&format=json\n"
     ]
    },
    {
     "name": "stdout",
     "output_type": "stream",
     "text": [
      "failed query select distinct ?sbj where  ?sbj wdt:P31 wd:Q220 . ?sbj wdt:P31 wd:Q220 \n",
      "Failed query number 93\n",
      "failed query SELECT DISTINCT ?sbj ?sbj_label WHERE  ?sbj wdt:P31 wd:Q318 . ?sbj rdfs:label ?sbj_label . FILTER(STRSTARTS(lcase(?sbj_label), '149')) . FILTER (lang(?sbj_label) = 149  LIMIT 25\n",
      "Failed query number 94\n"
     ]
    },
    {
     "name": "stderr",
     "output_type": "stream",
     "text": [
      "ERROR:backoff:Giving up execute_sparql_query(...) after 1 tries (requests.exceptions.HTTPError: 400 Client Error: Bad Request for url: https://query.wikidata.org/sparql?query=%23Tool%3A+WikibaseIntegrator+wbi_functions.execute_sparql_query%0Aselect+distinct+%3Fsbj+where++%3Fsbj+wdt%3AP31+wd%3AQ220+.+%3Fsbj+wdt%3AP31+wd%3AQ220+&format=json)\n",
      "ERROR:root:HTTPError 400 Client Error: Bad Request for url: https://query.wikidata.org/sparql?query=%23Tool%3A+WikibaseIntegrator+wbi_functions.execute_sparql_query%0Aselect+distinct+%3Fsbj+where++%3Fsbj+wdt%3AP31+wd%3AQ220+.+%3Fsbj+wdt%3AP31+wd%3AQ220+&format=json\n",
      "ERROR:backoff:Giving up execute_sparql_query(...) after 1 tries (requests.exceptions.HTTPError: 400 Client Error: Bad Request for url: https://query.wikidata.org/sparql?query=%23Tool%3A+WikibaseIntegrator+wbi_functions.execute_sparql_query%0Aselect+distinct+%3Fsbj+where++%3Fsbj+wdt%3AP31+wd%3AQ220+.+%3Fsbj+wdt%3AP31+wd%3AQ220+&format=json)\n",
      "ERROR:root:HTTPError 400 Client Error: Bad Request for url: https://query.wikidata.org/sparql?query=%23Tool%3A+WikibaseIntegrator+wbi_functions.execute_sparql_query%0Aselect+distinct+%3Fsbj+where++%3Fsbj+wdt%3AP31+wd%3AQ220+.+%3Fsbj+wdt%3AP31+wd%3AQ220+&format=json\n"
     ]
    },
    {
     "name": "stdout",
     "output_type": "stream",
     "text": [
      "failed query select distinct ?sbj where  ?sbj wdt:P31 wd:Q220 . ?sbj wdt:P31 wd:Q220 \n",
      "Failed query number 95\n",
      "failed query select distinct ?sbj where  ?sbj wdt:P31 wd:Q220 . ?sbj wdt:P31 wd:Q220 \n",
      "Failed query number 96\n"
     ]
    },
    {
     "name": "stderr",
     "output_type": "stream",
     "text": [
      "ERROR:backoff:Giving up execute_sparql_query(...) after 1 tries (requests.exceptions.HTTPError: 400 Client Error: Bad Request for url: https://query.wikidata.org/sparql?query=%23Tool%3A+WikibaseIntegrator+wbi_functions.execute_sparql_query%0Aselect+distinct+%3Fsbj+where++%3Fsbj+wdt%3AP31+wd%3AQ220+.+%3Fsbj+wdt%3AP31+wd%3AQ220+&format=json)\n",
      "ERROR:root:HTTPError 400 Client Error: Bad Request for url: https://query.wikidata.org/sparql?query=%23Tool%3A+WikibaseIntegrator+wbi_functions.execute_sparql_query%0Aselect+distinct+%3Fsbj+where++%3Fsbj+wdt%3AP31+wd%3AQ220+.+%3Fsbj+wdt%3AP31+wd%3AQ220+&format=json\n",
      "ERROR:backoff:Giving up execute_sparql_query(...) after 1 tries (requests.exceptions.HTTPError: 400 Client Error: Bad Request for url: https://query.wikidata.org/sparql?query=%23Tool%3A+WikibaseIntegrator+wbi_functions.execute_sparql_query%0Aselect+distinct+%3Fsbj+where++%3Fsbj+wdt%3AP31+wd%3AQ335+.+%3Fsbj+wdt%3AP31+wd%3AQ335+&format=json)\n",
      "ERROR:root:HTTPError 400 Client Error: Bad Request for url: https://query.wikidata.org/sparql?query=%23Tool%3A+WikibaseIntegrator+wbi_functions.execute_sparql_query%0Aselect+distinct+%3Fsbj+where++%3Fsbj+wdt%3AP31+wd%3AQ335+.+%3Fsbj+wdt%3AP31+wd%3AQ335+&format=json\n"
     ]
    },
    {
     "name": "stdout",
     "output_type": "stream",
     "text": [
      "failed query select distinct ?sbj where  ?sbj wdt:P31 wd:Q220 . ?sbj wdt:P31 wd:Q220 \n",
      "Failed query number 97\n",
      "failed query select distinct ?sbj where  ?sbj wdt:P31 wd:Q335 . ?sbj wdt:P31 wd:Q335 \n",
      "Failed query number 98\n"
     ]
    },
    {
     "name": "stderr",
     "output_type": "stream",
     "text": [
      "ERROR:backoff:Giving up execute_sparql_query(...) after 1 tries (requests.exceptions.HTTPError: 400 Client Error: Bad Request for url: https://query.wikidata.org/sparql?query=%23Tool%3A+WikibaseIntegrator+wbi_functions.execute_sparql_query%0ASELECT+DISTINCT+%3Fsbj+%3Fsbj_label+WHERE++%3Fsbj+wdt%3AP31+wd%3AQ335+.+%3Fsbj+rdfs%3Alabel+%3Fsbj_label+.+FILTER%28CONTAINS%28lcase%28%3Fsbj_label%29%2C+%27moment%28%3Fsbj_label%29%2C+%27en%27%29%29+.+FILTER&format=json)\n",
      "ERROR:root:HTTPError 400 Client Error: Bad Request for url: https://query.wikidata.org/sparql?query=%23Tool%3A+WikibaseIntegrator+wbi_functions.execute_sparql_query%0ASELECT+DISTINCT+%3Fsbj+%3Fsbj_label+WHERE++%3Fsbj+wdt%3AP31+wd%3AQ335+.+%3Fsbj+rdfs%3Alabel+%3Fsbj_label+.+FILTER%28CONTAINS%28lcase%28%3Fsbj_label%29%2C+%27moment%28%3Fsbj_label%29%2C+%27en%27%29%29+.+FILTER&format=json\n"
     ]
    },
    {
     "name": "stdout",
     "output_type": "stream",
     "text": [
      "failed query SELECT DISTINCT ?sbj ?sbj_label WHERE  ?sbj wdt:P31 wd:Q335 . ?sbj rdfs:label ?sbj_label . FILTER(CONTAINS(lcase(?sbj_label), 'moment(?sbj_label), 'en')) . FILTER\n",
      "Failed query number 99\n"
     ]
    },
    {
     "name": "stderr",
     "output_type": "stream",
     "text": [
      "ERROR:backoff:Giving up execute_sparql_query(...) after 1 tries (requests.exceptions.HTTPError: 400 Client Error: Bad Request for url: https://query.wikidata.org/sparql?query=%23Tool%3A+WikibaseIntegrator+wbi_functions.execute_sparql_query%0ASELECT+DISTINCT+%3Fsbj+%3Fsbj_label+WHERE++%3Fsbj+wdt%3AP31+wd%3AQ31+.+%3Fsbj+rdfs%3Alabel+%3Fsbj_label+.+FILTER%28STRSTARTS%28lcase%28%3Fsbj_label%29%2C+%27z%27%29%29+.+FILTER+%28lang%28%3Fsbj_label%29+%3D+%27z&format=json)\n",
      "ERROR:root:HTTPError 400 Client Error: Bad Request for url: https://query.wikidata.org/sparql?query=%23Tool%3A+WikibaseIntegrator+wbi_functions.execute_sparql_query%0ASELECT+DISTINCT+%3Fsbj+%3Fsbj_label+WHERE++%3Fsbj+wdt%3AP31+wd%3AQ31+.+%3Fsbj+rdfs%3Alabel+%3Fsbj_label+.+FILTER%28STRSTARTS%28lcase%28%3Fsbj_label%29%2C+%27z%27%29%29+.+FILTER+%28lang%28%3Fsbj_label%29+%3D+%27z&format=json\n"
     ]
    },
    {
     "name": "stdout",
     "output_type": "stream",
     "text": [
      "failed query SELECT DISTINCT ?sbj ?sbj_label WHERE  ?sbj wdt:P31 wd:Q31 . ?sbj rdfs:label ?sbj_label . FILTER(STRSTARTS(lcase(?sbj_label), 'z')) . FILTER (lang(?sbj_label) = 'z\n",
      "Failed query number 100\n"
     ]
    },
    {
     "name": "stderr",
     "output_type": "stream",
     "text": [
      "ERROR:backoff:Giving up execute_sparql_query(...) after 1 tries (requests.exceptions.HTTPError: 400 Client Error: Bad Request for url: https://query.wikidata.org/sparql?query=%23Tool%3A+WikibaseIntegrator+wbi_functions.execute_sparql_query%0ASELECT+DISTINCT+%3Fsbj+%3Fsbj_label+WHERE++%3Fsbj+wdt%3AP31+wd%3AQ31+.+%3Fsbj+rdfs%3Alabel+%3Fsbj_label+.+FILTER%28CONTAINS%28lcase%28%3Fsbj_label%29%2C+%27the+University+of+Florida%27%29%29+&format=json)\n",
      "ERROR:root:HTTPError 400 Client Error: Bad Request for url: https://query.wikidata.org/sparql?query=%23Tool%3A+WikibaseIntegrator+wbi_functions.execute_sparql_query%0ASELECT+DISTINCT+%3Fsbj+%3Fsbj_label+WHERE++%3Fsbj+wdt%3AP31+wd%3AQ31+.+%3Fsbj+rdfs%3Alabel+%3Fsbj_label+.+FILTER%28CONTAINS%28lcase%28%3Fsbj_label%29%2C+%27the+University+of+Florida%27%29%29+&format=json\n"
     ]
    },
    {
     "name": "stdout",
     "output_type": "stream",
     "text": [
      "failed query SELECT DISTINCT ?sbj ?sbj_label WHERE  ?sbj wdt:P31 wd:Q31 . ?sbj rdfs:label ?sbj_label . FILTER(CONTAINS(lcase(?sbj_label), 'the University of Florida')) \n",
      "Failed query number 101\n"
     ]
    },
    {
     "name": "stderr",
     "output_type": "stream",
     "text": [
      "ERROR:backoff:Giving up execute_sparql_query(...) after 1 tries (requests.exceptions.HTTPError: 400 Client Error: Bad Request for url: https://query.wikidata.org/sparql?query=%23Tool%3A+WikibaseIntegrator+wbi_functions.execute_sparql_query%0Aselect+distinct+%3Fsbj+where++%3Fsbj+wdt%3AP31+wd%3AQ220+.+%3Fsbj+wdt%3AP31+wd%3AQ220+&format=json)\n",
      "ERROR:root:HTTPError 400 Client Error: Bad Request for url: https://query.wikidata.org/sparql?query=%23Tool%3A+WikibaseIntegrator+wbi_functions.execute_sparql_query%0Aselect+distinct+%3Fsbj+where++%3Fsbj+wdt%3AP31+wd%3AQ220+.+%3Fsbj+wdt%3AP31+wd%3AQ220+&format=json\n"
     ]
    },
    {
     "name": "stdout",
     "output_type": "stream",
     "text": [
      "failed query select distinct ?sbj where  ?sbj wdt:P31 wd:Q220 . ?sbj wdt:P31 wd:Q220 \n",
      "Failed query number 102\n"
     ]
    },
    {
     "name": "stderr",
     "output_type": "stream",
     "text": [
      "ERROR:backoff:Giving up execute_sparql_query(...) after 1 tries (requests.exceptions.HTTPError: 400 Client Error: Bad Request for url: https://query.wikidata.org/sparql?query=%23Tool%3A+WikibaseIntegrator+wbi_functions.execute_sparql_query%0Aselect+distinct+%3Fsbj+where++%3Fsbj+wdt%3AP31+wd%3AQ220+.+%3Fsbj+wdt%3AP31+wd%3AQ220+&format=json)\n",
      "ERROR:root:HTTPError 400 Client Error: Bad Request for url: https://query.wikidata.org/sparql?query=%23Tool%3A+WikibaseIntegrator+wbi_functions.execute_sparql_query%0Aselect+distinct+%3Fsbj+where++%3Fsbj+wdt%3AP31+wd%3AQ220+.+%3Fsbj+wdt%3AP31+wd%3AQ220+&format=json\n",
      "ERROR:backoff:Giving up execute_sparql_query(...) after 1 tries (requests.exceptions.HTTPError: 400 Client Error: Bad Request for url: https://query.wikidata.org/sparql?query=%23Tool%3A+WikibaseIntegrator+wbi_functions.execute_sparql_query%0ASELECT+DISTINCT+%3Fsbj+%3Fsbj_label+WHERE++%3Fsbj+wdt%3AP31+wd%3AQ220+.+%3Fsbj+rdfs%3Alabel+%3Fsbj_label+.+FILTER%28CONTAINS%28lcase%28%3Fsbj_label%29%2C+%27DRTL%27%29%29+.+FILTER+%28lang%28%3Fsbj_label%29+%3D+%27en%27%29++LIMIT+25&format=json)\n",
      "ERROR:root:HTTPError 400 Client Error: Bad Request for url: https://query.wikidata.org/sparql?query=%23Tool%3A+WikibaseIntegrator+wbi_functions.execute_sparql_query%0ASELECT+DISTINCT+%3Fsbj+%3Fsbj_label+WHERE++%3Fsbj+wdt%3AP31+wd%3AQ220+.+%3Fsbj+rdfs%3Alabel+%3Fsbj_label+.+FILTER%28CONTAINS%28lcase%28%3Fsbj_label%29%2C+%27DRTL%27%29%29+.+FILTER+%28lang%28%3Fsbj_label%29+%3D+%27en%27%29++LIMIT+25&format=json\n"
     ]
    },
    {
     "name": "stdout",
     "output_type": "stream",
     "text": [
      "failed query select distinct ?sbj where  ?sbj wdt:P31 wd:Q220 . ?sbj wdt:P31 wd:Q220 \n",
      "Failed query number 103\n",
      "failed query SELECT DISTINCT ?sbj ?sbj_label WHERE  ?sbj wdt:P31 wd:Q220 . ?sbj rdfs:label ?sbj_label . FILTER(CONTAINS(lcase(?sbj_label), 'DRTL')) . FILTER (lang(?sbj_label) = 'en')  LIMIT 25\n",
      "Failed query number 104\n"
     ]
    },
    {
     "name": "stderr",
     "output_type": "stream",
     "text": [
      "ERROR:backoff:Giving up execute_sparql_query(...) after 1 tries (requests.exceptions.HTTPError: 400 Client Error: Bad Request for url: https://query.wikidata.org/sparql?query=%23Tool%3A+WikibaseIntegrator+wbi_functions.execute_sparql_query%0ASELECT+DISTINCT+%3Fsbj+%3Fsbj_label+WHERE++%3Fsbj+wdt%3AP31+wd%3AQ31+.+%3Fsbj+rdfs%3Alabel+%3Fsbj_label+.+FILTER%28CONTAINS%28lcase%28%3Fsbj_label%29%2C+%27british%27%29%29+.+FILTER+%28lang%28%3Fsbj_label%29+%3D+%27en%27%29++LIMIT+25&format=json)\n",
      "ERROR:root:HTTPError 400 Client Error: Bad Request for url: https://query.wikidata.org/sparql?query=%23Tool%3A+WikibaseIntegrator+wbi_functions.execute_sparql_query%0ASELECT+DISTINCT+%3Fsbj+%3Fsbj_label+WHERE++%3Fsbj+wdt%3AP31+wd%3AQ31+.+%3Fsbj+rdfs%3Alabel+%3Fsbj_label+.+FILTER%28CONTAINS%28lcase%28%3Fsbj_label%29%2C+%27british%27%29%29+.+FILTER+%28lang%28%3Fsbj_label%29+%3D+%27en%27%29++LIMIT+25&format=json\n",
      "ERROR:backoff:Giving up execute_sparql_query(...) after 1 tries (requests.exceptions.HTTPError: 400 Client Error: Bad Request for url: https://query.wikidata.org/sparql?query=%23Tool%3A+WikibaseIntegrator+wbi_functions.execute_sparql_query%0ASELECT+DISTINCT+%3Fsbj+%3Fsbj_label+WHERE++%3Fsbj+wdt%3AP31+wd%3AQ335+.+%3Fsbj+rdfs%3Alabel+%3Fsbj_label+.+FILTER%28CONTAINS%28lcase%28%3Fsbj_label%29%2C+%271489-8-1%27%29%29+.+FILTER+%28lang%28%3Fsbj_label%29+%3D+%27en%27%29++LIMIT+25&format=json)\n",
      "ERROR:root:HTTPError 400 Client Error: Bad Request for url: https://query.wikidata.org/sparql?query=%23Tool%3A+WikibaseIntegrator+wbi_functions.execute_sparql_query%0ASELECT+DISTINCT+%3Fsbj+%3Fsbj_label+WHERE++%3Fsbj+wdt%3AP31+wd%3AQ335+.+%3Fsbj+rdfs%3Alabel+%3Fsbj_label+.+FILTER%28CONTAINS%28lcase%28%3Fsbj_label%29%2C+%271489-8-1%27%29%29+.+FILTER+%28lang%28%3Fsbj_label%29+%3D+%27en%27%29++LIMIT+25&format=json\n"
     ]
    },
    {
     "name": "stdout",
     "output_type": "stream",
     "text": [
      "failed query SELECT DISTINCT ?sbj ?sbj_label WHERE  ?sbj wdt:P31 wd:Q31 . ?sbj rdfs:label ?sbj_label . FILTER(CONTAINS(lcase(?sbj_label), 'british')) . FILTER (lang(?sbj_label) = 'en')  LIMIT 25\n",
      "Failed query number 105\n",
      "failed query SELECT DISTINCT ?sbj ?sbj_label WHERE  ?sbj wdt:P31 wd:Q335 . ?sbj rdfs:label ?sbj_label . FILTER(CONTAINS(lcase(?sbj_label), '1489-8-1')) . FILTER (lang(?sbj_label) = 'en')  LIMIT 25\n",
      "Failed query number 106\n"
     ]
    },
    {
     "name": "stderr",
     "output_type": "stream",
     "text": [
      "ERROR:backoff:Giving up execute_sparql_query(...) after 1 tries (requests.exceptions.HTTPError: 400 Client Error: Bad Request for url: https://query.wikidata.org/sparql?query=%23Tool%3A+WikibaseIntegrator+wbi_functions.execute_sparql_query%0Aselect+distinct+%3Fsbj+where++%3Fsbj+wdt%3AP31+wd%3AQ220+.+%3Fsbj+wdt%3AP31+wd%3AQ220+&format=json)\n",
      "ERROR:root:HTTPError 400 Client Error: Bad Request for url: https://query.wikidata.org/sparql?query=%23Tool%3A+WikibaseIntegrator+wbi_functions.execute_sparql_query%0Aselect+distinct+%3Fsbj+where++%3Fsbj+wdt%3AP31+wd%3AQ220+.+%3Fsbj+wdt%3AP31+wd%3AQ220+&format=json\n",
      "ERROR:backoff:Giving up execute_sparql_query(...) after 1 tries (requests.exceptions.HTTPError: 400 Client Error: Bad Request for url: https://query.wikidata.org/sparql?query=%23Tool%3A+WikibaseIntegrator+wbi_functions.execute_sparql_query%0ASELECT+DISTINCT+%3Fsbj+%3Fsbj_label+WHERE++%3Fsbj+wdt%3AP31+wd%3AQ335+.+%3Fsbj+rdfs%3Alabel+%3Fsbj_label+.+FILTER%28CONTAINS%28lcase%28%3Fsbj_label%29%2C+%27sandre%27%29%29+.+FILTER+%28lang%28%3Fsbj_label%29+%3D+%27en%27%29++LIMIT+25&format=json)\n",
      "ERROR:root:HTTPError 400 Client Error: Bad Request for url: https://query.wikidata.org/sparql?query=%23Tool%3A+WikibaseIntegrator+wbi_functions.execute_sparql_query%0ASELECT+DISTINCT+%3Fsbj+%3Fsbj_label+WHERE++%3Fsbj+wdt%3AP31+wd%3AQ335+.+%3Fsbj+rdfs%3Alabel+%3Fsbj_label+.+FILTER%28CONTAINS%28lcase%28%3Fsbj_label%29%2C+%27sandre%27%29%29+.+FILTER+%28lang%28%3Fsbj_label%29+%3D+%27en%27%29++LIMIT+25&format=json\n"
     ]
    },
    {
     "name": "stdout",
     "output_type": "stream",
     "text": [
      "failed query select distinct ?sbj where  ?sbj wdt:P31 wd:Q220 . ?sbj wdt:P31 wd:Q220 \n",
      "Failed query number 107\n",
      "failed query SELECT DISTINCT ?sbj ?sbj_label WHERE  ?sbj wdt:P31 wd:Q335 . ?sbj rdfs:label ?sbj_label . FILTER(CONTAINS(lcase(?sbj_label), 'sandre')) . FILTER (lang(?sbj_label) = 'en')  LIMIT 25\n",
      "Failed query number 108\n"
     ]
    },
    {
     "name": "stderr",
     "output_type": "stream",
     "text": [
      "ERROR:backoff:Giving up execute_sparql_query(...) after 1 tries (requests.exceptions.HTTPError: 400 Client Error: Bad Request for url: https://query.wikidata.org/sparql?query=%23Tool%3A+WikibaseIntegrator+wbi_functions.execute_sparql_query%0Aselect+distinct+%3Fsbj+where++%3Fsbj+wdt%3AP31+wd%3AQ220+.+%3Fsbj+wdt%3AP31+wd%3AQ220+&format=json)\n",
      "ERROR:root:HTTPError 400 Client Error: Bad Request for url: https://query.wikidata.org/sparql?query=%23Tool%3A+WikibaseIntegrator+wbi_functions.execute_sparql_query%0Aselect+distinct+%3Fsbj+where++%3Fsbj+wdt%3AP31+wd%3AQ220+.+%3Fsbj+wdt%3AP31+wd%3AQ220+&format=json\n",
      "ERROR:backoff:Giving up execute_sparql_query(...) after 1 tries (requests.exceptions.HTTPError: 400 Client Error: Bad Request for url: https://query.wikidata.org/sparql?query=%23Tool%3A+WikibaseIntegrator+wbi_functions.execute_sparql_query%0Aselect+distinct+%3Fsbj+where++%3Fsbj+wdt%3AP31+wd%3AQ220+.+%3Fsbj+wdt%3AP31+wd%3AQ220+&format=json)\n",
      "ERROR:root:HTTPError 400 Client Error: Bad Request for url: https://query.wikidata.org/sparql?query=%23Tool%3A+WikibaseIntegrator+wbi_functions.execute_sparql_query%0Aselect+distinct+%3Fsbj+where++%3Fsbj+wdt%3AP31+wd%3AQ220+.+%3Fsbj+wdt%3AP31+wd%3AQ220+&format=json\n"
     ]
    },
    {
     "name": "stdout",
     "output_type": "stream",
     "text": [
      "failed query select distinct ?sbj where  ?sbj wdt:P31 wd:Q220 . ?sbj wdt:P31 wd:Q220 \n",
      "Failed query number 109\n",
      "failed query select distinct ?sbj where  ?sbj wdt:P31 wd:Q220 . ?sbj wdt:P31 wd:Q220 \n",
      "Failed query number 110\n"
     ]
    },
    {
     "name": "stderr",
     "output_type": "stream",
     "text": [
      "ERROR:backoff:Giving up execute_sparql_query(...) after 1 tries (requests.exceptions.HTTPError: 400 Client Error: Bad Request for url: https://query.wikidata.org/sparql?query=%23Tool%3A+WikibaseIntegrator+wbi_functions.execute_sparql_query%0ASELECT+DISTINCT+%3Fsbj+%3Fsbj_label+WHERE++%3Fsbj+wdt%3AP31+wd%3AQ31+.+%3Fsbj+rdfs%3Alabel+%3Fsbj_label+.+FILTER%28CONTAINS%28lcase%28%3Fsbj_label%29%2C+%27posidon%27%29%29+.+FILTER+%28lang%28%3Fsbj_label%29+%3D+%27en%27%29++LIMIT+25&format=json)\n",
      "ERROR:root:HTTPError 400 Client Error: Bad Request for url: https://query.wikidata.org/sparql?query=%23Tool%3A+WikibaseIntegrator+wbi_functions.execute_sparql_query%0ASELECT+DISTINCT+%3Fsbj+%3Fsbj_label+WHERE++%3Fsbj+wdt%3AP31+wd%3AQ31+.+%3Fsbj+rdfs%3Alabel+%3Fsbj_label+.+FILTER%28CONTAINS%28lcase%28%3Fsbj_label%29%2C+%27posidon%27%29%29+.+FILTER+%28lang%28%3Fsbj_label%29+%3D+%27en%27%29++LIMIT+25&format=json\n",
      "ERROR:backoff:Giving up execute_sparql_query(...) after 1 tries (requests.exceptions.HTTPError: 400 Client Error: Bad Request for url: https://query.wikidata.org/sparql?query=%23Tool%3A+WikibaseIntegrator+wbi_functions.execute_sparql_query%0ASELECT+DISTINCT+%3Fsbj+%3Fsbj_label+WHERE++%3Fsbj+wdt%3AP31+wd%3AQ335+.+%3Fsbj+rdfs%3Alabel+%3Fsbj_label+.+FILTER%28CONTAINS%28lcase%28%3Fsbj_label%29%2C+%27exodus%27%29%29+.+FILTER+%28lang%28%3Fsbj_label%29+%3D+%27en%27%29++LIMIT+25&format=json)\n",
      "ERROR:root:HTTPError 400 Client Error: Bad Request for url: https://query.wikidata.org/sparql?query=%23Tool%3A+WikibaseIntegrator+wbi_functions.execute_sparql_query%0ASELECT+DISTINCT+%3Fsbj+%3Fsbj_label+WHERE++%3Fsbj+wdt%3AP31+wd%3AQ335+.+%3Fsbj+rdfs%3Alabel+%3Fsbj_label+.+FILTER%28CONTAINS%28lcase%28%3Fsbj_label%29%2C+%27exodus%27%29%29+.+FILTER+%28lang%28%3Fsbj_label%29+%3D+%27en%27%29++LIMIT+25&format=json\n"
     ]
    },
    {
     "name": "stdout",
     "output_type": "stream",
     "text": [
      "failed query SELECT DISTINCT ?sbj ?sbj_label WHERE  ?sbj wdt:P31 wd:Q31 . ?sbj rdfs:label ?sbj_label . FILTER(CONTAINS(lcase(?sbj_label), 'posidon')) . FILTER (lang(?sbj_label) = 'en')  LIMIT 25\n",
      "Failed query number 111\n",
      "failed query SELECT DISTINCT ?sbj ?sbj_label WHERE  ?sbj wdt:P31 wd:Q335 . ?sbj rdfs:label ?sbj_label . FILTER(CONTAINS(lcase(?sbj_label), 'exodus')) . FILTER (lang(?sbj_label) = 'en')  LIMIT 25\n",
      "Failed query number 112\n"
     ]
    },
    {
     "name": "stderr",
     "output_type": "stream",
     "text": [
      "ERROR:backoff:Giving up execute_sparql_query(...) after 1 tries (requests.exceptions.HTTPError: 400 Client Error: Bad Request for url: https://query.wikidata.org/sparql?query=%23Tool%3A+WikibaseIntegrator+wbi_functions.execute_sparql_query%0Aselect+distinct+%3Fsbj+where++%3Fsbj+wdt%3AP31+wd%3AQ220+.+%3Fsbj+wdt%3AP31+wd%3AQ220+&format=json)\n",
      "ERROR:root:HTTPError 400 Client Error: Bad Request for url: https://query.wikidata.org/sparql?query=%23Tool%3A+WikibaseIntegrator+wbi_functions.execute_sparql_query%0Aselect+distinct+%3Fsbj+where++%3Fsbj+wdt%3AP31+wd%3AQ220+.+%3Fsbj+wdt%3AP31+wd%3AQ220+&format=json\n",
      "ERROR:backoff:Giving up execute_sparql_query(...) after 1 tries (requests.exceptions.HTTPError: 400 Client Error: Bad Request for url: https://query.wikidata.org/sparql?query=%23Tool%3A+WikibaseIntegrator+wbi_functions.execute_sparql_query%0ASELECT+DISTINCT+%3Fsbj+%3Fsbj_label+WHERE++%3Fsbj+wdt%3AP31+wd%3AQ31+.+%3Fsbj+rdfs%3Alabel+%3Fsbj_label+.+FILTER%28STRSTARTS%28lcase%28%3Fsbj_label%29%2C+%27sasha%27%29%29+.+FILTER+%28lang%28%3Fsbj_label%29+%3D+%27en%27%29++LIMIT+25&format=json)\n",
      "ERROR:root:HTTPError 400 Client Error: Bad Request for url: https://query.wikidata.org/sparql?query=%23Tool%3A+WikibaseIntegrator+wbi_functions.execute_sparql_query%0ASELECT+DISTINCT+%3Fsbj+%3Fsbj_label+WHERE++%3Fsbj+wdt%3AP31+wd%3AQ31+.+%3Fsbj+rdfs%3Alabel+%3Fsbj_label+.+FILTER%28STRSTARTS%28lcase%28%3Fsbj_label%29%2C+%27sasha%27%29%29+.+FILTER+%28lang%28%3Fsbj_label%29+%3D+%27en%27%29++LIMIT+25&format=json\n"
     ]
    },
    {
     "name": "stdout",
     "output_type": "stream",
     "text": [
      "failed query select distinct ?sbj where  ?sbj wdt:P31 wd:Q220 . ?sbj wdt:P31 wd:Q220 \n",
      "Failed query number 113\n",
      "failed query SELECT DISTINCT ?sbj ?sbj_label WHERE  ?sbj wdt:P31 wd:Q31 . ?sbj rdfs:label ?sbj_label . FILTER(STRSTARTS(lcase(?sbj_label), 'sasha')) . FILTER (lang(?sbj_label) = 'en')  LIMIT 25\n",
      "Failed query number 114\n"
     ]
    },
    {
     "name": "stderr",
     "output_type": "stream",
     "text": [
      "ERROR:backoff:Giving up execute_sparql_query(...) after 1 tries (requests.exceptions.HTTPError: 400 Client Error: Bad Request for url: https://query.wikidata.org/sparql?query=%23Tool%3A+WikibaseIntegrator+wbi_functions.execute_sparql_query%0Aselect+distinct+%3Fsbj+where++%3Fsbj+wdt%3AP31+wd%3AQ220+.+%3Fsbj+wdt%3AP31+wd%3AQ220+&format=json)\n",
      "ERROR:root:HTTPError 400 Client Error: Bad Request for url: https://query.wikidata.org/sparql?query=%23Tool%3A+WikibaseIntegrator+wbi_functions.execute_sparql_query%0Aselect+distinct+%3Fsbj+where++%3Fsbj+wdt%3AP31+wd%3AQ220+.+%3Fsbj+wdt%3AP31+wd%3AQ220+&format=json\n",
      "ERROR:backoff:Giving up execute_sparql_query(...) after 1 tries (requests.exceptions.HTTPError: 400 Client Error: Bad Request for url: https://query.wikidata.org/sparql?query=%23Tool%3A+WikibaseIntegrator+wbi_functions.execute_sparql_query%0ASELECT+DISTINCT+%3Fsbj+%3Fsbj_label+WHERE++%3Fsbj+wdt%3AP31+wd%3AQ220+.+%3Fsbj+rdfs%3Alabel+%3Fsbj_label+.+FILTER%28STRSTARTS%28lcase%28%3Fsbj_label%29%2C+%273.4284%27%29%29+.+FILTER%28STRSTARTS%28lcase%28%3Fsbj&format=json)\n",
      "ERROR:root:HTTPError 400 Client Error: Bad Request for url: https://query.wikidata.org/sparql?query=%23Tool%3A+WikibaseIntegrator+wbi_functions.execute_sparql_query%0ASELECT+DISTINCT+%3Fsbj+%3Fsbj_label+WHERE++%3Fsbj+wdt%3AP31+wd%3AQ220+.+%3Fsbj+rdfs%3Alabel+%3Fsbj_label+.+FILTER%28STRSTARTS%28lcase%28%3Fsbj_label%29%2C+%273.4284%27%29%29+.+FILTER%28STRSTARTS%28lcase%28%3Fsbj&format=json\n"
     ]
    },
    {
     "name": "stdout",
     "output_type": "stream",
     "text": [
      "failed query select distinct ?sbj where  ?sbj wdt:P31 wd:Q220 . ?sbj wdt:P31 wd:Q220 \n",
      "Failed query number 115\n",
      "failed query SELECT DISTINCT ?sbj ?sbj_label WHERE  ?sbj wdt:P31 wd:Q220 . ?sbj rdfs:label ?sbj_label . FILTER(STRSTARTS(lcase(?sbj_label), '3.4284')) . FILTER(STRSTARTS(lcase(?sbj\n",
      "Failed query number 116\n"
     ]
    },
    {
     "name": "stderr",
     "output_type": "stream",
     "text": [
      "ERROR:backoff:Giving up execute_sparql_query(...) after 1 tries (requests.exceptions.HTTPError: 400 Client Error: Bad Request for url: https://query.wikidata.org/sparql?query=%23Tool%3A+WikibaseIntegrator+wbi_functions.execute_sparql_query%0Aselect+distinct+%3Fsbj+where++%3Fsbj+wdt%3AP31+wd%3AQ220+.+%3Fsbj+wdt%3AP31+wd%3AQ220+&format=json)\n",
      "ERROR:root:HTTPError 400 Client Error: Bad Request for url: https://query.wikidata.org/sparql?query=%23Tool%3A+WikibaseIntegrator+wbi_functions.execute_sparql_query%0Aselect+distinct+%3Fsbj+where++%3Fsbj+wdt%3AP31+wd%3AQ220+.+%3Fsbj+wdt%3AP31+wd%3AQ220+&format=json\n",
      "ERROR:backoff:Giving up execute_sparql_query(...) after 1 tries (requests.exceptions.HTTPError: 400 Client Error: Bad Request for url: https://query.wikidata.org/sparql?query=%23Tool%3A+WikibaseIntegrator+wbi_functions.execute_sparql_query%0ASELECT+DISTINCT+%3Fsbj+%3Fsbj_label+WHERE++%3Fsbj+wdt%3AP31+wd%3AQ335+.+%3Fsbj+rdfs%3Alabel+%3Fsbj_label+.+FILTER%28STRSTARTS%28lcase%28%3Fsbj_label%29%2C+%27surface%27%29%29+.+FILTER+%28lang%28%3Fsbj_label%29+%3D+%27en%27%29++LIMIT+25&format=json)\n",
      "ERROR:root:HTTPError 400 Client Error: Bad Request for url: https://query.wikidata.org/sparql?query=%23Tool%3A+WikibaseIntegrator+wbi_functions.execute_sparql_query%0ASELECT+DISTINCT+%3Fsbj+%3Fsbj_label+WHERE++%3Fsbj+wdt%3AP31+wd%3AQ335+.+%3Fsbj+rdfs%3Alabel+%3Fsbj_label+.+FILTER%28STRSTARTS%28lcase%28%3Fsbj_label%29%2C+%27surface%27%29%29+.+FILTER+%28lang%28%3Fsbj_label%29+%3D+%27en%27%29++LIMIT+25&format=json\n"
     ]
    },
    {
     "name": "stdout",
     "output_type": "stream",
     "text": [
      "failed query select distinct ?sbj where  ?sbj wdt:P31 wd:Q220 . ?sbj wdt:P31 wd:Q220 \n",
      "Failed query number 117\n",
      "failed query SELECT DISTINCT ?sbj ?sbj_label WHERE  ?sbj wdt:P31 wd:Q335 . ?sbj rdfs:label ?sbj_label . FILTER(STRSTARTS(lcase(?sbj_label), 'surface')) . FILTER (lang(?sbj_label) = 'en')  LIMIT 25\n",
      "Failed query number 118\n"
     ]
    },
    {
     "name": "stderr",
     "output_type": "stream",
     "text": [
      "ERROR:backoff:Giving up execute_sparql_query(...) after 1 tries (requests.exceptions.HTTPError: 400 Client Error: Bad Request for url: https://query.wikidata.org/sparql?query=%23Tool%3A+WikibaseIntegrator+wbi_functions.execute_sparql_query%0Aselect+distinct+%3Fsbj+where++%3Fsbj+wdt%3AP31+wd%3AQ220+.+%3Fsbj+wdt%3AP31+wd%3AQ220+&format=json)\n",
      "ERROR:root:HTTPError 400 Client Error: Bad Request for url: https://query.wikidata.org/sparql?query=%23Tool%3A+WikibaseIntegrator+wbi_functions.execute_sparql_query%0Aselect+distinct+%3Fsbj+where++%3Fsbj+wdt%3AP31+wd%3AQ220+.+%3Fsbj+wdt%3AP31+wd%3AQ220+&format=json\n"
     ]
    },
    {
     "name": "stdout",
     "output_type": "stream",
     "text": [
      "failed query select distinct ?sbj where  ?sbj wdt:P31 wd:Q220 . ?sbj wdt:P31 wd:Q220 \n",
      "Failed query number 119\n"
     ]
    },
    {
     "name": "stderr",
     "output_type": "stream",
     "text": [
      "ERROR:backoff:Giving up execute_sparql_query(...) after 1 tries (requests.exceptions.HTTPError: 400 Client Error: Bad Request for url: https://query.wikidata.org/sparql?query=%23Tool%3A+WikibaseIntegrator+wbi_functions.execute_sparql_query%0Aselect+distinct+%3Fsbj+where++%3Fsbj+wdt%3AP31+wd%3AQ220+.+%3Fsbj+wdt%3AP31+wd%3AQ220+&format=json)\n",
      "ERROR:root:HTTPError 400 Client Error: Bad Request for url: https://query.wikidata.org/sparql?query=%23Tool%3A+WikibaseIntegrator+wbi_functions.execute_sparql_query%0Aselect+distinct+%3Fsbj+where++%3Fsbj+wdt%3AP31+wd%3AQ220+.+%3Fsbj+wdt%3AP31+wd%3AQ220+&format=json\n"
     ]
    },
    {
     "name": "stdout",
     "output_type": "stream",
     "text": [
      "failed query select distinct ?sbj where  ?sbj wdt:P31 wd:Q220 . ?sbj wdt:P31 wd:Q220 \n",
      "Failed query number 120\n"
     ]
    },
    {
     "name": "stderr",
     "output_type": "stream",
     "text": [
      "ERROR:backoff:Giving up execute_sparql_query(...) after 1 tries (requests.exceptions.HTTPError: 400 Client Error: Bad Request for url: https://query.wikidata.org/sparql?query=%23Tool%3A+WikibaseIntegrator+wbi_functions.execute_sparql_query%0Aselect+distinct+%3Fsbj+where++%3Fsbj+wdt%3AP31+wd%3AQ220+.+%3Fsbj+wdt%3AP31+wd%3AQ220+&format=json)\n",
      "ERROR:root:HTTPError 400 Client Error: Bad Request for url: https://query.wikidata.org/sparql?query=%23Tool%3A+WikibaseIntegrator+wbi_functions.execute_sparql_query%0Aselect+distinct+%3Fsbj+where++%3Fsbj+wdt%3AP31+wd%3AQ220+.+%3Fsbj+wdt%3AP31+wd%3AQ220+&format=json\n",
      "ERROR:backoff:Giving up execute_sparql_query(...) after 1 tries (requests.exceptions.HTTPError: 400 Client Error: Bad Request for url: https://query.wikidata.org/sparql?query=%23Tool%3A+WikibaseIntegrator+wbi_functions.execute_sparql_query%0Aselect+distinct+%3Fsbj+where++%3Fsbj+wdt%3AP31+wd%3AQ220+.+%3Fsbj+wdt%3AP31+wd%3AQ220+&format=json)\n",
      "ERROR:root:HTTPError 400 Client Error: Bad Request for url: https://query.wikidata.org/sparql?query=%23Tool%3A+WikibaseIntegrator+wbi_functions.execute_sparql_query%0Aselect+distinct+%3Fsbj+where++%3Fsbj+wdt%3AP31+wd%3AQ220+.+%3Fsbj+wdt%3AP31+wd%3AQ220+&format=json\n"
     ]
    },
    {
     "name": "stdout",
     "output_type": "stream",
     "text": [
      "failed query select distinct ?sbj where  ?sbj wdt:P31 wd:Q220 . ?sbj wdt:P31 wd:Q220 \n",
      "Failed query number 121\n",
      "failed query select distinct ?sbj where  ?sbj wdt:P31 wd:Q220 . ?sbj wdt:P31 wd:Q220 \n",
      "Failed query number 122\n"
     ]
    },
    {
     "name": "stderr",
     "output_type": "stream",
     "text": [
      "ERROR:backoff:Giving up execute_sparql_query(...) after 1 tries (requests.exceptions.HTTPError: 400 Client Error: Bad Request for url: https://query.wikidata.org/sparql?query=%23Tool%3A+WikibaseIntegrator+wbi_functions.execute_sparql_query%0ASELECT+DISTINCT+%3Fsbj+%3Fsbj_label+WHERE++%3Fsbj+wdt%3AP31+wd%3AQ31+.+%3Fsbj+rdfs%3Alabel+%3Fsbj_label+.+FILTER%28CONTAINS%28lcase%28%3Fsbj_label%29%2C+%27sbj_label%27%29%29+.+FILTER+%28lang%28%3Fsbj_label%29+%3D+%27en%27%29++LIMIT+25&format=json)\n",
      "ERROR:root:HTTPError 400 Client Error: Bad Request for url: https://query.wikidata.org/sparql?query=%23Tool%3A+WikibaseIntegrator+wbi_functions.execute_sparql_query%0ASELECT+DISTINCT+%3Fsbj+%3Fsbj_label+WHERE++%3Fsbj+wdt%3AP31+wd%3AQ31+.+%3Fsbj+rdfs%3Alabel+%3Fsbj_label+.+FILTER%28CONTAINS%28lcase%28%3Fsbj_label%29%2C+%27sbj_label%27%29%29+.+FILTER+%28lang%28%3Fsbj_label%29+%3D+%27en%27%29++LIMIT+25&format=json\n",
      "ERROR:backoff:Giving up execute_sparql_query(...) after 1 tries (requests.exceptions.HTTPError: 400 Client Error: Bad Request for url: https://query.wikidata.org/sparql?query=%23Tool%3A+WikibaseIntegrator+wbi_functions.execute_sparql_query%0ASELECT+DISTINCT+%3Fsbj+%3Fsbj_label+WHERE++%3Fsbj+wdt%3AP31+wd%3AQ31+.+%3Fsbj+rdfs%3Alabel+%3Fsbj_label+.+FILTER%28STRSTARTS%28lcase%28%3Fsbj_label%29%2C+%27water%27%29%29+.+FILTER+%28lang%28%3Fsbj_label%29+%3D+%27w&format=json)\n",
      "ERROR:root:HTTPError 400 Client Error: Bad Request for url: https://query.wikidata.org/sparql?query=%23Tool%3A+WikibaseIntegrator+wbi_functions.execute_sparql_query%0ASELECT+DISTINCT+%3Fsbj+%3Fsbj_label+WHERE++%3Fsbj+wdt%3AP31+wd%3AQ31+.+%3Fsbj+rdfs%3Alabel+%3Fsbj_label+.+FILTER%28STRSTARTS%28lcase%28%3Fsbj_label%29%2C+%27water%27%29%29+.+FILTER+%28lang%28%3Fsbj_label%29+%3D+%27w&format=json\n"
     ]
    },
    {
     "name": "stdout",
     "output_type": "stream",
     "text": [
      "failed query SELECT DISTINCT ?sbj ?sbj_label WHERE  ?sbj wdt:P31 wd:Q31 . ?sbj rdfs:label ?sbj_label . FILTER(CONTAINS(lcase(?sbj_label), 'sbj_label')) . FILTER (lang(?sbj_label) = 'en')  LIMIT 25\n",
      "Failed query number 123\n",
      "failed query SELECT DISTINCT ?sbj ?sbj_label WHERE  ?sbj wdt:P31 wd:Q31 . ?sbj rdfs:label ?sbj_label . FILTER(STRSTARTS(lcase(?sbj_label), 'water')) . FILTER (lang(?sbj_label) = 'w\n",
      "Failed query number 124\n"
     ]
    },
    {
     "name": "stderr",
     "output_type": "stream",
     "text": [
      "ERROR:backoff:Giving up execute_sparql_query(...) after 1 tries (requests.exceptions.HTTPError: 400 Client Error: Bad Request for url: https://query.wikidata.org/sparql?query=%23Tool%3A+WikibaseIntegrator+wbi_functions.execute_sparql_query%0ASELECT+DISTINCT+%3Fsbj+%3Fsbj_label+WHERE++%3Fsbj+wdt%3AP31+wd%3AQ220+.+%3Fsbj+rdfs%3Alabel+%3Fsbj_label+.+FILTER%28CONTAINS%28lcase%28%3Fsbj_label%29%2C+%278.08815e%2B06%27%29%29+.+FILTER+%28lang%28%3Fsbj_label%29+%3D+%27en%27%29++LIMIT+25&format=json)\n",
      "ERROR:root:HTTPError 400 Client Error: Bad Request for url: https://query.wikidata.org/sparql?query=%23Tool%3A+WikibaseIntegrator+wbi_functions.execute_sparql_query%0ASELECT+DISTINCT+%3Fsbj+%3Fsbj_label+WHERE++%3Fsbj+wdt%3AP31+wd%3AQ220+.+%3Fsbj+rdfs%3Alabel+%3Fsbj_label+.+FILTER%28CONTAINS%28lcase%28%3Fsbj_label%29%2C+%278.08815e%2B06%27%29%29+.+FILTER+%28lang%28%3Fsbj_label%29+%3D+%27en%27%29++LIMIT+25&format=json\n",
      "ERROR:backoff:Giving up execute_sparql_query(...) after 1 tries (requests.exceptions.HTTPError: 400 Client Error: Bad Request for url: https://query.wikidata.org/sparql?query=%23Tool%3A+WikibaseIntegrator+wbi_functions.execute_sparql_query%0ASELECT+DISTINCT+%3Fsbj+%3Fsbj_label+WHERE++%3Fsbj+wdt%3AP31+wd%3AQ335+.+%3Fsbj+rdfs%3Alabel+%3Fsbj_label+.+FILTER%28STRSTARTS%28lcase%28%3Fsbj_label%29%2C+%27verpacken%27%29%29+.+FILTER+%28lang%28%3Fsbj_label%29+%3D+%27en%27%29++LIMIT+25&format=json)\n",
      "ERROR:root:HTTPError 400 Client Error: Bad Request for url: https://query.wikidata.org/sparql?query=%23Tool%3A+WikibaseIntegrator+wbi_functions.execute_sparql_query%0ASELECT+DISTINCT+%3Fsbj+%3Fsbj_label+WHERE++%3Fsbj+wdt%3AP31+wd%3AQ335+.+%3Fsbj+rdfs%3Alabel+%3Fsbj_label+.+FILTER%28STRSTARTS%28lcase%28%3Fsbj_label%29%2C+%27verpacken%27%29%29+.+FILTER+%28lang%28%3Fsbj_label%29+%3D+%27en%27%29++LIMIT+25&format=json\n"
     ]
    },
    {
     "name": "stdout",
     "output_type": "stream",
     "text": [
      "failed query SELECT DISTINCT ?sbj ?sbj_label WHERE  ?sbj wdt:P31 wd:Q220 . ?sbj rdfs:label ?sbj_label . FILTER(CONTAINS(lcase(?sbj_label), '8.08815e+06')) . FILTER (lang(?sbj_label) = 'en')  LIMIT 25\n",
      "Failed query number 125\n",
      "failed query SELECT DISTINCT ?sbj ?sbj_label WHERE  ?sbj wdt:P31 wd:Q335 . ?sbj rdfs:label ?sbj_label . FILTER(STRSTARTS(lcase(?sbj_label), 'verpacken')) . FILTER (lang(?sbj_label) = 'en')  LIMIT 25\n",
      "Failed query number 126\n"
     ]
    },
    {
     "name": "stderr",
     "output_type": "stream",
     "text": [
      "ERROR:backoff:Giving up execute_sparql_query(...) after 1 tries (requests.exceptions.HTTPError: 400 Client Error: Bad Request for url: https://query.wikidata.org/sparql?query=%23Tool%3A+WikibaseIntegrator+wbi_functions.execute_sparql_query%0ASELECT+DISTINCT+%3Fsbj+%3Fsbj_label+WHERE++%3Fsbj+wdt%3AP31+wd%3AQ335+.+%3Fsbj+rdfs%3Alabel+%3Fsbj_label+.+FILTER%28STRSTARTS%28lcase%28%3Fsbj_label%29%2C+%27frequenz%27%29%29+.+FILTER+%28lang%28%3Fsbj_label%29+%3D+%27en%27%29++LIMIT+25&format=json)\n",
      "ERROR:root:HTTPError 400 Client Error: Bad Request for url: https://query.wikidata.org/sparql?query=%23Tool%3A+WikibaseIntegrator+wbi_functions.execute_sparql_query%0ASELECT+DISTINCT+%3Fsbj+%3Fsbj_label+WHERE++%3Fsbj+wdt%3AP31+wd%3AQ335+.+%3Fsbj+rdfs%3Alabel+%3Fsbj_label+.+FILTER%28STRSTARTS%28lcase%28%3Fsbj_label%29%2C+%27frequenz%27%29%29+.+FILTER+%28lang%28%3Fsbj_label%29+%3D+%27en%27%29++LIMIT+25&format=json\n",
      "ERROR:backoff:Giving up execute_sparql_query(...) after 1 tries (requests.exceptions.HTTPError: 400 Client Error: Bad Request for url: https://query.wikidata.org/sparql?query=%23Tool%3A+WikibaseIntegrator+wbi_functions.execute_sparql_query%0ASELECT+DISTINCT+%3Fsbj+%3Fsbj_label+WHERE++%3Fsbj+wdt%3AP31+wd%3AQ335+.+%3Fsbj+rdfs%3Alabel+%3Fsbj_label+.+FILTER%28STRSTARTS%28lcase%28%3Fsbj_label%29%2C+%27kl%C4%83gen%27%29%29+.+FILTER+%28lang%28%3Fsbj_label%29+%3D+%27en%27%29++LIMIT+25&format=json)\n",
      "ERROR:root:HTTPError 400 Client Error: Bad Request for url: https://query.wikidata.org/sparql?query=%23Tool%3A+WikibaseIntegrator+wbi_functions.execute_sparql_query%0ASELECT+DISTINCT+%3Fsbj+%3Fsbj_label+WHERE++%3Fsbj+wdt%3AP31+wd%3AQ335+.+%3Fsbj+rdfs%3Alabel+%3Fsbj_label+.+FILTER%28STRSTARTS%28lcase%28%3Fsbj_label%29%2C+%27kl%C4%83gen%27%29%29+.+FILTER+%28lang%28%3Fsbj_label%29+%3D+%27en%27%29++LIMIT+25&format=json\n"
     ]
    },
    {
     "name": "stdout",
     "output_type": "stream",
     "text": [
      "failed query SELECT DISTINCT ?sbj ?sbj_label WHERE  ?sbj wdt:P31 wd:Q335 . ?sbj rdfs:label ?sbj_label . FILTER(STRSTARTS(lcase(?sbj_label), 'frequenz')) . FILTER (lang(?sbj_label) = 'en')  LIMIT 25\n",
      "Failed query number 127\n",
      "failed query SELECT DISTINCT ?sbj ?sbj_label WHERE  ?sbj wdt:P31 wd:Q335 . ?sbj rdfs:label ?sbj_label . FILTER(STRSTARTS(lcase(?sbj_label), 'klăgen')) . FILTER (lang(?sbj_label) = 'en')  LIMIT 25\n",
      "Failed query number 128\n"
     ]
    },
    {
     "name": "stderr",
     "output_type": "stream",
     "text": [
      "ERROR:backoff:Giving up execute_sparql_query(...) after 1 tries (requests.exceptions.HTTPError: 400 Client Error: Bad Request for url: https://query.wikidata.org/sparql?query=%23Tool%3A+WikibaseIntegrator+wbi_functions.execute_sparql_query%0ASELECT+DISTINCT+%3Fsbj+%3Fsbj_label+WHERE++%3Fsbj+wdt%3AP31+wd%3AQ31+.+%3Fsbj+rdfs%3Alabel+%3Fsbj_label+.+FILTER%28CONTAINS%28lcase%28%3Fsbj_label%29%2C+%27xinjiang%27%29%29+.+FILTER+%28lang%28%3Fsbj_label%29+%3D+%27en%27%29++LIMIT+25&format=json)\n",
      "ERROR:root:HTTPError 400 Client Error: Bad Request for url: https://query.wikidata.org/sparql?query=%23Tool%3A+WikibaseIntegrator+wbi_functions.execute_sparql_query%0ASELECT+DISTINCT+%3Fsbj+%3Fsbj_label+WHERE++%3Fsbj+wdt%3AP31+wd%3AQ31+.+%3Fsbj+rdfs%3Alabel+%3Fsbj_label+.+FILTER%28CONTAINS%28lcase%28%3Fsbj_label%29%2C+%27xinjiang%27%29%29+.+FILTER+%28lang%28%3Fsbj_label%29+%3D+%27en%27%29++LIMIT+25&format=json\n",
      "ERROR:backoff:Giving up execute_sparql_query(...) after 1 tries (requests.exceptions.HTTPError: 400 Client Error: Bad Request for url: https://query.wikidata.org/sparql?query=%23Tool%3A+WikibaseIntegrator+wbi_functions.execute_sparql_query%0Aselect+distinct+%3Fsbj+where++%3Fsbj+wdt%3AP31+wd%3AQ220+.+%3Fsbj+wdt%3AP31+wd%3AQ220+&format=json)\n",
      "ERROR:root:HTTPError 400 Client Error: Bad Request for url: https://query.wikidata.org/sparql?query=%23Tool%3A+WikibaseIntegrator+wbi_functions.execute_sparql_query%0Aselect+distinct+%3Fsbj+where++%3Fsbj+wdt%3AP31+wd%3AQ220+.+%3Fsbj+wdt%3AP31+wd%3AQ220+&format=json\n"
     ]
    },
    {
     "name": "stdout",
     "output_type": "stream",
     "text": [
      "failed query SELECT DISTINCT ?sbj ?sbj_label WHERE  ?sbj wdt:P31 wd:Q31 . ?sbj rdfs:label ?sbj_label . FILTER(CONTAINS(lcase(?sbj_label), 'xinjiang')) . FILTER (lang(?sbj_label) = 'en')  LIMIT 25\n",
      "Failed query number 129\n",
      "failed query select distinct ?sbj where  ?sbj wdt:P31 wd:Q220 . ?sbj wdt:P31 wd:Q220 \n",
      "Failed query number 130\n"
     ]
    },
    {
     "name": "stderr",
     "output_type": "stream",
     "text": [
      "ERROR:backoff:Giving up execute_sparql_query(...) after 1 tries (requests.exceptions.HTTPError: 400 Client Error: Bad Request for url: https://query.wikidata.org/sparql?query=%23Tool%3A+WikibaseIntegrator+wbi_functions.execute_sparql_query%0Aselect+distinct+%3Fsbj+where++%3Fsbj+wdt%3AP31+wd%3AQ220+.+%3Fsbj+wdt%3AP31+wd%3AQ220+&format=json)\n",
      "ERROR:root:HTTPError 400 Client Error: Bad Request for url: https://query.wikidata.org/sparql?query=%23Tool%3A+WikibaseIntegrator+wbi_functions.execute_sparql_query%0Aselect+distinct+%3Fsbj+where++%3Fsbj+wdt%3AP31+wd%3AQ220+.+%3Fsbj+wdt%3AP31+wd%3AQ220+&format=json\n",
      "ERROR:backoff:Giving up execute_sparql_query(...) after 1 tries (requests.exceptions.HTTPError: 400 Client Error: Bad Request for url: https://query.wikidata.org/sparql?query=%23Tool%3A+WikibaseIntegrator+wbi_functions.execute_sparql_query%0ASELECT+DISTINCT+%3Fsbj+%3Fsbj_label+WHERE++%3Fsbj+wdt%3AP31+wd%3AQ31+.+%3Fsbj+rdfs%3Alabel+%3Fsbj_label+.+FILTER%28STRSTARTS%28lcase%28%3Fsbj_label%29%2C+%27n%2Fa%27%29%29+.+FILTER+%28lang%28%3Fsbj_label%29+%3D+%27en%27%29++LIMIT+25&format=json)\n",
      "ERROR:root:HTTPError 400 Client Error: Bad Request for url: https://query.wikidata.org/sparql?query=%23Tool%3A+WikibaseIntegrator+wbi_functions.execute_sparql_query%0ASELECT+DISTINCT+%3Fsbj+%3Fsbj_label+WHERE++%3Fsbj+wdt%3AP31+wd%3AQ31+.+%3Fsbj+rdfs%3Alabel+%3Fsbj_label+.+FILTER%28STRSTARTS%28lcase%28%3Fsbj_label%29%2C+%27n%2Fa%27%29%29+.+FILTER+%28lang%28%3Fsbj_label%29+%3D+%27en%27%29++LIMIT+25&format=json\n"
     ]
    },
    {
     "name": "stdout",
     "output_type": "stream",
     "text": [
      "failed query select distinct ?sbj where  ?sbj wdt:P31 wd:Q220 . ?sbj wdt:P31 wd:Q220 \n",
      "Failed query number 131\n",
      "failed query SELECT DISTINCT ?sbj ?sbj_label WHERE  ?sbj wdt:P31 wd:Q31 . ?sbj rdfs:label ?sbj_label . FILTER(STRSTARTS(lcase(?sbj_label), 'n/a')) . FILTER (lang(?sbj_label) = 'en')  LIMIT 25\n",
      "Failed query number 132\n"
     ]
    },
    {
     "name": "stderr",
     "output_type": "stream",
     "text": [
      "ERROR:backoff:Giving up execute_sparql_query(...) after 1 tries (requests.exceptions.HTTPError: 400 Client Error: Bad Request for url: https://query.wikidata.org/sparql?query=%23Tool%3A+WikibaseIntegrator+wbi_functions.execute_sparql_query%0ASELECT+DISTINCT+%3Fsbj+%3Fsbj_label+WHERE++%3Fsbj+wdt%3AP31+wd%3AQ31+.+%3Fsbj+rdfs%3Alabel+%3Fsbj_label+.+FILTER%28STRSTARTS%28lcase%28%3Fsbj_label%29%2C+%27esperanto%27%29%29+.+FILTER+%28lang%28%3Fsbj_label%29+%3D+%27en%27%29++LIMIT+25&format=json)\n",
      "ERROR:root:HTTPError 400 Client Error: Bad Request for url: https://query.wikidata.org/sparql?query=%23Tool%3A+WikibaseIntegrator+wbi_functions.execute_sparql_query%0ASELECT+DISTINCT+%3Fsbj+%3Fsbj_label+WHERE++%3Fsbj+wdt%3AP31+wd%3AQ31+.+%3Fsbj+rdfs%3Alabel+%3Fsbj_label+.+FILTER%28STRSTARTS%28lcase%28%3Fsbj_label%29%2C+%27esperanto%27%29%29+.+FILTER+%28lang%28%3Fsbj_label%29+%3D+%27en%27%29++LIMIT+25&format=json\n",
      "ERROR:backoff:Giving up execute_sparql_query(...) after 1 tries (requests.exceptions.HTTPError: 400 Client Error: Bad Request for url: https://query.wikidata.org/sparql?query=%23Tool%3A+WikibaseIntegrator+wbi_functions.execute_sparql_query%0ASELECT+DISTINCT+%3Fsbj+%3Fsbj_label+WHERE++%3Fsbj+wdt%3AP31+wd%3AQ335+.+%3Fsbj+rdfs%3Alabel+%3Fsbj_label+.+FILTER%28CONTAINS%28lcase%28%3Fsbj_label%29%2C+%27binary%27%29%29+.+FILTER+%28lang%28%3Fsbj_label%29+%3D+%27en%27%29++LIMIT+25&format=json)\n",
      "ERROR:root:HTTPError 400 Client Error: Bad Request for url: https://query.wikidata.org/sparql?query=%23Tool%3A+WikibaseIntegrator+wbi_functions.execute_sparql_query%0ASELECT+DISTINCT+%3Fsbj+%3Fsbj_label+WHERE++%3Fsbj+wdt%3AP31+wd%3AQ335+.+%3Fsbj+rdfs%3Alabel+%3Fsbj_label+.+FILTER%28CONTAINS%28lcase%28%3Fsbj_label%29%2C+%27binary%27%29%29+.+FILTER+%28lang%28%3Fsbj_label%29+%3D+%27en%27%29++LIMIT+25&format=json\n"
     ]
    },
    {
     "name": "stdout",
     "output_type": "stream",
     "text": [
      "failed query SELECT DISTINCT ?sbj ?sbj_label WHERE  ?sbj wdt:P31 wd:Q31 . ?sbj rdfs:label ?sbj_label . FILTER(STRSTARTS(lcase(?sbj_label), 'esperanto')) . FILTER (lang(?sbj_label) = 'en')  LIMIT 25\n",
      "Failed query number 133\n",
      "failed query SELECT DISTINCT ?sbj ?sbj_label WHERE  ?sbj wdt:P31 wd:Q335 . ?sbj rdfs:label ?sbj_label . FILTER(CONTAINS(lcase(?sbj_label), 'binary')) . FILTER (lang(?sbj_label) = 'en')  LIMIT 25\n",
      "Failed query number 134\n"
     ]
    },
    {
     "name": "stderr",
     "output_type": "stream",
     "text": [
      "ERROR:backoff:Giving up execute_sparql_query(...) after 1 tries (requests.exceptions.HTTPError: 400 Client Error: Bad Request for url: https://query.wikidata.org/sparql?query=%23Tool%3A+WikibaseIntegrator+wbi_functions.execute_sparql_query%0ASELECT+DISTINCT+%3Fsbj+%3Fsbj_label+WHERE++%3Fsbj+wdt%3AP31+wd%3AQ220+.+%3Fsbj+rdfs%3Alabel+%3Fsbj_label+.+FILTER%28CONTAINS%28lcase%28%3Fsbj_label%29%2C+%27fs%3Alabel%27%29%29+.+FILTER+%28lang%28%3Fsbj_label%29+%3D+%27en%27%29++LIMIT+25&format=json)\n",
      "ERROR:root:HTTPError 400 Client Error: Bad Request for url: https://query.wikidata.org/sparql?query=%23Tool%3A+WikibaseIntegrator+wbi_functions.execute_sparql_query%0ASELECT+DISTINCT+%3Fsbj+%3Fsbj_label+WHERE++%3Fsbj+wdt%3AP31+wd%3AQ220+.+%3Fsbj+rdfs%3Alabel+%3Fsbj_label+.+FILTER%28CONTAINS%28lcase%28%3Fsbj_label%29%2C+%27fs%3Alabel%27%29%29+.+FILTER+%28lang%28%3Fsbj_label%29+%3D+%27en%27%29++LIMIT+25&format=json\n",
      "ERROR:backoff:Giving up execute_sparql_query(...) after 1 tries (requests.exceptions.HTTPError: 400 Client Error: Bad Request for url: https://query.wikidata.org/sparql?query=%23Tool%3A+WikibaseIntegrator+wbi_functions.execute_sparql_query%0Aselect+distinct+%3Fsbj+where++%3Fsbj+wdt%3AP31+wd%3AQ220+.+%3Fsbj+wdt%3AP31+wd%3AQ220+&format=json)\n",
      "ERROR:root:HTTPError 400 Client Error: Bad Request for url: https://query.wikidata.org/sparql?query=%23Tool%3A+WikibaseIntegrator+wbi_functions.execute_sparql_query%0Aselect+distinct+%3Fsbj+where++%3Fsbj+wdt%3AP31+wd%3AQ220+.+%3Fsbj+wdt%3AP31+wd%3AQ220+&format=json\n"
     ]
    },
    {
     "name": "stdout",
     "output_type": "stream",
     "text": [
      "failed query SELECT DISTINCT ?sbj ?sbj_label WHERE  ?sbj wdt:P31 wd:Q220 . ?sbj rdfs:label ?sbj_label . FILTER(CONTAINS(lcase(?sbj_label), 'fs:label')) . FILTER (lang(?sbj_label) = 'en')  LIMIT 25\n",
      "Failed query number 135\n",
      "failed query select distinct ?sbj where  ?sbj wdt:P31 wd:Q220 . ?sbj wdt:P31 wd:Q220 \n",
      "Failed query number 136\n"
     ]
    },
    {
     "name": "stderr",
     "output_type": "stream",
     "text": [
      "ERROR:backoff:Giving up execute_sparql_query(...) after 1 tries (requests.exceptions.HTTPError: 400 Client Error: Bad Request for url: https://query.wikidata.org/sparql?query=%23Tool%3A+WikibaseIntegrator+wbi_functions.execute_sparql_query%0Aselect+distinct+%3Fsbj+where++%3Fsbj+wdt%3AP31+wd%3AQ220+.+%3Fsbj+wdt%3AP31+wd%3AQ220+&format=json)\n",
      "ERROR:root:HTTPError 400 Client Error: Bad Request for url: https://query.wikidata.org/sparql?query=%23Tool%3A+WikibaseIntegrator+wbi_functions.execute_sparql_query%0Aselect+distinct+%3Fsbj+where++%3Fsbj+wdt%3AP31+wd%3AQ220+.+%3Fsbj+wdt%3AP31+wd%3AQ220+&format=json\n"
     ]
    },
    {
     "name": "stdout",
     "output_type": "stream",
     "text": [
      "failed query select distinct ?sbj where  ?sbj wdt:P31 wd:Q220 . ?sbj wdt:P31 wd:Q220 \n",
      "Failed query number 137\n"
     ]
    },
    {
     "name": "stderr",
     "output_type": "stream",
     "text": [
      "ERROR:backoff:Giving up execute_sparql_query(...) after 1 tries (requests.exceptions.HTTPError: 400 Client Error: Bad Request for url: https://query.wikidata.org/sparql?query=%23Tool%3A+WikibaseIntegrator+wbi_functions.execute_sparql_query%0Aselect+distinct+%3Fsbj+where++%3Fsbj+wdt%3AP31+wd%3AQ220+.+%3Fsbj+wdt%3AP31+wd%3AQ220+&format=json)\n",
      "ERROR:root:HTTPError 400 Client Error: Bad Request for url: https://query.wikidata.org/sparql?query=%23Tool%3A+WikibaseIntegrator+wbi_functions.execute_sparql_query%0Aselect+distinct+%3Fsbj+where++%3Fsbj+wdt%3AP31+wd%3AQ220+.+%3Fsbj+wdt%3AP31+wd%3AQ220+&format=json\n"
     ]
    },
    {
     "name": "stdout",
     "output_type": "stream",
     "text": [
      "failed query select distinct ?sbj where  ?sbj wdt:P31 wd:Q220 . ?sbj wdt:P31 wd:Q220 \n",
      "Failed query number 138\n"
     ]
    },
    {
     "name": "stderr",
     "output_type": "stream",
     "text": [
      "ERROR:backoff:Giving up execute_sparql_query(...) after 1 tries (requests.exceptions.HTTPError: 400 Client Error: Bad Request for url: https://query.wikidata.org/sparql?query=%23Tool%3A+WikibaseIntegrator+wbi_functions.execute_sparql_query%0Aselect+distinct+%3Fsbj+where++%3Fsbj+wdt%3AP31+wd%3AQ220+.+%3Fsbj+wdt%3AP31+wd%3AQ220+&format=json)\n",
      "ERROR:root:HTTPError 400 Client Error: Bad Request for url: https://query.wikidata.org/sparql?query=%23Tool%3A+WikibaseIntegrator+wbi_functions.execute_sparql_query%0Aselect+distinct+%3Fsbj+where++%3Fsbj+wdt%3AP31+wd%3AQ220+.+%3Fsbj+wdt%3AP31+wd%3AQ220+&format=json\n",
      "ERROR:backoff:Giving up execute_sparql_query(...) after 1 tries (requests.exceptions.HTTPError: 400 Client Error: Bad Request for url: https://query.wikidata.org/sparql?query=%23Tool%3A+WikibaseIntegrator+wbi_functions.execute_sparql_query%0ASELECT+DISTINCT+%3Fsbj+%3Fsbj_label+WHERE++%3Fsbj+wdt%3AP31+wd%3AQ31+.+%3Fsbj+rdfs%3Alabel+%3Fsbj_label+.+FILTER%28CONTAINS%28lcase%28%3Fsbj_label%29%2C+%27babel%27%29%29+.+FILTER+%28lang%28%3Fsbj_label%29+%3D+%27en%27%29++LIMIT+25&format=json)\n",
      "ERROR:root:HTTPError 400 Client Error: Bad Request for url: https://query.wikidata.org/sparql?query=%23Tool%3A+WikibaseIntegrator+wbi_functions.execute_sparql_query%0ASELECT+DISTINCT+%3Fsbj+%3Fsbj_label+WHERE++%3Fsbj+wdt%3AP31+wd%3AQ31+.+%3Fsbj+rdfs%3Alabel+%3Fsbj_label+.+FILTER%28CONTAINS%28lcase%28%3Fsbj_label%29%2C+%27babel%27%29%29+.+FILTER+%28lang%28%3Fsbj_label%29+%3D+%27en%27%29++LIMIT+25&format=json\n"
     ]
    },
    {
     "name": "stdout",
     "output_type": "stream",
     "text": [
      "failed query select distinct ?sbj where  ?sbj wdt:P31 wd:Q220 . ?sbj wdt:P31 wd:Q220 \n",
      "Failed query number 139\n",
      "failed query SELECT DISTINCT ?sbj ?sbj_label WHERE  ?sbj wdt:P31 wd:Q31 . ?sbj rdfs:label ?sbj_label . FILTER(CONTAINS(lcase(?sbj_label), 'babel')) . FILTER (lang(?sbj_label) = 'en')  LIMIT 25\n",
      "Failed query number 140\n"
     ]
    },
    {
     "name": "stderr",
     "output_type": "stream",
     "text": [
      "ERROR:backoff:Giving up execute_sparql_query(...) after 1 tries (requests.exceptions.HTTPError: 400 Client Error: Bad Request for url: https://query.wikidata.org/sparql?query=%23Tool%3A+WikibaseIntegrator+wbi_functions.execute_sparql_query%0Aselect+distinct+%3Fsbj+where++%3Fsbj+wdt%3AP31+wd%3AQ220+.+%3Fsbj+wdt%3AP31+wd%3AQ220+&format=json)\n",
      "ERROR:root:HTTPError 400 Client Error: Bad Request for url: https://query.wikidata.org/sparql?query=%23Tool%3A+WikibaseIntegrator+wbi_functions.execute_sparql_query%0Aselect+distinct+%3Fsbj+where++%3Fsbj+wdt%3AP31+wd%3AQ220+.+%3Fsbj+wdt%3AP31+wd%3AQ220+&format=json\n",
      "ERROR:backoff:Giving up execute_sparql_query(...) after 1 tries (requests.exceptions.HTTPError: 400 Client Error: Bad Request for url: https://query.wikidata.org/sparql?query=%23Tool%3A+WikibaseIntegrator+wbi_functions.execute_sparql_query%0ASELECT+DISTINCT+%3Fsbj+%3Fsbj_label+WHERE++%3Fsbj+wdt%3AP31+wd%3AQ220+.+%3Fsbj+rdfs%3Alabel+%3Fsbj_label+.+FILTER%28STRSTARTS%28lcase%28%3Fsbj_label%29%2C+%27700%27%29%29+.+FILTER+%28lang%28%3Fsbj_label%29+%3D+%27en%27%29++LIMIT+25&format=json)\n",
      "ERROR:root:HTTPError 400 Client Error: Bad Request for url: https://query.wikidata.org/sparql?query=%23Tool%3A+WikibaseIntegrator+wbi_functions.execute_sparql_query%0ASELECT+DISTINCT+%3Fsbj+%3Fsbj_label+WHERE++%3Fsbj+wdt%3AP31+wd%3AQ220+.+%3Fsbj+rdfs%3Alabel+%3Fsbj_label+.+FILTER%28STRSTARTS%28lcase%28%3Fsbj_label%29%2C+%27700%27%29%29+.+FILTER+%28lang%28%3Fsbj_label%29+%3D+%27en%27%29++LIMIT+25&format=json\n"
     ]
    },
    {
     "name": "stdout",
     "output_type": "stream",
     "text": [
      "failed query select distinct ?sbj where  ?sbj wdt:P31 wd:Q220 . ?sbj wdt:P31 wd:Q220 \n",
      "Failed query number 141\n",
      "failed query SELECT DISTINCT ?sbj ?sbj_label WHERE  ?sbj wdt:P31 wd:Q220 . ?sbj rdfs:label ?sbj_label . FILTER(STRSTARTS(lcase(?sbj_label), '700')) . FILTER (lang(?sbj_label) = 'en')  LIMIT 25\n",
      "Failed query number 142\n"
     ]
    },
    {
     "name": "stderr",
     "output_type": "stream",
     "text": [
      "ERROR:backoff:Giving up execute_sparql_query(...) after 1 tries (requests.exceptions.HTTPError: 400 Client Error: Bad Request for url: https://query.wikidata.org/sparql?query=%23Tool%3A+WikibaseIntegrator+wbi_functions.execute_sparql_query%0ASELECT+%3Fanswer+WHERE++wd%3AQ48460+wdt%3AP31+%3FX+.+%3FX+wdt%3AP31+%3Fanswer&format=json)\n",
      "ERROR:root:HTTPError 400 Client Error: Bad Request for url: https://query.wikidata.org/sparql?query=%23Tool%3A+WikibaseIntegrator+wbi_functions.execute_sparql_query%0ASELECT+%3Fanswer+WHERE++wd%3AQ48460+wdt%3AP31+%3FX+.+%3FX+wdt%3AP31+%3Fanswer&format=json\n",
      "ERROR:backoff:Giving up execute_sparql_query(...) after 1 tries (requests.exceptions.HTTPError: 400 Client Error: Bad Request for url: https://query.wikidata.org/sparql?query=%23Tool%3A+WikibaseIntegrator+wbi_functions.execute_sparql_query%0Aselect+distinct+%3Fsbj+where++%3Fsbj+wdt%3AP31+wd%3AQ220+.+%3Fsbj+wdt%3AP31+wd%3AQ220+&format=json)\n",
      "ERROR:root:HTTPError 400 Client Error: Bad Request for url: https://query.wikidata.org/sparql?query=%23Tool%3A+WikibaseIntegrator+wbi_functions.execute_sparql_query%0Aselect+distinct+%3Fsbj+where++%3Fsbj+wdt%3AP31+wd%3AQ220+.+%3Fsbj+wdt%3AP31+wd%3AQ220+&format=json\n"
     ]
    },
    {
     "name": "stdout",
     "output_type": "stream",
     "text": [
      "failed query SELECT ?answer WHERE  wd:Q48460 wdt:P31 ?X . ?X wdt:P31 ?answer\n",
      "Failed query number 143\n",
      "failed query select distinct ?sbj where  ?sbj wdt:P31 wd:Q220 . ?sbj wdt:P31 wd:Q220 \n",
      "Failed query number 144\n"
     ]
    },
    {
     "name": "stderr",
     "output_type": "stream",
     "text": [
      "ERROR:backoff:Giving up execute_sparql_query(...) after 1 tries (requests.exceptions.HTTPError: 400 Client Error: Bad Request for url: https://query.wikidata.org/sparql?query=%23Tool%3A+WikibaseIntegrator+wbi_functions.execute_sparql_query%0Aselect+distinct+%3Fsbj+where++%3Fsbj+wdt%3AP31+wd%3AQ220+.+%3Fsbj+wdt%3AP31+wd%3AQ220+&format=json)\n",
      "ERROR:root:HTTPError 400 Client Error: Bad Request for url: https://query.wikidata.org/sparql?query=%23Tool%3A+WikibaseIntegrator+wbi_functions.execute_sparql_query%0Aselect+distinct+%3Fsbj+where++%3Fsbj+wdt%3AP31+wd%3AQ220+.+%3Fsbj+wdt%3AP31+wd%3AQ220+&format=json\n",
      "ERROR:backoff:Giving up execute_sparql_query(...) after 1 tries (requests.exceptions.HTTPError: 400 Client Error: Bad Request for url: https://query.wikidata.org/sparql?query=%23Tool%3A+WikibaseIntegrator+wbi_functions.execute_sparql_query%0Aselect+distinct+%3Fsbj+where++%3Fsbj+wdt%3AP31+wd%3AQ220+.+%3Fsbj+wdt%3AP31+wd%3AQ220+&format=json)\n",
      "ERROR:root:HTTPError 400 Client Error: Bad Request for url: https://query.wikidata.org/sparql?query=%23Tool%3A+WikibaseIntegrator+wbi_functions.execute_sparql_query%0Aselect+distinct+%3Fsbj+where++%3Fsbj+wdt%3AP31+wd%3AQ220+.+%3Fsbj+wdt%3AP31+wd%3AQ220+&format=json\n"
     ]
    },
    {
     "name": "stdout",
     "output_type": "stream",
     "text": [
      "failed query select distinct ?sbj where  ?sbj wdt:P31 wd:Q220 . ?sbj wdt:P31 wd:Q220 \n",
      "Failed query number 145\n",
      "failed query select distinct ?sbj where  ?sbj wdt:P31 wd:Q220 . ?sbj wdt:P31 wd:Q220 \n",
      "Failed query number 146\n"
     ]
    },
    {
     "name": "stderr",
     "output_type": "stream",
     "text": [
      "ERROR:backoff:Giving up execute_sparql_query(...) after 1 tries (requests.exceptions.HTTPError: 400 Client Error: Bad Request for url: https://query.wikidata.org/sparql?query=%23Tool%3A+WikibaseIntegrator+wbi_functions.execute_sparql_query%0Aselect+distinct+%3Fsbj+where++%3Fsbj+wdt%3AP31+wd%3AQ220+.+%3Fsbj+wdt%3AP31+wd%3AQ220+&format=json)\n",
      "ERROR:root:HTTPError 400 Client Error: Bad Request for url: https://query.wikidata.org/sparql?query=%23Tool%3A+WikibaseIntegrator+wbi_functions.execute_sparql_query%0Aselect+distinct+%3Fsbj+where++%3Fsbj+wdt%3AP31+wd%3AQ220+.+%3Fsbj+wdt%3AP31+wd%3AQ220+&format=json\n",
      "ERROR:backoff:Giving up execute_sparql_query(...) after 1 tries (requests.exceptions.HTTPError: 400 Client Error: Bad Request for url: https://query.wikidata.org/sparql?query=%23Tool%3A+WikibaseIntegrator+wbi_functions.execute_sparql_query%0Aselect+distinct+%3Fsbj+where++%3Fsbj+wdt%3AP31+wd%3AQ220+.+%3Fsbj+wdt%3AP31+wd%3AQ220+&format=json)\n",
      "ERROR:root:HTTPError 400 Client Error: Bad Request for url: https://query.wikidata.org/sparql?query=%23Tool%3A+WikibaseIntegrator+wbi_functions.execute_sparql_query%0Aselect+distinct+%3Fsbj+where++%3Fsbj+wdt%3AP31+wd%3AQ220+.+%3Fsbj+wdt%3AP31+wd%3AQ220+&format=json\n"
     ]
    },
    {
     "name": "stdout",
     "output_type": "stream",
     "text": [
      "failed query select distinct ?sbj where  ?sbj wdt:P31 wd:Q220 . ?sbj wdt:P31 wd:Q220 \n",
      "Failed query number 147\n",
      "failed query select distinct ?sbj where  ?sbj wdt:P31 wd:Q220 . ?sbj wdt:P31 wd:Q220 \n",
      "Failed query number 148\n"
     ]
    },
    {
     "name": "stderr",
     "output_type": "stream",
     "text": [
      "ERROR:backoff:Giving up execute_sparql_query(...) after 1 tries (requests.exceptions.HTTPError: 400 Client Error: Bad Request for url: https://query.wikidata.org/sparql?query=%23Tool%3A+WikibaseIntegrator+wbi_functions.execute_sparql_query%0ASELECT+DISTINCT+%3Fsbj+%3Fsbj_label+WHERE++%3Fsbj+wdt%3AP31+wd%3AQ31+.+%3Fsbj+rdfs%3Alabel+%3Fsbj_label+.+FILTER%28STRSTARTS%28lcase%28%3Fsbj_label%29%2C+%27visus%27%29%29+.+FILTER+%28lang%28%3Fsbj_label%29+%3D+%27en%27%29++LIMIT+25&format=json)\n",
      "ERROR:root:HTTPError 400 Client Error: Bad Request for url: https://query.wikidata.org/sparql?query=%23Tool%3A+WikibaseIntegrator+wbi_functions.execute_sparql_query%0ASELECT+DISTINCT+%3Fsbj+%3Fsbj_label+WHERE++%3Fsbj+wdt%3AP31+wd%3AQ31+.+%3Fsbj+rdfs%3Alabel+%3Fsbj_label+.+FILTER%28STRSTARTS%28lcase%28%3Fsbj_label%29%2C+%27visus%27%29%29+.+FILTER+%28lang%28%3Fsbj_label%29+%3D+%27en%27%29++LIMIT+25&format=json\n",
      "ERROR:backoff:Giving up execute_sparql_query(...) after 1 tries (requests.exceptions.HTTPError: 400 Client Error: Bad Request for url: https://query.wikidata.org/sparql?query=%23Tool%3A+WikibaseIntegrator+wbi_functions.execute_sparql_query%0Aselect+distinct+%3Fsbj+where++%3Fsbj+wdt%3AP31+wd%3AQ220+.+%3Fsbj+wdt%3AP31+wd%3AQ220+&format=json)\n",
      "ERROR:root:HTTPError 400 Client Error: Bad Request for url: https://query.wikidata.org/sparql?query=%23Tool%3A+WikibaseIntegrator+wbi_functions.execute_sparql_query%0Aselect+distinct+%3Fsbj+where++%3Fsbj+wdt%3AP31+wd%3AQ220+.+%3Fsbj+wdt%3AP31+wd%3AQ220+&format=json\n"
     ]
    },
    {
     "name": "stdout",
     "output_type": "stream",
     "text": [
      "failed query SELECT DISTINCT ?sbj ?sbj_label WHERE  ?sbj wdt:P31 wd:Q31 . ?sbj rdfs:label ?sbj_label . FILTER(STRSTARTS(lcase(?sbj_label), 'visus')) . FILTER (lang(?sbj_label) = 'en')  LIMIT 25\n",
      "Failed query number 149\n",
      "failed query select distinct ?sbj where  ?sbj wdt:P31 wd:Q220 . ?sbj wdt:P31 wd:Q220 \n",
      "Failed query number 150\n"
     ]
    },
    {
     "name": "stderr",
     "output_type": "stream",
     "text": [
      "ERROR:backoff:Giving up execute_sparql_query(...) after 1 tries (requests.exceptions.HTTPError: 400 Client Error: Bad Request for url: https://query.wikidata.org/sparql?query=%23Tool%3A+WikibaseIntegrator+wbi_functions.execute_sparql_query%0ASELECT+DISTINCT+%3Fsbj+%3Fsbj_label+WHERE++%3Fsbj+wdt%3AP31+wd%3AQ335+.+%3Fsbj+rdfs%3Alabel+%3Fsbj_label+.+FILTER%28CONTAINS%28lcase%28%3Fsbj_label%29%2C+%27d%27%29%29+.+FILTER+%28lang%28%3Fsbj_label%29+%3D+%27en%27%29++LIMIT+25&format=json)\n",
      "ERROR:root:HTTPError 400 Client Error: Bad Request for url: https://query.wikidata.org/sparql?query=%23Tool%3A+WikibaseIntegrator+wbi_functions.execute_sparql_query%0ASELECT+DISTINCT+%3Fsbj+%3Fsbj_label+WHERE++%3Fsbj+wdt%3AP31+wd%3AQ335+.+%3Fsbj+rdfs%3Alabel+%3Fsbj_label+.+FILTER%28CONTAINS%28lcase%28%3Fsbj_label%29%2C+%27d%27%29%29+.+FILTER+%28lang%28%3Fsbj_label%29+%3D+%27en%27%29++LIMIT+25&format=json\n",
      "ERROR:backoff:Giving up execute_sparql_query(...) after 1 tries (requests.exceptions.HTTPError: 400 Client Error: Bad Request for url: https://query.wikidata.org/sparql?query=%23Tool%3A+WikibaseIntegrator+wbi_functions.execute_sparql_query%0Aselect+distinct+%3Fsbj+where++%3Fsbj+wdt%3AP31+wd%3AQ220+.+%3Fsbj+wdt%3AP31+wd%3AQ220+&format=json)\n",
      "ERROR:root:HTTPError 400 Client Error: Bad Request for url: https://query.wikidata.org/sparql?query=%23Tool%3A+WikibaseIntegrator+wbi_functions.execute_sparql_query%0Aselect+distinct+%3Fsbj+where++%3Fsbj+wdt%3AP31+wd%3AQ220+.+%3Fsbj+wdt%3AP31+wd%3AQ220+&format=json\n"
     ]
    },
    {
     "name": "stdout",
     "output_type": "stream",
     "text": [
      "failed query SELECT DISTINCT ?sbj ?sbj_label WHERE  ?sbj wdt:P31 wd:Q335 . ?sbj rdfs:label ?sbj_label . FILTER(CONTAINS(lcase(?sbj_label), 'd')) . FILTER (lang(?sbj_label) = 'en')  LIMIT 25\n",
      "Failed query number 151\n",
      "failed query select distinct ?sbj where  ?sbj wdt:P31 wd:Q220 . ?sbj wdt:P31 wd:Q220 \n",
      "Failed query number 152\n"
     ]
    },
    {
     "name": "stderr",
     "output_type": "stream",
     "text": [
      "ERROR:backoff:Giving up execute_sparql_query(...) after 1 tries (requests.exceptions.HTTPError: 400 Client Error: Bad Request for url: https://query.wikidata.org/sparql?query=%23Tool%3A+WikibaseIntegrator+wbi_functions.execute_sparql_query%0ASELECT+DISTINCT+%3Fsbj+%3Fsbj_label+WHERE++%3Fsbj+wdt%3AP31+wd%3AQ220+.+%3Fsbj+rdfs%3Alabel+%3Fsbj_label+.+FILTER%28CONTAINS%28lcase%28%3Fsbj_label%29%2C+%270700%27%29%29+.+FILTER+%28lang%28%3Fsbj_label%29+%3D+%27en%27%29++LIMIT+25&format=json)\n",
      "ERROR:root:HTTPError 400 Client Error: Bad Request for url: https://query.wikidata.org/sparql?query=%23Tool%3A+WikibaseIntegrator+wbi_functions.execute_sparql_query%0ASELECT+DISTINCT+%3Fsbj+%3Fsbj_label+WHERE++%3Fsbj+wdt%3AP31+wd%3AQ220+.+%3Fsbj+rdfs%3Alabel+%3Fsbj_label+.+FILTER%28CONTAINS%28lcase%28%3Fsbj_label%29%2C+%270700%27%29%29+.+FILTER+%28lang%28%3Fsbj_label%29+%3D+%27en%27%29++LIMIT+25&format=json\n",
      "ERROR:backoff:Giving up execute_sparql_query(...) after 1 tries (requests.exceptions.HTTPError: 400 Client Error: Bad Request for url: https://query.wikidata.org/sparql?query=%23Tool%3A+WikibaseIntegrator+wbi_functions.execute_sparql_query%0ASELECT+DISTINCT+%3Fsbj+%3Fsbj_label+WHERE++%3Fsbj+wdt%3AP31+wd%3AQ335+.+%3Fsbj+rdfs%3Alabel+%3Fsbj_label+.+FILTER%28CONTAINS%28lcase%28%3Fsbj_label%29%2C+%27sbj_label%27%29%29+.+FILTER+%28lang%28%3Fsbj_label%29+%3D+%27en%27%29++LIMIT+25&format=json)\n",
      "ERROR:root:HTTPError 400 Client Error: Bad Request for url: https://query.wikidata.org/sparql?query=%23Tool%3A+WikibaseIntegrator+wbi_functions.execute_sparql_query%0ASELECT+DISTINCT+%3Fsbj+%3Fsbj_label+WHERE++%3Fsbj+wdt%3AP31+wd%3AQ335+.+%3Fsbj+rdfs%3Alabel+%3Fsbj_label+.+FILTER%28CONTAINS%28lcase%28%3Fsbj_label%29%2C+%27sbj_label%27%29%29+.+FILTER+%28lang%28%3Fsbj_label%29+%3D+%27en%27%29++LIMIT+25&format=json\n"
     ]
    },
    {
     "name": "stdout",
     "output_type": "stream",
     "text": [
      "failed query SELECT DISTINCT ?sbj ?sbj_label WHERE  ?sbj wdt:P31 wd:Q220 . ?sbj rdfs:label ?sbj_label . FILTER(CONTAINS(lcase(?sbj_label), '0700')) . FILTER (lang(?sbj_label) = 'en')  LIMIT 25\n",
      "Failed query number 153\n",
      "failed query SELECT DISTINCT ?sbj ?sbj_label WHERE  ?sbj wdt:P31 wd:Q335 . ?sbj rdfs:label ?sbj_label . FILTER(CONTAINS(lcase(?sbj_label), 'sbj_label')) . FILTER (lang(?sbj_label) = 'en')  LIMIT 25\n",
      "Failed query number 154\n"
     ]
    },
    {
     "name": "stderr",
     "output_type": "stream",
     "text": [
      "ERROR:backoff:Giving up execute_sparql_query(...) after 1 tries (requests.exceptions.HTTPError: 400 Client Error: Bad Request for url: https://query.wikidata.org/sparql?query=%23Tool%3A+WikibaseIntegrator+wbi_functions.execute_sparql_query%0Aselect+distinct+%3Fsbj+where++%3Fsbj+wdt%3AP31+wd%3AQ220+.+%3Fsbj+wdt%3AP31+wd%3AQ220+&format=json)\n",
      "ERROR:root:HTTPError 400 Client Error: Bad Request for url: https://query.wikidata.org/sparql?query=%23Tool%3A+WikibaseIntegrator+wbi_functions.execute_sparql_query%0Aselect+distinct+%3Fsbj+where++%3Fsbj+wdt%3AP31+wd%3AQ220+.+%3Fsbj+wdt%3AP31+wd%3AQ220+&format=json\n",
      "ERROR:backoff:Giving up execute_sparql_query(...) after 1 tries (requests.exceptions.HTTPError: 400 Client Error: Bad Request for url: https://query.wikidata.org/sparql?query=%23Tool%3A+WikibaseIntegrator+wbi_functions.execute_sparql_query%0Aselect+distinct+%3Fsbj+where++%3Fsbj+wdt%3AP31+wd%3AQ220+.+%3Fsbj+wdt%3AP31+wd%3AQ220+&format=json)\n",
      "ERROR:root:HTTPError 400 Client Error: Bad Request for url: https://query.wikidata.org/sparql?query=%23Tool%3A+WikibaseIntegrator+wbi_functions.execute_sparql_query%0Aselect+distinct+%3Fsbj+where++%3Fsbj+wdt%3AP31+wd%3AQ220+.+%3Fsbj+wdt%3AP31+wd%3AQ220+&format=json\n"
     ]
    },
    {
     "name": "stdout",
     "output_type": "stream",
     "text": [
      "failed query select distinct ?sbj where  ?sbj wdt:P31 wd:Q220 . ?sbj wdt:P31 wd:Q220 \n",
      "Failed query number 155\n",
      "failed query select distinct ?sbj where  ?sbj wdt:P31 wd:Q220 . ?sbj wdt:P31 wd:Q220 \n",
      "Failed query number 156\n"
     ]
    },
    {
     "name": "stderr",
     "output_type": "stream",
     "text": [
      "ERROR:backoff:Giving up execute_sparql_query(...) after 1 tries (requests.exceptions.HTTPError: 400 Client Error: Bad Request for url: https://query.wikidata.org/sparql?query=%23Tool%3A+WikibaseIntegrator+wbi_functions.execute_sparql_query%0ASELECT+DISTINCT+%3Fsbj+%3Fsbj_label+WHERE++%3Fsbj+wdt%3AP31+wd%3AQ31+.+%3Fsbj+rdfs%3Alabel+%3Fsbj_label+.+FILTER%28STRSTARTS%28lcase%28%3Fsbj_label%29%2C+%27sbj_label%27%29%29+.+FILTER+%28lang%28%3Fsbj_label%29+%3D+%27en%27%29++LIMIT+25&format=json)\n",
      "ERROR:root:HTTPError 400 Client Error: Bad Request for url: https://query.wikidata.org/sparql?query=%23Tool%3A+WikibaseIntegrator+wbi_functions.execute_sparql_query%0ASELECT+DISTINCT+%3Fsbj+%3Fsbj_label+WHERE++%3Fsbj+wdt%3AP31+wd%3AQ31+.+%3Fsbj+rdfs%3Alabel+%3Fsbj_label+.+FILTER%28STRSTARTS%28lcase%28%3Fsbj_label%29%2C+%27sbj_label%27%29%29+.+FILTER+%28lang%28%3Fsbj_label%29+%3D+%27en%27%29++LIMIT+25&format=json\n",
      "ERROR:backoff:Giving up execute_sparql_query(...) after 1 tries (requests.exceptions.HTTPError: 400 Client Error: Bad Request for url: https://query.wikidata.org/sparql?query=%23Tool%3A+WikibaseIntegrator+wbi_functions.execute_sparql_query%0Aselect+distinct+%3Fsbj+where++%3Fsbj+wdt%3AP31+wd%3AQ220+.+%3Fsbj+wdt%3AP31+wd%3AQ220+&format=json)\n",
      "ERROR:root:HTTPError 400 Client Error: Bad Request for url: https://query.wikidata.org/sparql?query=%23Tool%3A+WikibaseIntegrator+wbi_functions.execute_sparql_query%0Aselect+distinct+%3Fsbj+where++%3Fsbj+wdt%3AP31+wd%3AQ220+.+%3Fsbj+wdt%3AP31+wd%3AQ220+&format=json\n"
     ]
    },
    {
     "name": "stdout",
     "output_type": "stream",
     "text": [
      "failed query SELECT DISTINCT ?sbj ?sbj_label WHERE  ?sbj wdt:P31 wd:Q31 . ?sbj rdfs:label ?sbj_label . FILTER(STRSTARTS(lcase(?sbj_label), 'sbj_label')) . FILTER (lang(?sbj_label) = 'en')  LIMIT 25\n",
      "Failed query number 157\n",
      "failed query select distinct ?sbj where  ?sbj wdt:P31 wd:Q220 . ?sbj wdt:P31 wd:Q220 \n",
      "Failed query number 158\n"
     ]
    },
    {
     "name": "stderr",
     "output_type": "stream",
     "text": [
      "ERROR:backoff:Giving up execute_sparql_query(...) after 1 tries (requests.exceptions.HTTPError: 400 Client Error: Bad Request for url: https://query.wikidata.org/sparql?query=%23Tool%3A+WikibaseIntegrator+wbi_functions.execute_sparql_query%0Aselect+distinct+%3Fsbj+where++%3Fsbj+wdt%3AP31+wd%3AQ220+.+%3Fsbj+wdt%3AP31+wd%3AQ220+&format=json)\n",
      "ERROR:root:HTTPError 400 Client Error: Bad Request for url: https://query.wikidata.org/sparql?query=%23Tool%3A+WikibaseIntegrator+wbi_functions.execute_sparql_query%0Aselect+distinct+%3Fsbj+where++%3Fsbj+wdt%3AP31+wd%3AQ220+.+%3Fsbj+wdt%3AP31+wd%3AQ220+&format=json\n"
     ]
    },
    {
     "name": "stdout",
     "output_type": "stream",
     "text": [
      "failed query select distinct ?sbj where  ?sbj wdt:P31 wd:Q220 . ?sbj wdt:P31 wd:Q220 \n",
      "Failed query number 159\n"
     ]
    },
    {
     "name": "stderr",
     "output_type": "stream",
     "text": [
      "ERROR:backoff:Giving up execute_sparql_query(...) after 1 tries (requests.exceptions.HTTPError: 400 Client Error: Bad Request for url: https://query.wikidata.org/sparql?query=%23Tool%3A+WikibaseIntegrator+wbi_functions.execute_sparql_query%0Aselect+distinct+%3Fsbj+where++%3Fsbj+wdt%3AP31+wd%3AQ220+.+%3Fsbj+wdt%3AP31+wd%3AQ220+&format=json)\n",
      "ERROR:root:HTTPError 400 Client Error: Bad Request for url: https://query.wikidata.org/sparql?query=%23Tool%3A+WikibaseIntegrator+wbi_functions.execute_sparql_query%0Aselect+distinct+%3Fsbj+where++%3Fsbj+wdt%3AP31+wd%3AQ220+.+%3Fsbj+wdt%3AP31+wd%3AQ220+&format=json\n",
      "ERROR:backoff:Giving up execute_sparql_query(...) after 1 tries (requests.exceptions.HTTPError: 400 Client Error: Bad Request for url: https://query.wikidata.org/sparql?query=%23Tool%3A+WikibaseIntegrator+wbi_functions.execute_sparql_query%0ASELECT+DISTINCT+%3Fsbj+%3Fsbj_label+WHERE++%3Fsbj+wdt%3AP31+wd%3AQ31+.+%3Fsbj+rdfs%3Alabel+%3Fsbj_label+.+FILTER%28STRSTARTS%28lcase%28%3Fsbj_label%29%2C+%27n%27%29%29+&format=json)\n",
      "ERROR:root:HTTPError 400 Client Error: Bad Request for url: https://query.wikidata.org/sparql?query=%23Tool%3A+WikibaseIntegrator+wbi_functions.execute_sparql_query%0ASELECT+DISTINCT+%3Fsbj+%3Fsbj_label+WHERE++%3Fsbj+wdt%3AP31+wd%3AQ31+.+%3Fsbj+rdfs%3Alabel+%3Fsbj_label+.+FILTER%28STRSTARTS%28lcase%28%3Fsbj_label%29%2C+%27n%27%29%29+&format=json\n"
     ]
    },
    {
     "name": "stdout",
     "output_type": "stream",
     "text": [
      "failed query select distinct ?sbj where  ?sbj wdt:P31 wd:Q220 . ?sbj wdt:P31 wd:Q220 \n",
      "Failed query number 160\n",
      "failed query SELECT DISTINCT ?sbj ?sbj_label WHERE  ?sbj wdt:P31 wd:Q31 . ?sbj rdfs:label ?sbj_label . FILTER(STRSTARTS(lcase(?sbj_label), 'n')) \n",
      "Failed query number 161\n"
     ]
    },
    {
     "name": "stderr",
     "output_type": "stream",
     "text": [
      "ERROR:backoff:Giving up execute_sparql_query(...) after 1 tries (requests.exceptions.HTTPError: 400 Client Error: Bad Request for url: https://query.wikidata.org/sparql?query=%23Tool%3A+WikibaseIntegrator+wbi_functions.execute_sparql_query%0Aselect+distinct+%3Fsbj+where++%3Fsbj+wdt%3AP31+wd%3AQ220+.+%3Fsbj+wdt%3AP31+wd%3AQ220+&format=json)\n",
      "ERROR:root:HTTPError 400 Client Error: Bad Request for url: https://query.wikidata.org/sparql?query=%23Tool%3A+WikibaseIntegrator+wbi_functions.execute_sparql_query%0Aselect+distinct+%3Fsbj+where++%3Fsbj+wdt%3AP31+wd%3AQ220+.+%3Fsbj+wdt%3AP31+wd%3AQ220+&format=json\n",
      "ERROR:backoff:Giving up execute_sparql_query(...) after 1 tries (requests.exceptions.HTTPError: 400 Client Error: Bad Request for url: https://query.wikidata.org/sparql?query=%23Tool%3A+WikibaseIntegrator+wbi_functions.execute_sparql_query%0ASELECT+DISTINCT+%3Fsbj+%3Fsbj_label+WHERE++%3Fsbj+wdt%3AP31+wd%3AQ335+.+%3Fsbj+rdfs%3Alabel+%3Fsbj_label+.+FILTER%28CONTAINS%28lcase%28%3Fsbj_label%29%2C+%27ionization+energy%27%29%29+.+FILTER+%28lang%28%3Fsbj_label%29+%3D+%27en%27%29++LIMIT+25&format=json)\n",
      "ERROR:root:HTTPError 400 Client Error: Bad Request for url: https://query.wikidata.org/sparql?query=%23Tool%3A+WikibaseIntegrator+wbi_functions.execute_sparql_query%0ASELECT+DISTINCT+%3Fsbj+%3Fsbj_label+WHERE++%3Fsbj+wdt%3AP31+wd%3AQ335+.+%3Fsbj+rdfs%3Alabel+%3Fsbj_label+.+FILTER%28CONTAINS%28lcase%28%3Fsbj_label%29%2C+%27ionization+energy%27%29%29+.+FILTER+%28lang%28%3Fsbj_label%29+%3D+%27en%27%29++LIMIT+25&format=json\n"
     ]
    },
    {
     "name": "stdout",
     "output_type": "stream",
     "text": [
      "failed query select distinct ?sbj where  ?sbj wdt:P31 wd:Q220 . ?sbj wdt:P31 wd:Q220 \n",
      "Failed query number 162\n",
      "failed query SELECT DISTINCT ?sbj ?sbj_label WHERE  ?sbj wdt:P31 wd:Q335 . ?sbj rdfs:label ?sbj_label . FILTER(CONTAINS(lcase(?sbj_label), 'ionization energy')) . FILTER (lang(?sbj_label) = 'en')  LIMIT 25\n",
      "Failed query number 163\n"
     ]
    },
    {
     "name": "stderr",
     "output_type": "stream",
     "text": [
      "ERROR:backoff:Giving up execute_sparql_query(...) after 1 tries (requests.exceptions.HTTPError: 400 Client Error: Bad Request for url: https://query.wikidata.org/sparql?query=%23Tool%3A+WikibaseIntegrator+wbi_functions.execute_sparql_query%0ASELECT+DISTINCT+%3Fsbj+%3Fsbj_label+WHERE++%3Fsbj+wdt%3AP31+wd%3AQ335+.+%3Fsbj+rdfs%3Alabel+%3Fsbj_label+.+FILTER%28STRSTARTS%28lcase%28%3Fsbj_label%29%2C+%27tuberculosis%27%29%29+.+FILTER+%28lang%28%3Fsbj_label%29+%3D+%27en%27%29++LIMIT+25&format=json)\n",
      "ERROR:root:HTTPError 400 Client Error: Bad Request for url: https://query.wikidata.org/sparql?query=%23Tool%3A+WikibaseIntegrator+wbi_functions.execute_sparql_query%0ASELECT+DISTINCT+%3Fsbj+%3Fsbj_label+WHERE++%3Fsbj+wdt%3AP31+wd%3AQ335+.+%3Fsbj+rdfs%3Alabel+%3Fsbj_label+.+FILTER%28STRSTARTS%28lcase%28%3Fsbj_label%29%2C+%27tuberculosis%27%29%29+.+FILTER+%28lang%28%3Fsbj_label%29+%3D+%27en%27%29++LIMIT+25&format=json\n",
      "ERROR:backoff:Giving up execute_sparql_query(...) after 1 tries (requests.exceptions.HTTPError: 400 Client Error: Bad Request for url: https://query.wikidata.org/sparql?query=%23Tool%3A+WikibaseIntegrator+wbi_functions.execute_sparql_query%0Aselect+distinct+%3Fsbj+where++%3Fsbj+wdt%3AP31+wd%3AQ220+.+%3Fsbj+wdt%3AP31+wd%3AQ220+&format=json)\n",
      "ERROR:root:HTTPError 400 Client Error: Bad Request for url: https://query.wikidata.org/sparql?query=%23Tool%3A+WikibaseIntegrator+wbi_functions.execute_sparql_query%0Aselect+distinct+%3Fsbj+where++%3Fsbj+wdt%3AP31+wd%3AQ220+.+%3Fsbj+wdt%3AP31+wd%3AQ220+&format=json\n"
     ]
    },
    {
     "name": "stdout",
     "output_type": "stream",
     "text": [
      "failed query SELECT DISTINCT ?sbj ?sbj_label WHERE  ?sbj wdt:P31 wd:Q335 . ?sbj rdfs:label ?sbj_label . FILTER(STRSTARTS(lcase(?sbj_label), 'tuberculosis')) . FILTER (lang(?sbj_label) = 'en')  LIMIT 25\n",
      "Failed query number 164\n",
      "failed query select distinct ?sbj where  ?sbj wdt:P31 wd:Q220 . ?sbj wdt:P31 wd:Q220 \n",
      "Failed query number 165\n"
     ]
    },
    {
     "name": "stderr",
     "output_type": "stream",
     "text": [
      "ERROR:backoff:Giving up execute_sparql_query(...) after 1 tries (requests.exceptions.HTTPError: 400 Client Error: Bad Request for url: https://query.wikidata.org/sparql?query=%23Tool%3A+WikibaseIntegrator+wbi_functions.execute_sparql_query%0Aselect+distinct+%3Fsbj+where++%3Fsbj+wdt%3AP31+wd%3AQ220+.+%3Fsbj+wdt%3AP31+wd%3AQ220+&format=json)\n",
      "ERROR:root:HTTPError 400 Client Error: Bad Request for url: https://query.wikidata.org/sparql?query=%23Tool%3A+WikibaseIntegrator+wbi_functions.execute_sparql_query%0Aselect+distinct+%3Fsbj+where++%3Fsbj+wdt%3AP31+wd%3AQ220+.+%3Fsbj+wdt%3AP31+wd%3AQ220+&format=json\n",
      "ERROR:backoff:Giving up execute_sparql_query(...) after 1 tries (requests.exceptions.HTTPError: 400 Client Error: Bad Request for url: https://query.wikidata.org/sparql?query=%23Tool%3A+WikibaseIntegrator+wbi_functions.execute_sparql_query%0Aselect+distinct+%3Fsbj+where++%3Fsbj+wdt%3AP31+wd%3AQ220+.+%3Fsbj+wdt%3AP31+wd%3AQ220+&format=json)\n",
      "ERROR:root:HTTPError 400 Client Error: Bad Request for url: https://query.wikidata.org/sparql?query=%23Tool%3A+WikibaseIntegrator+wbi_functions.execute_sparql_query%0Aselect+distinct+%3Fsbj+where++%3Fsbj+wdt%3AP31+wd%3AQ220+.+%3Fsbj+wdt%3AP31+wd%3AQ220+&format=json\n"
     ]
    },
    {
     "name": "stdout",
     "output_type": "stream",
     "text": [
      "failed query select distinct ?sbj where  ?sbj wdt:P31 wd:Q220 . ?sbj wdt:P31 wd:Q220 \n",
      "Failed query number 166\n",
      "failed query select distinct ?sbj where  ?sbj wdt:P31 wd:Q220 . ?sbj wdt:P31 wd:Q220 \n",
      "Failed query number 167\n"
     ]
    },
    {
     "name": "stderr",
     "output_type": "stream",
     "text": [
      "ERROR:backoff:Giving up execute_sparql_query(...) after 1 tries (requests.exceptions.HTTPError: 400 Client Error: Bad Request for url: https://query.wikidata.org/sparql?query=%23Tool%3A+WikibaseIntegrator+wbi_functions.execute_sparql_query%0ASELECT+DISTINCT+%3Fsbj+%3Fsbj_label+WHERE++%3Fsbj+wdt%3AP31+wd%3AQ31+.+%3Fsbj+rdfs%3Alabel+%3Fsbj_label+.+FILTER%28STRSTARTS%28lcase%28%3Fsbj_label%29%2C+%27filial+building%27%29%29+.+FILTER+%28lang%28%3Fsbj_label%29+%3D+%27en%27%29++LIMIT+25&format=json)\n",
      "ERROR:root:HTTPError 400 Client Error: Bad Request for url: https://query.wikidata.org/sparql?query=%23Tool%3A+WikibaseIntegrator+wbi_functions.execute_sparql_query%0ASELECT+DISTINCT+%3Fsbj+%3Fsbj_label+WHERE++%3Fsbj+wdt%3AP31+wd%3AQ31+.+%3Fsbj+rdfs%3Alabel+%3Fsbj_label+.+FILTER%28STRSTARTS%28lcase%28%3Fsbj_label%29%2C+%27filial+building%27%29%29+.+FILTER+%28lang%28%3Fsbj_label%29+%3D+%27en%27%29++LIMIT+25&format=json\n",
      "ERROR:backoff:Giving up execute_sparql_query(...) after 1 tries (requests.exceptions.HTTPError: 400 Client Error: Bad Request for url: https://query.wikidata.org/sparql?query=%23Tool%3A+WikibaseIntegrator+wbi_functions.execute_sparql_query%0Aselect+distinct+%3Fsbj+where++%3Fsbj+wdt%3AP31+wd%3AQ220+.+%3Fsbj+wdt%3AP31+wd%3AQ220+&format=json)\n",
      "ERROR:root:HTTPError 400 Client Error: Bad Request for url: https://query.wikidata.org/sparql?query=%23Tool%3A+WikibaseIntegrator+wbi_functions.execute_sparql_query%0Aselect+distinct+%3Fsbj+where++%3Fsbj+wdt%3AP31+wd%3AQ220+.+%3Fsbj+wdt%3AP31+wd%3AQ220+&format=json\n"
     ]
    },
    {
     "name": "stdout",
     "output_type": "stream",
     "text": [
      "failed query SELECT DISTINCT ?sbj ?sbj_label WHERE  ?sbj wdt:P31 wd:Q31 . ?sbj rdfs:label ?sbj_label . FILTER(STRSTARTS(lcase(?sbj_label), 'filial building')) . FILTER (lang(?sbj_label) = 'en')  LIMIT 25\n",
      "Failed query number 168\n",
      "failed query select distinct ?sbj where  ?sbj wdt:P31 wd:Q220 . ?sbj wdt:P31 wd:Q220 \n",
      "Failed query number 169\n"
     ]
    },
    {
     "name": "stderr",
     "output_type": "stream",
     "text": [
      "ERROR:backoff:Giving up execute_sparql_query(...) after 1 tries (requests.exceptions.HTTPError: 400 Client Error: Bad Request for url: https://query.wikidata.org/sparql?query=%23Tool%3A+WikibaseIntegrator+wbi_functions.execute_sparql_query%0ASELECT+DISTINCT+%3Fsbj+%3Fsbj_label+WHERE++%3Fsbj+wdt%3AP31+wd%3AQ335+.+%3Fsbj+rdfs%3Alabel+%3Fsbj_label+.+FILTER%28CONTAINS%28lcase%28%3Fsbj_label%29%2C+%27d%27%29%29+.+FILTER+%28lang%28%3Fsbj_label%29+%3D+%27en%27%29++LIMIT+25&format=json)\n",
      "ERROR:root:HTTPError 400 Client Error: Bad Request for url: https://query.wikidata.org/sparql?query=%23Tool%3A+WikibaseIntegrator+wbi_functions.execute_sparql_query%0ASELECT+DISTINCT+%3Fsbj+%3Fsbj_label+WHERE++%3Fsbj+wdt%3AP31+wd%3AQ335+.+%3Fsbj+rdfs%3Alabel+%3Fsbj_label+.+FILTER%28CONTAINS%28lcase%28%3Fsbj_label%29%2C+%27d%27%29%29+.+FILTER+%28lang%28%3Fsbj_label%29+%3D+%27en%27%29++LIMIT+25&format=json\n",
      "ERROR:backoff:Giving up execute_sparql_query(...) after 1 tries (requests.exceptions.HTTPError: 400 Client Error: Bad Request for url: https://query.wikidata.org/sparql?query=%23Tool%3A+WikibaseIntegrator+wbi_functions.execute_sparql_query%0Aselect+distinct+%3Fsbj+where++%3Fsbj+wdt%3AP31+wd%3AQ220+.+%3Fsbj+wdt%3AP31+wd%3AQ220+&format=json)\n",
      "ERROR:root:HTTPError 400 Client Error: Bad Request for url: https://query.wikidata.org/sparql?query=%23Tool%3A+WikibaseIntegrator+wbi_functions.execute_sparql_query%0Aselect+distinct+%3Fsbj+where++%3Fsbj+wdt%3AP31+wd%3AQ220+.+%3Fsbj+wdt%3AP31+wd%3AQ220+&format=json\n"
     ]
    },
    {
     "name": "stdout",
     "output_type": "stream",
     "text": [
      "failed query SELECT DISTINCT ?sbj ?sbj_label WHERE  ?sbj wdt:P31 wd:Q335 . ?sbj rdfs:label ?sbj_label . FILTER(CONTAINS(lcase(?sbj_label), 'd')) . FILTER (lang(?sbj_label) = 'en')  LIMIT 25\n",
      "Failed query number 170\n",
      "failed query select distinct ?sbj where  ?sbj wdt:P31 wd:Q220 . ?sbj wdt:P31 wd:Q220 \n",
      "Failed query number 171\n"
     ]
    },
    {
     "name": "stderr",
     "output_type": "stream",
     "text": [
      "ERROR:backoff:Giving up execute_sparql_query(...) after 1 tries (requests.exceptions.HTTPError: 400 Client Error: Bad Request for url: https://query.wikidata.org/sparql?query=%23Tool%3A+WikibaseIntegrator+wbi_functions.execute_sparql_query%0ASELECT+%28COUNT%28%3Fobj%29+AS+%3Fvalue+%29++%3Fobj+wdt%3AP31+wd%3AQ335+&format=json)\n",
      "ERROR:root:HTTPError 400 Client Error: Bad Request for url: https://query.wikidata.org/sparql?query=%23Tool%3A+WikibaseIntegrator+wbi_functions.execute_sparql_query%0ASELECT+%28COUNT%28%3Fobj%29+AS+%3Fvalue+%29++%3Fobj+wdt%3AP31+wd%3AQ335+&format=json\n"
     ]
    },
    {
     "name": "stdout",
     "output_type": "stream",
     "text": [
      "failed query SELECT (COUNT(?obj) AS ?value )  ?obj wdt:P31 wd:Q335 \n",
      "Failed query number 172\n"
     ]
    },
    {
     "name": "stderr",
     "output_type": "stream",
     "text": [
      "ERROR:backoff:Giving up execute_sparql_query(...) after 1 tries (requests.exceptions.HTTPError: 400 Client Error: Bad Request for url: https://query.wikidata.org/sparql?query=%23Tool%3A+WikibaseIntegrator+wbi_functions.execute_sparql_query%0ASELECT+DISTINCT+%3Fsbj+%3Fsbj_label+WHERE++%3Fsbj+wdt%3AP31+wd%3AQ318+.+%3Fsbj+rdfs%3Alabel+%3Fsbj_label+.+FILTER%28CONTAINS%28lcase%28%3Fsbj_label%29%2C+%272.9%27%29%29+.+FILTER+%28lang%28%3Fsbj_label%29+%3D+%27en%27%29++LIMIT+25&format=json)\n",
      "ERROR:root:HTTPError 400 Client Error: Bad Request for url: https://query.wikidata.org/sparql?query=%23Tool%3A+WikibaseIntegrator+wbi_functions.execute_sparql_query%0ASELECT+DISTINCT+%3Fsbj+%3Fsbj_label+WHERE++%3Fsbj+wdt%3AP31+wd%3AQ318+.+%3Fsbj+rdfs%3Alabel+%3Fsbj_label+.+FILTER%28CONTAINS%28lcase%28%3Fsbj_label%29%2C+%272.9%27%29%29+.+FILTER+%28lang%28%3Fsbj_label%29+%3D+%27en%27%29++LIMIT+25&format=json\n"
     ]
    },
    {
     "name": "stdout",
     "output_type": "stream",
     "text": [
      "failed query SELECT DISTINCT ?sbj ?sbj_label WHERE  ?sbj wdt:P31 wd:Q318 . ?sbj rdfs:label ?sbj_label . FILTER(CONTAINS(lcase(?sbj_label), '2.9')) . FILTER (lang(?sbj_label) = 'en')  LIMIT 25\n",
      "Failed query number 173\n"
     ]
    },
    {
     "name": "stderr",
     "output_type": "stream",
     "text": [
      "ERROR:backoff:Giving up execute_sparql_query(...) after 1 tries (requests.exceptions.HTTPError: 400 Client Error: Bad Request for url: https://query.wikidata.org/sparql?query=%23Tool%3A+WikibaseIntegrator+wbi_functions.execute_sparql_query%0Aselect+distinct+%3Fsbj+where++%3Fsbj+wdt%3AP31+wd%3AQ220+.+%3Fsbj+wdt%3AP31+wd%3AQ220+&format=json)\n",
      "ERROR:root:HTTPError 400 Client Error: Bad Request for url: https://query.wikidata.org/sparql?query=%23Tool%3A+WikibaseIntegrator+wbi_functions.execute_sparql_query%0Aselect+distinct+%3Fsbj+where++%3Fsbj+wdt%3AP31+wd%3AQ220+.+%3Fsbj+wdt%3AP31+wd%3AQ220+&format=json\n",
      "ERROR:backoff:Giving up execute_sparql_query(...) after 1 tries (requests.exceptions.HTTPError: 400 Client Error: Bad Request for url: https://query.wikidata.org/sparql?query=%23Tool%3A+WikibaseIntegrator+wbi_functions.execute_sparql_query%0ASELECT+DISTINCT+%3Fsbj+%3Fsbj_label+WHERE++%3Fsbj+wdt%3AP31+wd%3AQ31+.+%3Fsbj+rdfs%3Alabel+%3Fsbj_label+.+FILTER%28CONTAINS%28lcase%28%3Fsbj_label%29%2C+%27rum%27%29%29+.+FILTER+%28lang%28%3Fsbj_label%29+%3D+%27rum%27%29%29++LIMIT+25&format=json)\n",
      "ERROR:root:HTTPError 400 Client Error: Bad Request for url: https://query.wikidata.org/sparql?query=%23Tool%3A+WikibaseIntegrator+wbi_functions.execute_sparql_query%0ASELECT+DISTINCT+%3Fsbj+%3Fsbj_label+WHERE++%3Fsbj+wdt%3AP31+wd%3AQ31+.+%3Fsbj+rdfs%3Alabel+%3Fsbj_label+.+FILTER%28CONTAINS%28lcase%28%3Fsbj_label%29%2C+%27rum%27%29%29+.+FILTER+%28lang%28%3Fsbj_label%29+%3D+%27rum%27%29%29++LIMIT+25&format=json\n"
     ]
    },
    {
     "name": "stdout",
     "output_type": "stream",
     "text": [
      "failed query select distinct ?sbj where  ?sbj wdt:P31 wd:Q220 . ?sbj wdt:P31 wd:Q220 \n",
      "Failed query number 174\n",
      "failed query SELECT DISTINCT ?sbj ?sbj_label WHERE  ?sbj wdt:P31 wd:Q31 . ?sbj rdfs:label ?sbj_label . FILTER(CONTAINS(lcase(?sbj_label), 'rum')) . FILTER (lang(?sbj_label) = 'rum'))  LIMIT 25\n",
      "Failed query number 175\n"
     ]
    },
    {
     "name": "stderr",
     "output_type": "stream",
     "text": [
      "ERROR:backoff:Giving up execute_sparql_query(...) after 1 tries (requests.exceptions.HTTPError: 400 Client Error: Bad Request for url: https://query.wikidata.org/sparql?query=%23Tool%3A+WikibaseIntegrator+wbi_functions.execute_sparql_query%0ASELECT+DISTINCT+%3Fsbj+%3Fsbj_label+WHERE++%3Fsbj+wdt%3AP31+wd%3AQ31+.+%3Fsbj+rdfs%3Alabel+%3Fsbj_label+.+FILTER%28CONTAINS%28lcase%28%3Fsbj_label%29%2C+%27en%27%29%29+&format=json)\n",
      "ERROR:root:HTTPError 400 Client Error: Bad Request for url: https://query.wikidata.org/sparql?query=%23Tool%3A+WikibaseIntegrator+wbi_functions.execute_sparql_query%0ASELECT+DISTINCT+%3Fsbj+%3Fsbj_label+WHERE++%3Fsbj+wdt%3AP31+wd%3AQ31+.+%3Fsbj+rdfs%3Alabel+%3Fsbj_label+.+FILTER%28CONTAINS%28lcase%28%3Fsbj_label%29%2C+%27en%27%29%29+&format=json\n",
      "ERROR:backoff:Giving up execute_sparql_query(...) after 1 tries (requests.exceptions.HTTPError: 400 Client Error: Bad Request for url: https://query.wikidata.org/sparql?query=%23Tool%3A+WikibaseIntegrator+wbi_functions.execute_sparql_query%0ASELECT+DISTINCT+%3Fsbj+%3Fsbj_label+WHERE++%3Fsbj+wdt%3AP31+wd%3AQ220+.+%3Fsbj+rdfs%3Alabel+%3Fsbj_label+.+FILTER%28CONTAINS%28lcase%28%3Fsbj_label%29%2C+%27ku-ring-gai%27%29%29+.+FILTER+%28lang%28%3Fsbj_label%29+%3D+%27en%27%29++LIMIT+25&format=json)\n",
      "ERROR:root:HTTPError 400 Client Error: Bad Request for url: https://query.wikidata.org/sparql?query=%23Tool%3A+WikibaseIntegrator+wbi_functions.execute_sparql_query%0ASELECT+DISTINCT+%3Fsbj+%3Fsbj_label+WHERE++%3Fsbj+wdt%3AP31+wd%3AQ220+.+%3Fsbj+rdfs%3Alabel+%3Fsbj_label+.+FILTER%28CONTAINS%28lcase%28%3Fsbj_label%29%2C+%27ku-ring-gai%27%29%29+.+FILTER+%28lang%28%3Fsbj_label%29+%3D+%27en%27%29++LIMIT+25&format=json\n"
     ]
    },
    {
     "name": "stdout",
     "output_type": "stream",
     "text": [
      "failed query SELECT DISTINCT ?sbj ?sbj_label WHERE  ?sbj wdt:P31 wd:Q31 . ?sbj rdfs:label ?sbj_label . FILTER(CONTAINS(lcase(?sbj_label), 'en')) \n",
      "Failed query number 176\n",
      "failed query SELECT DISTINCT ?sbj ?sbj_label WHERE  ?sbj wdt:P31 wd:Q220 . ?sbj rdfs:label ?sbj_label . FILTER(CONTAINS(lcase(?sbj_label), 'ku-ring-gai')) . FILTER (lang(?sbj_label) = 'en')  LIMIT 25\n",
      "Failed query number 177\n"
     ]
    },
    {
     "name": "stderr",
     "output_type": "stream",
     "text": [
      "ERROR:backoff:Giving up execute_sparql_query(...) after 1 tries (requests.exceptions.HTTPError: 400 Client Error: Bad Request for url: https://query.wikidata.org/sparql?query=%23Tool%3A+WikibaseIntegrator+wbi_functions.execute_sparql_query%0Aselect+distinct+%3Fsbj+where++%3Fsbj+wdt%3AP31+wd%3AQ220+.+%3Fsbj+wdt%3AP31+wd%3AQ220+&format=json)\n",
      "ERROR:root:HTTPError 400 Client Error: Bad Request for url: https://query.wikidata.org/sparql?query=%23Tool%3A+WikibaseIntegrator+wbi_functions.execute_sparql_query%0Aselect+distinct+%3Fsbj+where++%3Fsbj+wdt%3AP31+wd%3AQ220+.+%3Fsbj+wdt%3AP31+wd%3AQ220+&format=json\n",
      "ERROR:backoff:Giving up execute_sparql_query(...) after 1 tries (requests.exceptions.HTTPError: 400 Client Error: Bad Request for url: https://query.wikidata.org/sparql?query=%23Tool%3A+WikibaseIntegrator+wbi_functions.execute_sparql_query%0ASELECT+%28COUNT%28%3Fobj%29+AS+%3Fvalue+%29++%3Fobj+wdt%3AP31+wd%3AQ335+&format=json)\n",
      "ERROR:root:HTTPError 400 Client Error: Bad Request for url: https://query.wikidata.org/sparql?query=%23Tool%3A+WikibaseIntegrator+wbi_functions.execute_sparql_query%0ASELECT+%28COUNT%28%3Fobj%29+AS+%3Fvalue+%29++%3Fobj+wdt%3AP31+wd%3AQ335+&format=json\n"
     ]
    },
    {
     "name": "stdout",
     "output_type": "stream",
     "text": [
      "failed query select distinct ?sbj where  ?sbj wdt:P31 wd:Q220 . ?sbj wdt:P31 wd:Q220 \n",
      "Failed query number 178\n",
      "failed query SELECT (COUNT(?obj) AS ?value )  ?obj wdt:P31 wd:Q335 \n",
      "Failed query number 179\n"
     ]
    },
    {
     "name": "stderr",
     "output_type": "stream",
     "text": [
      "ERROR:backoff:Giving up execute_sparql_query(...) after 1 tries (requests.exceptions.HTTPError: 400 Client Error: Bad Request for url: https://query.wikidata.org/sparql?query=%23Tool%3A+WikibaseIntegrator+wbi_functions.execute_sparql_query%0ASELECT+DISTINCT+%3Fsbj+%3Fsbj_label+WHERE++%3Fsbj+wdt%3AP31+wd%3AQ31+.+%3Fsbj+rdfs%3Alabel+%3Fsbj_label+.+FILTER%28CONTAINS%28lcase%28%3Fsbj_label%29%2C+%27vertisol%27%29%29+.+FILTER+%28lang%28%3Fsbj_label%29+%3D+%27en%27%29++LIMIT+25&format=json)\n",
      "ERROR:root:HTTPError 400 Client Error: Bad Request for url: https://query.wikidata.org/sparql?query=%23Tool%3A+WikibaseIntegrator+wbi_functions.execute_sparql_query%0ASELECT+DISTINCT+%3Fsbj+%3Fsbj_label+WHERE++%3Fsbj+wdt%3AP31+wd%3AQ31+.+%3Fsbj+rdfs%3Alabel+%3Fsbj_label+.+FILTER%28CONTAINS%28lcase%28%3Fsbj_label%29%2C+%27vertisol%27%29%29+.+FILTER+%28lang%28%3Fsbj_label%29+%3D+%27en%27%29++LIMIT+25&format=json\n",
      "ERROR:backoff:Giving up execute_sparql_query(...) after 1 tries (requests.exceptions.HTTPError: 400 Client Error: Bad Request for url: https://query.wikidata.org/sparql?query=%23Tool%3A+WikibaseIntegrator+wbi_functions.execute_sparql_query%0Aselect+distinct+%3Fsbj+where++%3Fsbj+wdt%3AP31+wd%3AQ220+.+%3Fsbj+wdt%3AP31+wd%3AQ220+&format=json)\n",
      "ERROR:root:HTTPError 400 Client Error: Bad Request for url: https://query.wikidata.org/sparql?query=%23Tool%3A+WikibaseIntegrator+wbi_functions.execute_sparql_query%0Aselect+distinct+%3Fsbj+where++%3Fsbj+wdt%3AP31+wd%3AQ220+.+%3Fsbj+wdt%3AP31+wd%3AQ220+&format=json\n"
     ]
    },
    {
     "name": "stdout",
     "output_type": "stream",
     "text": [
      "failed query SELECT DISTINCT ?sbj ?sbj_label WHERE  ?sbj wdt:P31 wd:Q31 . ?sbj rdfs:label ?sbj_label . FILTER(CONTAINS(lcase(?sbj_label), 'vertisol')) . FILTER (lang(?sbj_label) = 'en')  LIMIT 25\n",
      "Failed query number 180\n",
      "failed query select distinct ?sbj where  ?sbj wdt:P31 wd:Q220 . ?sbj wdt:P31 wd:Q220 \n",
      "Failed query number 181\n"
     ]
    },
    {
     "name": "stderr",
     "output_type": "stream",
     "text": [
      "ERROR:backoff:Giving up execute_sparql_query(...) after 1 tries (requests.exceptions.HTTPError: 400 Client Error: Bad Request for url: https://query.wikidata.org/sparql?query=%23Tool%3A+WikibaseIntegrator+wbi_functions.execute_sparql_query%0Aselect+distinct+%3Fsbj+where++%3Fsbj+wdt%3AP31+wd%3AQ220+.+%3Fsbj+wdt%3AP31+wd%3AQ220+&format=json)\n",
      "ERROR:root:HTTPError 400 Client Error: Bad Request for url: https://query.wikidata.org/sparql?query=%23Tool%3A+WikibaseIntegrator+wbi_functions.execute_sparql_query%0Aselect+distinct+%3Fsbj+where++%3Fsbj+wdt%3AP31+wd%3AQ220+.+%3Fsbj+wdt%3AP31+wd%3AQ220+&format=json\n",
      "ERROR:backoff:Giving up execute_sparql_query(...) after 1 tries (requests.exceptions.HTTPError: 400 Client Error: Bad Request for url: https://query.wikidata.org/sparql?query=%23Tool%3A+WikibaseIntegrator+wbi_functions.execute_sparql_query%0ASELECT+DISTINCT+%3Fsbj+%3Fsbj_label+WHERE++%3Fsbj+wdt%3AP31+wd%3AQ31+.+%3Fsbj+rdfs%3Alabel+%3Fsbj_label+.+FILTER%28STRSTARTS%28lcase%28%3Fsbj_label%29%2C+%27t%27%29%29+.+FILTER+%28lang%28%3Fsbj_label%29+%3D+%27t%27%29++LIMIT+25&format=json)\n",
      "ERROR:root:HTTPError 400 Client Error: Bad Request for url: https://query.wikidata.org/sparql?query=%23Tool%3A+WikibaseIntegrator+wbi_functions.execute_sparql_query%0ASELECT+DISTINCT+%3Fsbj+%3Fsbj_label+WHERE++%3Fsbj+wdt%3AP31+wd%3AQ31+.+%3Fsbj+rdfs%3Alabel+%3Fsbj_label+.+FILTER%28STRSTARTS%28lcase%28%3Fsbj_label%29%2C+%27t%27%29%29+.+FILTER+%28lang%28%3Fsbj_label%29+%3D+%27t%27%29++LIMIT+25&format=json\n"
     ]
    },
    {
     "name": "stdout",
     "output_type": "stream",
     "text": [
      "failed query select distinct ?sbj where  ?sbj wdt:P31 wd:Q220 . ?sbj wdt:P31 wd:Q220 \n",
      "Failed query number 182\n",
      "failed query SELECT DISTINCT ?sbj ?sbj_label WHERE  ?sbj wdt:P31 wd:Q31 . ?sbj rdfs:label ?sbj_label . FILTER(STRSTARTS(lcase(?sbj_label), 't')) . FILTER (lang(?sbj_label) = 't')  LIMIT 25\n",
      "Failed query number 183\n"
     ]
    },
    {
     "name": "stderr",
     "output_type": "stream",
     "text": [
      "ERROR:backoff:Giving up execute_sparql_query(...) after 1 tries (requests.exceptions.HTTPError: 400 Client Error: Bad Request for url: https://query.wikidata.org/sparql?query=%23Tool%3A+WikibaseIntegrator+wbi_functions.execute_sparql_query%0ASELECT+%3Fanswer+WHERE++wd%3AQ220+wdt%3AP31+%3Fanswer+.+%3Fanswer+wdt%3AP31+wd%3AQ220+&format=json)\n",
      "ERROR:root:HTTPError 400 Client Error: Bad Request for url: https://query.wikidata.org/sparql?query=%23Tool%3A+WikibaseIntegrator+wbi_functions.execute_sparql_query%0ASELECT+%3Fanswer+WHERE++wd%3AQ220+wdt%3AP31+%3Fanswer+.+%3Fanswer+wdt%3AP31+wd%3AQ220+&format=json\n",
      "ERROR:backoff:Giving up execute_sparql_query(...) after 1 tries (requests.exceptions.HTTPError: 400 Client Error: Bad Request for url: https://query.wikidata.org/sparql?query=%23Tool%3A+WikibaseIntegrator+wbi_functions.execute_sparql_query%0Aselect+distinct+%3Fsbj+where++%3Fsbj+wdt%3AP31+wd%3AQ220+.+%3Fsbj+wdt%3AP31+wd%3AQ220+&format=json)\n",
      "ERROR:root:HTTPError 400 Client Error: Bad Request for url: https://query.wikidata.org/sparql?query=%23Tool%3A+WikibaseIntegrator+wbi_functions.execute_sparql_query%0Aselect+distinct+%3Fsbj+where++%3Fsbj+wdt%3AP31+wd%3AQ220+.+%3Fsbj+wdt%3AP31+wd%3AQ220+&format=json\n"
     ]
    },
    {
     "name": "stdout",
     "output_type": "stream",
     "text": [
      "failed query SELECT ?answer WHERE  wd:Q220 wdt:P31 ?answer . ?answer wdt:P31 wd:Q220 \n",
      "Failed query number 184\n",
      "failed query select distinct ?sbj where  ?sbj wdt:P31 wd:Q220 . ?sbj wdt:P31 wd:Q220 \n",
      "Failed query number 185\n"
     ]
    },
    {
     "name": "stderr",
     "output_type": "stream",
     "text": [
      "ERROR:backoff:Giving up execute_sparql_query(...) after 1 tries (requests.exceptions.HTTPError: 400 Client Error: Bad Request for url: https://query.wikidata.org/sparql?query=%23Tool%3A+WikibaseIntegrator+wbi_functions.execute_sparql_query%0ASELECT+DISTINCT+%3Fsbj+%3Fsbj_label+WHERE++%3Fsbj+wdt%3AP31+wd%3AQ335+.+%3Fsbj+rdfs%3Alabel+%3Fsbj_label+.+FILTER%28STRSTARTS%28lcase%28%3Fsbj_label%29%2C+%2733%2C4%27%29%29+.+FILTER+%28lang%28%3Fsbj_label%29+%3D+%27en%27%29++LIMIT+25&format=json)\n",
      "ERROR:root:HTTPError 400 Client Error: Bad Request for url: https://query.wikidata.org/sparql?query=%23Tool%3A+WikibaseIntegrator+wbi_functions.execute_sparql_query%0ASELECT+DISTINCT+%3Fsbj+%3Fsbj_label+WHERE++%3Fsbj+wdt%3AP31+wd%3AQ335+.+%3Fsbj+rdfs%3Alabel+%3Fsbj_label+.+FILTER%28STRSTARTS%28lcase%28%3Fsbj_label%29%2C+%2733%2C4%27%29%29+.+FILTER+%28lang%28%3Fsbj_label%29+%3D+%27en%27%29++LIMIT+25&format=json\n",
      "ERROR:backoff:Giving up execute_sparql_query(...) after 1 tries (requests.exceptions.HTTPError: 400 Client Error: Bad Request for url: https://query.wikidata.org/sparql?query=%23Tool%3A+WikibaseIntegrator+wbi_functions.execute_sparql_query%0ASELECT+DISTINCT+%3Fsbj+%3Fsbj_label+WHERE++%3Fsbj+wdt%3AP31+wd%3AQ31+.+%3Fsbj+rdfs%3Alabel+%3Fsbj_label+.+FILTER%28STRSTARTS%28lcase%28%3Fsbj_label%29%2C+%27%C3%BCr%C3%BCmqi%27%29%29+.+FILTER+%28lang%28%3Fsbj_label%29+%3D+%27en%27%29++LIMIT+25&format=json)\n",
      "ERROR:root:HTTPError 400 Client Error: Bad Request for url: https://query.wikidata.org/sparql?query=%23Tool%3A+WikibaseIntegrator+wbi_functions.execute_sparql_query%0ASELECT+DISTINCT+%3Fsbj+%3Fsbj_label+WHERE++%3Fsbj+wdt%3AP31+wd%3AQ31+.+%3Fsbj+rdfs%3Alabel+%3Fsbj_label+.+FILTER%28STRSTARTS%28lcase%28%3Fsbj_label%29%2C+%27%C3%BCr%C3%BCmqi%27%29%29+.+FILTER+%28lang%28%3Fsbj_label%29+%3D+%27en%27%29++LIMIT+25&format=json\n"
     ]
    },
    {
     "name": "stdout",
     "output_type": "stream",
     "text": [
      "failed query SELECT DISTINCT ?sbj ?sbj_label WHERE  ?sbj wdt:P31 wd:Q335 . ?sbj rdfs:label ?sbj_label . FILTER(STRSTARTS(lcase(?sbj_label), '33,4')) . FILTER (lang(?sbj_label) = 'en')  LIMIT 25\n",
      "Failed query number 186\n",
      "failed query SELECT DISTINCT ?sbj ?sbj_label WHERE  ?sbj wdt:P31 wd:Q31 . ?sbj rdfs:label ?sbj_label . FILTER(STRSTARTS(lcase(?sbj_label), 'ürümqi')) . FILTER (lang(?sbj_label) = 'en')  LIMIT 25\n",
      "Failed query number 187\n"
     ]
    },
    {
     "name": "stderr",
     "output_type": "stream",
     "text": [
      "ERROR:backoff:Giving up execute_sparql_query(...) after 1 tries (requests.exceptions.HTTPError: 400 Client Error: Bad Request for url: https://query.wikidata.org/sparql?query=%23Tool%3A+WikibaseIntegrator+wbi_functions.execute_sparql_query%0ASELECT+DISTINCT+%3Fsbj+%3Fsbj_label+WHERE++%3Fsbj+wdt%3AP31+wd%3AQ31+.+%3Fsbj+rdfs%3Alabel+%3Fsbj_label+.+FILTER%28CONTAINS%28lcase%28%3Fsbj_label%29%2C+%27umhlanga%27%29%29+.+FILTER+%28lang%28%3Fsbj_label%29+%3D+%27en%27%29++LIMIT+25&format=json)\n",
      "ERROR:root:HTTPError 400 Client Error: Bad Request for url: https://query.wikidata.org/sparql?query=%23Tool%3A+WikibaseIntegrator+wbi_functions.execute_sparql_query%0ASELECT+DISTINCT+%3Fsbj+%3Fsbj_label+WHERE++%3Fsbj+wdt%3AP31+wd%3AQ31+.+%3Fsbj+rdfs%3Alabel+%3Fsbj_label+.+FILTER%28CONTAINS%28lcase%28%3Fsbj_label%29%2C+%27umhlanga%27%29%29+.+FILTER+%28lang%28%3Fsbj_label%29+%3D+%27en%27%29++LIMIT+25&format=json\n",
      "ERROR:backoff:Giving up execute_sparql_query(...) after 1 tries (requests.exceptions.HTTPError: 400 Client Error: Bad Request for url: https://query.wikidata.org/sparql?query=%23Tool%3A+WikibaseIntegrator+wbi_functions.execute_sparql_query%0Aselect+distinct+%3Fsbj+where++%3Fsbj+wdt%3AP31+wd%3AQ220+.+%3Fsbj+wdt%3AP31+wd%3AQ220+&format=json)\n",
      "ERROR:root:HTTPError 400 Client Error: Bad Request for url: https://query.wikidata.org/sparql?query=%23Tool%3A+WikibaseIntegrator+wbi_functions.execute_sparql_query%0Aselect+distinct+%3Fsbj+where++%3Fsbj+wdt%3AP31+wd%3AQ220+.+%3Fsbj+wdt%3AP31+wd%3AQ220+&format=json\n"
     ]
    },
    {
     "name": "stdout",
     "output_type": "stream",
     "text": [
      "failed query SELECT DISTINCT ?sbj ?sbj_label WHERE  ?sbj wdt:P31 wd:Q31 . ?sbj rdfs:label ?sbj_label . FILTER(CONTAINS(lcase(?sbj_label), 'umhlanga')) . FILTER (lang(?sbj_label) = 'en')  LIMIT 25\n",
      "Failed query number 188\n",
      "failed query select distinct ?sbj where  ?sbj wdt:P31 wd:Q220 . ?sbj wdt:P31 wd:Q220 \n",
      "Failed query number 189\n"
     ]
    },
    {
     "name": "stderr",
     "output_type": "stream",
     "text": [
      "ERROR:backoff:Giving up execute_sparql_query(...) after 1 tries (requests.exceptions.HTTPError: 400 Client Error: Bad Request for url: https://query.wikidata.org/sparql?query=%23Tool%3A+WikibaseIntegrator+wbi_functions.execute_sparql_query%0Aselect+distinct+%3Fsbj+where++%3Fsbj+wdt%3AP31+wd%3AQ220+.+%3Fsbj+wdt%3AP31+wd%3AQ220+&format=json)\n",
      "ERROR:root:HTTPError 400 Client Error: Bad Request for url: https://query.wikidata.org/sparql?query=%23Tool%3A+WikibaseIntegrator+wbi_functions.execute_sparql_query%0Aselect+distinct+%3Fsbj+where++%3Fsbj+wdt%3AP31+wd%3AQ220+.+%3Fsbj+wdt%3AP31+wd%3AQ220+&format=json\n",
      "ERROR:backoff:Giving up execute_sparql_query(...) after 1 tries (requests.exceptions.HTTPError: 400 Client Error: Bad Request for url: https://query.wikidata.org/sparql?query=%23Tool%3A+WikibaseIntegrator+wbi_functions.execute_sparql_query%0ASELECT+DISTINCT+%3Fsbj+%3Fsbj_label+WHERE++%3Fsbj+wdt%3AP31+wd%3AQ220+.+%3Fsbj+rdfs%3Alabel+%3Fsbj_label+.+FILTER%28CONTAINS%28lcase%28%3Fsbj_label%29%2C+%27wdt%3AP31+wd%3AQ25959%27%29%29+.+FILTER+%28lang&format=json)\n",
      "ERROR:root:HTTPError 400 Client Error: Bad Request for url: https://query.wikidata.org/sparql?query=%23Tool%3A+WikibaseIntegrator+wbi_functions.execute_sparql_query%0ASELECT+DISTINCT+%3Fsbj+%3Fsbj_label+WHERE++%3Fsbj+wdt%3AP31+wd%3AQ220+.+%3Fsbj+rdfs%3Alabel+%3Fsbj_label+.+FILTER%28CONTAINS%28lcase%28%3Fsbj_label%29%2C+%27wdt%3AP31+wd%3AQ25959%27%29%29+.+FILTER+%28lang&format=json\n"
     ]
    },
    {
     "name": "stdout",
     "output_type": "stream",
     "text": [
      "failed query select distinct ?sbj where  ?sbj wdt:P31 wd:Q220 . ?sbj wdt:P31 wd:Q220 \n",
      "Failed query number 190\n",
      "failed query SELECT DISTINCT ?sbj ?sbj_label WHERE  ?sbj wdt:P31 wd:Q220 . ?sbj rdfs:label ?sbj_label . FILTER(CONTAINS(lcase(?sbj_label), 'wdt:P31 wd:Q25959')) . FILTER (lang\n",
      "Failed query number 191\n"
     ]
    },
    {
     "name": "stderr",
     "output_type": "stream",
     "text": [
      "ERROR:backoff:Giving up execute_sparql_query(...) after 1 tries (requests.exceptions.HTTPError: 400 Client Error: Bad Request for url: https://query.wikidata.org/sparql?query=%23Tool%3A+WikibaseIntegrator+wbi_functions.execute_sparql_query%0Aselect+distinct+%3Fsbj+where++%3Fsbj+wdt%3AP31+wd%3AQ220+.+%3Fsbj+wdt%3AP31+wd%3AQ220+&format=json)\n",
      "ERROR:root:HTTPError 400 Client Error: Bad Request for url: https://query.wikidata.org/sparql?query=%23Tool%3A+WikibaseIntegrator+wbi_functions.execute_sparql_query%0Aselect+distinct+%3Fsbj+where++%3Fsbj+wdt%3AP31+wd%3AQ220+.+%3Fsbj+wdt%3AP31+wd%3AQ220+&format=json\n",
      "ERROR:backoff:Giving up execute_sparql_query(...) after 1 tries (requests.exceptions.HTTPError: 400 Client Error: Bad Request for url: https://query.wikidata.org/sparql?query=%23Tool%3A+WikibaseIntegrator+wbi_functions.execute_sparql_query%0ASELECT+%28COUNT%28%3Fsub%29+AS+%3Fvalue+%29++%3Fsub+wdt%3AP31+wd%3AQ335+&format=json)\n",
      "ERROR:root:HTTPError 400 Client Error: Bad Request for url: https://query.wikidata.org/sparql?query=%23Tool%3A+WikibaseIntegrator+wbi_functions.execute_sparql_query%0ASELECT+%28COUNT%28%3Fsub%29+AS+%3Fvalue+%29++%3Fsub+wdt%3AP31+wd%3AQ335+&format=json\n"
     ]
    },
    {
     "name": "stdout",
     "output_type": "stream",
     "text": [
      "failed query select distinct ?sbj where  ?sbj wdt:P31 wd:Q220 . ?sbj wdt:P31 wd:Q220 \n",
      "Failed query number 192\n",
      "failed query SELECT (COUNT(?sub) AS ?value )  ?sub wdt:P31 wd:Q335 \n",
      "Failed query number 193\n"
     ]
    },
    {
     "name": "stderr",
     "output_type": "stream",
     "text": [
      "ERROR:backoff:Giving up execute_sparql_query(...) after 1 tries (requests.exceptions.HTTPError: 400 Client Error: Bad Request for url: https://query.wikidata.org/sparql?query=%23Tool%3A+WikibaseIntegrator+wbi_functions.execute_sparql_query%0Aselect+distinct+%3Fsbj+where++%3Fsbj+wdt%3AP31+wd%3AQ220+.+%3Fsbj+wdt%3AP31+wd%3AQ220+&format=json)\n",
      "ERROR:root:HTTPError 400 Client Error: Bad Request for url: https://query.wikidata.org/sparql?query=%23Tool%3A+WikibaseIntegrator+wbi_functions.execute_sparql_query%0Aselect+distinct+%3Fsbj+where++%3Fsbj+wdt%3AP31+wd%3AQ220+.+%3Fsbj+wdt%3AP31+wd%3AQ220+&format=json\n",
      "ERROR:backoff:Giving up execute_sparql_query(...) after 1 tries (requests.exceptions.HTTPError: 400 Client Error: Bad Request for url: https://query.wikidata.org/sparql?query=%23Tool%3A+WikibaseIntegrator+wbi_functions.execute_sparql_query%0Aselect+distinct+%3Fsbj+where++%3Fsbj+wdt%3AP31+wd%3AQ335+.+%3Fsbj+wdt%3AP31+wd%3AQ335+&format=json)\n",
      "ERROR:root:HTTPError 400 Client Error: Bad Request for url: https://query.wikidata.org/sparql?query=%23Tool%3A+WikibaseIntegrator+wbi_functions.execute_sparql_query%0Aselect+distinct+%3Fsbj+where++%3Fsbj+wdt%3AP31+wd%3AQ335+.+%3Fsbj+wdt%3AP31+wd%3AQ335+&format=json\n"
     ]
    },
    {
     "name": "stdout",
     "output_type": "stream",
     "text": [
      "failed query select distinct ?sbj where  ?sbj wdt:P31 wd:Q220 . ?sbj wdt:P31 wd:Q220 \n",
      "Failed query number 194\n",
      "failed query select distinct ?sbj where  ?sbj wdt:P31 wd:Q335 . ?sbj wdt:P31 wd:Q335 \n",
      "Failed query number 195\n"
     ]
    },
    {
     "name": "stderr",
     "output_type": "stream",
     "text": [
      "ERROR:backoff:Giving up execute_sparql_query(...) after 1 tries (requests.exceptions.HTTPError: 400 Client Error: Bad Request for url: https://query.wikidata.org/sparql?query=%23Tool%3A+WikibaseIntegrator+wbi_functions.execute_sparql_query%0Aselect+distinct+%3Fsbj+where++%3Fsbj+wdt%3AP31+wd%3AQ220+.+%3Fsbj+wdt%3AP31+wd%3AQ220+&format=json)\n",
      "ERROR:root:HTTPError 400 Client Error: Bad Request for url: https://query.wikidata.org/sparql?query=%23Tool%3A+WikibaseIntegrator+wbi_functions.execute_sparql_query%0Aselect+distinct+%3Fsbj+where++%3Fsbj+wdt%3AP31+wd%3AQ220+.+%3Fsbj+wdt%3AP31+wd%3AQ220+&format=json\n",
      "ERROR:backoff:Giving up execute_sparql_query(...) after 1 tries (requests.exceptions.HTTPError: 400 Client Error: Bad Request for url: https://query.wikidata.org/sparql?query=%23Tool%3A+WikibaseIntegrator+wbi_functions.execute_sparql_query%0ASELECT+DISTINCT+%3Fsbj+%3Fsbj_label+WHERE++%3Fsbj+wdt%3AP31+wd%3AQ31+.+%3Fsbj+rdfs%3Alabel+%3Fsbj_label+.+FILTER%28CONTAINS%28lcase%28%3Fsbj_label%29%2C+%27team%27%29%29+.+FILTER+%28lang%28%3Fsbj_label%29+%3D+%27team%27%29%29++LIMIT+25&format=json)\n",
      "ERROR:root:HTTPError 400 Client Error: Bad Request for url: https://query.wikidata.org/sparql?query=%23Tool%3A+WikibaseIntegrator+wbi_functions.execute_sparql_query%0ASELECT+DISTINCT+%3Fsbj+%3Fsbj_label+WHERE++%3Fsbj+wdt%3AP31+wd%3AQ31+.+%3Fsbj+rdfs%3Alabel+%3Fsbj_label+.+FILTER%28CONTAINS%28lcase%28%3Fsbj_label%29%2C+%27team%27%29%29+.+FILTER+%28lang%28%3Fsbj_label%29+%3D+%27team%27%29%29++LIMIT+25&format=json\n"
     ]
    },
    {
     "name": "stdout",
     "output_type": "stream",
     "text": [
      "failed query select distinct ?sbj where  ?sbj wdt:P31 wd:Q220 . ?sbj wdt:P31 wd:Q220 \n",
      "Failed query number 196\n",
      "failed query SELECT DISTINCT ?sbj ?sbj_label WHERE  ?sbj wdt:P31 wd:Q31 . ?sbj rdfs:label ?sbj_label . FILTER(CONTAINS(lcase(?sbj_label), 'team')) . FILTER (lang(?sbj_label) = 'team'))  LIMIT 25\n",
      "Failed query number 197\n"
     ]
    },
    {
     "name": "stderr",
     "output_type": "stream",
     "text": [
      "ERROR:backoff:Giving up execute_sparql_query(...) after 1 tries (requests.exceptions.HTTPError: 400 Client Error: Bad Request for url: https://query.wikidata.org/sparql?query=%23Tool%3A+WikibaseIntegrator+wbi_functions.execute_sparql_query%0ASELECT+DISTINCT+%3Fsbj+%3Fsbj_label+WHERE++%3Fsbj+wdt%3AP31+wd%3AQ31+.+%3Fsbj+rdfs%3Alabel+%3Fsbj_label+.+FILTER%28STRSTARTS%28lcase%28%3Fsbj_label%29%2C+%27c%27%29%29+.+FILTER+%28lang%28%3Fsbj_label%29+%3D+%27en%27%29++LIMIT+25&format=json)\n",
      "ERROR:root:HTTPError 400 Client Error: Bad Request for url: https://query.wikidata.org/sparql?query=%23Tool%3A+WikibaseIntegrator+wbi_functions.execute_sparql_query%0ASELECT+DISTINCT+%3Fsbj+%3Fsbj_label+WHERE++%3Fsbj+wdt%3AP31+wd%3AQ31+.+%3Fsbj+rdfs%3Alabel+%3Fsbj_label+.+FILTER%28STRSTARTS%28lcase%28%3Fsbj_label%29%2C+%27c%27%29%29+.+FILTER+%28lang%28%3Fsbj_label%29+%3D+%27en%27%29++LIMIT+25&format=json\n"
     ]
    },
    {
     "name": "stdout",
     "output_type": "stream",
     "text": [
      "failed query SELECT DISTINCT ?sbj ?sbj_label WHERE  ?sbj wdt:P31 wd:Q31 . ?sbj rdfs:label ?sbj_label . FILTER(STRSTARTS(lcase(?sbj_label), 'c')) . FILTER (lang(?sbj_label) = 'en')  LIMIT 25\n",
      "Failed query number 198\n"
     ]
    },
    {
     "name": "stderr",
     "output_type": "stream",
     "text": [
      "ERROR:backoff:Giving up execute_sparql_query(...) after 1 tries (requests.exceptions.HTTPError: 400 Client Error: Bad Request for url: https://query.wikidata.org/sparql?query=%23Tool%3A+WikibaseIntegrator+wbi_functions.execute_sparql_query%0Aselect+distinct+%3Fsbj+where++%3Fsbj+wdt%3AP31+wd%3AQ220+.+%3Fsbj+wdt%3AP31+wd%3AQ220+&format=json)\n",
      "ERROR:root:HTTPError 400 Client Error: Bad Request for url: https://query.wikidata.org/sparql?query=%23Tool%3A+WikibaseIntegrator+wbi_functions.execute_sparql_query%0Aselect+distinct+%3Fsbj+where++%3Fsbj+wdt%3AP31+wd%3AQ220+.+%3Fsbj+wdt%3AP31+wd%3AQ220+&format=json\n",
      "ERROR:backoff:Giving up execute_sparql_query(...) after 1 tries (requests.exceptions.HTTPError: 400 Client Error: Bad Request for url: https://query.wikidata.org/sparql?query=%23Tool%3A+WikibaseIntegrator+wbi_functions.execute_sparql_query%0Aselect+distinct+%3Fsbj+where++%3Fsbj+wdt%3AP31+wd%3AQ220+.+%3Fsbj+wdt%3AP31+wd%3AQ220+&format=json)\n",
      "ERROR:root:HTTPError 400 Client Error: Bad Request for url: https://query.wikidata.org/sparql?query=%23Tool%3A+WikibaseIntegrator+wbi_functions.execute_sparql_query%0Aselect+distinct+%3Fsbj+where++%3Fsbj+wdt%3AP31+wd%3AQ220+.+%3Fsbj+wdt%3AP31+wd%3AQ220+&format=json\n"
     ]
    },
    {
     "name": "stdout",
     "output_type": "stream",
     "text": [
      "failed query select distinct ?sbj where  ?sbj wdt:P31 wd:Q220 . ?sbj wdt:P31 wd:Q220 \n",
      "Failed query number 199\n",
      "failed query select distinct ?sbj where  ?sbj wdt:P31 wd:Q220 . ?sbj wdt:P31 wd:Q220 \n",
      "Failed query number 200\n"
     ]
    },
    {
     "name": "stderr",
     "output_type": "stream",
     "text": [
      "ERROR:backoff:Giving up execute_sparql_query(...) after 1 tries (requests.exceptions.HTTPError: 400 Client Error: Bad Request for url: https://query.wikidata.org/sparql?query=%23Tool%3A+WikibaseIntegrator+wbi_functions.execute_sparql_query%0ASELECT+%3Fanswer+WHERE++wd%3AQ220+wdt%3AP31+%3Fanswer+.+%3Fanswer+wdt%3AP31+wd%3AQ220+&format=json)\n",
      "ERROR:root:HTTPError 400 Client Error: Bad Request for url: https://query.wikidata.org/sparql?query=%23Tool%3A+WikibaseIntegrator+wbi_functions.execute_sparql_query%0ASELECT+%3Fanswer+WHERE++wd%3AQ220+wdt%3AP31+%3Fanswer+.+%3Fanswer+wdt%3AP31+wd%3AQ220+&format=json\n",
      "ERROR:backoff:Giving up execute_sparql_query(...) after 1 tries (requests.exceptions.HTTPError: 400 Client Error: Bad Request for url: https://query.wikidata.org/sparql?query=%23Tool%3A+WikibaseIntegrator+wbi_functions.execute_sparql_query%0ASELECT+%3Fanswer+WHERE++wd%3AQ220+wdt%3AP31+%3Fanswer+.+%3Fanswer+wdt%3AP31+wd%3AQ220+&format=json)\n",
      "ERROR:root:HTTPError 400 Client Error: Bad Request for url: https://query.wikidata.org/sparql?query=%23Tool%3A+WikibaseIntegrator+wbi_functions.execute_sparql_query%0ASELECT+%3Fanswer+WHERE++wd%3AQ220+wdt%3AP31+%3Fanswer+.+%3Fanswer+wdt%3AP31+wd%3AQ220+&format=json\n"
     ]
    },
    {
     "name": "stdout",
     "output_type": "stream",
     "text": [
      "failed query SELECT ?answer WHERE  wd:Q220 wdt:P31 ?answer . ?answer wdt:P31 wd:Q220 \n",
      "Failed query number 201\n",
      "failed query SELECT ?answer WHERE  wd:Q220 wdt:P31 ?answer . ?answer wdt:P31 wd:Q220 \n",
      "Failed query number 202\n"
     ]
    },
    {
     "name": "stderr",
     "output_type": "stream",
     "text": [
      "ERROR:backoff:Giving up execute_sparql_query(...) after 1 tries (requests.exceptions.HTTPError: 400 Client Error: Bad Request for url: https://query.wikidata.org/sparql?query=%23Tool%3A+WikibaseIntegrator+wbi_functions.execute_sparql_query%0Aselect+distinct+%3Fsbj+where++%3Fsbj+wdt%3AP31+wd%3AQ220+.+%3Fsbj+wdt%3AP31+wd%3AQ220+&format=json)\n",
      "ERROR:root:HTTPError 400 Client Error: Bad Request for url: https://query.wikidata.org/sparql?query=%23Tool%3A+WikibaseIntegrator+wbi_functions.execute_sparql_query%0Aselect+distinct+%3Fsbj+where++%3Fsbj+wdt%3AP31+wd%3AQ220+.+%3Fsbj+wdt%3AP31+wd%3AQ220+&format=json\n",
      "ERROR:backoff:Giving up execute_sparql_query(...) after 1 tries (requests.exceptions.HTTPError: 400 Client Error: Bad Request for url: https://query.wikidata.org/sparql?query=%23Tool%3A+WikibaseIntegrator+wbi_functions.execute_sparql_query%0ASELECT+DISTINCT+%3Fsbj+%3Fsbj_label+WHERE++%3Fsbj+wdt%3AP31+wd%3AQ347+.+%3Fsbj+rdfs%3Alabel+%3Fsbj_label+.+FILTER%28STRSTARTS%28lcase%28%3Fsbj_label%29%2C+%2737400%27%29%29+.+FILTER+%28lang%28%3Fsbj_label%29+%3D+37400&format=json)\n",
      "ERROR:root:HTTPError 400 Client Error: Bad Request for url: https://query.wikidata.org/sparql?query=%23Tool%3A+WikibaseIntegrator+wbi_functions.execute_sparql_query%0ASELECT+DISTINCT+%3Fsbj+%3Fsbj_label+WHERE++%3Fsbj+wdt%3AP31+wd%3AQ347+.+%3Fsbj+rdfs%3Alabel+%3Fsbj_label+.+FILTER%28STRSTARTS%28lcase%28%3Fsbj_label%29%2C+%2737400%27%29%29+.+FILTER+%28lang%28%3Fsbj_label%29+%3D+37400&format=json\n"
     ]
    },
    {
     "name": "stdout",
     "output_type": "stream",
     "text": [
      "failed query select distinct ?sbj where  ?sbj wdt:P31 wd:Q220 . ?sbj wdt:P31 wd:Q220 \n",
      "Failed query number 203\n",
      "failed query SELECT DISTINCT ?sbj ?sbj_label WHERE  ?sbj wdt:P31 wd:Q347 . ?sbj rdfs:label ?sbj_label . FILTER(STRSTARTS(lcase(?sbj_label), '37400')) . FILTER (lang(?sbj_label) = 37400\n",
      "Failed query number 204\n"
     ]
    },
    {
     "name": "stderr",
     "output_type": "stream",
     "text": [
      "ERROR:backoff:Giving up execute_sparql_query(...) after 1 tries (requests.exceptions.HTTPError: 400 Client Error: Bad Request for url: https://query.wikidata.org/sparql?query=%23Tool%3A+WikibaseIntegrator+wbi_functions.execute_sparql_query%0Aselect+distinct+%3Fsbj+where++%3Fsbj+wdt%3AP31+wd%3AQ220+.+%3Fsbj+wdt%3AP31+wd%3AQ220+&format=json)\n",
      "ERROR:root:HTTPError 400 Client Error: Bad Request for url: https://query.wikidata.org/sparql?query=%23Tool%3A+WikibaseIntegrator+wbi_functions.execute_sparql_query%0Aselect+distinct+%3Fsbj+where++%3Fsbj+wdt%3AP31+wd%3AQ220+.+%3Fsbj+wdt%3AP31+wd%3AQ220+&format=json\n",
      "ERROR:backoff:Giving up execute_sparql_query(...) after 1 tries (requests.exceptions.HTTPError: 400 Client Error: Bad Request for url: https://query.wikidata.org/sparql?query=%23Tool%3A+WikibaseIntegrator+wbi_functions.execute_sparql_query%0ASELECT+DISTINCT+%3Fsbj+%3Fsbj_label+WHERE++%3Fsbj+wdt%3AP31+wd%3AQ335+.+%3Fsbj+rdfs%3Alabel+%3Fsbj_label+.+FILTER%28CONTAINS%28lcase%28%3Fsbj_label%29%2C+%27marathon%27%29%29+.+FILTER+%28lang%28%3Fsbj_label%29+%3D+%27en%27%29++LIMIT+25&format=json)\n",
      "ERROR:root:HTTPError 400 Client Error: Bad Request for url: https://query.wikidata.org/sparql?query=%23Tool%3A+WikibaseIntegrator+wbi_functions.execute_sparql_query%0ASELECT+DISTINCT+%3Fsbj+%3Fsbj_label+WHERE++%3Fsbj+wdt%3AP31+wd%3AQ335+.+%3Fsbj+rdfs%3Alabel+%3Fsbj_label+.+FILTER%28CONTAINS%28lcase%28%3Fsbj_label%29%2C+%27marathon%27%29%29+.+FILTER+%28lang%28%3Fsbj_label%29+%3D+%27en%27%29++LIMIT+25&format=json\n"
     ]
    },
    {
     "name": "stdout",
     "output_type": "stream",
     "text": [
      "failed query select distinct ?sbj where  ?sbj wdt:P31 wd:Q220 . ?sbj wdt:P31 wd:Q220 \n",
      "Failed query number 205\n",
      "failed query SELECT DISTINCT ?sbj ?sbj_label WHERE  ?sbj wdt:P31 wd:Q335 . ?sbj rdfs:label ?sbj_label . FILTER(CONTAINS(lcase(?sbj_label), 'marathon')) . FILTER (lang(?sbj_label) = 'en')  LIMIT 25\n",
      "Failed query number 206\n"
     ]
    },
    {
     "name": "stderr",
     "output_type": "stream",
     "text": [
      "ERROR:backoff:Giving up execute_sparql_query(...) after 1 tries (requests.exceptions.HTTPError: 400 Client Error: Bad Request for url: https://query.wikidata.org/sparql?query=%23Tool%3A+WikibaseIntegrator+wbi_functions.execute_sparql_query%0ASELECT+%28COUNT%28%3Fobj%29+AS+%3Fvalue+%29+&format=json)\n",
      "ERROR:root:HTTPError 400 Client Error: Bad Request for url: https://query.wikidata.org/sparql?query=%23Tool%3A+WikibaseIntegrator+wbi_functions.execute_sparql_query%0ASELECT+%28COUNT%28%3Fobj%29+AS+%3Fvalue+%29+&format=json\n",
      "ERROR:backoff:Giving up execute_sparql_query(...) after 1 tries (requests.exceptions.HTTPError: 400 Client Error: Bad Request for url: https://query.wikidata.org/sparql?query=%23Tool%3A+WikibaseIntegrator+wbi_functions.execute_sparql_query%0Aselect+distinct+%3Fsbj+where++%3Fsbj+wdt%3AP31+wd%3AQ220+.+%3Fsbj+wdt%3AP31+wd%3AQ220+&format=json)\n",
      "ERROR:root:HTTPError 400 Client Error: Bad Request for url: https://query.wikidata.org/sparql?query=%23Tool%3A+WikibaseIntegrator+wbi_functions.execute_sparql_query%0Aselect+distinct+%3Fsbj+where++%3Fsbj+wdt%3AP31+wd%3AQ220+.+%3Fsbj+wdt%3AP31+wd%3AQ220+&format=json\n"
     ]
    },
    {
     "name": "stdout",
     "output_type": "stream",
     "text": [
      "failed query SELECT (COUNT(?obj) AS ?value ) \n",
      "Failed query number 207\n",
      "failed query select distinct ?sbj where  ?sbj wdt:P31 wd:Q220 . ?sbj wdt:P31 wd:Q220 \n",
      "Failed query number 208\n"
     ]
    },
    {
     "name": "stderr",
     "output_type": "stream",
     "text": [
      "ERROR:backoff:Giving up execute_sparql_query(...) after 1 tries (requests.exceptions.HTTPError: 400 Client Error: Bad Request for url: https://query.wikidata.org/sparql?query=%23Tool%3A+WikibaseIntegrator+wbi_functions.execute_sparql_query%0ASELECT+DISTINCT+%3Fsbj+%3Fsbj_label+WHERE++%3Fsbj+wdt%3AP31+wd%3AQ220+.+%3Fsbj+rdfs%3Alabel+%3Fsbj_label+.+FILTER%28STRSTARTS%28lcase%28%3Fsbj_label%29%2C+%2748.8363848+2.4697602%27%29%29+.+FILTER+%28lang%28%3F&format=json)\n",
      "ERROR:root:HTTPError 400 Client Error: Bad Request for url: https://query.wikidata.org/sparql?query=%23Tool%3A+WikibaseIntegrator+wbi_functions.execute_sparql_query%0ASELECT+DISTINCT+%3Fsbj+%3Fsbj_label+WHERE++%3Fsbj+wdt%3AP31+wd%3AQ220+.+%3Fsbj+rdfs%3Alabel+%3Fsbj_label+.+FILTER%28STRSTARTS%28lcase%28%3Fsbj_label%29%2C+%2748.8363848+2.4697602%27%29%29+.+FILTER+%28lang%28%3F&format=json\n",
      "ERROR:backoff:Giving up execute_sparql_query(...) after 1 tries (requests.exceptions.HTTPError: 400 Client Error: Bad Request for url: https://query.wikidata.org/sparql?query=%23Tool%3A+WikibaseIntegrator+wbi_functions.execute_sparql_query%0ASELECT+DISTINCT+%3Fsbj+%3Fsbj_label+WHERE++%3Fsbj+wdt%3AP31+wd%3AQ31+.+%3Fsbj+rdfs%3Alabel+%3Fsbj_label+.+FILTER%28STRSTARTS%28lcase%28%3Fsbj_label%29%2C+%27o%27%29%29+.+FILTER+%28lang%28%3Fsbj_label%29+%3D+%27o%27%29++LIMIT+25&format=json)\n",
      "ERROR:root:HTTPError 400 Client Error: Bad Request for url: https://query.wikidata.org/sparql?query=%23Tool%3A+WikibaseIntegrator+wbi_functions.execute_sparql_query%0ASELECT+DISTINCT+%3Fsbj+%3Fsbj_label+WHERE++%3Fsbj+wdt%3AP31+wd%3AQ31+.+%3Fsbj+rdfs%3Alabel+%3Fsbj_label+.+FILTER%28STRSTARTS%28lcase%28%3Fsbj_label%29%2C+%27o%27%29%29+.+FILTER+%28lang%28%3Fsbj_label%29+%3D+%27o%27%29++LIMIT+25&format=json\n"
     ]
    },
    {
     "name": "stdout",
     "output_type": "stream",
     "text": [
      "failed query SELECT DISTINCT ?sbj ?sbj_label WHERE  ?sbj wdt:P31 wd:Q220 . ?sbj rdfs:label ?sbj_label . FILTER(STRSTARTS(lcase(?sbj_label), '48.8363848 2.4697602')) . FILTER (lang(?\n",
      "Failed query number 209\n",
      "failed query SELECT DISTINCT ?sbj ?sbj_label WHERE  ?sbj wdt:P31 wd:Q31 . ?sbj rdfs:label ?sbj_label . FILTER(STRSTARTS(lcase(?sbj_label), 'o')) . FILTER (lang(?sbj_label) = 'o')  LIMIT 25\n",
      "Failed query number 210\n"
     ]
    },
    {
     "name": "stderr",
     "output_type": "stream",
     "text": [
      "ERROR:backoff:Giving up execute_sparql_query(...) after 1 tries (requests.exceptions.HTTPError: 400 Client Error: Bad Request for url: https://query.wikidata.org/sparql?query=%23Tool%3A+WikibaseIntegrator+wbi_functions.execute_sparql_query%0ASELECT+%3Fanswer+WHERE++wd%3AQ347+wdt%3AP31+%3Fanswer+.+%3Fanswer+wdt%3AP3131&format=json)\n",
      "ERROR:root:HTTPError 400 Client Error: Bad Request for url: https://query.wikidata.org/sparql?query=%23Tool%3A+WikibaseIntegrator+wbi_functions.execute_sparql_query%0ASELECT+%3Fanswer+WHERE++wd%3AQ347+wdt%3AP31+%3Fanswer+.+%3Fanswer+wdt%3AP3131&format=json\n",
      "ERROR:backoff:Giving up execute_sparql_query(...) after 1 tries (requests.exceptions.HTTPError: 400 Client Error: Bad Request for url: https://query.wikidata.org/sparql?query=%23Tool%3A+WikibaseIntegrator+wbi_functions.execute_sparql_query%0Aselect+distinct+%3Fsbj+where++%3Fsbj+wdt%3AP31+wd%3AQ220+.+%3Fsbj+wdt%3AP31+wd%3AQ220+&format=json)\n",
      "ERROR:root:HTTPError 400 Client Error: Bad Request for url: https://query.wikidata.org/sparql?query=%23Tool%3A+WikibaseIntegrator+wbi_functions.execute_sparql_query%0Aselect+distinct+%3Fsbj+where++%3Fsbj+wdt%3AP31+wd%3AQ220+.+%3Fsbj+wdt%3AP31+wd%3AQ220+&format=json\n"
     ]
    },
    {
     "name": "stdout",
     "output_type": "stream",
     "text": [
      "failed query SELECT ?answer WHERE  wd:Q347 wdt:P31 ?answer . ?answer wdt:P3131\n",
      "Failed query number 211\n",
      "failed query select distinct ?sbj where  ?sbj wdt:P31 wd:Q220 . ?sbj wdt:P31 wd:Q220 \n",
      "Failed query number 212\n"
     ]
    },
    {
     "name": "stderr",
     "output_type": "stream",
     "text": [
      "ERROR:backoff:Giving up execute_sparql_query(...) after 1 tries (requests.exceptions.HTTPError: 400 Client Error: Bad Request for url: https://query.wikidata.org/sparql?query=%23Tool%3A+WikibaseIntegrator+wbi_functions.execute_sparql_query%0Aselect+distinct+%3Fsbj+where++%3Fsbj+wdt%3AP31+wd%3AQ220+.+%3Fsbj+wdt%3AP31+wd%3AQ220+&format=json)\n",
      "ERROR:root:HTTPError 400 Client Error: Bad Request for url: https://query.wikidata.org/sparql?query=%23Tool%3A+WikibaseIntegrator+wbi_functions.execute_sparql_query%0Aselect+distinct+%3Fsbj+where++%3Fsbj+wdt%3AP31+wd%3AQ220+.+%3Fsbj+wdt%3AP31+wd%3AQ220+&format=json\n",
      "ERROR:backoff:Giving up execute_sparql_query(...) after 1 tries (requests.exceptions.HTTPError: 400 Client Error: Bad Request for url: https://query.wikidata.org/sparql?query=%23Tool%3A+WikibaseIntegrator+wbi_functions.execute_sparql_query%0ASELECT+DISTINCT+%3Fsbj+%3Fsbj_label+WHERE++%3Fsbj+wdt%3AP31+wd%3AQ220+.+%3Fsbj+rdfs%3Alabel+%3Fsbj_label+.+FILTER%28STRSTARTS%28lcase%28%3Fsbj_label%29%2C+%275%27%29%29+.+FILTER+%28lang%28%3Fsbj_label%29+%3D+%27en%27%29++LIMIT+25&format=json)\n",
      "ERROR:root:HTTPError 400 Client Error: Bad Request for url: https://query.wikidata.org/sparql?query=%23Tool%3A+WikibaseIntegrator+wbi_functions.execute_sparql_query%0ASELECT+DISTINCT+%3Fsbj+%3Fsbj_label+WHERE++%3Fsbj+wdt%3AP31+wd%3AQ220+.+%3Fsbj+rdfs%3Alabel+%3Fsbj_label+.+FILTER%28STRSTARTS%28lcase%28%3Fsbj_label%29%2C+%275%27%29%29+.+FILTER+%28lang%28%3Fsbj_label%29+%3D+%27en%27%29++LIMIT+25&format=json\n"
     ]
    },
    {
     "name": "stdout",
     "output_type": "stream",
     "text": [
      "failed query select distinct ?sbj where  ?sbj wdt:P31 wd:Q220 . ?sbj wdt:P31 wd:Q220 \n",
      "Failed query number 213\n",
      "failed query SELECT DISTINCT ?sbj ?sbj_label WHERE  ?sbj wdt:P31 wd:Q220 . ?sbj rdfs:label ?sbj_label . FILTER(STRSTARTS(lcase(?sbj_label), '5')) . FILTER (lang(?sbj_label) = 'en')  LIMIT 25\n",
      "Failed query number 214\n"
     ]
    },
    {
     "name": "stderr",
     "output_type": "stream",
     "text": [
      "ERROR:backoff:Giving up execute_sparql_query(...) after 1 tries (requests.exceptions.HTTPError: 400 Client Error: Bad Request for url: https://query.wikidata.org/sparql?query=%23Tool%3A+WikibaseIntegrator+wbi_functions.execute_sparql_query%0Aselect+distinct+%3Fsbj+where++%3Fsbj+wdt%3AP31+wd%3AQ220+.+%3Fsbj+wdt%3AP31+wd%3AQ220+&format=json)\n",
      "ERROR:root:HTTPError 400 Client Error: Bad Request for url: https://query.wikidata.org/sparql?query=%23Tool%3A+WikibaseIntegrator+wbi_functions.execute_sparql_query%0Aselect+distinct+%3Fsbj+where++%3Fsbj+wdt%3AP31+wd%3AQ220+.+%3Fsbj+wdt%3AP31+wd%3AQ220+&format=json\n",
      "ERROR:backoff:Giving up execute_sparql_query(...) after 1 tries (requests.exceptions.HTTPError: 400 Client Error: Bad Request for url: https://query.wikidata.org/sparql?query=%23Tool%3A+WikibaseIntegrator+wbi_functions.execute_sparql_query%0ASELECT+DISTINCT+%3Fsbj+%3Fsbj_label+WHERE++%3Fsbj+wdt%3AP31+wd%3AQ220+.+%3Fsbj+rdfs%3Alabel+%3Fsbj_label+.+FILTER%28CONTAINS%28lcase%28%3Fsbj_label%29%2C+%27wdt%3AP31+wd%3AQ25959%27%29%29+.+FILTER+%28lang&format=json)\n",
      "ERROR:root:HTTPError 400 Client Error: Bad Request for url: https://query.wikidata.org/sparql?query=%23Tool%3A+WikibaseIntegrator+wbi_functions.execute_sparql_query%0ASELECT+DISTINCT+%3Fsbj+%3Fsbj_label+WHERE++%3Fsbj+wdt%3AP31+wd%3AQ220+.+%3Fsbj+rdfs%3Alabel+%3Fsbj_label+.+FILTER%28CONTAINS%28lcase%28%3Fsbj_label%29%2C+%27wdt%3AP31+wd%3AQ25959%27%29%29+.+FILTER+%28lang&format=json\n"
     ]
    },
    {
     "name": "stdout",
     "output_type": "stream",
     "text": [
      "failed query select distinct ?sbj where  ?sbj wdt:P31 wd:Q220 . ?sbj wdt:P31 wd:Q220 \n",
      "Failed query number 215\n",
      "failed query SELECT DISTINCT ?sbj ?sbj_label WHERE  ?sbj wdt:P31 wd:Q220 . ?sbj rdfs:label ?sbj_label . FILTER(CONTAINS(lcase(?sbj_label), 'wdt:P31 wd:Q25959')) . FILTER (lang\n",
      "Failed query number 216\n"
     ]
    },
    {
     "name": "stderr",
     "output_type": "stream",
     "text": [
      "ERROR:backoff:Giving up execute_sparql_query(...) after 1 tries (requests.exceptions.HTTPError: 400 Client Error: Bad Request for url: https://query.wikidata.org/sparql?query=%23Tool%3A+WikibaseIntegrator+wbi_functions.execute_sparql_query%0ASELECT+DISTINCT+%3Fsbj+%3Fsbj_label+WHERE++%3Fsbj+wdt%3AP31+wd%3AQ335+.+%3Fsbj+rdfs%3Alabel+%3Fsbj_label+.+FILTER%28CONTAINS%28lcase%28%3Fsbj_label%29%2C+%27aden%27%29%29+.+FILTER+%28lang%28%3Fsbj_label%29+%3D+%27en%27%29++LIMIT+25&format=json)\n",
      "ERROR:root:HTTPError 400 Client Error: Bad Request for url: https://query.wikidata.org/sparql?query=%23Tool%3A+WikibaseIntegrator+wbi_functions.execute_sparql_query%0ASELECT+DISTINCT+%3Fsbj+%3Fsbj_label+WHERE++%3Fsbj+wdt%3AP31+wd%3AQ335+.+%3Fsbj+rdfs%3Alabel+%3Fsbj_label+.+FILTER%28CONTAINS%28lcase%28%3Fsbj_label%29%2C+%27aden%27%29%29+.+FILTER+%28lang%28%3Fsbj_label%29+%3D+%27en%27%29++LIMIT+25&format=json\n",
      "ERROR:backoff:Giving up execute_sparql_query(...) after 1 tries (requests.exceptions.HTTPError: 400 Client Error: Bad Request for url: https://query.wikidata.org/sparql?query=%23Tool%3A+WikibaseIntegrator+wbi_functions.execute_sparql_query%0ASELECT+DISTINCT+%3Fsbj+%3Fsbj_label+WHERE++%3Fsbj+wdt%3AP31+wd%3AQ335+.+%3Fsbj+rdfs%3Alabel+%3Fsbj_label+.+FILTER%28STRSTARTS%28lcase%28%3Fsbj_label%29%2C+%272006%27%29%29+.+FILTER+%28lang%28%3Fsbj_label%29+%3D+2006+%27en%27%29++LIMIT+25&format=json)\n",
      "ERROR:root:HTTPError 400 Client Error: Bad Request for url: https://query.wikidata.org/sparql?query=%23Tool%3A+WikibaseIntegrator+wbi_functions.execute_sparql_query%0ASELECT+DISTINCT+%3Fsbj+%3Fsbj_label+WHERE++%3Fsbj+wdt%3AP31+wd%3AQ335+.+%3Fsbj+rdfs%3Alabel+%3Fsbj_label+.+FILTER%28STRSTARTS%28lcase%28%3Fsbj_label%29%2C+%272006%27%29%29+.+FILTER+%28lang%28%3Fsbj_label%29+%3D+2006+%27en%27%29++LIMIT+25&format=json\n"
     ]
    },
    {
     "name": "stdout",
     "output_type": "stream",
     "text": [
      "failed query SELECT DISTINCT ?sbj ?sbj_label WHERE  ?sbj wdt:P31 wd:Q335 . ?sbj rdfs:label ?sbj_label . FILTER(CONTAINS(lcase(?sbj_label), 'aden')) . FILTER (lang(?sbj_label) = 'en')  LIMIT 25\n",
      "Failed query number 217\n",
      "failed query SELECT DISTINCT ?sbj ?sbj_label WHERE  ?sbj wdt:P31 wd:Q335 . ?sbj rdfs:label ?sbj_label . FILTER(STRSTARTS(lcase(?sbj_label), '2006')) . FILTER (lang(?sbj_label) = 2006 'en')  LIMIT 25\n",
      "Failed query number 218\n"
     ]
    },
    {
     "name": "stderr",
     "output_type": "stream",
     "text": [
      "ERROR:backoff:Giving up execute_sparql_query(...) after 1 tries (requests.exceptions.HTTPError: 400 Client Error: Bad Request for url: https://query.wikidata.org/sparql?query=%23Tool%3A+WikibaseIntegrator+wbi_functions.execute_sparql_query%0ASELECT+%28COUNT%28%3Fsub%29+AS+%3Fvalue+%29++%3Fsub+wdt%3AP31+wd%3AQ335+&format=json)\n",
      "ERROR:root:HTTPError 400 Client Error: Bad Request for url: https://query.wikidata.org/sparql?query=%23Tool%3A+WikibaseIntegrator+wbi_functions.execute_sparql_query%0ASELECT+%28COUNT%28%3Fsub%29+AS+%3Fvalue+%29++%3Fsub+wdt%3AP31+wd%3AQ335+&format=json\n",
      "ERROR:backoff:Giving up execute_sparql_query(...) after 1 tries (requests.exceptions.HTTPError: 400 Client Error: Bad Request for url: https://query.wikidata.org/sparql?query=%23Tool%3A+WikibaseIntegrator+wbi_functions.execute_sparql_query%0Aselect+distinct+%3Fsbj+where++%3Fsbj+wdt%3AP31+wd%3AQ220+.+%3Fsbj+wdt%3AP31+wd%3AQ220+&format=json)\n",
      "ERROR:root:HTTPError 400 Client Error: Bad Request for url: https://query.wikidata.org/sparql?query=%23Tool%3A+WikibaseIntegrator+wbi_functions.execute_sparql_query%0Aselect+distinct+%3Fsbj+where++%3Fsbj+wdt%3AP31+wd%3AQ220+.+%3Fsbj+wdt%3AP31+wd%3AQ220+&format=json\n"
     ]
    },
    {
     "name": "stdout",
     "output_type": "stream",
     "text": [
      "failed query SELECT (COUNT(?sub) AS ?value )  ?sub wdt:P31 wd:Q335 \n",
      "Failed query number 219\n",
      "failed query select distinct ?sbj where  ?sbj wdt:P31 wd:Q220 . ?sbj wdt:P31 wd:Q220 \n",
      "Failed query number 220\n"
     ]
    },
    {
     "name": "stderr",
     "output_type": "stream",
     "text": [
      "ERROR:backoff:Giving up execute_sparql_query(...) after 1 tries (requests.exceptions.HTTPError: 400 Client Error: Bad Request for url: https://query.wikidata.org/sparql?query=%23Tool%3A+WikibaseIntegrator+wbi_functions.execute_sparql_query%0ASELECT+%3Fanswer+WHERE++wd%3AQ219+wdt%3AP31+wd%3AQ219+.+%3Fanswer+wdt%3AP31+wd%3AQ219+&format=json)\n",
      "ERROR:root:HTTPError 400 Client Error: Bad Request for url: https://query.wikidata.org/sparql?query=%23Tool%3A+WikibaseIntegrator+wbi_functions.execute_sparql_query%0ASELECT+%3Fanswer+WHERE++wd%3AQ219+wdt%3AP31+wd%3AQ219+.+%3Fanswer+wdt%3AP31+wd%3AQ219+&format=json\n",
      "ERROR:backoff:Giving up execute_sparql_query(...) after 1 tries (requests.exceptions.HTTPError: 400 Client Error: Bad Request for url: https://query.wikidata.org/sparql?query=%23Tool%3A+WikibaseIntegrator+wbi_functions.execute_sparql_query%0Aselect+distinct+%3Fsbj+where++%3Fsbj+wdt%3AP31+wd%3AQ220+.+%3Fsbj+wdt%3AP31+wd%3AQ220+&format=json)\n",
      "ERROR:root:HTTPError 400 Client Error: Bad Request for url: https://query.wikidata.org/sparql?query=%23Tool%3A+WikibaseIntegrator+wbi_functions.execute_sparql_query%0Aselect+distinct+%3Fsbj+where++%3Fsbj+wdt%3AP31+wd%3AQ220+.+%3Fsbj+wdt%3AP31+wd%3AQ220+&format=json\n"
     ]
    },
    {
     "name": "stdout",
     "output_type": "stream",
     "text": [
      "failed query SELECT ?answer WHERE  wd:Q219 wdt:P31 wd:Q219 . ?answer wdt:P31 wd:Q219 \n",
      "Failed query number 221\n",
      "failed query select distinct ?sbj where  ?sbj wdt:P31 wd:Q220 . ?sbj wdt:P31 wd:Q220 \n",
      "Failed query number 222\n"
     ]
    },
    {
     "name": "stderr",
     "output_type": "stream",
     "text": [
      "ERROR:backoff:Giving up execute_sparql_query(...) after 1 tries (requests.exceptions.HTTPError: 400 Client Error: Bad Request for url: https://query.wikidata.org/sparql?query=%23Tool%3A+WikibaseIntegrator+wbi_functions.execute_sparql_query%0ASELECT+DISTINCT+%3Fsbj+%3Fsbj_label+WHERE++%3Fsbj+wdt%3AP31+wd%3AQ220+.+%3Fsbj+rdfs%3Alabel+%3Fsbj_label+.+FILTER%28STRSTARTS%28lcase%28%3Fsbj_label%29%2C+%2724.0%27%29%29+.+FILTER+%28lang%28%3Fsbj_label%29+%3D+%27en%27%29++LIMIT+25&format=json)\n",
      "ERROR:root:HTTPError 400 Client Error: Bad Request for url: https://query.wikidata.org/sparql?query=%23Tool%3A+WikibaseIntegrator+wbi_functions.execute_sparql_query%0ASELECT+DISTINCT+%3Fsbj+%3Fsbj_label+WHERE++%3Fsbj+wdt%3AP31+wd%3AQ220+.+%3Fsbj+rdfs%3Alabel+%3Fsbj_label+.+FILTER%28STRSTARTS%28lcase%28%3Fsbj_label%29%2C+%2724.0%27%29%29+.+FILTER+%28lang%28%3Fsbj_label%29+%3D+%27en%27%29++LIMIT+25&format=json\n",
      "ERROR:backoff:Giving up execute_sparql_query(...) after 1 tries (requests.exceptions.HTTPError: 400 Client Error: Bad Request for url: https://query.wikidata.org/sparql?query=%23Tool%3A+WikibaseIntegrator+wbi_functions.execute_sparql_query%0Aselect+distinct+%3Fsbj+where++%3Fsbj+wdt%3AP31+wd%3AQ220+.+%3Fsbj+wdt%3AP31+wd%3AQ220+&format=json)\n",
      "ERROR:root:HTTPError 400 Client Error: Bad Request for url: https://query.wikidata.org/sparql?query=%23Tool%3A+WikibaseIntegrator+wbi_functions.execute_sparql_query%0Aselect+distinct+%3Fsbj+where++%3Fsbj+wdt%3AP31+wd%3AQ220+.+%3Fsbj+wdt%3AP31+wd%3AQ220+&format=json\n"
     ]
    },
    {
     "name": "stdout",
     "output_type": "stream",
     "text": [
      "failed query SELECT DISTINCT ?sbj ?sbj_label WHERE  ?sbj wdt:P31 wd:Q220 . ?sbj rdfs:label ?sbj_label . FILTER(STRSTARTS(lcase(?sbj_label), '24.0')) . FILTER (lang(?sbj_label) = 'en')  LIMIT 25\n",
      "Failed query number 223\n",
      "failed query select distinct ?sbj where  ?sbj wdt:P31 wd:Q220 . ?sbj wdt:P31 wd:Q220 \n",
      "Failed query number 224\n"
     ]
    },
    {
     "name": "stderr",
     "output_type": "stream",
     "text": [
      "ERROR:backoff:Giving up execute_sparql_query(...) after 1 tries (requests.exceptions.HTTPError: 400 Client Error: Bad Request for url: https://query.wikidata.org/sparql?query=%23Tool%3A+WikibaseIntegrator+wbi_functions.execute_sparql_query%0ASELECT+DISTINCT+%3Fsbj+%3Fsbj_label+WHERE++%3Fsbj+wdt%3AP31+wd%3AQ31+.+%3Fsbj+rdfs%3Alabel+%3Fsbj_label+.+FILTER%28STRSTARTS%28lcase%28%3Fsbj_label%29%2C+%27o%27%29%29+.+FILTER+%28lang%28%3Fsbj_label%29+%3D+%27o%27%29%29++LIMIT+25&format=json)\n",
      "ERROR:root:HTTPError 400 Client Error: Bad Request for url: https://query.wikidata.org/sparql?query=%23Tool%3A+WikibaseIntegrator+wbi_functions.execute_sparql_query%0ASELECT+DISTINCT+%3Fsbj+%3Fsbj_label+WHERE++%3Fsbj+wdt%3AP31+wd%3AQ31+.+%3Fsbj+rdfs%3Alabel+%3Fsbj_label+.+FILTER%28STRSTARTS%28lcase%28%3Fsbj_label%29%2C+%27o%27%29%29+.+FILTER+%28lang%28%3Fsbj_label%29+%3D+%27o%27%29%29++LIMIT+25&format=json\n",
      "ERROR:backoff:Giving up execute_sparql_query(...) after 1 tries (requests.exceptions.HTTPError: 400 Client Error: Bad Request for url: https://query.wikidata.org/sparql?query=%23Tool%3A+WikibaseIntegrator+wbi_functions.execute_sparql_query%0Aselect+distinct+%3Fsbj+where++%3Fsbj+wdt%3AP31+wd%3AQ220+.+%3Fsbj+wdt%3AP31+wd%3AQ220+&format=json)\n",
      "ERROR:root:HTTPError 400 Client Error: Bad Request for url: https://query.wikidata.org/sparql?query=%23Tool%3A+WikibaseIntegrator+wbi_functions.execute_sparql_query%0Aselect+distinct+%3Fsbj+where++%3Fsbj+wdt%3AP31+wd%3AQ220+.+%3Fsbj+wdt%3AP31+wd%3AQ220+&format=json\n"
     ]
    },
    {
     "name": "stdout",
     "output_type": "stream",
     "text": [
      "failed query SELECT DISTINCT ?sbj ?sbj_label WHERE  ?sbj wdt:P31 wd:Q31 . ?sbj rdfs:label ?sbj_label . FILTER(STRSTARTS(lcase(?sbj_label), 'o')) . FILTER (lang(?sbj_label) = 'o'))  LIMIT 25\n",
      "Failed query number 225\n",
      "failed query select distinct ?sbj where  ?sbj wdt:P31 wd:Q220 . ?sbj wdt:P31 wd:Q220 \n",
      "Failed query number 226\n"
     ]
    },
    {
     "name": "stderr",
     "output_type": "stream",
     "text": [
      "ERROR:backoff:Giving up execute_sparql_query(...) after 1 tries (requests.exceptions.HTTPError: 400 Client Error: Bad Request for url: https://query.wikidata.org/sparql?query=%23Tool%3A+WikibaseIntegrator+wbi_functions.execute_sparql_query%0ASELECT+%28COUNT%28%3Fobj%29+AS+%3Fvalue+%29+&format=json)\n",
      "ERROR:root:HTTPError 400 Client Error: Bad Request for url: https://query.wikidata.org/sparql?query=%23Tool%3A+WikibaseIntegrator+wbi_functions.execute_sparql_query%0ASELECT+%28COUNT%28%3Fobj%29+AS+%3Fvalue+%29+&format=json\n",
      "ERROR:backoff:Giving up execute_sparql_query(...) after 1 tries (requests.exceptions.HTTPError: 400 Client Error: Bad Request for url: https://query.wikidata.org/sparql?query=%23Tool%3A+WikibaseIntegrator+wbi_functions.execute_sparql_query%0Aselect+distinct+%3Fsbj+where++%3Fsbj+wdt%3AP31+wd%3AQ220+.+%3Fsbj+wdt%3AP31+wd%3AQ220+&format=json)\n",
      "ERROR:root:HTTPError 400 Client Error: Bad Request for url: https://query.wikidata.org/sparql?query=%23Tool%3A+WikibaseIntegrator+wbi_functions.execute_sparql_query%0Aselect+distinct+%3Fsbj+where++%3Fsbj+wdt%3AP31+wd%3AQ220+.+%3Fsbj+wdt%3AP31+wd%3AQ220+&format=json\n"
     ]
    },
    {
     "name": "stdout",
     "output_type": "stream",
     "text": [
      "failed query SELECT (COUNT(?obj) AS ?value ) \n",
      "Failed query number 227\n",
      "failed query select distinct ?sbj where  ?sbj wdt:P31 wd:Q220 . ?sbj wdt:P31 wd:Q220 \n",
      "Failed query number 228\n"
     ]
    },
    {
     "name": "stderr",
     "output_type": "stream",
     "text": [
      "ERROR:backoff:Giving up execute_sparql_query(...) after 1 tries (requests.exceptions.HTTPError: 400 Client Error: Bad Request for url: https://query.wikidata.org/sparql?query=%23Tool%3A+WikibaseIntegrator+wbi_functions.execute_sparql_query%0Aselect+distinct+%3Fsbj+where++%3Fsbj+wdt%3AP31+wd%3AQ220+.+%3Fsbj+wdt%3AP31+wd%3AQ220+&format=json)\n",
      "ERROR:root:HTTPError 400 Client Error: Bad Request for url: https://query.wikidata.org/sparql?query=%23Tool%3A+WikibaseIntegrator+wbi_functions.execute_sparql_query%0Aselect+distinct+%3Fsbj+where++%3Fsbj+wdt%3AP31+wd%3AQ220+.+%3Fsbj+wdt%3AP31+wd%3AQ220+&format=json\n",
      "ERROR:backoff:Giving up execute_sparql_query(...) after 1 tries (requests.exceptions.HTTPError: 400 Client Error: Bad Request for url: https://query.wikidata.org/sparql?query=%23Tool%3A+WikibaseIntegrator+wbi_functions.execute_sparql_query%0Aselect+distinct+%3Fsbj+where++%3Fsbj+wdt%3AP31+wd%3AQ220+.+%3Fsbj+wdt%3AP31+wd%3AQ220+&format=json)\n",
      "ERROR:root:HTTPError 400 Client Error: Bad Request for url: https://query.wikidata.org/sparql?query=%23Tool%3A+WikibaseIntegrator+wbi_functions.execute_sparql_query%0Aselect+distinct+%3Fsbj+where++%3Fsbj+wdt%3AP31+wd%3AQ220+.+%3Fsbj+wdt%3AP31+wd%3AQ220+&format=json\n"
     ]
    },
    {
     "name": "stdout",
     "output_type": "stream",
     "text": [
      "failed query select distinct ?sbj where  ?sbj wdt:P31 wd:Q220 . ?sbj wdt:P31 wd:Q220 \n",
      "Failed query number 229\n",
      "failed query select distinct ?sbj where  ?sbj wdt:P31 wd:Q220 . ?sbj wdt:P31 wd:Q220 \n",
      "Failed query number 230\n"
     ]
    },
    {
     "name": "stderr",
     "output_type": "stream",
     "text": [
      "ERROR:backoff:Giving up execute_sparql_query(...) after 1 tries (requests.exceptions.HTTPError: 400 Client Error: Bad Request for url: https://query.wikidata.org/sparql?query=%23Tool%3A+WikibaseIntegrator+wbi_functions.execute_sparql_query%0ASELECT+DISTINCT+%3Fsbj+%3Fsbj_label+WHERE++%3Fsbj+wdt%3AP31+wd%3AQ31+.+%3Fsbj+rdfs%3Alabel+%3Fsbj_label+.+FILTER%28CONTAINS%28lcase%28%3Fsbj_label%29%2C+%27d%27%29%29+.+FILTER+%28lang%28%3Fsbj_label%29+%3D+%27w&format=json)\n",
      "ERROR:root:HTTPError 400 Client Error: Bad Request for url: https://query.wikidata.org/sparql?query=%23Tool%3A+WikibaseIntegrator+wbi_functions.execute_sparql_query%0ASELECT+DISTINCT+%3Fsbj+%3Fsbj_label+WHERE++%3Fsbj+wdt%3AP31+wd%3AQ31+.+%3Fsbj+rdfs%3Alabel+%3Fsbj_label+.+FILTER%28CONTAINS%28lcase%28%3Fsbj_label%29%2C+%27d%27%29%29+.+FILTER+%28lang%28%3Fsbj_label%29+%3D+%27w&format=json\n",
      "ERROR:backoff:Giving up execute_sparql_query(...) after 1 tries (requests.exceptions.HTTPError: 400 Client Error: Bad Request for url: https://query.wikidata.org/sparql?query=%23Tool%3A+WikibaseIntegrator+wbi_functions.execute_sparql_query%0ASELECT+DISTINCT+%3Fsbj+%3Fsbj_label+WHERE++%3Fsbj+wdt%3AP31+wd%3AQ335+.+%3Fsbj+rdfs%3Alabel+%3Fsbj_label+.+FILTER%28STRSTARTS%28lcase%28%3Fsbj_label%29%2C+%27d%27%29%29+.+FILTER+%28lang%28%3Fsbj_label%29+%3D+%27en%27%29++LIMIT+25&format=json)\n",
      "ERROR:root:HTTPError 400 Client Error: Bad Request for url: https://query.wikidata.org/sparql?query=%23Tool%3A+WikibaseIntegrator+wbi_functions.execute_sparql_query%0ASELECT+DISTINCT+%3Fsbj+%3Fsbj_label+WHERE++%3Fsbj+wdt%3AP31+wd%3AQ335+.+%3Fsbj+rdfs%3Alabel+%3Fsbj_label+.+FILTER%28STRSTARTS%28lcase%28%3Fsbj_label%29%2C+%27d%27%29%29+.+FILTER+%28lang%28%3Fsbj_label%29+%3D+%27en%27%29++LIMIT+25&format=json\n"
     ]
    },
    {
     "name": "stdout",
     "output_type": "stream",
     "text": [
      "failed query SELECT DISTINCT ?sbj ?sbj_label WHERE  ?sbj wdt:P31 wd:Q31 . ?sbj rdfs:label ?sbj_label . FILTER(CONTAINS(lcase(?sbj_label), 'd')) . FILTER (lang(?sbj_label) = 'w\n",
      "Failed query number 231\n",
      "failed query SELECT DISTINCT ?sbj ?sbj_label WHERE  ?sbj wdt:P31 wd:Q335 . ?sbj rdfs:label ?sbj_label . FILTER(STRSTARTS(lcase(?sbj_label), 'd')) . FILTER (lang(?sbj_label) = 'en')  LIMIT 25\n",
      "Failed query number 232\n"
     ]
    },
    {
     "name": "stderr",
     "output_type": "stream",
     "text": [
      "ERROR:backoff:Giving up execute_sparql_query(...) after 1 tries (requests.exceptions.HTTPError: 400 Client Error: Bad Request for url: https://query.wikidata.org/sparql?query=%23Tool%3A+WikibaseIntegrator+wbi_functions.execute_sparql_query%0Aselect+distinct+%3Fsbj+where++%3Fsbj+wdt%3AP31+wd%3AQ220+.+%3Fsbj+wdt%3AP31+wd%3AQ220+&format=json)\n",
      "ERROR:root:HTTPError 400 Client Error: Bad Request for url: https://query.wikidata.org/sparql?query=%23Tool%3A+WikibaseIntegrator+wbi_functions.execute_sparql_query%0Aselect+distinct+%3Fsbj+where++%3Fsbj+wdt%3AP31+wd%3AQ220+.+%3Fsbj+wdt%3AP31+wd%3AQ220+&format=json\n",
      "ERROR:backoff:Giving up execute_sparql_query(...) after 1 tries (requests.exceptions.HTTPError: 400 Client Error: Bad Request for url: https://query.wikidata.org/sparql?query=%23Tool%3A+WikibaseIntegrator+wbi_functions.execute_sparql_query%0ASELECT+%3Fanswer+WHERE++wd%3AQ220+wdt%3AP31+%3Fanswer+.+%3Fanswer+wdt%3AP31+wd%3AQ220+&format=json)\n",
      "ERROR:root:HTTPError 400 Client Error: Bad Request for url: https://query.wikidata.org/sparql?query=%23Tool%3A+WikibaseIntegrator+wbi_functions.execute_sparql_query%0ASELECT+%3Fanswer+WHERE++wd%3AQ220+wdt%3AP31+%3Fanswer+.+%3Fanswer+wdt%3AP31+wd%3AQ220+&format=json\n"
     ]
    },
    {
     "name": "stdout",
     "output_type": "stream",
     "text": [
      "failed query select distinct ?sbj where  ?sbj wdt:P31 wd:Q220 . ?sbj wdt:P31 wd:Q220 \n",
      "Failed query number 233\n",
      "failed query SELECT ?answer WHERE  wd:Q220 wdt:P31 ?answer . ?answer wdt:P31 wd:Q220 \n",
      "Failed query number 234\n"
     ]
    },
    {
     "name": "stderr",
     "output_type": "stream",
     "text": [
      "ERROR:backoff:Giving up execute_sparql_query(...) after 1 tries (requests.exceptions.HTTPError: 400 Client Error: Bad Request for url: https://query.wikidata.org/sparql?query=%23Tool%3A+WikibaseIntegrator+wbi_functions.execute_sparql_query%0Aselect+distinct+%3Fsbj+where++%3Fsbj+wdt%3AP31+wd%3AQ220+.+%3Fsbj+wdt%3AP31+wd%3AQ220+&format=json)\n",
      "ERROR:root:HTTPError 400 Client Error: Bad Request for url: https://query.wikidata.org/sparql?query=%23Tool%3A+WikibaseIntegrator+wbi_functions.execute_sparql_query%0Aselect+distinct+%3Fsbj+where++%3Fsbj+wdt%3AP31+wd%3AQ220+.+%3Fsbj+wdt%3AP31+wd%3AQ220+&format=json\n",
      "ERROR:backoff:Giving up execute_sparql_query(...) after 1 tries (requests.exceptions.HTTPError: 400 Client Error: Bad Request for url: https://query.wikidata.org/sparql?query=%23Tool%3A+WikibaseIntegrator+wbi_functions.execute_sparql_query%0Aselect+distinct+%3Fsbj+where++%3Fsbj+wdt%3AP31+wd%3AQ220+.+%3Fsbj+wdt%3AP31+wd%3AQ220+&format=json)\n",
      "ERROR:root:HTTPError 400 Client Error: Bad Request for url: https://query.wikidata.org/sparql?query=%23Tool%3A+WikibaseIntegrator+wbi_functions.execute_sparql_query%0Aselect+distinct+%3Fsbj+where++%3Fsbj+wdt%3AP31+wd%3AQ220+.+%3Fsbj+wdt%3AP31+wd%3AQ220+&format=json\n"
     ]
    },
    {
     "name": "stdout",
     "output_type": "stream",
     "text": [
      "failed query select distinct ?sbj where  ?sbj wdt:P31 wd:Q220 . ?sbj wdt:P31 wd:Q220 \n",
      "Failed query number 235\n",
      "failed query select distinct ?sbj where  ?sbj wdt:P31 wd:Q220 . ?sbj wdt:P31 wd:Q220 \n",
      "Failed query number 236\n"
     ]
    },
    {
     "name": "stderr",
     "output_type": "stream",
     "text": [
      "ERROR:backoff:Giving up execute_sparql_query(...) after 1 tries (requests.exceptions.HTTPError: 400 Client Error: Bad Request for url: https://query.wikidata.org/sparql?query=%23Tool%3A+WikibaseIntegrator+wbi_functions.execute_sparql_query%0ASELECT+DISTINCT+%3Fsbj+%3Fsbj_label+WHERE++%3Fsbj+wdt%3AP31+wd%3AQ31+.+%3Fsbj+rdfs%3Alabel+%3Fsbj_label+.+FILTER%28STRSTARTS%28lcase%28%3Fsbj_label%29%2C+%27X%27%29%29+.+FILTER+%28lang%28%3Fsbj_label%29+%3D+%27X%27%29++LIMIT+25&format=json)\n",
      "ERROR:root:HTTPError 400 Client Error: Bad Request for url: https://query.wikidata.org/sparql?query=%23Tool%3A+WikibaseIntegrator+wbi_functions.execute_sparql_query%0ASELECT+DISTINCT+%3Fsbj+%3Fsbj_label+WHERE++%3Fsbj+wdt%3AP31+wd%3AQ31+.+%3Fsbj+rdfs%3Alabel+%3Fsbj_label+.+FILTER%28STRSTARTS%28lcase%28%3Fsbj_label%29%2C+%27X%27%29%29+.+FILTER+%28lang%28%3Fsbj_label%29+%3D+%27X%27%29++LIMIT+25&format=json\n",
      "ERROR:backoff:Giving up execute_sparql_query(...) after 1 tries (requests.exceptions.HTTPError: 400 Client Error: Bad Request for url: https://query.wikidata.org/sparql?query=%23Tool%3A+WikibaseIntegrator+wbi_functions.execute_sparql_query%0ASELECT+DISTINCT+%3Fsbj+%3Fsbj_label+WHERE++%3Fsbj+wdt%3AP31+wd%3AQ335+.+%3Fsbj+rdfs%3Alabel+%3Fsbj_label+.+FILTER%28CONTAINS%28lcase%28%3Fsbj_label%29%2C+%27en%27%29%29+.+FILTER+%28lang%28%3Fsbj_label%29+%3D+%27en%27%29++LIMIT+25&format=json)\n",
      "ERROR:root:HTTPError 400 Client Error: Bad Request for url: https://query.wikidata.org/sparql?query=%23Tool%3A+WikibaseIntegrator+wbi_functions.execute_sparql_query%0ASELECT+DISTINCT+%3Fsbj+%3Fsbj_label+WHERE++%3Fsbj+wdt%3AP31+wd%3AQ335+.+%3Fsbj+rdfs%3Alabel+%3Fsbj_label+.+FILTER%28CONTAINS%28lcase%28%3Fsbj_label%29%2C+%27en%27%29%29+.+FILTER+%28lang%28%3Fsbj_label%29+%3D+%27en%27%29++LIMIT+25&format=json\n"
     ]
    },
    {
     "name": "stdout",
     "output_type": "stream",
     "text": [
      "failed query SELECT DISTINCT ?sbj ?sbj_label WHERE  ?sbj wdt:P31 wd:Q31 . ?sbj rdfs:label ?sbj_label . FILTER(STRSTARTS(lcase(?sbj_label), 'X')) . FILTER (lang(?sbj_label) = 'X')  LIMIT 25\n",
      "Failed query number 237\n",
      "failed query SELECT DISTINCT ?sbj ?sbj_label WHERE  ?sbj wdt:P31 wd:Q335 . ?sbj rdfs:label ?sbj_label . FILTER(CONTAINS(lcase(?sbj_label), 'en')) . FILTER (lang(?sbj_label) = 'en')  LIMIT 25\n",
      "Failed query number 238\n"
     ]
    },
    {
     "name": "stderr",
     "output_type": "stream",
     "text": [
      "ERROR:backoff:Giving up execute_sparql_query(...) after 1 tries (requests.exceptions.HTTPError: 400 Client Error: Bad Request for url: https://query.wikidata.org/sparql?query=%23Tool%3A+WikibaseIntegrator+wbi_functions.execute_sparql_query%0Aselect+distinct+%3Fsbj+where++%3Fsbj+wdt%3AP31+wd%3AQ220+.+%3Fsbj+wdt%3AP31+wd%3AQ220+&format=json)\n",
      "ERROR:root:HTTPError 400 Client Error: Bad Request for url: https://query.wikidata.org/sparql?query=%23Tool%3A+WikibaseIntegrator+wbi_functions.execute_sparql_query%0Aselect+distinct+%3Fsbj+where++%3Fsbj+wdt%3AP31+wd%3AQ220+.+%3Fsbj+wdt%3AP31+wd%3AQ220+&format=json\n",
      "ERROR:backoff:Giving up execute_sparql_query(...) after 1 tries (requests.exceptions.HTTPError: 400 Client Error: Bad Request for url: https://query.wikidata.org/sparql?query=%23Tool%3A+WikibaseIntegrator+wbi_functions.execute_sparql_query%0ASELECT+DISTINCT+%3Fsbj+%3Fsbj_label+WHERE++%3Fsbj+wdt%3AP31+wd%3AQ31+.+%3Fsbj+rdfs%3Alabel+%3Fsbj_label+.+FILTER%28STRSTARTS%28lcase%28%3Fsbj_label%29%2C+%27en%27%29%29+.+FILTER+%28lang%28%3Fsbj_label%29+%3D+%27en%27%29++LIMIT+25&format=json)\n",
      "ERROR:root:HTTPError 400 Client Error: Bad Request for url: https://query.wikidata.org/sparql?query=%23Tool%3A+WikibaseIntegrator+wbi_functions.execute_sparql_query%0ASELECT+DISTINCT+%3Fsbj+%3Fsbj_label+WHERE++%3Fsbj+wdt%3AP31+wd%3AQ31+.+%3Fsbj+rdfs%3Alabel+%3Fsbj_label+.+FILTER%28STRSTARTS%28lcase%28%3Fsbj_label%29%2C+%27en%27%29%29+.+FILTER+%28lang%28%3Fsbj_label%29+%3D+%27en%27%29++LIMIT+25&format=json\n"
     ]
    },
    {
     "name": "stdout",
     "output_type": "stream",
     "text": [
      "failed query select distinct ?sbj where  ?sbj wdt:P31 wd:Q220 . ?sbj wdt:P31 wd:Q220 \n",
      "Failed query number 239\n",
      "failed query SELECT DISTINCT ?sbj ?sbj_label WHERE  ?sbj wdt:P31 wd:Q31 . ?sbj rdfs:label ?sbj_label . FILTER(STRSTARTS(lcase(?sbj_label), 'en')) . FILTER (lang(?sbj_label) = 'en')  LIMIT 25\n",
      "Failed query number 240\n"
     ]
    },
    {
     "name": "stderr",
     "output_type": "stream",
     "text": [
      "ERROR:backoff:Giving up execute_sparql_query(...) after 1 tries (requests.exceptions.HTTPError: 400 Client Error: Bad Request for url: https://query.wikidata.org/sparql?query=%23Tool%3A+WikibaseIntegrator+wbi_functions.execute_sparql_query%0Aselect+distinct+%3Fsbj+where++%3Fsbj+wdt%3AP31+wd%3AQ220+.+%3Fsbj+wdt%3AP31+wd%3AQ220+&format=json)\n",
      "ERROR:root:HTTPError 400 Client Error: Bad Request for url: https://query.wikidata.org/sparql?query=%23Tool%3A+WikibaseIntegrator+wbi_functions.execute_sparql_query%0Aselect+distinct+%3Fsbj+where++%3Fsbj+wdt%3AP31+wd%3AQ220+.+%3Fsbj+wdt%3AP31+wd%3AQ220+&format=json\n",
      "ERROR:backoff:Giving up execute_sparql_query(...) after 1 tries (requests.exceptions.HTTPError: 400 Client Error: Bad Request for url: https://query.wikidata.org/sparql?query=%23Tool%3A+WikibaseIntegrator+wbi_functions.execute_sparql_query%0Aselect+distinct+%3Fsbj+where++%3Fsbj+wdt%3AP31+wd%3AQ220+.+%3Fsbj+wdt%3AP31+wd%3AQ220+&format=json)\n",
      "ERROR:root:HTTPError 400 Client Error: Bad Request for url: https://query.wikidata.org/sparql?query=%23Tool%3A+WikibaseIntegrator+wbi_functions.execute_sparql_query%0Aselect+distinct+%3Fsbj+where++%3Fsbj+wdt%3AP31+wd%3AQ220+.+%3Fsbj+wdt%3AP31+wd%3AQ220+&format=json\n"
     ]
    },
    {
     "name": "stdout",
     "output_type": "stream",
     "text": [
      "failed query select distinct ?sbj where  ?sbj wdt:P31 wd:Q220 . ?sbj wdt:P31 wd:Q220 \n",
      "Failed query number 241\n",
      "failed query select distinct ?sbj where  ?sbj wdt:P31 wd:Q220 . ?sbj wdt:P31 wd:Q220 \n",
      "Failed query number 242\n"
     ]
    },
    {
     "name": "stderr",
     "output_type": "stream",
     "text": [
      "ERROR:backoff:Giving up execute_sparql_query(...) after 1 tries (requests.exceptions.HTTPError: 400 Client Error: Bad Request for url: https://query.wikidata.org/sparql?query=%23Tool%3A+WikibaseIntegrator+wbi_functions.execute_sparql_query%0ASELECT+DISTINCT+%3Fsbj+%3Fsbj_label+WHERE++%3Fsbj+wdt%3AP31+wd%3AQ31+.+%3Fsbj+rdfs%3Alabel+%3Fsbj_label+.+FILTER%28STRSTARTS%28lcase%28%3Fsbj_label%29%2C+%27hors%27%29%29+.+FILTER+%28lang%28%3Fsbj_label%29+%3D+%27en%27%29++LIMIT+25&format=json)\n",
      "ERROR:root:HTTPError 400 Client Error: Bad Request for url: https://query.wikidata.org/sparql?query=%23Tool%3A+WikibaseIntegrator+wbi_functions.execute_sparql_query%0ASELECT+DISTINCT+%3Fsbj+%3Fsbj_label+WHERE++%3Fsbj+wdt%3AP31+wd%3AQ31+.+%3Fsbj+rdfs%3Alabel+%3Fsbj_label+.+FILTER%28STRSTARTS%28lcase%28%3Fsbj_label%29%2C+%27hors%27%29%29+.+FILTER+%28lang%28%3Fsbj_label%29+%3D+%27en%27%29++LIMIT+25&format=json\n",
      "ERROR:backoff:Giving up execute_sparql_query(...) after 1 tries (requests.exceptions.HTTPError: 400 Client Error: Bad Request for url: https://query.wikidata.org/sparql?query=%23Tool%3A+WikibaseIntegrator+wbi_functions.execute_sparql_query%0ASELECT+DISTINCT+%3Fsbj+%3Fsbj_label+WHERE++%3Fsbj+wdt%3AP31+wd%3AQ31+.+%3Fsbj+rdfs%3Alabel+%3Fsbj_label+.+FILTER%28STRSTARTS%28lcase%28%3Fsbj_label%29%2C+%27w%27%29%29+.+FILTER+%28lang%28%3Fsbj_label%29+%3D+%27w&format=json)\n",
      "ERROR:root:HTTPError 400 Client Error: Bad Request for url: https://query.wikidata.org/sparql?query=%23Tool%3A+WikibaseIntegrator+wbi_functions.execute_sparql_query%0ASELECT+DISTINCT+%3Fsbj+%3Fsbj_label+WHERE++%3Fsbj+wdt%3AP31+wd%3AQ31+.+%3Fsbj+rdfs%3Alabel+%3Fsbj_label+.+FILTER%28STRSTARTS%28lcase%28%3Fsbj_label%29%2C+%27w%27%29%29+.+FILTER+%28lang%28%3Fsbj_label%29+%3D+%27w&format=json\n"
     ]
    },
    {
     "name": "stdout",
     "output_type": "stream",
     "text": [
      "failed query SELECT DISTINCT ?sbj ?sbj_label WHERE  ?sbj wdt:P31 wd:Q31 . ?sbj rdfs:label ?sbj_label . FILTER(STRSTARTS(lcase(?sbj_label), 'hors')) . FILTER (lang(?sbj_label) = 'en')  LIMIT 25\n",
      "Failed query number 243\n",
      "failed query SELECT DISTINCT ?sbj ?sbj_label WHERE  ?sbj wdt:P31 wd:Q31 . ?sbj rdfs:label ?sbj_label . FILTER(STRSTARTS(lcase(?sbj_label), 'w')) . FILTER (lang(?sbj_label) = 'w\n",
      "Failed query number 244\n"
     ]
    },
    {
     "name": "stderr",
     "output_type": "stream",
     "text": [
      "ERROR:backoff:Giving up execute_sparql_query(...) after 1 tries (requests.exceptions.HTTPError: 400 Client Error: Bad Request for url: https://query.wikidata.org/sparql?query=%23Tool%3A+WikibaseIntegrator+wbi_functions.execute_sparql_query%0Aselect+distinct+%3Fsbj+where++%3Fsbj+wdt%3AP31+wd%3AQ220+.+%3Fsbj+wdt%3AP31+wd%3AQ220+&format=json)\n",
      "ERROR:root:HTTPError 400 Client Error: Bad Request for url: https://query.wikidata.org/sparql?query=%23Tool%3A+WikibaseIntegrator+wbi_functions.execute_sparql_query%0Aselect+distinct+%3Fsbj+where++%3Fsbj+wdt%3AP31+wd%3AQ220+.+%3Fsbj+wdt%3AP31+wd%3AQ220+&format=json\n",
      "ERROR:backoff:Giving up execute_sparql_query(...) after 1 tries (requests.exceptions.HTTPError: 400 Client Error: Bad Request for url: https://query.wikidata.org/sparql?query=%23Tool%3A+WikibaseIntegrator+wbi_functions.execute_sparql_query%0ASELECT+DISTINCT+%3Fsbj+%3Fsbj_label+WHERE++%3Fsbj+wdt%3AP31+wd%3AQ31+.+%3Fsbj+rdfs%3Alabel+%3Fsbj_label+.+FILTER%28STRSTARTS%28lcase%28%3Fsbj_label%29%2C+%27i%27%27%29%29+.+FILTER+%28lang%28%3Fsbj_label%29+%3D+%27en%27%29++LIMIT+25&format=json)\n",
      "ERROR:root:HTTPError 400 Client Error: Bad Request for url: https://query.wikidata.org/sparql?query=%23Tool%3A+WikibaseIntegrator+wbi_functions.execute_sparql_query%0ASELECT+DISTINCT+%3Fsbj+%3Fsbj_label+WHERE++%3Fsbj+wdt%3AP31+wd%3AQ31+.+%3Fsbj+rdfs%3Alabel+%3Fsbj_label+.+FILTER%28STRSTARTS%28lcase%28%3Fsbj_label%29%2C+%27i%27%27%29%29+.+FILTER+%28lang%28%3Fsbj_label%29+%3D+%27en%27%29++LIMIT+25&format=json\n"
     ]
    },
    {
     "name": "stdout",
     "output_type": "stream",
     "text": [
      "failed query select distinct ?sbj where  ?sbj wdt:P31 wd:Q220 . ?sbj wdt:P31 wd:Q220 \n",
      "Failed query number 245\n",
      "failed query SELECT DISTINCT ?sbj ?sbj_label WHERE  ?sbj wdt:P31 wd:Q31 . ?sbj rdfs:label ?sbj_label . FILTER(STRSTARTS(lcase(?sbj_label), 'i'')) . FILTER (lang(?sbj_label) = 'en')  LIMIT 25\n",
      "Failed query number 246\n"
     ]
    },
    {
     "name": "stderr",
     "output_type": "stream",
     "text": [
      "ERROR:backoff:Giving up execute_sparql_query(...) after 1 tries (requests.exceptions.HTTPError: 400 Client Error: Bad Request for url: https://query.wikidata.org/sparql?query=%23Tool%3A+WikibaseIntegrator+wbi_functions.execute_sparql_query%0ASELECT+DISTINCT+%3Fsbj+%3Fsbj_label+WHERE++%3Fsbj+wdt%3AP31+wd%3AQ335+.+%3Fsbj+rdfs%3Alabel+%3Fsbj_label+.+FILTER%28CONTAINS%28lcase%28%3Fsbj_label%29%2C+%27arteriosklerose%27%29%29+.+FILTER+%28lang%28%3Fsbj_label%29+%3D+%27en%27%29++LIMIT+25&format=json)\n",
      "ERROR:root:HTTPError 400 Client Error: Bad Request for url: https://query.wikidata.org/sparql?query=%23Tool%3A+WikibaseIntegrator+wbi_functions.execute_sparql_query%0ASELECT+DISTINCT+%3Fsbj+%3Fsbj_label+WHERE++%3Fsbj+wdt%3AP31+wd%3AQ335+.+%3Fsbj+rdfs%3Alabel+%3Fsbj_label+.+FILTER%28CONTAINS%28lcase%28%3Fsbj_label%29%2C+%27arteriosklerose%27%29%29+.+FILTER+%28lang%28%3Fsbj_label%29+%3D+%27en%27%29++LIMIT+25&format=json\n",
      "ERROR:backoff:Giving up execute_sparql_query(...) after 1 tries (requests.exceptions.HTTPError: 400 Client Error: Bad Request for url: https://query.wikidata.org/sparql?query=%23Tool%3A+WikibaseIntegrator+wbi_functions.execute_sparql_query%0ASELECT+DISTINCT+%3Fsbj+%3Fsbj_label+WHERE++%3Fsbj+wdt%3AP31+wd%3AQ335+.+%3Fsbj+rdfs%3Alabel+%3Fsbj_label+.+FILTER%28CONTAINS%28lcase%28%3Fsbj_label%29%2C+%27evo%27%29%29+.+FILTER+%28lang%28%3Fsbj_label%29+%3D+%27en%27%29++LIMIT+25&format=json)\n",
      "ERROR:root:HTTPError 400 Client Error: Bad Request for url: https://query.wikidata.org/sparql?query=%23Tool%3A+WikibaseIntegrator+wbi_functions.execute_sparql_query%0ASELECT+DISTINCT+%3Fsbj+%3Fsbj_label+WHERE++%3Fsbj+wdt%3AP31+wd%3AQ335+.+%3Fsbj+rdfs%3Alabel+%3Fsbj_label+.+FILTER%28CONTAINS%28lcase%28%3Fsbj_label%29%2C+%27evo%27%29%29+.+FILTER+%28lang%28%3Fsbj_label%29+%3D+%27en%27%29++LIMIT+25&format=json\n"
     ]
    },
    {
     "name": "stdout",
     "output_type": "stream",
     "text": [
      "failed query SELECT DISTINCT ?sbj ?sbj_label WHERE  ?sbj wdt:P31 wd:Q335 . ?sbj rdfs:label ?sbj_label . FILTER(CONTAINS(lcase(?sbj_label), 'arteriosklerose')) . FILTER (lang(?sbj_label) = 'en')  LIMIT 25\n",
      "Failed query number 247\n",
      "failed query SELECT DISTINCT ?sbj ?sbj_label WHERE  ?sbj wdt:P31 wd:Q335 . ?sbj rdfs:label ?sbj_label . FILTER(CONTAINS(lcase(?sbj_label), 'evo')) . FILTER (lang(?sbj_label) = 'en')  LIMIT 25\n",
      "Failed query number 248\n"
     ]
    },
    {
     "name": "stderr",
     "output_type": "stream",
     "text": [
      "ERROR:backoff:Giving up execute_sparql_query(...) after 1 tries (requests.exceptions.HTTPError: 400 Client Error: Bad Request for url: https://query.wikidata.org/sparql?query=%23Tool%3A+WikibaseIntegrator+wbi_functions.execute_sparql_query%0Aselect+distinct+%3Fsbj+where++%3Fsbj+wdt%3AP31+wd%3AQ220+.+%3Fsbj+wdt%3AP31+wd%3AQ220+&format=json)\n",
      "ERROR:root:HTTPError 400 Client Error: Bad Request for url: https://query.wikidata.org/sparql?query=%23Tool%3A+WikibaseIntegrator+wbi_functions.execute_sparql_query%0Aselect+distinct+%3Fsbj+where++%3Fsbj+wdt%3AP31+wd%3AQ220+.+%3Fsbj+wdt%3AP31+wd%3AQ220+&format=json\n",
      "ERROR:backoff:Giving up execute_sparql_query(...) after 1 tries (requests.exceptions.HTTPError: 400 Client Error: Bad Request for url: https://query.wikidata.org/sparql?query=%23Tool%3A+WikibaseIntegrator+wbi_functions.execute_sparql_query%0Aselect+distinct+%3Fsbj+where++%3Fsbj+wdt%3AP31+wd%3AQ220+.+%3Fsbj+wdt%3AP31+wd%3AQ220+&format=json)\n",
      "ERROR:root:HTTPError 400 Client Error: Bad Request for url: https://query.wikidata.org/sparql?query=%23Tool%3A+WikibaseIntegrator+wbi_functions.execute_sparql_query%0Aselect+distinct+%3Fsbj+where++%3Fsbj+wdt%3AP31+wd%3AQ220+.+%3Fsbj+wdt%3AP31+wd%3AQ220+&format=json\n"
     ]
    },
    {
     "name": "stdout",
     "output_type": "stream",
     "text": [
      "failed query select distinct ?sbj where  ?sbj wdt:P31 wd:Q220 . ?sbj wdt:P31 wd:Q220 \n",
      "Failed query number 249\n",
      "failed query select distinct ?sbj where  ?sbj wdt:P31 wd:Q220 . ?sbj wdt:P31 wd:Q220 \n",
      "Failed query number 250\n"
     ]
    },
    {
     "name": "stderr",
     "output_type": "stream",
     "text": [
      "ERROR:backoff:Giving up execute_sparql_query(...) after 1 tries (requests.exceptions.HTTPError: 400 Client Error: Bad Request for url: https://query.wikidata.org/sparql?query=%23Tool%3A+WikibaseIntegrator+wbi_functions.execute_sparql_query%0Aselect+distinct+%3Fsbj+where++%3Fsbj+wdt%3AP31+wd%3AQ220+.+%3Fsbj+wdt%3AP31+wd%3AQ220+&format=json)\n",
      "ERROR:root:HTTPError 400 Client Error: Bad Request for url: https://query.wikidata.org/sparql?query=%23Tool%3A+WikibaseIntegrator+wbi_functions.execute_sparql_query%0Aselect+distinct+%3Fsbj+where++%3Fsbj+wdt%3AP31+wd%3AQ220+.+%3Fsbj+wdt%3AP31+wd%3AQ220+&format=json\n"
     ]
    },
    {
     "name": "stdout",
     "output_type": "stream",
     "text": [
      "failed query select distinct ?sbj where  ?sbj wdt:P31 wd:Q220 . ?sbj wdt:P31 wd:Q220 \n",
      "Failed query number 251\n"
     ]
    },
    {
     "name": "stderr",
     "output_type": "stream",
     "text": [
      "ERROR:backoff:Giving up execute_sparql_query(...) after 1 tries (requests.exceptions.HTTPError: 400 Client Error: Bad Request for url: https://query.wikidata.org/sparql?query=%23Tool%3A+WikibaseIntegrator+wbi_functions.execute_sparql_query%0Aselect+distinct+%3Fsbj+where++%3Fsbj+wdt%3AP31+wd%3AQ220+.+%3Fsbj+wdt%3AP31+wd%3AQ220+&format=json)\n",
      "ERROR:root:HTTPError 400 Client Error: Bad Request for url: https://query.wikidata.org/sparql?query=%23Tool%3A+WikibaseIntegrator+wbi_functions.execute_sparql_query%0Aselect+distinct+%3Fsbj+where++%3Fsbj+wdt%3AP31+wd%3AQ220+.+%3Fsbj+wdt%3AP31+wd%3AQ220+&format=json\n",
      "ERROR:backoff:Giving up execute_sparql_query(...) after 1 tries (requests.exceptions.HTTPError: 400 Client Error: Bad Request for url: https://query.wikidata.org/sparql?query=%23Tool%3A+WikibaseIntegrator+wbi_functions.execute_sparql_query%0ASELECT+%3Fobj+WHERE++wd%3AQ220+p%3AP31+%3Fs+.+%3Fs+ps%3AP31+wd%3AQ220+.+%3Fs+pq%3AP31+wd%3AQ220+&format=json)\n",
      "ERROR:root:HTTPError 400 Client Error: Bad Request for url: https://query.wikidata.org/sparql?query=%23Tool%3A+WikibaseIntegrator+wbi_functions.execute_sparql_query%0ASELECT+%3Fobj+WHERE++wd%3AQ220+p%3AP31+%3Fs+.+%3Fs+ps%3AP31+wd%3AQ220+.+%3Fs+pq%3AP31+wd%3AQ220+&format=json\n"
     ]
    },
    {
     "name": "stdout",
     "output_type": "stream",
     "text": [
      "failed query select distinct ?sbj where  ?sbj wdt:P31 wd:Q220 . ?sbj wdt:P31 wd:Q220 \n",
      "Failed query number 252\n",
      "failed query SELECT ?obj WHERE  wd:Q220 p:P31 ?s . ?s ps:P31 wd:Q220 . ?s pq:P31 wd:Q220 \n",
      "Failed query number 253\n"
     ]
    },
    {
     "name": "stderr",
     "output_type": "stream",
     "text": [
      "ERROR:backoff:Giving up execute_sparql_query(...) after 1 tries (requests.exceptions.HTTPError: 400 Client Error: Bad Request for url: https://query.wikidata.org/sparql?query=%23Tool%3A+WikibaseIntegrator+wbi_functions.execute_sparql_query%0Aselect+distinct+%3Fsbj+where++%3Fsbj+wdt%3AP31+wd%3AQ220+.+%3Fsbj+wdt%3AP31+wd%3AQ220+&format=json)\n",
      "ERROR:root:HTTPError 400 Client Error: Bad Request for url: https://query.wikidata.org/sparql?query=%23Tool%3A+WikibaseIntegrator+wbi_functions.execute_sparql_query%0Aselect+distinct+%3Fsbj+where++%3Fsbj+wdt%3AP31+wd%3AQ220+.+%3Fsbj+wdt%3AP31+wd%3AQ220+&format=json\n",
      "ERROR:backoff:Giving up execute_sparql_query(...) after 1 tries (requests.exceptions.HTTPError: 400 Client Error: Bad Request for url: https://query.wikidata.org/sparql?query=%23Tool%3A+WikibaseIntegrator+wbi_functions.execute_sparql_query%0Aselect+distinct+%3Fsbj+where++%3Fsbj+wdt%3AP31+wd%3AQ220+.+%3Fsbj+wdt%3AP31+wd%3AQ220+&format=json)\n",
      "ERROR:root:HTTPError 400 Client Error: Bad Request for url: https://query.wikidata.org/sparql?query=%23Tool%3A+WikibaseIntegrator+wbi_functions.execute_sparql_query%0Aselect+distinct+%3Fsbj+where++%3Fsbj+wdt%3AP31+wd%3AQ220+.+%3Fsbj+wdt%3AP31+wd%3AQ220+&format=json\n"
     ]
    },
    {
     "name": "stdout",
     "output_type": "stream",
     "text": [
      "failed query select distinct ?sbj where  ?sbj wdt:P31 wd:Q220 . ?sbj wdt:P31 wd:Q220 \n",
      "Failed query number 254\n",
      "failed query select distinct ?sbj where  ?sbj wdt:P31 wd:Q220 . ?sbj wdt:P31 wd:Q220 \n",
      "Failed query number 255\n"
     ]
    },
    {
     "name": "stderr",
     "output_type": "stream",
     "text": [
      "ERROR:backoff:Giving up execute_sparql_query(...) after 1 tries (requests.exceptions.HTTPError: 400 Client Error: Bad Request for url: https://query.wikidata.org/sparql?query=%23Tool%3A+WikibaseIntegrator+wbi_functions.execute_sparql_query%0Aselect+distinct+%3Fsbj+where++%3Fsbj+wdt%3AP31+wd%3AQ220+.+%3Fsbj+wdt%3AP31+wd%3AQ220+&format=json)\n",
      "ERROR:root:HTTPError 400 Client Error: Bad Request for url: https://query.wikidata.org/sparql?query=%23Tool%3A+WikibaseIntegrator+wbi_functions.execute_sparql_query%0Aselect+distinct+%3Fsbj+where++%3Fsbj+wdt%3AP31+wd%3AQ220+.+%3Fsbj+wdt%3AP31+wd%3AQ220+&format=json\n",
      "ERROR:backoff:Giving up execute_sparql_query(...) after 1 tries (requests.exceptions.HTTPError: 400 Client Error: Bad Request for url: https://query.wikidata.org/sparql?query=%23Tool%3A+WikibaseIntegrator+wbi_functions.execute_sparql_query%0Aselect+distinct+%3Fsbj+where++%3Fsbj+wdt%3AP31+wd%3AQ220+.+%3Fsbj+wdt%3AP31+wd%3AQ220+&format=json)\n",
      "ERROR:root:HTTPError 400 Client Error: Bad Request for url: https://query.wikidata.org/sparql?query=%23Tool%3A+WikibaseIntegrator+wbi_functions.execute_sparql_query%0Aselect+distinct+%3Fsbj+where++%3Fsbj+wdt%3AP31+wd%3AQ220+.+%3Fsbj+wdt%3AP31+wd%3AQ220+&format=json\n"
     ]
    },
    {
     "name": "stdout",
     "output_type": "stream",
     "text": [
      "failed query select distinct ?sbj where  ?sbj wdt:P31 wd:Q220 . ?sbj wdt:P31 wd:Q220 \n",
      "Failed query number 256\n",
      "failed query select distinct ?sbj where  ?sbj wdt:P31 wd:Q220 . ?sbj wdt:P31 wd:Q220 \n",
      "Failed query number 257\n"
     ]
    },
    {
     "name": "stderr",
     "output_type": "stream",
     "text": [
      "ERROR:backoff:Giving up execute_sparql_query(...) after 1 tries (requests.exceptions.HTTPError: 400 Client Error: Bad Request for url: https://query.wikidata.org/sparql?query=%23Tool%3A+WikibaseIntegrator+wbi_functions.execute_sparql_query%0Aselect+distinct+%3Fsbj+where++%3Fsbj+wdt%3AP31+wd%3AQ220+.+%3Fsbj+wdt%3AP31+wd%3AQ220+&format=json)\n",
      "ERROR:root:HTTPError 400 Client Error: Bad Request for url: https://query.wikidata.org/sparql?query=%23Tool%3A+WikibaseIntegrator+wbi_functions.execute_sparql_query%0Aselect+distinct+%3Fsbj+where++%3Fsbj+wdt%3AP31+wd%3AQ220+.+%3Fsbj+wdt%3AP31+wd%3AQ220+&format=json\n",
      "ERROR:backoff:Giving up execute_sparql_query(...) after 1 tries (requests.exceptions.HTTPError: 400 Client Error: Bad Request for url: https://query.wikidata.org/sparql?query=%23Tool%3A+WikibaseIntegrator+wbi_functions.execute_sparql_query%0Aselect+distinct+%3Fsbj+where++%3Fsbj+wdt%3AP31+wd%3AQ220+.+%3Fsbj+wdt%3AP31+wd%3AQ220+&format=json)\n",
      "ERROR:root:HTTPError 400 Client Error: Bad Request for url: https://query.wikidata.org/sparql?query=%23Tool%3A+WikibaseIntegrator+wbi_functions.execute_sparql_query%0Aselect+distinct+%3Fsbj+where++%3Fsbj+wdt%3AP31+wd%3AQ220+.+%3Fsbj+wdt%3AP31+wd%3AQ220+&format=json\n"
     ]
    },
    {
     "name": "stdout",
     "output_type": "stream",
     "text": [
      "failed query select distinct ?sbj where  ?sbj wdt:P31 wd:Q220 . ?sbj wdt:P31 wd:Q220 \n",
      "Failed query number 258\n",
      "failed query select distinct ?sbj where  ?sbj wdt:P31 wd:Q220 . ?sbj wdt:P31 wd:Q220 \n",
      "Failed query number 259\n"
     ]
    },
    {
     "name": "stderr",
     "output_type": "stream",
     "text": [
      "ERROR:backoff:Giving up execute_sparql_query(...) after 1 tries (requests.exceptions.HTTPError: 400 Client Error: Bad Request for url: https://query.wikidata.org/sparql?query=%23Tool%3A+WikibaseIntegrator+wbi_functions.execute_sparql_query%0Aselect+distinct+%3Fsbj+where++%3Fsbj+wdt%3AP31+wd%3AQ220+.+%3Fsbj+wdt%3AP31+wd%3AQ220+&format=json)\n",
      "ERROR:root:HTTPError 400 Client Error: Bad Request for url: https://query.wikidata.org/sparql?query=%23Tool%3A+WikibaseIntegrator+wbi_functions.execute_sparql_query%0Aselect+distinct+%3Fsbj+where++%3Fsbj+wdt%3AP31+wd%3AQ220+.+%3Fsbj+wdt%3AP31+wd%3AQ220+&format=json\n",
      "ERROR:backoff:Giving up execute_sparql_query(...) after 1 tries (requests.exceptions.HTTPError: 400 Client Error: Bad Request for url: https://query.wikidata.org/sparql?query=%23Tool%3A+WikibaseIntegrator+wbi_functions.execute_sparql_query%0ASELECT+DISTINCT+%3Fsbj+%3Fsbj_label+WHERE++%3Fsbj+wdt%3AP31+wd%3AQ31+.+%3Fsbj+rdfs%3Alabel+%3Fsbj_label+.+FILTER%28CONTAINS%28lcase%28%3Fsbj_label%29%2C+%27virtuallink%27%29%29+.+FILTER+%28lang%28%3Fsbj_label%29+%3D+%27en%27%29++LIMIT+25&format=json)\n",
      "ERROR:root:HTTPError 400 Client Error: Bad Request for url: https://query.wikidata.org/sparql?query=%23Tool%3A+WikibaseIntegrator+wbi_functions.execute_sparql_query%0ASELECT+DISTINCT+%3Fsbj+%3Fsbj_label+WHERE++%3Fsbj+wdt%3AP31+wd%3AQ31+.+%3Fsbj+rdfs%3Alabel+%3Fsbj_label+.+FILTER%28CONTAINS%28lcase%28%3Fsbj_label%29%2C+%27virtuallink%27%29%29+.+FILTER+%28lang%28%3Fsbj_label%29+%3D+%27en%27%29++LIMIT+25&format=json\n"
     ]
    },
    {
     "name": "stdout",
     "output_type": "stream",
     "text": [
      "failed query select distinct ?sbj where  ?sbj wdt:P31 wd:Q220 . ?sbj wdt:P31 wd:Q220 \n",
      "Failed query number 260\n",
      "failed query SELECT DISTINCT ?sbj ?sbj_label WHERE  ?sbj wdt:P31 wd:Q31 . ?sbj rdfs:label ?sbj_label . FILTER(CONTAINS(lcase(?sbj_label), 'virtuallink')) . FILTER (lang(?sbj_label) = 'en')  LIMIT 25\n",
      "Failed query number 261\n"
     ]
    },
    {
     "name": "stderr",
     "output_type": "stream",
     "text": [
      "ERROR:backoff:Giving up execute_sparql_query(...) after 1 tries (requests.exceptions.HTTPError: 400 Client Error: Bad Request for url: https://query.wikidata.org/sparql?query=%23Tool%3A+WikibaseIntegrator+wbi_functions.execute_sparql_query%0ASELECT+DISTINCT+%3Fsbj+%3Fsbj_label+WHERE++%3Fsbj+wdt%3AP31+wd%3AQ335+.+%3Fsbj+rdfs%3Alabel+%3Fsbj_label+.+FILTER%28CONTAINS%28lcase%28%3Fsbj_label%29%2C+%27compArt%27%29%29+.+FILTER+%28lang%28%3Fsbj_label%29+%3D+%27en%27%29++LIMIT+25&format=json)\n",
      "ERROR:root:HTTPError 400 Client Error: Bad Request for url: https://query.wikidata.org/sparql?query=%23Tool%3A+WikibaseIntegrator+wbi_functions.execute_sparql_query%0ASELECT+DISTINCT+%3Fsbj+%3Fsbj_label+WHERE++%3Fsbj+wdt%3AP31+wd%3AQ335+.+%3Fsbj+rdfs%3Alabel+%3Fsbj_label+.+FILTER%28CONTAINS%28lcase%28%3Fsbj_label%29%2C+%27compArt%27%29%29+.+FILTER+%28lang%28%3Fsbj_label%29+%3D+%27en%27%29++LIMIT+25&format=json\n",
      "ERROR:backoff:Giving up execute_sparql_query(...) after 1 tries (requests.exceptions.HTTPError: 400 Client Error: Bad Request for url: https://query.wikidata.org/sparql?query=%23Tool%3A+WikibaseIntegrator+wbi_functions.execute_sparql_query%0Aselect+distinct+%3Fsbj+where++%3Fsbj+wdt%3AP31+wd%3AQ220+.+%3Fsbj+wdt%3AP31+wd%3AQ220+&format=json)\n",
      "ERROR:root:HTTPError 400 Client Error: Bad Request for url: https://query.wikidata.org/sparql?query=%23Tool%3A+WikibaseIntegrator+wbi_functions.execute_sparql_query%0Aselect+distinct+%3Fsbj+where++%3Fsbj+wdt%3AP31+wd%3AQ220+.+%3Fsbj+wdt%3AP31+wd%3AQ220+&format=json\n"
     ]
    },
    {
     "name": "stdout",
     "output_type": "stream",
     "text": [
      "failed query SELECT DISTINCT ?sbj ?sbj_label WHERE  ?sbj wdt:P31 wd:Q335 . ?sbj rdfs:label ?sbj_label . FILTER(CONTAINS(lcase(?sbj_label), 'compArt')) . FILTER (lang(?sbj_label) = 'en')  LIMIT 25\n",
      "Failed query number 262\n",
      "failed query select distinct ?sbj where  ?sbj wdt:P31 wd:Q220 . ?sbj wdt:P31 wd:Q220 \n",
      "Failed query number 263\n"
     ]
    },
    {
     "name": "stderr",
     "output_type": "stream",
     "text": [
      "ERROR:backoff:Giving up execute_sparql_query(...) after 1 tries (requests.exceptions.HTTPError: 400 Client Error: Bad Request for url: https://query.wikidata.org/sparql?query=%23Tool%3A+WikibaseIntegrator+wbi_functions.execute_sparql_query%0ASELECT+DISTINCT+%3Fsbj+%3Fsbj_label+WHERE++%3Fsbj+wdt%3AP31+wd%3AQ31+.+%3Fsbj+rdfs%3Alabel+%3Fsbj_label+.+FILTER%28STRSTARTS%28lcase%28%3Fsbj_label%29%2C+%27trichology%27%29%29+.+FILTER+%28lang%28%3Fsbj_label%29+%3D+%27en%27%29++LIMIT+25&format=json)\n",
      "ERROR:root:HTTPError 400 Client Error: Bad Request for url: https://query.wikidata.org/sparql?query=%23Tool%3A+WikibaseIntegrator+wbi_functions.execute_sparql_query%0ASELECT+DISTINCT+%3Fsbj+%3Fsbj_label+WHERE++%3Fsbj+wdt%3AP31+wd%3AQ31+.+%3Fsbj+rdfs%3Alabel+%3Fsbj_label+.+FILTER%28STRSTARTS%28lcase%28%3Fsbj_label%29%2C+%27trichology%27%29%29+.+FILTER+%28lang%28%3Fsbj_label%29+%3D+%27en%27%29++LIMIT+25&format=json\n",
      "ERROR:backoff:Giving up execute_sparql_query(...) after 1 tries (requests.exceptions.HTTPError: 400 Client Error: Bad Request for url: https://query.wikidata.org/sparql?query=%23Tool%3A+WikibaseIntegrator+wbi_functions.execute_sparql_query%0ASELECT+%28COUNT%28%3Fsub%29+AS+%3Fvalue+%29++%3Fsub+wdt%3AP31+%3Fobj+&format=json)\n",
      "ERROR:root:HTTPError 400 Client Error: Bad Request for url: https://query.wikidata.org/sparql?query=%23Tool%3A+WikibaseIntegrator+wbi_functions.execute_sparql_query%0ASELECT+%28COUNT%28%3Fsub%29+AS+%3Fvalue+%29++%3Fsub+wdt%3AP31+%3Fobj+&format=json\n"
     ]
    },
    {
     "name": "stdout",
     "output_type": "stream",
     "text": [
      "failed query SELECT DISTINCT ?sbj ?sbj_label WHERE  ?sbj wdt:P31 wd:Q31 . ?sbj rdfs:label ?sbj_label . FILTER(STRSTARTS(lcase(?sbj_label), 'trichology')) . FILTER (lang(?sbj_label) = 'en')  LIMIT 25\n",
      "Failed query number 264\n",
      "failed query SELECT (COUNT(?sub) AS ?value )  ?sub wdt:P31 ?obj \n",
      "Failed query number 265\n"
     ]
    },
    {
     "name": "stderr",
     "output_type": "stream",
     "text": [
      "ERROR:backoff:Giving up execute_sparql_query(...) after 1 tries (requests.exceptions.HTTPError: 400 Client Error: Bad Request for url: https://query.wikidata.org/sparql?query=%23Tool%3A+WikibaseIntegrator+wbi_functions.execute_sparql_query%0ASELECT+DISTINCT+%3Fsbj+%3Fsbj_label+WHERE++%3Fsbj+wdt%3AP31+wd%3AQ31+.+%3Fsbj+rdfs%3Alabel+%3Fsbj_label+.+FILTER%28CONTAINS%28lcase%28%3Fsbj_label%29%2C+%27uttarakhand%27%29%29+.+FILTER+%28lang%28%3Fsbj_label%29+%3D+%27en%27%29++LIMIT+25&format=json)\n",
      "ERROR:root:HTTPError 400 Client Error: Bad Request for url: https://query.wikidata.org/sparql?query=%23Tool%3A+WikibaseIntegrator+wbi_functions.execute_sparql_query%0ASELECT+DISTINCT+%3Fsbj+%3Fsbj_label+WHERE++%3Fsbj+wdt%3AP31+wd%3AQ31+.+%3Fsbj+rdfs%3Alabel+%3Fsbj_label+.+FILTER%28CONTAINS%28lcase%28%3Fsbj_label%29%2C+%27uttarakhand%27%29%29+.+FILTER+%28lang%28%3Fsbj_label%29+%3D+%27en%27%29++LIMIT+25&format=json\n",
      "ERROR:backoff:Giving up execute_sparql_query(...) after 1 tries (requests.exceptions.HTTPError: 400 Client Error: Bad Request for url: https://query.wikidata.org/sparql?query=%23Tool%3A+WikibaseIntegrator+wbi_functions.execute_sparql_query%0Aselect+distinct+%3Fsbj+where++%3Fsbj+wdt%3AP31+wd%3AQ220+.+%3Fsbj+wdt%3AP31+wd%3AQ220+&format=json)\n",
      "ERROR:root:HTTPError 400 Client Error: Bad Request for url: https://query.wikidata.org/sparql?query=%23Tool%3A+WikibaseIntegrator+wbi_functions.execute_sparql_query%0Aselect+distinct+%3Fsbj+where++%3Fsbj+wdt%3AP31+wd%3AQ220+.+%3Fsbj+wdt%3AP31+wd%3AQ220+&format=json\n"
     ]
    },
    {
     "name": "stdout",
     "output_type": "stream",
     "text": [
      "failed query SELECT DISTINCT ?sbj ?sbj_label WHERE  ?sbj wdt:P31 wd:Q31 . ?sbj rdfs:label ?sbj_label . FILTER(CONTAINS(lcase(?sbj_label), 'uttarakhand')) . FILTER (lang(?sbj_label) = 'en')  LIMIT 25\n",
      "Failed query number 266\n",
      "failed query select distinct ?sbj where  ?sbj wdt:P31 wd:Q220 . ?sbj wdt:P31 wd:Q220 \n",
      "Failed query number 267\n"
     ]
    },
    {
     "name": "stderr",
     "output_type": "stream",
     "text": [
      "ERROR:backoff:Giving up execute_sparql_query(...) after 1 tries (requests.exceptions.HTTPError: 400 Client Error: Bad Request for url: https://query.wikidata.org/sparql?query=%23Tool%3A+WikibaseIntegrator+wbi_functions.execute_sparql_query%0ASELECT+DISTINCT+%3Fsbj+%3Fsbj_label+WHERE++%3Fsbj+wdt%3AP31+wd%3AQ220+.+%3Fsbj+rdfs%3Alabel+%3Fsbj_label+.+FILTER%28STRSTARTS%28lcase%28%3Fsbj_label%29%2C+%27DA%27%29%29+.+FILTER+%28lang%28%3Fsbj_label%29+%3D+%27en%27%29++LIMIT+25&format=json)\n",
      "ERROR:root:HTTPError 400 Client Error: Bad Request for url: https://query.wikidata.org/sparql?query=%23Tool%3A+WikibaseIntegrator+wbi_functions.execute_sparql_query%0ASELECT+DISTINCT+%3Fsbj+%3Fsbj_label+WHERE++%3Fsbj+wdt%3AP31+wd%3AQ220+.+%3Fsbj+rdfs%3Alabel+%3Fsbj_label+.+FILTER%28STRSTARTS%28lcase%28%3Fsbj_label%29%2C+%27DA%27%29%29+.+FILTER+%28lang%28%3Fsbj_label%29+%3D+%27en%27%29++LIMIT+25&format=json\n",
      "ERROR:backoff:Giving up execute_sparql_query(...) after 1 tries (requests.exceptions.HTTPError: 400 Client Error: Bad Request for url: https://query.wikidata.org/sparql?query=%23Tool%3A+WikibaseIntegrator+wbi_functions.execute_sparql_query%0ASELECT+DISTINCT+%3Fsbj+%3Fsbj_label+WHERE++%3Fsbj+wdt%3AP31+wd%3AQ220+.+%3Fsbj+rdfs%3Alabel+%3Fsbj_label+.+FILTER%28STRSTARTS%28lcase%28%3Fsbj_label%29%2C+%27coxless+four%27%29%29+&format=json)\n",
      "ERROR:root:HTTPError 400 Client Error: Bad Request for url: https://query.wikidata.org/sparql?query=%23Tool%3A+WikibaseIntegrator+wbi_functions.execute_sparql_query%0ASELECT+DISTINCT+%3Fsbj+%3Fsbj_label+WHERE++%3Fsbj+wdt%3AP31+wd%3AQ220+.+%3Fsbj+rdfs%3Alabel+%3Fsbj_label+.+FILTER%28STRSTARTS%28lcase%28%3Fsbj_label%29%2C+%27coxless+four%27%29%29+&format=json\n"
     ]
    },
    {
     "name": "stdout",
     "output_type": "stream",
     "text": [
      "failed query SELECT DISTINCT ?sbj ?sbj_label WHERE  ?sbj wdt:P31 wd:Q220 . ?sbj rdfs:label ?sbj_label . FILTER(STRSTARTS(lcase(?sbj_label), 'DA')) . FILTER (lang(?sbj_label) = 'en')  LIMIT 25\n",
      "Failed query number 268\n",
      "failed query SELECT DISTINCT ?sbj ?sbj_label WHERE  ?sbj wdt:P31 wd:Q220 . ?sbj rdfs:label ?sbj_label . FILTER(STRSTARTS(lcase(?sbj_label), 'coxless four')) \n",
      "Failed query number 269\n"
     ]
    },
    {
     "name": "stderr",
     "output_type": "stream",
     "text": [
      "ERROR:backoff:Giving up execute_sparql_query(...) after 1 tries (requests.exceptions.HTTPError: 400 Client Error: Bad Request for url: https://query.wikidata.org/sparql?query=%23Tool%3A+WikibaseIntegrator+wbi_functions.execute_sparql_query%0ASELECT+DISTINCT+%3Fsbj+%3Fsbj_label+WHERE++%3Fsbj+wdt%3AP31+wd%3AQ31+.+%3Fsbj+rdfs%3Alabel+%3Fsbj_label+.+FILTER%28CONTAINS%28lcase%28%3Fsbj_label%29%2C+%27yatra%27%29%29+.+FILTER+%28lang%28%3Fsbj_label%29+%3D+%27en%27%29++LIMIT+25&format=json)\n",
      "ERROR:root:HTTPError 400 Client Error: Bad Request for url: https://query.wikidata.org/sparql?query=%23Tool%3A+WikibaseIntegrator+wbi_functions.execute_sparql_query%0ASELECT+DISTINCT+%3Fsbj+%3Fsbj_label+WHERE++%3Fsbj+wdt%3AP31+wd%3AQ31+.+%3Fsbj+rdfs%3Alabel+%3Fsbj_label+.+FILTER%28CONTAINS%28lcase%28%3Fsbj_label%29%2C+%27yatra%27%29%29+.+FILTER+%28lang%28%3Fsbj_label%29+%3D+%27en%27%29++LIMIT+25&format=json\n",
      "ERROR:backoff:Giving up execute_sparql_query(...) after 1 tries (requests.exceptions.HTTPError: 400 Client Error: Bad Request for url: https://query.wikidata.org/sparql?query=%23Tool%3A+WikibaseIntegrator+wbi_functions.execute_sparql_query%0Aselect+distinct+%3Fsbj+where++%3Fsbj+wdt%3AP31+wd%3AQ220+.+%3Fsbj+wdt%3AP31+wd%3AQ220+&format=json)\n",
      "ERROR:root:HTTPError 400 Client Error: Bad Request for url: https://query.wikidata.org/sparql?query=%23Tool%3A+WikibaseIntegrator+wbi_functions.execute_sparql_query%0Aselect+distinct+%3Fsbj+where++%3Fsbj+wdt%3AP31+wd%3AQ220+.+%3Fsbj+wdt%3AP31+wd%3AQ220+&format=json\n"
     ]
    },
    {
     "name": "stdout",
     "output_type": "stream",
     "text": [
      "failed query SELECT DISTINCT ?sbj ?sbj_label WHERE  ?sbj wdt:P31 wd:Q31 . ?sbj rdfs:label ?sbj_label . FILTER(CONTAINS(lcase(?sbj_label), 'yatra')) . FILTER (lang(?sbj_label) = 'en')  LIMIT 25\n",
      "Failed query number 270\n",
      "failed query select distinct ?sbj where  ?sbj wdt:P31 wd:Q220 . ?sbj wdt:P31 wd:Q220 \n",
      "Failed query number 271\n"
     ]
    },
    {
     "name": "stderr",
     "output_type": "stream",
     "text": [
      "ERROR:backoff:Giving up execute_sparql_query(...) after 1 tries (requests.exceptions.HTTPError: 400 Client Error: Bad Request for url: https://query.wikidata.org/sparql?query=%23Tool%3A+WikibaseIntegrator+wbi_functions.execute_sparql_query%0ASELECT+DISTINCT+%3Fsbj+%3Fsbj_label+WHERE++%3Fsbj+wdt%3AP31+wd%3AQ31+.+%3Fsbj+rdfs%3Alabel+%3Fsbj_label+.+FILTER%28STRSTARTS%28lcase%28%3Fsbj_label%29%2C+%27n%2Fa%27%29%29+.+FILTER+%28lang%28%3Fsbj_label%29+%3D+%27en%27%29++LIMIT+25&format=json)\n",
      "ERROR:root:HTTPError 400 Client Error: Bad Request for url: https://query.wikidata.org/sparql?query=%23Tool%3A+WikibaseIntegrator+wbi_functions.execute_sparql_query%0ASELECT+DISTINCT+%3Fsbj+%3Fsbj_label+WHERE++%3Fsbj+wdt%3AP31+wd%3AQ31+.+%3Fsbj+rdfs%3Alabel+%3Fsbj_label+.+FILTER%28STRSTARTS%28lcase%28%3Fsbj_label%29%2C+%27n%2Fa%27%29%29+.+FILTER+%28lang%28%3Fsbj_label%29+%3D+%27en%27%29++LIMIT+25&format=json\n",
      "ERROR:backoff:Giving up execute_sparql_query(...) after 1 tries (requests.exceptions.HTTPError: 400 Client Error: Bad Request for url: https://query.wikidata.org/sparql?query=%23Tool%3A+WikibaseIntegrator+wbi_functions.execute_sparql_query%0ASELECT+DISTINCT+%3Fsbj+%3Fsbj_label+WHERE++%3Fsbj+wdt%3AP31+wd%3AQ220+.+%3Fsbj+rdfs%3Alabel+%3Fsbj_label+.+FILTER%28CONTAINS%28lcase%28%3Fsbj_label%29%2C+%27wdt%3AP31+wd%3AQ25959%27%29%29+.+FILTER+%28lang&format=json)\n",
      "ERROR:root:HTTPError 400 Client Error: Bad Request for url: https://query.wikidata.org/sparql?query=%23Tool%3A+WikibaseIntegrator+wbi_functions.execute_sparql_query%0ASELECT+DISTINCT+%3Fsbj+%3Fsbj_label+WHERE++%3Fsbj+wdt%3AP31+wd%3AQ220+.+%3Fsbj+rdfs%3Alabel+%3Fsbj_label+.+FILTER%28CONTAINS%28lcase%28%3Fsbj_label%29%2C+%27wdt%3AP31+wd%3AQ25959%27%29%29+.+FILTER+%28lang&format=json\n"
     ]
    },
    {
     "name": "stdout",
     "output_type": "stream",
     "text": [
      "failed query SELECT DISTINCT ?sbj ?sbj_label WHERE  ?sbj wdt:P31 wd:Q31 . ?sbj rdfs:label ?sbj_label . FILTER(STRSTARTS(lcase(?sbj_label), 'n/a')) . FILTER (lang(?sbj_label) = 'en')  LIMIT 25\n",
      "Failed query number 272\n",
      "failed query SELECT DISTINCT ?sbj ?sbj_label WHERE  ?sbj wdt:P31 wd:Q220 . ?sbj rdfs:label ?sbj_label . FILTER(CONTAINS(lcase(?sbj_label), 'wdt:P31 wd:Q25959')) . FILTER (lang\n",
      "Failed query number 273\n"
     ]
    },
    {
     "name": "stderr",
     "output_type": "stream",
     "text": [
      "ERROR:backoff:Giving up execute_sparql_query(...) after 1 tries (requests.exceptions.HTTPError: 400 Client Error: Bad Request for url: https://query.wikidata.org/sparql?query=%23Tool%3A+WikibaseIntegrator+wbi_functions.execute_sparql_query%0Aselect+distinct+%3Fsbj+where++%3Fsbj+wdt%3AP31+wd%3AQ220+.+%3Fsbj+wdt%3AP31+wd%3AQ220+&format=json)\n",
      "ERROR:root:HTTPError 400 Client Error: Bad Request for url: https://query.wikidata.org/sparql?query=%23Tool%3A+WikibaseIntegrator+wbi_functions.execute_sparql_query%0Aselect+distinct+%3Fsbj+where++%3Fsbj+wdt%3AP31+wd%3AQ220+.+%3Fsbj+wdt%3AP31+wd%3AQ220+&format=json\n",
      "ERROR:backoff:Giving up execute_sparql_query(...) after 1 tries (requests.exceptions.HTTPError: 400 Client Error: Bad Request for url: https://query.wikidata.org/sparql?query=%23Tool%3A+WikibaseIntegrator+wbi_functions.execute_sparql_query%0Aselect+distinct+%3Fsbj+where++%3Fsbj+wdt%3AP31+wd%3AQ220+.+%3Fsbj+wdt%3AP31+wd%3AQ220+&format=json)\n",
      "ERROR:root:HTTPError 400 Client Error: Bad Request for url: https://query.wikidata.org/sparql?query=%23Tool%3A+WikibaseIntegrator+wbi_functions.execute_sparql_query%0Aselect+distinct+%3Fsbj+where++%3Fsbj+wdt%3AP31+wd%3AQ220+.+%3Fsbj+wdt%3AP31+wd%3AQ220+&format=json\n"
     ]
    },
    {
     "name": "stdout",
     "output_type": "stream",
     "text": [
      "failed query select distinct ?sbj where  ?sbj wdt:P31 wd:Q220 . ?sbj wdt:P31 wd:Q220 \n",
      "Failed query number 274\n",
      "failed query select distinct ?sbj where  ?sbj wdt:P31 wd:Q220 . ?sbj wdt:P31 wd:Q220 \n",
      "Failed query number 275\n"
     ]
    },
    {
     "name": "stderr",
     "output_type": "stream",
     "text": [
      "ERROR:backoff:Giving up execute_sparql_query(...) after 1 tries (requests.exceptions.HTTPError: 400 Client Error: Bad Request for url: https://query.wikidata.org/sparql?query=%23Tool%3A+WikibaseIntegrator+wbi_functions.execute_sparql_query%0ASELECT+DISTINCT+%3Fsbj+%3Fsbj_label+WHERE++%3Fsbj+wdt%3AP31+wd%3AQ31+.+%3Fsbj+rdfs%3Alabel+%3Fsbj_label+.+FILTER%28CONTAINS%28lcase%28%3Fsbj_label%29%2C+%27enclaved%27%29%29+.+FILTER+%28lang%28%3Fsbj_label%29+%3D+%27en%27%29++LIMIT+25&format=json)\n",
      "ERROR:root:HTTPError 400 Client Error: Bad Request for url: https://query.wikidata.org/sparql?query=%23Tool%3A+WikibaseIntegrator+wbi_functions.execute_sparql_query%0ASELECT+DISTINCT+%3Fsbj+%3Fsbj_label+WHERE++%3Fsbj+wdt%3AP31+wd%3AQ31+.+%3Fsbj+rdfs%3Alabel+%3Fsbj_label+.+FILTER%28CONTAINS%28lcase%28%3Fsbj_label%29%2C+%27enclaved%27%29%29+.+FILTER+%28lang%28%3Fsbj_label%29+%3D+%27en%27%29++LIMIT+25&format=json\n",
      "ERROR:backoff:Giving up execute_sparql_query(...) after 1 tries (requests.exceptions.HTTPError: 400 Client Error: Bad Request for url: https://query.wikidata.org/sparql?query=%23Tool%3A+WikibaseIntegrator+wbi_functions.execute_sparql_query%0Aselect+distinct+%3Fsbj+where++%3Fsbj+wdt%3AP31+wd%3AQ220+.+%3Fsbj+wdt%3AP31+wd%3AQ220+&format=json)\n",
      "ERROR:root:HTTPError 400 Client Error: Bad Request for url: https://query.wikidata.org/sparql?query=%23Tool%3A+WikibaseIntegrator+wbi_functions.execute_sparql_query%0Aselect+distinct+%3Fsbj+where++%3Fsbj+wdt%3AP31+wd%3AQ220+.+%3Fsbj+wdt%3AP31+wd%3AQ220+&format=json\n"
     ]
    },
    {
     "name": "stdout",
     "output_type": "stream",
     "text": [
      "failed query SELECT DISTINCT ?sbj ?sbj_label WHERE  ?sbj wdt:P31 wd:Q31 . ?sbj rdfs:label ?sbj_label . FILTER(CONTAINS(lcase(?sbj_label), 'enclaved')) . FILTER (lang(?sbj_label) = 'en')  LIMIT 25\n",
      "Failed query number 276\n",
      "failed query select distinct ?sbj where  ?sbj wdt:P31 wd:Q220 . ?sbj wdt:P31 wd:Q220 \n",
      "Failed query number 277\n"
     ]
    },
    {
     "name": "stderr",
     "output_type": "stream",
     "text": [
      "ERROR:backoff:Giving up execute_sparql_query(...) after 1 tries (requests.exceptions.HTTPError: 400 Client Error: Bad Request for url: https://query.wikidata.org/sparql?query=%23Tool%3A+WikibaseIntegrator+wbi_functions.execute_sparql_query%0ASELECT+%3Fanswer+WHERE++wd%3AQ220+wdt%3AP31+%3Fanswer+.+%3Fanswer+wdt%3AP31+wd%3AQ220+&format=json)\n",
      "ERROR:root:HTTPError 400 Client Error: Bad Request for url: https://query.wikidata.org/sparql?query=%23Tool%3A+WikibaseIntegrator+wbi_functions.execute_sparql_query%0ASELECT+%3Fanswer+WHERE++wd%3AQ220+wdt%3AP31+%3Fanswer+.+%3Fanswer+wdt%3AP31+wd%3AQ220+&format=json\n"
     ]
    },
    {
     "name": "stdout",
     "output_type": "stream",
     "text": [
      "failed query SELECT ?answer WHERE  wd:Q220 wdt:P31 ?answer . ?answer wdt:P31 wd:Q220 \n",
      "Failed query number 278\n"
     ]
    },
    {
     "name": "stderr",
     "output_type": "stream",
     "text": [
      "ERROR:backoff:Giving up execute_sparql_query(...) after 1 tries (requests.exceptions.HTTPError: 400 Client Error: Bad Request for url: https://query.wikidata.org/sparql?query=%23Tool%3A+WikibaseIntegrator+wbi_functions.execute_sparql_query%0Aselect+distinct+%3Fsbj+where++%3Fsbj+wdt%3AP31+wd%3AQ220+.+%3Fsbj+wdt%3AP31+wd%3AQ220+&format=json)\n",
      "ERROR:root:HTTPError 400 Client Error: Bad Request for url: https://query.wikidata.org/sparql?query=%23Tool%3A+WikibaseIntegrator+wbi_functions.execute_sparql_query%0Aselect+distinct+%3Fsbj+where++%3Fsbj+wdt%3AP31+wd%3AQ220+.+%3Fsbj+wdt%3AP31+wd%3AQ220+&format=json\n",
      "ERROR:backoff:Giving up execute_sparql_query(...) after 1 tries (requests.exceptions.HTTPError: 400 Client Error: Bad Request for url: https://query.wikidata.org/sparql?query=%23Tool%3A+WikibaseIntegrator+wbi_functions.execute_sparql_query%0Aselect+distinct+%3Fsbj+where++%3Fsbj+wdt%3AP31+wd%3AQ220+.+%3Fsbj+wdt%3AP31+wd%3AQ220+&format=json)\n",
      "ERROR:root:HTTPError 400 Client Error: Bad Request for url: https://query.wikidata.org/sparql?query=%23Tool%3A+WikibaseIntegrator+wbi_functions.execute_sparql_query%0Aselect+distinct+%3Fsbj+where++%3Fsbj+wdt%3AP31+wd%3AQ220+.+%3Fsbj+wdt%3AP31+wd%3AQ220+&format=json\n"
     ]
    },
    {
     "name": "stdout",
     "output_type": "stream",
     "text": [
      "failed query select distinct ?sbj where  ?sbj wdt:P31 wd:Q220 . ?sbj wdt:P31 wd:Q220 \n",
      "Failed query number 279\n",
      "failed query select distinct ?sbj where  ?sbj wdt:P31 wd:Q220 . ?sbj wdt:P31 wd:Q220 \n",
      "Failed query number 280\n"
     ]
    },
    {
     "name": "stderr",
     "output_type": "stream",
     "text": [
      "ERROR:backoff:Giving up execute_sparql_query(...) after 1 tries (requests.exceptions.HTTPError: 400 Client Error: Bad Request for url: https://query.wikidata.org/sparql?query=%23Tool%3A+WikibaseIntegrator+wbi_functions.execute_sparql_query%0Aselect+distinct+%3Fsbj+where++%3Fsbj+wdt%3AP31+wd%3AQ220+.+%3Fsbj+wdt%3AP31+wd%3AQ220+&format=json)\n",
      "ERROR:root:HTTPError 400 Client Error: Bad Request for url: https://query.wikidata.org/sparql?query=%23Tool%3A+WikibaseIntegrator+wbi_functions.execute_sparql_query%0Aselect+distinct+%3Fsbj+where++%3Fsbj+wdt%3AP31+wd%3AQ220+.+%3Fsbj+wdt%3AP31+wd%3AQ220+&format=json\n"
     ]
    },
    {
     "name": "stdout",
     "output_type": "stream",
     "text": [
      "failed query select distinct ?sbj where  ?sbj wdt:P31 wd:Q220 . ?sbj wdt:P31 wd:Q220 \n",
      "Failed query number 281\n"
     ]
    },
    {
     "name": "stderr",
     "output_type": "stream",
     "text": [
      "ERROR:backoff:Giving up execute_sparql_query(...) after 1 tries (requests.exceptions.HTTPError: 400 Client Error: Bad Request for url: https://query.wikidata.org/sparql?query=%23Tool%3A+WikibaseIntegrator+wbi_functions.execute_sparql_query%0Aselect+distinct+%3Fsbj+where++%3Fsbj+wdt%3AP31+wd%3AQ220+.+%3Fsbj+wdt%3AP31+wd%3AQ220+&format=json)\n",
      "ERROR:root:HTTPError 400 Client Error: Bad Request for url: https://query.wikidata.org/sparql?query=%23Tool%3A+WikibaseIntegrator+wbi_functions.execute_sparql_query%0Aselect+distinct+%3Fsbj+where++%3Fsbj+wdt%3AP31+wd%3AQ220+.+%3Fsbj+wdt%3AP31+wd%3AQ220+&format=json\n",
      "ERROR:backoff:Giving up execute_sparql_query(...) after 1 tries (requests.exceptions.HTTPError: 400 Client Error: Bad Request for url: https://query.wikidata.org/sparql?query=%23Tool%3A+WikibaseIntegrator+wbi_functions.execute_sparql_query%0Aselect+distinct+%3Fsbj+where++%3Fsbj+wdt%3AP31+wd%3AQ220+.+%3Fsbj+wdt%3AP31+wd%3AQ220+&format=json)\n",
      "ERROR:root:HTTPError 400 Client Error: Bad Request for url: https://query.wikidata.org/sparql?query=%23Tool%3A+WikibaseIntegrator+wbi_functions.execute_sparql_query%0Aselect+distinct+%3Fsbj+where++%3Fsbj+wdt%3AP31+wd%3AQ220+.+%3Fsbj+wdt%3AP31+wd%3AQ220+&format=json\n"
     ]
    },
    {
     "name": "stdout",
     "output_type": "stream",
     "text": [
      "failed query select distinct ?sbj where  ?sbj wdt:P31 wd:Q220 . ?sbj wdt:P31 wd:Q220 \n",
      "Failed query number 282\n",
      "failed query select distinct ?sbj where  ?sbj wdt:P31 wd:Q220 . ?sbj wdt:P31 wd:Q220 \n",
      "Failed query number 283\n"
     ]
    },
    {
     "name": "stderr",
     "output_type": "stream",
     "text": [
      "ERROR:backoff:Giving up execute_sparql_query(...) after 1 tries (requests.exceptions.HTTPError: 400 Client Error: Bad Request for url: https://query.wikidata.org/sparql?query=%23Tool%3A+WikibaseIntegrator+wbi_functions.execute_sparql_query%0ASELECT+%3Fanswer+WHERE++wd%3AQ220+wdt%3AP31+wd%3AQ220+.+%3Fanswer+wdt%3AP31+wd%3AQ220+&format=json)\n",
      "ERROR:root:HTTPError 400 Client Error: Bad Request for url: https://query.wikidata.org/sparql?query=%23Tool%3A+WikibaseIntegrator+wbi_functions.execute_sparql_query%0ASELECT+%3Fanswer+WHERE++wd%3AQ220+wdt%3AP31+wd%3AQ220+.+%3Fanswer+wdt%3AP31+wd%3AQ220+&format=json\n",
      "ERROR:backoff:Giving up execute_sparql_query(...) after 1 tries (requests.exceptions.HTTPError: 400 Client Error: Bad Request for url: https://query.wikidata.org/sparql?query=%23Tool%3A+WikibaseIntegrator+wbi_functions.execute_sparql_query%0Aselect+distinct+%3Fsbj+where++%3Fsbj+wdt%3AP31+wd%3AQ220+.+%3Fsbj+wdt%3AP31+wd%3AQ220+&format=json)\n",
      "ERROR:root:HTTPError 400 Client Error: Bad Request for url: https://query.wikidata.org/sparql?query=%23Tool%3A+WikibaseIntegrator+wbi_functions.execute_sparql_query%0Aselect+distinct+%3Fsbj+where++%3Fsbj+wdt%3AP31+wd%3AQ220+.+%3Fsbj+wdt%3AP31+wd%3AQ220+&format=json\n"
     ]
    },
    {
     "name": "stdout",
     "output_type": "stream",
     "text": [
      "failed query SELECT ?answer WHERE  wd:Q220 wdt:P31 wd:Q220 . ?answer wdt:P31 wd:Q220 \n",
      "Failed query number 284\n",
      "failed query select distinct ?sbj where  ?sbj wdt:P31 wd:Q220 . ?sbj wdt:P31 wd:Q220 \n",
      "Failed query number 285\n"
     ]
    },
    {
     "name": "stderr",
     "output_type": "stream",
     "text": [
      "ERROR:backoff:Giving up execute_sparql_query(...) after 1 tries (requests.exceptions.HTTPError: 400 Client Error: Bad Request for url: https://query.wikidata.org/sparql?query=%23Tool%3A+WikibaseIntegrator+wbi_functions.execute_sparql_query%0Aselect+distinct+%3Fsbj+where++%3Fsbj+wdt%3AP31+wd%3AQ220+.+%3Fsbj+wdt%3AP31+wd%3AQ220+&format=json)\n",
      "ERROR:root:HTTPError 400 Client Error: Bad Request for url: https://query.wikidata.org/sparql?query=%23Tool%3A+WikibaseIntegrator+wbi_functions.execute_sparql_query%0Aselect+distinct+%3Fsbj+where++%3Fsbj+wdt%3AP31+wd%3AQ220+.+%3Fsbj+wdt%3AP31+wd%3AQ220+&format=json\n",
      "ERROR:backoff:Giving up execute_sparql_query(...) after 1 tries (requests.exceptions.HTTPError: 400 Client Error: Bad Request for url: https://query.wikidata.org/sparql?query=%23Tool%3A+WikibaseIntegrator+wbi_functions.execute_sparql_query%0Aselect+distinct+%3Fsbj+where++%3Fsbj+wdt%3AP31+wd%3AQ220+.+%3Fsbj+wdt%3AP31+wd%3AQ220+&format=json)\n",
      "ERROR:root:HTTPError 400 Client Error: Bad Request for url: https://query.wikidata.org/sparql?query=%23Tool%3A+WikibaseIntegrator+wbi_functions.execute_sparql_query%0Aselect+distinct+%3Fsbj+where++%3Fsbj+wdt%3AP31+wd%3AQ220+.+%3Fsbj+wdt%3AP31+wd%3AQ220+&format=json\n"
     ]
    },
    {
     "name": "stdout",
     "output_type": "stream",
     "text": [
      "failed query select distinct ?sbj where  ?sbj wdt:P31 wd:Q220 . ?sbj wdt:P31 wd:Q220 \n",
      "Failed query number 286\n",
      "failed query select distinct ?sbj where  ?sbj wdt:P31 wd:Q220 . ?sbj wdt:P31 wd:Q220 \n",
      "Failed query number 287\n"
     ]
    },
    {
     "name": "stderr",
     "output_type": "stream",
     "text": [
      "ERROR:backoff:Giving up execute_sparql_query(...) after 1 tries (requests.exceptions.HTTPError: 400 Client Error: Bad Request for url: https://query.wikidata.org/sparql?query=%23Tool%3A+WikibaseIntegrator+wbi_functions.execute_sparql_query%0Aselect+distinct+%3Fsbj+where++%3Fsbj+wdt%3AP31+wd%3AQ220+.+%3Fsbj+wdt%3AP31+wd%3AQ220+&format=json)\n",
      "ERROR:root:HTTPError 400 Client Error: Bad Request for url: https://query.wikidata.org/sparql?query=%23Tool%3A+WikibaseIntegrator+wbi_functions.execute_sparql_query%0Aselect+distinct+%3Fsbj+where++%3Fsbj+wdt%3AP31+wd%3AQ220+.+%3Fsbj+wdt%3AP31+wd%3AQ220+&format=json\n",
      "ERROR:backoff:Giving up execute_sparql_query(...) after 1 tries (requests.exceptions.HTTPError: 400 Client Error: Bad Request for url: https://query.wikidata.org/sparql?query=%23Tool%3A+WikibaseIntegrator+wbi_functions.execute_sparql_query%0Aselect+distinct+%3Fsbj+where++%3Fsbj+wdt%3AP31+wd%3AQ220+.+%3Fsbj+wdt%3AP31+wd%3AQ220+&format=json)\n",
      "ERROR:root:HTTPError 400 Client Error: Bad Request for url: https://query.wikidata.org/sparql?query=%23Tool%3A+WikibaseIntegrator+wbi_functions.execute_sparql_query%0Aselect+distinct+%3Fsbj+where++%3Fsbj+wdt%3AP31+wd%3AQ220+.+%3Fsbj+wdt%3AP31+wd%3AQ220+&format=json\n"
     ]
    },
    {
     "name": "stdout",
     "output_type": "stream",
     "text": [
      "failed query select distinct ?sbj where  ?sbj wdt:P31 wd:Q220 . ?sbj wdt:P31 wd:Q220 \n",
      "Failed query number 288\n",
      "failed query select distinct ?sbj where  ?sbj wdt:P31 wd:Q220 . ?sbj wdt:P31 wd:Q220 \n",
      "Failed query number 289\n"
     ]
    },
    {
     "name": "stderr",
     "output_type": "stream",
     "text": [
      "ERROR:backoff:Giving up execute_sparql_query(...) after 1 tries (requests.exceptions.HTTPError: 400 Client Error: Bad Request for url: https://query.wikidata.org/sparql?query=%23Tool%3A+WikibaseIntegrator+wbi_functions.execute_sparql_query%0Aselect+distinct+%3Fsbj+where++%3Fsbj+wdt%3AP31+wd%3AQ220+.+%3Fsbj+wdt%3AP31+wd%3AQ220+&format=json)\n",
      "ERROR:root:HTTPError 400 Client Error: Bad Request for url: https://query.wikidata.org/sparql?query=%23Tool%3A+WikibaseIntegrator+wbi_functions.execute_sparql_query%0Aselect+distinct+%3Fsbj+where++%3Fsbj+wdt%3AP31+wd%3AQ220+.+%3Fsbj+wdt%3AP31+wd%3AQ220+&format=json\n",
      "ERROR:backoff:Giving up execute_sparql_query(...) after 1 tries (requests.exceptions.HTTPError: 400 Client Error: Bad Request for url: https://query.wikidata.org/sparql?query=%23Tool%3A+WikibaseIntegrator+wbi_functions.execute_sparql_query%0Aselect+distinct+%3Fsbj+where++%3Fsbj+wdt%3AP31+wd%3AQ220+.+%3Fsbj+wdt%3AP31+wd%3AQ220+&format=json)\n",
      "ERROR:root:HTTPError 400 Client Error: Bad Request for url: https://query.wikidata.org/sparql?query=%23Tool%3A+WikibaseIntegrator+wbi_functions.execute_sparql_query%0Aselect+distinct+%3Fsbj+where++%3Fsbj+wdt%3AP31+wd%3AQ220+.+%3Fsbj+wdt%3AP31+wd%3AQ220+&format=json\n"
     ]
    },
    {
     "name": "stdout",
     "output_type": "stream",
     "text": [
      "failed query select distinct ?sbj where  ?sbj wdt:P31 wd:Q220 . ?sbj wdt:P31 wd:Q220 \n",
      "Failed query number 290\n",
      "failed query select distinct ?sbj where  ?sbj wdt:P31 wd:Q220 . ?sbj wdt:P31 wd:Q220 \n",
      "Failed query number 291\n"
     ]
    },
    {
     "name": "stderr",
     "output_type": "stream",
     "text": [
      "ERROR:backoff:Giving up execute_sparql_query(...) after 1 tries (requests.exceptions.HTTPError: 400 Client Error: Bad Request for url: https://query.wikidata.org/sparql?query=%23Tool%3A+WikibaseIntegrator+wbi_functions.execute_sparql_query%0Aselect+distinct+%3Fsbj+where++%3Fsbj+wdt%3AP31+wd%3AQ220+.+%3Fsbj+wdt%3AP31+wd%3AQ220+&format=json)\n",
      "ERROR:root:HTTPError 400 Client Error: Bad Request for url: https://query.wikidata.org/sparql?query=%23Tool%3A+WikibaseIntegrator+wbi_functions.execute_sparql_query%0Aselect+distinct+%3Fsbj+where++%3Fsbj+wdt%3AP31+wd%3AQ220+.+%3Fsbj+wdt%3AP31+wd%3AQ220+&format=json\n",
      "ERROR:backoff:Giving up execute_sparql_query(...) after 1 tries (requests.exceptions.HTTPError: 400 Client Error: Bad Request for url: https://query.wikidata.org/sparql?query=%23Tool%3A+WikibaseIntegrator+wbi_functions.execute_sparql_query%0ASELECT+DISTINCT+%3Fsbj+%3Fsbj_label+WHERE++%3Fsbj+wdt%3AP31+wd%3AQ31+.+%3Fsbj+rdfs%3Alabel+%3Fsbj_label+.+FILTER%28STRSTARTS%28lcase%28%3Fsbj_label%29%2C+%27m%27%29%29+.+FILTER+%28lang%28%3Fsbj_label%29+%3D+%27m%27%29%29++LIMIT+25&format=json)\n",
      "ERROR:root:HTTPError 400 Client Error: Bad Request for url: https://query.wikidata.org/sparql?query=%23Tool%3A+WikibaseIntegrator+wbi_functions.execute_sparql_query%0ASELECT+DISTINCT+%3Fsbj+%3Fsbj_label+WHERE++%3Fsbj+wdt%3AP31+wd%3AQ31+.+%3Fsbj+rdfs%3Alabel+%3Fsbj_label+.+FILTER%28STRSTARTS%28lcase%28%3Fsbj_label%29%2C+%27m%27%29%29+.+FILTER+%28lang%28%3Fsbj_label%29+%3D+%27m%27%29%29++LIMIT+25&format=json\n"
     ]
    },
    {
     "name": "stdout",
     "output_type": "stream",
     "text": [
      "failed query select distinct ?sbj where  ?sbj wdt:P31 wd:Q220 . ?sbj wdt:P31 wd:Q220 \n",
      "Failed query number 292\n",
      "failed query SELECT DISTINCT ?sbj ?sbj_label WHERE  ?sbj wdt:P31 wd:Q31 . ?sbj rdfs:label ?sbj_label . FILTER(STRSTARTS(lcase(?sbj_label), 'm')) . FILTER (lang(?sbj_label) = 'm'))  LIMIT 25\n",
      "Failed query number 293\n"
     ]
    },
    {
     "name": "stderr",
     "output_type": "stream",
     "text": [
      "ERROR:backoff:Giving up execute_sparql_query(...) after 1 tries (requests.exceptions.HTTPError: 400 Client Error: Bad Request for url: https://query.wikidata.org/sparql?query=%23Tool%3A+WikibaseIntegrator+wbi_functions.execute_sparql_query%0ASELECT+DISTINCT+%3Fsbj+%3Fsbj_label+WHERE++%3Fsbj+wdt%3AP31+wd%3AQ31+.+%3Fsbj+rdfs%3Alabel+%3Fsbj_label+.+FILTER%28CONTAINS%28lcase%28%3Fsbj_label%29%2C+%27zigby%27%29%29+.+FILTER+%28lang%28%3Fsbj_label%29+%3D+%27en%27%29++LIMIT+25&format=json)\n",
      "ERROR:root:HTTPError 400 Client Error: Bad Request for url: https://query.wikidata.org/sparql?query=%23Tool%3A+WikibaseIntegrator+wbi_functions.execute_sparql_query%0ASELECT+DISTINCT+%3Fsbj+%3Fsbj_label+WHERE++%3Fsbj+wdt%3AP31+wd%3AQ31+.+%3Fsbj+rdfs%3Alabel+%3Fsbj_label+.+FILTER%28CONTAINS%28lcase%28%3Fsbj_label%29%2C+%27zigby%27%29%29+.+FILTER+%28lang%28%3Fsbj_label%29+%3D+%27en%27%29++LIMIT+25&format=json\n",
      "ERROR:backoff:Giving up execute_sparql_query(...) after 1 tries (requests.exceptions.HTTPError: 400 Client Error: Bad Request for url: https://query.wikidata.org/sparql?query=%23Tool%3A+WikibaseIntegrator+wbi_functions.execute_sparql_query%0ASELECT+DISTINCT+%3Fsbj+%3Fsbj_label+WHERE++%3Fsbj+wdt%3AP31+wd%3AQ31+.+%3Fsbj+rdfs%3Alabel+%3Fsbj_label+.+FILTER%28STRSTARTS%28lcase%28%3Fsbj_label%29%2C+%27sbj_label%27%29%29+.+FILTER+%28lang%28%3Fsbj_label%29+%3D+%27en%27%29++LIMIT+25&format=json)\n",
      "ERROR:root:HTTPError 400 Client Error: Bad Request for url: https://query.wikidata.org/sparql?query=%23Tool%3A+WikibaseIntegrator+wbi_functions.execute_sparql_query%0ASELECT+DISTINCT+%3Fsbj+%3Fsbj_label+WHERE++%3Fsbj+wdt%3AP31+wd%3AQ31+.+%3Fsbj+rdfs%3Alabel+%3Fsbj_label+.+FILTER%28STRSTARTS%28lcase%28%3Fsbj_label%29%2C+%27sbj_label%27%29%29+.+FILTER+%28lang%28%3Fsbj_label%29+%3D+%27en%27%29++LIMIT+25&format=json\n"
     ]
    },
    {
     "name": "stdout",
     "output_type": "stream",
     "text": [
      "failed query SELECT DISTINCT ?sbj ?sbj_label WHERE  ?sbj wdt:P31 wd:Q31 . ?sbj rdfs:label ?sbj_label . FILTER(CONTAINS(lcase(?sbj_label), 'zigby')) . FILTER (lang(?sbj_label) = 'en')  LIMIT 25\n",
      "Failed query number 294\n",
      "failed query SELECT DISTINCT ?sbj ?sbj_label WHERE  ?sbj wdt:P31 wd:Q31 . ?sbj rdfs:label ?sbj_label . FILTER(STRSTARTS(lcase(?sbj_label), 'sbj_label')) . FILTER (lang(?sbj_label) = 'en')  LIMIT 25\n",
      "Failed query number 295\n"
     ]
    },
    {
     "name": "stderr",
     "output_type": "stream",
     "text": [
      "ERROR:backoff:Giving up execute_sparql_query(...) after 1 tries (requests.exceptions.HTTPError: 400 Client Error: Bad Request for url: https://query.wikidata.org/sparql?query=%23Tool%3A+WikibaseIntegrator+wbi_functions.execute_sparql_query%0ASELECT+DISTINCT+%3Fsbj+%3Fsbj_label+WHERE++%3Fsbj+wdt%3AP31+wd%3AQ220+.+%3Fsbj+rdfs%3Alabel+%3Fsbj_label+.+FILTER%28CONTAINS%28lcase%28%3Fsbj_label%29%2C+%27patronifical+Academy+of+Latin%27%29%29+.+FILTER+%28lang%28%3Fsbj&format=json)\n",
      "ERROR:root:HTTPError 400 Client Error: Bad Request for url: https://query.wikidata.org/sparql?query=%23Tool%3A+WikibaseIntegrator+wbi_functions.execute_sparql_query%0ASELECT+DISTINCT+%3Fsbj+%3Fsbj_label+WHERE++%3Fsbj+wdt%3AP31+wd%3AQ220+.+%3Fsbj+rdfs%3Alabel+%3Fsbj_label+.+FILTER%28CONTAINS%28lcase%28%3Fsbj_label%29%2C+%27patronifical+Academy+of+Latin%27%29%29+.+FILTER+%28lang%28%3Fsbj&format=json\n"
     ]
    },
    {
     "name": "stdout",
     "output_type": "stream",
     "text": [
      "failed query SELECT DISTINCT ?sbj ?sbj_label WHERE  ?sbj wdt:P31 wd:Q220 . ?sbj rdfs:label ?sbj_label . FILTER(CONTAINS(lcase(?sbj_label), 'patronifical Academy of Latin')) . FILTER (lang(?sbj\n",
      "Failed query number 296\n"
     ]
    },
    {
     "name": "stderr",
     "output_type": "stream",
     "text": [
      "ERROR:backoff:Giving up execute_sparql_query(...) after 1 tries (requests.exceptions.HTTPError: 400 Client Error: Bad Request for url: https://query.wikidata.org/sparql?query=%23Tool%3A+WikibaseIntegrator+wbi_functions.execute_sparql_query%0Aselect+distinct+%3Fsbj+where++%3Fsbj+wdt%3AP31+wd%3AQ220+.+%3Fsbj+wdt%3AP31+wd%3AQ220+&format=json)\n",
      "ERROR:root:HTTPError 400 Client Error: Bad Request for url: https://query.wikidata.org/sparql?query=%23Tool%3A+WikibaseIntegrator+wbi_functions.execute_sparql_query%0Aselect+distinct+%3Fsbj+where++%3Fsbj+wdt%3AP31+wd%3AQ220+.+%3Fsbj+wdt%3AP31+wd%3AQ220+&format=json\n",
      "ERROR:backoff:Giving up execute_sparql_query(...) after 1 tries (requests.exceptions.HTTPError: 400 Client Error: Bad Request for url: https://query.wikidata.org/sparql?query=%23Tool%3A+WikibaseIntegrator+wbi_functions.execute_sparql_query%0ASELECT+%3Fanswer+WHERE++wd%3AQ220+wdt%3AP31+%3Fanswer+.+%3Fanswer+wdt%3AP31+wd%3AQ220+&format=json)\n",
      "ERROR:root:HTTPError 400 Client Error: Bad Request for url: https://query.wikidata.org/sparql?query=%23Tool%3A+WikibaseIntegrator+wbi_functions.execute_sparql_query%0ASELECT+%3Fanswer+WHERE++wd%3AQ220+wdt%3AP31+%3Fanswer+.+%3Fanswer+wdt%3AP31+wd%3AQ220+&format=json\n"
     ]
    },
    {
     "name": "stdout",
     "output_type": "stream",
     "text": [
      "failed query select distinct ?sbj where  ?sbj wdt:P31 wd:Q220 . ?sbj wdt:P31 wd:Q220 \n",
      "Failed query number 297\n",
      "failed query SELECT ?answer WHERE  wd:Q220 wdt:P31 ?answer . ?answer wdt:P31 wd:Q220 \n",
      "Failed query number 298\n"
     ]
    },
    {
     "name": "stderr",
     "output_type": "stream",
     "text": [
      "ERROR:backoff:Giving up execute_sparql_query(...) after 1 tries (requests.exceptions.HTTPError: 400 Client Error: Bad Request for url: https://query.wikidata.org/sparql?query=%23Tool%3A+WikibaseIntegrator+wbi_functions.execute_sparql_query%0Aselect+distinct+%3Fsbj+where++%3Fsbj+wdt%3AP31+wd%3AQ220+.+%3Fsbj+wdt%3AP31+wd%3AQ220+&format=json)\n",
      "ERROR:root:HTTPError 400 Client Error: Bad Request for url: https://query.wikidata.org/sparql?query=%23Tool%3A+WikibaseIntegrator+wbi_functions.execute_sparql_query%0Aselect+distinct+%3Fsbj+where++%3Fsbj+wdt%3AP31+wd%3AQ220+.+%3Fsbj+wdt%3AP31+wd%3AQ220+&format=json\n",
      "ERROR:backoff:Giving up execute_sparql_query(...) after 1 tries (requests.exceptions.HTTPError: 400 Client Error: Bad Request for url: https://query.wikidata.org/sparql?query=%23Tool%3A+WikibaseIntegrator+wbi_functions.execute_sparql_query%0Aselect+distinct+%3Fsbj+where++%3Fsbj+wdt%3AP31+wd%3AQ220+.+%3Fsbj+wdt%3AP31+wd%3AQ220+&format=json)\n",
      "ERROR:root:HTTPError 400 Client Error: Bad Request for url: https://query.wikidata.org/sparql?query=%23Tool%3A+WikibaseIntegrator+wbi_functions.execute_sparql_query%0Aselect+distinct+%3Fsbj+where++%3Fsbj+wdt%3AP31+wd%3AQ220+.+%3Fsbj+wdt%3AP31+wd%3AQ220+&format=json\n"
     ]
    },
    {
     "name": "stdout",
     "output_type": "stream",
     "text": [
      "failed query select distinct ?sbj where  ?sbj wdt:P31 wd:Q220 . ?sbj wdt:P31 wd:Q220 \n",
      "Failed query number 299\n",
      "failed query select distinct ?sbj where  ?sbj wdt:P31 wd:Q220 . ?sbj wdt:P31 wd:Q220 \n",
      "Failed query number 300\n"
     ]
    },
    {
     "name": "stderr",
     "output_type": "stream",
     "text": [
      "ERROR:backoff:Giving up execute_sparql_query(...) after 1 tries (requests.exceptions.HTTPError: 400 Client Error: Bad Request for url: https://query.wikidata.org/sparql?query=%23Tool%3A+WikibaseIntegrator+wbi_functions.execute_sparql_query%0Aselect+distinct+%3Fsbj+where++%3Fsbj+wdt%3AP31+wd%3AQ220+.+%3Fsbj+wdt%3AP31+wd%3AQ220+&format=json)\n",
      "ERROR:root:HTTPError 400 Client Error: Bad Request for url: https://query.wikidata.org/sparql?query=%23Tool%3A+WikibaseIntegrator+wbi_functions.execute_sparql_query%0Aselect+distinct+%3Fsbj+where++%3Fsbj+wdt%3AP31+wd%3AQ220+.+%3Fsbj+wdt%3AP31+wd%3AQ220+&format=json\n",
      "ERROR:backoff:Giving up execute_sparql_query(...) after 1 tries (requests.exceptions.HTTPError: 400 Client Error: Bad Request for url: https://query.wikidata.org/sparql?query=%23Tool%3A+WikibaseIntegrator+wbi_functions.execute_sparql_query%0Aselect+distinct+%3Fsbj+where++%3Fsbj+wdt%3AP31+wd%3AQ220+.+%3Fsbj+wdt%3AP31+wd%3AQ220+&format=json)\n",
      "ERROR:root:HTTPError 400 Client Error: Bad Request for url: https://query.wikidata.org/sparql?query=%23Tool%3A+WikibaseIntegrator+wbi_functions.execute_sparql_query%0Aselect+distinct+%3Fsbj+where++%3Fsbj+wdt%3AP31+wd%3AQ220+.+%3Fsbj+wdt%3AP31+wd%3AQ220+&format=json\n"
     ]
    },
    {
     "name": "stdout",
     "output_type": "stream",
     "text": [
      "failed query select distinct ?sbj where  ?sbj wdt:P31 wd:Q220 . ?sbj wdt:P31 wd:Q220 \n",
      "Failed query number 301\n",
      "failed query select distinct ?sbj where  ?sbj wdt:P31 wd:Q220 . ?sbj wdt:P31 wd:Q220 \n",
      "Failed query number 302\n"
     ]
    },
    {
     "name": "stderr",
     "output_type": "stream",
     "text": [
      "ERROR:backoff:Giving up execute_sparql_query(...) after 1 tries (requests.exceptions.HTTPError: 400 Client Error: Bad Request for url: https://query.wikidata.org/sparql?query=%23Tool%3A+WikibaseIntegrator+wbi_functions.execute_sparql_query%0Aselect+distinct+%3Fsbj+where++%3Fsbj+wdt%3AP31+wd%3AQ220+.+%3Fsbj+wdt%3AP31+wd%3AQ220+&format=json)\n",
      "ERROR:root:HTTPError 400 Client Error: Bad Request for url: https://query.wikidata.org/sparql?query=%23Tool%3A+WikibaseIntegrator+wbi_functions.execute_sparql_query%0Aselect+distinct+%3Fsbj+where++%3Fsbj+wdt%3AP31+wd%3AQ220+.+%3Fsbj+wdt%3AP31+wd%3AQ220+&format=json\n",
      "ERROR:backoff:Giving up execute_sparql_query(...) after 1 tries (requests.exceptions.HTTPError: 400 Client Error: Bad Request for url: https://query.wikidata.org/sparql?query=%23Tool%3A+WikibaseIntegrator+wbi_functions.execute_sparql_query%0Aselect+distinct+%3Fsbj+where++%3Fsbj+wdt%3AP31+wd%3AQ220+.+%3Fsbj+wdt%3AP31+wd%3AQ220+&format=json)\n",
      "ERROR:root:HTTPError 400 Client Error: Bad Request for url: https://query.wikidata.org/sparql?query=%23Tool%3A+WikibaseIntegrator+wbi_functions.execute_sparql_query%0Aselect+distinct+%3Fsbj+where++%3Fsbj+wdt%3AP31+wd%3AQ220+.+%3Fsbj+wdt%3AP31+wd%3AQ220+&format=json\n"
     ]
    },
    {
     "name": "stdout",
     "output_type": "stream",
     "text": [
      "failed query select distinct ?sbj where  ?sbj wdt:P31 wd:Q220 . ?sbj wdt:P31 wd:Q220 \n",
      "Failed query number 303\n",
      "failed query select distinct ?sbj where  ?sbj wdt:P31 wd:Q220 . ?sbj wdt:P31 wd:Q220 \n",
      "Failed query number 304\n"
     ]
    },
    {
     "name": "stderr",
     "output_type": "stream",
     "text": [
      "ERROR:backoff:Giving up execute_sparql_query(...) after 1 tries (requests.exceptions.HTTPError: 400 Client Error: Bad Request for url: https://query.wikidata.org/sparql?query=%23Tool%3A+WikibaseIntegrator+wbi_functions.execute_sparql_query%0ASELECT+DISTINCT+%3Fsbj+%3Fsbj_label+WHERE++%3Fsbj+wdt%3AP31+wd%3AQ31+.+%3Fsbj+rdfs%3Alabel+%3Fsbj_label+.+FILTER%28STRSTARTS%28lcase%28%3Fsbj_label%29%2C+%27financiers%27%29%29+.+FILTER+%28lang%28%3Fsbj_label%29+%3D+%27en%27%29++LIMIT+25&format=json)\n",
      "ERROR:root:HTTPError 400 Client Error: Bad Request for url: https://query.wikidata.org/sparql?query=%23Tool%3A+WikibaseIntegrator+wbi_functions.execute_sparql_query%0ASELECT+DISTINCT+%3Fsbj+%3Fsbj_label+WHERE++%3Fsbj+wdt%3AP31+wd%3AQ31+.+%3Fsbj+rdfs%3Alabel+%3Fsbj_label+.+FILTER%28STRSTARTS%28lcase%28%3Fsbj_label%29%2C+%27financiers%27%29%29+.+FILTER+%28lang%28%3Fsbj_label%29+%3D+%27en%27%29++LIMIT+25&format=json\n",
      "ERROR:backoff:Giving up execute_sparql_query(...) after 1 tries (requests.exceptions.HTTPError: 400 Client Error: Bad Request for url: https://query.wikidata.org/sparql?query=%23Tool%3A+WikibaseIntegrator+wbi_functions.execute_sparql_query%0ASELECT+%28COUNT%28%3Fsub%29+AS+%3Fvalue+%29++%3Fsub+wdt%3AP31+%3Fobj+&format=json)\n",
      "ERROR:root:HTTPError 400 Client Error: Bad Request for url: https://query.wikidata.org/sparql?query=%23Tool%3A+WikibaseIntegrator+wbi_functions.execute_sparql_query%0ASELECT+%28COUNT%28%3Fsub%29+AS+%3Fvalue+%29++%3Fsub+wdt%3AP31+%3Fobj+&format=json\n"
     ]
    },
    {
     "name": "stdout",
     "output_type": "stream",
     "text": [
      "failed query SELECT DISTINCT ?sbj ?sbj_label WHERE  ?sbj wdt:P31 wd:Q31 . ?sbj rdfs:label ?sbj_label . FILTER(STRSTARTS(lcase(?sbj_label), 'financiers')) . FILTER (lang(?sbj_label) = 'en')  LIMIT 25\n",
      "Failed query number 305\n",
      "failed query SELECT (COUNT(?sub) AS ?value )  ?sub wdt:P31 ?obj \n",
      "Failed query number 306\n"
     ]
    },
    {
     "name": "stderr",
     "output_type": "stream",
     "text": [
      "ERROR:backoff:Giving up execute_sparql_query(...) after 1 tries (requests.exceptions.HTTPError: 400 Client Error: Bad Request for url: https://query.wikidata.org/sparql?query=%23Tool%3A+WikibaseIntegrator+wbi_functions.execute_sparql_query%0Aselect+distinct+%3Fsbj+where++%3Fsbj+wdt%3AP31+wd%3AQ220+.+%3Fsbj+wdt%3AP31+wd%3AQ220+&format=json)\n",
      "ERROR:root:HTTPError 400 Client Error: Bad Request for url: https://query.wikidata.org/sparql?query=%23Tool%3A+WikibaseIntegrator+wbi_functions.execute_sparql_query%0Aselect+distinct+%3Fsbj+where++%3Fsbj+wdt%3AP31+wd%3AQ220+.+%3Fsbj+wdt%3AP31+wd%3AQ220+&format=json\n",
      "ERROR:backoff:Giving up execute_sparql_query(...) after 1 tries (requests.exceptions.HTTPError: 400 Client Error: Bad Request for url: https://query.wikidata.org/sparql?query=%23Tool%3A+WikibaseIntegrator+wbi_functions.execute_sparql_query%0ASELECT+DISTINCT+%3Fsbj+%3Fsbj_label+WHERE++%3Fsbj+wdt%3AP31+wd%3AQ220+.+%3Fsbj+rdfs%3Alabel+%3Fsbj_label+.+FILTER%28STRSTARTS%28lcase%28%3Fsbj_label%29%2C+%272.2361778%27%29%29+.+FILTER+%28lang%28%3Fsbj_label%29+%3D+%27en%27%29++LIMIT+25&format=json)\n",
      "ERROR:root:HTTPError 400 Client Error: Bad Request for url: https://query.wikidata.org/sparql?query=%23Tool%3A+WikibaseIntegrator+wbi_functions.execute_sparql_query%0ASELECT+DISTINCT+%3Fsbj+%3Fsbj_label+WHERE++%3Fsbj+wdt%3AP31+wd%3AQ220+.+%3Fsbj+rdfs%3Alabel+%3Fsbj_label+.+FILTER%28STRSTARTS%28lcase%28%3Fsbj_label%29%2C+%272.2361778%27%29%29+.+FILTER+%28lang%28%3Fsbj_label%29+%3D+%27en%27%29++LIMIT+25&format=json\n"
     ]
    },
    {
     "name": "stdout",
     "output_type": "stream",
     "text": [
      "failed query select distinct ?sbj where  ?sbj wdt:P31 wd:Q220 . ?sbj wdt:P31 wd:Q220 \n",
      "Failed query number 307\n",
      "failed query SELECT DISTINCT ?sbj ?sbj_label WHERE  ?sbj wdt:P31 wd:Q220 . ?sbj rdfs:label ?sbj_label . FILTER(STRSTARTS(lcase(?sbj_label), '2.2361778')) . FILTER (lang(?sbj_label) = 'en')  LIMIT 25\n",
      "Failed query number 308\n"
     ]
    },
    {
     "name": "stderr",
     "output_type": "stream",
     "text": [
      "ERROR:backoff:Giving up execute_sparql_query(...) after 1 tries (requests.exceptions.HTTPError: 400 Client Error: Bad Request for url: https://query.wikidata.org/sparql?query=%23Tool%3A+WikibaseIntegrator+wbi_functions.execute_sparql_query%0Aselect+distinct+%3Fsbj+where++%3Fsbj+wdt%3AP31+wd%3AQ220+.+%3Fsbj+wdt%3AP31+wd%3AQ220+&format=json)\n",
      "ERROR:root:HTTPError 400 Client Error: Bad Request for url: https://query.wikidata.org/sparql?query=%23Tool%3A+WikibaseIntegrator+wbi_functions.execute_sparql_query%0Aselect+distinct+%3Fsbj+where++%3Fsbj+wdt%3AP31+wd%3AQ220+.+%3Fsbj+wdt%3AP31+wd%3AQ220+&format=json\n",
      "ERROR:backoff:Giving up execute_sparql_query(...) after 1 tries (requests.exceptions.HTTPError: 400 Client Error: Bad Request for url: https://query.wikidata.org/sparql?query=%23Tool%3A+WikibaseIntegrator+wbi_functions.execute_sparql_query%0ASELECT+%3Fanswer+WHERE++wd%3AQ347+wdt%3AP31+wd%3AQ347+.+%3Fanswer+wdt%3AP31+wd%3AQ347+&format=json)\n",
      "ERROR:root:HTTPError 400 Client Error: Bad Request for url: https://query.wikidata.org/sparql?query=%23Tool%3A+WikibaseIntegrator+wbi_functions.execute_sparql_query%0ASELECT+%3Fanswer+WHERE++wd%3AQ347+wdt%3AP31+wd%3AQ347+.+%3Fanswer+wdt%3AP31+wd%3AQ347+&format=json\n"
     ]
    },
    {
     "name": "stdout",
     "output_type": "stream",
     "text": [
      "failed query select distinct ?sbj where  ?sbj wdt:P31 wd:Q220 . ?sbj wdt:P31 wd:Q220 \n",
      "Failed query number 309\n",
      "failed query SELECT ?answer WHERE  wd:Q347 wdt:P31 wd:Q347 . ?answer wdt:P31 wd:Q347 \n",
      "Failed query number 310\n"
     ]
    },
    {
     "name": "stderr",
     "output_type": "stream",
     "text": [
      "ERROR:backoff:Giving up execute_sparql_query(...) after 1 tries (requests.exceptions.HTTPError: 400 Client Error: Bad Request for url: https://query.wikidata.org/sparql?query=%23Tool%3A+WikibaseIntegrator+wbi_functions.execute_sparql_query%0Aselect+distinct+%3Fsbj+where++%3Fsbj+wdt%3AP31+wd%3AQ220+.+%3Fsbj+wdt%3AP31+wd%3AQ220+&format=json)\n",
      "ERROR:root:HTTPError 400 Client Error: Bad Request for url: https://query.wikidata.org/sparql?query=%23Tool%3A+WikibaseIntegrator+wbi_functions.execute_sparql_query%0Aselect+distinct+%3Fsbj+where++%3Fsbj+wdt%3AP31+wd%3AQ220+.+%3Fsbj+wdt%3AP31+wd%3AQ220+&format=json\n"
     ]
    },
    {
     "name": "stdout",
     "output_type": "stream",
     "text": [
      "failed query select distinct ?sbj where  ?sbj wdt:P31 wd:Q220 . ?sbj wdt:P31 wd:Q220 \n",
      "Failed query number 311\n"
     ]
    },
    {
     "name": "stderr",
     "output_type": "stream",
     "text": [
      "ERROR:backoff:Giving up execute_sparql_query(...) after 1 tries (requests.exceptions.HTTPError: 400 Client Error: Bad Request for url: https://query.wikidata.org/sparql?query=%23Tool%3A+WikibaseIntegrator+wbi_functions.execute_sparql_query%0ASELECT+DISTINCT+%3Fsbj+%3Fsbj_label+WHERE++%3Fsbj+wdt%3AP31+wd%3AQ335+.+%3Fsbj+rdfs%3Alabel+%3Fsbj_label+.+FILTER%28CONTAINS%28lcase%28%3Fsbj_label%29%2C+%270%27%29%29+&format=json)\n",
      "ERROR:root:HTTPError 400 Client Error: Bad Request for url: https://query.wikidata.org/sparql?query=%23Tool%3A+WikibaseIntegrator+wbi_functions.execute_sparql_query%0ASELECT+DISTINCT+%3Fsbj+%3Fsbj_label+WHERE++%3Fsbj+wdt%3AP31+wd%3AQ335+.+%3Fsbj+rdfs%3Alabel+%3Fsbj_label+.+FILTER%28CONTAINS%28lcase%28%3Fsbj_label%29%2C+%270%27%29%29+&format=json\n",
      "ERROR:backoff:Giving up execute_sparql_query(...) after 1 tries (requests.exceptions.HTTPError: 400 Client Error: Bad Request for url: https://query.wikidata.org/sparql?query=%23Tool%3A+WikibaseIntegrator+wbi_functions.execute_sparql_query%0ASELECT+DISTINCT+%3Fsbj+%3Fsbj_label+WHERE++%3Fsbj+wdt%3AP31+wd%3AQ335+.+%3Fsbj+rdfs%3Alabel+%3Fsbj_label+.+FILTER%28STRSTARTS%28lcase%28%3Fsbj_label%29%2C+%27sbj_label%27%29%29+.+FILTER+%28lang%28%3Fsbj_label%29+%3D+%27en%27%29++LIMIT+25&format=json)\n",
      "ERROR:root:HTTPError 400 Client Error: Bad Request for url: https://query.wikidata.org/sparql?query=%23Tool%3A+WikibaseIntegrator+wbi_functions.execute_sparql_query%0ASELECT+DISTINCT+%3Fsbj+%3Fsbj_label+WHERE++%3Fsbj+wdt%3AP31+wd%3AQ335+.+%3Fsbj+rdfs%3Alabel+%3Fsbj_label+.+FILTER%28STRSTARTS%28lcase%28%3Fsbj_label%29%2C+%27sbj_label%27%29%29+.+FILTER+%28lang%28%3Fsbj_label%29+%3D+%27en%27%29++LIMIT+25&format=json\n"
     ]
    },
    {
     "name": "stdout",
     "output_type": "stream",
     "text": [
      "failed query SELECT DISTINCT ?sbj ?sbj_label WHERE  ?sbj wdt:P31 wd:Q335 . ?sbj rdfs:label ?sbj_label . FILTER(CONTAINS(lcase(?sbj_label), '0')) \n",
      "Failed query number 312\n",
      "failed query SELECT DISTINCT ?sbj ?sbj_label WHERE  ?sbj wdt:P31 wd:Q335 . ?sbj rdfs:label ?sbj_label . FILTER(STRSTARTS(lcase(?sbj_label), 'sbj_label')) . FILTER (lang(?sbj_label) = 'en')  LIMIT 25\n",
      "Failed query number 313\n"
     ]
    },
    {
     "name": "stderr",
     "output_type": "stream",
     "text": [
      "ERROR:backoff:Giving up execute_sparql_query(...) after 1 tries (requests.exceptions.HTTPError: 400 Client Error: Bad Request for url: https://query.wikidata.org/sparql?query=%23Tool%3A+WikibaseIntegrator+wbi_functions.execute_sparql_query%0ASELECT+DISTINCT+%3Fsbj+%3Fsbj_label+WHERE++%3Fsbj+wdt%3AP31+wd%3AQ335+.+%3Fsbj+rdfs%3Alabel+%3Fsbj_label+.+FILTER%28CONTAINS%28lcase%28%3Fsbj_label%29%2C+%27malayalam%27%29%29+.+FILTER+%28lang%28%3Fsbj_label%29+%3D+%27en%27%29++LIMIT+25&format=json)\n",
      "ERROR:root:HTTPError 400 Client Error: Bad Request for url: https://query.wikidata.org/sparql?query=%23Tool%3A+WikibaseIntegrator+wbi_functions.execute_sparql_query%0ASELECT+DISTINCT+%3Fsbj+%3Fsbj_label+WHERE++%3Fsbj+wdt%3AP31+wd%3AQ335+.+%3Fsbj+rdfs%3Alabel+%3Fsbj_label+.+FILTER%28CONTAINS%28lcase%28%3Fsbj_label%29%2C+%27malayalam%27%29%29+.+FILTER+%28lang%28%3Fsbj_label%29+%3D+%27en%27%29++LIMIT+25&format=json\n",
      "ERROR:backoff:Giving up execute_sparql_query(...) after 1 tries (requests.exceptions.HTTPError: 400 Client Error: Bad Request for url: https://query.wikidata.org/sparql?query=%23Tool%3A+WikibaseIntegrator+wbi_functions.execute_sparql_query%0Aselect+distinct+%3Fsbj+where++%3Fsbj+wdt%3AP31+wd%3AQ220+.+%3Fsbj+wdt%3AP31+wd%3AQ220+&format=json)\n",
      "ERROR:root:HTTPError 400 Client Error: Bad Request for url: https://query.wikidata.org/sparql?query=%23Tool%3A+WikibaseIntegrator+wbi_functions.execute_sparql_query%0Aselect+distinct+%3Fsbj+where++%3Fsbj+wdt%3AP31+wd%3AQ220+.+%3Fsbj+wdt%3AP31+wd%3AQ220+&format=json\n"
     ]
    },
    {
     "name": "stdout",
     "output_type": "stream",
     "text": [
      "failed query SELECT DISTINCT ?sbj ?sbj_label WHERE  ?sbj wdt:P31 wd:Q335 . ?sbj rdfs:label ?sbj_label . FILTER(CONTAINS(lcase(?sbj_label), 'malayalam')) . FILTER (lang(?sbj_label) = 'en')  LIMIT 25\n",
      "Failed query number 314\n",
      "failed query select distinct ?sbj where  ?sbj wdt:P31 wd:Q220 . ?sbj wdt:P31 wd:Q220 \n",
      "Failed query number 315\n"
     ]
    },
    {
     "name": "stderr",
     "output_type": "stream",
     "text": [
      "ERROR:backoff:Giving up execute_sparql_query(...) after 1 tries (requests.exceptions.HTTPError: 400 Client Error: Bad Request for url: https://query.wikidata.org/sparql?query=%23Tool%3A+WikibaseIntegrator+wbi_functions.execute_sparql_query%0ASELECT+DISTINCT+%3Fsbj+%3Fsbj_label+WHERE++%3Fsbj+wdt%3AP31+wd%3AQ335+.+%3Fsbj+rdfs%3Alabel+%3Fsbj_label+.+FILTER%28CONTAINS%28lcase%28%3Fsbj_label%29%2C+%27syr%27%29%29+.+FILTER+%28lang%28%3Fsbj_label%29+%3D+%27en%27%29++LIMIT+25&format=json)\n",
      "ERROR:root:HTTPError 400 Client Error: Bad Request for url: https://query.wikidata.org/sparql?query=%23Tool%3A+WikibaseIntegrator+wbi_functions.execute_sparql_query%0ASELECT+DISTINCT+%3Fsbj+%3Fsbj_label+WHERE++%3Fsbj+wdt%3AP31+wd%3AQ335+.+%3Fsbj+rdfs%3Alabel+%3Fsbj_label+.+FILTER%28CONTAINS%28lcase%28%3Fsbj_label%29%2C+%27syr%27%29%29+.+FILTER+%28lang%28%3Fsbj_label%29+%3D+%27en%27%29++LIMIT+25&format=json\n",
      "ERROR:backoff:Giving up execute_sparql_query(...) after 1 tries (requests.exceptions.HTTPError: 400 Client Error: Bad Request for url: https://query.wikidata.org/sparql?query=%23Tool%3A+WikibaseIntegrator+wbi_functions.execute_sparql_query%0Aselect+distinct+%3Fsbj+where++%3Fsbj+wdt%3AP31+wd%3AQ220+.+%3Fsbj+wdt%3AP31+wd%3AQ220+&format=json)\n",
      "ERROR:root:HTTPError 400 Client Error: Bad Request for url: https://query.wikidata.org/sparql?query=%23Tool%3A+WikibaseIntegrator+wbi_functions.execute_sparql_query%0Aselect+distinct+%3Fsbj+where++%3Fsbj+wdt%3AP31+wd%3AQ220+.+%3Fsbj+wdt%3AP31+wd%3AQ220+&format=json\n"
     ]
    },
    {
     "name": "stdout",
     "output_type": "stream",
     "text": [
      "failed query SELECT DISTINCT ?sbj ?sbj_label WHERE  ?sbj wdt:P31 wd:Q335 . ?sbj rdfs:label ?sbj_label . FILTER(CONTAINS(lcase(?sbj_label), 'syr')) . FILTER (lang(?sbj_label) = 'en')  LIMIT 25\n",
      "Failed query number 316\n",
      "failed query select distinct ?sbj where  ?sbj wdt:P31 wd:Q220 . ?sbj wdt:P31 wd:Q220 \n",
      "Failed query number 317\n"
     ]
    },
    {
     "name": "stderr",
     "output_type": "stream",
     "text": [
      "ERROR:backoff:Giving up execute_sparql_query(...) after 1 tries (requests.exceptions.HTTPError: 400 Client Error: Bad Request for url: https://query.wikidata.org/sparql?query=%23Tool%3A+WikibaseIntegrator+wbi_functions.execute_sparql_query%0ASELECT+DISTINCT+%3Fsbj+%3Fsbj_label+WHERE++%3Fsbj+wdt%3AP31+wd%3AQ31+.+%3Fsbj+rdfs%3Alabel+%3Fsbj_label+.+FILTER%28CONTAINS%28lcase%28%3Fsbj_label%29%2C+%27label%27%29%29+.+FILTER+%28lang%28%3Fsbj_label%29+%3D+%27en%27%29++LIMIT+25&format=json)\n",
      "ERROR:root:HTTPError 400 Client Error: Bad Request for url: https://query.wikidata.org/sparql?query=%23Tool%3A+WikibaseIntegrator+wbi_functions.execute_sparql_query%0ASELECT+DISTINCT+%3Fsbj+%3Fsbj_label+WHERE++%3Fsbj+wdt%3AP31+wd%3AQ31+.+%3Fsbj+rdfs%3Alabel+%3Fsbj_label+.+FILTER%28CONTAINS%28lcase%28%3Fsbj_label%29%2C+%27label%27%29%29+.+FILTER+%28lang%28%3Fsbj_label%29+%3D+%27en%27%29++LIMIT+25&format=json\n",
      "ERROR:backoff:Giving up execute_sparql_query(...) after 1 tries (requests.exceptions.HTTPError: 400 Client Error: Bad Request for url: https://query.wikidata.org/sparql?query=%23Tool%3A+WikibaseIntegrator+wbi_functions.execute_sparql_query%0Aselect+distinct+%3Fsbj+where++%3Fsbj+wdt%3AP31+wd%3AQ220+.+%3Fsbj+wdt%3AP31+wd%3AQ220+&format=json)\n",
      "ERROR:root:HTTPError 400 Client Error: Bad Request for url: https://query.wikidata.org/sparql?query=%23Tool%3A+WikibaseIntegrator+wbi_functions.execute_sparql_query%0Aselect+distinct+%3Fsbj+where++%3Fsbj+wdt%3AP31+wd%3AQ220+.+%3Fsbj+wdt%3AP31+wd%3AQ220+&format=json\n"
     ]
    },
    {
     "name": "stdout",
     "output_type": "stream",
     "text": [
      "failed query SELECT DISTINCT ?sbj ?sbj_label WHERE  ?sbj wdt:P31 wd:Q31 . ?sbj rdfs:label ?sbj_label . FILTER(CONTAINS(lcase(?sbj_label), 'label')) . FILTER (lang(?sbj_label) = 'en')  LIMIT 25\n",
      "Failed query number 318\n",
      "failed query select distinct ?sbj where  ?sbj wdt:P31 wd:Q220 . ?sbj wdt:P31 wd:Q220 \n",
      "Failed query number 319\n"
     ]
    },
    {
     "name": "stderr",
     "output_type": "stream",
     "text": [
      "ERROR:backoff:Giving up execute_sparql_query(...) after 1 tries (requests.exceptions.HTTPError: 400 Client Error: Bad Request for url: https://query.wikidata.org/sparql?query=%23Tool%3A+WikibaseIntegrator+wbi_functions.execute_sparql_query%0Aselect+distinct+%3Fsbj+where++%3Fsbj+wdt%3AP31+wd%3AQ220+.+%3Fsbj+wdt%3AP31+wd%3AQ220+&format=json)\n",
      "ERROR:root:HTTPError 400 Client Error: Bad Request for url: https://query.wikidata.org/sparql?query=%23Tool%3A+WikibaseIntegrator+wbi_functions.execute_sparql_query%0Aselect+distinct+%3Fsbj+where++%3Fsbj+wdt%3AP31+wd%3AQ220+.+%3Fsbj+wdt%3AP31+wd%3AQ220+&format=json\n"
     ]
    },
    {
     "name": "stdout",
     "output_type": "stream",
     "text": [
      "failed query select distinct ?sbj where  ?sbj wdt:P31 wd:Q220 . ?sbj wdt:P31 wd:Q220 \n",
      "Failed query number 320\n"
     ]
    },
    {
     "name": "stderr",
     "output_type": "stream",
     "text": [
      "ERROR:backoff:Giving up execute_sparql_query(...) after 1 tries (requests.exceptions.HTTPError: 400 Client Error: Bad Request for url: https://query.wikidata.org/sparql?query=%23Tool%3A+WikibaseIntegrator+wbi_functions.execute_sparql_query%0Aselect+distinct+%3Fsbj+where++%3Fsbj+wdt%3AP31+wd%3AQ220+.+%3Fsbj+wdt%3AP31+wd%3AQ220+&format=json)\n",
      "ERROR:root:HTTPError 400 Client Error: Bad Request for url: https://query.wikidata.org/sparql?query=%23Tool%3A+WikibaseIntegrator+wbi_functions.execute_sparql_query%0Aselect+distinct+%3Fsbj+where++%3Fsbj+wdt%3AP31+wd%3AQ220+.+%3Fsbj+wdt%3AP31+wd%3AQ220+&format=json\n"
     ]
    },
    {
     "name": "stdout",
     "output_type": "stream",
     "text": [
      "failed query select distinct ?sbj where  ?sbj wdt:P31 wd:Q220 . ?sbj wdt:P31 wd:Q220 \n",
      "Failed query number 321\n"
     ]
    },
    {
     "name": "stderr",
     "output_type": "stream",
     "text": [
      "ERROR:backoff:Giving up execute_sparql_query(...) after 1 tries (requests.exceptions.HTTPError: 400 Client Error: Bad Request for url: https://query.wikidata.org/sparql?query=%23Tool%3A+WikibaseIntegrator+wbi_functions.execute_sparql_query%0Aselect+distinct+%3Fsbj+where++%3Fsbj+wdt%3AP31+wd%3AQ220+.+%3Fsbj+wdt%3AP31+wd%3AQ220+&format=json)\n",
      "ERROR:root:HTTPError 400 Client Error: Bad Request for url: https://query.wikidata.org/sparql?query=%23Tool%3A+WikibaseIntegrator+wbi_functions.execute_sparql_query%0Aselect+distinct+%3Fsbj+where++%3Fsbj+wdt%3AP31+wd%3AQ220+.+%3Fsbj+wdt%3AP31+wd%3AQ220+&format=json\n",
      "ERROR:backoff:Giving up execute_sparql_query(...) after 1 tries (requests.exceptions.HTTPError: 400 Client Error: Bad Request for url: https://query.wikidata.org/sparql?query=%23Tool%3A+WikibaseIntegrator+wbi_functions.execute_sparql_query%0ASELECT+DISTINCT+%3Fsbj+%3Fsbj_label+WHERE++%3Fsbj+wdt%3AP31+wd%3AQ31+.+%3Fsbj+rdfs%3Alabel+%3Fsbj_label+.+FILTER%28STRSTARTS%28lcase%28%3Fsbj_label%29%2C+%27h%27%29%29+.+FILTER+%28lang%28%3Fsbj_label%29+%3D+%27H%27%29++LIMIT+25&format=json)\n",
      "ERROR:root:HTTPError 400 Client Error: Bad Request for url: https://query.wikidata.org/sparql?query=%23Tool%3A+WikibaseIntegrator+wbi_functions.execute_sparql_query%0ASELECT+DISTINCT+%3Fsbj+%3Fsbj_label+WHERE++%3Fsbj+wdt%3AP31+wd%3AQ31+.+%3Fsbj+rdfs%3Alabel+%3Fsbj_label+.+FILTER%28STRSTARTS%28lcase%28%3Fsbj_label%29%2C+%27h%27%29%29+.+FILTER+%28lang%28%3Fsbj_label%29+%3D+%27H%27%29++LIMIT+25&format=json\n"
     ]
    },
    {
     "name": "stdout",
     "output_type": "stream",
     "text": [
      "failed query select distinct ?sbj where  ?sbj wdt:P31 wd:Q220 . ?sbj wdt:P31 wd:Q220 \n",
      "Failed query number 322\n",
      "failed query SELECT DISTINCT ?sbj ?sbj_label WHERE  ?sbj wdt:P31 wd:Q31 . ?sbj rdfs:label ?sbj_label . FILTER(STRSTARTS(lcase(?sbj_label), 'h')) . FILTER (lang(?sbj_label) = 'H')  LIMIT 25\n",
      "Failed query number 323\n"
     ]
    },
    {
     "name": "stderr",
     "output_type": "stream",
     "text": [
      "ERROR:backoff:Giving up execute_sparql_query(...) after 1 tries (requests.exceptions.HTTPError: 400 Client Error: Bad Request for url: https://query.wikidata.org/sparql?query=%23Tool%3A+WikibaseIntegrator+wbi_functions.execute_sparql_query%0ASELECT+DISTINCT+%3Fsbj+%3Fsbj_label+WHERE++%3Fsbj+wdt%3AP31+wd%3AQ31+.+%3Fsbj+rdfs%3Alabel+%3Fsbj_label+.+FILTER%28STRSTARTS%28lcase%28%3Fsbj_label%29%2C+%27mike+krzyzewski%27%29%29+.+FILTER+%28lang%28%3Fsbj&format=json)\n",
      "ERROR:root:HTTPError 400 Client Error: Bad Request for url: https://query.wikidata.org/sparql?query=%23Tool%3A+WikibaseIntegrator+wbi_functions.execute_sparql_query%0ASELECT+DISTINCT+%3Fsbj+%3Fsbj_label+WHERE++%3Fsbj+wdt%3AP31+wd%3AQ31+.+%3Fsbj+rdfs%3Alabel+%3Fsbj_label+.+FILTER%28STRSTARTS%28lcase%28%3Fsbj_label%29%2C+%27mike+krzyzewski%27%29%29+.+FILTER+%28lang%28%3Fsbj&format=json\n"
     ]
    },
    {
     "name": "stdout",
     "output_type": "stream",
     "text": [
      "failed query SELECT DISTINCT ?sbj ?sbj_label WHERE  ?sbj wdt:P31 wd:Q31 . ?sbj rdfs:label ?sbj_label . FILTER(STRSTARTS(lcase(?sbj_label), 'mike krzyzewski')) . FILTER (lang(?sbj\n",
      "Failed query number 324\n"
     ]
    },
    {
     "name": "stderr",
     "output_type": "stream",
     "text": [
      "ERROR:backoff:Giving up execute_sparql_query(...) after 1 tries (requests.exceptions.HTTPError: 400 Client Error: Bad Request for url: https://query.wikidata.org/sparql?query=%23Tool%3A+WikibaseIntegrator+wbi_functions.execute_sparql_query%0Aselect+distinct+%3Fsbj+where++%3Fsbj+wdt%3AP31+wd%3AQ220+.+%3Fsbj+wdt%3AP31+wd%3AQ220+&format=json)\n",
      "ERROR:root:HTTPError 400 Client Error: Bad Request for url: https://query.wikidata.org/sparql?query=%23Tool%3A+WikibaseIntegrator+wbi_functions.execute_sparql_query%0Aselect+distinct+%3Fsbj+where++%3Fsbj+wdt%3AP31+wd%3AQ220+.+%3Fsbj+wdt%3AP31+wd%3AQ220+&format=json\n",
      "ERROR:backoff:Giving up execute_sparql_query(...) after 1 tries (requests.exceptions.HTTPError: 400 Client Error: Bad Request for url: https://query.wikidata.org/sparql?query=%23Tool%3A+WikibaseIntegrator+wbi_functions.execute_sparql_query%0Aselect+distinct+%3Fsbj+where++%3Fsbj+wdt%3AP31+wd%3AQ220+.+%3Fsbj+wdt%3AP31+wd%3AQ220+&format=json)\n",
      "ERROR:root:HTTPError 400 Client Error: Bad Request for url: https://query.wikidata.org/sparql?query=%23Tool%3A+WikibaseIntegrator+wbi_functions.execute_sparql_query%0Aselect+distinct+%3Fsbj+where++%3Fsbj+wdt%3AP31+wd%3AQ220+.+%3Fsbj+wdt%3AP31+wd%3AQ220+&format=json\n"
     ]
    },
    {
     "name": "stdout",
     "output_type": "stream",
     "text": [
      "failed query select distinct ?sbj where  ?sbj wdt:P31 wd:Q220 . ?sbj wdt:P31 wd:Q220 \n",
      "Failed query number 325\n",
      "failed query select distinct ?sbj where  ?sbj wdt:P31 wd:Q220 . ?sbj wdt:P31 wd:Q220 \n",
      "Failed query number 326\n"
     ]
    },
    {
     "name": "stderr",
     "output_type": "stream",
     "text": [
      "ERROR:backoff:Giving up execute_sparql_query(...) after 1 tries (requests.exceptions.HTTPError: 400 Client Error: Bad Request for url: https://query.wikidata.org/sparql?query=%23Tool%3A+WikibaseIntegrator+wbi_functions.execute_sparql_query%0Aselect+distinct+%3Fsbj+where++%3Fsbj+wdt%3AP31+wd%3AQ347+.+%3Fsbj+wdt%3AP31+wd%3AQ347+&format=json)\n",
      "ERROR:root:HTTPError 400 Client Error: Bad Request for url: https://query.wikidata.org/sparql?query=%23Tool%3A+WikibaseIntegrator+wbi_functions.execute_sparql_query%0Aselect+distinct+%3Fsbj+where++%3Fsbj+wdt%3AP31+wd%3AQ347+.+%3Fsbj+wdt%3AP31+wd%3AQ347+&format=json\n",
      "ERROR:backoff:Giving up execute_sparql_query(...) after 1 tries (requests.exceptions.HTTPError: 400 Client Error: Bad Request for url: https://query.wikidata.org/sparql?query=%23Tool%3A+WikibaseIntegrator+wbi_functions.execute_sparql_query%0Aselect+distinct+%3Fsbj+where++%3Fsbj+wdt%3AP31+wd%3AQ220+.+%3Fsbj+wdt%3AP31+wd%3AQ220+&format=json)\n",
      "ERROR:root:HTTPError 400 Client Error: Bad Request for url: https://query.wikidata.org/sparql?query=%23Tool%3A+WikibaseIntegrator+wbi_functions.execute_sparql_query%0Aselect+distinct+%3Fsbj+where++%3Fsbj+wdt%3AP31+wd%3AQ220+.+%3Fsbj+wdt%3AP31+wd%3AQ220+&format=json\n"
     ]
    },
    {
     "name": "stdout",
     "output_type": "stream",
     "text": [
      "failed query select distinct ?sbj where  ?sbj wdt:P31 wd:Q347 . ?sbj wdt:P31 wd:Q347 \n",
      "Failed query number 327\n",
      "failed query select distinct ?sbj where  ?sbj wdt:P31 wd:Q220 . ?sbj wdt:P31 wd:Q220 \n",
      "Failed query number 328\n"
     ]
    },
    {
     "name": "stderr",
     "output_type": "stream",
     "text": [
      "ERROR:backoff:Giving up execute_sparql_query(...) after 1 tries (requests.exceptions.HTTPError: 400 Client Error: Bad Request for url: https://query.wikidata.org/sparql?query=%23Tool%3A+WikibaseIntegrator+wbi_functions.execute_sparql_query%0Aselect+distinct+%3Fsbj+where++%3Fsbj+wdt%3AP31+wd%3AQ220+.+%3Fsbj+wdt%3AP31+wd%3AQ220+&format=json)\n",
      "ERROR:root:HTTPError 400 Client Error: Bad Request for url: https://query.wikidata.org/sparql?query=%23Tool%3A+WikibaseIntegrator+wbi_functions.execute_sparql_query%0Aselect+distinct+%3Fsbj+where++%3Fsbj+wdt%3AP31+wd%3AQ220+.+%3Fsbj+wdt%3AP31+wd%3AQ220+&format=json\n"
     ]
    },
    {
     "name": "stdout",
     "output_type": "stream",
     "text": [
      "failed query select distinct ?sbj where  ?sbj wdt:P31 wd:Q220 . ?sbj wdt:P31 wd:Q220 \n",
      "Failed query number 329\n"
     ]
    },
    {
     "name": "stderr",
     "output_type": "stream",
     "text": [
      "ERROR:backoff:Giving up execute_sparql_query(...) after 1 tries (requests.exceptions.HTTPError: 400 Client Error: Bad Request for url: https://query.wikidata.org/sparql?query=%23Tool%3A+WikibaseIntegrator+wbi_functions.execute_sparql_query%0Aselect+distinct+%3Fsbj+where++%3Fsbj+wdt%3AP31+wd%3AQ220+.+%3Fsbj+wdt%3AP31+wd%3AQ220+&format=json)\n",
      "ERROR:root:HTTPError 400 Client Error: Bad Request for url: https://query.wikidata.org/sparql?query=%23Tool%3A+WikibaseIntegrator+wbi_functions.execute_sparql_query%0Aselect+distinct+%3Fsbj+where++%3Fsbj+wdt%3AP31+wd%3AQ220+.+%3Fsbj+wdt%3AP31+wd%3AQ220+&format=json\n"
     ]
    },
    {
     "name": "stdout",
     "output_type": "stream",
     "text": [
      "failed query select distinct ?sbj where  ?sbj wdt:P31 wd:Q220 . ?sbj wdt:P31 wd:Q220 \n",
      "Failed query number 330\n"
     ]
    },
    {
     "name": "stderr",
     "output_type": "stream",
     "text": [
      "ERROR:backoff:Giving up execute_sparql_query(...) after 1 tries (requests.exceptions.HTTPError: 400 Client Error: Bad Request for url: https://query.wikidata.org/sparql?query=%23Tool%3A+WikibaseIntegrator+wbi_functions.execute_sparql_query%0Aselect+distinct+%3Fsbj+where++%3Fsbj+wdt%3AP31+wd%3AQ220+.+%3Fsbj+wdt%3AP31+wd%3AQ220+&format=json)\n",
      "ERROR:root:HTTPError 400 Client Error: Bad Request for url: https://query.wikidata.org/sparql?query=%23Tool%3A+WikibaseIntegrator+wbi_functions.execute_sparql_query%0Aselect+distinct+%3Fsbj+where++%3Fsbj+wdt%3AP31+wd%3AQ220+.+%3Fsbj+wdt%3AP31+wd%3AQ220+&format=json\n",
      "ERROR:backoff:Giving up execute_sparql_query(...) after 1 tries (requests.exceptions.HTTPError: 400 Client Error: Bad Request for url: https://query.wikidata.org/sparql?query=%23Tool%3A+WikibaseIntegrator+wbi_functions.execute_sparql_query%0Aselect+distinct+%3Fsbj+where++%3Fsbj+wdt%3AP31+wd%3AQ220+.+%3Fsbj+wdt%3AP31+wd%3AQ220+&format=json)\n",
      "ERROR:root:HTTPError 400 Client Error: Bad Request for url: https://query.wikidata.org/sparql?query=%23Tool%3A+WikibaseIntegrator+wbi_functions.execute_sparql_query%0Aselect+distinct+%3Fsbj+where++%3Fsbj+wdt%3AP31+wd%3AQ220+.+%3Fsbj+wdt%3AP31+wd%3AQ220+&format=json\n"
     ]
    },
    {
     "name": "stdout",
     "output_type": "stream",
     "text": [
      "failed query select distinct ?sbj where  ?sbj wdt:P31 wd:Q220 . ?sbj wdt:P31 wd:Q220 \n",
      "Failed query number 331\n",
      "failed query select distinct ?sbj where  ?sbj wdt:P31 wd:Q220 . ?sbj wdt:P31 wd:Q220 \n",
      "Failed query number 332\n"
     ]
    },
    {
     "name": "stderr",
     "output_type": "stream",
     "text": [
      "ERROR:backoff:Giving up execute_sparql_query(...) after 1 tries (requests.exceptions.HTTPError: 400 Client Error: Bad Request for url: https://query.wikidata.org/sparql?query=%23Tool%3A+WikibaseIntegrator+wbi_functions.execute_sparql_query%0ASELECT+DISTINCT+%3Fsbj+%3Fsbj_label+WHERE++%3Fsbj+wdt%3AP31+wd%3AQ318+.+%3Fsbj+rdfs%3Alabel+%3Fsbj_label+.+FILTER%28STRSTARTS%28lcase%28%3Fsbj_label%29%2C+%27member+of+the+55th+Parliament+of+the+United+Kingdom%27%29%29+.+FILTER+%28lang%28%3F&format=json)\n",
      "ERROR:root:HTTPError 400 Client Error: Bad Request for url: https://query.wikidata.org/sparql?query=%23Tool%3A+WikibaseIntegrator+wbi_functions.execute_sparql_query%0ASELECT+DISTINCT+%3Fsbj+%3Fsbj_label+WHERE++%3Fsbj+wdt%3AP31+wd%3AQ318+.+%3Fsbj+rdfs%3Alabel+%3Fsbj_label+.+FILTER%28STRSTARTS%28lcase%28%3Fsbj_label%29%2C+%27member+of+the+55th+Parliament+of+the+United+Kingdom%27%29%29+.+FILTER+%28lang%28%3F&format=json\n"
     ]
    },
    {
     "name": "stdout",
     "output_type": "stream",
     "text": [
      "failed query SELECT DISTINCT ?sbj ?sbj_label WHERE  ?sbj wdt:P31 wd:Q318 . ?sbj rdfs:label ?sbj_label . FILTER(STRSTARTS(lcase(?sbj_label), 'member of the 55th Parliament of the United Kingdom')) . FILTER (lang(?\n",
      "Failed query number 333\n"
     ]
    },
    {
     "name": "stderr",
     "output_type": "stream",
     "text": [
      "ERROR:backoff:Giving up execute_sparql_query(...) after 1 tries (requests.exceptions.HTTPError: 400 Client Error: Bad Request for url: https://query.wikidata.org/sparql?query=%23Tool%3A+WikibaseIntegrator+wbi_functions.execute_sparql_query%0ASELECT+DISTINCT+%3Fsbj+%3Fsbj_label+WHERE++%3Fsbj+wdt%3AP31+wd%3AQ220+.+%3Fsbj+rdfs%3Alabel+%3Fsbj_label+.+FILTER%28STRSTARTS%28lcase%28%3Fsbj_label%29%2C+%27family%27%29%29+.+FILTER+%28lang%28%3Fsbj_label%29+%3D+%27en%27%29++LIMIT+25&format=json)\n",
      "ERROR:root:HTTPError 400 Client Error: Bad Request for url: https://query.wikidata.org/sparql?query=%23Tool%3A+WikibaseIntegrator+wbi_functions.execute_sparql_query%0ASELECT+DISTINCT+%3Fsbj+%3Fsbj_label+WHERE++%3Fsbj+wdt%3AP31+wd%3AQ220+.+%3Fsbj+rdfs%3Alabel+%3Fsbj_label+.+FILTER%28STRSTARTS%28lcase%28%3Fsbj_label%29%2C+%27family%27%29%29+.+FILTER+%28lang%28%3Fsbj_label%29+%3D+%27en%27%29++LIMIT+25&format=json\n",
      "ERROR:backoff:Giving up execute_sparql_query(...) after 1 tries (requests.exceptions.HTTPError: 400 Client Error: Bad Request for url: https://query.wikidata.org/sparql?query=%23Tool%3A+WikibaseIntegrator+wbi_functions.execute_sparql_query%0Aselect+distinct+%3Fsbj+where++%3Fsbj+wdt%3AP31+wd%3AQ220+.+%3Fsbj+wdt%3AP31+wd%3AQ220+&format=json)\n",
      "ERROR:root:HTTPError 400 Client Error: Bad Request for url: https://query.wikidata.org/sparql?query=%23Tool%3A+WikibaseIntegrator+wbi_functions.execute_sparql_query%0Aselect+distinct+%3Fsbj+where++%3Fsbj+wdt%3AP31+wd%3AQ220+.+%3Fsbj+wdt%3AP31+wd%3AQ220+&format=json\n"
     ]
    },
    {
     "name": "stdout",
     "output_type": "stream",
     "text": [
      "failed query SELECT DISTINCT ?sbj ?sbj_label WHERE  ?sbj wdt:P31 wd:Q220 . ?sbj rdfs:label ?sbj_label . FILTER(STRSTARTS(lcase(?sbj_label), 'family')) . FILTER (lang(?sbj_label) = 'en')  LIMIT 25\n",
      "Failed query number 334\n",
      "failed query select distinct ?sbj where  ?sbj wdt:P31 wd:Q220 . ?sbj wdt:P31 wd:Q220 \n",
      "Failed query number 335\n"
     ]
    },
    {
     "name": "stderr",
     "output_type": "stream",
     "text": [
      "ERROR:backoff:Giving up execute_sparql_query(...) after 1 tries (requests.exceptions.HTTPError: 400 Client Error: Bad Request for url: https://query.wikidata.org/sparql?query=%23Tool%3A+WikibaseIntegrator+wbi_functions.execute_sparql_query%0ASELECT+DISTINCT+%3Fsbj+%3Fsbj_label+WHERE++%3Fsbj+wdt%3AP31+wd%3AQ335+.+%3Fsbj+rdfs%3Alabel+%3Fsbj_label+.+FILTER%28STRSTARTS%28lcase%28%3Fsbj_label%29%2C+%27latitude%27%29%29+.+FILTER+%28lang%28%3Fsbj_label%29+%3D+%27en%27%29++LIMIT+25&format=json)\n",
      "ERROR:root:HTTPError 400 Client Error: Bad Request for url: https://query.wikidata.org/sparql?query=%23Tool%3A+WikibaseIntegrator+wbi_functions.execute_sparql_query%0ASELECT+DISTINCT+%3Fsbj+%3Fsbj_label+WHERE++%3Fsbj+wdt%3AP31+wd%3AQ335+.+%3Fsbj+rdfs%3Alabel+%3Fsbj_label+.+FILTER%28STRSTARTS%28lcase%28%3Fsbj_label%29%2C+%27latitude%27%29%29+.+FILTER+%28lang%28%3Fsbj_label%29+%3D+%27en%27%29++LIMIT+25&format=json\n"
     ]
    },
    {
     "name": "stdout",
     "output_type": "stream",
     "text": [
      "failed query SELECT DISTINCT ?sbj ?sbj_label WHERE  ?sbj wdt:P31 wd:Q335 . ?sbj rdfs:label ?sbj_label . FILTER(STRSTARTS(lcase(?sbj_label), 'latitude')) . FILTER (lang(?sbj_label) = 'en')  LIMIT 25\n",
      "Failed query number 336\n"
     ]
    },
    {
     "name": "stderr",
     "output_type": "stream",
     "text": [
      "ERROR:backoff:Giving up execute_sparql_query(...) after 1 tries (requests.exceptions.HTTPError: 400 Client Error: Bad Request for url: https://query.wikidata.org/sparql?query=%23Tool%3A+WikibaseIntegrator+wbi_functions.execute_sparql_query%0Aselect+distinct+%3Fsbj+where++%3Fsbj+wdt%3AP31+wd%3AQ220+.+%3Fsbj+wdt%3AP31+wd%3AQ220+&format=json)\n",
      "ERROR:root:HTTPError 400 Client Error: Bad Request for url: https://query.wikidata.org/sparql?query=%23Tool%3A+WikibaseIntegrator+wbi_functions.execute_sparql_query%0Aselect+distinct+%3Fsbj+where++%3Fsbj+wdt%3AP31+wd%3AQ220+.+%3Fsbj+wdt%3AP31+wd%3AQ220+&format=json\n",
      "ERROR:backoff:Giving up execute_sparql_query(...) after 1 tries (requests.exceptions.HTTPError: 400 Client Error: Bad Request for url: https://query.wikidata.org/sparql?query=%23Tool%3A+WikibaseIntegrator+wbi_functions.execute_sparql_query%0ASELECT+DISTINCT+%3Fsbj+%3Fsbj_label+WHERE++%3Fsbj+wdt%3AP31+wd%3AQ335+.+%3Fsbj+rdfs%3Alabel+%3Fsbj_label+.+FILTER%28STRSTARTS%28lcase%28%3Fsbj_label%29%2C+%27kirsten+Stewart%27%29%29+.+FILTER+%28lang%28%3Fsbj_label%29+%3D+%27en%27%29++LIMIT+25&format=json)\n",
      "ERROR:root:HTTPError 400 Client Error: Bad Request for url: https://query.wikidata.org/sparql?query=%23Tool%3A+WikibaseIntegrator+wbi_functions.execute_sparql_query%0ASELECT+DISTINCT+%3Fsbj+%3Fsbj_label+WHERE++%3Fsbj+wdt%3AP31+wd%3AQ335+.+%3Fsbj+rdfs%3Alabel+%3Fsbj_label+.+FILTER%28STRSTARTS%28lcase%28%3Fsbj_label%29%2C+%27kirsten+Stewart%27%29%29+.+FILTER+%28lang%28%3Fsbj_label%29+%3D+%27en%27%29++LIMIT+25&format=json\n"
     ]
    },
    {
     "name": "stdout",
     "output_type": "stream",
     "text": [
      "failed query select distinct ?sbj where  ?sbj wdt:P31 wd:Q220 . ?sbj wdt:P31 wd:Q220 \n",
      "Failed query number 337\n",
      "failed query SELECT DISTINCT ?sbj ?sbj_label WHERE  ?sbj wdt:P31 wd:Q335 . ?sbj rdfs:label ?sbj_label . FILTER(STRSTARTS(lcase(?sbj_label), 'kirsten Stewart')) . FILTER (lang(?sbj_label) = 'en')  LIMIT 25\n",
      "Failed query number 338\n"
     ]
    },
    {
     "name": "stderr",
     "output_type": "stream",
     "text": [
      "ERROR:backoff:Giving up execute_sparql_query(...) after 1 tries (requests.exceptions.HTTPError: 400 Client Error: Bad Request for url: https://query.wikidata.org/sparql?query=%23Tool%3A+WikibaseIntegrator+wbi_functions.execute_sparql_query%0Aselect+distinct+%3Fsbj+where++%3Fsbj+wdt%3AP31+wd%3AQ220+.+%3Fsbj+wdt%3AP31+wd%3AQ220+&format=json)\n",
      "ERROR:root:HTTPError 400 Client Error: Bad Request for url: https://query.wikidata.org/sparql?query=%23Tool%3A+WikibaseIntegrator+wbi_functions.execute_sparql_query%0Aselect+distinct+%3Fsbj+where++%3Fsbj+wdt%3AP31+wd%3AQ220+.+%3Fsbj+wdt%3AP31+wd%3AQ220+&format=json\n",
      "ERROR:backoff:Giving up execute_sparql_query(...) after 1 tries (requests.exceptions.HTTPError: 400 Client Error: Bad Request for url: https://query.wikidata.org/sparql?query=%23Tool%3A+WikibaseIntegrator+wbi_functions.execute_sparql_query%0ASELECT+DISTINCT+%3Fsbj+%3Fsbj_label+WHERE++%3Fsbj+wdt%3AP31+wd%3AQ335+.+%3Fsbj+rdfs%3Alabel+%3Fsbj_label+.+FILTER%28CONTAINS%28lcase%28%3Fsbj_label%29%2C+%27INS%27%29%29+.+FILTER+%28lang%28%3Fsbj_label%29+%3D+%27en%27%29++LIMIT+25&format=json)\n",
      "ERROR:root:HTTPError 400 Client Error: Bad Request for url: https://query.wikidata.org/sparql?query=%23Tool%3A+WikibaseIntegrator+wbi_functions.execute_sparql_query%0ASELECT+DISTINCT+%3Fsbj+%3Fsbj_label+WHERE++%3Fsbj+wdt%3AP31+wd%3AQ335+.+%3Fsbj+rdfs%3Alabel+%3Fsbj_label+.+FILTER%28CONTAINS%28lcase%28%3Fsbj_label%29%2C+%27INS%27%29%29+.+FILTER+%28lang%28%3Fsbj_label%29+%3D+%27en%27%29++LIMIT+25&format=json\n"
     ]
    },
    {
     "name": "stdout",
     "output_type": "stream",
     "text": [
      "failed query select distinct ?sbj where  ?sbj wdt:P31 wd:Q220 . ?sbj wdt:P31 wd:Q220 \n",
      "Failed query number 339\n",
      "failed query SELECT DISTINCT ?sbj ?sbj_label WHERE  ?sbj wdt:P31 wd:Q335 . ?sbj rdfs:label ?sbj_label . FILTER(CONTAINS(lcase(?sbj_label), 'INS')) . FILTER (lang(?sbj_label) = 'en')  LIMIT 25\n",
      "Failed query number 340\n"
     ]
    },
    {
     "name": "stderr",
     "output_type": "stream",
     "text": [
      "ERROR:backoff:Giving up execute_sparql_query(...) after 1 tries (requests.exceptions.HTTPError: 400 Client Error: Bad Request for url: https://query.wikidata.org/sparql?query=%23Tool%3A+WikibaseIntegrator+wbi_functions.execute_sparql_query%0Aselect+distinct+%3Fsbj+where++%3Fsbj+wdt%3AP31+wd%3AQ220+.+%3Fsbj+wdt%3AP31+wd%3AQ220+&format=json)\n",
      "ERROR:root:HTTPError 400 Client Error: Bad Request for url: https://query.wikidata.org/sparql?query=%23Tool%3A+WikibaseIntegrator+wbi_functions.execute_sparql_query%0Aselect+distinct+%3Fsbj+where++%3Fsbj+wdt%3AP31+wd%3AQ220+.+%3Fsbj+wdt%3AP31+wd%3AQ220+&format=json\n",
      "ERROR:backoff:Giving up execute_sparql_query(...) after 1 tries (requests.exceptions.HTTPError: 400 Client Error: Bad Request for url: https://query.wikidata.org/sparql?query=%23Tool%3A+WikibaseIntegrator+wbi_functions.execute_sparql_query%0Aselect+distinct+%3Fsbj+where++%3Fsbj+wdt%3AP31+wd%3AQ220+.+%3Fsbj+wdt%3AP31+wd%3AQ220+&format=json)\n",
      "ERROR:root:HTTPError 400 Client Error: Bad Request for url: https://query.wikidata.org/sparql?query=%23Tool%3A+WikibaseIntegrator+wbi_functions.execute_sparql_query%0Aselect+distinct+%3Fsbj+where++%3Fsbj+wdt%3AP31+wd%3AQ220+.+%3Fsbj+wdt%3AP31+wd%3AQ220+&format=json\n"
     ]
    },
    {
     "name": "stdout",
     "output_type": "stream",
     "text": [
      "failed query select distinct ?sbj where  ?sbj wdt:P31 wd:Q220 . ?sbj wdt:P31 wd:Q220 \n",
      "Failed query number 341\n",
      "failed query select distinct ?sbj where  ?sbj wdt:P31 wd:Q220 . ?sbj wdt:P31 wd:Q220 \n",
      "Failed query number 342\n"
     ]
    },
    {
     "name": "stderr",
     "output_type": "stream",
     "text": [
      "ERROR:backoff:Giving up execute_sparql_query(...) after 1 tries (requests.exceptions.HTTPError: 400 Client Error: Bad Request for url: https://query.wikidata.org/sparql?query=%23Tool%3A+WikibaseIntegrator+wbi_functions.execute_sparql_query%0Aselect+distinct+%3Fsbj+where++%3Fsbj+wdt%3AP31+wd%3AQ220+.+%3Fsbj+wdt%3AP31+wd%3AQ220+&format=json)\n",
      "ERROR:root:HTTPError 400 Client Error: Bad Request for url: https://query.wikidata.org/sparql?query=%23Tool%3A+WikibaseIntegrator+wbi_functions.execute_sparql_query%0Aselect+distinct+%3Fsbj+where++%3Fsbj+wdt%3AP31+wd%3AQ220+.+%3Fsbj+wdt%3AP31+wd%3AQ220+&format=json\n",
      "ERROR:backoff:Giving up execute_sparql_query(...) after 1 tries (requests.exceptions.HTTPError: 400 Client Error: Bad Request for url: https://query.wikidata.org/sparql?query=%23Tool%3A+WikibaseIntegrator+wbi_functions.execute_sparql_query%0Aselect+distinct+%3Fsbj+where++%3Fsbj+wdt%3AP31+wd%3AQ335+.+%3Fsbj+wdt%3AP31+wd%3AQ335+&format=json)\n",
      "ERROR:root:HTTPError 400 Client Error: Bad Request for url: https://query.wikidata.org/sparql?query=%23Tool%3A+WikibaseIntegrator+wbi_functions.execute_sparql_query%0Aselect+distinct+%3Fsbj+where++%3Fsbj+wdt%3AP31+wd%3AQ335+.+%3Fsbj+wdt%3AP31+wd%3AQ335+&format=json\n"
     ]
    },
    {
     "name": "stdout",
     "output_type": "stream",
     "text": [
      "failed query select distinct ?sbj where  ?sbj wdt:P31 wd:Q220 . ?sbj wdt:P31 wd:Q220 \n",
      "Failed query number 343\n",
      "failed query select distinct ?sbj where  ?sbj wdt:P31 wd:Q335 . ?sbj wdt:P31 wd:Q335 \n",
      "Failed query number 344\n"
     ]
    },
    {
     "name": "stderr",
     "output_type": "stream",
     "text": [
      "ERROR:backoff:Giving up execute_sparql_query(...) after 1 tries (requests.exceptions.HTTPError: 400 Client Error: Bad Request for url: https://query.wikidata.org/sparql?query=%23Tool%3A+WikibaseIntegrator+wbi_functions.execute_sparql_query%0ASELECT+DISTINCT+%3Fsbj+%3Fsbj_label+WHERE++%3Fsbj+wdt%3AP31+wd%3AQ335+.+%3Fsbj+rdfs%3Alabel+%3Fsbj_label+.+FILTER%28CONTAINS%28lcase%28%3Fsbj_label%29%2C+%27dozen%27%29%29+.+FILTER+%28lang%28%3Fsbj_label%29+%3D+%27en%27%29++LIMIT+25&format=json)\n",
      "ERROR:root:HTTPError 400 Client Error: Bad Request for url: https://query.wikidata.org/sparql?query=%23Tool%3A+WikibaseIntegrator+wbi_functions.execute_sparql_query%0ASELECT+DISTINCT+%3Fsbj+%3Fsbj_label+WHERE++%3Fsbj+wdt%3AP31+wd%3AQ335+.+%3Fsbj+rdfs%3Alabel+%3Fsbj_label+.+FILTER%28CONTAINS%28lcase%28%3Fsbj_label%29%2C+%27dozen%27%29%29+.+FILTER+%28lang%28%3Fsbj_label%29+%3D+%27en%27%29++LIMIT+25&format=json\n",
      "ERROR:backoff:Giving up execute_sparql_query(...) after 1 tries (requests.exceptions.HTTPError: 400 Client Error: Bad Request for url: https://query.wikidata.org/sparql?query=%23Tool%3A+WikibaseIntegrator+wbi_functions.execute_sparql_query%0ASELECT+DISTINCT+%3Fsbj+%3Fsbj_label+WHERE++%3Fsbj+wdt%3AP31+wd%3AQ3+&format=json)\n",
      "ERROR:root:HTTPError 400 Client Error: Bad Request for url: https://query.wikidata.org/sparql?query=%23Tool%3A+WikibaseIntegrator+wbi_functions.execute_sparql_query%0ASELECT+DISTINCT+%3Fsbj+%3Fsbj_label+WHERE++%3Fsbj+wdt%3AP31+wd%3AQ3+&format=json\n"
     ]
    },
    {
     "name": "stdout",
     "output_type": "stream",
     "text": [
      "failed query SELECT DISTINCT ?sbj ?sbj_label WHERE  ?sbj wdt:P31 wd:Q335 . ?sbj rdfs:label ?sbj_label . FILTER(CONTAINS(lcase(?sbj_label), 'dozen')) . FILTER (lang(?sbj_label) = 'en')  LIMIT 25\n",
      "Failed query number 345\n",
      "failed query SELECT DISTINCT ?sbj ?sbj_label WHERE  ?sbj wdt:P31 wd:Q3 \n",
      "Failed query number 346\n"
     ]
    },
    {
     "name": "stderr",
     "output_type": "stream",
     "text": [
      "ERROR:backoff:Giving up execute_sparql_query(...) after 1 tries (requests.exceptions.HTTPError: 400 Client Error: Bad Request for url: https://query.wikidata.org/sparql?query=%23Tool%3A+WikibaseIntegrator+wbi_functions.execute_sparql_query%0Aselect+distinct+%3Fsbj+where++%3Fsbj+wdt%3AP31+wd%3AQ220+.+%3Fsbj+wdt%3AP31+wd%3AQ220+&format=json)\n",
      "ERROR:root:HTTPError 400 Client Error: Bad Request for url: https://query.wikidata.org/sparql?query=%23Tool%3A+WikibaseIntegrator+wbi_functions.execute_sparql_query%0Aselect+distinct+%3Fsbj+where++%3Fsbj+wdt%3AP31+wd%3AQ220+.+%3Fsbj+wdt%3AP31+wd%3AQ220+&format=json\n",
      "ERROR:backoff:Giving up execute_sparql_query(...) after 1 tries (requests.exceptions.HTTPError: 400 Client Error: Bad Request for url: https://query.wikidata.org/sparql?query=%23Tool%3A+WikibaseIntegrator+wbi_functions.execute_sparql_query%0Aselect+distinct+%3Fsbj+where++%3Fsbj+wdt%3AP31+wd%3AQ220+.+%3Fsbj+wdt%3AP31+wd%3AQ220+&format=json)\n",
      "ERROR:root:HTTPError 400 Client Error: Bad Request for url: https://query.wikidata.org/sparql?query=%23Tool%3A+WikibaseIntegrator+wbi_functions.execute_sparql_query%0Aselect+distinct+%3Fsbj+where++%3Fsbj+wdt%3AP31+wd%3AQ220+.+%3Fsbj+wdt%3AP31+wd%3AQ220+&format=json\n"
     ]
    },
    {
     "name": "stdout",
     "output_type": "stream",
     "text": [
      "failed query select distinct ?sbj where  ?sbj wdt:P31 wd:Q220 . ?sbj wdt:P31 wd:Q220 \n",
      "Failed query number 347\n",
      "failed query select distinct ?sbj where  ?sbj wdt:P31 wd:Q220 . ?sbj wdt:P31 wd:Q220 \n",
      "Failed query number 348\n"
     ]
    },
    {
     "name": "stderr",
     "output_type": "stream",
     "text": [
      "ERROR:backoff:Giving up execute_sparql_query(...) after 1 tries (requests.exceptions.HTTPError: 400 Client Error: Bad Request for url: https://query.wikidata.org/sparql?query=%23Tool%3A+WikibaseIntegrator+wbi_functions.execute_sparql_query%0ASELECT+%3Fanswer+WHERE++wd%3AQ220+wdt%3AP31+wd%3AQ220+.+%3Fanswer+wdt%3AP31+wd%3AQ220+&format=json)\n",
      "ERROR:root:HTTPError 400 Client Error: Bad Request for url: https://query.wikidata.org/sparql?query=%23Tool%3A+WikibaseIntegrator+wbi_functions.execute_sparql_query%0ASELECT+%3Fanswer+WHERE++wd%3AQ220+wdt%3AP31+wd%3AQ220+.+%3Fanswer+wdt%3AP31+wd%3AQ220+&format=json\n",
      "ERROR:backoff:Giving up execute_sparql_query(...) after 1 tries (requests.exceptions.HTTPError: 400 Client Error: Bad Request for url: https://query.wikidata.org/sparql?query=%23Tool%3A+WikibaseIntegrator+wbi_functions.execute_sparql_query%0Aselect+distinct+%3Fsbj+where++%3Fsbj+wdt%3AP31+wd%3AQ220+.+%3Fsbj+wdt%3AP31+wd%3AQ220+&format=json)\n",
      "ERROR:root:HTTPError 400 Client Error: Bad Request for url: https://query.wikidata.org/sparql?query=%23Tool%3A+WikibaseIntegrator+wbi_functions.execute_sparql_query%0Aselect+distinct+%3Fsbj+where++%3Fsbj+wdt%3AP31+wd%3AQ220+.+%3Fsbj+wdt%3AP31+wd%3AQ220+&format=json\n"
     ]
    },
    {
     "name": "stdout",
     "output_type": "stream",
     "text": [
      "failed query SELECT ?answer WHERE  wd:Q220 wdt:P31 wd:Q220 . ?answer wdt:P31 wd:Q220 \n",
      "Failed query number 349\n",
      "failed query select distinct ?sbj where  ?sbj wdt:P31 wd:Q220 . ?sbj wdt:P31 wd:Q220 \n",
      "Failed query number 350\n"
     ]
    },
    {
     "name": "stderr",
     "output_type": "stream",
     "text": [
      "ERROR:backoff:Giving up execute_sparql_query(...) after 1 tries (requests.exceptions.HTTPError: 400 Client Error: Bad Request for url: https://query.wikidata.org/sparql?query=%23Tool%3A+WikibaseIntegrator+wbi_functions.execute_sparql_query%0Aselect+distinct+%3Fsbj+where++%3Fsbj+wdt%3AP31+wd%3AQ220+.+%3Fsbj+wdt%3AP31+wd%3AQ220+&format=json)\n",
      "ERROR:root:HTTPError 400 Client Error: Bad Request for url: https://query.wikidata.org/sparql?query=%23Tool%3A+WikibaseIntegrator+wbi_functions.execute_sparql_query%0Aselect+distinct+%3Fsbj+where++%3Fsbj+wdt%3AP31+wd%3AQ220+.+%3Fsbj+wdt%3AP31+wd%3AQ220+&format=json\n",
      "ERROR:backoff:Giving up execute_sparql_query(...) after 1 tries (requests.exceptions.HTTPError: 400 Client Error: Bad Request for url: https://query.wikidata.org/sparql?query=%23Tool%3A+WikibaseIntegrator+wbi_functions.execute_sparql_query%0Aselect+distinct+%3Fsbj+where++%3Fsbj+wdt%3AP31+wd%3AQ220+.+%3Fsbj+wdt%3AP31+wd%3AQ220+&format=json)\n",
      "ERROR:root:HTTPError 400 Client Error: Bad Request for url: https://query.wikidata.org/sparql?query=%23Tool%3A+WikibaseIntegrator+wbi_functions.execute_sparql_query%0Aselect+distinct+%3Fsbj+where++%3Fsbj+wdt%3AP31+wd%3AQ220+.+%3Fsbj+wdt%3AP31+wd%3AQ220+&format=json\n"
     ]
    },
    {
     "name": "stdout",
     "output_type": "stream",
     "text": [
      "failed query select distinct ?sbj where  ?sbj wdt:P31 wd:Q220 . ?sbj wdt:P31 wd:Q220 \n",
      "Failed query number 351\n",
      "failed query select distinct ?sbj where  ?sbj wdt:P31 wd:Q220 . ?sbj wdt:P31 wd:Q220 \n",
      "Failed query number 352\n"
     ]
    },
    {
     "name": "stderr",
     "output_type": "stream",
     "text": [
      "ERROR:backoff:Giving up execute_sparql_query(...) after 1 tries (requests.exceptions.HTTPError: 400 Client Error: Bad Request for url: https://query.wikidata.org/sparql?query=%23Tool%3A+WikibaseIntegrator+wbi_functions.execute_sparql_query%0Aselect+distinct+%3Fsbj+where++%3Fsbj+wdt%3AP31+wd%3AQ220+.+%3Fsbj+wdt%3AP31+wd%3AQ220+&format=json)\n",
      "ERROR:root:HTTPError 400 Client Error: Bad Request for url: https://query.wikidata.org/sparql?query=%23Tool%3A+WikibaseIntegrator+wbi_functions.execute_sparql_query%0Aselect+distinct+%3Fsbj+where++%3Fsbj+wdt%3AP31+wd%3AQ220+.+%3Fsbj+wdt%3AP31+wd%3AQ220+&format=json\n",
      "ERROR:backoff:Giving up execute_sparql_query(...) after 1 tries (requests.exceptions.HTTPError: 400 Client Error: Bad Request for url: https://query.wikidata.org/sparql?query=%23Tool%3A+WikibaseIntegrator+wbi_functions.execute_sparql_query%0ASELECT+%3Fobj+WHERE++wd%3AQ347+p%3AP31+%3Fs+.+%3Fs+ps%3AP31+wd%3AQ347+.+%3Fs+pq%3AP31+wd%3AQ347+&format=json)\n",
      "ERROR:root:HTTPError 400 Client Error: Bad Request for url: https://query.wikidata.org/sparql?query=%23Tool%3A+WikibaseIntegrator+wbi_functions.execute_sparql_query%0ASELECT+%3Fobj+WHERE++wd%3AQ347+p%3AP31+%3Fs+.+%3Fs+ps%3AP31+wd%3AQ347+.+%3Fs+pq%3AP31+wd%3AQ347+&format=json\n"
     ]
    },
    {
     "name": "stdout",
     "output_type": "stream",
     "text": [
      "failed query select distinct ?sbj where  ?sbj wdt:P31 wd:Q220 . ?sbj wdt:P31 wd:Q220 \n",
      "Failed query number 353\n",
      "failed query SELECT ?obj WHERE  wd:Q347 p:P31 ?s . ?s ps:P31 wd:Q347 . ?s pq:P31 wd:Q347 \n",
      "Failed query number 354\n"
     ]
    },
    {
     "name": "stderr",
     "output_type": "stream",
     "text": [
      "ERROR:backoff:Giving up execute_sparql_query(...) after 1 tries (requests.exceptions.HTTPError: 400 Client Error: Bad Request for url: https://query.wikidata.org/sparql?query=%23Tool%3A+WikibaseIntegrator+wbi_functions.execute_sparql_query%0ASELECT+DISTINCT+%3Fsbj+%3Fsbj_label+WHERE++%3Fsbj+wdt%3AP31+wd%3AQ335+.+%3Fsbj+rdfs%3Alabel+%3Fsbj_label+.+FILTER%28STRSTARTS%28lcase%28%3Fsbj_label%29%2C+%27300%27%29%29+.+FILTER+%28lang%28%3Fsbj_label%29+%3D+300+%27en%27%29++LIMIT+25&format=json)\n",
      "ERROR:root:HTTPError 400 Client Error: Bad Request for url: https://query.wikidata.org/sparql?query=%23Tool%3A+WikibaseIntegrator+wbi_functions.execute_sparql_query%0ASELECT+DISTINCT+%3Fsbj+%3Fsbj_label+WHERE++%3Fsbj+wdt%3AP31+wd%3AQ335+.+%3Fsbj+rdfs%3Alabel+%3Fsbj_label+.+FILTER%28STRSTARTS%28lcase%28%3Fsbj_label%29%2C+%27300%27%29%29+.+FILTER+%28lang%28%3Fsbj_label%29+%3D+300+%27en%27%29++LIMIT+25&format=json\n",
      "ERROR:backoff:Giving up execute_sparql_query(...) after 1 tries (requests.exceptions.HTTPError: 400 Client Error: Bad Request for url: https://query.wikidata.org/sparql?query=%23Tool%3A+WikibaseIntegrator+wbi_functions.execute_sparql_query%0ASELECT+%3Fanswer+WHERE++wd%3AQ220+wdt%3AP31+%3Fanswer+.+%3Fanswer+wdt%3AP31+wd%3AQ220+&format=json)\n",
      "ERROR:root:HTTPError 400 Client Error: Bad Request for url: https://query.wikidata.org/sparql?query=%23Tool%3A+WikibaseIntegrator+wbi_functions.execute_sparql_query%0ASELECT+%3Fanswer+WHERE++wd%3AQ220+wdt%3AP31+%3Fanswer+.+%3Fanswer+wdt%3AP31+wd%3AQ220+&format=json\n"
     ]
    },
    {
     "name": "stdout",
     "output_type": "stream",
     "text": [
      "failed query SELECT DISTINCT ?sbj ?sbj_label WHERE  ?sbj wdt:P31 wd:Q335 . ?sbj rdfs:label ?sbj_label . FILTER(STRSTARTS(lcase(?sbj_label), '300')) . FILTER (lang(?sbj_label) = 300 'en')  LIMIT 25\n",
      "Failed query number 355\n",
      "failed query SELECT ?answer WHERE  wd:Q220 wdt:P31 ?answer . ?answer wdt:P31 wd:Q220 \n",
      "Failed query number 356\n"
     ]
    },
    {
     "name": "stderr",
     "output_type": "stream",
     "text": [
      "ERROR:backoff:Giving up execute_sparql_query(...) after 1 tries (requests.exceptions.HTTPError: 400 Client Error: Bad Request for url: https://query.wikidata.org/sparql?query=%23Tool%3A+WikibaseIntegrator+wbi_functions.execute_sparql_query%0Aselect+distinct+%3Fsbj+where++%3Fsbj+wdt%3AP31+wd%3AQ220+.+%3Fsbj+wdt%3AP31+wd%3AQ220+&format=json)\n",
      "ERROR:root:HTTPError 400 Client Error: Bad Request for url: https://query.wikidata.org/sparql?query=%23Tool%3A+WikibaseIntegrator+wbi_functions.execute_sparql_query%0Aselect+distinct+%3Fsbj+where++%3Fsbj+wdt%3AP31+wd%3AQ220+.+%3Fsbj+wdt%3AP31+wd%3AQ220+&format=json\n",
      "ERROR:backoff:Giving up execute_sparql_query(...) after 1 tries (requests.exceptions.HTTPError: 400 Client Error: Bad Request for url: https://query.wikidata.org/sparql?query=%23Tool%3A+WikibaseIntegrator+wbi_functions.execute_sparql_query%0Aselect+distinct+%3Fsbj+where++%3Fsbj+wdt%3AP31+wd%3AQ220+.+%3Fsbj+wdt%3AP31+wd%3AQ220+&format=json)\n",
      "ERROR:root:HTTPError 400 Client Error: Bad Request for url: https://query.wikidata.org/sparql?query=%23Tool%3A+WikibaseIntegrator+wbi_functions.execute_sparql_query%0Aselect+distinct+%3Fsbj+where++%3Fsbj+wdt%3AP31+wd%3AQ220+.+%3Fsbj+wdt%3AP31+wd%3AQ220+&format=json\n"
     ]
    },
    {
     "name": "stdout",
     "output_type": "stream",
     "text": [
      "failed query select distinct ?sbj where  ?sbj wdt:P31 wd:Q220 . ?sbj wdt:P31 wd:Q220 \n",
      "Failed query number 357\n",
      "failed query select distinct ?sbj where  ?sbj wdt:P31 wd:Q220 . ?sbj wdt:P31 wd:Q220 \n",
      "Failed query number 358\n"
     ]
    },
    {
     "name": "stderr",
     "output_type": "stream",
     "text": [
      "ERROR:backoff:Giving up execute_sparql_query(...) after 1 tries (requests.exceptions.HTTPError: 400 Client Error: Bad Request for url: https://query.wikidata.org/sparql?query=%23Tool%3A+WikibaseIntegrator+wbi_functions.execute_sparql_query%0Aselect+distinct+%3Fsbj+where++%3Fsbj+wdt%3AP31+wd%3AQ220+.+%3Fsbj+wdt%3AP31+wd%3AQ220+&format=json)\n",
      "ERROR:root:HTTPError 400 Client Error: Bad Request for url: https://query.wikidata.org/sparql?query=%23Tool%3A+WikibaseIntegrator+wbi_functions.execute_sparql_query%0Aselect+distinct+%3Fsbj+where++%3Fsbj+wdt%3AP31+wd%3AQ220+.+%3Fsbj+wdt%3AP31+wd%3AQ220+&format=json\n",
      "ERROR:backoff:Giving up execute_sparql_query(...) after 1 tries (requests.exceptions.HTTPError: 400 Client Error: Bad Request for url: https://query.wikidata.org/sparql?query=%23Tool%3A+WikibaseIntegrator+wbi_functions.execute_sparql_query%0Aselect+distinct+%3Fsbj+where++%3Fsbj+wdt%3AP31+wd%3AQ220+.+%3Fsbj+wdt%3AP31+wd%3AQ220+&format=json)\n",
      "ERROR:root:HTTPError 400 Client Error: Bad Request for url: https://query.wikidata.org/sparql?query=%23Tool%3A+WikibaseIntegrator+wbi_functions.execute_sparql_query%0Aselect+distinct+%3Fsbj+where++%3Fsbj+wdt%3AP31+wd%3AQ220+.+%3Fsbj+wdt%3AP31+wd%3AQ220+&format=json\n"
     ]
    },
    {
     "name": "stdout",
     "output_type": "stream",
     "text": [
      "failed query select distinct ?sbj where  ?sbj wdt:P31 wd:Q220 . ?sbj wdt:P31 wd:Q220 \n",
      "Failed query number 359\n",
      "failed query select distinct ?sbj where  ?sbj wdt:P31 wd:Q220 . ?sbj wdt:P31 wd:Q220 \n",
      "Failed query number 360\n"
     ]
    },
    {
     "name": "stderr",
     "output_type": "stream",
     "text": [
      "ERROR:backoff:Giving up execute_sparql_query(...) after 1 tries (requests.exceptions.HTTPError: 400 Client Error: Bad Request for url: https://query.wikidata.org/sparql?query=%23Tool%3A+WikibaseIntegrator+wbi_functions.execute_sparql_query%0Aselect+distinct+%3Fsbj+where++%3Fsbj+wdt%3AP31+wd%3AQ335+.+%3Fsbj+wdt%3AP31+wd%3AQ335+&format=json)\n",
      "ERROR:root:HTTPError 400 Client Error: Bad Request for url: https://query.wikidata.org/sparql?query=%23Tool%3A+WikibaseIntegrator+wbi_functions.execute_sparql_query%0Aselect+distinct+%3Fsbj+where++%3Fsbj+wdt%3AP31+wd%3AQ335+.+%3Fsbj+wdt%3AP31+wd%3AQ335+&format=json\n",
      "ERROR:backoff:Giving up execute_sparql_query(...) after 1 tries (requests.exceptions.HTTPError: 400 Client Error: Bad Request for url: https://query.wikidata.org/sparql?query=%23Tool%3A+WikibaseIntegrator+wbi_functions.execute_sparql_query%0Aselect+distinct+%3Fsbj+where++%3Fsbj+wdt%3AP31+wd%3AQ220+.+%3Fsbj+wdt%3AP31+wd%3AQ220+&format=json)\n",
      "ERROR:root:HTTPError 400 Client Error: Bad Request for url: https://query.wikidata.org/sparql?query=%23Tool%3A+WikibaseIntegrator+wbi_functions.execute_sparql_query%0Aselect+distinct+%3Fsbj+where++%3Fsbj+wdt%3AP31+wd%3AQ220+.+%3Fsbj+wdt%3AP31+wd%3AQ220+&format=json\n"
     ]
    },
    {
     "name": "stdout",
     "output_type": "stream",
     "text": [
      "failed query select distinct ?sbj where  ?sbj wdt:P31 wd:Q335 . ?sbj wdt:P31 wd:Q335 \n",
      "Failed query number 361\n",
      "failed query select distinct ?sbj where  ?sbj wdt:P31 wd:Q220 . ?sbj wdt:P31 wd:Q220 \n",
      "Failed query number 362\n"
     ]
    },
    {
     "name": "stderr",
     "output_type": "stream",
     "text": [
      "ERROR:backoff:Giving up execute_sparql_query(...) after 1 tries (requests.exceptions.HTTPError: 400 Client Error: Bad Request for url: https://query.wikidata.org/sparql?query=%23Tool%3A+WikibaseIntegrator+wbi_functions.execute_sparql_query%0ASELECT+DISTINCT+%3Fsbj+%3Fsbj_label+WHERE++%3Fsbj+wdt%3AP31+wd%3AQ31+.+%3Fsbj+rdfs%3Alabel+%3Fsbj_label+.+FILTER%28STRSTARTS%28lcase%28%3Fsbj_label%29%2C+%27n%27%29%29+.+FILTER+%28lang%28%3Fsbj_label%29+%3D+%27n%27%29%29++LIMIT+25&format=json)\n",
      "ERROR:root:HTTPError 400 Client Error: Bad Request for url: https://query.wikidata.org/sparql?query=%23Tool%3A+WikibaseIntegrator+wbi_functions.execute_sparql_query%0ASELECT+DISTINCT+%3Fsbj+%3Fsbj_label+WHERE++%3Fsbj+wdt%3AP31+wd%3AQ31+.+%3Fsbj+rdfs%3Alabel+%3Fsbj_label+.+FILTER%28STRSTARTS%28lcase%28%3Fsbj_label%29%2C+%27n%27%29%29+.+FILTER+%28lang%28%3Fsbj_label%29+%3D+%27n%27%29%29++LIMIT+25&format=json\n",
      "ERROR:backoff:Giving up execute_sparql_query(...) after 1 tries (requests.exceptions.HTTPError: 400 Client Error: Bad Request for url: https://query.wikidata.org/sparql?query=%23Tool%3A+WikibaseIntegrator+wbi_functions.execute_sparql_query%0Aselect+distinct+%3Fsbj+where++%3Fsbj+wdt%3AP31+wd%3AQ220+.+%3Fsbj+wdt%3AP31+wd%3AQ220+&format=json)\n",
      "ERROR:root:HTTPError 400 Client Error: Bad Request for url: https://query.wikidata.org/sparql?query=%23Tool%3A+WikibaseIntegrator+wbi_functions.execute_sparql_query%0Aselect+distinct+%3Fsbj+where++%3Fsbj+wdt%3AP31+wd%3AQ220+.+%3Fsbj+wdt%3AP31+wd%3AQ220+&format=json\n"
     ]
    },
    {
     "name": "stdout",
     "output_type": "stream",
     "text": [
      "failed query SELECT DISTINCT ?sbj ?sbj_label WHERE  ?sbj wdt:P31 wd:Q31 . ?sbj rdfs:label ?sbj_label . FILTER(STRSTARTS(lcase(?sbj_label), 'n')) . FILTER (lang(?sbj_label) = 'n'))  LIMIT 25\n",
      "Failed query number 363\n",
      "failed query select distinct ?sbj where  ?sbj wdt:P31 wd:Q220 . ?sbj wdt:P31 wd:Q220 \n",
      "Failed query number 364\n"
     ]
    },
    {
     "name": "stderr",
     "output_type": "stream",
     "text": [
      "ERROR:backoff:Giving up execute_sparql_query(...) after 1 tries (requests.exceptions.HTTPError: 400 Client Error: Bad Request for url: https://query.wikidata.org/sparql?query=%23Tool%3A+WikibaseIntegrator+wbi_functions.execute_sparql_query%0ASELECT+%28COUNT%28%3Fsub%29+AS+%3Fvalue+%29++%3Fsub+wdt%3AP31+wd%3AQ335+&format=json)\n",
      "ERROR:root:HTTPError 400 Client Error: Bad Request for url: https://query.wikidata.org/sparql?query=%23Tool%3A+WikibaseIntegrator+wbi_functions.execute_sparql_query%0ASELECT+%28COUNT%28%3Fsub%29+AS+%3Fvalue+%29++%3Fsub+wdt%3AP31+wd%3AQ335+&format=json\n",
      "ERROR:backoff:Giving up execute_sparql_query(...) after 1 tries (requests.exceptions.HTTPError: 400 Client Error: Bad Request for url: https://query.wikidata.org/sparql?query=%23Tool%3A+WikibaseIntegrator+wbi_functions.execute_sparql_query%0ASELECT+DISTINCT+%3Fsbj+%3Fsbj_label+WHERE++%3Fsbj+wdt%3AP31+wd%3AQ335+.+%3Fsbj+rdfs%3Alabel+%3Fsbj_label+.+FILTER%28CONTAINS%28lcase%28%3Fsbj_label%29%2C+%27the%27%29%29+.+FILTER+%28lang%28%3Fsbj_label%29+%3D+%27en%27%29++LIMIT+25&format=json)\n",
      "ERROR:root:HTTPError 400 Client Error: Bad Request for url: https://query.wikidata.org/sparql?query=%23Tool%3A+WikibaseIntegrator+wbi_functions.execute_sparql_query%0ASELECT+DISTINCT+%3Fsbj+%3Fsbj_label+WHERE++%3Fsbj+wdt%3AP31+wd%3AQ335+.+%3Fsbj+rdfs%3Alabel+%3Fsbj_label+.+FILTER%28CONTAINS%28lcase%28%3Fsbj_label%29%2C+%27the%27%29%29+.+FILTER+%28lang%28%3Fsbj_label%29+%3D+%27en%27%29++LIMIT+25&format=json\n"
     ]
    },
    {
     "name": "stdout",
     "output_type": "stream",
     "text": [
      "failed query SELECT (COUNT(?sub) AS ?value )  ?sub wdt:P31 wd:Q335 \n",
      "Failed query number 365\n",
      "failed query SELECT DISTINCT ?sbj ?sbj_label WHERE  ?sbj wdt:P31 wd:Q335 . ?sbj rdfs:label ?sbj_label . FILTER(CONTAINS(lcase(?sbj_label), 'the')) . FILTER (lang(?sbj_label) = 'en')  LIMIT 25\n",
      "Failed query number 366\n"
     ]
    },
    {
     "name": "stderr",
     "output_type": "stream",
     "text": [
      "ERROR:backoff:Giving up execute_sparql_query(...) after 1 tries (requests.exceptions.HTTPError: 400 Client Error: Bad Request for url: https://query.wikidata.org/sparql?query=%23Tool%3A+WikibaseIntegrator+wbi_functions.execute_sparql_query%0Aselect+distinct+%3Fsbj+where++%3Fsbj+wdt%3AP31+wd%3AQ220+.+%3Fsbj+wdt%3AP31+wd%3AQ220+&format=json)\n",
      "ERROR:root:HTTPError 400 Client Error: Bad Request for url: https://query.wikidata.org/sparql?query=%23Tool%3A+WikibaseIntegrator+wbi_functions.execute_sparql_query%0Aselect+distinct+%3Fsbj+where++%3Fsbj+wdt%3AP31+wd%3AQ220+.+%3Fsbj+wdt%3AP31+wd%3AQ220+&format=json\n",
      "ERROR:backoff:Giving up execute_sparql_query(...) after 1 tries (requests.exceptions.HTTPError: 400 Client Error: Bad Request for url: https://query.wikidata.org/sparql?query=%23Tool%3A+WikibaseIntegrator+wbi_functions.execute_sparql_query%0Aselect+distinct+%3Fsbj+where++%3Fsbj+wdt%3AP31+wd%3AQ220+.+%3Fsbj+wdt%3AP31+wd%3AQ220+&format=json)\n",
      "ERROR:root:HTTPError 400 Client Error: Bad Request for url: https://query.wikidata.org/sparql?query=%23Tool%3A+WikibaseIntegrator+wbi_functions.execute_sparql_query%0Aselect+distinct+%3Fsbj+where++%3Fsbj+wdt%3AP31+wd%3AQ220+.+%3Fsbj+wdt%3AP31+wd%3AQ220+&format=json\n"
     ]
    },
    {
     "name": "stdout",
     "output_type": "stream",
     "text": [
      "failed query select distinct ?sbj where  ?sbj wdt:P31 wd:Q220 . ?sbj wdt:P31 wd:Q220 \n",
      "Failed query number 367\n",
      "failed query select distinct ?sbj where  ?sbj wdt:P31 wd:Q220 . ?sbj wdt:P31 wd:Q220 \n",
      "Failed query number 368\n"
     ]
    },
    {
     "name": "stderr",
     "output_type": "stream",
     "text": [
      "ERROR:backoff:Giving up execute_sparql_query(...) after 1 tries (requests.exceptions.HTTPError: 400 Client Error: Bad Request for url: https://query.wikidata.org/sparql?query=%23Tool%3A+WikibaseIntegrator+wbi_functions.execute_sparql_query%0ASELECT+DISTINCT+%3Fsbj+%3Fsbj_label+WHERE++%3Fsbj+wdt%3AP31+wd%3AQ335+.+%3Fsbj+rdfs%3Alabel+%3Fsbj_label+.+FILTER%28CONTAINS%28lcase%28%3Fsbj_label%29%2C+%27residence%27%29%29+.+FILTER+%28lang%28%3Fsbj_label%29+%3D+%27en%27%29++LIMIT+25&format=json)\n",
      "ERROR:root:HTTPError 400 Client Error: Bad Request for url: https://query.wikidata.org/sparql?query=%23Tool%3A+WikibaseIntegrator+wbi_functions.execute_sparql_query%0ASELECT+DISTINCT+%3Fsbj+%3Fsbj_label+WHERE++%3Fsbj+wdt%3AP31+wd%3AQ335+.+%3Fsbj+rdfs%3Alabel+%3Fsbj_label+.+FILTER%28CONTAINS%28lcase%28%3Fsbj_label%29%2C+%27residence%27%29%29+.+FILTER+%28lang%28%3Fsbj_label%29+%3D+%27en%27%29++LIMIT+25&format=json\n",
      "ERROR:backoff:Giving up execute_sparql_query(...) after 1 tries (requests.exceptions.HTTPError: 400 Client Error: Bad Request for url: https://query.wikidata.org/sparql?query=%23Tool%3A+WikibaseIntegrator+wbi_functions.execute_sparql_query%0Aselect+distinct+%3Fsbj+where++%3Fsbj+wdt%3AP31+wd%3AQ220+.+%3Fsbj+wdt%3AP31+wd%3AQ220+&format=json)\n",
      "ERROR:root:HTTPError 400 Client Error: Bad Request for url: https://query.wikidata.org/sparql?query=%23Tool%3A+WikibaseIntegrator+wbi_functions.execute_sparql_query%0Aselect+distinct+%3Fsbj+where++%3Fsbj+wdt%3AP31+wd%3AQ220+.+%3Fsbj+wdt%3AP31+wd%3AQ220+&format=json\n"
     ]
    },
    {
     "name": "stdout",
     "output_type": "stream",
     "text": [
      "failed query SELECT DISTINCT ?sbj ?sbj_label WHERE  ?sbj wdt:P31 wd:Q335 . ?sbj rdfs:label ?sbj_label . FILTER(CONTAINS(lcase(?sbj_label), 'residence')) . FILTER (lang(?sbj_label) = 'en')  LIMIT 25\n",
      "Failed query number 369\n",
      "failed query select distinct ?sbj where  ?sbj wdt:P31 wd:Q220 . ?sbj wdt:P31 wd:Q220 \n",
      "Failed query number 370\n"
     ]
    },
    {
     "name": "stderr",
     "output_type": "stream",
     "text": [
      "ERROR:backoff:Giving up execute_sparql_query(...) after 1 tries (requests.exceptions.HTTPError: 400 Client Error: Bad Request for url: https://query.wikidata.org/sparql?query=%23Tool%3A+WikibaseIntegrator+wbi_functions.execute_sparql_query%0Aselect+distinct+%3Fsbj+where++%3Fsbj+wdt%3AP31+wd%3AQ220+.+%3Fsbj+wdt%3AP31+wd%3AQ220+&format=json)\n",
      "ERROR:root:HTTPError 400 Client Error: Bad Request for url: https://query.wikidata.org/sparql?query=%23Tool%3A+WikibaseIntegrator+wbi_functions.execute_sparql_query%0Aselect+distinct+%3Fsbj+where++%3Fsbj+wdt%3AP31+wd%3AQ220+.+%3Fsbj+wdt%3AP31+wd%3AQ220+&format=json\n",
      "ERROR:backoff:Giving up execute_sparql_query(...) after 1 tries (requests.exceptions.HTTPError: 400 Client Error: Bad Request for url: https://query.wikidata.org/sparql?query=%23Tool%3A+WikibaseIntegrator+wbi_functions.execute_sparql_query%0ASELECT+DISTINCT+%3Fsbj+%3Fsbj_label+WHERE++%3Fsbj+wdt%3AP31+wd%3AQ335+.+%3Fsbj+rdfs%3Alabel+%3Fsbj_label+.+FILTER%28CONTAINS%28lcase%28%3Fsbj_label%29%2C+%27bodhisattva%27%29%29+.+FILTER+%28lang%28%3Fsbj_label%29+%3D+%27en%27%29++LIMIT+25&format=json)\n",
      "ERROR:root:HTTPError 400 Client Error: Bad Request for url: https://query.wikidata.org/sparql?query=%23Tool%3A+WikibaseIntegrator+wbi_functions.execute_sparql_query%0ASELECT+DISTINCT+%3Fsbj+%3Fsbj_label+WHERE++%3Fsbj+wdt%3AP31+wd%3AQ335+.+%3Fsbj+rdfs%3Alabel+%3Fsbj_label+.+FILTER%28CONTAINS%28lcase%28%3Fsbj_label%29%2C+%27bodhisattva%27%29%29+.+FILTER+%28lang%28%3Fsbj_label%29+%3D+%27en%27%29++LIMIT+25&format=json\n"
     ]
    },
    {
     "name": "stdout",
     "output_type": "stream",
     "text": [
      "failed query select distinct ?sbj where  ?sbj wdt:P31 wd:Q220 . ?sbj wdt:P31 wd:Q220 \n",
      "Failed query number 371\n",
      "failed query SELECT DISTINCT ?sbj ?sbj_label WHERE  ?sbj wdt:P31 wd:Q335 . ?sbj rdfs:label ?sbj_label . FILTER(CONTAINS(lcase(?sbj_label), 'bodhisattva')) . FILTER (lang(?sbj_label) = 'en')  LIMIT 25\n",
      "Failed query number 372\n"
     ]
    },
    {
     "name": "stderr",
     "output_type": "stream",
     "text": [
      "ERROR:backoff:Giving up execute_sparql_query(...) after 1 tries (requests.exceptions.HTTPError: 400 Client Error: Bad Request for url: https://query.wikidata.org/sparql?query=%23Tool%3A+WikibaseIntegrator+wbi_functions.execute_sparql_query%0Aselect+distinct+%3Fsbj+where++%3Fsbj+wdt%3AP31+wd%3AQ220+.+%3Fsbj+wdt%3AP31+wd%3AQ220+&format=json)\n",
      "ERROR:root:HTTPError 400 Client Error: Bad Request for url: https://query.wikidata.org/sparql?query=%23Tool%3A+WikibaseIntegrator+wbi_functions.execute_sparql_query%0Aselect+distinct+%3Fsbj+where++%3Fsbj+wdt%3AP31+wd%3AQ220+.+%3Fsbj+wdt%3AP31+wd%3AQ220+&format=json\n",
      "ERROR:backoff:Giving up execute_sparql_query(...) after 1 tries (requests.exceptions.HTTPError: 400 Client Error: Bad Request for url: https://query.wikidata.org/sparql?query=%23Tool%3A+WikibaseIntegrator+wbi_functions.execute_sparql_query%0Aselect+distinct+%3Fsbj+where++%3Fsbj+wdt%3AP31+wd%3AQ220+.+%3Fsbj+wdt%3AP31+wd%3AQ220+&format=json)\n",
      "ERROR:root:HTTPError 400 Client Error: Bad Request for url: https://query.wikidata.org/sparql?query=%23Tool%3A+WikibaseIntegrator+wbi_functions.execute_sparql_query%0Aselect+distinct+%3Fsbj+where++%3Fsbj+wdt%3AP31+wd%3AQ220+.+%3Fsbj+wdt%3AP31+wd%3AQ220+&format=json\n"
     ]
    },
    {
     "name": "stdout",
     "output_type": "stream",
     "text": [
      "failed query select distinct ?sbj where  ?sbj wdt:P31 wd:Q220 . ?sbj wdt:P31 wd:Q220 \n",
      "Failed query number 373\n",
      "failed query select distinct ?sbj where  ?sbj wdt:P31 wd:Q220 . ?sbj wdt:P31 wd:Q220 \n",
      "Failed query number 374\n"
     ]
    },
    {
     "name": "stderr",
     "output_type": "stream",
     "text": [
      "ERROR:backoff:Giving up execute_sparql_query(...) after 1 tries (requests.exceptions.HTTPError: 400 Client Error: Bad Request for url: https://query.wikidata.org/sparql?query=%23Tool%3A+WikibaseIntegrator+wbi_functions.execute_sparql_query%0Aselect+distinct+%3Fsbj+where++%3Fsbj+wdt%3AP31+wd%3AQ220+.+%3Fsbj+wdt%3AP31+wd%3AQ220+&format=json)\n",
      "ERROR:root:HTTPError 400 Client Error: Bad Request for url: https://query.wikidata.org/sparql?query=%23Tool%3A+WikibaseIntegrator+wbi_functions.execute_sparql_query%0Aselect+distinct+%3Fsbj+where++%3Fsbj+wdt%3AP31+wd%3AQ220+.+%3Fsbj+wdt%3AP31+wd%3AQ220+&format=json\n",
      "ERROR:backoff:Giving up execute_sparql_query(...) after 1 tries (requests.exceptions.HTTPError: 400 Client Error: Bad Request for url: https://query.wikidata.org/sparql?query=%23Tool%3A+WikibaseIntegrator+wbi_functions.execute_sparql_query%0Aselect+distinct+%3Fsbj+where++%3Fsbj+wdt%3AP31+wd%3AQ220+.+%3Fsbj+wdt%3AP31+wd%3AQ220+&format=json)\n",
      "ERROR:root:HTTPError 400 Client Error: Bad Request for url: https://query.wikidata.org/sparql?query=%23Tool%3A+WikibaseIntegrator+wbi_functions.execute_sparql_query%0Aselect+distinct+%3Fsbj+where++%3Fsbj+wdt%3AP31+wd%3AQ220+.+%3Fsbj+wdt%3AP31+wd%3AQ220+&format=json\n"
     ]
    },
    {
     "name": "stdout",
     "output_type": "stream",
     "text": [
      "failed query select distinct ?sbj where  ?sbj wdt:P31 wd:Q220 . ?sbj wdt:P31 wd:Q220 \n",
      "Failed query number 375\n",
      "failed query select distinct ?sbj where  ?sbj wdt:P31 wd:Q220 . ?sbj wdt:P31 wd:Q220 \n",
      "Failed query number 376\n"
     ]
    },
    {
     "name": "stderr",
     "output_type": "stream",
     "text": [
      "ERROR:backoff:Giving up execute_sparql_query(...) after 1 tries (requests.exceptions.HTTPError: 400 Client Error: Bad Request for url: https://query.wikidata.org/sparql?query=%23Tool%3A+WikibaseIntegrator+wbi_functions.execute_sparql_query%0Aselect+distinct+%3Fsbj+where++%3Fsbj+wdt%3AP31+wd%3AQ220+.+%3Fsbj+wdt%3AP31+wd%3AQ220+&format=json)\n",
      "ERROR:root:HTTPError 400 Client Error: Bad Request for url: https://query.wikidata.org/sparql?query=%23Tool%3A+WikibaseIntegrator+wbi_functions.execute_sparql_query%0Aselect+distinct+%3Fsbj+where++%3Fsbj+wdt%3AP31+wd%3AQ220+.+%3Fsbj+wdt%3AP31+wd%3AQ220+&format=json\n"
     ]
    },
    {
     "name": "stdout",
     "output_type": "stream",
     "text": [
      "failed query select distinct ?sbj where  ?sbj wdt:P31 wd:Q220 . ?sbj wdt:P31 wd:Q220 \n",
      "Failed query number 377\n"
     ]
    },
    {
     "name": "stderr",
     "output_type": "stream",
     "text": [
      "ERROR:backoff:Giving up execute_sparql_query(...) after 1 tries (requests.exceptions.HTTPError: 400 Client Error: Bad Request for url: https://query.wikidata.org/sparql?query=%23Tool%3A+WikibaseIntegrator+wbi_functions.execute_sparql_query%0Aselect+distinct+%3Fsbj+where++%3Fsbj+wdt%3AP31+wd%3AQ220+.+%3Fsbj+wdt%3AP31+wd%3AQ220+&format=json)\n",
      "ERROR:root:HTTPError 400 Client Error: Bad Request for url: https://query.wikidata.org/sparql?query=%23Tool%3A+WikibaseIntegrator+wbi_functions.execute_sparql_query%0Aselect+distinct+%3Fsbj+where++%3Fsbj+wdt%3AP31+wd%3AQ220+.+%3Fsbj+wdt%3AP31+wd%3AQ220+&format=json\n",
      "ERROR:backoff:Giving up execute_sparql_query(...) after 1 tries (requests.exceptions.HTTPError: 400 Client Error: Bad Request for url: https://query.wikidata.org/sparql?query=%23Tool%3A+WikibaseIntegrator+wbi_functions.execute_sparql_query%0ASELECT+DISTINCT+%3Fsbj+%3Fsbj_label+WHERE++%3Fsbj+wdt%3AP31+wd%3AQ335+.+%3Fsbj+rdfs%3Alabel+%3Fsbj_label+.+FILTER%28CONTAINS%28lcase%28%3Fsbj_label%29%2C+%27embj%27%29%29+.+FILTER+%28lang%28%3Fsbj_label%29+%3D+%27en%27%29++LIMIT+25&format=json)\n",
      "ERROR:root:HTTPError 400 Client Error: Bad Request for url: https://query.wikidata.org/sparql?query=%23Tool%3A+WikibaseIntegrator+wbi_functions.execute_sparql_query%0ASELECT+DISTINCT+%3Fsbj+%3Fsbj_label+WHERE++%3Fsbj+wdt%3AP31+wd%3AQ335+.+%3Fsbj+rdfs%3Alabel+%3Fsbj_label+.+FILTER%28CONTAINS%28lcase%28%3Fsbj_label%29%2C+%27embj%27%29%29+.+FILTER+%28lang%28%3Fsbj_label%29+%3D+%27en%27%29++LIMIT+25&format=json\n"
     ]
    },
    {
     "name": "stdout",
     "output_type": "stream",
     "text": [
      "failed query select distinct ?sbj where  ?sbj wdt:P31 wd:Q220 . ?sbj wdt:P31 wd:Q220 \n",
      "Failed query number 378\n",
      "failed query SELECT DISTINCT ?sbj ?sbj_label WHERE  ?sbj wdt:P31 wd:Q335 . ?sbj rdfs:label ?sbj_label . FILTER(CONTAINS(lcase(?sbj_label), 'embj')) . FILTER (lang(?sbj_label) = 'en')  LIMIT 25\n",
      "Failed query number 379\n"
     ]
    },
    {
     "name": "stderr",
     "output_type": "stream",
     "text": [
      "ERROR:backoff:Giving up execute_sparql_query(...) after 1 tries (requests.exceptions.HTTPError: 400 Client Error: Bad Request for url: https://query.wikidata.org/sparql?query=%23Tool%3A+WikibaseIntegrator+wbi_functions.execute_sparql_query%0Aselect+distinct+%3Fsbj+where++%3Fsbj+wdt%3AP31+wd%3AQ220+.+%3Fsbj+wdt%3AP31+wd%3AQ220+&format=json)\n",
      "ERROR:root:HTTPError 400 Client Error: Bad Request for url: https://query.wikidata.org/sparql?query=%23Tool%3A+WikibaseIntegrator+wbi_functions.execute_sparql_query%0Aselect+distinct+%3Fsbj+where++%3Fsbj+wdt%3AP31+wd%3AQ220+.+%3Fsbj+wdt%3AP31+wd%3AQ220+&format=json\n",
      "ERROR:backoff:Giving up execute_sparql_query(...) after 1 tries (requests.exceptions.HTTPError: 400 Client Error: Bad Request for url: https://query.wikidata.org/sparql?query=%23Tool%3A+WikibaseIntegrator+wbi_functions.execute_sparql_query%0ASELECT+%28COUNT%28%3Fobj%29+AS+%3Fvalue+%29++%3Fobj+wdt%3AP31+wd%3AQ335+&format=json)\n",
      "ERROR:root:HTTPError 400 Client Error: Bad Request for url: https://query.wikidata.org/sparql?query=%23Tool%3A+WikibaseIntegrator+wbi_functions.execute_sparql_query%0ASELECT+%28COUNT%28%3Fobj%29+AS+%3Fvalue+%29++%3Fobj+wdt%3AP31+wd%3AQ335+&format=json\n"
     ]
    },
    {
     "name": "stdout",
     "output_type": "stream",
     "text": [
      "failed query select distinct ?sbj where  ?sbj wdt:P31 wd:Q220 . ?sbj wdt:P31 wd:Q220 \n",
      "Failed query number 380\n",
      "failed query SELECT (COUNT(?obj) AS ?value )  ?obj wdt:P31 wd:Q335 \n",
      "Failed query number 381\n"
     ]
    },
    {
     "name": "stderr",
     "output_type": "stream",
     "text": [
      "ERROR:backoff:Giving up execute_sparql_query(...) after 1 tries (requests.exceptions.HTTPError: 400 Client Error: Bad Request for url: https://query.wikidata.org/sparql?query=%23Tool%3A+WikibaseIntegrator+wbi_functions.execute_sparql_query%0Aselect+distinct+%3Fsbj+where++%3Fsbj+wdt%3AP31+wd%3AQ220+.+%3Fsbj+wdt%3AP31+wd%3AQ220+&format=json)\n",
      "ERROR:root:HTTPError 400 Client Error: Bad Request for url: https://query.wikidata.org/sparql?query=%23Tool%3A+WikibaseIntegrator+wbi_functions.execute_sparql_query%0Aselect+distinct+%3Fsbj+where++%3Fsbj+wdt%3AP31+wd%3AQ220+.+%3Fsbj+wdt%3AP31+wd%3AQ220+&format=json\n",
      "ERROR:backoff:Giving up execute_sparql_query(...) after 1 tries (requests.exceptions.HTTPError: 400 Client Error: Bad Request for url: https://query.wikidata.org/sparql?query=%23Tool%3A+WikibaseIntegrator+wbi_functions.execute_sparql_query%0ASELECT+DISTINCT+%3Fsbj+%3Fsbj_label+WHERE++%3Fsbj+wdt%3AP31+wd%3AQ31+.+%3Fsbj+rdfs%3Alabel+%3Fsbj_label+.+FILTER%28STRSTARTS%28lcase%28%3Fsbj_label%29%2C+%27king+of+Franks%27%29%29+.+FILTER+%28lang%28%3Fsbj_label%29+%3D+%27en%27%29++LIMIT+25&format=json)\n",
      "ERROR:root:HTTPError 400 Client Error: Bad Request for url: https://query.wikidata.org/sparql?query=%23Tool%3A+WikibaseIntegrator+wbi_functions.execute_sparql_query%0ASELECT+DISTINCT+%3Fsbj+%3Fsbj_label+WHERE++%3Fsbj+wdt%3AP31+wd%3AQ31+.+%3Fsbj+rdfs%3Alabel+%3Fsbj_label+.+FILTER%28STRSTARTS%28lcase%28%3Fsbj_label%29%2C+%27king+of+Franks%27%29%29+.+FILTER+%28lang%28%3Fsbj_label%29+%3D+%27en%27%29++LIMIT+25&format=json\n"
     ]
    },
    {
     "name": "stdout",
     "output_type": "stream",
     "text": [
      "failed query select distinct ?sbj where  ?sbj wdt:P31 wd:Q220 . ?sbj wdt:P31 wd:Q220 \n",
      "Failed query number 382\n",
      "failed query SELECT DISTINCT ?sbj ?sbj_label WHERE  ?sbj wdt:P31 wd:Q31 . ?sbj rdfs:label ?sbj_label . FILTER(STRSTARTS(lcase(?sbj_label), 'king of Franks')) . FILTER (lang(?sbj_label) = 'en')  LIMIT 25\n",
      "Failed query number 383\n"
     ]
    },
    {
     "name": "stderr",
     "output_type": "stream",
     "text": [
      "ERROR:backoff:Giving up execute_sparql_query(...) after 1 tries (requests.exceptions.HTTPError: 400 Client Error: Bad Request for url: https://query.wikidata.org/sparql?query=%23Tool%3A+WikibaseIntegrator+wbi_functions.execute_sparql_query%0Aselect+distinct+%3Fsbj+where++%3Fsbj+wdt%3AP31+wd%3AQ335+.+%3Fsbj+wdt%3AP31+wd%3AQ335+&format=json)\n",
      "ERROR:root:HTTPError 400 Client Error: Bad Request for url: https://query.wikidata.org/sparql?query=%23Tool%3A+WikibaseIntegrator+wbi_functions.execute_sparql_query%0Aselect+distinct+%3Fsbj+where++%3Fsbj+wdt%3AP31+wd%3AQ335+.+%3Fsbj+wdt%3AP31+wd%3AQ335+&format=json\n",
      "ERROR:backoff:Giving up execute_sparql_query(...) after 1 tries (requests.exceptions.HTTPError: 400 Client Error: Bad Request for url: https://query.wikidata.org/sparql?query=%23Tool%3A+WikibaseIntegrator+wbi_functions.execute_sparql_query%0ASELECT+DISTINCT+%3Fsbj+%3Fsbj_label+WHERE++%3Fsbj+wdt%3AP31+wd%3AQ335+.+%3Fsbj+rdfs%3Alabel+%3Fsbj_label+.+FILTER%28CONTAINS%28lcase%28%3Fsbj_label%29%2C+%27d%27%29%29+.+FILTER+%28lang%28%3Fsbj_label%29+%3D+%27en%27%29++LIMIT+25&format=json)\n",
      "ERROR:root:HTTPError 400 Client Error: Bad Request for url: https://query.wikidata.org/sparql?query=%23Tool%3A+WikibaseIntegrator+wbi_functions.execute_sparql_query%0ASELECT+DISTINCT+%3Fsbj+%3Fsbj_label+WHERE++%3Fsbj+wdt%3AP31+wd%3AQ335+.+%3Fsbj+rdfs%3Alabel+%3Fsbj_label+.+FILTER%28CONTAINS%28lcase%28%3Fsbj_label%29%2C+%27d%27%29%29+.+FILTER+%28lang%28%3Fsbj_label%29+%3D+%27en%27%29++LIMIT+25&format=json\n"
     ]
    },
    {
     "name": "stdout",
     "output_type": "stream",
     "text": [
      "failed query select distinct ?sbj where  ?sbj wdt:P31 wd:Q335 . ?sbj wdt:P31 wd:Q335 \n",
      "Failed query number 384\n",
      "failed query SELECT DISTINCT ?sbj ?sbj_label WHERE  ?sbj wdt:P31 wd:Q335 . ?sbj rdfs:label ?sbj_label . FILTER(CONTAINS(lcase(?sbj_label), 'd')) . FILTER (lang(?sbj_label) = 'en')  LIMIT 25\n",
      "Failed query number 385\n"
     ]
    },
    {
     "name": "stderr",
     "output_type": "stream",
     "text": [
      "ERROR:backoff:Giving up execute_sparql_query(...) after 1 tries (requests.exceptions.HTTPError: 400 Client Error: Bad Request for url: https://query.wikidata.org/sparql?query=%23Tool%3A+WikibaseIntegrator+wbi_functions.execute_sparql_query%0ASELECT+DISTINCT+%3Fsbj+%3Fsbj_label+WHERE++%3Fsbj+wdt%3AP31+wd%3AQ220+.+%3Fsbj+rdfs%3Alabel+%3Fsbj_label+.+FILTER%28CONTAINS%28lcase%28%3Fsbj_label%29%2C+%2748460+521.1%27%29%29+.+FILTER+%28lang%28%3Fsbj_label%29+%3D+%27en%27%29++LIMIT+25&format=json)\n",
      "ERROR:root:HTTPError 400 Client Error: Bad Request for url: https://query.wikidata.org/sparql?query=%23Tool%3A+WikibaseIntegrator+wbi_functions.execute_sparql_query%0ASELECT+DISTINCT+%3Fsbj+%3Fsbj_label+WHERE++%3Fsbj+wdt%3AP31+wd%3AQ220+.+%3Fsbj+rdfs%3Alabel+%3Fsbj_label+.+FILTER%28CONTAINS%28lcase%28%3Fsbj_label%29%2C+%2748460+521.1%27%29%29+.+FILTER+%28lang%28%3Fsbj_label%29+%3D+%27en%27%29++LIMIT+25&format=json\n",
      "ERROR:backoff:Giving up execute_sparql_query(...) after 1 tries (requests.exceptions.HTTPError: 400 Client Error: Bad Request for url: https://query.wikidata.org/sparql?query=%23Tool%3A+WikibaseIntegrator+wbi_functions.execute_sparql_query%0ASELECT+DISTINCT+%3Fsbj+%3Fsbj_label+WHERE++%3Fsbj+wdt%3AP31+wd%3AQ335+.+%3Fsbj+rdfs%3Alabel+%3Fsbj_label+.+FILTER%28CONTAINS%28lcase%28%3Fsbj_label%29%2C+%27flavour%27%29%29+.+FILTER+%28lang%28%3Fsbj_label%29+%3D+%27en%27%29++LIMIT+25&format=json)\n",
      "ERROR:root:HTTPError 400 Client Error: Bad Request for url: https://query.wikidata.org/sparql?query=%23Tool%3A+WikibaseIntegrator+wbi_functions.execute_sparql_query%0ASELECT+DISTINCT+%3Fsbj+%3Fsbj_label+WHERE++%3Fsbj+wdt%3AP31+wd%3AQ335+.+%3Fsbj+rdfs%3Alabel+%3Fsbj_label+.+FILTER%28CONTAINS%28lcase%28%3Fsbj_label%29%2C+%27flavour%27%29%29+.+FILTER+%28lang%28%3Fsbj_label%29+%3D+%27en%27%29++LIMIT+25&format=json\n"
     ]
    },
    {
     "name": "stdout",
     "output_type": "stream",
     "text": [
      "failed query SELECT DISTINCT ?sbj ?sbj_label WHERE  ?sbj wdt:P31 wd:Q220 . ?sbj rdfs:label ?sbj_label . FILTER(CONTAINS(lcase(?sbj_label), '48460 521.1')) . FILTER (lang(?sbj_label) = 'en')  LIMIT 25\n",
      "Failed query number 386\n",
      "failed query SELECT DISTINCT ?sbj ?sbj_label WHERE  ?sbj wdt:P31 wd:Q335 . ?sbj rdfs:label ?sbj_label . FILTER(CONTAINS(lcase(?sbj_label), 'flavour')) . FILTER (lang(?sbj_label) = 'en')  LIMIT 25\n",
      "Failed query number 387\n"
     ]
    },
    {
     "name": "stderr",
     "output_type": "stream",
     "text": [
      "ERROR:backoff:Giving up execute_sparql_query(...) after 1 tries (requests.exceptions.HTTPError: 400 Client Error: Bad Request for url: https://query.wikidata.org/sparql?query=%23Tool%3A+WikibaseIntegrator+wbi_functions.execute_sparql_query%0ASELECT+DISTINCT+%3Fsbj+%3Fsbj_label+WHERE++%3Fsbj+wdt%3AP31+wd%3AQ31+.+%3Fsbj+rdfs%3Alabel+%3Fsbj_label+.+FILTER%28STRSTARTS%28lcase%28%3Fsbj_label%29%2C+%27s%27%29%29+.+FILTER+%28lang%28%3Fsbj_label%29+%3D+%27s%27%29++LIMIT+25&format=json)\n",
      "ERROR:root:HTTPError 400 Client Error: Bad Request for url: https://query.wikidata.org/sparql?query=%23Tool%3A+WikibaseIntegrator+wbi_functions.execute_sparql_query%0ASELECT+DISTINCT+%3Fsbj+%3Fsbj_label+WHERE++%3Fsbj+wdt%3AP31+wd%3AQ31+.+%3Fsbj+rdfs%3Alabel+%3Fsbj_label+.+FILTER%28STRSTARTS%28lcase%28%3Fsbj_label%29%2C+%27s%27%29%29+.+FILTER+%28lang%28%3Fsbj_label%29+%3D+%27s%27%29++LIMIT+25&format=json\n",
      "ERROR:backoff:Giving up execute_sparql_query(...) after 1 tries (requests.exceptions.HTTPError: 400 Client Error: Bad Request for url: https://query.wikidata.org/sparql?query=%23Tool%3A+WikibaseIntegrator+wbi_functions.execute_sparql_query%0ASELECT+%3Fanswer+WHERE++wd%3AQ319+wdt%3AP31+%3Fanswer+.+%3Fanswer+wdt%3AP128+wd%3AQ319+&format=json)\n",
      "ERROR:root:HTTPError 400 Client Error: Bad Request for url: https://query.wikidata.org/sparql?query=%23Tool%3A+WikibaseIntegrator+wbi_functions.execute_sparql_query%0ASELECT+%3Fanswer+WHERE++wd%3AQ319+wdt%3AP31+%3Fanswer+.+%3Fanswer+wdt%3AP128+wd%3AQ319+&format=json\n"
     ]
    },
    {
     "name": "stdout",
     "output_type": "stream",
     "text": [
      "failed query SELECT DISTINCT ?sbj ?sbj_label WHERE  ?sbj wdt:P31 wd:Q31 . ?sbj rdfs:label ?sbj_label . FILTER(STRSTARTS(lcase(?sbj_label), 's')) . FILTER (lang(?sbj_label) = 's')  LIMIT 25\n",
      "Failed query number 388\n",
      "failed query SELECT ?answer WHERE  wd:Q319 wdt:P31 ?answer . ?answer wdt:P128 wd:Q319 \n",
      "Failed query number 389\n"
     ]
    },
    {
     "name": "stderr",
     "output_type": "stream",
     "text": [
      "ERROR:backoff:Giving up execute_sparql_query(...) after 1 tries (requests.exceptions.HTTPError: 400 Client Error: Bad Request for url: https://query.wikidata.org/sparql?query=%23Tool%3A+WikibaseIntegrator+wbi_functions.execute_sparql_query%0Aselect+distinct+%3Fsbj+where++%3Fsbj+wdt%3AP31+wd%3AQ335+.+%3Fsbj+wdt%3AP31+wd%3AQ335+&format=json)\n",
      "ERROR:root:HTTPError 400 Client Error: Bad Request for url: https://query.wikidata.org/sparql?query=%23Tool%3A+WikibaseIntegrator+wbi_functions.execute_sparql_query%0Aselect+distinct+%3Fsbj+where++%3Fsbj+wdt%3AP31+wd%3AQ335+.+%3Fsbj+wdt%3AP31+wd%3AQ335+&format=json\n",
      "ERROR:backoff:Giving up execute_sparql_query(...) after 1 tries (requests.exceptions.HTTPError: 400 Client Error: Bad Request for url: https://query.wikidata.org/sparql?query=%23Tool%3A+WikibaseIntegrator+wbi_functions.execute_sparql_query%0Aselect+distinct+%3Fsbj+where++%3Fsbj+wdt%3AP31+wd%3AQ220+.+%3Fsbj+wdt%3AP31+wd%3AQ220+&format=json)\n",
      "ERROR:root:HTTPError 400 Client Error: Bad Request for url: https://query.wikidata.org/sparql?query=%23Tool%3A+WikibaseIntegrator+wbi_functions.execute_sparql_query%0Aselect+distinct+%3Fsbj+where++%3Fsbj+wdt%3AP31+wd%3AQ220+.+%3Fsbj+wdt%3AP31+wd%3AQ220+&format=json\n"
     ]
    },
    {
     "name": "stdout",
     "output_type": "stream",
     "text": [
      "failed query select distinct ?sbj where  ?sbj wdt:P31 wd:Q335 . ?sbj wdt:P31 wd:Q335 \n",
      "Failed query number 390\n",
      "failed query select distinct ?sbj where  ?sbj wdt:P31 wd:Q220 . ?sbj wdt:P31 wd:Q220 \n",
      "Failed query number 391\n"
     ]
    },
    {
     "name": "stderr",
     "output_type": "stream",
     "text": [
      "ERROR:backoff:Giving up execute_sparql_query(...) after 1 tries (requests.exceptions.HTTPError: 400 Client Error: Bad Request for url: https://query.wikidata.org/sparql?query=%23Tool%3A+WikibaseIntegrator+wbi_functions.execute_sparql_query%0ASELECT+DISTINCT+%3Fsbj+%3Fsbj_label+WHERE++%3Fsbj+wdt%3AP31+wd%3AQ31+.+%3Fsbj+rdfs%3Alabel+%3Fsbj_label+.+FILTER%28STRSTARTS%28lcase%28%3Fsbj_label%29%2C+%27sbj_label%27%29%29+&format=json)\n",
      "ERROR:root:HTTPError 400 Client Error: Bad Request for url: https://query.wikidata.org/sparql?query=%23Tool%3A+WikibaseIntegrator+wbi_functions.execute_sparql_query%0ASELECT+DISTINCT+%3Fsbj+%3Fsbj_label+WHERE++%3Fsbj+wdt%3AP31+wd%3AQ31+.+%3Fsbj+rdfs%3Alabel+%3Fsbj_label+.+FILTER%28STRSTARTS%28lcase%28%3Fsbj_label%29%2C+%27sbj_label%27%29%29+&format=json\n",
      "ERROR:backoff:Giving up execute_sparql_query(...) after 1 tries (requests.exceptions.HTTPError: 400 Client Error: Bad Request for url: https://query.wikidata.org/sparql?query=%23Tool%3A+WikibaseIntegrator+wbi_functions.execute_sparql_query%0Aselect+distinct+%3Fsbj+where++%3Fsbj+wdt%3AP31+wd%3AQ220+.+%3Fsbj+wdt%3AP31+wd%3AQ220+&format=json)\n",
      "ERROR:root:HTTPError 400 Client Error: Bad Request for url: https://query.wikidata.org/sparql?query=%23Tool%3A+WikibaseIntegrator+wbi_functions.execute_sparql_query%0Aselect+distinct+%3Fsbj+where++%3Fsbj+wdt%3AP31+wd%3AQ220+.+%3Fsbj+wdt%3AP31+wd%3AQ220+&format=json\n"
     ]
    },
    {
     "name": "stdout",
     "output_type": "stream",
     "text": [
      "failed query SELECT DISTINCT ?sbj ?sbj_label WHERE  ?sbj wdt:P31 wd:Q31 . ?sbj rdfs:label ?sbj_label . FILTER(STRSTARTS(lcase(?sbj_label), 'sbj_label')) \n",
      "Failed query number 392\n",
      "failed query select distinct ?sbj where  ?sbj wdt:P31 wd:Q220 . ?sbj wdt:P31 wd:Q220 \n",
      "Failed query number 393\n"
     ]
    },
    {
     "name": "stderr",
     "output_type": "stream",
     "text": [
      "ERROR:backoff:Giving up execute_sparql_query(...) after 1 tries (requests.exceptions.HTTPError: 400 Client Error: Bad Request for url: https://query.wikidata.org/sparql?query=%23Tool%3A+WikibaseIntegrator+wbi_functions.execute_sparql_query%0Aselect+distinct+%3Fsbj+where++%3Fsbj+wdt%3AP31+wd%3AQ220+.+%3Fsbj+wdt%3AP31+wd%3AQ220+&format=json)\n",
      "ERROR:root:HTTPError 400 Client Error: Bad Request for url: https://query.wikidata.org/sparql?query=%23Tool%3A+WikibaseIntegrator+wbi_functions.execute_sparql_query%0Aselect+distinct+%3Fsbj+where++%3Fsbj+wdt%3AP31+wd%3AQ220+.+%3Fsbj+wdt%3AP31+wd%3AQ220+&format=json\n",
      "ERROR:backoff:Giving up execute_sparql_query(...) after 1 tries (requests.exceptions.HTTPError: 400 Client Error: Bad Request for url: https://query.wikidata.org/sparql?query=%23Tool%3A+WikibaseIntegrator+wbi_functions.execute_sparql_query%0ASELECT+DISTINCT+%3Fsbj+%3Fsbj_label+WHERE++%3Fsbj+wdt%3AP31+wd%3AQ335+.+%3Fsbj+rdfs%3Alabel+%3Fsbj_label+.+FILTER%28CONTAINS%28lcase%28%3Fsbj_label%29%2C+%27Hu+Jintao%27%29%29+.+FILTER+%28lang%28%3Fsbj_label%29+%3D+%27en%27%29++LIMIT+25&format=json)\n",
      "ERROR:root:HTTPError 400 Client Error: Bad Request for url: https://query.wikidata.org/sparql?query=%23Tool%3A+WikibaseIntegrator+wbi_functions.execute_sparql_query%0ASELECT+DISTINCT+%3Fsbj+%3Fsbj_label+WHERE++%3Fsbj+wdt%3AP31+wd%3AQ335+.+%3Fsbj+rdfs%3Alabel+%3Fsbj_label+.+FILTER%28CONTAINS%28lcase%28%3Fsbj_label%29%2C+%27Hu+Jintao%27%29%29+.+FILTER+%28lang%28%3Fsbj_label%29+%3D+%27en%27%29++LIMIT+25&format=json\n"
     ]
    },
    {
     "name": "stdout",
     "output_type": "stream",
     "text": [
      "failed query select distinct ?sbj where  ?sbj wdt:P31 wd:Q220 . ?sbj wdt:P31 wd:Q220 \n",
      "Failed query number 394\n",
      "failed query SELECT DISTINCT ?sbj ?sbj_label WHERE  ?sbj wdt:P31 wd:Q335 . ?sbj rdfs:label ?sbj_label . FILTER(CONTAINS(lcase(?sbj_label), 'Hu Jintao')) . FILTER (lang(?sbj_label) = 'en')  LIMIT 25\n",
      "Failed query number 395\n"
     ]
    },
    {
     "name": "stderr",
     "output_type": "stream",
     "text": [
      "ERROR:backoff:Giving up execute_sparql_query(...) after 1 tries (requests.exceptions.HTTPError: 400 Client Error: Bad Request for url: https://query.wikidata.org/sparql?query=%23Tool%3A+WikibaseIntegrator+wbi_functions.execute_sparql_query%0Aselect+distinct+%3Fsbj+where++%3Fsbj+wdt%3AP31+wd%3AQ220+.+%3Fsbj+wdt%3AP31+wd%3AQ220+&format=json)\n",
      "ERROR:root:HTTPError 400 Client Error: Bad Request for url: https://query.wikidata.org/sparql?query=%23Tool%3A+WikibaseIntegrator+wbi_functions.execute_sparql_query%0Aselect+distinct+%3Fsbj+where++%3Fsbj+wdt%3AP31+wd%3AQ220+.+%3Fsbj+wdt%3AP31+wd%3AQ220+&format=json\n",
      "ERROR:backoff:Giving up execute_sparql_query(...) after 1 tries (requests.exceptions.HTTPError: 400 Client Error: Bad Request for url: https://query.wikidata.org/sparql?query=%23Tool%3A+WikibaseIntegrator+wbi_functions.execute_sparql_query%0Aselect+distinct+%3Fsbj+where++%3Fsbj+wdt%3AP31+wd%3AQ220+.+%3Fsbj+wdt%3AP31+wd%3AQ220+&format=json)\n",
      "ERROR:root:HTTPError 400 Client Error: Bad Request for url: https://query.wikidata.org/sparql?query=%23Tool%3A+WikibaseIntegrator+wbi_functions.execute_sparql_query%0Aselect+distinct+%3Fsbj+where++%3Fsbj+wdt%3AP31+wd%3AQ220+.+%3Fsbj+wdt%3AP31+wd%3AQ220+&format=json\n"
     ]
    },
    {
     "name": "stdout",
     "output_type": "stream",
     "text": [
      "failed query select distinct ?sbj where  ?sbj wdt:P31 wd:Q220 . ?sbj wdt:P31 wd:Q220 \n",
      "Failed query number 396\n",
      "failed query select distinct ?sbj where  ?sbj wdt:P31 wd:Q220 . ?sbj wdt:P31 wd:Q220 \n",
      "Failed query number 397\n"
     ]
    },
    {
     "name": "stderr",
     "output_type": "stream",
     "text": [
      "ERROR:backoff:Giving up execute_sparql_query(...) after 1 tries (requests.exceptions.HTTPError: 400 Client Error: Bad Request for url: https://query.wikidata.org/sparql?query=%23Tool%3A+WikibaseIntegrator+wbi_functions.execute_sparql_query%0Aselect+distinct+%3Fsbj+where++%3Fsbj+wdt%3AP31+wd%3AQ220+.+%3Fsbj+wdt%3AP31+wd%3AQ220+&format=json)\n",
      "ERROR:root:HTTPError 400 Client Error: Bad Request for url: https://query.wikidata.org/sparql?query=%23Tool%3A+WikibaseIntegrator+wbi_functions.execute_sparql_query%0Aselect+distinct+%3Fsbj+where++%3Fsbj+wdt%3AP31+wd%3AQ220+.+%3Fsbj+wdt%3AP31+wd%3AQ220+&format=json\n",
      "ERROR:backoff:Giving up execute_sparql_query(...) after 1 tries (requests.exceptions.HTTPError: 400 Client Error: Bad Request for url: https://query.wikidata.org/sparql?query=%23Tool%3A+WikibaseIntegrator+wbi_functions.execute_sparql_query%0Aselect+distinct+%3Fsbj+where++%3Fsbj+wdt%3AP31+wd%3AQ220+.+%3Fsbj+wdt%3AP31+wd%3AQ220+&format=json)\n",
      "ERROR:root:HTTPError 400 Client Error: Bad Request for url: https://query.wikidata.org/sparql?query=%23Tool%3A+WikibaseIntegrator+wbi_functions.execute_sparql_query%0Aselect+distinct+%3Fsbj+where++%3Fsbj+wdt%3AP31+wd%3AQ220+.+%3Fsbj+wdt%3AP31+wd%3AQ220+&format=json\n"
     ]
    },
    {
     "name": "stdout",
     "output_type": "stream",
     "text": [
      "failed query select distinct ?sbj where  ?sbj wdt:P31 wd:Q220 . ?sbj wdt:P31 wd:Q220 \n",
      "Failed query number 398\n",
      "failed query select distinct ?sbj where  ?sbj wdt:P31 wd:Q220 . ?sbj wdt:P31 wd:Q220 \n",
      "Failed query number 399\n"
     ]
    },
    {
     "name": "stderr",
     "output_type": "stream",
     "text": [
      "ERROR:backoff:Giving up execute_sparql_query(...) after 1 tries (requests.exceptions.HTTPError: 400 Client Error: Bad Request for url: https://query.wikidata.org/sparql?query=%23Tool%3A+WikibaseIntegrator+wbi_functions.execute_sparql_query%0Aselect+distinct+%3Fsbj+where++%3Fsbj+wdt%3AP31+wd%3AQ220+.+%3Fsbj+wdt%3AP31+wd%3AQ220+&format=json)\n",
      "ERROR:root:HTTPError 400 Client Error: Bad Request for url: https://query.wikidata.org/sparql?query=%23Tool%3A+WikibaseIntegrator+wbi_functions.execute_sparql_query%0Aselect+distinct+%3Fsbj+where++%3Fsbj+wdt%3AP31+wd%3AQ220+.+%3Fsbj+wdt%3AP31+wd%3AQ220+&format=json\n",
      "ERROR:backoff:Giving up execute_sparql_query(...) after 1 tries (requests.exceptions.HTTPError: 400 Client Error: Bad Request for url: https://query.wikidata.org/sparql?query=%23Tool%3A+WikibaseIntegrator+wbi_functions.execute_sparql_query%0ASELECT+DISTINCT+%3Fsbj+%3Fsbj_label+WHERE++%3Fsbj+wdt%3AP31+wd%3AQ220+.+%3Fsbj+rdfs%3Alabel+%3Fsbj_label+.+FILTER%28STRSTARTS%28lcase%28%3Fsbj_label%29%2C+%27sbj_label%27%29%29+.+FILTER+%28lang%28%3Fsbj_label%29+%3D+%27en%27%29++LIMIT+25&format=json)\n",
      "ERROR:root:HTTPError 400 Client Error: Bad Request for url: https://query.wikidata.org/sparql?query=%23Tool%3A+WikibaseIntegrator+wbi_functions.execute_sparql_query%0ASELECT+DISTINCT+%3Fsbj+%3Fsbj_label+WHERE++%3Fsbj+wdt%3AP31+wd%3AQ220+.+%3Fsbj+rdfs%3Alabel+%3Fsbj_label+.+FILTER%28STRSTARTS%28lcase%28%3Fsbj_label%29%2C+%27sbj_label%27%29%29+.+FILTER+%28lang%28%3Fsbj_label%29+%3D+%27en%27%29++LIMIT+25&format=json\n"
     ]
    },
    {
     "name": "stdout",
     "output_type": "stream",
     "text": [
      "failed query select distinct ?sbj where  ?sbj wdt:P31 wd:Q220 . ?sbj wdt:P31 wd:Q220 \n",
      "Failed query number 400\n",
      "failed query SELECT DISTINCT ?sbj ?sbj_label WHERE  ?sbj wdt:P31 wd:Q220 . ?sbj rdfs:label ?sbj_label . FILTER(STRSTARTS(lcase(?sbj_label), 'sbj_label')) . FILTER (lang(?sbj_label) = 'en')  LIMIT 25\n",
      "Failed query number 401\n"
     ]
    },
    {
     "name": "stderr",
     "output_type": "stream",
     "text": [
      "ERROR:backoff:Giving up execute_sparql_query(...) after 1 tries (requests.exceptions.HTTPError: 400 Client Error: Bad Request for url: https://query.wikidata.org/sparql?query=%23Tool%3A+WikibaseIntegrator+wbi_functions.execute_sparql_query%0ASELECT+%3Fobj+WHERE++wd%3AQ347+p%3AP31+%3Fs+.+%3Fs+ps%3AP31+wd%3AQ347+.+%3Fs+pq%3AP31+wd%3AQ347+&format=json)\n",
      "ERROR:root:HTTPError 400 Client Error: Bad Request for url: https://query.wikidata.org/sparql?query=%23Tool%3A+WikibaseIntegrator+wbi_functions.execute_sparql_query%0ASELECT+%3Fobj+WHERE++wd%3AQ347+p%3AP31+%3Fs+.+%3Fs+ps%3AP31+wd%3AQ347+.+%3Fs+pq%3AP31+wd%3AQ347+&format=json\n",
      "ERROR:backoff:Giving up execute_sparql_query(...) after 1 tries (requests.exceptions.HTTPError: 400 Client Error: Bad Request for url: https://query.wikidata.org/sparql?query=%23Tool%3A+WikibaseIntegrator+wbi_functions.execute_sparql_query%0ASELECT+DISTINCT+%3Fsbj+%3Fsbj_label+WHERE++%3Fsbj+wdt%3AP31+wd%3AQ31+.+%3Fsbj+rdfs%3Alabel+%3Fsbj_label+.+FILTER%28STRSTARTS%28lcase%28%3Fsbj_label%29%2C+%27ypbpr%27%29%29+.+FILTER+%28lang%28%3Fsbj_label%29+%3D+%27en%27%29++LIMIT+25&format=json)\n",
      "ERROR:root:HTTPError 400 Client Error: Bad Request for url: https://query.wikidata.org/sparql?query=%23Tool%3A+WikibaseIntegrator+wbi_functions.execute_sparql_query%0ASELECT+DISTINCT+%3Fsbj+%3Fsbj_label+WHERE++%3Fsbj+wdt%3AP31+wd%3AQ31+.+%3Fsbj+rdfs%3Alabel+%3Fsbj_label+.+FILTER%28STRSTARTS%28lcase%28%3Fsbj_label%29%2C+%27ypbpr%27%29%29+.+FILTER+%28lang%28%3Fsbj_label%29+%3D+%27en%27%29++LIMIT+25&format=json\n"
     ]
    },
    {
     "name": "stdout",
     "output_type": "stream",
     "text": [
      "failed query SELECT ?obj WHERE  wd:Q347 p:P31 ?s . ?s ps:P31 wd:Q347 . ?s pq:P31 wd:Q347 \n",
      "Failed query number 402\n",
      "failed query SELECT DISTINCT ?sbj ?sbj_label WHERE  ?sbj wdt:P31 wd:Q31 . ?sbj rdfs:label ?sbj_label . FILTER(STRSTARTS(lcase(?sbj_label), 'ypbpr')) . FILTER (lang(?sbj_label) = 'en')  LIMIT 25\n",
      "Failed query number 403\n"
     ]
    },
    {
     "name": "stderr",
     "output_type": "stream",
     "text": [
      "ERROR:backoff:Giving up execute_sparql_query(...) after 1 tries (requests.exceptions.HTTPError: 400 Client Error: Bad Request for url: https://query.wikidata.org/sparql?query=%23Tool%3A+WikibaseIntegrator+wbi_functions.execute_sparql_query%0Aselect+distinct+%3Fsbj+where++%3Fsbj+wdt%3AP31+wd%3AQ220+.+%3Fsbj+wdt%3AP31+wd%3AQ220+&format=json)\n",
      "ERROR:root:HTTPError 400 Client Error: Bad Request for url: https://query.wikidata.org/sparql?query=%23Tool%3A+WikibaseIntegrator+wbi_functions.execute_sparql_query%0Aselect+distinct+%3Fsbj+where++%3Fsbj+wdt%3AP31+wd%3AQ220+.+%3Fsbj+wdt%3AP31+wd%3AQ220+&format=json\n",
      "ERROR:backoff:Giving up execute_sparql_query(...) after 1 tries (requests.exceptions.HTTPError: 400 Client Error: Bad Request for url: https://query.wikidata.org/sparql?query=%23Tool%3A+WikibaseIntegrator+wbi_functions.execute_sparql_query%0ASELECT+DISTINCT+%3Fsbj+%3Fsbj_label+WHERE++%3Fsbj+wdt%3AP31+wd%3AQ31+.+%3Fsbj+rdfs%3Alabel+%3Fsbj_label+.+FILTER%28CONTAINS%28lcase%28%3Fsbj_label%29%2C+%27braun%27%29%29+.+FILTER+%28lang%28%3Fsbj_label%29+%3D+%27en%27%29++LIMIT+25&format=json)\n",
      "ERROR:root:HTTPError 400 Client Error: Bad Request for url: https://query.wikidata.org/sparql?query=%23Tool%3A+WikibaseIntegrator+wbi_functions.execute_sparql_query%0ASELECT+DISTINCT+%3Fsbj+%3Fsbj_label+WHERE++%3Fsbj+wdt%3AP31+wd%3AQ31+.+%3Fsbj+rdfs%3Alabel+%3Fsbj_label+.+FILTER%28CONTAINS%28lcase%28%3Fsbj_label%29%2C+%27braun%27%29%29+.+FILTER+%28lang%28%3Fsbj_label%29+%3D+%27en%27%29++LIMIT+25&format=json\n"
     ]
    },
    {
     "name": "stdout",
     "output_type": "stream",
     "text": [
      "failed query select distinct ?sbj where  ?sbj wdt:P31 wd:Q220 . ?sbj wdt:P31 wd:Q220 \n",
      "Failed query number 404\n",
      "failed query SELECT DISTINCT ?sbj ?sbj_label WHERE  ?sbj wdt:P31 wd:Q31 . ?sbj rdfs:label ?sbj_label . FILTER(CONTAINS(lcase(?sbj_label), 'braun')) . FILTER (lang(?sbj_label) = 'en')  LIMIT 25\n",
      "Failed query number 405\n"
     ]
    },
    {
     "name": "stderr",
     "output_type": "stream",
     "text": [
      "ERROR:backoff:Giving up execute_sparql_query(...) after 1 tries (requests.exceptions.HTTPError: 400 Client Error: Bad Request for url: https://query.wikidata.org/sparql?query=%23Tool%3A+WikibaseIntegrator+wbi_functions.execute_sparql_query%0Aselect+distinct+%3Fsbj+where++%3Fsbj+wdt%3AP31+wd%3AQ220+.+%3Fsbj+wdt%3AP31+wd%3AQ220+&format=json)\n",
      "ERROR:root:HTTPError 400 Client Error: Bad Request for url: https://query.wikidata.org/sparql?query=%23Tool%3A+WikibaseIntegrator+wbi_functions.execute_sparql_query%0Aselect+distinct+%3Fsbj+where++%3Fsbj+wdt%3AP31+wd%3AQ220+.+%3Fsbj+wdt%3AP31+wd%3AQ220+&format=json\n",
      "ERROR:backoff:Giving up execute_sparql_query(...) after 1 tries (requests.exceptions.HTTPError: 400 Client Error: Bad Request for url: https://query.wikidata.org/sparql?query=%23Tool%3A+WikibaseIntegrator+wbi_functions.execute_sparql_query%0Aselect+distinct+%3Fsbj+where++%3Fsbj+wdt%3AP31+wd%3AQ228+.+%3Fsbj+wdt%3AP31+wd%3AQ228+&format=json)\n",
      "ERROR:root:HTTPError 400 Client Error: Bad Request for url: https://query.wikidata.org/sparql?query=%23Tool%3A+WikibaseIntegrator+wbi_functions.execute_sparql_query%0Aselect+distinct+%3Fsbj+where++%3Fsbj+wdt%3AP31+wd%3AQ228+.+%3Fsbj+wdt%3AP31+wd%3AQ228+&format=json\n"
     ]
    },
    {
     "name": "stdout",
     "output_type": "stream",
     "text": [
      "failed query select distinct ?sbj where  ?sbj wdt:P31 wd:Q220 . ?sbj wdt:P31 wd:Q220 \n",
      "Failed query number 406\n",
      "failed query select distinct ?sbj where  ?sbj wdt:P31 wd:Q228 . ?sbj wdt:P31 wd:Q228 \n",
      "Failed query number 407\n"
     ]
    },
    {
     "name": "stderr",
     "output_type": "stream",
     "text": [
      "ERROR:backoff:Giving up execute_sparql_query(...) after 1 tries (requests.exceptions.HTTPError: 400 Client Error: Bad Request for url: https://query.wikidata.org/sparql?query=%23Tool%3A+WikibaseIntegrator+wbi_functions.execute_sparql_query%0ASELECT+DISTINCT+%3Fsbj+%3Fsbj_label+WHERE++%3Fsbj+wdt%3AP31+wd%3AQ220+.+%3Fsbj+rdfs%3Alabel+%3Fsbj_label+.+FILTER%28STRSTARTS%28lcase%28%3Fsbj_label%29%2C+%274.0%27%29%29+.+FILTER+%28lang%28%3Fsbj_label%29+%3D+4.0%29++LIMIT+25&format=json)\n",
      "ERROR:root:HTTPError 400 Client Error: Bad Request for url: https://query.wikidata.org/sparql?query=%23Tool%3A+WikibaseIntegrator+wbi_functions.execute_sparql_query%0ASELECT+DISTINCT+%3Fsbj+%3Fsbj_label+WHERE++%3Fsbj+wdt%3AP31+wd%3AQ220+.+%3Fsbj+rdfs%3Alabel+%3Fsbj_label+.+FILTER%28STRSTARTS%28lcase%28%3Fsbj_label%29%2C+%274.0%27%29%29+.+FILTER+%28lang%28%3Fsbj_label%29+%3D+4.0%29++LIMIT+25&format=json\n",
      "ERROR:backoff:Giving up execute_sparql_query(...) after 1 tries (requests.exceptions.HTTPError: 400 Client Error: Bad Request for url: https://query.wikidata.org/sparql?query=%23Tool%3A+WikibaseIntegrator+wbi_functions.execute_sparql_query%0Aselect+distinct+%3Fsbj+where++%3Fsbj+wdt%3AP31+wd%3AQ220+.+%3Fsbj+wdt%3AP31+wd%3AQ220+&format=json)\n",
      "ERROR:root:HTTPError 400 Client Error: Bad Request for url: https://query.wikidata.org/sparql?query=%23Tool%3A+WikibaseIntegrator+wbi_functions.execute_sparql_query%0Aselect+distinct+%3Fsbj+where++%3Fsbj+wdt%3AP31+wd%3AQ220+.+%3Fsbj+wdt%3AP31+wd%3AQ220+&format=json\n"
     ]
    },
    {
     "name": "stdout",
     "output_type": "stream",
     "text": [
      "failed query SELECT DISTINCT ?sbj ?sbj_label WHERE  ?sbj wdt:P31 wd:Q220 . ?sbj rdfs:label ?sbj_label . FILTER(STRSTARTS(lcase(?sbj_label), '4.0')) . FILTER (lang(?sbj_label) = 4.0)  LIMIT 25\n",
      "Failed query number 408\n",
      "failed query select distinct ?sbj where  ?sbj wdt:P31 wd:Q220 . ?sbj wdt:P31 wd:Q220 \n",
      "Failed query number 409\n"
     ]
    },
    {
     "name": "stderr",
     "output_type": "stream",
     "text": [
      "ERROR:backoff:Giving up execute_sparql_query(...) after 1 tries (requests.exceptions.HTTPError: 400 Client Error: Bad Request for url: https://query.wikidata.org/sparql?query=%23Tool%3A+WikibaseIntegrator+wbi_functions.execute_sparql_query%0Aselect+distinct+%3Fsbj+where++%3Fsbj+wdt%3AP31+wd%3AQ220+.+%3Fsbj+wdt%3AP31+wd%3AQ220+&format=json)\n",
      "ERROR:root:HTTPError 400 Client Error: Bad Request for url: https://query.wikidata.org/sparql?query=%23Tool%3A+WikibaseIntegrator+wbi_functions.execute_sparql_query%0Aselect+distinct+%3Fsbj+where++%3Fsbj+wdt%3AP31+wd%3AQ220+.+%3Fsbj+wdt%3AP31+wd%3AQ220+&format=json\n",
      "ERROR:backoff:Giving up execute_sparql_query(...) after 1 tries (requests.exceptions.HTTPError: 400 Client Error: Bad Request for url: https://query.wikidata.org/sparql?query=%23Tool%3A+WikibaseIntegrator+wbi_functions.execute_sparql_query%0Aselect+distinct+%3Fsbj+where++%3Fsbj+wdt%3AP31+wd%3AQ220+.+%3Fsbj+wdt%3AP31+wd%3AQ220+&format=json)\n",
      "ERROR:root:HTTPError 400 Client Error: Bad Request for url: https://query.wikidata.org/sparql?query=%23Tool%3A+WikibaseIntegrator+wbi_functions.execute_sparql_query%0Aselect+distinct+%3Fsbj+where++%3Fsbj+wdt%3AP31+wd%3AQ220+.+%3Fsbj+wdt%3AP31+wd%3AQ220+&format=json\n"
     ]
    },
    {
     "name": "stdout",
     "output_type": "stream",
     "text": [
      "failed query select distinct ?sbj where  ?sbj wdt:P31 wd:Q220 . ?sbj wdt:P31 wd:Q220 \n",
      "Failed query number 410\n",
      "failed query select distinct ?sbj where  ?sbj wdt:P31 wd:Q220 . ?sbj wdt:P31 wd:Q220 \n",
      "Failed query number 411\n"
     ]
    },
    {
     "name": "stderr",
     "output_type": "stream",
     "text": [
      "ERROR:backoff:Giving up execute_sparql_query(...) after 1 tries (requests.exceptions.HTTPError: 400 Client Error: Bad Request for url: https://query.wikidata.org/sparql?query=%23Tool%3A+WikibaseIntegrator+wbi_functions.execute_sparql_query%0ASELECT+DISTINCT+%3Fsbj+%3Fsbj_label+WHERE++%3Fsbj+wdt%3AP31+wd%3AQ335+.+%3Fsbj+rdfs%3Alabel+%3Fsbj_label+.+FILTER%28CONTAINS%28lcase%28%3Fsbj_label%29%2C+%27CPDL%27%29%29+.+FILTER+%28lang%28%3Fsbj_label%29+%3D+%27en%27%29++LIMIT+25&format=json)\n",
      "ERROR:root:HTTPError 400 Client Error: Bad Request for url: https://query.wikidata.org/sparql?query=%23Tool%3A+WikibaseIntegrator+wbi_functions.execute_sparql_query%0ASELECT+DISTINCT+%3Fsbj+%3Fsbj_label+WHERE++%3Fsbj+wdt%3AP31+wd%3AQ335+.+%3Fsbj+rdfs%3Alabel+%3Fsbj_label+.+FILTER%28CONTAINS%28lcase%28%3Fsbj_label%29%2C+%27CPDL%27%29%29+.+FILTER+%28lang%28%3Fsbj_label%29+%3D+%27en%27%29++LIMIT+25&format=json\n",
      "ERROR:backoff:Giving up execute_sparql_query(...) after 1 tries (requests.exceptions.HTTPError: 400 Client Error: Bad Request for url: https://query.wikidata.org/sparql?query=%23Tool%3A+WikibaseIntegrator+wbi_functions.execute_sparql_query%0ASELECT+%3Fobj+WHERE++wd%3AQ347+p%3AP31+%3Fs+.+%3Fs+ps%3AP31+wd%3AQ347+.+%3Fs+pq%3AP31+wd%3AQ347+&format=json)\n",
      "ERROR:root:HTTPError 400 Client Error: Bad Request for url: https://query.wikidata.org/sparql?query=%23Tool%3A+WikibaseIntegrator+wbi_functions.execute_sparql_query%0ASELECT+%3Fobj+WHERE++wd%3AQ347+p%3AP31+%3Fs+.+%3Fs+ps%3AP31+wd%3AQ347+.+%3Fs+pq%3AP31+wd%3AQ347+&format=json\n"
     ]
    },
    {
     "name": "stdout",
     "output_type": "stream",
     "text": [
      "failed query SELECT DISTINCT ?sbj ?sbj_label WHERE  ?sbj wdt:P31 wd:Q335 . ?sbj rdfs:label ?sbj_label . FILTER(CONTAINS(lcase(?sbj_label), 'CPDL')) . FILTER (lang(?sbj_label) = 'en')  LIMIT 25\n",
      "Failed query number 412\n",
      "failed query SELECT ?obj WHERE  wd:Q347 p:P31 ?s . ?s ps:P31 wd:Q347 . ?s pq:P31 wd:Q347 \n",
      "Failed query number 413\n"
     ]
    },
    {
     "name": "stderr",
     "output_type": "stream",
     "text": [
      "ERROR:backoff:Giving up execute_sparql_query(...) after 1 tries (requests.exceptions.HTTPError: 400 Client Error: Bad Request for url: https://query.wikidata.org/sparql?query=%23Tool%3A+WikibaseIntegrator+wbi_functions.execute_sparql_query%0Aselect+distinct+%3Fsbj+where++%3Fsbj+wdt%3AP31+wd%3AQ220+.+%3Fsbj+wdt%3AP31+wd%3AQ220+&format=json)\n",
      "ERROR:root:HTTPError 400 Client Error: Bad Request for url: https://query.wikidata.org/sparql?query=%23Tool%3A+WikibaseIntegrator+wbi_functions.execute_sparql_query%0Aselect+distinct+%3Fsbj+where++%3Fsbj+wdt%3AP31+wd%3AQ220+.+%3Fsbj+wdt%3AP31+wd%3AQ220+&format=json\n",
      "ERROR:backoff:Giving up execute_sparql_query(...) after 1 tries (requests.exceptions.HTTPError: 400 Client Error: Bad Request for url: https://query.wikidata.org/sparql?query=%23Tool%3A+WikibaseIntegrator+wbi_functions.execute_sparql_query%0Aselect+distinct+%3Fsbj+where++%3Fsbj+wdt%3AP31+wd%3AQ220+.+%3Fsbj+wdt%3AP31+wd%3AQ220+&format=json)\n",
      "ERROR:root:HTTPError 400 Client Error: Bad Request for url: https://query.wikidata.org/sparql?query=%23Tool%3A+WikibaseIntegrator+wbi_functions.execute_sparql_query%0Aselect+distinct+%3Fsbj+where++%3Fsbj+wdt%3AP31+wd%3AQ220+.+%3Fsbj+wdt%3AP31+wd%3AQ220+&format=json\n"
     ]
    },
    {
     "name": "stdout",
     "output_type": "stream",
     "text": [
      "failed query select distinct ?sbj where  ?sbj wdt:P31 wd:Q220 . ?sbj wdt:P31 wd:Q220 \n",
      "Failed query number 414\n",
      "failed query select distinct ?sbj where  ?sbj wdt:P31 wd:Q220 . ?sbj wdt:P31 wd:Q220 \n",
      "Failed query number 415\n"
     ]
    },
    {
     "name": "stderr",
     "output_type": "stream",
     "text": [
      "ERROR:backoff:Giving up execute_sparql_query(...) after 1 tries (requests.exceptions.HTTPError: 400 Client Error: Bad Request for url: https://query.wikidata.org/sparql?query=%23Tool%3A+WikibaseIntegrator+wbi_functions.execute_sparql_query%0Aselect+distinct+%3Fsbj+where++%3Fsbj+wdt%3AP31+wd%3AQ220+.+%3Fsbj+wdt%3AP31+wd%3AQ220+&format=json)\n",
      "ERROR:root:HTTPError 400 Client Error: Bad Request for url: https://query.wikidata.org/sparql?query=%23Tool%3A+WikibaseIntegrator+wbi_functions.execute_sparql_query%0Aselect+distinct+%3Fsbj+where++%3Fsbj+wdt%3AP31+wd%3AQ220+.+%3Fsbj+wdt%3AP31+wd%3AQ220+&format=json\n",
      "ERROR:backoff:Giving up execute_sparql_query(...) after 1 tries (requests.exceptions.HTTPError: 400 Client Error: Bad Request for url: https://query.wikidata.org/sparql?query=%23Tool%3A+WikibaseIntegrator+wbi_functions.execute_sparql_query%0ASELECT+%28COUNT%28%3Fobj%29+AS+%3Fvalue+%29++%3Fobj+wdt%3AP31+wd%3AQ335+&format=json)\n",
      "ERROR:root:HTTPError 400 Client Error: Bad Request for url: https://query.wikidata.org/sparql?query=%23Tool%3A+WikibaseIntegrator+wbi_functions.execute_sparql_query%0ASELECT+%28COUNT%28%3Fobj%29+AS+%3Fvalue+%29++%3Fobj+wdt%3AP31+wd%3AQ335+&format=json\n"
     ]
    },
    {
     "name": "stdout",
     "output_type": "stream",
     "text": [
      "failed query select distinct ?sbj where  ?sbj wdt:P31 wd:Q220 . ?sbj wdt:P31 wd:Q220 \n",
      "Failed query number 416\n",
      "failed query SELECT (COUNT(?obj) AS ?value )  ?obj wdt:P31 wd:Q335 \n",
      "Failed query number 417\n"
     ]
    },
    {
     "name": "stderr",
     "output_type": "stream",
     "text": [
      "ERROR:backoff:Giving up execute_sparql_query(...) after 1 tries (requests.exceptions.HTTPError: 400 Client Error: Bad Request for url: https://query.wikidata.org/sparql?query=%23Tool%3A+WikibaseIntegrator+wbi_functions.execute_sparql_query%0Aselect+distinct+%3Fsbj+where++%3Fsbj+wdt%3AP31+wd%3AQ220+.+%3Fsbj+wdt%3AP31+wd%3AQ220+&format=json)\n",
      "ERROR:root:HTTPError 400 Client Error: Bad Request for url: https://query.wikidata.org/sparql?query=%23Tool%3A+WikibaseIntegrator+wbi_functions.execute_sparql_query%0Aselect+distinct+%3Fsbj+where++%3Fsbj+wdt%3AP31+wd%3AQ220+.+%3Fsbj+wdt%3AP31+wd%3AQ220+&format=json\n",
      "ERROR:backoff:Giving up execute_sparql_query(...) after 1 tries (requests.exceptions.HTTPError: 400 Client Error: Bad Request for url: https://query.wikidata.org/sparql?query=%23Tool%3A+WikibaseIntegrator+wbi_functions.execute_sparql_query%0ASELECT+DISTINCT+%3Fsbj+%3Fsbj_label+WHERE++%3Fsbj+wdt%3AP31+wd%3AQ31+.+%3Fsbj+rdfs%3Alabel+%3Fsbj_label+.+FILTER%28STRSTARTS%28lcase%28%3Fsbj_label%29%2C+%27wdt%3Alabel%27%29%29+.+FILTER%28STRSTARTS%28lcase%28%3Fs&format=json)\n",
      "ERROR:root:HTTPError 400 Client Error: Bad Request for url: https://query.wikidata.org/sparql?query=%23Tool%3A+WikibaseIntegrator+wbi_functions.execute_sparql_query%0ASELECT+DISTINCT+%3Fsbj+%3Fsbj_label+WHERE++%3Fsbj+wdt%3AP31+wd%3AQ31+.+%3Fsbj+rdfs%3Alabel+%3Fsbj_label+.+FILTER%28STRSTARTS%28lcase%28%3Fsbj_label%29%2C+%27wdt%3Alabel%27%29%29+.+FILTER%28STRSTARTS%28lcase%28%3Fs&format=json\n"
     ]
    },
    {
     "name": "stdout",
     "output_type": "stream",
     "text": [
      "failed query select distinct ?sbj where  ?sbj wdt:P31 wd:Q220 . ?sbj wdt:P31 wd:Q220 \n",
      "Failed query number 418\n",
      "failed query SELECT DISTINCT ?sbj ?sbj_label WHERE  ?sbj wdt:P31 wd:Q31 . ?sbj rdfs:label ?sbj_label . FILTER(STRSTARTS(lcase(?sbj_label), 'wdt:label')) . FILTER(STRSTARTS(lcase(?s\n",
      "Failed query number 419\n"
     ]
    },
    {
     "name": "stderr",
     "output_type": "stream",
     "text": [
      "ERROR:backoff:Giving up execute_sparql_query(...) after 1 tries (requests.exceptions.HTTPError: 400 Client Error: Bad Request for url: https://query.wikidata.org/sparql?query=%23Tool%3A+WikibaseIntegrator+wbi_functions.execute_sparql_query%0ASELECT+%28COUNT%28%3Fobj%29+AS+%3Fvalue+%29++%3Fobj+wdt%3AP31+wd%3AQ335+&format=json)\n",
      "ERROR:root:HTTPError 400 Client Error: Bad Request for url: https://query.wikidata.org/sparql?query=%23Tool%3A+WikibaseIntegrator+wbi_functions.execute_sparql_query%0ASELECT+%28COUNT%28%3Fobj%29+AS+%3Fvalue+%29++%3Fobj+wdt%3AP31+wd%3AQ335+&format=json\n",
      "ERROR:backoff:Giving up execute_sparql_query(...) after 1 tries (requests.exceptions.HTTPError: 400 Client Error: Bad Request for url: https://query.wikidata.org/sparql?query=%23Tool%3A+WikibaseIntegrator+wbi_functions.execute_sparql_query%0ASELECT+DISTINCT+%3Fsbj+%3Fsbj_label+WHERE++%3Fsbj+wdt%3AP31+wd%3AQ31+.+%3Fsbj+rdfs%3Alabel+%3Fsbj_label+.+FILTER%28STRSTARTS%28lcase%28%3Fsbj_label%29%2C+%27neo%27%29%29+.+FILTER+%28lang%28%3Fsbj_label%29+%3D+%27en%27%29++LIMIT+25&format=json)\n",
      "ERROR:root:HTTPError 400 Client Error: Bad Request for url: https://query.wikidata.org/sparql?query=%23Tool%3A+WikibaseIntegrator+wbi_functions.execute_sparql_query%0ASELECT+DISTINCT+%3Fsbj+%3Fsbj_label+WHERE++%3Fsbj+wdt%3AP31+wd%3AQ31+.+%3Fsbj+rdfs%3Alabel+%3Fsbj_label+.+FILTER%28STRSTARTS%28lcase%28%3Fsbj_label%29%2C+%27neo%27%29%29+.+FILTER+%28lang%28%3Fsbj_label%29+%3D+%27en%27%29++LIMIT+25&format=json\n"
     ]
    },
    {
     "name": "stdout",
     "output_type": "stream",
     "text": [
      "failed query SELECT (COUNT(?obj) AS ?value )  ?obj wdt:P31 wd:Q335 \n",
      "Failed query number 420\n",
      "failed query SELECT DISTINCT ?sbj ?sbj_label WHERE  ?sbj wdt:P31 wd:Q31 . ?sbj rdfs:label ?sbj_label . FILTER(STRSTARTS(lcase(?sbj_label), 'neo')) . FILTER (lang(?sbj_label) = 'en')  LIMIT 25\n",
      "Failed query number 421\n"
     ]
    },
    {
     "name": "stderr",
     "output_type": "stream",
     "text": [
      "ERROR:backoff:Giving up execute_sparql_query(...) after 1 tries (requests.exceptions.HTTPError: 400 Client Error: Bad Request for url: https://query.wikidata.org/sparql?query=%23Tool%3A+WikibaseIntegrator+wbi_functions.execute_sparql_query%0ASELECT+DISTINCT+%3Fsbj+%3Fsbj_label+WHERE++%3Fsbj+wdt%3AP31+wd%3AQ31+.+%3Fsbj+rdfs%3Alabel+%3Fsbj_label+.+FILTER%28CONTAINS%28lcase%28%3Fsbj_label%29%2C+%27contra%27%29%29+.+FILTER+%28lang%28%3Fsbj_label%29+%3D+%27en%27%29++LIMIT+25&format=json)\n",
      "ERROR:root:HTTPError 400 Client Error: Bad Request for url: https://query.wikidata.org/sparql?query=%23Tool%3A+WikibaseIntegrator+wbi_functions.execute_sparql_query%0ASELECT+DISTINCT+%3Fsbj+%3Fsbj_label+WHERE++%3Fsbj+wdt%3AP31+wd%3AQ31+.+%3Fsbj+rdfs%3Alabel+%3Fsbj_label+.+FILTER%28CONTAINS%28lcase%28%3Fsbj_label%29%2C+%27contra%27%29%29+.+FILTER+%28lang%28%3Fsbj_label%29+%3D+%27en%27%29++LIMIT+25&format=json\n",
      "ERROR:backoff:Giving up execute_sparql_query(...) after 1 tries (requests.exceptions.HTTPError: 400 Client Error: Bad Request for url: https://query.wikidata.org/sparql?query=%23Tool%3A+WikibaseIntegrator+wbi_functions.execute_sparql_query%0Aselect+distinct+%3Fsbj+where++%3Fsbj+wdt%3AP31+wd%3AQ220+.+%3Fsbj+wdt%3AP31+wd%3AQ220+&format=json)\n",
      "ERROR:root:HTTPError 400 Client Error: Bad Request for url: https://query.wikidata.org/sparql?query=%23Tool%3A+WikibaseIntegrator+wbi_functions.execute_sparql_query%0Aselect+distinct+%3Fsbj+where++%3Fsbj+wdt%3AP31+wd%3AQ220+.+%3Fsbj+wdt%3AP31+wd%3AQ220+&format=json\n"
     ]
    },
    {
     "name": "stdout",
     "output_type": "stream",
     "text": [
      "failed query SELECT DISTINCT ?sbj ?sbj_label WHERE  ?sbj wdt:P31 wd:Q31 . ?sbj rdfs:label ?sbj_label . FILTER(CONTAINS(lcase(?sbj_label), 'contra')) . FILTER (lang(?sbj_label) = 'en')  LIMIT 25\n",
      "Failed query number 422\n",
      "failed query select distinct ?sbj where  ?sbj wdt:P31 wd:Q220 . ?sbj wdt:P31 wd:Q220 \n",
      "Failed query number 423\n"
     ]
    },
    {
     "name": "stderr",
     "output_type": "stream",
     "text": [
      "ERROR:backoff:Giving up execute_sparql_query(...) after 1 tries (requests.exceptions.HTTPError: 400 Client Error: Bad Request for url: https://query.wikidata.org/sparql?query=%23Tool%3A+WikibaseIntegrator+wbi_functions.execute_sparql_query%0ASELECT+DISTINCT+%3Fsbj+%3Fsbj_label+WHERE++%3Fsbj+wdt%3AP31+wd%3AQ219+.+%3Fsbj+rdfs%3Alabel+%3Fsbj_label+.+FILTER%28STRSTARTS%28lcase%28%3Fsbj_label%29%2C+%273881796000%27%29%29+.+FILTER+%28lang%28%3Fsbj_label%29+%3D+%27en%27%29++LIMIT+25&format=json)\n",
      "ERROR:root:HTTPError 400 Client Error: Bad Request for url: https://query.wikidata.org/sparql?query=%23Tool%3A+WikibaseIntegrator+wbi_functions.execute_sparql_query%0ASELECT+DISTINCT+%3Fsbj+%3Fsbj_label+WHERE++%3Fsbj+wdt%3AP31+wd%3AQ219+.+%3Fsbj+rdfs%3Alabel+%3Fsbj_label+.+FILTER%28STRSTARTS%28lcase%28%3Fsbj_label%29%2C+%273881796000%27%29%29+.+FILTER+%28lang%28%3Fsbj_label%29+%3D+%27en%27%29++LIMIT+25&format=json\n",
      "ERROR:backoff:Giving up execute_sparql_query(...) after 1 tries (requests.exceptions.HTTPError: 400 Client Error: Bad Request for url: https://query.wikidata.org/sparql?query=%23Tool%3A+WikibaseIntegrator+wbi_functions.execute_sparql_query%0Aselect+distinct+%3Fsbj+where++%3Fsbj+wdt%3AP31+wd%3AQ220+.+%3Fsbj+wdt%3AP31+wd%3AQ220+&format=json)\n",
      "ERROR:root:HTTPError 400 Client Error: Bad Request for url: https://query.wikidata.org/sparql?query=%23Tool%3A+WikibaseIntegrator+wbi_functions.execute_sparql_query%0Aselect+distinct+%3Fsbj+where++%3Fsbj+wdt%3AP31+wd%3AQ220+.+%3Fsbj+wdt%3AP31+wd%3AQ220+&format=json\n"
     ]
    },
    {
     "name": "stdout",
     "output_type": "stream",
     "text": [
      "failed query SELECT DISTINCT ?sbj ?sbj_label WHERE  ?sbj wdt:P31 wd:Q219 . ?sbj rdfs:label ?sbj_label . FILTER(STRSTARTS(lcase(?sbj_label), '3881796000')) . FILTER (lang(?sbj_label) = 'en')  LIMIT 25\n",
      "Failed query number 424\n",
      "failed query select distinct ?sbj where  ?sbj wdt:P31 wd:Q220 . ?sbj wdt:P31 wd:Q220 \n",
      "Failed query number 425\n"
     ]
    },
    {
     "name": "stderr",
     "output_type": "stream",
     "text": [
      "ERROR:backoff:Giving up execute_sparql_query(...) after 1 tries (requests.exceptions.HTTPError: 400 Client Error: Bad Request for url: https://query.wikidata.org/sparql?query=%23Tool%3A+WikibaseIntegrator+wbi_functions.execute_sparql_query%0ASELECT+DISTINCT+%3Fsbj+%3Fsbj_label+WHERE++%3Fsbj+wdt%3AP31+wd%3AQ31+.+%3Fsbj+rdfs%3Alabel+%3Fsbj_label+.+FILTER%28STRSTARTS%28lcase%28%3Fsbj_label%29%2C+%27c%27%29%29+&format=json)\n",
      "ERROR:root:HTTPError 400 Client Error: Bad Request for url: https://query.wikidata.org/sparql?query=%23Tool%3A+WikibaseIntegrator+wbi_functions.execute_sparql_query%0ASELECT+DISTINCT+%3Fsbj+%3Fsbj_label+WHERE++%3Fsbj+wdt%3AP31+wd%3AQ31+.+%3Fsbj+rdfs%3Alabel+%3Fsbj_label+.+FILTER%28STRSTARTS%28lcase%28%3Fsbj_label%29%2C+%27c%27%29%29+&format=json\n",
      "ERROR:backoff:Giving up execute_sparql_query(...) after 1 tries (requests.exceptions.HTTPError: 400 Client Error: Bad Request for url: https://query.wikidata.org/sparql?query=%23Tool%3A+WikibaseIntegrator+wbi_functions.execute_sparql_query%0Aselect+distinct+%3Fsbj+where++%3Fsbj+wdt%3AP31+wd%3AQ220+.+%3Fsbj+wdt%3AP31+wd%3AQ220+&format=json)\n",
      "ERROR:root:HTTPError 400 Client Error: Bad Request for url: https://query.wikidata.org/sparql?query=%23Tool%3A+WikibaseIntegrator+wbi_functions.execute_sparql_query%0Aselect+distinct+%3Fsbj+where++%3Fsbj+wdt%3AP31+wd%3AQ220+.+%3Fsbj+wdt%3AP31+wd%3AQ220+&format=json\n"
     ]
    },
    {
     "name": "stdout",
     "output_type": "stream",
     "text": [
      "failed query SELECT DISTINCT ?sbj ?sbj_label WHERE  ?sbj wdt:P31 wd:Q31 . ?sbj rdfs:label ?sbj_label . FILTER(STRSTARTS(lcase(?sbj_label), 'c')) \n",
      "Failed query number 426\n",
      "failed query select distinct ?sbj where  ?sbj wdt:P31 wd:Q220 . ?sbj wdt:P31 wd:Q220 \n",
      "Failed query number 427\n"
     ]
    },
    {
     "name": "stderr",
     "output_type": "stream",
     "text": [
      "ERROR:backoff:Giving up execute_sparql_query(...) after 1 tries (requests.exceptions.HTTPError: 400 Client Error: Bad Request for url: https://query.wikidata.org/sparql?query=%23Tool%3A+WikibaseIntegrator+wbi_functions.execute_sparql_query%0ASELECT+DISTINCT+%3Fsbj+%3Fsbj_label+WHERE++%3Fsbj+wdt%3AP31+wd%3AQ220+.+%3Fsbj+rdfs%3Alabel+%3Fsbj_label+.+FILTER%28STRSTARTS%28lcase%28%3Fsbj_label%29%2C+%27161.364%27%29%29+.+FILTER+%28lang%28%3Fsbj_label%29+%3D+%27en%27%29++LIMIT+25&format=json)\n",
      "ERROR:root:HTTPError 400 Client Error: Bad Request for url: https://query.wikidata.org/sparql?query=%23Tool%3A+WikibaseIntegrator+wbi_functions.execute_sparql_query%0ASELECT+DISTINCT+%3Fsbj+%3Fsbj_label+WHERE++%3Fsbj+wdt%3AP31+wd%3AQ220+.+%3Fsbj+rdfs%3Alabel+%3Fsbj_label+.+FILTER%28STRSTARTS%28lcase%28%3Fsbj_label%29%2C+%27161.364%27%29%29+.+FILTER+%28lang%28%3Fsbj_label%29+%3D+%27en%27%29++LIMIT+25&format=json\n",
      "ERROR:backoff:Giving up execute_sparql_query(...) after 1 tries (requests.exceptions.HTTPError: 400 Client Error: Bad Request for url: https://query.wikidata.org/sparql?query=%23Tool%3A+WikibaseIntegrator+wbi_functions.execute_sparql_query%0ASELECT+DISTINCT+%3Fsbj+%3Fsbj_label+WHERE++%3Fsbj+wdt%3AP31+wd%3AQ335+.+%3Fsbj+rdfs%3Alabel+%3Fsbj_label+.+FILTER%28CONTAINS%28lcase%28%3Fsbj_label%29%2C+%27rd%27%29%29+.+FILTER+%28lang%28%3Fsbj_label%29+%3D+%27en%27%29++LIMIT+25&format=json)\n",
      "ERROR:root:HTTPError 400 Client Error: Bad Request for url: https://query.wikidata.org/sparql?query=%23Tool%3A+WikibaseIntegrator+wbi_functions.execute_sparql_query%0ASELECT+DISTINCT+%3Fsbj+%3Fsbj_label+WHERE++%3Fsbj+wdt%3AP31+wd%3AQ335+.+%3Fsbj+rdfs%3Alabel+%3Fsbj_label+.+FILTER%28CONTAINS%28lcase%28%3Fsbj_label%29%2C+%27rd%27%29%29+.+FILTER+%28lang%28%3Fsbj_label%29+%3D+%27en%27%29++LIMIT+25&format=json\n"
     ]
    },
    {
     "name": "stdout",
     "output_type": "stream",
     "text": [
      "failed query SELECT DISTINCT ?sbj ?sbj_label WHERE  ?sbj wdt:P31 wd:Q220 . ?sbj rdfs:label ?sbj_label . FILTER(STRSTARTS(lcase(?sbj_label), '161.364')) . FILTER (lang(?sbj_label) = 'en')  LIMIT 25\n",
      "Failed query number 428\n",
      "failed query SELECT DISTINCT ?sbj ?sbj_label WHERE  ?sbj wdt:P31 wd:Q335 . ?sbj rdfs:label ?sbj_label . FILTER(CONTAINS(lcase(?sbj_label), 'rd')) . FILTER (lang(?sbj_label) = 'en')  LIMIT 25\n",
      "Failed query number 429\n"
     ]
    },
    {
     "name": "stderr",
     "output_type": "stream",
     "text": [
      "ERROR:backoff:Giving up execute_sparql_query(...) after 1 tries (requests.exceptions.HTTPError: 400 Client Error: Bad Request for url: https://query.wikidata.org/sparql?query=%23Tool%3A+WikibaseIntegrator+wbi_functions.execute_sparql_query%0ASELECT+DISTINCT+%3Fsbj+%3Fsbj_label+WHERE++%3Fsbj+wdt%3AP31+wd%3AQ31+.+%3Fsbj+rdfs%3Alabel+%3Fsbj_label+.+FILTER%28STRSTARTS%28lcase%28%3Fsbj_label%29%2C+%27t%27%29%29+.+FILTER+%28lang%28%3Fsbj_label%29+%3D+%27t%27%29++LIMIT+25&format=json)\n",
      "ERROR:root:HTTPError 400 Client Error: Bad Request for url: https://query.wikidata.org/sparql?query=%23Tool%3A+WikibaseIntegrator+wbi_functions.execute_sparql_query%0ASELECT+DISTINCT+%3Fsbj+%3Fsbj_label+WHERE++%3Fsbj+wdt%3AP31+wd%3AQ31+.+%3Fsbj+rdfs%3Alabel+%3Fsbj_label+.+FILTER%28STRSTARTS%28lcase%28%3Fsbj_label%29%2C+%27t%27%29%29+.+FILTER+%28lang%28%3Fsbj_label%29+%3D+%27t%27%29++LIMIT+25&format=json\n",
      "ERROR:backoff:Giving up execute_sparql_query(...) after 1 tries (requests.exceptions.HTTPError: 400 Client Error: Bad Request for url: https://query.wikidata.org/sparql?query=%23Tool%3A+WikibaseIntegrator+wbi_functions.execute_sparql_query%0Aselect+distinct+%3Fsbj+where++%3Fsbj+wdt%3AP31+wd%3AQ220+.+%3Fsbj+wdt%3AP31+wd%3AQ220+&format=json)\n",
      "ERROR:root:HTTPError 400 Client Error: Bad Request for url: https://query.wikidata.org/sparql?query=%23Tool%3A+WikibaseIntegrator+wbi_functions.execute_sparql_query%0Aselect+distinct+%3Fsbj+where++%3Fsbj+wdt%3AP31+wd%3AQ220+.+%3Fsbj+wdt%3AP31+wd%3AQ220+&format=json\n"
     ]
    },
    {
     "name": "stdout",
     "output_type": "stream",
     "text": [
      "failed query SELECT DISTINCT ?sbj ?sbj_label WHERE  ?sbj wdt:P31 wd:Q31 . ?sbj rdfs:label ?sbj_label . FILTER(STRSTARTS(lcase(?sbj_label), 't')) . FILTER (lang(?sbj_label) = 't')  LIMIT 25\n",
      "Failed query number 430\n",
      "failed query select distinct ?sbj where  ?sbj wdt:P31 wd:Q220 . ?sbj wdt:P31 wd:Q220 \n",
      "Failed query number 431\n"
     ]
    },
    {
     "name": "stderr",
     "output_type": "stream",
     "text": [
      "ERROR:backoff:Giving up execute_sparql_query(...) after 1 tries (requests.exceptions.HTTPError: 400 Client Error: Bad Request for url: https://query.wikidata.org/sparql?query=%23Tool%3A+WikibaseIntegrator+wbi_functions.execute_sparql_query%0ASELECT+%28COUNT%28%3Fobj%29+AS+%3Fvalue+%29++%3Fobj+wdt%3AP31+wd%3AQ220+&format=json)\n",
      "ERROR:root:HTTPError 400 Client Error: Bad Request for url: https://query.wikidata.org/sparql?query=%23Tool%3A+WikibaseIntegrator+wbi_functions.execute_sparql_query%0ASELECT+%28COUNT%28%3Fobj%29+AS+%3Fvalue+%29++%3Fobj+wdt%3AP31+wd%3AQ220+&format=json\n",
      "ERROR:backoff:Giving up execute_sparql_query(...) after 1 tries (requests.exceptions.HTTPError: 400 Client Error: Bad Request for url: https://query.wikidata.org/sparql?query=%23Tool%3A+WikibaseIntegrator+wbi_functions.execute_sparql_query%0Aselect+distinct+%3Fsbj+where++%3Fsbj+wdt%3AP31+wd%3AQ220+.+%3Fsbj+wdt%3AP31+wd%3AQ220+&format=json)\n",
      "ERROR:root:HTTPError 400 Client Error: Bad Request for url: https://query.wikidata.org/sparql?query=%23Tool%3A+WikibaseIntegrator+wbi_functions.execute_sparql_query%0Aselect+distinct+%3Fsbj+where++%3Fsbj+wdt%3AP31+wd%3AQ220+.+%3Fsbj+wdt%3AP31+wd%3AQ220+&format=json\n"
     ]
    },
    {
     "name": "stdout",
     "output_type": "stream",
     "text": [
      "failed query SELECT (COUNT(?obj) AS ?value )  ?obj wdt:P31 wd:Q220 \n",
      "Failed query number 432\n",
      "failed query select distinct ?sbj where  ?sbj wdt:P31 wd:Q220 . ?sbj wdt:P31 wd:Q220 \n",
      "Failed query number 433\n"
     ]
    },
    {
     "name": "stderr",
     "output_type": "stream",
     "text": [
      "ERROR:backoff:Giving up execute_sparql_query(...) after 1 tries (requests.exceptions.HTTPError: 400 Client Error: Bad Request for url: https://query.wikidata.org/sparql?query=%23Tool%3A+WikibaseIntegrator+wbi_functions.execute_sparql_query%0Aselect+distinct+%3Fsbj+where++%3Fsbj+wdt%3AP31+wd%3AQ220+.+%3Fsbj+wdt%3AP31+wd%3AQ220+&format=json)\n",
      "ERROR:root:HTTPError 400 Client Error: Bad Request for url: https://query.wikidata.org/sparql?query=%23Tool%3A+WikibaseIntegrator+wbi_functions.execute_sparql_query%0Aselect+distinct+%3Fsbj+where++%3Fsbj+wdt%3AP31+wd%3AQ220+.+%3Fsbj+wdt%3AP31+wd%3AQ220+&format=json\n",
      "ERROR:backoff:Giving up execute_sparql_query(...) after 1 tries (requests.exceptions.HTTPError: 400 Client Error: Bad Request for url: https://query.wikidata.org/sparql?query=%23Tool%3A+WikibaseIntegrator+wbi_functions.execute_sparql_query%0ASELECT+DISTINCT+%3Fsbj+%3Fsbj_label+WHERE++%3Fsbj+wdt%3AP31+wd%3AQ31+.+%3Fsbj+rdfs%3Alabel+%3Fsbj_label+.+FILTER%28CONTAINS%28lcase%28%3Fsbj_label%29%2C+%27sbj_label%27%29%29+.+FILTER+%28lang%28%3Fsbj_label%29+%3D+%27en%27%29++LIMIT+25&format=json)\n",
      "ERROR:root:HTTPError 400 Client Error: Bad Request for url: https://query.wikidata.org/sparql?query=%23Tool%3A+WikibaseIntegrator+wbi_functions.execute_sparql_query%0ASELECT+DISTINCT+%3Fsbj+%3Fsbj_label+WHERE++%3Fsbj+wdt%3AP31+wd%3AQ31+.+%3Fsbj+rdfs%3Alabel+%3Fsbj_label+.+FILTER%28CONTAINS%28lcase%28%3Fsbj_label%29%2C+%27sbj_label%27%29%29+.+FILTER+%28lang%28%3Fsbj_label%29+%3D+%27en%27%29++LIMIT+25&format=json\n"
     ]
    },
    {
     "name": "stdout",
     "output_type": "stream",
     "text": [
      "failed query select distinct ?sbj where  ?sbj wdt:P31 wd:Q220 . ?sbj wdt:P31 wd:Q220 \n",
      "Failed query number 434\n",
      "failed query SELECT DISTINCT ?sbj ?sbj_label WHERE  ?sbj wdt:P31 wd:Q31 . ?sbj rdfs:label ?sbj_label . FILTER(CONTAINS(lcase(?sbj_label), 'sbj_label')) . FILTER (lang(?sbj_label) = 'en')  LIMIT 25\n",
      "Failed query number 435\n"
     ]
    },
    {
     "name": "stderr",
     "output_type": "stream",
     "text": [
      "ERROR:backoff:Giving up execute_sparql_query(...) after 1 tries (requests.exceptions.HTTPError: 400 Client Error: Bad Request for url: https://query.wikidata.org/sparql?query=%23Tool%3A+WikibaseIntegrator+wbi_functions.execute_sparql_query%0ASELECT+%3Fanswer+WHERE++wd%3AQ319+wdt%3AP31+%3Fanswer+.+%3Fanswer+wdt%3AP128+wd%3AQ319+&format=json)\n",
      "ERROR:root:HTTPError 400 Client Error: Bad Request for url: https://query.wikidata.org/sparql?query=%23Tool%3A+WikibaseIntegrator+wbi_functions.execute_sparql_query%0ASELECT+%3Fanswer+WHERE++wd%3AQ319+wdt%3AP31+%3Fanswer+.+%3Fanswer+wdt%3AP128+wd%3AQ319+&format=json\n",
      "ERROR:backoff:Giving up execute_sparql_query(...) after 1 tries (requests.exceptions.HTTPError: 400 Client Error: Bad Request for url: https://query.wikidata.org/sparql?query=%23Tool%3A+WikibaseIntegrator+wbi_functions.execute_sparql_query%0ASELECT+DISTINCT+%3Fsbj+%3Fsbj_label+WHERE++%3Fsbj+wdt%3AP31+wd%3AQ335+.+%3Fsbj+rdfs%3Alabel+%3Fsbj_label+.+FILTER%28CONTAINS%28lcase%28%3Fsbj_label%29%2C+%27service+branch%27%29%29+.+FILTER+%28lang%28%3Fsbj_label%29+%3D+%27en%27%29++LIMIT+25&format=json)\n",
      "ERROR:root:HTTPError 400 Client Error: Bad Request for url: https://query.wikidata.org/sparql?query=%23Tool%3A+WikibaseIntegrator+wbi_functions.execute_sparql_query%0ASELECT+DISTINCT+%3Fsbj+%3Fsbj_label+WHERE++%3Fsbj+wdt%3AP31+wd%3AQ335+.+%3Fsbj+rdfs%3Alabel+%3Fsbj_label+.+FILTER%28CONTAINS%28lcase%28%3Fsbj_label%29%2C+%27service+branch%27%29%29+.+FILTER+%28lang%28%3Fsbj_label%29+%3D+%27en%27%29++LIMIT+25&format=json\n"
     ]
    },
    {
     "name": "stdout",
     "output_type": "stream",
     "text": [
      "failed query SELECT ?answer WHERE  wd:Q319 wdt:P31 ?answer . ?answer wdt:P128 wd:Q319 \n",
      "Failed query number 436\n",
      "failed query SELECT DISTINCT ?sbj ?sbj_label WHERE  ?sbj wdt:P31 wd:Q335 . ?sbj rdfs:label ?sbj_label . FILTER(CONTAINS(lcase(?sbj_label), 'service branch')) . FILTER (lang(?sbj_label) = 'en')  LIMIT 25\n",
      "Failed query number 437\n"
     ]
    },
    {
     "name": "stderr",
     "output_type": "stream",
     "text": [
      "ERROR:backoff:Giving up execute_sparql_query(...) after 1 tries (requests.exceptions.HTTPError: 400 Client Error: Bad Request for url: https://query.wikidata.org/sparql?query=%23Tool%3A+WikibaseIntegrator+wbi_functions.execute_sparql_query%0Aselect+distinct+%3Fsbj+where++%3Fsbj+wdt%3AP31+wd%3AQ220+.+%3Fsbj+wdt%3AP31+wd%3AQ220+&format=json)\n",
      "ERROR:root:HTTPError 400 Client Error: Bad Request for url: https://query.wikidata.org/sparql?query=%23Tool%3A+WikibaseIntegrator+wbi_functions.execute_sparql_query%0Aselect+distinct+%3Fsbj+where++%3Fsbj+wdt%3AP31+wd%3AQ220+.+%3Fsbj+wdt%3AP31+wd%3AQ220+&format=json\n",
      "ERROR:backoff:Giving up execute_sparql_query(...) after 1 tries (requests.exceptions.HTTPError: 400 Client Error: Bad Request for url: https://query.wikidata.org/sparql?query=%23Tool%3A+WikibaseIntegrator+wbi_functions.execute_sparql_query%0ASELECT+DISTINCT+%3Fsbj+%3Fsbj_label+WHERE++%3Fsbj+wdt%3AP31+wd%3AQ335+.+%3Fsbj+rdfs%3Alabel+%3Fsbj_label+.+FILTER%28CONTAINS%28lcase%28%3Fsbj_label%29%2C+%27international%27%29%29+.+FILTER+%28lang%28%3Fsbj_label%29+%3D+%27en%27%29++LIMIT+25&format=json)\n",
      "ERROR:root:HTTPError 400 Client Error: Bad Request for url: https://query.wikidata.org/sparql?query=%23Tool%3A+WikibaseIntegrator+wbi_functions.execute_sparql_query%0ASELECT+DISTINCT+%3Fsbj+%3Fsbj_label+WHERE++%3Fsbj+wdt%3AP31+wd%3AQ335+.+%3Fsbj+rdfs%3Alabel+%3Fsbj_label+.+FILTER%28CONTAINS%28lcase%28%3Fsbj_label%29%2C+%27international%27%29%29+.+FILTER+%28lang%28%3Fsbj_label%29+%3D+%27en%27%29++LIMIT+25&format=json\n"
     ]
    },
    {
     "name": "stdout",
     "output_type": "stream",
     "text": [
      "failed query select distinct ?sbj where  ?sbj wdt:P31 wd:Q220 . ?sbj wdt:P31 wd:Q220 \n",
      "Failed query number 438\n",
      "failed query SELECT DISTINCT ?sbj ?sbj_label WHERE  ?sbj wdt:P31 wd:Q335 . ?sbj rdfs:label ?sbj_label . FILTER(CONTAINS(lcase(?sbj_label), 'international')) . FILTER (lang(?sbj_label) = 'en')  LIMIT 25\n",
      "Failed query number 439\n"
     ]
    },
    {
     "name": "stderr",
     "output_type": "stream",
     "text": [
      "ERROR:backoff:Giving up execute_sparql_query(...) after 1 tries (requests.exceptions.HTTPError: 400 Client Error: Bad Request for url: https://query.wikidata.org/sparql?query=%23Tool%3A+WikibaseIntegrator+wbi_functions.execute_sparql_query%0Aselect+distinct+%3Fsbj+where++%3Fsbj+wdt%3AP31+wd%3AQ220+.+%3Fsbj+wdt%3AP31+wd%3AQ220+&format=json)\n",
      "ERROR:root:HTTPError 400 Client Error: Bad Request for url: https://query.wikidata.org/sparql?query=%23Tool%3A+WikibaseIntegrator+wbi_functions.execute_sparql_query%0Aselect+distinct+%3Fsbj+where++%3Fsbj+wdt%3AP31+wd%3AQ220+.+%3Fsbj+wdt%3AP31+wd%3AQ220+&format=json\n",
      "ERROR:backoff:Giving up execute_sparql_query(...) after 1 tries (requests.exceptions.HTTPError: 400 Client Error: Bad Request for url: https://query.wikidata.org/sparql?query=%23Tool%3A+WikibaseIntegrator+wbi_functions.execute_sparql_query%0ASELECT+DISTINCT+%3Fsbj+%3Fsbj_label+WHERE++%3Fsbj+wdt%3AP31+wd%3AQ31+.+%3Fsbj+rdfs%3Alabel+%3Fsbj_label+.+FILTER%28STRSTARTS%28lcase%28%3Fsbj_label%29%2C+%27g%27%29%29+.+FILTER+%28lang%28%3Fsbj_label%29+%3D+%27g%27%29++LIMIT+25&format=json)\n",
      "ERROR:root:HTTPError 400 Client Error: Bad Request for url: https://query.wikidata.org/sparql?query=%23Tool%3A+WikibaseIntegrator+wbi_functions.execute_sparql_query%0ASELECT+DISTINCT+%3Fsbj+%3Fsbj_label+WHERE++%3Fsbj+wdt%3AP31+wd%3AQ31+.+%3Fsbj+rdfs%3Alabel+%3Fsbj_label+.+FILTER%28STRSTARTS%28lcase%28%3Fsbj_label%29%2C+%27g%27%29%29+.+FILTER+%28lang%28%3Fsbj_label%29+%3D+%27g%27%29++LIMIT+25&format=json\n"
     ]
    },
    {
     "name": "stdout",
     "output_type": "stream",
     "text": [
      "failed query select distinct ?sbj where  ?sbj wdt:P31 wd:Q220 . ?sbj wdt:P31 wd:Q220 \n",
      "Failed query number 440\n",
      "failed query SELECT DISTINCT ?sbj ?sbj_label WHERE  ?sbj wdt:P31 wd:Q31 . ?sbj rdfs:label ?sbj_label . FILTER(STRSTARTS(lcase(?sbj_label), 'g')) . FILTER (lang(?sbj_label) = 'g')  LIMIT 25\n",
      "Failed query number 441\n"
     ]
    },
    {
     "name": "stderr",
     "output_type": "stream",
     "text": [
      "ERROR:backoff:Giving up execute_sparql_query(...) after 1 tries (requests.exceptions.HTTPError: 400 Client Error: Bad Request for url: https://query.wikidata.org/sparql?query=%23Tool%3A+WikibaseIntegrator+wbi_functions.execute_sparql_query%0Aselect+distinct+%3Fsbj+where++%3Fsbj+wdt%3AP31+wd%3AQ220+.+%3Fsbj+wdt%3AP31+wd%3AQ220+&format=json)\n",
      "ERROR:root:HTTPError 400 Client Error: Bad Request for url: https://query.wikidata.org/sparql?query=%23Tool%3A+WikibaseIntegrator+wbi_functions.execute_sparql_query%0Aselect+distinct+%3Fsbj+where++%3Fsbj+wdt%3AP31+wd%3AQ220+.+%3Fsbj+wdt%3AP31+wd%3AQ220+&format=json\n",
      "ERROR:backoff:Giving up execute_sparql_query(...) after 1 tries (requests.exceptions.HTTPError: 400 Client Error: Bad Request for url: https://query.wikidata.org/sparql?query=%23Tool%3A+WikibaseIntegrator+wbi_functions.execute_sparql_query%0ASELECT+DISTINCT+%3Fsbj+%3Fsbj_label+WHERE++%3Fsbj+wdt%3AP31+wd%3AQ220+.+%3Fsbj+rdfs%3Alabel+%3Fsbj_label+.+FILTER%28CONTAINS%28lcase%28%3Fsbj_label%29%2C+%2726%27%29%29+.+FILTER+%28lang%28%3Fsbj_label%29+%3D+%27en%27%29++LIMIT+25&format=json)\n",
      "ERROR:root:HTTPError 400 Client Error: Bad Request for url: https://query.wikidata.org/sparql?query=%23Tool%3A+WikibaseIntegrator+wbi_functions.execute_sparql_query%0ASELECT+DISTINCT+%3Fsbj+%3Fsbj_label+WHERE++%3Fsbj+wdt%3AP31+wd%3AQ220+.+%3Fsbj+rdfs%3Alabel+%3Fsbj_label+.+FILTER%28CONTAINS%28lcase%28%3Fsbj_label%29%2C+%2726%27%29%29+.+FILTER+%28lang%28%3Fsbj_label%29+%3D+%27en%27%29++LIMIT+25&format=json\n"
     ]
    },
    {
     "name": "stdout",
     "output_type": "stream",
     "text": [
      "failed query select distinct ?sbj where  ?sbj wdt:P31 wd:Q220 . ?sbj wdt:P31 wd:Q220 \n",
      "Failed query number 442\n",
      "failed query SELECT DISTINCT ?sbj ?sbj_label WHERE  ?sbj wdt:P31 wd:Q220 . ?sbj rdfs:label ?sbj_label . FILTER(CONTAINS(lcase(?sbj_label), '26')) . FILTER (lang(?sbj_label) = 'en')  LIMIT 25\n",
      "Failed query number 443\n"
     ]
    },
    {
     "name": "stderr",
     "output_type": "stream",
     "text": [
      "ERROR:backoff:Giving up execute_sparql_query(...) after 1 tries (requests.exceptions.HTTPError: 400 Client Error: Bad Request for url: https://query.wikidata.org/sparql?query=%23Tool%3A+WikibaseIntegrator+wbi_functions.execute_sparql_query%0ASELECT+DISTINCT+%3Fsbj+%3Fsbj_label+WHERE++%3Fsbj+wdt%3AP31+wd%3AQ31+.+%3Fsbj+rdfs%3Alabel+%3Fsbj_label+.+FILTER%28STRSTARTS%28lcase%28%3Fsbj_label%29%2C+%27sbj_label%27%29%29+.+FILTER+%28lang%28%3Fsbj_label%29+%3D+%27en%27%29++LIMIT+25&format=json)\n",
      "ERROR:root:HTTPError 400 Client Error: Bad Request for url: https://query.wikidata.org/sparql?query=%23Tool%3A+WikibaseIntegrator+wbi_functions.execute_sparql_query%0ASELECT+DISTINCT+%3Fsbj+%3Fsbj_label+WHERE++%3Fsbj+wdt%3AP31+wd%3AQ31+.+%3Fsbj+rdfs%3Alabel+%3Fsbj_label+.+FILTER%28STRSTARTS%28lcase%28%3Fsbj_label%29%2C+%27sbj_label%27%29%29+.+FILTER+%28lang%28%3Fsbj_label%29+%3D+%27en%27%29++LIMIT+25&format=json\n",
      "ERROR:backoff:Giving up execute_sparql_query(...) after 1 tries (requests.exceptions.HTTPError: 400 Client Error: Bad Request for url: https://query.wikidata.org/sparql?query=%23Tool%3A+WikibaseIntegrator+wbi_functions.execute_sparql_query%0Aselect+distinct+%3Fsbj+where++%3Fsbj+wdt%3AP31+wd%3AQ220+.+%3Fsbj+wdt%3AP31+wd%3AQ220+&format=json)\n",
      "ERROR:root:HTTPError 400 Client Error: Bad Request for url: https://query.wikidata.org/sparql?query=%23Tool%3A+WikibaseIntegrator+wbi_functions.execute_sparql_query%0Aselect+distinct+%3Fsbj+where++%3Fsbj+wdt%3AP31+wd%3AQ220+.+%3Fsbj+wdt%3AP31+wd%3AQ220+&format=json\n"
     ]
    },
    {
     "name": "stdout",
     "output_type": "stream",
     "text": [
      "failed query SELECT DISTINCT ?sbj ?sbj_label WHERE  ?sbj wdt:P31 wd:Q31 . ?sbj rdfs:label ?sbj_label . FILTER(STRSTARTS(lcase(?sbj_label), 'sbj_label')) . FILTER (lang(?sbj_label) = 'en')  LIMIT 25\n",
      "Failed query number 444\n",
      "failed query select distinct ?sbj where  ?sbj wdt:P31 wd:Q220 . ?sbj wdt:P31 wd:Q220 \n",
      "Failed query number 445\n"
     ]
    },
    {
     "name": "stderr",
     "output_type": "stream",
     "text": [
      "ERROR:backoff:Giving up execute_sparql_query(...) after 1 tries (requests.exceptions.HTTPError: 400 Client Error: Bad Request for url: https://query.wikidata.org/sparql?query=%23Tool%3A+WikibaseIntegrator+wbi_functions.execute_sparql_query%0ASELECT+DISTINCT+%3Fsbj+%3Fsbj_label+WHERE++%3Fsbj+wdt%3AP31+wd%3AQ335+.+%3Fsbj+rdfs%3Alabel+%3Fsbj_label+.+FILTER%28CONTAINS%28lcase%28%3Fsbj_label%29%2C+%27d%27%29%29+.+FILTER+%28lang%28%3Fsbj_label%29+%3D+%27en%27%29++LIMIT+25&format=json)\n",
      "ERROR:root:HTTPError 400 Client Error: Bad Request for url: https://query.wikidata.org/sparql?query=%23Tool%3A+WikibaseIntegrator+wbi_functions.execute_sparql_query%0ASELECT+DISTINCT+%3Fsbj+%3Fsbj_label+WHERE++%3Fsbj+wdt%3AP31+wd%3AQ335+.+%3Fsbj+rdfs%3Alabel+%3Fsbj_label+.+FILTER%28CONTAINS%28lcase%28%3Fsbj_label%29%2C+%27d%27%29%29+.+FILTER+%28lang%28%3Fsbj_label%29+%3D+%27en%27%29++LIMIT+25&format=json\n",
      "ERROR:backoff:Giving up execute_sparql_query(...) after 1 tries (requests.exceptions.HTTPError: 400 Client Error: Bad Request for url: https://query.wikidata.org/sparql?query=%23Tool%3A+WikibaseIntegrator+wbi_functions.execute_sparql_query%0ASELECT+DISTINCT+%3Fsbj+%3Fsbj_label+WHERE++%3Fsbj+wdt%3AP31+wd%3AQ347+.+%3Fsbj+rdfs%3Alabel+%3Fsbj_label+.+FILTER%28CONTAINS%28lcase%28%3Fsbj_label%29%2C+%27sbj_label%27%29%29+.+FILTER+%28lang%28%3Fsbj_label%29+%3D+%27en%27%29++LIMIT+25&format=json)\n",
      "ERROR:root:HTTPError 400 Client Error: Bad Request for url: https://query.wikidata.org/sparql?query=%23Tool%3A+WikibaseIntegrator+wbi_functions.execute_sparql_query%0ASELECT+DISTINCT+%3Fsbj+%3Fsbj_label+WHERE++%3Fsbj+wdt%3AP31+wd%3AQ347+.+%3Fsbj+rdfs%3Alabel+%3Fsbj_label+.+FILTER%28CONTAINS%28lcase%28%3Fsbj_label%29%2C+%27sbj_label%27%29%29+.+FILTER+%28lang%28%3Fsbj_label%29+%3D+%27en%27%29++LIMIT+25&format=json\n"
     ]
    },
    {
     "name": "stdout",
     "output_type": "stream",
     "text": [
      "failed query SELECT DISTINCT ?sbj ?sbj_label WHERE  ?sbj wdt:P31 wd:Q335 . ?sbj rdfs:label ?sbj_label . FILTER(CONTAINS(lcase(?sbj_label), 'd')) . FILTER (lang(?sbj_label) = 'en')  LIMIT 25\n",
      "Failed query number 446\n",
      "failed query SELECT DISTINCT ?sbj ?sbj_label WHERE  ?sbj wdt:P31 wd:Q347 . ?sbj rdfs:label ?sbj_label . FILTER(CONTAINS(lcase(?sbj_label), 'sbj_label')) . FILTER (lang(?sbj_label) = 'en')  LIMIT 25\n",
      "Failed query number 447\n"
     ]
    },
    {
     "name": "stderr",
     "output_type": "stream",
     "text": [
      "ERROR:backoff:Giving up execute_sparql_query(...) after 1 tries (requests.exceptions.HTTPError: 400 Client Error: Bad Request for url: https://query.wikidata.org/sparql?query=%23Tool%3A+WikibaseIntegrator+wbi_functions.execute_sparql_query%0Aselect+distinct+%3Fsbj+where++%3Fsbj+wdt%3AP31+wd%3AQ220+.+%3Fsbj+wdt%3AP31+wd%3AQ220+&format=json)\n",
      "ERROR:root:HTTPError 400 Client Error: Bad Request for url: https://query.wikidata.org/sparql?query=%23Tool%3A+WikibaseIntegrator+wbi_functions.execute_sparql_query%0Aselect+distinct+%3Fsbj+where++%3Fsbj+wdt%3AP31+wd%3AQ220+.+%3Fsbj+wdt%3AP31+wd%3AQ220+&format=json\n",
      "ERROR:backoff:Giving up execute_sparql_query(...) after 1 tries (requests.exceptions.HTTPError: 400 Client Error: Bad Request for url: https://query.wikidata.org/sparql?query=%23Tool%3A+WikibaseIntegrator+wbi_functions.execute_sparql_query%0ASELECT+DISTINCT+%3Fsbj+%3Fsbj_label+WHERE++%3Fsbj+wdt%3AP31+wd%3AQ220+.+%3Fsbj+rdfs%3Alabel+%3Fsbj_label+.+FILTER%28CONTAINS%28lcase%28%3Fsbj_label%29%2C+%27tradatus+Logico-Philosophicus%27%29%29+.+FILTER+%28lang&format=json)\n",
      "ERROR:root:HTTPError 400 Client Error: Bad Request for url: https://query.wikidata.org/sparql?query=%23Tool%3A+WikibaseIntegrator+wbi_functions.execute_sparql_query%0ASELECT+DISTINCT+%3Fsbj+%3Fsbj_label+WHERE++%3Fsbj+wdt%3AP31+wd%3AQ220+.+%3Fsbj+rdfs%3Alabel+%3Fsbj_label+.+FILTER%28CONTAINS%28lcase%28%3Fsbj_label%29%2C+%27tradatus+Logico-Philosophicus%27%29%29+.+FILTER+%28lang&format=json\n"
     ]
    },
    {
     "name": "stdout",
     "output_type": "stream",
     "text": [
      "failed query select distinct ?sbj where  ?sbj wdt:P31 wd:Q220 . ?sbj wdt:P31 wd:Q220 \n",
      "Failed query number 448\n",
      "failed query SELECT DISTINCT ?sbj ?sbj_label WHERE  ?sbj wdt:P31 wd:Q220 . ?sbj rdfs:label ?sbj_label . FILTER(CONTAINS(lcase(?sbj_label), 'tradatus Logico-Philosophicus')) . FILTER (lang\n",
      "Failed query number 449\n"
     ]
    },
    {
     "name": "stderr",
     "output_type": "stream",
     "text": [
      "ERROR:backoff:Giving up execute_sparql_query(...) after 1 tries (requests.exceptions.HTTPError: 400 Client Error: Bad Request for url: https://query.wikidata.org/sparql?query=%23Tool%3A+WikibaseIntegrator+wbi_functions.execute_sparql_query%0Aselect+distinct+%3Fsbj+where++%3Fsbj+wdt%3AP31+wd%3AQ220+.+%3Fsbj+wdt%3AP31+wd%3AQ220+&format=json)\n",
      "ERROR:root:HTTPError 400 Client Error: Bad Request for url: https://query.wikidata.org/sparql?query=%23Tool%3A+WikibaseIntegrator+wbi_functions.execute_sparql_query%0Aselect+distinct+%3Fsbj+where++%3Fsbj+wdt%3AP31+wd%3AQ220+.+%3Fsbj+wdt%3AP31+wd%3AQ220+&format=json\n",
      "ERROR:backoff:Giving up execute_sparql_query(...) after 1 tries (requests.exceptions.HTTPError: 400 Client Error: Bad Request for url: https://query.wikidata.org/sparql?query=%23Tool%3A+WikibaseIntegrator+wbi_functions.execute_sparql_query%0ASELECT+DISTINCT+%3Fsbj+%3Fsbj_label+WHERE++%3Fsbj+wdt%3AP31+wd%3AQ31+.+%3Fsbj+rdfs%3Alabel+%3Fsbj_label+.+FILTER%28STRSTARTS%28lcase%28%3Fsbj_label%29%2C+%27s%27%29%29+.+FILTER+%28lang%28%3Fsbj_label%29+%3D+%27s%27%29++LIMIT+25&format=json)\n",
      "ERROR:root:HTTPError 400 Client Error: Bad Request for url: https://query.wikidata.org/sparql?query=%23Tool%3A+WikibaseIntegrator+wbi_functions.execute_sparql_query%0ASELECT+DISTINCT+%3Fsbj+%3Fsbj_label+WHERE++%3Fsbj+wdt%3AP31+wd%3AQ31+.+%3Fsbj+rdfs%3Alabel+%3Fsbj_label+.+FILTER%28STRSTARTS%28lcase%28%3Fsbj_label%29%2C+%27s%27%29%29+.+FILTER+%28lang%28%3Fsbj_label%29+%3D+%27s%27%29++LIMIT+25&format=json\n"
     ]
    },
    {
     "name": "stdout",
     "output_type": "stream",
     "text": [
      "failed query select distinct ?sbj where  ?sbj wdt:P31 wd:Q220 . ?sbj wdt:P31 wd:Q220 \n",
      "Failed query number 450\n",
      "failed query SELECT DISTINCT ?sbj ?sbj_label WHERE  ?sbj wdt:P31 wd:Q31 . ?sbj rdfs:label ?sbj_label . FILTER(STRSTARTS(lcase(?sbj_label), 's')) . FILTER (lang(?sbj_label) = 's')  LIMIT 25\n",
      "Failed query number 451\n"
     ]
    },
    {
     "name": "stderr",
     "output_type": "stream",
     "text": [
      "ERROR:backoff:Giving up execute_sparql_query(...) after 1 tries (requests.exceptions.HTTPError: 400 Client Error: Bad Request for url: https://query.wikidata.org/sparql?query=%23Tool%3A+WikibaseIntegrator+wbi_functions.execute_sparql_query%0Aselect+distinct+%3Fsbj+where++%3Fsbj+wdt%3AP31+wd%3AQ220+.+%3Fsbj+wdt%3AP31+wd%3AQ220+&format=json)\n",
      "ERROR:root:HTTPError 400 Client Error: Bad Request for url: https://query.wikidata.org/sparql?query=%23Tool%3A+WikibaseIntegrator+wbi_functions.execute_sparql_query%0Aselect+distinct+%3Fsbj+where++%3Fsbj+wdt%3AP31+wd%3AQ220+.+%3Fsbj+wdt%3AP31+wd%3AQ220+&format=json\n"
     ]
    },
    {
     "name": "stdout",
     "output_type": "stream",
     "text": [
      "failed query select distinct ?sbj where  ?sbj wdt:P31 wd:Q220 . ?sbj wdt:P31 wd:Q220 \n",
      "Failed query number 452\n"
     ]
    },
    {
     "name": "stderr",
     "output_type": "stream",
     "text": [
      "ERROR:backoff:Giving up execute_sparql_query(...) after 1 tries (requests.exceptions.HTTPError: 400 Client Error: Bad Request for url: https://query.wikidata.org/sparql?query=%23Tool%3A+WikibaseIntegrator+wbi_functions.execute_sparql_query%0Aselect+distinct+%3Fsbj+where++%3Fsbj+wdt%3AP31+wd%3AQ220+.+%3Fsbj+wdt%3AP31+wd%3AQ220+&format=json)\n",
      "ERROR:root:HTTPError 400 Client Error: Bad Request for url: https://query.wikidata.org/sparql?query=%23Tool%3A+WikibaseIntegrator+wbi_functions.execute_sparql_query%0Aselect+distinct+%3Fsbj+where++%3Fsbj+wdt%3AP31+wd%3AQ220+.+%3Fsbj+wdt%3AP31+wd%3AQ220+&format=json\n",
      "ERROR:backoff:Giving up execute_sparql_query(...) after 1 tries (requests.exceptions.HTTPError: 400 Client Error: Bad Request for url: https://query.wikidata.org/sparql?query=%23Tool%3A+WikibaseIntegrator+wbi_functions.execute_sparql_query%0ASELECT+%3Fanswer+WHERE++wd%3AQ220+wdt%3AP31+wd%3AQ220+.+%3Fanswer+wdt%3AP31+wd%3AQ220+&format=json)\n",
      "ERROR:root:HTTPError 400 Client Error: Bad Request for url: https://query.wikidata.org/sparql?query=%23Tool%3A+WikibaseIntegrator+wbi_functions.execute_sparql_query%0ASELECT+%3Fanswer+WHERE++wd%3AQ220+wdt%3AP31+wd%3AQ220+.+%3Fanswer+wdt%3AP31+wd%3AQ220+&format=json\n"
     ]
    },
    {
     "name": "stdout",
     "output_type": "stream",
     "text": [
      "failed query select distinct ?sbj where  ?sbj wdt:P31 wd:Q220 . ?sbj wdt:P31 wd:Q220 \n",
      "Failed query number 453\n",
      "failed query SELECT ?answer WHERE  wd:Q220 wdt:P31 wd:Q220 . ?answer wdt:P31 wd:Q220 \n",
      "Failed query number 454\n"
     ]
    },
    {
     "name": "stderr",
     "output_type": "stream",
     "text": [
      "ERROR:backoff:Giving up execute_sparql_query(...) after 1 tries (requests.exceptions.HTTPError: 400 Client Error: Bad Request for url: https://query.wikidata.org/sparql?query=%23Tool%3A+WikibaseIntegrator+wbi_functions.execute_sparql_query%0Aselect+distinct+%3Fsbj+where++%3Fsbj+wdt%3AP31+wd%3AQ220+.+%3Fsbj+wdt%3AP31+wd%3AQ220+&format=json)\n",
      "ERROR:root:HTTPError 400 Client Error: Bad Request for url: https://query.wikidata.org/sparql?query=%23Tool%3A+WikibaseIntegrator+wbi_functions.execute_sparql_query%0Aselect+distinct+%3Fsbj+where++%3Fsbj+wdt%3AP31+wd%3AQ220+.+%3Fsbj+wdt%3AP31+wd%3AQ220+&format=json\n"
     ]
    },
    {
     "name": "stdout",
     "output_type": "stream",
     "text": [
      "failed query select distinct ?sbj where  ?sbj wdt:P31 wd:Q220 . ?sbj wdt:P31 wd:Q220 \n",
      "Failed query number 455\n"
     ]
    },
    {
     "name": "stderr",
     "output_type": "stream",
     "text": [
      "ERROR:backoff:Giving up execute_sparql_query(...) after 1 tries (requests.exceptions.HTTPError: 400 Client Error: Bad Request for url: https://query.wikidata.org/sparql?query=%23Tool%3A+WikibaseIntegrator+wbi_functions.execute_sparql_query%0ASELECT+DISTINCT+%3Fsbj+%3Fsbj_label+WHERE++%3Fsbj+wdt%3AP31+wd%3AQ335+.+%3Fsbj+rdfs%3Alabel+%3Fsbj_label+.+FILTER%28STRSTARTS%28lcase%28%3Fsbj_label%29%2C+%27georgien%27%29%29+.+FILTER+%28lang%28%3Fsbj_label%29+%3D+%27en%27%29++LIMIT+25&format=json)\n",
      "ERROR:root:HTTPError 400 Client Error: Bad Request for url: https://query.wikidata.org/sparql?query=%23Tool%3A+WikibaseIntegrator+wbi_functions.execute_sparql_query%0ASELECT+DISTINCT+%3Fsbj+%3Fsbj_label+WHERE++%3Fsbj+wdt%3AP31+wd%3AQ335+.+%3Fsbj+rdfs%3Alabel+%3Fsbj_label+.+FILTER%28STRSTARTS%28lcase%28%3Fsbj_label%29%2C+%27georgien%27%29%29+.+FILTER+%28lang%28%3Fsbj_label%29+%3D+%27en%27%29++LIMIT+25&format=json\n",
      "ERROR:backoff:Giving up execute_sparql_query(...) after 1 tries (requests.exceptions.HTTPError: 400 Client Error: Bad Request for url: https://query.wikidata.org/sparql?query=%23Tool%3A+WikibaseIntegrator+wbi_functions.execute_sparql_query%0ASELECT+DISTINCT+%3Fsbj+%3Fsbj_label+WHERE++%3Fsbj+wdt%3AP31+wd%3AQ31+.+%3Fsbj+rdfs%3Alabel+%3Fsbj_label+.+FILTER%28STRSTARTS%28lcase%28%3Fsbj_label%29%2C+%27h%27%29%29+.+FILTER+%28lang%28%3Fsbj_label%29+%3D+%27h%27%29++LIMIT+25&format=json)\n",
      "ERROR:root:HTTPError 400 Client Error: Bad Request for url: https://query.wikidata.org/sparql?query=%23Tool%3A+WikibaseIntegrator+wbi_functions.execute_sparql_query%0ASELECT+DISTINCT+%3Fsbj+%3Fsbj_label+WHERE++%3Fsbj+wdt%3AP31+wd%3AQ31+.+%3Fsbj+rdfs%3Alabel+%3Fsbj_label+.+FILTER%28STRSTARTS%28lcase%28%3Fsbj_label%29%2C+%27h%27%29%29+.+FILTER+%28lang%28%3Fsbj_label%29+%3D+%27h%27%29++LIMIT+25&format=json\n"
     ]
    },
    {
     "name": "stdout",
     "output_type": "stream",
     "text": [
      "failed query SELECT DISTINCT ?sbj ?sbj_label WHERE  ?sbj wdt:P31 wd:Q335 . ?sbj rdfs:label ?sbj_label . FILTER(STRSTARTS(lcase(?sbj_label), 'georgien')) . FILTER (lang(?sbj_label) = 'en')  LIMIT 25\n",
      "Failed query number 456\n",
      "failed query SELECT DISTINCT ?sbj ?sbj_label WHERE  ?sbj wdt:P31 wd:Q31 . ?sbj rdfs:label ?sbj_label . FILTER(STRSTARTS(lcase(?sbj_label), 'h')) . FILTER (lang(?sbj_label) = 'h')  LIMIT 25\n",
      "Failed query number 457\n"
     ]
    },
    {
     "name": "stderr",
     "output_type": "stream",
     "text": [
      "ERROR:backoff:Giving up execute_sparql_query(...) after 1 tries (requests.exceptions.HTTPError: 400 Client Error: Bad Request for url: https://query.wikidata.org/sparql?query=%23Tool%3A+WikibaseIntegrator+wbi_functions.execute_sparql_query%0ASELECT+DISTINCT+%3Fsbj+%3Fsbj_label+WHERE++%3Fsbj+wdt%3AP31+wd%3AQ335+.+%3Fsbj+rdfs%3Alabel+%3Fsbj_label+.+FILTER%28CONTAINS%28lcase%28%3Fsbj_label%29%2C+%27cardinality%27%29%29+.+FILTER+%28lang%28%3Fsbj_label%29+%3D+%27en%27%29++LIMIT+25&format=json)\n",
      "ERROR:root:HTTPError 400 Client Error: Bad Request for url: https://query.wikidata.org/sparql?query=%23Tool%3A+WikibaseIntegrator+wbi_functions.execute_sparql_query%0ASELECT+DISTINCT+%3Fsbj+%3Fsbj_label+WHERE++%3Fsbj+wdt%3AP31+wd%3AQ335+.+%3Fsbj+rdfs%3Alabel+%3Fsbj_label+.+FILTER%28CONTAINS%28lcase%28%3Fsbj_label%29%2C+%27cardinality%27%29%29+.+FILTER+%28lang%28%3Fsbj_label%29+%3D+%27en%27%29++LIMIT+25&format=json\n",
      "ERROR:backoff:Giving up execute_sparql_query(...) after 1 tries (requests.exceptions.HTTPError: 400 Client Error: Bad Request for url: https://query.wikidata.org/sparql?query=%23Tool%3A+WikibaseIntegrator+wbi_functions.execute_sparql_query%0ASELECT+DISTINCT+%3Fsbj+%3Fsbj_label+WHERE++%3Fsbj+wdt%3AP31+wd%3AQ335+.+%3Fsbj+rdfs%3Alabel+%3Fsbj_label+.+FILTER%28STRSTARTS%28lcase%28%3Fsbj_label%29%2C+%27t%27%29%29+.+FILTER+%28lang%28%3Fsbj_label%29+%3D+%27en%27%29++LIMIT+25&format=json)\n",
      "ERROR:root:HTTPError 400 Client Error: Bad Request for url: https://query.wikidata.org/sparql?query=%23Tool%3A+WikibaseIntegrator+wbi_functions.execute_sparql_query%0ASELECT+DISTINCT+%3Fsbj+%3Fsbj_label+WHERE++%3Fsbj+wdt%3AP31+wd%3AQ335+.+%3Fsbj+rdfs%3Alabel+%3Fsbj_label+.+FILTER%28STRSTARTS%28lcase%28%3Fsbj_label%29%2C+%27t%27%29%29+.+FILTER+%28lang%28%3Fsbj_label%29+%3D+%27en%27%29++LIMIT+25&format=json\n"
     ]
    },
    {
     "name": "stdout",
     "output_type": "stream",
     "text": [
      "failed query SELECT DISTINCT ?sbj ?sbj_label WHERE  ?sbj wdt:P31 wd:Q335 . ?sbj rdfs:label ?sbj_label . FILTER(CONTAINS(lcase(?sbj_label), 'cardinality')) . FILTER (lang(?sbj_label) = 'en')  LIMIT 25\n",
      "Failed query number 458\n",
      "failed query SELECT DISTINCT ?sbj ?sbj_label WHERE  ?sbj wdt:P31 wd:Q335 . ?sbj rdfs:label ?sbj_label . FILTER(STRSTARTS(lcase(?sbj_label), 't')) . FILTER (lang(?sbj_label) = 'en')  LIMIT 25\n",
      "Failed query number 459\n"
     ]
    },
    {
     "name": "stderr",
     "output_type": "stream",
     "text": [
      "ERROR:backoff:Giving up execute_sparql_query(...) after 1 tries (requests.exceptions.HTTPError: 400 Client Error: Bad Request for url: https://query.wikidata.org/sparql?query=%23Tool%3A+WikibaseIntegrator+wbi_functions.execute_sparql_query%0ASELECT+DISTINCT+%3Fsbj+%3Fsbj_label+WHERE++%3Fsbj+wdt%3AP31+wd%3AQ347+.+%3Fsbj+rdfs%3Alabel+%3Fsbj_label+.+FILTER%28STRSTARTS%28lcase%28%3Fsbj_label%29%2C+%27eduardo%27%29%29+.+FILTER+%28lang%28%3Fsbj_label%29+%3D+%27en%27%29++LIMIT+25&format=json)\n",
      "ERROR:root:HTTPError 400 Client Error: Bad Request for url: https://query.wikidata.org/sparql?query=%23Tool%3A+WikibaseIntegrator+wbi_functions.execute_sparql_query%0ASELECT+DISTINCT+%3Fsbj+%3Fsbj_label+WHERE++%3Fsbj+wdt%3AP31+wd%3AQ347+.+%3Fsbj+rdfs%3Alabel+%3Fsbj_label+.+FILTER%28STRSTARTS%28lcase%28%3Fsbj_label%29%2C+%27eduardo%27%29%29+.+FILTER+%28lang%28%3Fsbj_label%29+%3D+%27en%27%29++LIMIT+25&format=json\n",
      "ERROR:backoff:Giving up execute_sparql_query(...) after 1 tries (requests.exceptions.HTTPError: 400 Client Error: Bad Request for url: https://query.wikidata.org/sparql?query=%23Tool%3A+WikibaseIntegrator+wbi_functions.execute_sparql_query%0Aselect+distinct+%3Fsbj+where++%3Fsbj+wdt%3AP31+wd%3AQ220+.+%3Fsbj+wdt%3AP31+wd%3AQ220+&format=json)\n",
      "ERROR:root:HTTPError 400 Client Error: Bad Request for url: https://query.wikidata.org/sparql?query=%23Tool%3A+WikibaseIntegrator+wbi_functions.execute_sparql_query%0Aselect+distinct+%3Fsbj+where++%3Fsbj+wdt%3AP31+wd%3AQ220+.+%3Fsbj+wdt%3AP31+wd%3AQ220+&format=json\n"
     ]
    },
    {
     "name": "stdout",
     "output_type": "stream",
     "text": [
      "failed query SELECT DISTINCT ?sbj ?sbj_label WHERE  ?sbj wdt:P31 wd:Q347 . ?sbj rdfs:label ?sbj_label . FILTER(STRSTARTS(lcase(?sbj_label), 'eduardo')) . FILTER (lang(?sbj_label) = 'en')  LIMIT 25\n",
      "Failed query number 460\n",
      "failed query select distinct ?sbj where  ?sbj wdt:P31 wd:Q220 . ?sbj wdt:P31 wd:Q220 \n",
      "Failed query number 461\n"
     ]
    },
    {
     "name": "stderr",
     "output_type": "stream",
     "text": [
      "ERROR:backoff:Giving up execute_sparql_query(...) after 1 tries (requests.exceptions.HTTPError: 400 Client Error: Bad Request for url: https://query.wikidata.org/sparql?query=%23Tool%3A+WikibaseIntegrator+wbi_functions.execute_sparql_query%0ASELECT+DISTINCT+%3Fsbj+%3Fsbj_label+WHERE++%3Fsbj+wdt%3AP31+wd%3AQ31+.+%3Fsbj+rdfs%3Alabel+%3Fsbj_label+.+FILTER%28CONTAINS%28lcase%28%3Fsbj_label%29%2C+%27syndrom%27%29%29+.+FILTER+%28lang%28%3Fsbj_label%29+%3D+%27en%27%29++LIMIT+25&format=json)\n",
      "ERROR:root:HTTPError 400 Client Error: Bad Request for url: https://query.wikidata.org/sparql?query=%23Tool%3A+WikibaseIntegrator+wbi_functions.execute_sparql_query%0ASELECT+DISTINCT+%3Fsbj+%3Fsbj_label+WHERE++%3Fsbj+wdt%3AP31+wd%3AQ31+.+%3Fsbj+rdfs%3Alabel+%3Fsbj_label+.+FILTER%28CONTAINS%28lcase%28%3Fsbj_label%29%2C+%27syndrom%27%29%29+.+FILTER+%28lang%28%3Fsbj_label%29+%3D+%27en%27%29++LIMIT+25&format=json\n",
      "ERROR:backoff:Giving up execute_sparql_query(...) after 1 tries (requests.exceptions.HTTPError: 400 Client Error: Bad Request for url: https://query.wikidata.org/sparql?query=%23Tool%3A+WikibaseIntegrator+wbi_functions.execute_sparql_query%0ASELECT+DISTINCT+%3Fsbj+%3Fsbj_label+WHERE++%3Fsbj+wdt%3AP31+wd%3AQ31+.+%3Fsbj+rdfs%3Alabel+%3Fsbj_label+.+FILTER%28STRSTARTS%28lcase%28%3Fsbj_label%29%2C+%27unvirsity%27%29%29+.+FILTER+%28lang%28%3Fsbj_label%29+%3D+%27en%27%29++LIMIT+25&format=json)\n",
      "ERROR:root:HTTPError 400 Client Error: Bad Request for url: https://query.wikidata.org/sparql?query=%23Tool%3A+WikibaseIntegrator+wbi_functions.execute_sparql_query%0ASELECT+DISTINCT+%3Fsbj+%3Fsbj_label+WHERE++%3Fsbj+wdt%3AP31+wd%3AQ31+.+%3Fsbj+rdfs%3Alabel+%3Fsbj_label+.+FILTER%28STRSTARTS%28lcase%28%3Fsbj_label%29%2C+%27unvirsity%27%29%29+.+FILTER+%28lang%28%3Fsbj_label%29+%3D+%27en%27%29++LIMIT+25&format=json\n"
     ]
    },
    {
     "name": "stdout",
     "output_type": "stream",
     "text": [
      "failed query SELECT DISTINCT ?sbj ?sbj_label WHERE  ?sbj wdt:P31 wd:Q31 . ?sbj rdfs:label ?sbj_label . FILTER(CONTAINS(lcase(?sbj_label), 'syndrom')) . FILTER (lang(?sbj_label) = 'en')  LIMIT 25\n",
      "Failed query number 462\n",
      "failed query SELECT DISTINCT ?sbj ?sbj_label WHERE  ?sbj wdt:P31 wd:Q31 . ?sbj rdfs:label ?sbj_label . FILTER(STRSTARTS(lcase(?sbj_label), 'unvirsity')) . FILTER (lang(?sbj_label) = 'en')  LIMIT 25\n",
      "Failed query number 463\n"
     ]
    },
    {
     "name": "stderr",
     "output_type": "stream",
     "text": [
      "ERROR:backoff:Giving up execute_sparql_query(...) after 1 tries (requests.exceptions.HTTPError: 400 Client Error: Bad Request for url: https://query.wikidata.org/sparql?query=%23Tool%3A+WikibaseIntegrator+wbi_functions.execute_sparql_query%0Aselect+distinct+%3Fsbj+where++%3Fsbj+wdt%3AP31+wd%3AQ220+.+%3Fsbj+wdt%3AP31+wd%3AQ220+&format=json)\n",
      "ERROR:root:HTTPError 400 Client Error: Bad Request for url: https://query.wikidata.org/sparql?query=%23Tool%3A+WikibaseIntegrator+wbi_functions.execute_sparql_query%0Aselect+distinct+%3Fsbj+where++%3Fsbj+wdt%3AP31+wd%3AQ220+.+%3Fsbj+wdt%3AP31+wd%3AQ220+&format=json\n",
      "ERROR:backoff:Giving up execute_sparql_query(...) after 1 tries (requests.exceptions.HTTPError: 400 Client Error: Bad Request for url: https://query.wikidata.org/sparql?query=%23Tool%3A+WikibaseIntegrator+wbi_functions.execute_sparql_query%0Aselect+distinct+%3Fsbj+where++%3Fsbj+wdt%3AP31+wd%3AQ347+.+%3Fsbj+wdt%3AP31+wd%3AQ347+&format=json)\n",
      "ERROR:root:HTTPError 400 Client Error: Bad Request for url: https://query.wikidata.org/sparql?query=%23Tool%3A+WikibaseIntegrator+wbi_functions.execute_sparql_query%0Aselect+distinct+%3Fsbj+where++%3Fsbj+wdt%3AP31+wd%3AQ347+.+%3Fsbj+wdt%3AP31+wd%3AQ347+&format=json\n"
     ]
    },
    {
     "name": "stdout",
     "output_type": "stream",
     "text": [
      "failed query select distinct ?sbj where  ?sbj wdt:P31 wd:Q220 . ?sbj wdt:P31 wd:Q220 \n",
      "Failed query number 464\n",
      "failed query select distinct ?sbj where  ?sbj wdt:P31 wd:Q347 . ?sbj wdt:P31 wd:Q347 \n",
      "Failed query number 465\n"
     ]
    },
    {
     "name": "stderr",
     "output_type": "stream",
     "text": [
      "ERROR:backoff:Giving up execute_sparql_query(...) after 1 tries (requests.exceptions.HTTPError: 400 Client Error: Bad Request for url: https://query.wikidata.org/sparql?query=%23Tool%3A+WikibaseIntegrator+wbi_functions.execute_sparql_query%0Aselect+distinct+%3Fsbj+where++%3Fsbj+wdt%3AP31+wd%3AQ220+.+%3Fsbj+wdt%3AP31+wd%3AQ220+&format=json)\n",
      "ERROR:root:HTTPError 400 Client Error: Bad Request for url: https://query.wikidata.org/sparql?query=%23Tool%3A+WikibaseIntegrator+wbi_functions.execute_sparql_query%0Aselect+distinct+%3Fsbj+where++%3Fsbj+wdt%3AP31+wd%3AQ220+.+%3Fsbj+wdt%3AP31+wd%3AQ220+&format=json\n",
      "ERROR:backoff:Giving up execute_sparql_query(...) after 1 tries (requests.exceptions.HTTPError: 400 Client Error: Bad Request for url: https://query.wikidata.org/sparql?query=%23Tool%3A+WikibaseIntegrator+wbi_functions.execute_sparql_query%0Aselect+distinct+%3Fsbj+where++%3Fsbj+wdt%3AP31+wd%3AQ220+.+%3Fsbj+wdt%3AP31+wd%3AQ220+&format=json)\n",
      "ERROR:root:HTTPError 400 Client Error: Bad Request for url: https://query.wikidata.org/sparql?query=%23Tool%3A+WikibaseIntegrator+wbi_functions.execute_sparql_query%0Aselect+distinct+%3Fsbj+where++%3Fsbj+wdt%3AP31+wd%3AQ220+.+%3Fsbj+wdt%3AP31+wd%3AQ220+&format=json\n"
     ]
    },
    {
     "name": "stdout",
     "output_type": "stream",
     "text": [
      "failed query select distinct ?sbj where  ?sbj wdt:P31 wd:Q220 . ?sbj wdt:P31 wd:Q220 \n",
      "Failed query number 466\n",
      "failed query select distinct ?sbj where  ?sbj wdt:P31 wd:Q220 . ?sbj wdt:P31 wd:Q220 \n",
      "Failed query number 467\n"
     ]
    },
    {
     "name": "stderr",
     "output_type": "stream",
     "text": [
      "ERROR:backoff:Giving up execute_sparql_query(...) after 1 tries (requests.exceptions.HTTPError: 400 Client Error: Bad Request for url: https://query.wikidata.org/sparql?query=%23Tool%3A+WikibaseIntegrator+wbi_functions.execute_sparql_query%0ASELECT+%3Fanswer+WHERE++wd%3AQ335+wdt%3AP31+%3Fanswer+.+%3Fanswer+wdt%3AP31+wd%3AQ335+&format=json)\n",
      "ERROR:root:HTTPError 400 Client Error: Bad Request for url: https://query.wikidata.org/sparql?query=%23Tool%3A+WikibaseIntegrator+wbi_functions.execute_sparql_query%0ASELECT+%3Fanswer+WHERE++wd%3AQ335+wdt%3AP31+%3Fanswer+.+%3Fanswer+wdt%3AP31+wd%3AQ335+&format=json\n",
      "ERROR:backoff:Giving up execute_sparql_query(...) after 1 tries (requests.exceptions.HTTPError: 400 Client Error: Bad Request for url: https://query.wikidata.org/sparql?query=%23Tool%3A+WikibaseIntegrator+wbi_functions.execute_sparql_query%0ASELECT+DISTINCT+%3Fsbj+%3Fsbj_label+WHERE++%3Fsbj+wdt%3AP31+wd%3AQ220+.+%3Fsbj+rdfs%3Alabel+%3Fsbj_label+.+FILTER%28STRSTARTS%28lcase%28%3Fsbj_label%29%2C+%272.126%27%29%29+.+FILTER+%28lang%28%3Fsbj_label%29+%3D+%27en%27%29++LIMIT+25&format=json)\n",
      "ERROR:root:HTTPError 400 Client Error: Bad Request for url: https://query.wikidata.org/sparql?query=%23Tool%3A+WikibaseIntegrator+wbi_functions.execute_sparql_query%0ASELECT+DISTINCT+%3Fsbj+%3Fsbj_label+WHERE++%3Fsbj+wdt%3AP31+wd%3AQ220+.+%3Fsbj+rdfs%3Alabel+%3Fsbj_label+.+FILTER%28STRSTARTS%28lcase%28%3Fsbj_label%29%2C+%272.126%27%29%29+.+FILTER+%28lang%28%3Fsbj_label%29+%3D+%27en%27%29++LIMIT+25&format=json\n"
     ]
    },
    {
     "name": "stdout",
     "output_type": "stream",
     "text": [
      "failed query SELECT ?answer WHERE  wd:Q335 wdt:P31 ?answer . ?answer wdt:P31 wd:Q335 \n",
      "Failed query number 468\n",
      "failed query SELECT DISTINCT ?sbj ?sbj_label WHERE  ?sbj wdt:P31 wd:Q220 . ?sbj rdfs:label ?sbj_label . FILTER(STRSTARTS(lcase(?sbj_label), '2.126')) . FILTER (lang(?sbj_label) = 'en')  LIMIT 25\n",
      "Failed query number 469\n"
     ]
    },
    {
     "name": "stderr",
     "output_type": "stream",
     "text": [
      "ERROR:backoff:Giving up execute_sparql_query(...) after 1 tries (requests.exceptions.HTTPError: 400 Client Error: Bad Request for url: https://query.wikidata.org/sparql?query=%23Tool%3A+WikibaseIntegrator+wbi_functions.execute_sparql_query%0Aselect+distinct+%3Fsbj+where++%3Fsbj+wdt%3AP31+wd%3AQ220+.+%3Fsbj+wdt%3AP31+wd%3AQ220+&format=json)\n",
      "ERROR:root:HTTPError 400 Client Error: Bad Request for url: https://query.wikidata.org/sparql?query=%23Tool%3A+WikibaseIntegrator+wbi_functions.execute_sparql_query%0Aselect+distinct+%3Fsbj+where++%3Fsbj+wdt%3AP31+wd%3AQ220+.+%3Fsbj+wdt%3AP31+wd%3AQ220+&format=json\n",
      "ERROR:backoff:Giving up execute_sparql_query(...) after 1 tries (requests.exceptions.HTTPError: 400 Client Error: Bad Request for url: https://query.wikidata.org/sparql?query=%23Tool%3A+WikibaseIntegrator+wbi_functions.execute_sparql_query%0Aselect+distinct+%3Fsbj+where++%3Fsbj+wdt%3AP31+wd%3AQ220+.+%3Fsbj+wdt%3AP31+wd%3AQ220+&format=json)\n",
      "ERROR:root:HTTPError 400 Client Error: Bad Request for url: https://query.wikidata.org/sparql?query=%23Tool%3A+WikibaseIntegrator+wbi_functions.execute_sparql_query%0Aselect+distinct+%3Fsbj+where++%3Fsbj+wdt%3AP31+wd%3AQ220+.+%3Fsbj+wdt%3AP31+wd%3AQ220+&format=json\n"
     ]
    },
    {
     "name": "stdout",
     "output_type": "stream",
     "text": [
      "failed query select distinct ?sbj where  ?sbj wdt:P31 wd:Q220 . ?sbj wdt:P31 wd:Q220 \n",
      "Failed query number 470\n",
      "failed query select distinct ?sbj where  ?sbj wdt:P31 wd:Q220 . ?sbj wdt:P31 wd:Q220 \n",
      "Failed query number 471\n"
     ]
    },
    {
     "name": "stderr",
     "output_type": "stream",
     "text": [
      "ERROR:backoff:Giving up execute_sparql_query(...) after 1 tries (requests.exceptions.HTTPError: 400 Client Error: Bad Request for url: https://query.wikidata.org/sparql?query=%23Tool%3A+WikibaseIntegrator+wbi_functions.execute_sparql_query%0Aselect+distinct+%3Fsbj+where++%3Fsbj+wdt%3AP31+wd%3AQ220+.+%3Fsbj+wdt%3AP31+wd%3AQ220+&format=json)\n",
      "ERROR:root:HTTPError 400 Client Error: Bad Request for url: https://query.wikidata.org/sparql?query=%23Tool%3A+WikibaseIntegrator+wbi_functions.execute_sparql_query%0Aselect+distinct+%3Fsbj+where++%3Fsbj+wdt%3AP31+wd%3AQ220+.+%3Fsbj+wdt%3AP31+wd%3AQ220+&format=json\n",
      "ERROR:backoff:Giving up execute_sparql_query(...) after 1 tries (requests.exceptions.HTTPError: 400 Client Error: Bad Request for url: https://query.wikidata.org/sparql?query=%23Tool%3A+WikibaseIntegrator+wbi_functions.execute_sparql_query%0Aselect+distinct+%3Fsbj+where++%3Fsbj+wdt%3AP31+wd%3AQ220+.+%3Fsbj+wdt%3AP31+wd%3AQ220+&format=json)\n",
      "ERROR:root:HTTPError 400 Client Error: Bad Request for url: https://query.wikidata.org/sparql?query=%23Tool%3A+WikibaseIntegrator+wbi_functions.execute_sparql_query%0Aselect+distinct+%3Fsbj+where++%3Fsbj+wdt%3AP31+wd%3AQ220+.+%3Fsbj+wdt%3AP31+wd%3AQ220+&format=json\n"
     ]
    },
    {
     "name": "stdout",
     "output_type": "stream",
     "text": [
      "failed query select distinct ?sbj where  ?sbj wdt:P31 wd:Q220 . ?sbj wdt:P31 wd:Q220 \n",
      "Failed query number 472\n",
      "failed query select distinct ?sbj where  ?sbj wdt:P31 wd:Q220 . ?sbj wdt:P31 wd:Q220 \n",
      "Failed query number 473\n"
     ]
    },
    {
     "name": "stderr",
     "output_type": "stream",
     "text": [
      "ERROR:backoff:Giving up execute_sparql_query(...) after 1 tries (requests.exceptions.HTTPError: 400 Client Error: Bad Request for url: https://query.wikidata.org/sparql?query=%23Tool%3A+WikibaseIntegrator+wbi_functions.execute_sparql_query%0ASELECT+DISTINCT+%3Fsbj+%3Fsbj_label+WHERE++%3Fsbj+wdt%3AP31+wd%3AQ31+.+%3Fsbj+rdfs%3Alabel+%3Fsbj_label+.+FILTER%28CONTAINS%28lcase%28%3Fsbj_label%29%2C+%27cyclo%27%29%29+.+FILTER+%28lang%28%3Fsbj_label%29+%3D+%27en%27%29++LIMIT+25&format=json)\n",
      "ERROR:root:HTTPError 400 Client Error: Bad Request for url: https://query.wikidata.org/sparql?query=%23Tool%3A+WikibaseIntegrator+wbi_functions.execute_sparql_query%0ASELECT+DISTINCT+%3Fsbj+%3Fsbj_label+WHERE++%3Fsbj+wdt%3AP31+wd%3AQ31+.+%3Fsbj+rdfs%3Alabel+%3Fsbj_label+.+FILTER%28CONTAINS%28lcase%28%3Fsbj_label%29%2C+%27cyclo%27%29%29+.+FILTER+%28lang%28%3Fsbj_label%29+%3D+%27en%27%29++LIMIT+25&format=json\n",
      "ERROR:backoff:Giving up execute_sparql_query(...) after 1 tries (requests.exceptions.HTTPError: 400 Client Error: Bad Request for url: https://query.wikidata.org/sparql?query=%23Tool%3A+WikibaseIntegrator+wbi_functions.execute_sparql_query%0ASELECT+DISTINCT+%3Fsbj+%3Fsbj_label+WHERE++%3Fsbj+wdt%3AP31+wd%3AQ335+.+%3Fsbj+rdfs%3Alabel+%3Fsbj_label+.+FILTER%28CONTAINS%28lcase%28%3Fsbj_label%29%2C+%27fasc%27%29%29+.+FILTER+%28lang%28%3Fsbj_label%29+%3D+%27en%27%29++LIMIT+25&format=json)\n",
      "ERROR:root:HTTPError 400 Client Error: Bad Request for url: https://query.wikidata.org/sparql?query=%23Tool%3A+WikibaseIntegrator+wbi_functions.execute_sparql_query%0ASELECT+DISTINCT+%3Fsbj+%3Fsbj_label+WHERE++%3Fsbj+wdt%3AP31+wd%3AQ335+.+%3Fsbj+rdfs%3Alabel+%3Fsbj_label+.+FILTER%28CONTAINS%28lcase%28%3Fsbj_label%29%2C+%27fasc%27%29%29+.+FILTER+%28lang%28%3Fsbj_label%29+%3D+%27en%27%29++LIMIT+25&format=json\n"
     ]
    },
    {
     "name": "stdout",
     "output_type": "stream",
     "text": [
      "failed query SELECT DISTINCT ?sbj ?sbj_label WHERE  ?sbj wdt:P31 wd:Q31 . ?sbj rdfs:label ?sbj_label . FILTER(CONTAINS(lcase(?sbj_label), 'cyclo')) . FILTER (lang(?sbj_label) = 'en')  LIMIT 25\n",
      "Failed query number 474\n",
      "failed query SELECT DISTINCT ?sbj ?sbj_label WHERE  ?sbj wdt:P31 wd:Q335 . ?sbj rdfs:label ?sbj_label . FILTER(CONTAINS(lcase(?sbj_label), 'fasc')) . FILTER (lang(?sbj_label) = 'en')  LIMIT 25\n",
      "Failed query number 475\n"
     ]
    },
    {
     "name": "stderr",
     "output_type": "stream",
     "text": [
      "ERROR:backoff:Giving up execute_sparql_query(...) after 1 tries (requests.exceptions.HTTPError: 400 Client Error: Bad Request for url: https://query.wikidata.org/sparql?query=%23Tool%3A+WikibaseIntegrator+wbi_functions.execute_sparql_query%0ASELECT+DISTINCT+%3Fsbj+%3Fsbj_label+WHERE++%3Fsbj+wdt%3AP31+wd%3AQ347+.+%3Fsbj+rdfs%3Alabel+%3Fsbj_label+.+FILTER%28STRSTARTS%28lcase%28%3Fsbj_label%29%2C+%27w%27%29%29+.+FILTER+%28lang%28%3Fsbj_label%29+%3D+%27en%27%29++LIMIT+25&format=json)\n",
      "ERROR:root:HTTPError 400 Client Error: Bad Request for url: https://query.wikidata.org/sparql?query=%23Tool%3A+WikibaseIntegrator+wbi_functions.execute_sparql_query%0ASELECT+DISTINCT+%3Fsbj+%3Fsbj_label+WHERE++%3Fsbj+wdt%3AP31+wd%3AQ347+.+%3Fsbj+rdfs%3Alabel+%3Fsbj_label+.+FILTER%28STRSTARTS%28lcase%28%3Fsbj_label%29%2C+%27w%27%29%29+.+FILTER+%28lang%28%3Fsbj_label%29+%3D+%27en%27%29++LIMIT+25&format=json\n",
      "ERROR:backoff:Giving up execute_sparql_query(...) after 1 tries (requests.exceptions.HTTPError: 400 Client Error: Bad Request for url: https://query.wikidata.org/sparql?query=%23Tool%3A+WikibaseIntegrator+wbi_functions.execute_sparql_query%0ASELECT+%28COUNT%28%3Fobj%29+AS+%3Fvalue+%29++%3Fobj+&format=json)\n",
      "ERROR:root:HTTPError 400 Client Error: Bad Request for url: https://query.wikidata.org/sparql?query=%23Tool%3A+WikibaseIntegrator+wbi_functions.execute_sparql_query%0ASELECT+%28COUNT%28%3Fobj%29+AS+%3Fvalue+%29++%3Fobj+&format=json\n"
     ]
    },
    {
     "name": "stdout",
     "output_type": "stream",
     "text": [
      "failed query SELECT DISTINCT ?sbj ?sbj_label WHERE  ?sbj wdt:P31 wd:Q347 . ?sbj rdfs:label ?sbj_label . FILTER(STRSTARTS(lcase(?sbj_label), 'w')) . FILTER (lang(?sbj_label) = 'en')  LIMIT 25\n",
      "Failed query number 476\n",
      "failed query SELECT (COUNT(?obj) AS ?value )  ?obj \n",
      "Failed query number 477\n"
     ]
    },
    {
     "name": "stderr",
     "output_type": "stream",
     "text": [
      "ERROR:backoff:Giving up execute_sparql_query(...) after 1 tries (requests.exceptions.HTTPError: 400 Client Error: Bad Request for url: https://query.wikidata.org/sparql?query=%23Tool%3A+WikibaseIntegrator+wbi_functions.execute_sparql_query%0Aselect+distinct+%3Fsbj+where++%3Fsbj+wdt%3AP31+wd%3AQ220+.+%3Fsbj+wdt%3AP31+wd%3AQ220+&format=json)\n",
      "ERROR:root:HTTPError 400 Client Error: Bad Request for url: https://query.wikidata.org/sparql?query=%23Tool%3A+WikibaseIntegrator+wbi_functions.execute_sparql_query%0Aselect+distinct+%3Fsbj+where++%3Fsbj+wdt%3AP31+wd%3AQ220+.+%3Fsbj+wdt%3AP31+wd%3AQ220+&format=json\n",
      "ERROR:backoff:Giving up execute_sparql_query(...) after 1 tries (requests.exceptions.HTTPError: 400 Client Error: Bad Request for url: https://query.wikidata.org/sparql?query=%23Tool%3A+WikibaseIntegrator+wbi_functions.execute_sparql_query%0Aselect+distinct+%3Fsbj+where++%3Fsbj+wdt%3AP31+wd%3AQ220+.+%3Fsbj+wdt%3AP31+wd%3AQ220+&format=json)\n",
      "ERROR:root:HTTPError 400 Client Error: Bad Request for url: https://query.wikidata.org/sparql?query=%23Tool%3A+WikibaseIntegrator+wbi_functions.execute_sparql_query%0Aselect+distinct+%3Fsbj+where++%3Fsbj+wdt%3AP31+wd%3AQ220+.+%3Fsbj+wdt%3AP31+wd%3AQ220+&format=json\n"
     ]
    },
    {
     "name": "stdout",
     "output_type": "stream",
     "text": [
      "failed query select distinct ?sbj where  ?sbj wdt:P31 wd:Q220 . ?sbj wdt:P31 wd:Q220 \n",
      "Failed query number 478\n",
      "failed query select distinct ?sbj where  ?sbj wdt:P31 wd:Q220 . ?sbj wdt:P31 wd:Q220 \n",
      "Failed query number 479\n"
     ]
    },
    {
     "name": "stderr",
     "output_type": "stream",
     "text": [
      "ERROR:backoff:Giving up execute_sparql_query(...) after 1 tries (requests.exceptions.HTTPError: 400 Client Error: Bad Request for url: https://query.wikidata.org/sparql?query=%23Tool%3A+WikibaseIntegrator+wbi_functions.execute_sparql_query%0Aselect+distinct+%3Fsbj+where++%3Fsbj+wdt%3AP31+wd%3AQ220+.+%3Fsbj+wdt%3AP31+wd%3AQ220+&format=json)\n",
      "ERROR:root:HTTPError 400 Client Error: Bad Request for url: https://query.wikidata.org/sparql?query=%23Tool%3A+WikibaseIntegrator+wbi_functions.execute_sparql_query%0Aselect+distinct+%3Fsbj+where++%3Fsbj+wdt%3AP31+wd%3AQ220+.+%3Fsbj+wdt%3AP31+wd%3AQ220+&format=json\n",
      "ERROR:backoff:Giving up execute_sparql_query(...) after 1 tries (requests.exceptions.HTTPError: 400 Client Error: Bad Request for url: https://query.wikidata.org/sparql?query=%23Tool%3A+WikibaseIntegrator+wbi_functions.execute_sparql_query%0Aselect+distinct+%3Fsbj+where++%3Fsbj+wdt%3AP31+wd%3AQ220+.+%3Fsbj+wdt%3AP31+wd%3AQ220+&format=json)\n",
      "ERROR:root:HTTPError 400 Client Error: Bad Request for url: https://query.wikidata.org/sparql?query=%23Tool%3A+WikibaseIntegrator+wbi_functions.execute_sparql_query%0Aselect+distinct+%3Fsbj+where++%3Fsbj+wdt%3AP31+wd%3AQ220+.+%3Fsbj+wdt%3AP31+wd%3AQ220+&format=json\n"
     ]
    },
    {
     "name": "stdout",
     "output_type": "stream",
     "text": [
      "failed query select distinct ?sbj where  ?sbj wdt:P31 wd:Q220 . ?sbj wdt:P31 wd:Q220 \n",
      "Failed query number 480\n",
      "failed query select distinct ?sbj where  ?sbj wdt:P31 wd:Q220 . ?sbj wdt:P31 wd:Q220 \n",
      "Failed query number 481\n"
     ]
    },
    {
     "name": "stderr",
     "output_type": "stream",
     "text": [
      "ERROR:backoff:Giving up execute_sparql_query(...) after 1 tries (requests.exceptions.HTTPError: 400 Client Error: Bad Request for url: https://query.wikidata.org/sparql?query=%23Tool%3A+WikibaseIntegrator+wbi_functions.execute_sparql_query%0ASELECT+%3Fanswer+WHERE++wd%3AQ220+wdt%3AP31+%3Fanswer+.+%3Fanswer+wdt%3AP31+wd%3AQ220+&format=json)\n",
      "ERROR:root:HTTPError 400 Client Error: Bad Request for url: https://query.wikidata.org/sparql?query=%23Tool%3A+WikibaseIntegrator+wbi_functions.execute_sparql_query%0ASELECT+%3Fanswer+WHERE++wd%3AQ220+wdt%3AP31+%3Fanswer+.+%3Fanswer+wdt%3AP31+wd%3AQ220+&format=json\n"
     ]
    },
    {
     "name": "stdout",
     "output_type": "stream",
     "text": [
      "failed query SELECT ?answer WHERE  wd:Q220 wdt:P31 ?answer . ?answer wdt:P31 wd:Q220 \n",
      "Failed query number 482\n"
     ]
    },
    {
     "name": "stderr",
     "output_type": "stream",
     "text": [
      "ERROR:backoff:Giving up execute_sparql_query(...) after 1 tries (requests.exceptions.HTTPError: 400 Client Error: Bad Request for url: https://query.wikidata.org/sparql?query=%23Tool%3A+WikibaseIntegrator+wbi_functions.execute_sparql_query%0Aselect+distinct+%3Fsbj+where++%3Fsbj+wdt%3AP31+wd%3AQ220+.+%3Fsbj+wdt%3AP31+wd%3AQ220+&format=json)\n",
      "ERROR:root:HTTPError 400 Client Error: Bad Request for url: https://query.wikidata.org/sparql?query=%23Tool%3A+WikibaseIntegrator+wbi_functions.execute_sparql_query%0Aselect+distinct+%3Fsbj+where++%3Fsbj+wdt%3AP31+wd%3AQ220+.+%3Fsbj+wdt%3AP31+wd%3AQ220+&format=json\n"
     ]
    },
    {
     "name": "stdout",
     "output_type": "stream",
     "text": [
      "failed query select distinct ?sbj where  ?sbj wdt:P31 wd:Q220 . ?sbj wdt:P31 wd:Q220 \n",
      "Failed query number 483\n"
     ]
    },
    {
     "name": "stderr",
     "output_type": "stream",
     "text": [
      "ERROR:backoff:Giving up execute_sparql_query(...) after 1 tries (requests.exceptions.HTTPError: 400 Client Error: Bad Request for url: https://query.wikidata.org/sparql?query=%23Tool%3A+WikibaseIntegrator+wbi_functions.execute_sparql_query%0ASELECT+DISTINCT+%3Fsbj+%3Fsbj_label+WHERE++%3Fsbj+wdt%3AP31+wd%3AQ31+.+%3Fsbj+rdfs%3Alabel+%3Fsbj_label+.+FILTER%28CONTAINS%28lcase%28%3Fsbj_label%29%2C+%2791%27%29%29+.+FILTER+%28lang%28%3Fsbj_label%29+%3D+%2791&format=json)\n",
      "ERROR:root:HTTPError 400 Client Error: Bad Request for url: https://query.wikidata.org/sparql?query=%23Tool%3A+WikibaseIntegrator+wbi_functions.execute_sparql_query%0ASELECT+DISTINCT+%3Fsbj+%3Fsbj_label+WHERE++%3Fsbj+wdt%3AP31+wd%3AQ31+.+%3Fsbj+rdfs%3Alabel+%3Fsbj_label+.+FILTER%28CONTAINS%28lcase%28%3Fsbj_label%29%2C+%2791%27%29%29+.+FILTER+%28lang%28%3Fsbj_label%29+%3D+%2791&format=json\n"
     ]
    },
    {
     "name": "stdout",
     "output_type": "stream",
     "text": [
      "failed query SELECT DISTINCT ?sbj ?sbj_label WHERE  ?sbj wdt:P31 wd:Q31 . ?sbj rdfs:label ?sbj_label . FILTER(CONTAINS(lcase(?sbj_label), '91')) . FILTER (lang(?sbj_label) = '91\n",
      "Failed query number 484\n"
     ]
    },
    {
     "name": "stderr",
     "output_type": "stream",
     "text": [
      "ERROR:backoff:Giving up execute_sparql_query(...) after 1 tries (requests.exceptions.HTTPError: 400 Client Error: Bad Request for url: https://query.wikidata.org/sparql?query=%23Tool%3A+WikibaseIntegrator+wbi_functions.execute_sparql_query%0ASELECT+DISTINCT+%3Fsbj+%3Fsbj_label+WHERE++%3Fsbj+wdt%3AP31+wd%3AQ220+.+%3Fsbj+rdfs%3Alabel+%3Fsbj_label+.+FILTER%28STRSTARTS%28lcase%28%3Fsbj_label%29%2C+%27hsa-miR-5006-3p%27%29%29+.+FILTER+%28lang%28%3F&format=json)\n",
      "ERROR:root:HTTPError 400 Client Error: Bad Request for url: https://query.wikidata.org/sparql?query=%23Tool%3A+WikibaseIntegrator+wbi_functions.execute_sparql_query%0ASELECT+DISTINCT+%3Fsbj+%3Fsbj_label+WHERE++%3Fsbj+wdt%3AP31+wd%3AQ220+.+%3Fsbj+rdfs%3Alabel+%3Fsbj_label+.+FILTER%28STRSTARTS%28lcase%28%3Fsbj_label%29%2C+%27hsa-miR-5006-3p%27%29%29+.+FILTER+%28lang%28%3F&format=json\n",
      "ERROR:backoff:Giving up execute_sparql_query(...) after 1 tries (requests.exceptions.HTTPError: 400 Client Error: Bad Request for url: https://query.wikidata.org/sparql?query=%23Tool%3A+WikibaseIntegrator+wbi_functions.execute_sparql_query%0ASELECT+DISTINCT+%3Fsbj+%3Fsbj_label+WHERE++%3Fsbj+wdt%3AP31+wd%3AQ220+.+%3Fsbj+rdfs%3Alabel+%3Fsbj_label+.+FILTER%28STRSTARTS%28lcase%28%3Fsbj_label%29%2C+%277.2%27%29%29+.+FILTER+%28lang%28%3Fsbj_label%29+%3D+7.2%29++LIMIT+25&format=json)\n",
      "ERROR:root:HTTPError 400 Client Error: Bad Request for url: https://query.wikidata.org/sparql?query=%23Tool%3A+WikibaseIntegrator+wbi_functions.execute_sparql_query%0ASELECT+DISTINCT+%3Fsbj+%3Fsbj_label+WHERE++%3Fsbj+wdt%3AP31+wd%3AQ220+.+%3Fsbj+rdfs%3Alabel+%3Fsbj_label+.+FILTER%28STRSTARTS%28lcase%28%3Fsbj_label%29%2C+%277.2%27%29%29+.+FILTER+%28lang%28%3Fsbj_label%29+%3D+7.2%29++LIMIT+25&format=json\n"
     ]
    },
    {
     "name": "stdout",
     "output_type": "stream",
     "text": [
      "failed query SELECT DISTINCT ?sbj ?sbj_label WHERE  ?sbj wdt:P31 wd:Q220 . ?sbj rdfs:label ?sbj_label . FILTER(STRSTARTS(lcase(?sbj_label), 'hsa-miR-5006-3p')) . FILTER (lang(?\n",
      "Failed query number 485\n",
      "failed query SELECT DISTINCT ?sbj ?sbj_label WHERE  ?sbj wdt:P31 wd:Q220 . ?sbj rdfs:label ?sbj_label . FILTER(STRSTARTS(lcase(?sbj_label), '7.2')) . FILTER (lang(?sbj_label) = 7.2)  LIMIT 25\n",
      "Failed query number 486\n"
     ]
    },
    {
     "name": "stderr",
     "output_type": "stream",
     "text": [
      "ERROR:backoff:Giving up execute_sparql_query(...) after 1 tries (requests.exceptions.HTTPError: 400 Client Error: Bad Request for url: https://query.wikidata.org/sparql?query=%23Tool%3A+WikibaseIntegrator+wbi_functions.execute_sparql_query%0Aselect+distinct+%3Fsbj+where++%3Fsbj+wdt%3AP31+wd%3AQ220+.+%3Fsbj+wdt%3AP31+wd%3AQ220+&format=json)\n",
      "ERROR:root:HTTPError 400 Client Error: Bad Request for url: https://query.wikidata.org/sparql?query=%23Tool%3A+WikibaseIntegrator+wbi_functions.execute_sparql_query%0Aselect+distinct+%3Fsbj+where++%3Fsbj+wdt%3AP31+wd%3AQ220+.+%3Fsbj+wdt%3AP31+wd%3AQ220+&format=json\n",
      "ERROR:backoff:Giving up execute_sparql_query(...) after 1 tries (requests.exceptions.HTTPError: 400 Client Error: Bad Request for url: https://query.wikidata.org/sparql?query=%23Tool%3A+WikibaseIntegrator+wbi_functions.execute_sparql_query%0ASELECT+DISTINCT+%3Fsbj+%3Fsbj_label+WHERE++%3Fsbj+wdt%3AP31+wd%3AQ31+.+%3Fsbj+rdfs%3Alabel+%3Fsbj_label+.+FILTER%28STRSTARTS%28lcase%28%3Fsbj_label%29%2C+%27p%27%29%29+.+FILTER+%28lang%28%3Fsbj_label%29+%3D+%27P%27%29++LIMIT+25&format=json)\n",
      "ERROR:root:HTTPError 400 Client Error: Bad Request for url: https://query.wikidata.org/sparql?query=%23Tool%3A+WikibaseIntegrator+wbi_functions.execute_sparql_query%0ASELECT+DISTINCT+%3Fsbj+%3Fsbj_label+WHERE++%3Fsbj+wdt%3AP31+wd%3AQ31+.+%3Fsbj+rdfs%3Alabel+%3Fsbj_label+.+FILTER%28STRSTARTS%28lcase%28%3Fsbj_label%29%2C+%27p%27%29%29+.+FILTER+%28lang%28%3Fsbj_label%29+%3D+%27P%27%29++LIMIT+25&format=json\n"
     ]
    },
    {
     "name": "stdout",
     "output_type": "stream",
     "text": [
      "failed query select distinct ?sbj where  ?sbj wdt:P31 wd:Q220 . ?sbj wdt:P31 wd:Q220 \n",
      "Failed query number 487\n",
      "failed query SELECT DISTINCT ?sbj ?sbj_label WHERE  ?sbj wdt:P31 wd:Q31 . ?sbj rdfs:label ?sbj_label . FILTER(STRSTARTS(lcase(?sbj_label), 'p')) . FILTER (lang(?sbj_label) = 'P')  LIMIT 25\n",
      "Failed query number 488\n"
     ]
    },
    {
     "name": "stderr",
     "output_type": "stream",
     "text": [
      "ERROR:backoff:Giving up execute_sparql_query(...) after 1 tries (requests.exceptions.HTTPError: 400 Client Error: Bad Request for url: https://query.wikidata.org/sparql?query=%23Tool%3A+WikibaseIntegrator+wbi_functions.execute_sparql_query%0ASELECT+DISTINCT+%3Fsbj+%3Fsbj_label+WHERE++%3Fsbj+wdt%3AP31+wd%3AQ335+.+%3Fsbj+rdfs%3Alabel+%3Fsbj_label+.+FILTER%28CONTAINS%28lcase%28%3Fsbj_label%29%2C+%271.65%27%29%29+.+FILTER+%28lang%28%3Fsbj_label%29+%3D+%27en%27%29++LIMIT+25&format=json)\n",
      "ERROR:root:HTTPError 400 Client Error: Bad Request for url: https://query.wikidata.org/sparql?query=%23Tool%3A+WikibaseIntegrator+wbi_functions.execute_sparql_query%0ASELECT+DISTINCT+%3Fsbj+%3Fsbj_label+WHERE++%3Fsbj+wdt%3AP31+wd%3AQ335+.+%3Fsbj+rdfs%3Alabel+%3Fsbj_label+.+FILTER%28CONTAINS%28lcase%28%3Fsbj_label%29%2C+%271.65%27%29%29+.+FILTER+%28lang%28%3Fsbj_label%29+%3D+%27en%27%29++LIMIT+25&format=json\n",
      "ERROR:backoff:Giving up execute_sparql_query(...) after 1 tries (requests.exceptions.HTTPError: 400 Client Error: Bad Request for url: https://query.wikidata.org/sparql?query=%23Tool%3A+WikibaseIntegrator+wbi_functions.execute_sparql_query%0ASELECT+DISTINCT+%3Fsbj+%3Fsbj_label+WHERE++%3Fsbj+wdt%3AP31+wd%3AQ335+.+%3Fsbj+rdfs%3Alabel+%3Fsbj_label+.+FILTER%28STRSTARTS%28lcase%28%3Fsbj_label%29%2C+%27alphabet%27%29%29+.+FILTER+%28lang%28%3Fsbj_label%29+%3D+%27en%27%29++LIMIT+25&format=json)\n",
      "ERROR:root:HTTPError 400 Client Error: Bad Request for url: https://query.wikidata.org/sparql?query=%23Tool%3A+WikibaseIntegrator+wbi_functions.execute_sparql_query%0ASELECT+DISTINCT+%3Fsbj+%3Fsbj_label+WHERE++%3Fsbj+wdt%3AP31+wd%3AQ335+.+%3Fsbj+rdfs%3Alabel+%3Fsbj_label+.+FILTER%28STRSTARTS%28lcase%28%3Fsbj_label%29%2C+%27alphabet%27%29%29+.+FILTER+%28lang%28%3Fsbj_label%29+%3D+%27en%27%29++LIMIT+25&format=json\n"
     ]
    },
    {
     "name": "stdout",
     "output_type": "stream",
     "text": [
      "failed query SELECT DISTINCT ?sbj ?sbj_label WHERE  ?sbj wdt:P31 wd:Q335 . ?sbj rdfs:label ?sbj_label . FILTER(CONTAINS(lcase(?sbj_label), '1.65')) . FILTER (lang(?sbj_label) = 'en')  LIMIT 25\n",
      "Failed query number 489\n",
      "failed query SELECT DISTINCT ?sbj ?sbj_label WHERE  ?sbj wdt:P31 wd:Q335 . ?sbj rdfs:label ?sbj_label . FILTER(STRSTARTS(lcase(?sbj_label), 'alphabet')) . FILTER (lang(?sbj_label) = 'en')  LIMIT 25\n",
      "Failed query number 490\n"
     ]
    },
    {
     "name": "stderr",
     "output_type": "stream",
     "text": [
      "ERROR:backoff:Giving up execute_sparql_query(...) after 1 tries (requests.exceptions.HTTPError: 400 Client Error: Bad Request for url: https://query.wikidata.org/sparql?query=%23Tool%3A+WikibaseIntegrator+wbi_functions.execute_sparql_query%0ASELECT+%3Fanswer+WHERE++wd%3AQ319+wdt%3AP31+%3Fanswer+.+%3Fanswer+wdt%3AP128+wd%3AQ319+&format=json)\n",
      "ERROR:root:HTTPError 400 Client Error: Bad Request for url: https://query.wikidata.org/sparql?query=%23Tool%3A+WikibaseIntegrator+wbi_functions.execute_sparql_query%0ASELECT+%3Fanswer+WHERE++wd%3AQ319+wdt%3AP31+%3Fanswer+.+%3Fanswer+wdt%3AP128+wd%3AQ319+&format=json\n",
      "ERROR:backoff:Giving up execute_sparql_query(...) after 1 tries (requests.exceptions.HTTPError: 400 Client Error: Bad Request for url: https://query.wikidata.org/sparql?query=%23Tool%3A+WikibaseIntegrator+wbi_functions.execute_sparql_query%0Aselect+distinct+%3Fsbj+where++%3Fsbj+wdt%3AP31+wd%3AQ220+.+%3Fsbj+wdt%3AP31+wd%3AQ220+&format=json)\n",
      "ERROR:root:HTTPError 400 Client Error: Bad Request for url: https://query.wikidata.org/sparql?query=%23Tool%3A+WikibaseIntegrator+wbi_functions.execute_sparql_query%0Aselect+distinct+%3Fsbj+where++%3Fsbj+wdt%3AP31+wd%3AQ220+.+%3Fsbj+wdt%3AP31+wd%3AQ220+&format=json\n"
     ]
    },
    {
     "name": "stdout",
     "output_type": "stream",
     "text": [
      "failed query SELECT ?answer WHERE  wd:Q319 wdt:P31 ?answer . ?answer wdt:P128 wd:Q319 \n",
      "Failed query number 491\n",
      "failed query select distinct ?sbj where  ?sbj wdt:P31 wd:Q220 . ?sbj wdt:P31 wd:Q220 \n",
      "Failed query number 492\n"
     ]
    },
    {
     "name": "stderr",
     "output_type": "stream",
     "text": [
      "ERROR:backoff:Giving up execute_sparql_query(...) after 1 tries (requests.exceptions.HTTPError: 400 Client Error: Bad Request for url: https://query.wikidata.org/sparql?query=%23Tool%3A+WikibaseIntegrator+wbi_functions.execute_sparql_query%0Aselect+distinct+%3Fsbj+where++%3Fsbj+wdt%3AP31+wd%3AQ220+.+%3Fsbj+wdt%3AP31+wd%3AQ220+&format=json)\n",
      "ERROR:root:HTTPError 400 Client Error: Bad Request for url: https://query.wikidata.org/sparql?query=%23Tool%3A+WikibaseIntegrator+wbi_functions.execute_sparql_query%0Aselect+distinct+%3Fsbj+where++%3Fsbj+wdt%3AP31+wd%3AQ220+.+%3Fsbj+wdt%3AP31+wd%3AQ220+&format=json\n",
      "ERROR:backoff:Giving up execute_sparql_query(...) after 1 tries (requests.exceptions.HTTPError: 400 Client Error: Bad Request for url: https://query.wikidata.org/sparql?query=%23Tool%3A+WikibaseIntegrator+wbi_functions.execute_sparql_query%0ASELECT+DISTINCT+%3Fsbj+%3Fsbj_label+WHERE++%3Fsbj+wdt%3AP31+wd%3AQ335+.+%3Fsbj+rdfs%3Alabel+%3Fsbj_label+.+FILTER%28CONTAINS%28lcase%28%3Fsbj_label%29%2C+%27bj%27%29%29+.+FILTER+%28lang%28%3Fsbj_label%29+%3D+%27en%27%29++LIMIT+25&format=json)\n",
      "ERROR:root:HTTPError 400 Client Error: Bad Request for url: https://query.wikidata.org/sparql?query=%23Tool%3A+WikibaseIntegrator+wbi_functions.execute_sparql_query%0ASELECT+DISTINCT+%3Fsbj+%3Fsbj_label+WHERE++%3Fsbj+wdt%3AP31+wd%3AQ335+.+%3Fsbj+rdfs%3Alabel+%3Fsbj_label+.+FILTER%28CONTAINS%28lcase%28%3Fsbj_label%29%2C+%27bj%27%29%29+.+FILTER+%28lang%28%3Fsbj_label%29+%3D+%27en%27%29++LIMIT+25&format=json\n"
     ]
    },
    {
     "name": "stdout",
     "output_type": "stream",
     "text": [
      "failed query select distinct ?sbj where  ?sbj wdt:P31 wd:Q220 . ?sbj wdt:P31 wd:Q220 \n",
      "Failed query number 493\n",
      "failed query SELECT DISTINCT ?sbj ?sbj_label WHERE  ?sbj wdt:P31 wd:Q335 . ?sbj rdfs:label ?sbj_label . FILTER(CONTAINS(lcase(?sbj_label), 'bj')) . FILTER (lang(?sbj_label) = 'en')  LIMIT 25\n",
      "Failed query number 494\n"
     ]
    },
    {
     "name": "stderr",
     "output_type": "stream",
     "text": [
      "ERROR:backoff:Giving up execute_sparql_query(...) after 1 tries (requests.exceptions.HTTPError: 400 Client Error: Bad Request for url: https://query.wikidata.org/sparql?query=%23Tool%3A+WikibaseIntegrator+wbi_functions.execute_sparql_query%0Aselect+distinct+%3Fsbj+where++%3Fsbj+wdt%3AP31+wd%3AQ220+.+%3Fsbj+wdt%3AP31+wd%3AQ220+&format=json)\n",
      "ERROR:root:HTTPError 400 Client Error: Bad Request for url: https://query.wikidata.org/sparql?query=%23Tool%3A+WikibaseIntegrator+wbi_functions.execute_sparql_query%0Aselect+distinct+%3Fsbj+where++%3Fsbj+wdt%3AP31+wd%3AQ220+.+%3Fsbj+wdt%3AP31+wd%3AQ220+&format=json\n",
      "ERROR:backoff:Giving up execute_sparql_query(...) after 1 tries (requests.exceptions.HTTPError: 400 Client Error: Bad Request for url: https://query.wikidata.org/sparql?query=%23Tool%3A+WikibaseIntegrator+wbi_functions.execute_sparql_query%0Aselect+distinct+%3Fsbj+where++%3Fsbj+wdt%3AP31+wd%3AQ220+.+%3Fsbj+wdt%3AP31+wd%3AQ220+&format=json)\n",
      "ERROR:root:HTTPError 400 Client Error: Bad Request for url: https://query.wikidata.org/sparql?query=%23Tool%3A+WikibaseIntegrator+wbi_functions.execute_sparql_query%0Aselect+distinct+%3Fsbj+where++%3Fsbj+wdt%3AP31+wd%3AQ220+.+%3Fsbj+wdt%3AP31+wd%3AQ220+&format=json\n"
     ]
    },
    {
     "name": "stdout",
     "output_type": "stream",
     "text": [
      "failed query select distinct ?sbj where  ?sbj wdt:P31 wd:Q220 . ?sbj wdt:P31 wd:Q220 \n",
      "Failed query number 495\n",
      "failed query select distinct ?sbj where  ?sbj wdt:P31 wd:Q220 . ?sbj wdt:P31 wd:Q220 \n",
      "Failed query number 496\n"
     ]
    },
    {
     "name": "stderr",
     "output_type": "stream",
     "text": [
      "ERROR:backoff:Giving up execute_sparql_query(...) after 1 tries (requests.exceptions.HTTPError: 400 Client Error: Bad Request for url: https://query.wikidata.org/sparql?query=%23Tool%3A+WikibaseIntegrator+wbi_functions.execute_sparql_query%0Aselect+distinct+%3Fsbj+where++%3Fsbj+wdt%3AP31+wd%3AQ220+.+%3Fsbj+wdt%3AP31+wd%3AQ220+&format=json)\n",
      "ERROR:root:HTTPError 400 Client Error: Bad Request for url: https://query.wikidata.org/sparql?query=%23Tool%3A+WikibaseIntegrator+wbi_functions.execute_sparql_query%0Aselect+distinct+%3Fsbj+where++%3Fsbj+wdt%3AP31+wd%3AQ220+.+%3Fsbj+wdt%3AP31+wd%3AQ220+&format=json\n",
      "ERROR:backoff:Giving up execute_sparql_query(...) after 1 tries (requests.exceptions.HTTPError: 400 Client Error: Bad Request for url: https://query.wikidata.org/sparql?query=%23Tool%3A+WikibaseIntegrator+wbi_functions.execute_sparql_query%0Aselect+distinct+%3Fsbj+where++%3Fsbj+wdt%3AP31+wd%3AQ220+.+%3Fsbj+wdt%3AP31+wd%3AQ220+&format=json)\n",
      "ERROR:root:HTTPError 400 Client Error: Bad Request for url: https://query.wikidata.org/sparql?query=%23Tool%3A+WikibaseIntegrator+wbi_functions.execute_sparql_query%0Aselect+distinct+%3Fsbj+where++%3Fsbj+wdt%3AP31+wd%3AQ220+.+%3Fsbj+wdt%3AP31+wd%3AQ220+&format=json\n"
     ]
    },
    {
     "name": "stdout",
     "output_type": "stream",
     "text": [
      "failed query select distinct ?sbj where  ?sbj wdt:P31 wd:Q220 . ?sbj wdt:P31 wd:Q220 \n",
      "Failed query number 497\n",
      "failed query select distinct ?sbj where  ?sbj wdt:P31 wd:Q220 . ?sbj wdt:P31 wd:Q220 \n",
      "Failed query number 498\n"
     ]
    },
    {
     "name": "stderr",
     "output_type": "stream",
     "text": [
      "ERROR:backoff:Giving up execute_sparql_query(...) after 1 tries (requests.exceptions.HTTPError: 400 Client Error: Bad Request for url: https://query.wikidata.org/sparql?query=%23Tool%3A+WikibaseIntegrator+wbi_functions.execute_sparql_query%0ASELECT+DISTINCT+%3Fsbj+%3Fsbj_label+WHERE++%3Fsbj+wdt%3AP31+wd%3AQ31+.+%3Fsbj+rdfs%3Alabel+%3Fsbj_label+.+FILTER%28STRSTARTS%28lcase%28%3Fsbj_label%29%2C+%27t%27%29%29+.+FILTER+%28lang%28%3Fsbj_label%29+%3D+%27t%27%29++LIMIT+25&format=json)\n",
      "ERROR:root:HTTPError 400 Client Error: Bad Request for url: https://query.wikidata.org/sparql?query=%23Tool%3A+WikibaseIntegrator+wbi_functions.execute_sparql_query%0ASELECT+DISTINCT+%3Fsbj+%3Fsbj_label+WHERE++%3Fsbj+wdt%3AP31+wd%3AQ31+.+%3Fsbj+rdfs%3Alabel+%3Fsbj_label+.+FILTER%28STRSTARTS%28lcase%28%3Fsbj_label%29%2C+%27t%27%29%29+.+FILTER+%28lang%28%3Fsbj_label%29+%3D+%27t%27%29++LIMIT+25&format=json\n"
     ]
    },
    {
     "name": "stdout",
     "output_type": "stream",
     "text": [
      "failed query SELECT DISTINCT ?sbj ?sbj_label WHERE  ?sbj wdt:P31 wd:Q31 . ?sbj rdfs:label ?sbj_label . FILTER(STRSTARTS(lcase(?sbj_label), 't')) . FILTER (lang(?sbj_label) = 't')  LIMIT 25\n",
      "Failed query number 499\n"
     ]
    }
   ],
   "source": [
    "v = validate_queries(queries)"
   ]
  },
  {
   "cell_type": "code",
   "execution_count": 133,
   "id": "dd67aabb-1cf6-49e1-9fe9-750833d10e7b",
   "metadata": {},
   "outputs": [
    {
     "data": {
      "text/plain": [
       "500"
      ]
     },
     "execution_count": 133,
     "metadata": {},
     "output_type": "execute_result"
    }
   ],
   "source": [
    "len(v)\n"
   ]
  },
  {
   "cell_type": "code",
   "execution_count": 134,
   "id": "bd49f870-3d9b-4177-be18-1450ef9e6a1d",
   "metadata": {},
   "outputs": [],
   "source": [
    "v_df = pd.DataFrame(v)"
   ]
  },
  {
   "cell_type": "markdown",
   "id": "6af50bf1-0336-40eb-9b5e-86d95b50c816",
   "metadata": {},
   "source": [
    "Sadly, none of the generated sparql queries actually succeed..."
   ]
  },
  {
   "cell_type": "code",
   "execution_count": 135,
   "id": "ba432f64-b339-4f3f-af43-0416510f0e0e",
   "metadata": {},
   "outputs": [
    {
     "data": {
      "text/plain": [
       "0"
      ]
     },
     "execution_count": 135,
     "metadata": {},
     "output_type": "execute_result"
    }
   ],
   "source": [
    "len(v_df[v_df[0] == 'Pass'])"
   ]
  },
  {
   "cell_type": "code",
   "execution_count": null,
   "id": "7b037ac7-1a4e-41c5-b121-6d5677704347",
   "metadata": {},
   "outputs": [],
   "source": []
  }
 ],
 "metadata": {
  "kernelspec": {
   "display_name": "conda210",
   "language": "python",
   "name": "conda210"
  },
  "language_info": {
   "codemirror_mode": {
    "name": "ipython",
    "version": 3
   },
   "file_extension": ".py",
   "mimetype": "text/x-python",
   "name": "python",
   "nbconvert_exporter": "python",
   "pygments_lexer": "ipython3",
   "version": "3.9.16"
  }
 },
 "nbformat": 4,
 "nbformat_minor": 5
}
