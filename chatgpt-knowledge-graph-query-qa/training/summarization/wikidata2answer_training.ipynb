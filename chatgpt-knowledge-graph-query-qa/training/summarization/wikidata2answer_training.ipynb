{
 "cells": [
  {
   "cell_type": "code",
   "execution_count": 1,
   "id": "1996aa6c",
   "metadata": {},
   "outputs": [
    {
     "name": "stderr",
     "output_type": "stream",
     "text": [
      "/usr/lib/python3/dist-packages/requests/__init__.py:89: RequestsDependencyWarning: urllib3 (1.26.14) or chardet (3.0.4) doesn't match a supported version!\n",
      "  warnings.warn(\"urllib3 ({}) or chardet ({}) doesn't match a supported \"\n"
     ]
    }
   ],
   "source": [
    "import sys\n",
    "import os\n",
    "import random\n",
    "import evaluate\n",
    "\n",
    "import numpy as np\n",
    "import pandas as pd\n",
    "import torch\n",
    "from transformers import AutoTokenizer, T5ForConditionalGeneration, AutoModelWithLMHead, GPTJForQuestionAnswering\n",
    "from sklearn.model_selection import train_test_split\n",
    "\n",
    "from datasets import load_dataset, Dataset"
   ]
  },
  {
   "cell_type": "code",
   "execution_count": 2,
   "id": "7c1b1755",
   "metadata": {},
   "outputs": [
    {
     "name": "stderr",
     "output_type": "stream",
     "text": [
      "/home/jstil/.local/lib/python3.10/site-packages/transformers/models/t5/tokenization_t5_fast.py:156: FutureWarning: This tokenizer was incorrectly instantiated with a model max length of 512 which will be corrected in Transformers v5.\n",
      "For now, this behavior is kept to avoid breaking backwards compatibility when padding/encoding with `truncation is True`.\n",
      "- Be aware that you SHOULD NOT rely on t5-small automatically truncating your input to 512 when padding/encoding.\n",
      "- If you want to encode/pad to sequences longer than 512 you can either instantiate this tokenizer with `model_max_length` or pass `max_length` when encoding/padding.\n",
      "- To avoid this warning, please instantiate this tokenizer with `model_max_length` set to your preferred value.\n",
      "  warnings.warn(\n"
     ]
    }
   ],
   "source": [
    "selection = \"t5-small\"\n",
    "tokenizer = AutoTokenizer.from_pretrained(selection)\n",
    "if selection==\"t5-small\":\n",
    "    model = T5ForConditionalGeneration.from_pretrained(\"t5-small\")\n",
    "elif selection==\"MaRiOrOsSi/t5-base-finetuned-question-answering\":\n",
    "    model = AutoModelWithLMHead.from_pretrained(\"yazdipour/text-to-sparql-t5-base\")\n",
    "else:\n",
    "    model = GPTJForQuestionAnswering.from_pretrained(\"hf-internal-testing/tiny-random-gptj\")"
   ]
  },
  {
   "cell_type": "code",
   "execution_count": 3,
   "id": "742a9104",
   "metadata": {},
   "outputs": [],
   "source": [
    "# set seed\n",
    "random.seed(0)\n",
    "np.random.seed(0)"
   ]
  },
  {
   "cell_type": "code",
   "execution_count": 6,
   "id": "5af1fdd0",
   "metadata": {},
   "outputs": [
    {
     "name": "stderr",
     "output_type": "stream",
     "text": [
      "Found cached dataset lc_quad (/home/jstil/.cache/huggingface/datasets/lc_quad/default/2.0.0/139ee1f12aca006669dcc1f282ec02e126c69e7595453db443ab022643d54086)\n"
     ]
    },
    {
     "data": {
      "application/vnd.jupyter.widget-view+json": {
       "model_id": "2aa018dd8c324e77b18c6b4c210c8013",
       "version_major": 2,
       "version_minor": 0
      },
      "text/plain": [
       "  0%|          | 0/2 [00:00<?, ?it/s]"
      ]
     },
     "metadata": {},
     "output_type": "display_data"
    }
   ],
   "source": [
    "dataset = load_dataset(\"lc_quad\")\n",
    "\n",
    "train = dataset[\"train\"].to_pandas()\n",
    "train = train.dropna(subset=['question', 'sparql_wikidata', 'NNQT_question']) # replace NNQT_question with wikibase output context & sparql wikidata with answer\n",
    "train = Dataset.from_pandas(train)\n",
    "train = train.train_test_split(test_size=0.2)\n",
    "\n",
    "# test = dataset[\"test\"].to_pandas()\n",
    "# test = test.dropna(subset=['question', 'sparql_wikidata'])\n",
    "# test = Dataset.from_pandas(test)"
   ]
  },
  {
   "cell_type": "code",
   "execution_count": 8,
   "id": "6bfead17",
   "metadata": {},
   "outputs": [],
   "source": [
    "X = \"question\"\n",
    "Y = \"sparql_wikidata\"\n",
    "C = \"NNQT_question\"\n",
    "prefix = \"translate English to SPARQL: \"\n",
    "sacrebleu = evaluate.load(\"sacrebleu\")"
   ]
  },
  {
   "cell_type": "code",
   "execution_count": null,
   "id": "440bd17b",
   "metadata": {},
   "outputs": [],
   "source": [
    "def preprocess_function(examples):\n",
    "    questions = [q.strip() for q in examples[X]]\n",
    "    inputs = tokenizer(\n",
    "        questions,\n",
    "        examples[C],\n",
    "        max_length=384,\n",
    "        truncation=\"only_second\",\n",
    "        return_offsets_mapping=True,\n",
    "        padding=\"max_length\",\n",
    "    )\n",
    "\n",
    "    inputs[\"answers\"] = examples[Y]\n",
    "\n",
    "    return inputs"
   ]
  }
 ],
 "metadata": {
  "kernelspec": {
   "display_name": "Python 3 (ipykernel)",
   "language": "python",
   "name": "python3"
  },
  "language_info": {
   "codemirror_mode": {
    "name": "ipython",
    "version": 3
   },
   "file_extension": ".py",
   "mimetype": "text/x-python",
   "name": "python",
   "nbconvert_exporter": "python",
   "pygments_lexer": "ipython3",
   "version": "3.10.2"
  }
 },
 "nbformat": 4,
 "nbformat_minor": 5
}
