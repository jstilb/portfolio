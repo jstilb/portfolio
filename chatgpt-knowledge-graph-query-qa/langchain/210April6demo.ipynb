{
 "cells": [
  {
   "cell_type": "markdown",
   "id": "c98fc3eb-c366-421f-b990-fa63d7afe1a4",
   "metadata": {
    "tags": []
   },
   "source": [
    "# April 6 AskWiki langchain demo"
   ]
  },
  {
   "cell_type": "markdown",
   "id": "07d42966-7e99-4157-90dc-6704977dcf1b",
   "metadata": {},
   "source": [
    "## Preliminaries"
   ]
  },
  {
   "cell_type": "markdown",
   "id": "376d225f-6f76-4920-8c73-b20a69166a58",
   "metadata": {},
   "source": [
    "### Install the latest langchain"
   ]
  },
  {
   "cell_type": "code",
   "execution_count": 1,
   "id": "d8efd9ed-f3b0-432d-bd5d-00082159f1fb",
   "metadata": {
    "collapsed": true,
    "jupyter": {
     "outputs_hidden": true
    },
    "tags": []
   },
   "outputs": [
    {
     "name": "stdout",
     "output_type": "stream",
     "text": [
      "Looking in indexes: https://artifactory.concurtech.net/artifactory/api/pypi/pypi.python.org/simple, https://artifactory.concurtech.net/artifactory/api/pypi/ext-pypi-selfserve-local/simple\n",
      "Processing /Users/i857913/Downloads/langchain-0.0.131-py3-none-any.whl\n",
      "Requirement already satisfied: numpy<2,>=1 in /opt/homebrew/anaconda3/envs/conda210/lib/python3.9/site-packages (from langchain==0.0.131) (1.24.2)\n",
      "Requirement already satisfied: pydantic<2,>=1 in /opt/homebrew/anaconda3/envs/conda210/lib/python3.9/site-packages (from langchain==0.0.131) (1.10.7)\n",
      "Requirement already satisfied: PyYAML>=5.4.1 in /opt/homebrew/anaconda3/envs/conda210/lib/python3.9/site-packages (from langchain==0.0.131) (6.0)\n",
      "Requirement already satisfied: SQLAlchemy<2,>=1 in /opt/homebrew/anaconda3/envs/conda210/lib/python3.9/site-packages (from langchain==0.0.131) (1.4.47)\n",
      "Requirement already satisfied: aiohttp<4.0.0,>=3.8.3 in /opt/homebrew/anaconda3/envs/conda210/lib/python3.9/site-packages (from langchain==0.0.131) (3.8.4)\n",
      "Requirement already satisfied: requests<3,>=2 in /opt/homebrew/anaconda3/envs/conda210/lib/python3.9/site-packages (from langchain==0.0.131) (2.28.1)\n",
      "Requirement already satisfied: tenacity<9.0.0,>=8.1.0 in /opt/homebrew/anaconda3/envs/conda210/lib/python3.9/site-packages (from langchain==0.0.131) (8.2.2)\n",
      "Requirement already satisfied: dataclasses-json<0.6.0,>=0.5.7 in /opt/homebrew/anaconda3/envs/conda210/lib/python3.9/site-packages (from langchain==0.0.131) (0.5.7)\n",
      "Requirement already satisfied: attrs>=17.3.0 in /opt/homebrew/anaconda3/envs/conda210/lib/python3.9/site-packages (from aiohttp<4.0.0,>=3.8.3->langchain==0.0.131) (22.1.0)\n",
      "Requirement already satisfied: frozenlist>=1.1.1 in /opt/homebrew/anaconda3/envs/conda210/lib/python3.9/site-packages (from aiohttp<4.0.0,>=3.8.3->langchain==0.0.131) (1.3.3)\n",
      "Requirement already satisfied: yarl<2.0,>=1.0 in /opt/homebrew/anaconda3/envs/conda210/lib/python3.9/site-packages (from aiohttp<4.0.0,>=3.8.3->langchain==0.0.131) (1.8.2)\n",
      "Requirement already satisfied: multidict<7.0,>=4.5 in /opt/homebrew/anaconda3/envs/conda210/lib/python3.9/site-packages (from aiohttp<4.0.0,>=3.8.3->langchain==0.0.131) (6.0.4)\n",
      "Requirement already satisfied: async-timeout<5.0,>=4.0.0a3 in /opt/homebrew/anaconda3/envs/conda210/lib/python3.9/site-packages (from aiohttp<4.0.0,>=3.8.3->langchain==0.0.131) (4.0.2)\n",
      "Requirement already satisfied: aiosignal>=1.1.2 in /opt/homebrew/anaconda3/envs/conda210/lib/python3.9/site-packages (from aiohttp<4.0.0,>=3.8.3->langchain==0.0.131) (1.3.1)\n",
      "Requirement already satisfied: charset-normalizer<4.0,>=2.0 in /opt/homebrew/anaconda3/envs/conda210/lib/python3.9/site-packages (from aiohttp<4.0.0,>=3.8.3->langchain==0.0.131) (2.0.4)\n",
      "Requirement already satisfied: typing-inspect>=0.4.0 in /opt/homebrew/anaconda3/envs/conda210/lib/python3.9/site-packages (from dataclasses-json<0.6.0,>=0.5.7->langchain==0.0.131) (0.8.0)\n",
      "Requirement already satisfied: marshmallow<4.0.0,>=3.3.0 in /opt/homebrew/anaconda3/envs/conda210/lib/python3.9/site-packages (from dataclasses-json<0.6.0,>=0.5.7->langchain==0.0.131) (3.19.0)\n",
      "Requirement already satisfied: marshmallow-enum<2.0.0,>=1.5.1 in /opt/homebrew/anaconda3/envs/conda210/lib/python3.9/site-packages (from dataclasses-json<0.6.0,>=0.5.7->langchain==0.0.131) (1.5.1)\n",
      "Requirement already satisfied: typing-extensions>=4.2.0 in /opt/homebrew/anaconda3/envs/conda210/lib/python3.9/site-packages (from pydantic<2,>=1->langchain==0.0.131) (4.4.0)\n",
      "Requirement already satisfied: certifi>=2017.4.17 in /opt/homebrew/anaconda3/envs/conda210/lib/python3.9/site-packages (from requests<3,>=2->langchain==0.0.131) (2022.12.7)\n",
      "Requirement already satisfied: urllib3<1.27,>=1.21.1 in /opt/homebrew/anaconda3/envs/conda210/lib/python3.9/site-packages (from requests<3,>=2->langchain==0.0.131) (1.26.14)\n",
      "Requirement already satisfied: idna<4,>=2.5 in /opt/homebrew/anaconda3/envs/conda210/lib/python3.9/site-packages (from requests<3,>=2->langchain==0.0.131) (3.4)\n",
      "Requirement already satisfied: packaging>=17.0 in /opt/homebrew/anaconda3/envs/conda210/lib/python3.9/site-packages (from marshmallow<4.0.0,>=3.3.0->dataclasses-json<0.6.0,>=0.5.7->langchain==0.0.131) (22.0)\n",
      "Requirement already satisfied: mypy-extensions>=0.3.0 in /opt/homebrew/anaconda3/envs/conda210/lib/python3.9/site-packages (from typing-inspect>=0.4.0->dataclasses-json<0.6.0,>=0.5.7->langchain==0.0.131) (1.0.0)\n",
      "langchain is already installed with the same version as the provided wheel. Use --force-reinstall to force an installation of the wheel.\n"
     ]
    }
   ],
   "source": [
    "!pip install /Users/i857913/Downloads/langchain-0.0.131-py3-none-any.whl"
   ]
  },
  {
   "cell_type": "markdown",
   "id": "db08d308-050a-4fc8-93c9-8de4ae977ac3",
   "metadata": {},
   "source": [
    "### Enable tracing if desired"
   ]
  },
  {
   "cell_type": "code",
   "execution_count": 1,
   "id": "77d2da08-fccd-4676-b77e-c0e89bf343cb",
   "metadata": {},
   "outputs": [],
   "source": [
    "import os\n",
    "os.environ[\"LANGCHAIN_HANDLER\"] = \"langchain\"\n",
    "#os.environ[\"LANGCHAIN_SESSION\"] = \"Apr6Demo\" # Make sure this session actually exists. You can create a new session in the UI."
   ]
  },
  {
   "cell_type": "markdown",
   "id": "9132f093-c61e-4b8d-abef-91ebef3fc85f",
   "metadata": {
    "tags": []
   },
   "source": [
    "### API Keys"
   ]
  },
  {
   "cell_type": "code",
   "execution_count": 2,
   "id": "469eaf50-d0bd-4c1a-8048-28ca1a27d29f",
   "metadata": {
    "tags": []
   },
   "outputs": [],
   "source": [
    "import configparser\n",
    "config = configparser.ConfigParser()\n",
    "config.read('../training/secrets.ini')\n",
    "import os\n",
    "import openai\n",
    "os.environ.update({'OPENAI_API_KEY': config['OPENAI']['OPENAI_API_KEY']})\n",
    "openai.api_key = os.getenv('OPENAI_API_KEY')"
   ]
  },
  {
   "cell_type": "markdown",
   "id": "d2f218d7-545c-4511-9e7b-5b796f55acb1",
   "metadata": {
    "tags": []
   },
   "source": [
    "## Set up a simple chain (1-step)"
   ]
  },
  {
   "cell_type": "markdown",
   "id": "62a2c986-3319-4547-879d-90de371bbd91",
   "metadata": {},
   "source": [
    "### Prompt"
   ]
  },
  {
   "cell_type": "code",
   "execution_count": 3,
   "id": "c3e3a807-e942-483e-9cfc-6f6578a9b249",
   "metadata": {
    "tags": []
   },
   "outputs": [],
   "source": [
    "system_prompt_template= \"\"\"\n",
    "You are an expert on sparql and wikibase. I have a private wikibase where the p and q items are completely unknown to you. \n",
    "\n",
    "If you are asked to provide a \"query template json\" for a user question, you should respond with a json object with these keys and values:\n",
    "* 'query_template': a python-style template string. the query template should not use 'rdfs:label' to help you find items. Instead, just use a placeholder tag for each p and q item you need. Each tag should begin with \"p-\" or \"q-\" depending on whether you think you need a p or a q item\n",
    "* 'vocabulary': a list of objects, one for each p or q item you need for a sparql query, each item should have these components:\n",
    "** 'item_tag': a placeholder string that you make up\n",
    "** 'item_label_quesses': a list of up to three different strings that you think might be used as the label for that p or q item\n",
    "Remember: you do not know the actual q or p items in my wikibase, so make sure to list ALL p and q items in the 'vocabulary' section of the json.\n",
    "\n",
    "You may assume the following prefixes:\n",
    "PREFIX wd: <http://www.wikidata.org/entity/>\n",
    "PREFIX wdt: <http://www.wikidata.org/prop/direct/>\n",
    "PREFIX p: <http://www.wikidata.org/prop/>\n",
    "PREFIX ps: <http://www.wikidata.org/prop/statement/>\n",
    "\n",
    "Respond only with the json. Do not include any comments or explanations.\n",
    "\n",
    "\"\"\""
   ]
  },
  {
   "cell_type": "markdown",
   "id": "f8c96dd3-4ae5-4d33-97ee-7b768a2fca18",
   "metadata": {},
   "source": [
    "### Few-shot examples"
   ]
  },
  {
   "cell_type": "code",
   "execution_count": 4,
   "id": "46f07a0d-1611-4717-94da-3acc508b3351",
   "metadata": {
    "tags": []
   },
   "outputs": [],
   "source": [
    "example1_human = \"\"\"\n",
    "generate a query template json for the question \"Does malin 1 have a right ascension lower than 15.1398?\"\n",
    "\"\"\""
   ]
  },
  {
   "cell_type": "code",
   "execution_count": 5,
   "id": "14d05b24-21ce-4f0b-b5cb-b28be8489ff0",
   "metadata": {},
   "outputs": [],
   "source": [
    "example1_ai = \"\"\"\n",
    "{{\n",
    "  \"query_template\": \"SELECT ?result WHERE {{ wd:q-Malin1 wdt:p-RightAscension ?right_ascension . FILTER(?right_ascension < 15.1398) BIND(xsd:boolean(?right_ascension < 15.1398) as ?result) }}\",\n",
    "  \"vocabulary\": [\n",
    "    {{\n",
    "      \"item_tag\": \"q-Malin1\",\n",
    "      \"item_label_quesses\": [\"Malin 1\", \"Malin-1\", \"Malin1\"]\n",
    "    }},\n",
    "    {{\n",
    "      \"item_tag\": \"p-RightAscension\",\n",
    "      \"item_label_quesses\": [\"Right ascension\", \"right_ascension\", \"RA\"]\n",
    "    }}\n",
    "  ]\n",
    "}}\n",
    "\"\"\""
   ]
  },
  {
   "cell_type": "code",
   "execution_count": 6,
   "id": "da20c237-ab6f-4990-a804-dd9fc79cc7f1",
   "metadata": {},
   "outputs": [],
   "source": [
    "example2_human = \"\"\"\n",
    "How many children did J.S. Bach have?\n",
    "\"\"\""
   ]
  },
  {
   "cell_type": "code",
   "execution_count": 7,
   "id": "2ec61d91-3830-4425-888e-8a970ed513a1",
   "metadata": {},
   "outputs": [],
   "source": [
    "example2_ai = \"\"\"\n",
    "{{\n",
    "  \"query_template\": \"SELECT (COUNT(?children) as ?count) WHERE {{ wd:q-JSBach wdt:p-Child ?children . }}\",\n",
    "  \"vocabulary\": [\n",
    "    {{\n",
    "      \"item_tag\": \"q-JSBach\",\n",
    "      \"item_label_quesses\": [\"Johann Sebastian Bach\", \"Bach, Johann Sebastian\", \"J.S. Bach\"]\n",
    "    }},\n",
    "    {{\n",
    "      \"item_tag\": \"p-Child\",\n",
    "      \"item_label_quesses\": [\"Child\", \"Offspring\", \"Progeny\"]\n",
    "    }}\n",
    "  ]\n",
    "}}\n",
    "\"\"\""
   ]
  },
  {
   "cell_type": "markdown",
   "id": "0213f3a7-873d-4389-9bd3-c7c04a6f8aa6",
   "metadata": {},
   "source": [
    "### Create the chain"
   ]
  },
  {
   "cell_type": "code",
   "execution_count": 8,
   "id": "e4adb3ea-a996-4d10-97c4-d30df3afb6f7",
   "metadata": {},
   "outputs": [],
   "source": [
    "from langchain.prompts import (\n",
    "    ChatPromptTemplate,\n",
    "    PromptTemplate,\n",
    "    SystemMessagePromptTemplate,\n",
    "    AIMessagePromptTemplate,\n",
    "    HumanMessagePromptTemplate,\n",
    ")\n",
    "from langchain.schema import (\n",
    "    AIMessage,\n",
    "    HumanMessage,\n",
    "    SystemMessage\n",
    ")"
   ]
  },
  {
   "cell_type": "code",
   "execution_count": 9,
   "id": "33d7ff58-5771-458a-b0e0-eeaa47575e8e",
   "metadata": {},
   "outputs": [],
   "source": [
    "template=system_prompt_template\n",
    "system_message_prompt = SystemMessagePromptTemplate.from_template(template)\n",
    "\n",
    "example_human_1 = HumanMessagePromptTemplate.from_template(example1_human)\n",
    "example_ai_1 = AIMessagePromptTemplate.from_template(example1_ai)\n",
    "example_human_2 = HumanMessagePromptTemplate.from_template(example2_human)\n",
    "example_ai_2 = AIMessagePromptTemplate.from_template(example2_ai)\n",
    "\n",
    "human_template=\"Please generate query template json for this question: {text}\"\n",
    "human_message_prompt = HumanMessagePromptTemplate.from_template(human_template)"
   ]
  },
  {
   "cell_type": "markdown",
   "id": "db3ac495-81c0-4d4f-87da-0d6e1af39f58",
   "metadata": {},
   "source": [
    "### Specify the LLM model"
   ]
  },
  {
   "cell_type": "code",
   "execution_count": 10,
   "id": "40dcd9e5-36ac-4034-9712-dc30f2c6499c",
   "metadata": {},
   "outputs": [],
   "source": [
    "from langchain.chat_models import ChatOpenAI\n",
    "from langchain import OpenAI\n",
    "chat = ChatOpenAI(temperature=0)\n",
    "# chat = ChatOpenAI(temperature=0, model_name='gpt-4')"
   ]
  },
  {
   "cell_type": "markdown",
   "id": "39072d1d-047c-4adc-a06b-a030bfa3d80c",
   "metadata": {},
   "source": [
    "### Tie it all together and run it"
   ]
  },
  {
   "cell_type": "code",
   "execution_count": 11,
   "id": "c424733e-f74c-4b9b-9db5-068c0ebab879",
   "metadata": {},
   "outputs": [],
   "source": [
    "chat_prompt = ChatPromptTemplate.from_messages([system_message_prompt, example_human_1, example_ai_1, example_human_2, example_ai_2, \n",
    "                                                human_message_prompt])"
   ]
  },
  {
   "cell_type": "code",
   "execution_count": 12,
   "id": "6de7822f-0253-4f14-8887-9b124849e57f",
   "metadata": {},
   "outputs": [
    {
     "name": "stdout",
     "output_type": "stream",
     "text": [
      "{\n",
      "  \"query_template\": \"SELECT ?BR_id WHERE { wd:q-HakeemOlajuwon wdt:p-1545 ?BR_id . }\",\n",
      "  \"vocabulary\": [\n",
      "    {\n",
      "      \"item_tag\": \"q-HakeemOlajuwon\",\n",
      "      \"item_label_quesses\": [\"Hakeem Olajuwon\", \"Olajuwon, Hakeem\", \"Akeem Olajuwon\"]\n",
      "    },\n",
      "    {\n",
      "      \"item_tag\": \"p-1545\",\n",
      "      \"item_label_quesses\": [\"Basketball-Reference.com NBA player ID\", \"BBR NBA player ID\", \"NBA.com player ID\"]\n",
      "    }\n",
      "  ]\n",
      "}\n"
     ]
    }
   ],
   "source": [
    "from langchain import PromptTemplate, LLMChain\n",
    "chain = LLMChain(llm=chat, prompt=chat_prompt)\n",
    "result = chain.run('Which is the Basketball-Reference.com NBA player ID of Hakeem Olajuwon?')\n",
    "print(result)"
   ]
  },
  {
   "cell_type": "markdown",
   "id": "037b7551-c77c-4f3d-be90-f25a2ae77a35",
   "metadata": {},
   "source": [
    "#### We should have legal json..."
   ]
  },
  {
   "cell_type": "code",
   "execution_count": 3,
   "id": "2a02eb4b-4202-4080-a901-09ef6b73f34f",
   "metadata": {},
   "outputs": [],
   "source": [
    "import json"
   ]
  },
  {
   "cell_type": "code",
   "execution_count": 14,
   "id": "1d0a984b-27c0-4627-8a2f-5070ba570969",
   "metadata": {},
   "outputs": [],
   "source": [
    "query_template = json.loads(result)"
   ]
  },
  {
   "cell_type": "markdown",
   "id": "1f801b4e-6576-4914-aa4f-6f4c4e3c7924",
   "metadata": {
    "tags": []
   },
   "source": [
    "## Code to look up vocabulary and resolve the template"
   ]
  },
  {
   "cell_type": "code",
   "execution_count": 4,
   "id": "c95d72af-a251-4ec2-a1c0-babcfee5b79d",
   "metadata": {},
   "outputs": [],
   "source": [
    "from typing import Any, Dict, List, Optional, Union\n",
    "\n",
    "def get_nested_value(nested_dict: Dict[str, Any], path: List[str]) -> Optional[Any]:\n",
    "    \"\"\"\n",
    "    Retrieves a value from a nested dictionary structure using a list of keys as a path.\n",
    "\n",
    "    :param nested_dict: The nested dictionary structure to traverse.\n",
    "    :param path: A list of strings representing the keys to traverse in order to access the desired value.\n",
    "    :return: The value at the end of the path if it exists, or None if any key in the path is not found.\n",
    "    \"\"\"\n",
    "    current = nested_dict\n",
    "    for key in path:\n",
    "        if not isinstance(current, dict) or key not in current:\n",
    "            return None\n",
    "        current = current[key]\n",
    "    return current"
   ]
  },
  {
   "cell_type": "markdown",
   "id": "16c2b5ca-907e-4053-a894-3aa1a366023a",
   "metadata": {},
   "source": [
    "### Vocab lookup uses an elastic search api"
   ]
  },
  {
   "cell_type": "code",
   "execution_count": 5,
   "id": "42d23f0a-1c74-4c9c-85f2-d0e24204e96a",
   "metadata": {},
   "outputs": [],
   "source": [
    "import requests\n",
    "from typing import Optional\n",
    "\n",
    "def vocab_lookup(search: str, entity_type: str = \"item\",\n",
    "                 item_tag: str = None, \n",
    "                 srqiprofile: str = \"classic\") -> Optional[str]:\n",
    "    \n",
    "    if item_tag is not None:\n",
    "        if item_tag.startswith(\"q-\"):\n",
    "            entity_type = \"item\"\n",
    "        elif item_tag.startswith(\"p-\"):\n",
    "            entity_type = \"property\"   \n",
    "    \n",
    "    if entity_type == \"item\":\n",
    "        srnamespace = 0\n",
    "    elif entity_type == \"property\":\n",
    "        srnamespace = 120\n",
    "    else:\n",
    "        raise ValueError(\"entity_type must be either 'property' or 'item'\")      \n",
    "        \n",
    "    url = \"https://www.wikidata.org/w/api.php\"\n",
    "    params = {\n",
    "        \"action\": \"query\",\n",
    "        \"list\": \"search\",\n",
    "        \"srsearch\": search,\n",
    "        \"srnamespace\": srnamespace,\n",
    "        \"srlimit\": 5,\n",
    "        \"srqiprofile\": srqiprofile,\n",
    "        \"format\": \"json\"\n",
    "    }\n",
    "    headers = {'Accept': 'application/json'}\n",
    "\n",
    "    response = requests.get(url, headers=headers, params=params)\n",
    "        \n",
    "    if response.status_code == 200:\n",
    "        results = get_nested_value(response.json(), ['query', 'search'])\n",
    "        if results and len(results) > 0:\n",
    "            title = results[0]['title']\n",
    "            # properties are returned with a prefix 'property:'\n",
    "            return results[0]['title'].split(':')[-1]\n",
    "        else:\n",
    "            print(f\"I couldn't find {entity_type} found for '{search}'. Please rephrase your request and try again\")\n",
    "            return \"\"\n",
    "    else:\n",
    "        # print(f\"Request failed with status code {response.status_code}\")\n",
    "        return \"Sorry, I got an error. Please try again.\""
   ]
  },
  {
   "cell_type": "markdown",
   "id": "6ba3a11d-5c7d-49b8-bc2b-3f652eff1f07",
   "metadata": {
    "tags": []
   },
   "source": [
    "### Resolve the query template"
   ]
  },
  {
   "cell_type": "code",
   "execution_count": 6,
   "id": "d28d8c9b-9f5e-4f16-8d1d-b6cb983188fe",
   "metadata": {},
   "outputs": [],
   "source": [
    "def resolve_query_template(t):\n",
    "    vocab_items = [(v[\"item_tag\"], v[\"item_label_quesses\"]) for v in t[\"vocabulary\"]]\n",
    "    # since this is not a proper template, we use \"replace\" below\n",
    "    # so we need to be careful that some tags may be prefixes of others\n",
    "    # sorting them by tag length avoids that\n",
    "    vocab_items = sorted(vocab_items, key=lambda x: x[0], reverse=True)\n",
    "    resolved_vocabulary = {item_tag: vocab_lookup(item_label_quesses[0], item_tag=item_tag) for item_tag, item_label_quesses in vocab_items}\n",
    "    query = t['query_template']\n",
    "    for item_tag, item_id in resolved_vocabulary.items():\n",
    "        query = query.replace(item_tag, item_id)\n",
    "    result = query\n",
    "    return result"
   ]
  },
  {
   "cell_type": "code",
   "execution_count": 18,
   "id": "2bfdd8ee-89ea-40f4-ba05-53c00daca75c",
   "metadata": {},
   "outputs": [
    {
     "data": {
      "text/plain": [
       "'SELECT ?BR_id WHERE { wd:Q273256 wdt:P2685 ?BR_id . }'"
      ]
     },
     "execution_count": 18,
     "metadata": {},
     "output_type": "execute_result"
    }
   ],
   "source": [
    "resolve_query_template(query_template)"
   ]
  },
  {
   "cell_type": "markdown",
   "id": "900799b3-fe00-4174-960a-5e1dbcb6cafc",
   "metadata": {},
   "source": [
    "### The next steps would be to run the query, parse the results and summarize, but ..."
   ]
  },
  {
   "cell_type": "markdown",
   "id": "fc238533-8fbb-449e-abcc-cd93a5fa4fc4",
   "metadata": {},
   "source": [
    "## langchain agent uses the LLM to orchestrate the integration steps"
   ]
  },
  {
   "cell_type": "markdown",
   "id": "78d66d8b-0e34-4d3f-a18d-c7284840ac76",
   "metadata": {},
   "source": [
    "### Query runner "
   ]
  },
  {
   "cell_type": "code",
   "execution_count": 7,
   "id": "b5b97a4d-2a39-4993-88d9-e7818c0a2853",
   "metadata": {},
   "outputs": [],
   "source": [
    "import requests\n",
    "from typing import List, Dict, Any\n",
    "\n",
    "def run_sparql(query: str) -> List[Dict[str, Any]]:\n",
    "    url = 'https://query.wikidata.org/sparql'\n",
    "    headers = {\n",
    "        'Accept': 'application/json',\n",
    "        'User-Agent': 'AskwikiBot/1.0 (https://www.wikidata.org/wiki/User:What_Tottles_Meant)'\n",
    "    }\n",
    "\n",
    "    response = requests.get(url, headers=headers, params={'query': query, 'format': 'json'})\n",
    "\n",
    "    if response.status_code == 200:\n",
    "        results = response.json().get('results', {}).get('bindings', [])\n",
    "        return json.dumps(results)\n",
    "    else:\n",
    "        # print(f\"Request failed with status code {response.status_code}\")\n",
    "        return \"That query failed. Perhaps you could try a different one?\"\n"
   ]
  },
  {
   "cell_type": "markdown",
   "id": "3122a961-9673-4a52-b1cd-7d62fbdf8d96",
   "metadata": {},
   "source": [
    "### Wrap the tools"
   ]
  },
  {
   "cell_type": "code",
   "execution_count": 8,
   "id": "cc41ae88-2e53-4363-9878-28b26430cb1e",
   "metadata": {},
   "outputs": [],
   "source": [
    "from langchain.agents import Tool, AgentExecutor, LLMSingleActionAgent, AgentOutputParser\n",
    "from langchain.prompts import StringPromptTemplate\n",
    "from langchain import OpenAI, SerpAPIWrapper, LLMChain\n",
    "from typing import List, Union\n",
    "from langchain.schema import AgentAction, AgentFinish\n",
    "import re"
   ]
  },
  {
   "cell_type": "code",
   "execution_count": 9,
   "id": "2810a3ce-b9c6-47ee-8068-12ca967cd0ea",
   "metadata": {},
   "outputs": [],
   "source": [
    "# Define which tools the agent can use to answer user queries\n",
    "tools = [\n",
    "    Tool(\n",
    "        name = \"ItemLookup\",\n",
    "        func=(lambda x: vocab_lookup(x, entity_type=\"item\")),\n",
    "        description=\"useful for when you need to know the q-number for an item\"\n",
    "    ),\n",
    "    Tool(\n",
    "        name = \"PropertyLookup\",\n",
    "        func=(lambda x: vocab_lookup(x, entity_type=\"property\")),\n",
    "        description=\"useful for when you need to know the p-number for a property\"\n",
    "    ),\n",
    "    Tool(\n",
    "        name = \"SparqlQueryRunner\",\n",
    "        func=run_sparql,\n",
    "        description=\"useful for getting results from a wikibase\"\n",
    "    )    \n",
    "]"
   ]
  },
  {
   "cell_type": "markdown",
   "id": "ab0f2778-a195-4a4a-a5b4-c1e809e1fb7b",
   "metadata": {},
   "source": [
    "### Templates"
   ]
  },
  {
   "cell_type": "markdown",
   "id": "181e58da-5f8f-4fd1-b1c7-b0a870a60f4e",
   "metadata": {},
   "source": [
    "#### This template is adapted from langchain docs"
   ]
  },
  {
   "cell_type": "code",
   "execution_count": 10,
   "id": "7bd4ba4f-57d6-4ceb-b932-3cb0d0509a24",
   "metadata": {},
   "outputs": [],
   "source": [
    "# Set up the base template\n",
    "template = \"\"\"\n",
    "Answer the following questions by running a sparql query against a wikibase where the p and q items are \n",
    "completely unknown to you. You will need to discover the p and q items before you can generate the sparql.\n",
    "Do not assume you know the p and q items for any concepts. Always use tools to find all p and q items.\n",
    "After you generate the sparql, you should run it. The results will be returned in json. \n",
    "Summarize the json results in natural language.\n",
    "\n",
    "You may assume the following prefixes:\n",
    "PREFIX wd: <http://www.wikidata.org/entity/>\n",
    "PREFIX wdt: <http://www.wikidata.org/prop/direct/>\n",
    "PREFIX p: <http://www.wikidata.org/prop/>\n",
    "PREFIX ps: <http://www.wikidata.org/prop/statement/>\n",
    "\n",
    "You have access to the following tools:\n",
    "\n",
    "{tools}\n",
    "\n",
    "Use the following format:\n",
    "\n",
    "Question: the input question for which you must provide a natural language answer\n",
    "Thought: you should always think about what to do\n",
    "Action: the action to take, should be one of [{tool_names}]\n",
    "Action Input: the input to the action\n",
    "Observation: the result of the action\n",
    "... (this Thought/Action/Action Input/Observation can repeat N times)\n",
    "Thought: I now know the final answer\n",
    "Final Answer: the final answer to the original input question\n",
    "\n",
    "Question: {input}\n",
    "{agent_scratchpad}\"\"\"\n"
   ]
  },
  {
   "cell_type": "code",
   "execution_count": 11,
   "id": "7e8d771a-64bb-4ec8-b472-6a9a40c6dd38",
   "metadata": {},
   "outputs": [],
   "source": [
    "# Set up a prompt template\n",
    "class CustomPromptTemplate(StringPromptTemplate):\n",
    "    # The template to use\n",
    "    template: str\n",
    "    # The list of tools available\n",
    "    tools: List[Tool]\n",
    "    \n",
    "    def format(self, **kwargs) -> str:\n",
    "        # Get the intermediate steps (AgentAction, Observation tuples)\n",
    "        # Format them in a particular way\n",
    "        intermediate_steps = kwargs.pop(\"intermediate_steps\")\n",
    "        thoughts = \"\"\n",
    "        for action, observation in intermediate_steps:\n",
    "            thoughts += action.log\n",
    "            thoughts += f\"\\nObservation: {observation}\\nThought: \"\n",
    "        # Set the agent_scratchpad variable to that value\n",
    "        kwargs[\"agent_scratchpad\"] = thoughts\n",
    "        # Create a tools variable from the list of tools provided\n",
    "        kwargs[\"tools\"] = \"\\n\".join([f\"{tool.name}: {tool.description}\" for tool in self.tools])\n",
    "        # Create a list of tool names for the tools provided\n",
    "        kwargs[\"tool_names\"] = \", \".join([tool.name for tool in self.tools])\n",
    "        return self.template.format(**kwargs)"
   ]
  },
  {
   "cell_type": "code",
   "execution_count": 12,
   "id": "f97dca78-fdde-4a70-9137-e34a21d14e64",
   "metadata": {},
   "outputs": [],
   "source": [
    "prompt = CustomPromptTemplate(\n",
    "    template=template,\n",
    "    tools=tools,\n",
    "    # This omits the `agent_scratchpad`, `tools`, and `tool_names` variables because those are generated dynamically\n",
    "    # This includes the `intermediate_steps` variable because that is needed\n",
    "    input_variables=[\"input\", \"intermediate_steps\"]\n",
    ")"
   ]
  },
  {
   "cell_type": "markdown",
   "id": "12c57d77-3c1e-4cde-9a83-7d2134392479",
   "metadata": {},
   "source": [
    "### Output parser recongnizes the \"stop\" sequence and parses action output"
   ]
  },
  {
   "cell_type": "code",
   "execution_count": 13,
   "id": "42da05eb-c103-4649-9d20-7143a8880721",
   "metadata": {},
   "outputs": [],
   "source": [
    "class CustomOutputParser(AgentOutputParser):\n",
    "    \n",
    "    def parse(self, llm_output: str) -> Union[AgentAction, AgentFinish]:\n",
    "        # Check if agent should finish\n",
    "        if \"Final Answer:\" in llm_output:\n",
    "            return AgentFinish(\n",
    "                # Return values is generally always a dictionary with a single `output` key\n",
    "                # It is not recommended to try anything else at the moment :)\n",
    "                return_values={\"output\": llm_output.split(\"Final Answer:\")[-1].strip()},\n",
    "                log=llm_output,\n",
    "            )\n",
    "        # Parse out the action and action input\n",
    "        regex = r\"Action: (.*?)[\\n]*Action Input:[\\s]*(.*)\"\n",
    "        match = re.search(regex, llm_output, re.DOTALL)\n",
    "        if not match:\n",
    "            raise ValueError(f\"Could not parse LLM output: `{llm_output}`\")\n",
    "        action = match.group(1).strip()\n",
    "        action_input = match.group(2)\n",
    "        # Return the action and action input\n",
    "        return AgentAction(tool=action, tool_input=action_input.strip(\" \").strip('\"'), log=llm_output)"
   ]
  },
  {
   "cell_type": "code",
   "execution_count": 14,
   "id": "d2b4d710-8cc9-4040-9269-59cf6c5c22be",
   "metadata": {},
   "outputs": [],
   "source": [
    "output_parser = CustomOutputParser()"
   ]
  },
  {
   "cell_type": "markdown",
   "id": "48a758cb-93a7-4555-b69a-896d2d43c6f0",
   "metadata": {},
   "source": [
    "### Specify the LLM model"
   ]
  },
  {
   "cell_type": "code",
   "execution_count": 15,
   "id": "72988c79-8f60-4b0f-85ee-6af32e8de9c2",
   "metadata": {},
   "outputs": [],
   "source": [
    "# llm = ChatOpenAI(temperature=0)\n",
    "llm = OpenAI(temperature=0)"
   ]
  },
  {
   "cell_type": "markdown",
   "id": "95685d14-647a-4e24-ae2c-a8dd1e364921",
   "metadata": {},
   "source": [
    "### Tie it all together and run it"
   ]
  },
  {
   "cell_type": "code",
   "execution_count": 16,
   "id": "13d55765-bfa1-43b3-b7cb-00f52ebe7747",
   "metadata": {},
   "outputs": [],
   "source": [
    "# LLM chain consisting of the LLM and a prompt\n",
    "llm_chain = LLMChain(llm=llm, prompt=prompt)"
   ]
  },
  {
   "cell_type": "code",
   "execution_count": 17,
   "id": "b3f7ac3c-398e-49f9-baed-554f49a191c3",
   "metadata": {},
   "outputs": [],
   "source": [
    "tool_names = [tool.name for tool in tools]\n",
    "agent = LLMSingleActionAgent(\n",
    "    llm_chain=llm_chain, \n",
    "    output_parser=output_parser,\n",
    "    stop=[\"\\nObservation:\"], \n",
    "    allowed_tools=tool_names\n",
    ")"
   ]
  },
  {
   "cell_type": "code",
   "execution_count": 18,
   "id": "65740577-272e-4853-8d47-b87784cfaba0",
   "metadata": {},
   "outputs": [],
   "source": [
    "agent_executor = AgentExecutor.from_agent_and_tools(agent=agent, tools=tools, verbose=True)"
   ]
  },
  {
   "cell_type": "markdown",
   "id": "66e3d13b-77cf-41d3-b541-b54535c14459",
   "metadata": {},
   "source": [
    "#### Note that the model summarizes the json output"
   ]
  },
  {
   "cell_type": "code",
   "execution_count": 19,
   "id": "a11ca60d-f57b-4fe8-943e-a258e37463c7",
   "metadata": {},
   "outputs": [
    {
     "name": "stdout",
     "output_type": "stream",
     "text": [
      "\n",
      "\n",
      "\u001b[1m> Entering new AgentExecutor chain...\u001b[0m\n",
      "\u001b[32;1m\u001b[1;3mThought: I need to find the q-number for J.S. Bach and the p-number for the property \"number of children\".\n",
      "Action: ItemLookup\n",
      "Action Input: J.S. Bach\u001b[0m\n",
      "\n",
      "Observation:\u001b[36;1m\u001b[1;3mQ1339\u001b[0m\u001b[32;1m\u001b[1;3m I need to find the p-number for the property \"number of children\".\n",
      "Action: PropertyLookup\n",
      "Action Input: number of children\u001b[0m\n",
      "\n",
      "Observation:\u001b[33;1m\u001b[1;3mP1971\u001b[0m\u001b[32;1m\u001b[1;3m I need to run a sparql query to get the answer.\n",
      "Action: SparqlQueryRunner\n",
      "Action Input: \n",
      "SELECT ?children WHERE {\n",
      "  wd:Q1339 p:P1971 ?statement .\n",
      "  ?statement ps:P1971 ?children .\n",
      "}\u001b[0m\n",
      "\n",
      "Observation:\u001b[38;5;200m\u001b[1;3m[{\"children\": {\"datatype\": \"http://www.w3.org/2001/XMLSchema#decimal\", \"type\": \"literal\", \"value\": \"20\"}}]\u001b[0m\u001b[32;1m\u001b[1;3m I now know the final answer.\n",
      "Final Answer: J.S. Bach had 20 children.\u001b[0m\n",
      "\n",
      "\u001b[1m> Finished chain.\u001b[0m\n"
     ]
    },
    {
     "data": {
      "text/plain": [
       "'J.S. Bach had 20 children.'"
      ]
     },
     "execution_count": 19,
     "metadata": {},
     "output_type": "execute_result"
    }
   ],
   "source": [
    "agent_executor.run(\"How many children did J.S. Bach have?\")"
   ]
  },
  {
   "cell_type": "code",
   "execution_count": 32,
   "id": "d0b42a41-996b-4156-82e4-f0651a87ee34",
   "metadata": {},
   "outputs": [
    {
     "name": "stdout",
     "output_type": "stream",
     "text": [
      "\n",
      "\n",
      "\u001b[1m> Entering new AgentExecutor chain...\u001b[0m\n",
      "\u001b[32;1m\u001b[1;3mThought: I need to find the p and q items for Basketball-Reference.com NBA player ID and Hakeem Olajuwon\n",
      "Action: ItemLookup\n",
      "Action Input: Hakeem Olajuwon\u001b[0m\n",
      "\n",
      "Observation:\u001b[36;1m\u001b[1;3mQ273256\u001b[0m\u001b[32;1m\u001b[1;3m I need to find the p and q items for Basketball-Reference.com NBA player ID\n",
      "Action: PropertyLookup\n",
      "Action Input: Basketball-Reference.com NBA player ID\u001b[0m\n",
      "\n",
      "Observation:\u001b[33;1m\u001b[1;3mP2685\u001b[0m\u001b[32;1m\u001b[1;3m I now have the p and q items for the query\n",
      "Action: SparqlQueryRunner\n",
      "Action Input: SELECT ?playerID WHERE { wd:Q273256 p:P2685 ?playerIDStatement. ?playerIDStatement ps:P2685 ?playerID. }\u001b[0m\n",
      "\n",
      "Observation:\u001b[38;5;200m\u001b[1;3m[{\"playerID\": {\"type\": \"literal\", \"value\": \"o/olajuha01\"}}]\u001b[0m\u001b[32;1m\u001b[1;3m I now know the final answer\n",
      "Final Answer: The Basketball-Reference.com NBA player ID of Hakeem Olajuwon is o/olajuha01.\u001b[0m\n",
      "\n",
      "\u001b[1m> Finished chain.\u001b[0m\n"
     ]
    },
    {
     "data": {
      "text/plain": [
       "'The Basketball-Reference.com NBA player ID of Hakeem Olajuwon is o/olajuha01.'"
      ]
     },
     "execution_count": 32,
     "metadata": {},
     "output_type": "execute_result"
    }
   ],
   "source": [
    "agent_executor.run(\"What is the Basketball-Reference.com NBA player ID of Hakeem Olajuwon?\")"
   ]
  },
  {
   "cell_type": "code",
   "execution_count": null,
   "id": "f0cbbe9f-81a8-4bbc-a81e-9c86620fa044",
   "metadata": {},
   "outputs": [],
   "source": []
  },
  {
   "cell_type": "code",
   "execution_count": null,
   "id": "e814f828-b798-44c2-b43a-34871897ae14",
   "metadata": {},
   "outputs": [],
   "source": []
  }
 ],
 "metadata": {
  "kernelspec": {
   "display_name": "conda210",
   "language": "python",
   "name": "conda210"
  },
  "language_info": {
   "codemirror_mode": {
    "name": "ipython",
    "version": 3
   },
   "file_extension": ".py",
   "mimetype": "text/x-python",
   "name": "python",
   "nbconvert_exporter": "python",
   "pygments_lexer": "ipython3",
   "version": "3.9.16"
  }
 },
 "nbformat": 4,
 "nbformat_minor": 5
}
