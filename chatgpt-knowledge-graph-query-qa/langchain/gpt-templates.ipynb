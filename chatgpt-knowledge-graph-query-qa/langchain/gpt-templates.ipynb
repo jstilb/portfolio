{
 "cells": [
  {
   "cell_type": "code",
   "execution_count": 1,
   "id": "35d1f7dc-7a6f-4043-a83e-0519857b6a41",
   "metadata": {},
   "outputs": [],
   "source": [
    "import configparser\n",
    "config = configparser.ConfigParser()\n",
    "config.read('../training/secrets.ini')\n",
    "import os\n",
    "import openai\n",
    "os.environ.update({'OPENAI_API_KEY': config['OPENAI']['OPENAI_API_KEY']})\n",
    "openai.api_key = os.getenv('OPENAI_API_KEY')"
   ]
  },
  {
   "cell_type": "code",
   "execution_count": 2,
   "id": "717c666b-57e6-41be-bf22-b0dc03c1de1a",
   "metadata": {},
   "outputs": [],
   "source": [
    "system_prompt_template= \"\"\"\n",
    "You are an expert on sparql and wikibase. I have a private wikibase where the p and q items are completely unknown to you. \n",
    "\n",
    "If you are asked to provide a \"query template json\" for a user question, you should respond with a json object with these keys and values:\n",
    "* 'query_template': a python-style template string. the query template should not use 'rdfs:label' to help you find items. Instead, just use a placeholder tag for each p and q item you need. Each tag should begin with \"p-\" or \"q-\" depending on whether you think you need a p or a q item\n",
    "* 'vocabulary': a list of objects, one for each p or q item you need for a sparql query, each item should have these components:\n",
    "** 'item_tag': a placeholder string that you make up\n",
    "** 'item_label_quesses': a list of up to three different strings that you think might be used as the label for that p or q item\n",
    "Remember: you do not know the actual q or p items in my wikibase, so make sure to list ALL p and q items in the 'vocabulary' section of the json.\n",
    "\n",
    "You may assume the following prefixes:\n",
    "PREFIX wd: <http://www.wikidata.org/entity/>\n",
    "PREFIX wdt: <http://www.wikidata.org/prop/direct/>\n",
    "PREFIX p: <http://www.wikidata.org/prop/>\n",
    "PREFIX ps: <http://www.wikidata.org/prop/statement/>\n",
    "\n",
    "Respond only with the json. Do not include any comments or explanations.\n",
    "\n",
    "\"\"\""
   ]
  },
  {
   "cell_type": "code",
   "execution_count": 3,
   "id": "bf21e8ce-f30c-40c3-b9c1-eccd82e191b4",
   "metadata": {
    "tags": []
   },
   "outputs": [],
   "source": [
    "example1_human = \"\"\"\n",
    "generate a query template json for the question \"Does malin 1 have a right ascension lower than 15.1398?\"\n",
    "\"\"\""
   ]
  },
  {
   "cell_type": "code",
   "execution_count": 4,
   "id": "f6ca08ea-b89a-429f-a1b9-9cc64235475b",
   "metadata": {},
   "outputs": [],
   "source": [
    "example1_ai = \"\"\"\n",
    "{{\n",
    "  \"query_template\": \"SELECT ?result WHERE {{ wd:q-Malin1 wdt:p-RightAscension ?right_ascension . FILTER(?right_ascension < 15.1398) BIND(xsd:boolean(?right_ascension < 15.1398) as ?result) }}\",\n",
    "  \"vocabulary\": [\n",
    "    {{\n",
    "      \"item_tag\": \"q-Malin1\",\n",
    "      \"item_label_quesses\": [\"Malin 1\", \"Malin-1\", \"Malin1\"]\n",
    "    }},\n",
    "    {{\n",
    "      \"item_tag\": \"p-RightAscension\",\n",
    "      \"item_label_quesses\": [\"Right ascension\", \"right_ascension\", \"RA\"]\n",
    "    }}\n",
    "  ]\n",
    "}}\n",
    "\"\"\""
   ]
  },
  {
   "cell_type": "code",
   "execution_count": 5,
   "id": "d4141bcf-5859-41ff-972e-6a1403889fff",
   "metadata": {},
   "outputs": [],
   "source": [
    "example2_human = \"\"\"\n",
    "How many children did J.S. Bach have?\n",
    "\"\"\""
   ]
  },
  {
   "cell_type": "code",
   "execution_count": 6,
   "id": "363ac6fd-184e-421e-bb14-40aab05db8cd",
   "metadata": {},
   "outputs": [],
   "source": [
    "example2_ai = \"\"\"\n",
    "{{\n",
    "  \"query_template\": \"w\n",
    "  \"vocabulary\": [\n",
    "    {{\n",
    "      \"item_tag\": \"q-JSBach\",\n",
    "      \"item_label_quesses\": [\"Johann Sebastian Bach\", \"Bach, Johann Sebastian\", \"J.S. Bach\"]\n",
    "    }},\n",
    "    {{\n",
    "      \"item_tag\": \"p-Child\",\n",
    "      \"item_label_quesses\": [\"Child\", \"Offspring\", \"Progeny\"]\n",
    "    }}\n",
    "  ]\n",
    "}}\n",
    "\"\"\""
   ]
  },
  {
   "cell_type": "code",
   "execution_count": 7,
   "id": "c4c97c3d-da72-4178-b2a6-5dd5e51cb274",
   "metadata": {},
   "outputs": [],
   "source": [
    "from langchain.prompts import (\n",
    "    ChatPromptTemplate,\n",
    "    PromptTemplate,\n",
    "    SystemMessagePromptTemplate,\n",
    "    AIMessagePromptTemplate,\n",
    "    HumanMessagePromptTemplate,\n",
    ")\n",
    "from langchain.schema import (\n",
    "    AIMessage,\n",
    "    HumanMessage,\n",
    "    SystemMessage\n",
    ")"
   ]
  },
  {
   "cell_type": "code",
   "execution_count": 8,
   "id": "d2c66258-4ef2-4984-b485-6f782bb48b92",
   "metadata": {},
   "outputs": [],
   "source": [
    "template=system_prompt_template\n",
    "system_message_prompt = SystemMessagePromptTemplate.from_template(template)\n",
    "\n",
    "example_human_1 = HumanMessagePromptTemplate.from_template(example1_human)\n",
    "example_ai_1 = AIMessagePromptTemplate.from_template(example1_ai)\n",
    "example_human_2 = HumanMessagePromptTemplate.from_template(example2_human)\n",
    "example_ai_2 = AIMessagePromptTemplate.from_template(example2_ai)\n",
    "\n",
    "human_template=\"Please generate query template json for this question: {text}\"\n",
    "human_message_prompt = HumanMessagePromptTemplate.from_template(human_template)"
   ]
  },
  {
   "cell_type": "code",
   "execution_count": 9,
   "id": "3adbf289-8fd4-4a46-aca7-59d7159888c3",
   "metadata": {},
   "outputs": [],
   "source": [
    "from langchain.chat_models import ChatOpenAI\n",
    "chat = ChatOpenAI(temperature=0)"
   ]
  },
  {
   "cell_type": "code",
   "execution_count": 10,
   "id": "20352840-7cb8-4a17-b35a-702cea2226ce",
   "metadata": {},
   "outputs": [],
   "source": [
    "chat_prompt = ChatPromptTemplate.from_messages([system_message_prompt, example_human_1, example_ai_1, example_human_2, example_ai_2, human_message_prompt])"
   ]
  },
  {
   "cell_type": "code",
   "execution_count": 11,
   "id": "9bfb848e-720c-4908-bdfb-bf000471c279",
   "metadata": {},
   "outputs": [
    {
     "name": "stdout",
     "output_type": "stream",
     "text": [
      "{\n",
      "  \"query_template\": \"SELECT ?id WHERE { wd:q-HakeemOlajuwon wdt:p-BasketballReferencecomNBAPlayerID ?id }\",\n",
      "  \"vocabulary\": [\n",
      "    {\n",
      "      \"item_tag\": \"q-HakeemOlajuwon\",\n",
      "      \"item_label_quesses\": [\"Hakeem Olajuwon\", \"Olajuwon, Hakeem\"]\n",
      "    },\n",
      "    {\n",
      "      \"item_tag\": \"p-BasketballReferencecomNBAPlayerID\",\n",
      "      \"item_label_quesses\": [\"Basketball-Reference.com NBA player ID\", \"NBA player ID\"]\n",
      "    }\n",
      "  ]\n",
      "}\n"
     ]
    }
   ],
   "source": [
    "from langchain import PromptTemplate, LLMChain\n",
    "chain = LLMChain(llm=chat, prompt=chat_prompt)\n",
    "result = chain.run('Which is the Basketball-Reference.com NBA player ID of Hakeem Olajuwon?')\n",
    "print(result)"
   ]
  },
  {
   "cell_type": "code",
   "execution_count": 12,
   "id": "0a445ea1-87a3-42fc-be8c-923356c79b77",
   "metadata": {},
   "outputs": [],
   "source": [
    "import json"
   ]
  },
  {
   "cell_type": "code",
   "execution_count": 13,
   "id": "82e3c719-0455-4781-b836-a08349bc77f2",
   "metadata": {},
   "outputs": [],
   "source": [
    "query_template = json.loads(result)"
   ]
  },
  {
   "cell_type": "code",
   "execution_count": 14,
   "id": "7265440e-fbb3-4c22-8b72-f83f46c8f36e",
   "metadata": {},
   "outputs": [],
   "source": [
    "from typing import Any, Dict, List, Optional, Union\n",
    "\n",
    "def get_nested_value(nested_dict: Dict[str, Any], path: List[str]) -> Optional[Any]:\n",
    "    \"\"\"\n",
    "    Retrieves a value from a nested dictionary structure using a list of keys as a path.\n",
    "\n",
    "    :param nested_dict: The nested dictionary structure to traverse.\n",
    "    :param path: A list of strings representing the keys to traverse in order to access the desired value.\n",
    "    :return: The value at the end of the path if it exists, or None if any key in the path is not found.\n",
    "    \"\"\"\n",
    "    current = nested_dict\n",
    "    for key in path:\n",
    "        if not isinstance(current, dict) or key not in current:\n",
    "            return None\n",
    "        current = current[key]\n",
    "    return current"
   ]
  },
  {
   "cell_type": "code",
   "execution_count": 15,
   "id": "0bd1cb13-3b79-46f6-bab7-a1b55e2b9373",
   "metadata": {},
   "outputs": [],
   "source": [
    "import requests\n",
    "from typing import Optional\n",
    "\n",
    "def vocab_lookup(search: str, entity_type: str = \"item\",\n",
    "                 item_tag: str = None, \n",
    "                 srqiprofile: str = \"classic\") -> Optional[str]:\n",
    "    \n",
    "    if item_tag is not None:\n",
    "        if item_tag.startswith(\"q-\"):\n",
    "            entity_type = \"item\"\n",
    "        elif item_tag.startswith(\"p-\"):\n",
    "            entity_type = \"property\"   \n",
    "    \n",
    "    if entity_type == \"item\":\n",
    "        srnamespace = 0\n",
    "    elif entity_type == \"property\":\n",
    "        srnamespace = 120\n",
    "    else:\n",
    "        raise ValueError(\"entity_type must be either 'property' or 'item'\")      \n",
    "        \n",
    "    url = \"https://www.wikidata.org/w/api.php\"\n",
    "    params = {\n",
    "        \"action\": \"query\",\n",
    "        \"list\": \"search\",\n",
    "        \"srsearch\": search,\n",
    "        \"srnamespace\": srnamespace,\n",
    "        \"srlimit\": 5,\n",
    "        \"srqiprofile\": srqiprofile,\n",
    "        \"format\": \"json\"\n",
    "    }\n",
    "    headers = {'Accept': 'application/json'}\n",
    "\n",
    "    response = requests.get(url, headers=headers, params=params)\n",
    "        \n",
    "    if response.status_code == 200:\n",
    "        results = get_nested_value(response.json(), ['query', 'search'])\n",
    "        if results and len(results) > 0:\n",
    "            title = results[0]['title']\n",
    "            # properties are returned with a prefix 'property:'\n",
    "            return results[0]['title'].split(':')[-1]\n",
    "        else:\n",
    "            print(f\"No {entity_type} found for '{search}'\")\n",
    "            return \"\"\n",
    "    else:\n",
    "        print(f\"Request failed with status code {response.status_code}\")\n",
    "        return \"\""
   ]
  },
  {
   "cell_type": "code",
   "execution_count": 16,
   "id": "0857e524-dca3-44ac-a77e-b317b1de88e5",
   "metadata": {},
   "outputs": [],
   "source": [
    "def resolve_query_template(t):\n",
    "    vocab_items = [(v[\"item_tag\"], v[\"item_label_quesses\"]) for v in t[\"vocabulary\"]]\n",
    "    # since this is not a proper template, we use \"replace\" below\n",
    "    # so we need to be careful that some tags may be prefixes of others\n",
    "    # sorting them by tag length avoids that\n",
    "    vocab_items = sorted(vocab_items, key=lambda x: x[0], reverse=True)\n",
    "    resolved_vocabulary = {item_tag: vocab_lookup(item_label_quesses[0], item_tag=item_tag) for item_tag, item_label_quesses in vocab_items}\n",
    "    query = t['query_template']\n",
    "    for item_tag, item_id in resolved_vocabulary.items():\n",
    "        query = query.replace(item_tag, item_id)\n",
    "    result = query\n",
    "    return result"
   ]
  },
  {
   "cell_type": "code",
   "execution_count": 17,
   "id": "320a464d-b540-4cd0-9132-0df48bb4e8d5",
   "metadata": {},
   "outputs": [
    {
     "data": {
      "text/plain": [
       "'SELECT ?id WHERE { wd:Q273256 wdt:P2685 ?id }'"
      ]
     },
     "execution_count": 17,
     "metadata": {},
     "output_type": "execute_result"
    }
   ],
   "source": [
    "resolve_query_template(query_template)"
   ]
  },
  {
   "cell_type": "code",
   "execution_count": 18,
   "id": "cf31fe60-219b-4d66-9686-4d76eb38c666",
   "metadata": {},
   "outputs": [],
   "source": [
    "def translator(question):\n",
    "    llm_result = chain.run(question)\n",
    "    try:\n",
    "        query_template = json.loads(llm_result)\n",
    "    except Exception:\n",
    "        query_template = \"\" \n",
    "    query = resolve_query_template(query_template)\n",
    "    return query\n"
   ]
  },
  {
   "cell_type": "code",
   "execution_count": 19,
   "id": "904eb61c-cc48-4f44-b6cf-2454f462030a",
   "metadata": {},
   "outputs": [
    {
     "data": {
      "text/plain": [
       "'SELECT (COUNT(?team) as ?result) WHERE { wd:Q1422 wdt:P1923 ?team }'"
      ]
     },
     "execution_count": 19,
     "metadata": {},
     "output_type": "execute_result"
    }
   ],
   "source": [
    "translator(\"The Juventus F.C. has what number of participating teams?\")"
   ]
  },
  {
   "cell_type": "markdown",
   "id": "94b13a2a-b67f-4e4a-8ded-ff384aabaec2",
   "metadata": {},
   "source": [
    "# Validation testing for Natural Language Question to SPARQL Query"
   ]
  },
  {
   "cell_type": "markdown",
   "id": "8ff2579b-1237-41b2-8e02-c27593712dc4",
   "metadata": {},
   "source": [
    "Create a df for the lcquad queries"
   ]
  },
  {
   "cell_type": "code",
   "execution_count": 20,
   "id": "ba4c75d4-1fea-4b3d-a928-f572397ba45d",
   "metadata": {},
   "outputs": [],
   "source": [
    "import pandas as pd"
   ]
  },
  {
   "cell_type": "code",
   "execution_count": 21,
   "id": "886ad3ea-6071-40c7-b269-f1881280d970",
   "metadata": {},
   "outputs": [],
   "source": [
    "#lcquad_path = \"../../lcquad2.0.train.json\"\n",
    "lcquad_path = \"../training/train.json\"\n",
    "\n",
    "sports_indices = {6144, 16386, 26627, 14339, 22531, 8197, 14343, 2059, 6161, 10263, 28696, 12313, 4127, 16417, 12323, 4133, 12328, 20522, 16427, 12333, 10286, 26672, 28724, 10296, 58, 28731, 10298, 61, 16446, 28739, 26692, 10309, 10310, 8262, 10314, 18508, 24652, 10318, 28755, 10324, 24660, 8276, 10328, 18521, 8285, 95, 96, 26723, 16486, 14439, 20587, 16493, 20594, 10357, 26742, 12407, 14457, 12413, 16509, 20606, 20607, 16513, 14466, 24707, 132, 26755, 10374, 10371, 12419, 16523, 4237, 28818, 6135, 6292, 4245, 12439, 22684, 8353, 26787, 20644, 10405, 22692, 12454, 16550, 10409, 16552, 6316, 28846, 26800, 12464, 22707, 16564, 181, 12470, 10425, 14527, 10432, 16576, 201, 10446, 10448, 16594, 6354, 22741, 24795, 20702, 12510, 10465, 14562, 10470, 26855, 231, 234, 24811, 4336, 6386, 28915, 242, 16631, 10488, 2298, 22780, 4349, 28924, 18685, 22785, 18690, 12548, 24839, 28936, 10505, 8458, 4363, 265, 22798, 271, 28943, 24849, 10517, 278, 10519, 26908, 12576, 10538, 28972, 16684, 4399, 14639, 10544, 10548, 8502, 26935, 20792, 24887, 10553, 10552, 10556, 4413, 16702, 16696, 24895, 10561, 321, 16718, 334, 10578, 8532, 12632, 29017, 10584, 4444, 26973, 10589, 348, 26977, 6498, 24930, 16743, 4456, 4460, 24941, 29042, 2420, 12665, 27001, 14716, 27013, 14729, 4491, 16780, 27022, 16783, 10641, 18833, 24982, 407, 16793, 4506, 27035, 24991, 417, 29090, 27042, 29089, 420, 29094, 4519, 12716, 29101, 16813, 430, 6577, 10673, 8628, 16820, 14334, 20920, 14778, 4539, 10689, 27073, 16841, 2506, 20939, 20940, 20941, 20942, 27087, 29136, 464, 29140, 18902, 14807, 27100, 16860, 10721, 25058, 20966, 23015, 14823, 10729, 490, 6636, 27117, 2543, 20976, 4593, 18930, 14836, 16885, 4598, 25077, 4606, 23039, 20992, 14852, 16901, 18948, 519, 16903, 29193, 29194, 4625, 27154, 14869, 23062, 25111, 23061, 27159, 21018, 16918, 21020, 27166, 10783, 12831, 29221, 6694, 29224, 10793, 10794, 14889, 16943, 25136, 25137, 21042, 2611, 4660, 21045, 14906, 12859, 23100, 16956, 16958, 14908, 19010, 27204, 6725, 29260, 10829, 2637, 12881, 29268, 23124, 10838, 16985, 12891, 4700, 27229, 23134, 23135, 6749, 609, 8802, 21090, 25189, 10856, 17003, 2668, 10861, 2669, 17010, 8818, 29299, 629, 14966, 4728, 10876, 17020, 29313, 10883, 17027, 17030, 23175, 2694, 17034, 17042, 15008, 27296, 4768, 29347, 2724, 25253, 4774, 17059, 6822, 19107, 15018, 19114, 29357, 25261, 17073, 4787, 23220, 25271, 19130, 25275, 699, 4796, 22527, 703, 10946, 4804, 15044, 25286, 712, 4813, 10958, 17102, 15056, 17103, 13011, 21205, 21210, 23259, 10976, 8934, 4838, 10984, 29416, 744, 23281, 15091, '0', 2807, 19193, 4858, 763, 4859, 27388, 21248, 770, 13058, 2820, 17156, 11014, 8968, 17162, 15115, 11019, 2827, 2835, 15126, 23319, 15128, 17177, 17178, 4888, 23324, 4896, 17185, 15140, 25383, 13098, 11054, 27439, 29488, 17200, 29494, 17209, 15164, 25404, 2880, 2883, 9029, 2886, 4935, 27466, 4940, 25421, 9038, 17232, 23382, 19291, 2910, 29535, 25438, 25440, 17250, 9058, 29542, 4968, 2920, 29546, 25453, 27504, 883, 2931, 15223, 25465, 4988, 17277, 29564, 11136, 15235, 9092, 27524, 11144, 15240, 21386, 27530, 29578, 2957, 29583, 7060, 17302, 21404, 11165, 2974, 23452, 17312, 21415, 23464, 19369, 2988, 15277, 2989, 5037, 29620, 17333, 2999, 25528, 25535, 3014, 25543, 23497, 11212, 3021, 5071, 7130, 9184, 993, 3042, 29667, 25570, 25573, 3046, 7140, 15336, 13290, 15340, 11246, 5103, 11249, 25587, 11252, 21495, 25592, 29689, 25594, 9208, 1019, 29693, 17405, 27646, 17408, 15361, 9218, 5122, 11268, 25605, 7169, 5121, 3071, 25609, 17418, 17419, 11274, 11277, 11280, 11281, 15379, 25619, 7196, 3101, 21534, 9247, 25633, 23587, 29733, 17447, 3112, 27687, 21543, 23598, 29743, 15413, 5174, 15415, 11317, 7225, 27706, 27711, 25666, 1091, 3140, 17478, 25671, 25673, 17483, 29773, 25678, 15439, 25680, 7249, 11344, 29782, 5208, 11352, 21595, 11356, 13405, 11358, 17505, 19561, 27757, 15472, 25713, 7288, 17530, 3197, 29824, 21633, 15490, 21635, 3204, 17541, 27781, 17543, 15496, 23685, 5259, 27787, 5262, 7310, 5264, 1171, 21655, 23704, 17560, 11417, 15511, 15516, 11423, 21664, 9378, 15524, 21670, 11431, 25770, 11435, 19633, 11444, 23732, 17589, 21689, 9403, 3260, 13505, 9410, 15560, 17609, 15563, 17613, 7375, 25807, 3287, 27863, 17625, 1245, 11486, 17632, 3297, 7394, 21728, 25829, 19686, 7400, 17643, 15597, 29934, 27890, 19699, 25846, 27896, 3321, 11519, 29954, 3334, 29959, 3335, 17673, 13575, 17671, 25868, 25873, 29971, 21780, 27923, 25876, 3351, 9496, 9497, 27929, 11543, 11548, 11565, 1325, 7474, 27955, 19762, 15668, 11575, 11576, 23869, 3391, 1347, 25926, 15687, 11592, 30024, 9544, 23881, 3404, 15688, 7502, 9546, 23886, 13650, 9564, 3422, 3423, 13669, 28008, 25962, 21866, 11628, 11629, 11626, 28013, 5488, 15732, 5493, 3448, 13691, 17789, 17790, 5501, 7552, 13697, 5503, 19843, 25993, 15755, 7564, 3472, 13713, 21907, 13717, 3478, 17818, 30108, 17825, 3489, 3491, 28066, 28072, 17836, 28076, 5551, 7600, 21940, 9653, 26039, 28091, 9665, 30153, 19915, 21964, 11725, 11726, 26070, 13784, 30171, 15835, 7644, 26078, 1499, 19934, 11753, 30188, 19958, 26104, 19962, 3578, 17918, 30206, 28166, 19976, 9736, 13834, 24078, 15886, 3601, 26129, 22035, 26131, 3606, 28185, 28192, 15905, 9763, 24100, 1573, 9768, 28201, 20010, 9771, 11824, 26160, 3635, 11831, 20025, 28220, 5693, 28222, 20032, 28225, 11845, 20040, 7753, 15946, 7755, 3660, 20045, 3665, 15953, 28244, 28249, 15962, 3673, 9824, 3682, 1639, 15976, 28264, 3690, 3691, 3692, 11886, 18031, 5747, 1653, 28281, 26235, 15998, 20099, 13959, 18056, 11913, 1675, 16012, 18060, 18062, 13977, 22171, 22177, 5797, 28331, 5806, 26287, 22194, 24244, 3765, 18101, 7863, 16055, 16056, 28350, 7872, 26308, 20166, 9928, 7882, 14027, 16074, 7885, 22224, 14033, 16082, 20182, 28374, 22243, 22246, 28391, 18152, 20205, 18160, 5873, 20215, 24312, 24313, 12023, 12032, 20228, 3847, 9992, 26380, 20238, 12047, 10006, 26393, 14107, 22301, 20254, 26399, 16172, 16176, 12082, 22324, 16181, 28472, 14146, 14151, 22344, 12114, 28500, 18262, 14166, 28502, 8024, 22366, 22369, 22371, 16227, 5989, 16230, 22376, 26474, 5996, 28526, 24433, 12148, 18292, 24438, 6009, 16250, 14201, 10109, 8063, 26498, 26507, 22415, 28559, 10129, 14225, 22421, 18327, 12184, 12185, 20380, 12190, 6050, 10146, 10148, 28581, 20394, 18349, 20400, 4021, 10166, 12215, 8121, 16319, 20415, 4037, 10182, 6087, 20424, 1991, 10185, 26565, 4050, 14292, 2010, 22491, 18398, 20452, 28649, 22510, 8175, 10224, 16372, 10229, 4087, 22521, 22522, 20476, 24574, 6143}"
   ]
  },
  {
   "cell_type": "code",
   "execution_count": 22,
   "id": "6a7f536a-1a41-4727-9132-240b8a5edcb9",
   "metadata": {},
   "outputs": [
    {
     "name": "stdout",
     "output_type": "stream",
     "text": [
      "-rwxrwxrwx 1 jstil jstil 26561843 Feb 12 14:22 ../training/train.json\r\n"
     ]
    }
   ],
   "source": [
    "!ls -l {lcquad_path}"
   ]
  },
  {
   "cell_type": "code",
   "execution_count": 25,
   "id": "4dc099c2-ea57-47ac-9167-41b1a2ab4ff0",
   "metadata": {},
   "outputs": [
    {
     "data": {
      "text/html": [
       "<div>\n",
       "<style scoped>\n",
       "    .dataframe tbody tr th:only-of-type {\n",
       "        vertical-align: middle;\n",
       "    }\n",
       "\n",
       "    .dataframe tbody tr th {\n",
       "        vertical-align: top;\n",
       "    }\n",
       "\n",
       "    .dataframe thead th {\n",
       "        text-align: right;\n",
       "    }\n",
       "</style>\n",
       "<table border=\"1\" class=\"dataframe\">\n",
       "  <thead>\n",
       "    <tr style=\"text-align: right;\">\n",
       "      <th></th>\n",
       "      <th>NNQT_question</th>\n",
       "      <th>uid</th>\n",
       "      <th>subgraph</th>\n",
       "      <th>template_index</th>\n",
       "      <th>question</th>\n",
       "      <th>sparql_wikidata</th>\n",
       "      <th>sparql_dbpedia18</th>\n",
       "      <th>template</th>\n",
       "      <th>answer</th>\n",
       "      <th>template_id</th>\n",
       "      <th>paraphrased_question</th>\n",
       "    </tr>\n",
       "  </thead>\n",
       "  <tbody>\n",
       "    <tr>\n",
       "      <th>8</th>\n",
       "      <td>What is &lt;International Olympic Committee athle...</td>\n",
       "      <td>26800</td>\n",
       "      <td>center</td>\n",
       "      <td>1097</td>\n",
       "      <td>What's Mary Lou Retton's International Olympic...</td>\n",
       "      <td>select distinct ?answer where { wd:Q235975 wdt...</td>\n",
       "      <td>select distinct ?answer where { ?statement &lt;ht...</td>\n",
       "      <td>E REF ?F</td>\n",
       "      <td>[]</td>\n",
       "      <td>1.1</td>\n",
       "      <td>[]</td>\n",
       "    </tr>\n",
       "    <tr>\n",
       "      <th>12</th>\n",
       "      <td>Did {Lindsey_Vonn} {participant of} {FIS Alpin...</td>\n",
       "      <td>519</td>\n",
       "      <td>boolean double one_hop right subgraph</td>\n",
       "      <td>19</td>\n",
       "      <td>Did Lindsey Vonn participate in the FIS Alpine...</td>\n",
       "      <td>ASK WHERE { wd:Q10068 wdt:P1344 wd:Q1428251 . ...</td>\n",
       "      <td>ASK { ?statement1 &lt;http://www.w3.org/1999/02/...</td>\n",
       "      <td>Ask (ent-pred-obj1` . ent-pred-obj2)</td>\n",
       "      <td>[]</td>\n",
       "      <td>2</td>\n",
       "      <td>In 1999 and 2019, was Lindsey Vonn in the FIS ...</td>\n",
       "    </tr>\n",
       "    <tr>\n",
       "      <th>17</th>\n",
       "      <td>Did {Judi_Dench} {award received} {Tony Award ...</td>\n",
       "      <td>712</td>\n",
       "      <td>boolean double one_hop right subgraph</td>\n",
       "      <td>212</td>\n",
       "      <td>Did Judi Densch receive a Tony Award for best ...</td>\n",
       "      <td>ASK WHERE { wd:Q28054 wdt:P166 wd:Q640374 . wd...</td>\n",
       "      <td>ASK { ?statement1 &lt;http://www.w3.org/1999/02/...</td>\n",
       "      <td>Ask (ent-pred-obj1` . ent-pred-obj2)</td>\n",
       "      <td>[]</td>\n",
       "      <td>2</td>\n",
       "      <td>Was the Tony Award for best direction of the p...</td>\n",
       "    </tr>\n",
       "    <tr>\n",
       "      <th>20</th>\n",
       "      <td>What is {played by} of {succeded by} of {Sleep...</td>\n",
       "      <td>15164</td>\n",
       "      <td>left-subgraph</td>\n",
       "      <td>86</td>\n",
       "      <td>Who Sleepwalking succeeded in playing Sleepwal...</td>\n",
       "      <td>SELECT ?answer WHERE { wd:Q7539946 wdt:P156 ?X...</td>\n",
       "      <td>SELECT ?answer WHERE { ?statement1 &lt;http://www...</td>\n",
       "      <td>C RCD xD . xD RDE ?E</td>\n",
       "      <td>[]</td>\n",
       "      <td>5</td>\n",
       "      <td>Who Sleepwalking succeeded in playing Sleepwal...</td>\n",
       "    </tr>\n",
       "    <tr>\n",
       "      <th>42</th>\n",
       "      <td>What is the {medal} for {award received} of {A...</td>\n",
       "      <td>29959</td>\n",
       "      <td>simple question right</td>\n",
       "      <td>1550</td>\n",
       "      <td>What is the medal Angela Lansbury recieved?</td>\n",
       "      <td>select distinct ?obj where { wd:Q206856 wdt:P...</td>\n",
       "      <td>select distinct ?obj where { ?statement &lt;http:...</td>\n",
       "      <td>&lt;S P ?O ; ?O instanceOf Type&gt;</td>\n",
       "      <td>[]</td>\n",
       "      <td>1</td>\n",
       "      <td>[]</td>\n",
       "    </tr>\n",
       "    <tr>\n",
       "      <th>...</th>\n",
       "      <td>...</td>\n",
       "      <td>...</td>\n",
       "      <td>...</td>\n",
       "      <td>...</td>\n",
       "      <td>...</td>\n",
       "      <td>...</td>\n",
       "      <td>...</td>\n",
       "      <td>...</td>\n",
       "      <td>...</td>\n",
       "      <td>...</td>\n",
       "      <td>...</td>\n",
       "    </tr>\n",
       "    <tr>\n",
       "      <th>2235</th>\n",
       "      <td>What is &lt;review score&gt; of &lt;12 Angry Men&gt; ?</td>\n",
       "      <td>28244</td>\n",
       "      <td>center</td>\n",
       "      <td>2541</td>\n",
       "      <td>Which is the review score for 12 Angry Men?</td>\n",
       "      <td>select distinct ?answer where { wd:Q2345 wdt:P...</td>\n",
       "      <td>select distinct ?answer where { ?statement &lt;ht...</td>\n",
       "      <td>E REF ?F</td>\n",
       "      <td>[]</td>\n",
       "      <td>1.1</td>\n",
       "      <td>[]</td>\n",
       "    </tr>\n",
       "    <tr>\n",
       "      <th>2238</th>\n",
       "      <td>What is {member of sports team} of {Michael Jo...</td>\n",
       "      <td>11435</td>\n",
       "      <td>[]</td>\n",
       "      <td>903</td>\n",
       "      <td>Who does Michael Jordan play for and how many ...</td>\n",
       "      <td>SELECT ?value1 ?obj WHERE { wd:Q41421 p:P54 ?s...</td>\n",
       "      <td>select distinct ?dataprop1 ?obj where { ?state...</td>\n",
       "      <td>[]</td>\n",
       "      <td>[]</td>\n",
       "      <td>3</td>\n",
       "      <td>Who does Michael Jordan play for and how numer...</td>\n",
       "    </tr>\n",
       "    <tr>\n",
       "      <th>2258</th>\n",
       "      <td>What is {craft} of {Steve Gerber}, that has {f...</td>\n",
       "      <td>14146</td>\n",
       "      <td>right-subgraph</td>\n",
       "      <td>3851</td>\n",
       "      <td>In the field of screenplays, what is Steve Ger...</td>\n",
       "      <td>SELECT ?answer WHERE { wd:Q2569995 wdt:P106 ?a...</td>\n",
       "      <td>SELECT ?answer WHERE { ?statement1 &lt;http://www...</td>\n",
       "      <td>E REF ?F . ?F RFG G</td>\n",
       "      <td>[]</td>\n",
       "      <td>1</td>\n",
       "      <td>What is Steve Gerber's craft in the screenplay...</td>\n",
       "    </tr>\n",
       "    <tr>\n",
       "      <th>2264</th>\n",
       "      <td>what is the {end time} for {Pedro Martinez} ha...</td>\n",
       "      <td>8175</td>\n",
       "      <td>statement_property</td>\n",
       "      <td>4620</td>\n",
       "      <td>When did Pedro Martinez stop playing for the B...</td>\n",
       "      <td>SELECT ?value WHERE { wd:Q726918 p:P54 ?s . ?s...</td>\n",
       "      <td>select distinct ?value  where {\\n?statement &lt;h...</td>\n",
       "      <td>(E pred ?Obj ) prop value</td>\n",
       "      <td>[]</td>\n",
       "      <td>statement_property_1</td>\n",
       "      <td>Give me the date Pedro Martinez stopped playin...</td>\n",
       "    </tr>\n",
       "    <tr>\n",
       "      <th>2282</th>\n",
       "      <td>Did {Srinivasa_Ramanujan} {field of work} {num...</td>\n",
       "      <td>96</td>\n",
       "      <td>boolean one_hop right subgraph</td>\n",
       "      <td>96</td>\n",
       "      <td>Was Srinivasa Ramanujan's field of work number...</td>\n",
       "      <td>ASK WHERE { wd:Q83163 wdt:P101 wd:Q12479 }</td>\n",
       "      <td>ASK { ?statement1 &lt;http://www.w3.org/1999/02/...</td>\n",
       "      <td>Ask (ent-pred-obj)</td>\n",
       "      <td>[]</td>\n",
       "      <td>1</td>\n",
       "      <td>Did Srinivasa Ramanujan do number theory?</td>\n",
       "    </tr>\n",
       "  </tbody>\n",
       "</table>\n",
       "<p>100 rows × 11 columns</p>\n",
       "</div>"
      ],
      "text/plain": [
       "                                          NNQT_question    uid  \\\n",
       "8     What is <International Olympic Committee athle...  26800   \n",
       "12    Did {Lindsey_Vonn} {participant of} {FIS Alpin...    519   \n",
       "17    Did {Judi_Dench} {award received} {Tony Award ...    712   \n",
       "20    What is {played by} of {succeded by} of {Sleep...  15164   \n",
       "42    What is the {medal} for {award received} of {A...  29959   \n",
       "...                                                 ...    ...   \n",
       "2235         What is <review score> of <12 Angry Men> ?  28244   \n",
       "2238  What is {member of sports team} of {Michael Jo...  11435   \n",
       "2258  What is {craft} of {Steve Gerber}, that has {f...  14146   \n",
       "2264  what is the {end time} for {Pedro Martinez} ha...   8175   \n",
       "2282  Did {Srinivasa_Ramanujan} {field of work} {num...     96   \n",
       "\n",
       "                                   subgraph  template_index  \\\n",
       "8                                    center            1097   \n",
       "12    boolean double one_hop right subgraph              19   \n",
       "17    boolean double one_hop right subgraph             212   \n",
       "20                            left-subgraph              86   \n",
       "42                    simple question right            1550   \n",
       "...                                     ...             ...   \n",
       "2235                                 center            2541   \n",
       "2238                                     []             903   \n",
       "2258                         right-subgraph            3851   \n",
       "2264                     statement_property            4620   \n",
       "2282         boolean one_hop right subgraph              96   \n",
       "\n",
       "                                               question  \\\n",
       "8     What's Mary Lou Retton's International Olympic...   \n",
       "12    Did Lindsey Vonn participate in the FIS Alpine...   \n",
       "17    Did Judi Densch receive a Tony Award for best ...   \n",
       "20    Who Sleepwalking succeeded in playing Sleepwal...   \n",
       "42          What is the medal Angela Lansbury recieved?   \n",
       "...                                                 ...   \n",
       "2235        Which is the review score for 12 Angry Men?   \n",
       "2238  Who does Michael Jordan play for and how many ...   \n",
       "2258  In the field of screenplays, what is Steve Ger...   \n",
       "2264  When did Pedro Martinez stop playing for the B...   \n",
       "2282  Was Srinivasa Ramanujan's field of work number...   \n",
       "\n",
       "                                        sparql_wikidata  \\\n",
       "8     select distinct ?answer where { wd:Q235975 wdt...   \n",
       "12    ASK WHERE { wd:Q10068 wdt:P1344 wd:Q1428251 . ...   \n",
       "17    ASK WHERE { wd:Q28054 wdt:P166 wd:Q640374 . wd...   \n",
       "20    SELECT ?answer WHERE { wd:Q7539946 wdt:P156 ?X...   \n",
       "42     select distinct ?obj where { wd:Q206856 wdt:P...   \n",
       "...                                                 ...   \n",
       "2235  select distinct ?answer where { wd:Q2345 wdt:P...   \n",
       "2238  SELECT ?value1 ?obj WHERE { wd:Q41421 p:P54 ?s...   \n",
       "2258  SELECT ?answer WHERE { wd:Q2569995 wdt:P106 ?a...   \n",
       "2264  SELECT ?value WHERE { wd:Q726918 p:P54 ?s . ?s...   \n",
       "2282         ASK WHERE { wd:Q83163 wdt:P101 wd:Q12479 }   \n",
       "\n",
       "                                       sparql_dbpedia18  \\\n",
       "8     select distinct ?answer where { ?statement <ht...   \n",
       "12     ASK { ?statement1 <http://www.w3.org/1999/02/...   \n",
       "17     ASK { ?statement1 <http://www.w3.org/1999/02/...   \n",
       "20    SELECT ?answer WHERE { ?statement1 <http://www...   \n",
       "42    select distinct ?obj where { ?statement <http:...   \n",
       "...                                                 ...   \n",
       "2235  select distinct ?answer where { ?statement <ht...   \n",
       "2238  select distinct ?dataprop1 ?obj where { ?state...   \n",
       "2258  SELECT ?answer WHERE { ?statement1 <http://www...   \n",
       "2264  select distinct ?value  where {\\n?statement <h...   \n",
       "2282   ASK { ?statement1 <http://www.w3.org/1999/02/...   \n",
       "\n",
       "                                  template answer           template_id  \\\n",
       "8                                 E REF ?F     []                   1.1   \n",
       "12    Ask (ent-pred-obj1` . ent-pred-obj2)     []                     2   \n",
       "17    Ask (ent-pred-obj1` . ent-pred-obj2)     []                     2   \n",
       "20                    C RCD xD . xD RDE ?E     []                     5   \n",
       "42           <S P ?O ; ?O instanceOf Type>     []                     1   \n",
       "...                                    ...    ...                   ...   \n",
       "2235                              E REF ?F     []                   1.1   \n",
       "2238                                    []     []                     3   \n",
       "2258                   E REF ?F . ?F RFG G     []                     1   \n",
       "2264             (E pred ?Obj ) prop value     []  statement_property_1   \n",
       "2282                    Ask (ent-pred-obj)     []                     1   \n",
       "\n",
       "                                   paraphrased_question  \n",
       "8                                                    []  \n",
       "12    In 1999 and 2019, was Lindsey Vonn in the FIS ...  \n",
       "17    Was the Tony Award for best direction of the p...  \n",
       "20    Who Sleepwalking succeeded in playing Sleepwal...  \n",
       "42                                                   []  \n",
       "...                                                 ...  \n",
       "2235                                                 []  \n",
       "2238  Who does Michael Jordan play for and how numer...  \n",
       "2258  What is Steve Gerber's craft in the screenplay...  \n",
       "2264  Give me the date Pedro Martinez stopped playin...  \n",
       "2282          Did Srinivasa Ramanujan do number theory?  \n",
       "\n",
       "[100 rows x 11 columns]"
      ]
     },
     "execution_count": 25,
     "metadata": {},
     "output_type": "execute_result"
    }
   ],
   "source": [
    "lcquad_df = pd.read_json(lcquad_path)\n",
    "lcquad_df = lcquad_df.dropna(subset=['uid', 'question', 'sparql_wikidata', 'template_id'])\n",
    "lcquad_df = lcquad_df[lcquad_df['uid'].isin(sports_indices)]\n",
    "lcquad_df.head(100)"
   ]
  },
  {
   "cell_type": "code",
   "execution_count": 24,
   "id": "8eb2eb73-5c48-4590-98bb-a4b9b995adca",
   "metadata": {},
   "outputs": [
    {
     "data": {
      "text/plain": [
       "958"
      ]
     },
     "execution_count": 24,
     "metadata": {},
     "output_type": "execute_result"
    }
   ],
   "source": [
    "len(lcquad_df)"
   ]
  },
  {
   "cell_type": "code",
   "execution_count": null,
   "id": "c0276e38",
   "metadata": {},
   "outputs": [],
   "source": [
    "s_uid = [26800, 15164, 4940, 9496, 26235, 11519, 1245, 2010, 2668, 3197, 25535, 27955, 15439, 10958] \n",
    "s_temp = ['1.1', 5, 'statement_property_1', '1', '1.2', 3, 'Count_1', 'Count_2', 'Rank1', 5, 'statement_property_1', '1.1', 5, '1.1']\n",
    "# 2, statement_property_2, 4, Rank2"
   ]
  },
  {
   "cell_type": "code",
   "execution_count": 118,
   "id": "99619d49",
   "metadata": {},
   "outputs": [],
   "source": [
    "templates = ['1.1', 2, 5, 1, 'statement_property_1', '1', 'Rank2',\n",
    "             'statement_property_2', '1.2', 4, 3, 'Count_1', 'Count_2', 'Rank1']\n",
    "template_questions = []\n",
    "template_uids = []\n",
    "\n",
    "for t in templates:\n",
    "    row = lcquad_df.loc[lcquad_df['template_id'] == t].iloc[0]\n",
    "    template_questions.append(row['sparql_wikidata'])\n",
    "    template_uids.append(row['uid'])"
   ]
  },
  {
   "cell_type": "markdown",
   "id": "db545990-0e20-4fd9-ac2b-d7781625f8d8",
   "metadata": {},
   "source": [
    "Make a sparql runner"
   ]
  },
  {
   "cell_type": "code",
   "execution_count": 41,
   "id": "61624c3d-940d-4eae-afbb-1c5d01a856ca",
   "metadata": {},
   "outputs": [],
   "source": [
    "from wikibaseintegrator import wbi_helpers\n",
    "from wikibaseintegrator.wbi_config import config as wbi_config\n",
    "import logging"
   ]
  },
  {
   "cell_type": "code",
   "execution_count": 42,
   "id": "b960e274-9550-42d7-b0e4-d83b1b806fd8",
   "metadata": {},
   "outputs": [],
   "source": [
    "wbi_config['USER_AGENT'] = 'AskwikiBot/1.0 (https://www.wikidata.org/wiki/User:What_Tottles_Meant)'\n",
    "wbi_config['BACKOFF_MAX_TRIES'] = 1\n"
   ]
  },
  {
   "cell_type": "code",
   "execution_count": 43,
   "id": "3cd32311-0301-4c8a-b063-b08b9df109e3",
   "metadata": {},
   "outputs": [],
   "source": [
    "from requests.exceptions import HTTPError\n",
    "\n",
    "def run_sparql(query):\n",
    "    try:\n",
    "        results = wbi_helpers.execute_sparql_query(query)\n",
    "    except HTTPError as he:\n",
    "        logging.error(f'HTTPError {he}')\n",
    "        print(f\"failed query {query}\")\n",
    "        return None\n",
    "    # print(results)\n",
    "    if 'boolean' in results:\n",
    "        return pd.DataFrame([{'Boolean': results['boolean'] }])\n",
    "    jsonResult = [dict([(k, b[k]['value']) for k in b]) for b in results['results']['bindings']]\n",
    "    df = pd.DataFrame.from_dict(jsonResult)\n",
    "    return df\n"
   ]
  },
  {
   "cell_type": "code",
   "execution_count": 44,
   "id": "657738fc-68eb-4660-aa2b-92a0eb3aa7d0",
   "metadata": {},
   "outputs": [],
   "source": [
    "import requests\n",
    "from typing import List, Dict, Any\n",
    "\n",
    "def run_sparql(query: str) -> List[Dict[str, Any]]:\n",
    "    url = 'https://query.wikidata.org/sparql'\n",
    "    headers = {\n",
    "        'Accept': 'application/json',\n",
    "        'User-Agent': 'AskwikiBot/1.0 (https://www.wikidata.org/wiki/User:What_Tottles_Meant)'\n",
    "    }\n",
    "\n",
    "    response = requests.get(url, headers=headers, params={'query': query, 'format': 'json'})\n",
    "\n",
    "    if response.status_code == 200:\n",
    "        results = response.json().get('results', {}).get('bindings', [])\n",
    "        return results\n",
    "    else:\n",
    "        print(f\"Request failed with status code {response.status_code}\")\n",
    "        return None\n"
   ]
  },
  {
   "cell_type": "code",
   "execution_count": 45,
   "id": "63f84d50-a2ef-4178-9d88-cd945e763ab6",
   "metadata": {},
   "outputs": [],
   "source": [
    "import time\n",
    "def validate_queries(qs):\n",
    "    validation_results = []\n",
    "    count = 0\n",
    "    for q in qs:\n",
    "        print(count)\n",
    "        if not 'limit' in q.lower():\n",
    "            q += ' limit 100'\n",
    "        print(q)\n",
    "        df = run_sparql(q)\n",
    "        result_count = 0\n",
    "        if df is None:\n",
    "            run_result = 'Fail'\n",
    "            print(f\"Failed query number {count}\")\n",
    "        else:\n",
    "            run_result = 'Pass'\n",
    "            result_count = len(df)\n",
    "        validation_results.append((run_result, result_count))\n",
    "        count += 1\n",
    "        time.sleep(2)\n",
    "    return validation_results "
   ]
  },
  {
   "cell_type": "code",
   "execution_count": 69,
   "id": "f67a35a0-915e-4db8-93fe-90d32618bbb3",
   "metadata": {},
   "outputs": [
    {
     "name": "stdout",
     "output_type": "stream",
     "text": [
      "0\n",
      " select distinct ?obj where { wd:Q188920 wdt:P2813 ?obj . ?obj wdt:P31 wd:Q1002697 }  limit 100\n",
      "1\n",
      "SELECT ?answer WHERE { wd:Q169794 wdt:P26 ?X . ?X wdt:P22 ?answer} limit 100\n",
      "2\n",
      "ASK WHERE { wd:Q174843 wdt:P106 wd:Q1804811 . wd:Q174843 wdt:P106 wd:Q33231 } limit 100\n",
      "Request failed with status code 400\n",
      "Failed query number 2\n",
      "3\n",
      "SELECT ?answer WHERE { wd:Q675176 wdt:P515 ?X . ?X wdt:P156 ?answer} limit 100\n",
      "4\n",
      "select distinct ?answer where { wd:Q32491 wdt:P3362 ?answer} limit 100\n",
      "5\n",
      "SELECT DISTINCT ?sbj ?sbj_label WHERE { ?sbj wdt:P31 wd:Q134041 . ?sbj rdfs:label ?sbj_label . FILTER(STRSTARTS(lcase(?sbj_label), 'p')) . FILTER (lang(?sbj_label) = 'en') } LIMIT 25 \n"
     ]
    }
   ],
   "source": [
    "v = validate_queries(lcquad_df['sparql_wikidata'].loc[0:5])"
   ]
  },
  {
   "cell_type": "code",
   "execution_count": 30,
   "id": "2c4e62f0-9a38-4db1-bcc2-41ede86d669b",
   "metadata": {},
   "outputs": [],
   "source": [
    "v_df = pd.DataFrame(v)"
   ]
  },
  {
   "cell_type": "code",
   "execution_count": 31,
   "id": "41aab68f-a909-4435-bdc3-a54c9310a257",
   "metadata": {},
   "outputs": [
    {
     "data": {
      "text/plain": [
       "5"
      ]
     },
     "execution_count": 31,
     "metadata": {},
     "output_type": "execute_result"
    }
   ],
   "source": [
    "len(v_df[v_df[0] == 'Pass'])"
   ]
  },
  {
   "cell_type": "markdown",
   "id": "82d44f81-0359-4e1b-b1eb-db1f3c86b601",
   "metadata": {},
   "source": [
    "    \n",
    "## Validate the queries"
   ]
  },
  {
   "cell_type": "code",
   "execution_count": 51,
   "id": "52fd2e83-34d9-43bf-9c88-2adfe3bde247",
   "metadata": {},
   "outputs": [],
   "source": [
    "def generate_sparql(question):\n",
    "    sparql = translator(f\"translate English to SPARQL: {question}\")\n",
    "    logging.info(f'sparql {sparql}')\n",
    "    return sparql\n"
   ]
  },
  {
   "cell_type": "code",
   "execution_count": 33,
   "id": "d06ccf51-e8b3-43f7-9a36-2087b8e5c15c",
   "metadata": {},
   "outputs": [
    {
     "data": {
      "text/plain": [
       "\"SELECT ?type (COUNT(?disease) AS ?count) WHERE { ?disease wdt:P31 ?type . ?disease rdfs:label ?label . FILTER(LANG(?label) = 'en') FILTER(CONTAINS(LCASE(?label), 'liver infection')) } GROUP BY ?type ORDER BY DESC(?count) LIMIT 10\""
      ]
     },
     "execution_count": 33,
     "metadata": {},
     "output_type": "execute_result"
    }
   ],
   "source": [
    "generate_sparql('What are the most common types of liver infection')"
   ]
  },
  {
   "cell_type": "code",
   "execution_count": 52,
   "id": "92be221e-e0c3-4da6-bc38-2cebd91ab21d",
   "metadata": {},
   "outputs": [],
   "source": [
    "def generate_lots_of_sparql(l):\n",
    "    result = []\n",
    "    count = 0\n",
    "    for s in l:\n",
    "        # if count % 10 == 0:\n",
    "        print(s) \n",
    "        print(count)\n",
    "        try:\n",
    "            sp = generate_sparql(s)\n",
    "        except Exception:\n",
    "            sp = \"\"\n",
    "        result.append(sp)\n",
    "        count += 1\n",
    "    print(count)\n",
    "    return result\n"
   ]
  },
  {
   "cell_type": "code",
   "execution_count": null,
   "id": "768be71f",
   "metadata": {},
   "outputs": [],
   "source": []
  },
  {
   "cell_type": "code",
   "execution_count": 150,
   "id": "636dc58f-6bc9-421b-8dc6-4e08b9e69962",
   "metadata": {
    "jupyter": {
     "outputs_hidden": true
    },
    "tags": []
   },
   "outputs": [
    {
     "name": "stdout",
     "output_type": "stream",
     "text": [
      "SELECT ?answer WHERE { wd:Q600751 wdt:P425 ?X . ?X wdt:P461 ?answer}\n",
      "0\n",
      "1\n",
      "CPU times: user 33.5 ms, sys: 2.15 ms, total: 35.7 ms\n",
      "Wall time: 5.44 s\n"
     ]
    }
   ],
   "source": [
    "%%time\n",
    "#queries = generate_lots_of_sparql(lcquad_df['question'].loc[50:549])\n",
    "queries = generate_lots_of_sparql(template_questions)"
   ]
  },
  {
   "cell_type": "code",
   "execution_count": 36,
   "id": "1188317c-7308-4d16-8d3e-a444cac71ee7",
   "metadata": {},
   "outputs": [
    {
     "data": {
      "text/plain": [
       "500"
      ]
     },
     "execution_count": 36,
     "metadata": {},
     "output_type": "execute_result"
    }
   ],
   "source": [
    "len(queries)"
   ]
  },
  {
   "cell_type": "code",
   "execution_count": 40,
   "id": "107452e2-52f1-4595-95bc-28ac3903c801",
   "metadata": {},
   "outputs": [],
   "source": [
    "serialized_list = json.dumps(queries)\n",
    "\n",
    "with open(\"gpt3_turbo_queries.json\", \"w\") as output_file:\n",
    "    output_file.write(serialized_list)\n"
   ]
  },
  {
   "cell_type": "code",
   "execution_count": 151,
   "id": "4f18cd97-d42c-43a1-b5ac-609d6f68d906",
   "metadata": {
    "tags": []
   },
   "outputs": [
    {
     "name": "stdout",
     "output_type": "stream",
     "text": [
      "0\n",
      "SELECT ?answer WHERE { wd:Q600751 wdt:P425 ?X . ?X wdt:P461 ?answer } limit 100\n",
      "CPU times: user 4.25 ms, sys: 8.7 ms, total: 12.9 ms\n",
      "Wall time: 2.16 s\n"
     ]
    }
   ],
   "source": [
    "%%time\n",
    "v = validate_queries(queries)"
   ]
  },
  {
   "cell_type": "code",
   "execution_count": 154,
   "id": "0942ba98",
   "metadata": {},
   "outputs": [
    {
     "name": "stdout",
     "output_type": "stream",
     "text": [
      "[26800, 15164, 29959, 4940, 9496, 3197, 6087, 26235, 25535, 11519, 1245, 2010, 2668, 17010]\n",
      "['1.1', 5, 1, 'statement_property_1', '1', 'Rank2', 'statement_property_2', '1.2', 4, 3, 'Count_1', 'Count_2', 'Rank1', 2]\n"
     ]
    }
   ],
   "source": [
    "print(successful_uid)\n",
    "print(successful_template)"
   ]
  },
  {
   "cell_type": "code",
   "execution_count": 152,
   "id": "831235bb",
   "metadata": {},
   "outputs": [],
   "source": [
    "failed = []\n",
    "successful = []\n",
    "\n",
    "for x in range(len(v)):\n",
    "    if x not in failed:\n",
    "        successful.append(x)\n",
    "\n",
    "\n",
    "for i in successful:\n",
    "    successful_uid.append(template_uids[i])\n",
    "    successful_template.append(templates[i])\n",
    "    \n",
    "    "
   ]
  },
  {
   "cell_type": "code",
   "execution_count": 153,
   "id": "78324955",
   "metadata": {},
   "outputs": [
    {
     "name": "stdout",
     "output_type": "stream",
     "text": [
      "[] ['1.1', 5, 1, 'statement_property_1', '1', 'Rank2', 'statement_property_2', '1.2', 4, 3, 'Count_1', 'Count_2', 'Rank1', 2]\n"
     ]
    }
   ],
   "source": [
    "s = set(successful_template)\n",
    "total_temp = ['1.1', 2, 5, 1, 'statement_property_1', '1', 'Rank2',\n",
    "             'statement_property_2', '1.2', 4, 3, 'Count_1', 'Count_2', 'Rank1']\n",
    "templates = [x for x in total_temp if x not in s]\n",
    "print(templates, successful_template)"
   ]
  },
  {
   "cell_type": "code",
   "execution_count": 149,
   "id": "9c49e8ae",
   "metadata": {},
   "outputs": [],
   "source": [
    "template_questions = []\n",
    "template_uids = []\n",
    "\n",
    "for t in templates:\n",
    "    df = lcquad_df[~lcquad_df.uid.isin(successful_uid)]\n",
    "    row = df.loc[df['template_id'] == t].iloc[8]\n",
    "    template_questions.append(row['sparql_wikidata'])\n",
    "    template_uids.append(row['uid'])"
   ]
  },
  {
   "cell_type": "code",
   "execution_count": 56,
   "id": "dd67aabb-1cf6-49e1-9fe9-750833d10e7b",
   "metadata": {},
   "outputs": [
    {
     "data": {
      "text/plain": [
       "14"
      ]
     },
     "execution_count": 56,
     "metadata": {},
     "output_type": "execute_result"
    }
   ],
   "source": [
    "len(v)\n"
   ]
  },
  {
   "cell_type": "code",
   "execution_count": 55,
   "id": "bd49f870-3d9b-4177-be18-1450ef9e6a1d",
   "metadata": {},
   "outputs": [],
   "source": [
    "v_df = pd.DataFrame(v)"
   ]
  },
  {
   "cell_type": "code",
   "execution_count": 57,
   "id": "ba432f64-b339-4f3f-af43-0416510f0e0e",
   "metadata": {},
   "outputs": [
    {
     "data": {
      "text/plain": [
       "9"
      ]
     },
     "execution_count": 57,
     "metadata": {},
     "output_type": "execute_result"
    }
   ],
   "source": [
    "len(v_df[v_df[0] == 'Pass'])"
   ]
  },
  {
   "cell_type": "code",
   "execution_count": 83,
   "id": "c44a2670-cc31-4846-8dcb-91a9eac32fa9",
   "metadata": {},
   "outputs": [],
   "source": [
    "q = 'SELECT ?facilityLabel WHERE { ?defensive_wall wdt:P846 ?facility . SERVICE wikibase:label { bd:serviceParam wikibase:language \"en\" . } }'"
   ]
  },
  {
   "cell_type": "code",
   "execution_count": 75,
   "id": "4f2059d4-2f7e-41fd-9ada-ebd6c72b55df",
   "metadata": {},
   "outputs": [
    {
     "data": {
      "text/html": [
       "<div>\n",
       "<style scoped>\n",
       "    .dataframe tbody tr th:only-of-type {\n",
       "        vertical-align: middle;\n",
       "    }\n",
       "\n",
       "    .dataframe tbody tr th {\n",
       "        vertical-align: top;\n",
       "    }\n",
       "\n",
       "    .dataframe thead th {\n",
       "        text-align: right;\n",
       "    }\n",
       "</style>\n",
       "<table border=\"1\" class=\"dataframe\">\n",
       "  <thead>\n",
       "    <tr style=\"text-align: right;\">\n",
       "      <th></th>\n",
       "      <th>0</th>\n",
       "      <th>1</th>\n",
       "    </tr>\n",
       "  </thead>\n",
       "  <tbody>\n",
       "    <tr>\n",
       "      <th>0</th>\n",
       "      <td>Pass</td>\n",
       "      <td>0</td>\n",
       "    </tr>\n",
       "    <tr>\n",
       "      <th>1</th>\n",
       "      <td>Pass</td>\n",
       "      <td>0</td>\n",
       "    </tr>\n",
       "    <tr>\n",
       "      <th>2</th>\n",
       "      <td>Pass</td>\n",
       "      <td>0</td>\n",
       "    </tr>\n",
       "    <tr>\n",
       "      <th>3</th>\n",
       "      <td>Fail</td>\n",
       "      <td>0</td>\n",
       "    </tr>\n",
       "    <tr>\n",
       "      <th>4</th>\n",
       "      <td>Pass</td>\n",
       "      <td>0</td>\n",
       "    </tr>\n",
       "    <tr>\n",
       "      <th>...</th>\n",
       "      <td>...</td>\n",
       "      <td>...</td>\n",
       "    </tr>\n",
       "    <tr>\n",
       "      <th>495</th>\n",
       "      <td>Pass</td>\n",
       "      <td>0</td>\n",
       "    </tr>\n",
       "    <tr>\n",
       "      <th>496</th>\n",
       "      <td>Fail</td>\n",
       "      <td>0</td>\n",
       "    </tr>\n",
       "    <tr>\n",
       "      <th>497</th>\n",
       "      <td>Pass</td>\n",
       "      <td>0</td>\n",
       "    </tr>\n",
       "    <tr>\n",
       "      <th>498</th>\n",
       "      <td>Pass</td>\n",
       "      <td>0</td>\n",
       "    </tr>\n",
       "    <tr>\n",
       "      <th>499</th>\n",
       "      <td>Pass</td>\n",
       "      <td>0</td>\n",
       "    </tr>\n",
       "  </tbody>\n",
       "</table>\n",
       "<p>500 rows × 2 columns</p>\n",
       "</div>"
      ],
      "text/plain": [
       "        0  1\n",
       "0    Pass  0\n",
       "1    Pass  0\n",
       "2    Pass  0\n",
       "3    Fail  0\n",
       "4    Pass  0\n",
       "..    ... ..\n",
       "495  Pass  0\n",
       "496  Fail  0\n",
       "497  Pass  0\n",
       "498  Pass  0\n",
       "499  Pass  0\n",
       "\n",
       "[500 rows x 2 columns]"
      ]
     },
     "execution_count": 75,
     "metadata": {},
     "output_type": "execute_result"
    }
   ],
   "source": [
    "v_df"
   ]
  },
  {
   "cell_type": "code",
   "execution_count": 76,
   "id": "da90dadb-7f81-4915-b4af-93a85bad31c8",
   "metadata": {},
   "outputs": [
    {
     "ename": "TypeError",
     "evalue": "string indices must be integers",
     "output_type": "error",
     "traceback": [
      "\u001b[0;31m---------------------------------------------------------------------------\u001b[0m",
      "\u001b[0;31mTypeError\u001b[0m                                 Traceback (most recent call last)",
      "Cell \u001b[0;32mIn[76], line 1\u001b[0m\n\u001b[0;32m----> 1\u001b[0m \u001b[43mtranslator\u001b[49m\u001b[43m(\u001b[49m\u001b[38;5;124;43m\"\u001b[39;49m\u001b[38;5;124;43mWhat is the product with the lowest consumption rate per capita whose has part is paraffin wax?\u001b[39;49m\u001b[38;5;124;43m\"\u001b[39;49m\u001b[43m)\u001b[49m\n",
      "Cell \u001b[0;32mIn[18], line 7\u001b[0m, in \u001b[0;36mtranslator\u001b[0;34m(question)\u001b[0m\n\u001b[1;32m      5\u001b[0m \u001b[38;5;28;01mexcept\u001b[39;00m \u001b[38;5;167;01mException\u001b[39;00m:\n\u001b[1;32m      6\u001b[0m     query_template \u001b[38;5;241m=\u001b[39m \u001b[38;5;124m\"\u001b[39m\u001b[38;5;124m\"\u001b[39m \n\u001b[0;32m----> 7\u001b[0m query \u001b[38;5;241m=\u001b[39m \u001b[43mresolve_query_template\u001b[49m\u001b[43m(\u001b[49m\u001b[43mquery_template\u001b[49m\u001b[43m)\u001b[49m\n\u001b[1;32m      8\u001b[0m \u001b[38;5;28;01mreturn\u001b[39;00m query\n",
      "Cell \u001b[0;32mIn[16], line 2\u001b[0m, in \u001b[0;36mresolve_query_template\u001b[0;34m(t)\u001b[0m\n\u001b[1;32m      1\u001b[0m \u001b[38;5;28;01mdef\u001b[39;00m \u001b[38;5;21mresolve_query_template\u001b[39m(t):\n\u001b[0;32m----> 2\u001b[0m     vocab_items \u001b[38;5;241m=\u001b[39m [(v[\u001b[38;5;124m\"\u001b[39m\u001b[38;5;124mitem_tag\u001b[39m\u001b[38;5;124m\"\u001b[39m], v[\u001b[38;5;124m\"\u001b[39m\u001b[38;5;124mitem_label_quesses\u001b[39m\u001b[38;5;124m\"\u001b[39m]) \u001b[38;5;28;01mfor\u001b[39;00m v \u001b[38;5;129;01min\u001b[39;00m \u001b[43mt\u001b[49m\u001b[43m[\u001b[49m\u001b[38;5;124;43m\"\u001b[39;49m\u001b[38;5;124;43mvocabulary\u001b[39;49m\u001b[38;5;124;43m\"\u001b[39;49m\u001b[43m]\u001b[49m]\n\u001b[1;32m      3\u001b[0m     resolved_vocabulary \u001b[38;5;241m=\u001b[39m {item_tag: vocab_lookup(item_label_quesses[\u001b[38;5;241m0\u001b[39m], item_tag\u001b[38;5;241m=\u001b[39mitem_tag) \u001b[38;5;28;01mfor\u001b[39;00m item_tag, item_label_quesses \u001b[38;5;129;01min\u001b[39;00m vocab_items}\n\u001b[1;32m      4\u001b[0m     query \u001b[38;5;241m=\u001b[39m t[\u001b[38;5;124m'\u001b[39m\u001b[38;5;124mquery_template\u001b[39m\u001b[38;5;124m'\u001b[39m]\n",
      "\u001b[0;31mTypeError\u001b[0m: string indices must be integers"
     ]
    }
   ],
   "source": [
    "translator(\"What is the product with the lowest consumption rate per capita whose has part is paraffin wax?\")"
   ]
  },
  {
   "cell_type": "code",
   "execution_count": 77,
   "id": "152f3fa5-b4b9-4c55-8ac7-a3a7fcf156cb",
   "metadata": {},
   "outputs": [],
   "source": [
    "question = \"What is the product with the lowest consumption rate per capita whose has part is paraffin wax?\""
   ]
  },
  {
   "cell_type": "code",
   "execution_count": 87,
   "id": "928360e2-2225-4c92-85c5-49c2140beb05",
   "metadata": {},
   "outputs": [],
   "source": [
    "question = \"\"\"\n",
    "When did James Thomas Farrell receive the St. Louis Literary Award?\",\n",
    "\"\"\""
   ]
  },
  {
   "cell_type": "code",
   "execution_count": 89,
   "id": "654c1819-b17f-47f0-9f17-5f97eb3aef53",
   "metadata": {},
   "outputs": [
    {
     "name": "stdout",
     "output_type": "stream",
     "text": [
      "{\n",
      "  \"query_template\": \"SELECT ?date WHERE { wd:q-JamesThomasFarrell wdt:p-Award ?award . ?award wdt:p-AwardReceivedDate ?date . ?award wdt:p-AwardReceived ?received . ?received rdfs:label \\\"St. Louis Literary Award\\\"@en }\",\n",
      "  \"vocabulary\": [\n",
      "    {\n",
      "      \"item_tag\": \"q-JamesThomasFarrell\",\n",
      "      \"item_label_quesses\": [\"James Thomas Farrell\", \"Farrell, James Thomas\"]\n",
      "    },\n",
      "    {\n",
      "      \"item_tag\": \"p-Award\",\n",
      "      \"item_label_quesses\": [\"Award\", \"Prize\", \"Honour\"]\n",
      "    },\n",
      "    {\n",
      "      \"item_tag\": \"p-AwardReceivedDate\",\n",
      "      \"item_label_quesses\": [\"Award received date\", \"Date of receiving award\", \"Date received\"]\n",
      "    },\n",
      "    {\n",
      "      \"item_tag\": \"p-AwardReceived\",\n",
      "      \"item_label_quesses\": [\"Award received\", \"Receiving award\", \"Award recipient\"]\n",
      "    }\n",
      "  ]\n",
      "}\n"
     ]
    }
   ],
   "source": [
    "query_template_json = chain.run(question)\n",
    "print(query_template_json)"
   ]
  },
  {
   "cell_type": "code",
   "execution_count": 100,
   "id": "3eb79100-7b29-4540-9fc9-28cbc13a1b20",
   "metadata": {},
   "outputs": [
    {
     "name": "stdout",
     "output_type": "stream",
     "text": [
      "No property found for 'Award received date'\n"
     ]
    },
    {
     "data": {
      "text/plain": [
       "'SELECT ?date WHERE { wd:Q1371154 wdt:P166 ?award . ?award wdt: ?date . ?award wdt:P166 ?received . ?received rdfs:label \"St. Louis Literary Award\"@en }'"
      ]
     },
     "execution_count": 100,
     "metadata": {},
     "output_type": "execute_result"
    }
   ],
   "source": [
    "query_template = json.loads(query_template_json)\n",
    "resolve_query_template(query_template)"
   ]
  },
  {
   "cell_type": "code",
   "execution_count": 97,
   "id": "638ac4ba-2230-4634-bd96-6911b0f24df6",
   "metadata": {},
   "outputs": [],
   "source": [
    "def resolve_query_template(t):\n",
    "    vocab_items = [(v[\"item_tag\"], v[\"item_label_quesses\"]) for v in t[\"vocabulary\"]]\n",
    "    vocab_items = sorted(vocab_items, key=lambda x: x[1], reverse=True)\n",
    "    print(vocab_items)\n",
    "    resolved_vocabulary = {item_tag: vocab_lookup(item_label_quesses[0], item_tag=item_tag) for item_tag, item_label_quesses in vocab_items}\n",
    "    print(resolved_vocabulary)\n",
    "    query = t['query_template']\n",
    "    for item_tag, item_id in resolved_vocabulary.items():\n",
    "        query = query.replace(item_tag, item_id)\n",
    "    result = query\n",
    "    return result"
   ]
  },
  {
   "cell_type": "code",
   "execution_count": 85,
   "id": "39fbaed2-28d7-48bc-8932-46041450f408",
   "metadata": {},
   "outputs": [
    {
     "ename": "TypeError",
     "evalue": "string indices must be integers",
     "output_type": "error",
     "traceback": [
      "\u001b[0;31m---------------------------------------------------------------------------\u001b[0m",
      "\u001b[0;31mTypeError\u001b[0m                                 Traceback (most recent call last)",
      "Cell \u001b[0;32mIn[85], line 1\u001b[0m\n\u001b[0;32m----> 1\u001b[0m \u001b[43mquery_template\u001b[49m\u001b[43m[\u001b[49m\u001b[38;5;124;43m'\u001b[39;49m\u001b[38;5;124;43mvocabulary\u001b[39;49m\u001b[38;5;124;43m'\u001b[39;49m\u001b[43m]\u001b[49m\n",
      "\u001b[0;31mTypeError\u001b[0m: string indices must be integers"
     ]
    }
   ],
   "source": [
    "query_template['vocabulary']"
   ]
  },
  {
   "cell_type": "code",
   "execution_count": 86,
   "id": "d7c73ed8-4424-4608-9b37-0819eee819a5",
   "metadata": {},
   "outputs": [
    {
     "data": {
      "text/plain": [
       "False"
      ]
     },
     "execution_count": 86,
     "metadata": {},
     "output_type": "execute_result"
    }
   ],
   "source": [
    "'limit' in q.lower()"
   ]
  },
  {
   "cell_type": "code",
   "execution_count": null,
   "id": "cc41ae88-2e53-4363-9878-28b26430cb1e",
   "metadata": {},
   "outputs": [],
   "source": []
  }
 ],
 "metadata": {
  "kernelspec": {
   "display_name": "Python 3 (ipykernel)",
   "language": "python",
   "name": "python3"
  },
  "language_info": {
   "codemirror_mode": {
    "name": "ipython",
    "version": 3
   },
   "file_extension": ".py",
   "mimetype": "text/x-python",
   "name": "python",
   "nbconvert_exporter": "python",
   "pygments_lexer": "ipython3",
   "version": "3.10.2"
  }
 },
 "nbformat": 4,
 "nbformat_minor": 5
}
