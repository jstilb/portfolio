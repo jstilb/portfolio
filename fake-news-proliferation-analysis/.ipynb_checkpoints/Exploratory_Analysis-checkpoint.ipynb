{
 "cells": [
  {
   "cell_type": "code",
   "execution_count": null,
   "metadata": {},
   "outputs": [],
   "source": [
    "import matplotlib.pyplot as plt\n",
    "import pandas as pd\n",
    "import re\n",
    "import json\n",
    "import datetime\n",
    "import copy"
   ]
  },
  {
   "cell_type": "code",
   "execution_count": null,
   "metadata": {},
   "outputs": [],
   "source": [
    "%matplotlib inline"
   ]
  },
  {
   "cell_type": "code",
   "execution_count": null,
   "metadata": {},
   "outputs": [],
   "source": [
    "# tweet datasets\n",
    "rdt_tweets = pd.read_csv(\"data/realdonaldtrump.csv\")\n",
    "\n",
    "# articles datasets (must convert .7z into csv https://www.ezyzip.com/convert-7z-to-csv.html)   \n",
    "articles1 = pd.read_csv(\"data/articles1.csv\")\n",
    "articles2 = pd.read_csv(\"data/articles2.csv\")\n",
    "articles3 = pd.read_csv(\"data/articles3.csv\")"
   ]
  },
  {
   "cell_type": "code",
   "execution_count": null,
   "metadata": {},
   "outputs": [],
   "source": [
    "def keyword_search(keyword,  df, column):\n",
    "    \"\"\"searches for a keyword in a specific dataframe column \n",
    "    and returs all matches into a new dataframe\"\"\"\n",
    "    rows = pd.DataFrame()\n",
    "    row = 0\n",
    "    for string in df[column]:\n",
    "        if keyword.upper() in string.upper():\n",
    "            rows = rows.append(df.iloc[row])\n",
    "        row += 1\n",
    "    return rows\n",
    "\n",
    "def sw_to_df(file_name):\n",
    "    \"\"\"converts storywrangling json data into a dataframe\"\"\"\n",
    "    with open(file_name, \"rt\") as f:\n",
    "        data = json.loads(f.read())\n",
    "    \n",
    "    df = pd.DataFrame(columns = [\"date\",\"frequency\"])\n",
    "    \n",
    "    #  parses json and adds to df\n",
    "    for x in data[\"data\"].values():\n",
    "        for y in x:\n",
    "            df = df.append({\"date\": y[0], \"rank\": y[1]}, ignore_index=True)\n",
    "    \n",
    "    df[\"date\"] = pd.to_datetime(df[\"date\"])\n",
    "            \n",
    "    return df\n",
    "\n",
    "\n",
    "def gt_to_df(filename):\n",
    "    \"\"\"converts google trends data to a dataframe\"\"\"\n",
    "    df = pd.read_csv(filename).reset_index()\n",
    "    df = df.rename(columns={df.columns[0]: \"date\", df.columns[1]: \"search_popularity\"})\n",
    "    df = df.drop([0])\n",
    "    df[\"date\"] = pd.to_datetime(df[\"date\"])\n",
    "    df[\"search_popularity\"] = df[\"search_popularity\"].astype('int32')\n",
    "    df = df.reset_index(drop=True)\n",
    "    return df\n",
    "\n",
    "def get_df_by_daterange(dataframe, start_date, end_date):\n",
    "    \"\"\"filters a dateframe by a specific daterange.\n",
    "    date format: YYYY-MM-DD\"\"\"\n",
    "    df = copy.copy(dataframe)\n",
    "    mask = (df[\"date\"] >= start_date) & (df[\"date\"] <= end_date)\n",
    "    df = df.loc[mask].reset_index(drop=True)\n",
    "    return df\n",
    "\n",
    "\n",
    "def group_days_by_week(dataframe, agg):\n",
    "    \"\"\"groups dates by week for twitter data\"\"\"\n",
    "    df = copy.copy(dataframe)\n",
    "    df['date'] = pd.to_datetime(df['date']) - pd.to_timedelta(7, unit='d')\n",
    "    dfe = df.groupby(pd.Grouper(key='date', freq='W-MON'))[agg].sum().reset_index().sort_values('date')\n",
    "    return df"
   ]
  },
  {
   "cell_type": "code",
   "execution_count": null,
   "metadata": {},
   "outputs": [],
   "source": [
    "# \"Crooked Hillary\" Term Analysis\n",
    "ch_tweets = keyword_search(\"Crooked Hillary\", rdt_tweets, 'content')\n",
    "ch_gt = gt_to_df(\"crooked_hillary_google_trends.csv\")\n",
    "\n",
    "# gets Trump's first tweet containing \"Crooked Hillary\"\n",
    "first_ch_tweet = ch_tweets.sort_values(\"date\").iloc[0] \n",
    "\n",
    "# shortens date range of google trends data\n",
    "ch_2016_gt = get_df_by_daterange(ch_gt, \"2016-01-01\", \"2017-01-01\")\n",
    "\n",
    "# plots Trump's first tweet of \"Crooked Hillary\" with google trends data around same time\n",
    "ch_2016_gt.plot(x=\"date\", y=\"search_popularity\", legend=None)\n",
    "plt.axvline(x=first_ch_tweet.date, ymin=0, ymax=100, color=\"red\")\n",
    "plt.title(\"Crooked Hillary Google Searches\")\n",
    "plt.ylabel(\"search popularity\")"
   ]
  },
  {
   "cell_type": "markdown",
   "metadata": {},
   "source": [
    "Donald Trump demonstrates a strong ability to create and amplify trends for media bytes such as \"Crooked Hillary\".  He first tweeted  \"Crooked Hillary\" in April 2016 (red line)and since in the following months, search popularity skyrocketed over the next several months before dropping back down after the November election. "
   ]
  },
  {
   "cell_type": "code",
   "execution_count": null,
   "metadata": {},
   "outputs": [],
   "source": [
    "# trumps tweets containing \"Crooked Hillary\" compared to twitter trends\n",
    "ch_tt = sw_to_df(\"crooked_hillary_twitter_data.json\")\n",
    "ch_16_tweets = get_df_by_daterange(ch_tweets, \"2016-01-01\", \"2017-06-01\")\n",
    "ch_16_tt = get_df_by_daterange(ch_tt, \"2016-01-01\", \"2017-06-01\")\n",
    "ch_16_tt_weeks = group_days_by_week(ch_16_tt, 'frequency')\n",
    "\n",
    "ch_16_tt_weeks.plot(x=\"date\", y=\"rank\", legend=None)\n",
    "for _, row in ch_16_tweets.iterrows():\n",
    "    plt.axvline(x=row.date, color=\"red\", alpha=.05)\n",
    "plt.title(\"Crooked Hillary Twitter Trends\")\n",
    "plt.ylabel(\"rank\")\n",
    "plt.gca().invert_yaxis()"
   ]
  },
  {
   "cell_type": "code",
   "execution_count": null,
   "metadata": {},
   "outputs": [],
   "source": [
    "ch_tt.head()"
   ]
  },
  {
   "cell_type": "markdown",
   "metadata": {},
   "source": [
    "Donald Trump also has the ability to sustain trends. The red lines signifiy all of Donald Trump's tweets containing \"Crooked Hillary\". These tweets align with the highest report months for \"Crooked Hillary\" trends on Twitter. This doesn't necessarily imply causation, but there is a high correlation between the two indicating that he is at least using his influence to contribute to the phenomenon."
   ]
  },
  {
   "cell_type": "code",
   "execution_count": null,
   "metadata": {},
   "outputs": [],
   "source": [
    "# Fake News Term Analysis\n",
    "fn_tweets = keyword_search(\"fake news\", rdt_tweets, 'content')\n",
    "fn_gt = gt_to_df(\"fake_news_google_trends.csv\")\n",
    "\n",
    "# gets Trump's first tweet containing \"Fake News\"\n",
    "first_fn_tweet = fn_tweets.sort_values(\"date\").iloc[0]\n",
    "\n",
    "# plots Trump's first tweet & other tweets of \"Fake News\" with google trends data around same time\n",
    "fn_gt.plot(x=\"date\", y=\"search_popularity\", legend=None)\n",
    "plt.axvline(x=first_fn_tweet.date, ymin=0, ymax=100, color=\"red\")\n",
    "for _, row in fn_tweets.iterrows():\n",
    "    plt.axvline(x=row.date, ymin=0, ymax=100, color=\"red\", alpha=.05)\n",
    "plt.title(\"Fake News Google Trends\")\n",
    "plt.ylabel(\"search popularity\")"
   ]
  },
  {
   "cell_type": "markdown",
   "metadata": {},
   "source": [
    "\"Fake News\" is an interesting case, as there was a solid amount of precedence for the term prior to Donald Trump tweeting about it. However, there is a strong case to be made that Donald Trump popularized it. His inital tweet (dark red line) is an immediate precursor to a massive spike in google searches involving the term. As you notice, there is a sligh spike prior to Donald Trump's inital tweet, but it is important to note that Donald Trump has other media outlets, especially as this was the time of the 2016 election, to utilize. It is also clear that many of Donald Trump's tweets in the following months correlate with spikes in searches (note: these are the first few months of his presidency.)"
   ]
  },
  {
   "cell_type": "code",
   "execution_count": null,
   "metadata": {},
   "outputs": [],
   "source": [
    "# trumps tweets containing \"fake news\" compared to twitter trends\n",
    "fn_tt = sw_to_df(\"fake_news_twitter_data.json\")\n",
    "fn_16_17_tt = get_df_by_daterange(fn_tt, \"2016-06-01\", \"2017-06-01\")\n",
    "fn_16_17_tt_weeks = group_days_by_week(fn_16_17_tt, 'frequency')\n",
    "\n",
    "fn_16_17_tt_weeks.plot(x=\"date\", y=\"rank\", legend=None)\n",
    "plt.gca().invert_yaxis()\n",
    "for _, row in fn_tweets.iterrows():\n",
    "    plt.axvline(x=row.date, ymin=0, ymax=100, color=\"red\", alpha=.05)\n",
    "plt.title(\"Fake News Twitter Trends\")\n",
    "plt.ylabel(\"rank\")"
   ]
  },
  {
   "cell_type": "markdown",
   "metadata": {},
   "source": [
    "The Twitter trends for \"Fake News\" began their spike in ranking in November 2016 (election month) and maintained their top-ranking throughout the following months. The red lines represent Trump's tweets during this time. Again there is no clear indicator that Trump caused this sustained spike in rankings, but there is strong evidence that he contributed to its perpetuation."
   ]
  },
  {
   "cell_type": "code",
   "execution_count": null,
   "metadata": {},
   "outputs": [],
   "source": [
    "# Lamestream Media Term Analysis\n",
    "lm_tweets = keyword_search(\"lamestream media\", rdt_tweets, 'content')\n",
    "lm_gt = gt_to_df(\"lamestream_media_google_trends.csv\")\n",
    "\n",
    "# gets Trump's first tweet containing \"Lamestream Media\"\n",
    "first_lm_tweet = lm_tweets.sort_values(\"date\").iloc[0]\n",
    "\n",
    "# plots Trump's first tweet & other tweets of \"Lamestream Media\" with google trends data around same time\n",
    "lm_gt.plot(x=\"date\", y=\"search_popularity\", legend=None)\n",
    "plt.axvline(x=first_lm_tweet.date, ymin=0, ymax=100, color=\"red\")\n",
    "for _, row in lm_tweets.iterrows():\n",
    "    plt.axvline(x=row.date, ymin=0, ymax=100, color=\"red\", alpha=.05)\n",
    "plt.title(\"Lamestream Media Google Trends\")\n",
    "plt.ylabel(\"search popularity\")"
   ]
  },
  {
   "cell_type": "markdown",
   "metadata": {},
   "source": [
    "\"Lamestream Media\" appears to be a media byte that didn't resonate as some of the others Trump has used during his time. His first tweet does appear to be the catalyst for the spikes in google searches and he tweeted it during many of the same months of the spikes in google searches. However, this media byte never really maintained the same level of magnitude as others have."
   ]
  },
  {
   "cell_type": "code",
   "execution_count": null,
   "metadata": {},
   "outputs": [],
   "source": [
    "# trumps tweets containing \"lamestream media\" compared to twitter trends\n",
    "lm_tt = sw_to_df(\"lamestream_media_twitter_data.json\")\n",
    "lm_19_20_tt = get_df_by_daterange(lm_tt, \"2019-06-01\", \"2020-06-30\")\n",
    "lm_19_20_tt_weeks = group_days_by_week(lm_19_20_tt, 'frequency')\n",
    "\n",
    "lm_19_20_tt_weeks.plot(x=\"date\", y=\"rank\", legend=None)\n",
    "plt.gca().invert_yaxis()\n",
    "for _, row in lm_tweets.iterrows():\n",
    "    plt.axvline(x=row.date, color=\"red\", alpha=.05)\n",
    "plt.title(\"Lamestream Media Twitter Trends\")\n",
    "plt.ylabel(\"rank\")"
   ]
  },
  {
   "cell_type": "markdown",
   "metadata": {},
   "source": [
    "Again, \"Lamestream Media\" appears to be a failed attempt to create a viral media byte. Trump had tweeted the term around the same time as the most prevalent Twitter trends, but these trends were weak and short-lived (plus the data is rather noisy). This demonstrates that while Trump's influence may be powerful, not every attempt to guide the national discussion is successful. "
   ]
  },
  {
   "cell_type": "code",
   "execution_count": null,
   "metadata": {},
   "outputs": [],
   "source": [
    "# gets a df of all articles containing \"fake news\"\n",
    "fn_articles1_df = keyword_search(\"fake news\", articles1, \"content\")\n",
    "fn_articles2_df = keyword_search(\"fake news\", articles2, \"content\")\n",
    "fn_articles3_df = keyword_search(\"fake news\", articles3, \"content\")\n",
    "fn_articles = pd.concat([fn_articles1_df, fn_articles2_df, fn_articles3_df])\n",
    "fn_articles = fn_articles.drop_duplicates().reset_index(drop=True)\n",
    "fn_articles.head()"
   ]
  },
  {
   "cell_type": "code",
   "execution_count": null,
   "metadata": {},
   "outputs": [],
   "source": [
    "# total articles containing \"fake news\"\n",
    "fake_news_count = fn_articles.size\n",
    "\n",
    "# number of articles containing \"fake news\" by publisher\n",
    "fn_articles_by_pub = fn_articles.groupby([\"publication\"]).size().reset_index(name=\"count\")\n",
    "srtd_fn_articles_by_pub = fn_articles_by_pub.sort_values(\"count\", ascending=False)\n",
    "\n",
    "srtd_fn_articles_by_pub.plot.bar(x=\"publication\", y=\"count\", legend=None)\n",
    "plt.title(\"Published Articles Containing 'Fake News'\")\n",
    "plt.ylabel(\"# of articles\")"
   ]
  },
  {
   "cell_type": "markdown",
   "metadata": {},
   "source": [
    "In addition to seeing how Donald Trump creates and amplifies media trends, we wanted to explore how other media outlets play into this equation. First, we examined how many times articles containing \"Fake News\" were published by media outlets. Initally two outliers stand out, Breitbart who published almost 350 articles and Fox News, who published close to 0. There is too little data for us to explore our theories on why Fox News could be so low so we decided to focus on Breitbart's publishing trends and how they related to Donald Trump's tweeting trends."
   ]
  },
  {
   "cell_type": "code",
   "execution_count": null,
   "metadata": {},
   "outputs": [],
   "source": [
    "# breitbart news articles containing \"fake news\" compared to Trump Tweets containing \"fake news\"\n",
    "\n",
    "fn_tweets_16_17 = get_df_by_daterange(fn_tweets, \"2016-01-01\", \"2017-12-31\")\n",
    "\n",
    "# get breitbart article count containing \"fake news\"\n",
    "fn_articles_by_date = fn_articles.groupby([\"date\", \"publication\"]).size().reset_index(name=\"count\")\n",
    "breit_fn_articles_by_date = fn_articles_by_date[fn_articles_by_date.publication == \"Breitbart\"]\n",
    "srtd_breit_fn_articles_by_date = breit_fn_articles_by_date.sort_values(\"date\", ascending=True)\n",
    "srtd_breit_fn_articles_by_date = get_df_by_daterange(srtd_breit_fn_articles_by_date, \"2016-01-01\", \"2017-12-31\")\n",
    "\n",
    "# plot dates by month\n",
    "srtd_breit_fn_articles_by_date['date'] = pd.to_datetime(srtd_breit_fn_articles_by_date['date'])\n",
    "srtd_breit_fn_articles_by_date.set_index('date', inplace = True)\n",
    "srtd_breit_fn_articles_by_date.resample('1M').count()['count'].plot()\n",
    "\n",
    "# plot trump tweets\n",
    "plt.axvline(x=first_fn_tweet.date, color=\"red\")\n",
    "for _, row in fn_tweets_16_17.iterrows():\n",
    "    plt.axvline(x=row.date, ymin=0, ymax=100, color=\"red\", alpha=.05)\n",
    "plt.title(\"Published Breitbart Articles Containing 'Fake News'\")\n",
    "plt.ylabel(\"# of articles\")\n",
    "plt.ylim((0, 30))"
   ]
  },
  {
   "cell_type": "markdown",
   "metadata": {},
   "source": [
    "Breitbart's publishing of articles containing \"Fake News\" skyrocketed starting in November 2016 (election month) and reached its peak in December 2016. Trump's tweets containing \"Fake News\" began around the same tim, starting in December and continuing throughout the next several months at a steady pace. Whether Breitbart (a far-right conservative network) began matching Donald Trump's rhetoric or vice versa is unclear, but there is a clear link between the two and how the information is disemminated."
   ]
  },
  {
   "cell_type": "code",
   "execution_count": null,
   "metadata": {},
   "outputs": [],
   "source": [
    "# plot trump tweets with all articles containing \"fake news\"\n",
    "srtd_fn_articles_by_date = fn_articles_by_date.sort_values(\"date\", ascending=True)\n",
    "\n",
    "# group dates by month\n",
    "srtd_fn_articles_by_date['date'] = pd.to_datetime(srtd_fn_articles_by_date['date'])\n",
    "srtd_fn_articles_by_date.set_index('date', inplace = True)\n",
    "srtd_fn_articles_by_date.resample('1M').count()['count'].plot()\n",
    "\n",
    "plt.axvline(x=first_fn_tweet.date, color=\"red\")\n",
    "for _, row in fn_tweets_16_17.iterrows():\n",
    "    plt.axvline(x=row.date, ymin=0, ymax=100, color=\"red\", alpha=.05)\n",
    "    \n",
    "plt.ylim((0, 200))\n",
    "plt.title(\"Published Articles Containing 'Fake News'\")\n",
    "plt.ylabel(\"# of articles\")"
   ]
  },
  {
   "cell_type": "markdown",
   "metadata": {},
   "source": [
    "Above are the number of articles containing \"Fake News\" published by all media outlets in our datset. This is the first major piece of evidence that Donald Trump is the primary driving force in terms of media influence. His first tweet (in dark red) is the start of a trend of articles containing \"Fake News\" across many different publications, not just far-right media such as Breitbart. Regardless of which side the publications take, it is clear that Donald Trump has the ability to influence the discussion being held."
   ]
  },
  {
   "cell_type": "code",
   "execution_count": null,
   "metadata": {},
   "outputs": [],
   "source": [
    "# gets a df of all articles containing \"lamestream media\"\n",
    "lm_articles1_df = keyword_search(\"lamestream media\", articles1, \"content\")\n",
    "lm_articles2_df = keyword_search(\"lamestream media\", articles2, \"content\")\n",
    "lm_articles3_df = keyword_search(\"lamestream media\", articles3, \"content\")\n",
    "lm_articles = pd.concat([lm_articles1_df, lm_articles2_df, lm_articles3_df])\n",
    "lm_articles = lm_articles.drop_duplicates().reset_index(drop=True)\n",
    "lm_articles.head()"
   ]
  },
  {
   "cell_type": "code",
   "execution_count": null,
   "metadata": {},
   "outputs": [],
   "source": [
    "# total articles containing \"lamestream media\"\n",
    "lamestream_media_count = lm_articles.size\n",
    "\n",
    "# number of articles containing \"lamestream media\" by publisher\n",
    "lm_articles_by_pub = lm_articles.groupby([\"publication\"]).size().reset_index(name=\"count\")\n",
    "srtd_lm_articles_by_pub = lm_articles_by_pub.sort_values(\"count\", ascending=False)\n",
    "\n",
    "srtd_lm_articles_by_pub.plot.bar(x=\"publication\", y=\"count\", legend=None)\n",
    "plt.title(\"Published Articles Containing 'Lamestream Media'\")\n",
    "plt.ylabel(\"# of articles\")"
   ]
  },
  {
   "cell_type": "markdown",
   "metadata": {},
   "source": [
    "\"Lamestream Media\" was a term that never really took off on Twitter or on Google, making it no surprise that there aren't many published articles containing the term."
   ]
  },
  {
   "cell_type": "code",
   "execution_count": null,
   "metadata": {},
   "outputs": [],
   "source": [
    "# gets a df of all articles containing \"crooked hillary\"\n",
    "ch_articles1_df = keyword_search(\"crooked hillary\", articles1, \"content\")\n",
    "ch_articles2_df = keyword_search(\"crooked hillary\", articles2, \"content\")\n",
    "ch_articles3_df = keyword_search(\"crooked hillary\", articles3, \"content\")\n",
    "ch_articles = pd.concat([ch_articles1_df, ch_articles2_df, ch_articles3_df])\n",
    "ch_articles = ch_articles.drop_duplicates().reset_index(drop=True)\n",
    "ch_articles.head()"
   ]
  },
  {
   "cell_type": "code",
   "execution_count": null,
   "metadata": {},
   "outputs": [],
   "source": [
    "# total articles containing \"crooked hillary\"\n",
    "crooked_hillary_count = ch_articles.size\n",
    "\n",
    "# number of articles containing \"crooked hillary\" by publisher\n",
    "ch_articles_by_pub = ch_articles.groupby([\"publication\"]).size().reset_index(name=\"count\")\n",
    "srtd_ch_articles_by_pub = ch_articles_by_pub.sort_values(\"count\", ascending=False)\n",
    "\n",
    "srtd_ch_articles_by_pub.plot.bar(x=\"publication\", y=\"count\", legend=None)\n",
    "plt.title(\"Published Articles Containing 'Crooked Hillary'\")\n",
    "plt.ylabel(\"# of articles\")"
   ]
  },
  {
   "cell_type": "code",
   "execution_count": null,
   "metadata": {},
   "outputs": [],
   "source": [
    "# breitbart news articles containing \"crooked hillary\" compared to Trump Tweets containing \"crooked hillary\"\n",
    "\n",
    "ch_tweets_16_17 = get_df_by_daterange(ch_tweets, \"2016-01-01\", \"2017-12-31\")\n",
    "\n",
    "# get breitbart article count containing \"crooked hillary\"\n",
    "ch_articles_by_date = ch_articles.groupby([\"date\", \"publication\"]).size().reset_index(name=\"count\")\n",
    "breit_ch_articles_by_date = ch_articles_by_date[ch_articles_by_date.publication == \"Breitbart\"]\n",
    "srtd_breit_ch_articles_by_date = breit_ch_articles_by_date.sort_values(\"date\", ascending=True)\n",
    "srtd_breit_ch_articles_by_date = get_df_by_daterange(srtd_breit_ch_articles_by_date, \"2016-01-01\", \"2017-12-31\")\n",
    "\n",
    "# plot dates by month\n",
    "srtd_breit_ch_articles_by_date['date'] = pd.to_datetime(srtd_breit_ch_articles_by_date['date'])\n",
    "srtd_breit_ch_articles_by_date.set_index('date', inplace = True)\n",
    "srtd_breit_ch_articles_by_date.resample('1M').count()['count'].plot()\n",
    "\n",
    "# plot trump tweets\n",
    "for _, row in ch_tweets_16_17.iterrows():\n",
    "    plt.axvline(x=row.date, color=\"red\", alpha=.05)\n",
    "plt.ylim((0, 16))\n",
    "plt.title(\"Published Breitbart Articles Containing 'Crooked Hillary'\")\n",
    "plt.ylabel(\"# of articles\")"
   ]
  },
  {
   "cell_type": "markdown",
   "metadata": {},
   "source": [
    "Here is another example of Breitbart publishing a number of articles containing a phrase (\"Crooked Hillary\") around the same time Trump was tweeting about it. Trump had tweeted quite a bit during this time range as indicated by the darker red lines. Additionally, both Trump's tweeting of the phrase and Breitbart's publishing taper off at around the same time."
   ]
  },
  {
   "cell_type": "code",
   "execution_count": null,
   "metadata": {},
   "outputs": [],
   "source": [
    "# plot trump tweets with all articles containing \"crooked hillary\"\n",
    "srtd_ch_articles_by_date = ch_articles_by_date.sort_values(\"date\", ascending=True)\n",
    "\n",
    "# group dates by month\n",
    "srtd_ch_articles_by_date['date'] = pd.to_datetime(srtd_ch_articles_by_date['date'])\n",
    "srtd_ch_articles_by_date.set_index('date', inplace = True)\n",
    "srtd_ch_articles_by_date.resample('1M').count()['count'].plot()\n",
    "\n",
    "plt.axvline(x=first_ch_tweet.date, color=\"black\")\n",
    "for _, row in ch_tweets_16_17.iterrows():\n",
    "    plt.axvline(x=row.date, ymin=0, ymax=100, color=\"red\", alpha=.05)\n",
    "plt.ylim((0,70))\n",
    "plt.title(\"Published Articles Containing 'Crooked Hillary'\")\n",
    "plt.ylabel(\"# of articles\")"
   ]
  },
  {
   "cell_type": "markdown",
   "metadata": {},
   "source": [
    "Other media outlets don't appear to jump on the trends at quite the same speed as Breitbart, but there is strong evidence that suggests they will cover what Donald Trump tweets. Many of these articles were published prior to Donald Trump while Donald Trump was campaigning for President. The term \"Crooked Hillary\", unlike \"Fake News\" was not in the common lexicon prior to the 2016 election, becuase it was invented as an insult and a means of undermining the democratic candidate. And our data suggest, that the media played into this plan by perpetuation and amplifying the term, because of Donald Trumps continued use of it."
   ]
  },
  {
   "cell_type": "code",
   "execution_count": null,
   "metadata": {},
   "outputs": [],
   "source": [
    "# \"Witch Hunt\" Term Analysis\n",
    "witch_tweets = keyword_search(\"witch hunt\", rdt_tweets, 'content')\n",
    "witch_gt = gt_to_df(\"witch_hunt_google_trends.csv\")\n",
    "\n",
    "# gets Trump's first tweet containing \"witch hunt\"\n",
    "first_witch_tweet = witch_tweets.sort_values(\"date\").iloc[0] \n",
    "\n",
    "# shortens date range of google trends data\n",
    "witch_2017_gt = get_df_by_daterange(witch_gt, \"2011-01-01\", \"2017-01-01\")\n",
    "\n",
    "# plots Trump's first tweet of \"witch hunt\" with google trends data around same time\n",
    "witch_2017_gt.plot(x=\"date\", y=\"search_popularity\")\n",
    "plt.axvline(x=first_witch_tweet.date, ymin=0, ymax=100, color=\"red\")\n",
    "plt.title(\"Google Trends for 'Witch Hunt'\")\n",
    "plt.ylabel(\"search frequency\")"
   ]
  },
  {
   "cell_type": "code",
   "execution_count": null,
   "metadata": {},
   "outputs": [],
   "source": [
    "# trumps tweets containing \"witch hunt\" compared to twitter trends\n",
    "witch_tt = sw_to_df(\"witch_hunt_twitter_data.json\")\n",
    "witch_17_tweets = get_df_by_daterange(witch_tweets, \"2017-01-01\", \"2018-01-01\")\n",
    "witch_17_tt = get_df_by_daterange(witch_tt, \"2017-01-01\", \"2018-01-01\")\n",
    "witch_17_tt_weeks = group_days_by_week(witch_17_tt, 'frequency')\n",
    "\n",
    "witch_17_tt_weeks.plot(x=\"date\", y=\"rank\")\n",
    "plt.gca().invert_yaxis()\n",
    "for _, row in witch_17_tweets.iterrows():\n",
    "    plt.axvline(x=row.date, ymin=0, ymax=100, color=\"red\", alpha=.5)\n",
    "plt.title(\"Twitter Trends for 'Witch Hunt'\")\n",
    "plt.ylabel(\"rank\")"
   ]
  },
  {
   "cell_type": "code",
   "execution_count": null,
   "metadata": {},
   "outputs": [],
   "source": [
    "# \"China Virus\" Term Analysis\n",
    "chinavirus_tweets = keyword_search(\"china virus\", rdt_tweets, 'content')\n",
    "chinavirus_gt = gt_to_df(\"china_virus_google_trends.csv\")\n",
    "\n",
    "# gets Trump's first tweet containing \"China Virus\"\n",
    "first_chinavirus_tweet = chinavirus_tweets.sort_values(\"date\").iloc[0] \n",
    "print(first_chinavirus_tweet)\n",
    "\n",
    "top_chinavirus_tweet = chinavirus_tweets.sort_values(\"retweets\").iloc[0] \n",
    "print(top_chinavirus_tweet)\n",
    "\n",
    "# shortens date range of google trends data\n",
    "chinavirus_2020_gt = get_df_by_daterange(chinavirus_gt, \"2020-01-01\", \"2021-01-01\")\n",
    "\n",
    "# plots Trump's first tweet of \"China Virus\" with google trends data around same time\n",
    "chinavirus_2020_gt.plot(x=\"date\", y=\"search_popularity\")\n",
    "plt.axvline(x=first_chinavirus_tweet.date, ymin=0, ymax=100, color=\"red\")\n",
    "plt.title(\"Google Trends for 'China Virus'\")\n",
    "plt.ylabel(\"search frequency\")"
   ]
  },
  {
   "cell_type": "code",
   "execution_count": null,
   "metadata": {},
   "outputs": [],
   "source": [
    "# trumps tweets containing \"China Virus\" compared to twitter trends\n",
    "cv_tt = sw_to_df(\"china_virus_twitter_data.json\")\n",
    "cv_20_tweets = get_df_by_daterange(chinavirus_tweets, \"2020-03-15\", \"2020-07-01\")\n",
    "cv_20_tt = get_df_by_daterange(cv_tt, \"2020-03-15\", \"2020-07-01\")\n",
    "cv_20_tt_weeks = group_days_by_week(cv_20_tt, 'frequency')\n",
    "\n",
    "cv_20_tt_weeks.plot(x=\"date\", y=\"rank\")\n",
    "\n",
    "plt.gca().invert_yaxis()\n",
    "for _, row in cv_20_tweets.iterrows():\n",
    "    plt.axvline(x=row.date, ymin=0, ymax=100, color=\"red\", alpha=.5)\n",
    "plt.title(\"Twitter Trends for 'China Virus'\")\n",
    "plt.ylabel(\"rank\")"
   ]
  },
  {
   "cell_type": "code",
   "execution_count": null,
   "metadata": {},
   "outputs": [],
   "source": [
    "# \"Collusion\" Term Analysis\n",
    "collusion_tweets = keyword_search(\"collusion\", rdt_tweets, 'content')\n",
    "collusion_gt = gt_to_df(\"collusion_google_trends.csv\")\n",
    "collusion_tt = sw_to_df(\"collusion_twitter_data.json\")\n",
    "\n",
    "# gets Trump's first tweet containing \"collusion\"\n",
    "first_collusion_tweet = collusion_tweets.sort_values(\"date\").iloc[0]\n",
    "top_collusion_tweet = collusion_tweets.sort_values(\"retweets\").iloc[0]\n",
    "print(top_collusion_tweet)\n",
    "\n",
    "# shortens date range of google trends data\n",
    "collusion_gt = get_df_by_daterange(collusion_gt, \"2016-01-01\", \"2019-01-01\")\n",
    "\n",
    "# plots Trump's first tweet of \"Collusion\" with google trends data around same time\n",
    "collusion_gt.plot(x=\"date\", y=\"search_popularity\")\n",
    "plt.axvline(x=first_collusion_tweet.date, ymin=0, ymax=100, color=\"red\")\n",
    "\n",
    "# plots Trump's top tweet of \"Collusion\" with google trends data around same time\n",
    "plt.axvline(x=top_collusion_tweet.date, ymin=0, ymax=100, color=\"green\")\n",
    "plt.title(\"Google Trends for 'Collusion'\")\n",
    "plt.ylabel(\"search frequency\")"
   ]
  },
  {
   "cell_type": "code",
   "execution_count": null,
   "metadata": {},
   "outputs": [],
   "source": [
    "# trumps tweets containing \"collusion\" compared to twitter trends\n",
    "col_tt = sw_to_df(\"collusion_twitter_data.json\")\n",
    "col_20_tweets = get_df_by_daterange(collusion_tweets, \"2017-01-01\", \"2018-01-01\")\n",
    "col_20_tt = get_df_by_daterange(col_tt, \"2017-01-01\", \"2018-01-01\")\n",
    "col_20_tt_weeks = group_days_by_week(col_20_tt, 'frequency')\n",
    "\n",
    "col_20_tt_weeks.plot(x=\"date\", y=\"rank\")\n",
    "\n",
    "plt.gca().invert_yaxis()\n",
    "for _, row in col_20_tweets.iterrows():\n",
    "    plt.axvline(x=row.date, ymin=0, ymax=100, color=\"red\", alpha=.5)\n",
    "plt.title(\"Twitter Trends for 'Collusion'\")\n",
    "plt.ylabel(\"rank\")"
   ]
  },
  {
   "cell_type": "code",
   "execution_count": null,
   "metadata": {},
   "outputs": [],
   "source": [
    "# gets a df of all articles containing \"collusion\"\n",
    "col_articles1_df = keyword_search(\"collusion\", articles1, \"content\")\n",
    "col_articles2_df = keyword_search(\"collusion\", articles2, \"content\")\n",
    "col_articles3_df = keyword_search(\"collusion\", articles3, \"content\")\n",
    "col_articles = pd.concat([col_articles1_df, col_articles2_df, col_articles3_df])\n",
    "col_articles = col_articles.drop_duplicates().reset_index(drop=True)\n",
    "col_articles.head()"
   ]
  },
  {
   "cell_type": "code",
   "execution_count": null,
   "metadata": {},
   "outputs": [],
   "source": [
    "# total articles containing \"collusion\"\n",
    "collusion_count = fn_articles.size\n",
    "\n",
    "# number of articles containing \"collusion\" by publisher\n",
    "col_articles_by_pub = col_articles.groupby([\"publication\"]).size().reset_index(name=\"count\")\n",
    "srtd_col_articles_by_pub = col_articles_by_pub.sort_values(\"count\", ascending=False)\n",
    "\n",
    "srtd_col_articles_by_pub.plot.bar(x=\"publication\", y=\"count\")\n",
    "plt.title(\"Published Articles Containing 'Collusion'\")\n",
    "plt.ylabel(\"# of articles\")"
   ]
  },
  {
   "cell_type": "code",
   "execution_count": null,
   "metadata": {},
   "outputs": [],
   "source": [
    "# breitbart news articles containing \"collusion\" compared to Trump Tweets containing \"collusion\"\n",
    "\n",
    "col_tweets_16_17 = get_df_by_daterange(collusion_tweets, \"2016-01-01\", \"2018-06-01\")\n",
    "\n",
    "# get breitbart article count containing \"collusion\"\n",
    "col_articles_by_date = col_articles.groupby([\"date\", \"publication\"]).size().reset_index(name=\"count\")\n",
    "breit_col_articles_by_date = col_articles_by_date[col_articles_by_date.publication == \"Breitbart\"]\n",
    "srtd_breit_col_articles_by_date = breit_col_articles_by_date.sort_values(\"date\", ascending=True)\n",
    "srtd_breit_col_articles_by_date = get_df_by_daterange(srtd_breit_col_articles_by_date, \"2016-01-01\", \"2018-06-01\")\n",
    "\n",
    "# plot dates by month\n",
    "srtd_breit_col_articles_by_date['date'] = pd.to_datetime(srtd_breit_col_articles_by_date['date'])\n",
    "srtd_breit_col_articles_by_date.set_index('date', inplace = True)\n",
    "srtd_breit_col_articles_by_date.resample('1M').count()['count'].plot()\n",
    "\n",
    "# plot trump tweets\n",
    "plt.axvline(x=first_collusion_tweet.date, ymin=0, ymax=100, color=\"green\")\n",
    "for _, row in col_tweets_16_17.iterrows():\n",
    "    plt.axvline(x=row.date, ymin=0, ymax=100, color=\"red\", alpha=1)\n",
    "plt.title(\"Breitbart Articles & Trump Tweets Containing 'Collusion'\")\n",
    "plt.ylabel(\"# of articles\")"
   ]
  },
  {
   "cell_type": "code",
   "execution_count": null,
   "metadata": {},
   "outputs": [],
   "source": [
    "# plot trump tweets with all articles containing \"collusion\"\n",
    "srtd_col_articles_by_date = col_articles_by_date.sort_values(\"date\", ascending=True)\n",
    "\n",
    "# group dates by month\n",
    "srtd_col_articles_by_date['date'] = pd.to_datetime(srtd_col_articles_by_date['date'])\n",
    "srtd_col_articles_by_date.set_index('date', inplace = True)\n",
    "srtd_col_articles_by_date.resample('1M').count()['count'].plot()\n",
    "\n",
    "plt.axvline(x=first_collusion_tweet.date, ymin=0, ymax=100, color=\"green\")\n",
    "for _, row in col_tweets_16_17.iterrows():\n",
    "    plt.axvline(x=row.date, ymin=0, ymax=100, color=\"red\", alpha=.1)\n",
    "plt.title(\"All Articles & Trump Tweets Containing 'Collusion'\")\n",
    "plt.ylabel(\"# of articles\")"
   ]
  },
  {
   "cell_type": "code",
   "execution_count": null,
   "metadata": {},
   "outputs": [],
   "source": [
    "# gets a df of all articles containing \"witch hunt\"\n",
    "wh_articles1_df = keyword_search(\"witch hunt\", articles1, \"content\")\n",
    "wh_articles2_df = keyword_search(\"witch hunt\", articles2, \"content\")\n",
    "wh_articles3_df = keyword_search(\"witch hunt\", articles3, \"content\")\n",
    "wh_articles = pd.concat([wh_articles1_df, wh_articles2_df, wh_articles3_df])\n",
    "wh_articles = wh_articles.drop_duplicates().reset_index(drop=True)\n",
    "wh_articles.head()"
   ]
  },
  {
   "cell_type": "code",
   "execution_count": null,
   "metadata": {},
   "outputs": [],
   "source": [
    "# total articles containing \"witch hunt\"\n",
    "witch_media_count = wh_articles.size\n",
    "\n",
    "# number of articles containing \"witch hunt\" by publisher\n",
    "wh_articles_by_pub = wh_articles.groupby([\"publication\"]).size().reset_index(name=\"count\")\n",
    "srtd_wh_articles_by_pub = wh_articles_by_pub.sort_values(\"count\", ascending=False)\n",
    "\n",
    "srtd_wh_articles_by_pub.plot.bar(x=\"publication\", y=\"count\")\n",
    "plt.title(\"All Articles Containing 'Witch Hunt'\")\n",
    "plt.ylabel(\"# of articles\")"
   ]
  },
  {
   "cell_type": "code",
   "execution_count": null,
   "metadata": {},
   "outputs": [],
   "source": [
    "# Washington Post news articles containing \"witch hunt\" compared to Trump Tweets containing \"witch hunt\"\n",
    "\n",
    "wh_tweets_16_17 = get_df_by_daterange(witch_tweets, \"2016-01-01\", \"2018-01-01\")\n",
    "\n",
    "# get breitbart article count containing \"witch hunt\"\n",
    "wh_articles_by_date = wh_articles.groupby([\"date\", \"publication\"]).size().reset_index(name=\"count\")\n",
    "wp_wh_articles_by_date = wh_articles_by_date[wh_articles_by_date.publication == \"Washington Post\"]\n",
    "srtd_wp_wh_articles_by_date = wp_wh_articles_by_date.sort_values(\"date\", ascending=True)\n",
    "srtd_wp_wh_articles_by_date = get_df_by_daterange(srtd_wp_wh_articles_by_date, \"2016-01-01\", \"2018-01-01\")\n",
    "\n",
    "# plot dates by month\n",
    "srtd_wp_wh_articles_by_date['date'] = pd.to_datetime(srtd_wp_wh_articles_by_date['date'])\n",
    "srtd_wp_wh_articles_by_date.set_index('date', inplace = True)\n",
    "srtd_wp_wh_articles_by_date.resample('1M').count()['count'].plot()\n",
    "\n",
    "# plot trump tweets\n",
    "for _, row in wh_tweets_16_17.iterrows():\n",
    "    plt.axvline(x=row.date, ymin=0, ymax=100, color=\"red\", alpha=1)\n",
    "plt.title(\"Washington Post Articles & Trump Tweets Containing 'Witch Hunt'\")\n",
    "plt.ylabel(\"# of articles\")"
   ]
  },
  {
   "cell_type": "code",
   "execution_count": null,
   "metadata": {},
   "outputs": [],
   "source": [
    "# plot trump tweets with all articles containing \"witch hunt\"\n",
    "srtd_wh_articles_by_date = wh_articles_by_date.sort_values(\"date\", ascending=True)\n",
    "\n",
    "# group dates by month\n",
    "srtd_wh_articles_by_date['date'] = pd.to_datetime(srtd_wh_articles_by_date['date'])\n",
    "srtd_wh_articles_by_date.set_index('date', inplace = True)\n",
    "srtd_wh_articles_by_date.resample('1M').count()['count'].plot()\n",
    "\n",
    "plt.axvline(x=first_witch_tweet.date, ymin=0, ymax=100, color=\"green\")\n",
    "for _, row in wh_tweets_16_17.iterrows():\n",
    "    plt.axvline(x=row.date, ymin=0, ymax=100, color=\"red\", alpha=.5)\n",
    "plt.title(\"All Articles & Trump Tweets Containing 'Witch Hunt'\")\n",
    "plt.ylabel(\"# of articles\")"
   ]
  }
 ],
 "metadata": {
  "kernelspec": {
   "display_name": "Python 3",
   "language": "python",
   "name": "python3"
  },
  "language_info": {
   "codemirror_mode": {
    "name": "ipython",
    "version": 3
   },
   "file_extension": ".py",
   "mimetype": "text/x-python",
   "name": "python",
   "nbconvert_exporter": "python",
   "pygments_lexer": "ipython3",
   "version": "3.8.5"
  }
 },
 "nbformat": 4,
 "nbformat_minor": 4
}
